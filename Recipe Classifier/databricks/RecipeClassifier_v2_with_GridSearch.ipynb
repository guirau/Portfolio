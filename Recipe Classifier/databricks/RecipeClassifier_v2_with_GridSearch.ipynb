{
 "cells": [
  {
   "cell_type": "markdown",
   "metadata": {
    "application/vnd.databricks.v1+cell": {
     "cellMetadata": {},
     "inputWidgets": {},
     "nuid": "d8515945-3124-4a8c-a382-7ec5322276ba",
     "showTitle": false,
     "tableResultSettingsMap": {},
     "title": ""
    }
   },
   "source": [
    "# Step Recipe Classifier\n",
    "\n",
    "#### Fine-Tuning CLIP for Image Classification\n",
    "\n",
    "This notebook implements a complete pipeline for fine-tuning OpenAI's [CLIP](https://github.com/openai/CLIP) model on step recipe images. The pipeline includes balanced data loading, augmentation, training with validation, and inference.\n",
    "\n",
    "#### Modular Components:\n",
    "\n",
    "- **TrainingConfig**: Central configuration for hyperparameters, paths, and grid search settings\n",
    "- **DataModule**: Handles dataset loading, preprocessing, and balanced batch sampling\n",
    "- **CLIPModule**: Manages model initialization and training setup\n",
    "- **CLIPTrainer**: Orchestrates training loop, validation, and metric computation\n",
    "- **GridSearchTrainer**: Automates hyperparameter optimization\n",
    "- **Utility Functions**: Standalone tools for monitoring, saving, and loading models\n",
    "\n",
    "#### Key Features:\n",
    "\n",
    "- **Data Management**: Custom dataset handling with balanced sampling and augmentation\n",
    "- **Model Training**: CLIP fine-tuning with early stopping and metric tracking\n",
    "- **Experiment Tracking**: MLflow integration for logging metrics and artifacts\n",
    "- **Grid Search**: Hyperparameter optimization for learning rate and weight decay\n",
    "- **Inference**: Production-ready inference pipeline with optimized model loading\n",
    "\n",
    "*Author: Alejandro Guirau*  \n",
    "*Last Updated: February 2025*"
   ]
  },
  {
   "cell_type": "markdown",
   "metadata": {
    "application/vnd.databricks.v1+cell": {
     "cellMetadata": {},
     "inputWidgets": {},
     "nuid": "261358e4-d50d-422c-ac49-f5cad5da81a7",
     "showTitle": false,
     "tableResultSettingsMap": {},
     "title": ""
    }
   },
   "source": [
    "### Install Libraries"
   ]
  },
  {
   "cell_type": "code",
   "execution_count": 0,
   "metadata": {
    "application/vnd.databricks.v1+cell": {
     "cellMetadata": {
      "byteLimit": 2048000,
      "rowLimit": 10000
     },
     "inputWidgets": {},
     "nuid": "540f5a30-59b7-44b0-9ad1-1253439f2917",
     "showTitle": false,
     "tableResultSettingsMap": {},
     "title": ""
    }
   },
   "outputs": [
    {
     "name": "stdout",
     "output_type": "stream",
     "text": [
      "\u001b[43mNote: you may need to restart the kernel using %restart_python or dbutils.library.restartPython() to use updated packages.\u001b[0m\n"
     ]
    }
   ],
   "source": [
    "!pip install -q --upgrade pip"
   ]
  },
  {
   "cell_type": "code",
   "execution_count": 0,
   "metadata": {
    "application/vnd.databricks.v1+cell": {
     "cellMetadata": {
      "byteLimit": 2048000,
      "rowLimit": 10000
     },
     "inputWidgets": {},
     "nuid": "a44024b0-9ccd-4274-8c09-13c2f2c0210d",
     "showTitle": false,
     "tableResultSettingsMap": {},
     "title": ""
    }
   },
   "outputs": [
    {
     "name": "stdout",
     "output_type": "stream",
     "text": [
      "\u001b[43mNote: you may need to restart the kernel using %restart_python or dbutils.library.restartPython() to use updated packages.\u001b[0m\n"
     ]
    }
   ],
   "source": [
    "!pip install -U -q torch torchmetrics torchvision"
   ]
  },
  {
   "cell_type": "code",
   "execution_count": 0,
   "metadata": {
    "application/vnd.databricks.v1+cell": {
     "cellMetadata": {
      "byteLimit": 2048000,
      "rowLimit": 10000
     },
     "inputWidgets": {},
     "nuid": "908e5efc-8aeb-43ae-b635-a56c222d86ac",
     "showTitle": false,
     "tableResultSettingsMap": {},
     "title": ""
    }
   },
   "outputs": [
    {
     "name": "stdout",
     "output_type": "stream",
     "text": [
      "\u001b[43mNote: you may need to restart the kernel using %restart_python or dbutils.library.restartPython() to use updated packages.\u001b[0m\n",
      "Name: clip\n",
      "Version: 1.0\n",
      "Summary: \n",
      "Home-page: \n",
      "Author: OpenAI\n",
      "Author-email: \n",
      "License: \n",
      "Location: /local_disk0/.ephemeral_nfs/envs/pythonEnv-98bbf3d4-1424-48ef-91bf-d05af59c0a39/lib/python3.11/site-packages\n",
      "Requires: ftfy, packaging, regex, torch, torchvision, tqdm\n",
      "Required-by: \n"
     ]
    }
   ],
   "source": [
    "# Install CLIP from GitHub repo\n",
    "!pip install -q git+https://github.com/openai/CLIP.git\n",
    "!pip show clip"
   ]
  },
  {
   "cell_type": "markdown",
   "metadata": {
    "application/vnd.databricks.v1+cell": {
     "cellMetadata": {},
     "inputWidgets": {},
     "nuid": "c89c7591-52ad-4087-9517-ac062656fe91",
     "showTitle": false,
     "tableResultSettingsMap": {},
     "title": ""
    }
   },
   "source": [
    "### Utility Functions\n",
    "\n",
    "#### Model Utils\n",
    "\n",
    "Utility functions for model management, accuracy computation, and dataset analysis.\n",
    "\n",
    "1. `convert_models_to_fp32`: Converts parameters to 32-bit floating point format.\n",
    "\n",
    "2. `compute_per_class_accuracy`: Calculates accuracy for each class independently. Uses a confusion matrix to handle multi-class scenarios.\n",
    "\n",
    "3. `class_distribution`: Analyzes dataset balance by calculating the percentage of samples per class."
   ]
  },
  {
   "cell_type": "code",
   "execution_count": 0,
   "metadata": {
    "application/vnd.databricks.v1+cell": {
     "cellMetadata": {
      "byteLimit": 2048000,
      "rowLimit": 10000
     },
     "inputWidgets": {},
     "nuid": "29c680fa-b459-4243-87aa-4673bfe5378b",
     "showTitle": false,
     "tableResultSettingsMap": {},
     "title": ""
    }
   },
   "outputs": [
    {
     "name": "stderr",
     "output_type": "stream",
     "text": [
      "Exception ignored on calling ctypes callback function: <function _ThreadpoolInfo._find_modules_with_dl_iterate_phdr.<locals>.match_module_callback at 0x7f6425a131a0>\n",
      "Traceback (most recent call last):\n",
      "  File \"/databricks/python/lib/python3.11/site-packages/threadpoolctl.py\", line 400, in match_module_callback\n",
      "    self._make_module_from_path(filepath)\n",
      "  File \"/databricks/python/lib/python3.11/site-packages/threadpoolctl.py\", line 515, in _make_module_from_path\n",
      "    module = module_class(filepath, prefix, user_api, internal_api)\n",
      "             ^^^^^^^^^^^^^^^^^^^^^^^^^^^^^^^^^^^^^^^^^^^^^^^^^^^^^^\n",
      "  File \"/databricks/python/lib/python3.11/site-packages/threadpoolctl.py\", line 606, in __init__\n",
      "    self.version = self.get_version()\n",
      "                   ^^^^^^^^^^^^^^^^^^\n",
      "  File \"/databricks/python/lib/python3.11/site-packages/threadpoolctl.py\", line 646, in get_version\n",
      "    config = get_config().split()\n",
      "             ^^^^^^^^^^^^^^^^^^\n",
      "AttributeError: 'NoneType' object has no attribute 'split'\n",
      "2025-01-23 19:06:08.710487: I tensorflow/core/platform/cpu_feature_guard.cc:210] This TensorFlow binary is optimized to use available CPU instructions in performance-critical operations.\n",
      "To enable the following instructions: AVX2 FMA, in other operations, rebuild TensorFlow with the appropriate compiler flags.\n"
     ]
    }
   ],
   "source": [
    "import torch\n",
    "import torchmetrics\n",
    "from collections import Counter\n",
    "from torch.utils.data import Dataset\n",
    "\n",
    "def convert_models_to_fp32(model: torch.nn.Module):\n",
    "    \"\"\"Convert model parms and grads to fp32.\"\"\"\n",
    "    for p in model.parameters():\n",
    "        p.data = p.data.float()\n",
    "        if p.requires_grad:\n",
    "            p.grad.data = p.grad.data.float()\n",
    "\n",
    "def compute_per_class_accuracy(pred_labels: torch.Tensor, true_labels: torch.Tensor, num_classes: int, class_names: list[str]) -> dict[str, float]:\n",
    "    \"\"\"\n",
    "    Calculate per-class accuracy using a confusion matrix.\n",
    "    \n",
    "    Args:\n",
    "        pred_labels: Predicted class labels\n",
    "        true_labels: Ground truth labels\n",
    "        num_classes: Total number of classes\n",
    "        class_names: List of class names\n",
    "\n",
    "    Returns:\n",
    "        Dictionary of per-class accuracy\n",
    "    \"\"\"\n",
    "    # Compute confusion matrix\n",
    "    confusion_matrix = torchmetrics.ConfusionMatrix(task=\"multiclass\", num_classes=num_classes)\n",
    "    confusion_matrix = confusion_matrix(pred_labels, true_labels)\n",
    "\n",
    "    # Extract true positives (diag) and total sampes per class (row sum)\n",
    "    true_positives = confusion_matrix.diag()\n",
    "    total_samples_per_class = confusion_matrix.sum(dim=-1)\n",
    "\n",
    "    # Calculate per-class accuracy\n",
    "    per_class_accuracy = {\n",
    "        class_names[i]: (true_positives[i] / total_samples_per_class[i].item() * 100) \n",
    "        if total_samples_per_class[i] > 0 else float(\"nan\") # Handle division by zero\n",
    "        for i in range(num_classes)\n",
    "    }\n",
    "\n",
    "    return per_class_accuracy\n",
    "\n",
    "def class_distribution(dataset: Dataset = None, labels: torch.Tensor = None, class_names: list[str] = None, dataset_name: str = \"\") -> list[tuple[str, float]]:\n",
    "    \"\"\"\n",
    "    Displays and returns class distribution as percentages.\n",
    "\n",
    "    Args:\n",
    "        dataset: The dataset to compute the distribution for.\n",
    "        labels: Tensor of labels to compute the distribution for.\n",
    "        class_names: List of class names for display.\n",
    "        dataset_name: Name of the dataset for display.\n",
    "\n",
    "    Returns:\n",
    "        List of tuples (class_name, percentage)\n",
    "    \"\"\"\n",
    "    if class_names is None:\n",
    "        raise ValueError(\"class_names must be provided.\")\n",
    "\n",
    "    # Count ocurrences of each class\n",
    "    if dataset is not None:\n",
    "        label_counts = Counter()\n",
    "        # Iterate through the dataset to count labels\n",
    "        for _, label in dataset:\n",
    "            label_counts[label] += 1\n",
    "        total_samples = sum(label_counts.values())\n",
    "        class_counts = [label_counts.get(i, 0) for i in range(len(class_names))]\n",
    "    elif labels is not None:\n",
    "        class_counts = torch.bincount(labels, minlength=len(class_names)).numpy()\n",
    "        total_samples = class_counts.sum()\n",
    "    else:\n",
    "        raise ValueError(\"Either dataset or labels must be provided.\")\n",
    "\n",
    "    # Create list of tuples (class_name, percentage)\n",
    "    distribution = [\n",
    "        (class_names[i], (class_counts[i] / total_samples) * 100)\n",
    "        for i in range(len(class_names))\n",
    "        if class_counts[i] > 0  # Exclude classes with zero samples\n",
    "    ]\n",
    "\n",
    "    # Sort by percentage in descending order\n",
    "    distribution.sort(key=lambda x: x[1], reverse=True)\n",
    "\n",
    "    print(f\"{dataset_name} dataset -- Class distribution:\")\n",
    "    for class_name, percentage in distribution:\n",
    "        print(f\"{class_name} -- {percentage:.2f}%\")\n",
    "    print(\"\\n\")"
   ]
  },
  {
   "cell_type": "markdown",
   "metadata": {
    "application/vnd.databricks.v1+cell": {
     "cellMetadata": {},
     "inputWidgets": {},
     "nuid": "982a32a5-532b-416b-9bad-321e59c82dea",
     "showTitle": false,
     "tableResultSettingsMap": {},
     "title": ""
    }
   },
   "source": [
    "#### Logging Utils\n",
    "\n",
    "Utility functions for visualizing model performance through confusion matrices and dataset samples. Logged as artifacts in MLflow experiments.\n",
    "\n",
    "1. `log_confusion_matrix`: Creates normalized confusion matrices to visualize model classification performance.\n",
    "\n",
    "2. `log_random_image`: Samples and visualizes random images from the datases."
   ]
  },
  {
   "cell_type": "code",
   "execution_count": 0,
   "metadata": {
    "application/vnd.databricks.v1+cell": {
     "cellMetadata": {
      "byteLimit": 2048000,
      "rowLimit": 10000
     },
     "inputWidgets": {},
     "nuid": "b4ca6da6-dc77-4b99-a4ab-f38304c4d811",
     "showTitle": false,
     "tableResultSettingsMap": {},
     "title": ""
    }
   },
   "outputs": [],
   "source": [
    "import os\n",
    "import numpy as np\n",
    "\n",
    "import matplotlib.pyplot as plt\n",
    "import seaborn as sns\n",
    "\n",
    "from sklearn.metrics import confusion_matrix, ConfusionMatrixDisplay\n",
    "from sklearn.manifold import TSNE\n",
    "from sklearn.decomposition import PCA\n",
    "\n",
    "import mlflow\n",
    "\n",
    "def log_confusion_matrix(true_labels: torch.Tensor, pred_labels: torch.Tensor, class_names: list[str], epoch: int, mlflow_log: str = \"Val\"):\n",
    "    \"\"\"\n",
    "    Logs a normalized confusion matrix plot to MLflow.\n",
    "    \n",
    "    Args:\n",
    "        true_labels: Ground truth labels tensor\n",
    "        pred_labels: Predicted labels tensor\n",
    "        class_names: List of class names\n",
    "        epoch: Current epoch\n",
    "        mlflow_log: Tag for logging context (e.g. 'Val', 'Test')\n",
    "    \"\"\"\n",
    "    # Compute confusion matrix\n",
    "    cm = confusion_matrix(true_labels.cpu().numpy(), pred_labels.cpu().numpy(), labels=range(len(class_names)))\n",
    "\n",
    "    # Normalize confusion matrix\n",
    "    with np.errstate(divide=\"ignore\", invalid=\"ignore\"):\n",
    "        cm = cm.astype(\"float\") / cm.sum(axis=1, keepdims=True)\n",
    "        cm[np.isnan(cm)] = 0  # Replace NaN with 0\n",
    "\n",
    "    # Plot confusion matrix\n",
    "    fig, ax = plt.subplots(figsize=(20, 20))\n",
    "    disp = ConfusionMatrixDisplay(confusion_matrix=cm, display_labels=class_names)\n",
    "    disp.plot(cmap=plt.cm.Blues, ax=ax, xticks_rotation=90)\n",
    "\n",
    "    # Format numbers to 2 decimal places\n",
    "    for texts in ax.texts:\n",
    "        text = texts.get_text()\n",
    "        texts.set_text(f\"{float(text):.2f}\")\n",
    "\n",
    "    plt.title(f\"Confusion Matrix (Epoch {epoch}) ({mlflow_log})\")\n",
    "    plt.xlabel(\"Predicted Labels\")\n",
    "    plt.ylabel(\"True Labels\")\n",
    "    \n",
    "    # Save the plot temporarily\n",
    "    temp_dir = \"/tmp/confusion_matrices/\"\n",
    "    os.makedirs(temp_dir, exist_ok=True)\n",
    "    plot_path = os.path.join(temp_dir, f\"{mlflow_log}_{epoch:02}_confusion_matrix.png\")\n",
    "    plt.savefig(plot_path, bbox_inches=\"tight\")\n",
    "    plt.close(fig)\n",
    "\n",
    "    # Log plot to MLflow\n",
    "    mlflow.log_artifact(plot_path, artifact_path=\"confusion_matrices\")\n",
    "\n",
    "def log_random_image(dataset: Dataset, class_names: list[str], artifact_path: str = \"augmented_images/train\", counter: int = 1) -> None:\n",
    "    \"\"\"\n",
    "    Log a random image from the dataset with its class label.\n",
    "    \n",
    "    Args:\n",
    "        dataset: Dataset containing images and labels\n",
    "        class_names: List of class names for display\n",
    "        artifact_path: MLflow artifact diretory path\n",
    "        counter: Image counter for filename\n",
    "    \"\"\"\n",
    "    # Randomly select image\n",
    "    idx = random.randint(0, len(dataset) - 1)\n",
    "    image, label = dataset[idx]\n",
    "\n",
    "    # Convert image to displayable format (PIL)\n",
    "    if isinstance(image, torch.Tensor):\n",
    "        image = T.functional.to_pil_image(image)\n",
    "\n",
    "    # Plot the image\n",
    "    fig, ax = plt.subplots(figsize=(6, 6))\n",
    "    ax.imshow(image)\n",
    "    ax.set_title(f\"Class: {class_names[label]}\")\n",
    "    ax.axis(\"off\")\n",
    "\n",
    "    # Save the plot temporarily\n",
    "    temp_dir = f\"/tmp/{artifact_path}\"\n",
    "    os.makedirs(temp_dir, exist_ok=True)\n",
    "    plot_path = os.path.join(temp_dir, f\"{counter:02d}_augmented_image.png\")\n",
    "    plt.savefig(plot_path, bbox_inches=\"tight\")\n",
    "    plt.close(fig)\n",
    "\n",
    "    # Log the image to MLflow\n",
    "    mlflow.log_artifact(plot_path, artifact_path=artifact_path)"
   ]
  },
  {
   "cell_type": "markdown",
   "metadata": {
    "application/vnd.databricks.v1+cell": {
     "cellMetadata": {},
     "inputWidgets": {},
     "nuid": "a6ba9f5a-4e25-4903-9320-d18c26e4fc28",
     "showTitle": false,
     "tableResultSettingsMap": {},
     "title": ""
    }
   },
   "source": [
    "#### Memory Monitoring Utils\n",
    "\n",
    "Utility function for tracking GPU and CPU memory usage during model training\n"
   ]
  },
  {
   "cell_type": "code",
   "execution_count": 0,
   "metadata": {
    "application/vnd.databricks.v1+cell": {
     "cellMetadata": {
      "byteLimit": 2048000,
      "rowLimit": 10000
     },
     "inputWidgets": {},
     "nuid": "1043fe2e-081d-4d18-a54b-867da3f1434d",
     "showTitle": false,
     "tableResultSettingsMap": {},
     "title": ""
    }
   },
   "outputs": [],
   "source": [
    "import psutil\n",
    "\n",
    "def log_memory_usage(epoch, phase=\"Train\"):\n",
    "    \"\"\"Logs memory usage for debugging.\"\"\"\n",
    "    if torch.cuda.is_available():\n",
    "        allocated = torch.cuda.memory_allocated() / (1024 ** 3)  # in GB\n",
    "        reserved = torch.cuda.memory_reserved() / (1024 ** 3)  # in GB\n",
    "        print(f\"[{phase} Epoch {epoch}] GPU Memory: Allocated={allocated:.2f}GB, Reserved={reserved:.2f}GB\")\n",
    "    else:\n",
    "        process = psutil.Process()\n",
    "        memory_info = process.memory_info()\n",
    "        rss = memory_info.rss / (1024 ** 3)  # in GB\n",
    "        print(f\"[{phase} Epoch {epoch}] CPU Memory: RSS={rss:.2f}GB\")"
   ]
  },
  {
   "cell_type": "markdown",
   "metadata": {
    "application/vnd.databricks.v1+cell": {
     "cellMetadata": {},
     "inputWidgets": {},
     "nuid": "8b4edc6b-bdb5-4768-bbcc-7833efed2984",
     "showTitle": false,
     "tableResultSettingsMap": {},
     "title": ""
    }
   },
   "source": [
    "### Early Stopping \n",
    "Implements early stopping functionality to prevent overfitting during model training.\n",
    "\n",
    "It tracks validation metrics, saves the best model checkpoint, and stops training when there hasn't been an improvement for a specified number of epochs."
   ]
  },
  {
   "cell_type": "code",
   "execution_count": 0,
   "metadata": {
    "application/vnd.databricks.v1+cell": {
     "cellMetadata": {
      "byteLimit": 2048000,
      "rowLimit": 10000
     },
     "inputWidgets": {},
     "nuid": "53dc8d1b-5a40-4b09-8b33-eae51df8e923",
     "showTitle": false,
     "tableResultSettingsMap": {},
     "title": ""
    }
   },
   "outputs": [],
   "source": [
    "class EarlyStopping:\n",
    "    \"\"\"\n",
    "    Early stopping to terminate training when validation metric stagnates.\n",
    "    Saves best model checkpoint and tracks improvement over epochs.\n",
    "    \"\"\"\n",
    "    def __init__(self, patience: int = 5, mode: str = \"min\", delta: float = 0, verbose: bool = True):\n",
    "        \"\"\"\n",
    "        Initialize early stopping parameters.\n",
    "        \n",
    "        Args:\n",
    "            patience: How many epochs to wait before stopping.\n",
    "            mode: \"min\" for minimizing, \"max\" for maximizing.\n",
    "            delta: Minimum change to qualify as an improvement.\n",
    "            verbose: Whether to print verbose output.\n",
    "        \"\"\"\n",
    "        self.patience = patience\n",
    "        self.mode = mode\n",
    "        self.delta = delta\n",
    "        self.verbose = verbose\n",
    "        self.best_score = -float(\"inf\") if self.mode == \"max\" else float(\"inf\")\n",
    "        self.best_epoch = None\n",
    "        self.early_stop = None\n",
    "        self.epochs_no_improve = 0\n",
    "\n",
    "    def __call__(self, metric: float, model: torch.nn.Module, optimizer: torch.optim.Optimizer,\n",
    "                 path: str, epoch: int, additional_info: dict = None):\n",
    "        \"\"\"\n",
    "        Checks early stopping conditions and saves the model if metric improves.\n",
    "\n",
    "        Args:\n",
    "            metric: Current validation metric value.\n",
    "            model: Model to save if metric improves.\n",
    "            optimizer: Optimizer state to save.\n",
    "            path: Path to save the model checkpoint.\n",
    "            epoch: Current epoch number.\n",
    "            additional_info (optional): Additional information to save.\n",
    "        \"\"\"\n",
    "        score = metric if self.mode == \"max\" else -metric\n",
    "\n",
    "        # Check if metric improved\n",
    "        improvement = False\n",
    "        if self.mode == \"min\":\n",
    "            improvement = score < self.best_score - self.delta\n",
    "        elif self.mode == \"max\":\n",
    "            improvement = score > self.best_score + self.delta\n",
    "        else:\n",
    "            raise ValueError(f\"Mode {self.mode} is not supported. Use 'min' or 'max'.\")\n",
    "\n",
    "        if self.best_score is None:\n",
    "            self.best_score = score\n",
    "            self.best_epoch = epoch\n",
    "            self.save_checkpoint(metric, model, optimizer, path, epoch, additional_info)\n",
    "        elif improvement:\n",
    "            self.best_score = score\n",
    "            self.best_epoch = epoch\n",
    "            self.save_checkpoint(metric, model, optimizer, path, epoch, additional_info)\n",
    "            self.epochs_no_improve = 0\n",
    "        else:\n",
    "            self.epochs_no_improve += 1\n",
    "            if self.epochs_no_improve >= self.patience:\n",
    "                self.early_stop = True\n",
    "\n",
    "    def save_checkpoint(self, metric: float, model: torch.nn.Module, optimizer: torch.optim.Optimizer,\n",
    "                        path: str, epoch: int, additional_info: dict = None):\n",
    "        \"\"\"\n",
    "        Save model when validation metric improves.\n",
    "        \n",
    "        Args:\n",
    "            metric: Current validation metric value\n",
    "            model: Model to save if metric improves\n",
    "            optimizer: Optimizer state to save\n",
    "            path: Path to save the model checkpoint\n",
    "            epoch: Current epoch number\n",
    "            additional_info (optional): Additional information to save\n",
    "        \"\"\"\n",
    "        if self.verbose:\n",
    "            print(f\"[Best model] Metric improved ({self.best_score:.4f} --> {metric:.4f}). Saving model...\")\n",
    "\n",
    "        checkpoint = {\n",
    "            \"epoch\": epoch,\n",
    "            \"model_state_dict\": model.state_dict(),\n",
    "            \"optimizer_state_dict\": optimizer.state_dict(),\n",
    "            \"metric\": metric,\n",
    "        }\n",
    "\n",
    "        # Add any additional info\n",
    "        if additional_info:\n",
    "            checkpoint.update(additional_info)\n",
    "\n",
    "        # Save checkpoint\n",
    "        torch.save(checkpoint, path)\n",
    "\n",
    "    def reset(self) -> None:\n",
    "        \"\"\"Reset the early stopping variables.\"\"\"\n",
    "        self.best_score = -float(\"inf\") if self.mode == \"max\" else float(\"inf\")\n",
    "        self.best_epoch = None\n",
    "        self.epochs_no_improve = 0\n",
    "        self.early_stop = False"
   ]
  },
  {
   "cell_type": "markdown",
   "metadata": {
    "application/vnd.databricks.v1+cell": {
     "cellMetadata": {},
     "inputWidgets": {},
     "nuid": "12c19ed0-d630-448c-83b0-8871978f2670",
     "showTitle": false,
     "tableResultSettingsMap": {},
     "title": ""
    }
   },
   "source": [
    "### Data Augmentation\n",
    "\n",
    "Provides custom data augmentation and dataset oversampling functionality for CLIP fine-tuning.\n",
    "Augmentations focus on geometric transformations while preserving color information.\n",
    "\n",
    "1. `augment` function: Applies CLIP-specific data augmentation. Uses geometric transformations (crop, affine, flip, perspective), and preserves color information for CLIP compatibility\n",
    "\n",
    "2. `AugmentedOversampledDataset` class: Wraps an existing dataset to handle class imbalance, dynamically generating augmented samples for minority classes."
   ]
  },
  {
   "cell_type": "code",
   "execution_count": 0,
   "metadata": {
    "application/vnd.databricks.v1+cell": {
     "cellMetadata": {
      "byteLimit": 2048000,
      "rowLimit": 10000
     },
     "inputWidgets": {},
     "nuid": "d92ddfb3-a838-4010-9be6-17563d3e259c",
     "showTitle": false,
     "tableResultSettingsMap": {},
     "title": ""
    }
   },
   "outputs": [],
   "source": [
    "import random\n",
    "\n",
    "from PIL import Image\n",
    "\n",
    "import torchvision.transforms as T\n",
    "\n",
    "def augment(image: Image.Image, seed: int = 42) -> Image.Image:\n",
    "    \"\"\"\n",
    "    Apply data augmentation appropriate for CLIP fine-tuning.\n",
    "    \n",
    "    Focuses on geometric transformations while preserving color information\n",
    "    since CLIP's preprocessing already handles color normalization.\n",
    "    \n",
    "    Args:\n",
    "        image: Input PIL image\n",
    "        seed: Random seed for reproducibility\n",
    "        \n",
    "    Returns:\n",
    "        Augmented PIL image\n",
    "    \"\"\"      \n",
    "    torch.manual_seed(seed)\n",
    "\n",
    "    # Random resized crop (maintains most of original content while adding variety)\n",
    "    random_resized_crop = T.RandomResizedCrop(\n",
    "        size=(224, 224), # CLIP's input size\n",
    "        scale=(0.8, 1.0),\n",
    "        ratio=(0.9, 1.1) \n",
    "    )\n",
    "    image = random_resized_crop(image)\n",
    "\n",
    "    # RandomAffine\n",
    "    random_affine = T.RandomAffine(\n",
    "        degrees=15,\n",
    "        translate=(0.1, 0.1),\n",
    "        scale=(0.9, 1.1),\n",
    "        shear=5\n",
    "    )\n",
    "    image = random_affine(image)\n",
    "\n",
    "    # Horizontal Flip (if semantically appropriate for your recipe images)\n",
    "    if random.random() > 0.5:\n",
    "        image = T.functional.hflip(image)\n",
    "\n",
    "    # Random perspective (subtle, to simulate different viewing angles)\n",
    "    perspective_transform = T.RandomPerspective(\n",
    "        distortion_scale=0.2,  # Low distortion\n",
    "        p=0.5\n",
    "    )\n",
    "    image = perspective_transform(image)\n",
    "\n",
    "    return image\n",
    "\n",
    "class AugmentedOversampledDataset(Dataset):\n",
    "    \"\"\"Custom dataset wrapper that oversamples underrepresented classes by duplicating and augmenting their samples.\"\"\"\n",
    "    def __init__(self, subset_dataset: Dataset, original_dataset: Dataset, target_samples_per_class: int, seed: int = 42):\n",
    "        \"\"\"\n",
    "        Initialize the augmented dataset.\n",
    "\n",
    "        Args:\n",
    "            subset_dataset: Dataset to augment.\n",
    "            original_dataset: The original ImageFolder dataset (to access class names).\n",
    "            target_samples_per_class: The target number of samples per class.\n",
    "            seed: Random seed for reproducibility.\n",
    "        \"\"\"\n",
    "        self.subset_dataset = subset_dataset\n",
    "        self.original_dataset = original_dataset\n",
    "        self.target_samples_per_class = target_samples_per_class\n",
    "        self.seed = seed\n",
    "        self.augmented_samples = []\n",
    "\n",
    "        # Oversample and augment underrepresented classes\n",
    "        self._create_augmented_samples()\n",
    "\n",
    "    def _create_augmented_samples(self) -> None:\n",
    "        \"\"\"Creates augmented samples for classes with fewer than target samples.\"\"\"\n",
    "        # Group samples by class\n",
    "        samples_by_class = {class_idx: [] for class_idx in range(len(self.original_dataset.classes))}\n",
    "        for idx in self.subset_dataset.indices:\n",
    "            image, label = self.original_dataset[idx]\n",
    "            samples_by_class[label].append((image, label))\n",
    "\n",
    "        # Duplicate and augment underrepresented classes\n",
    "        for class_idx, samples in samples_by_class.items():\n",
    "            current_count = len(samples)\n",
    "            class_name = self.original_dataset.classes[class_idx]\n",
    "\n",
    "            if current_count < self.target_samples_per_class:\n",
    "                print(f\"Class {class_name}: {current_count} samples -> Target: {self.target_samples_per_class}\")\n",
    "                \n",
    "                additional_samples = []\n",
    "                for _ in range (self.target_samples_per_class - current_count):\n",
    "                    # Randomly pick a sample and apply augmentation\n",
    "                    original_image, label = random.choice(samples)\n",
    "                    augmented_image = augment(original_image, seed=self.seed)\n",
    "                    additional_samples.append((augmented_image, label))\n",
    "\n",
    "                self.augmented_samples.extend(additional_samples)\n",
    "            else:\n",
    "                print(f\"Class {class_name}: {current_count} samples (No augmentation needed)\")\n",
    "\n",
    "\n",
    "    def __len__(self) -> int:\n",
    "        \"\"\"Retruns total length including original and augmented samples.\"\"\"\n",
    "        return len(self.subset_dataset) + len(self.augmented_samples)\n",
    "    \n",
    "    def __getitem__(self, idx: int) -> tuple[Image.Image, int]:\n",
    "        \"\"\"Returns an image/label pair from either original or augmented samples.\"\"\"\n",
    "        if idx < len(self.subset_dataset):\n",
    "            # Get original sample\n",
    "            image, label = self.original_dataset[self.subset_dataset.indices[idx]]\n",
    "        else:\n",
    "            # Get augmented sample\n",
    "            image, label = self.augmented_samples[idx - len(self.subset_dataset)]\n",
    "        return image, label\n"
   ]
  },
  {
   "cell_type": "markdown",
   "metadata": {
    "application/vnd.databricks.v1+cell": {
     "cellMetadata": {},
     "inputWidgets": {},
     "nuid": "6c0c8f04-e3aa-4827-ba97-3456d70d6bca",
     "showTitle": false,
     "tableResultSettingsMap": {},
     "title": ""
    }
   },
   "source": [
    "### Training Configuration\n",
    "Module to handle configuration parameters for CLIP model training. Includes hyperparameter search grids, data paths, and checkpoint settings."
   ]
  },
  {
   "cell_type": "code",
   "execution_count": 0,
   "metadata": {
    "application/vnd.databricks.v1+cell": {
     "cellMetadata": {
      "byteLimit": 2048000,
      "rowLimit": 10000
     },
     "inputWidgets": {},
     "nuid": "798f099d-4f55-4e0a-965d-4c07ba7aa4b0",
     "showTitle": false,
     "tableResultSettingsMap": {},
     "title": ""
    }
   },
   "outputs": [],
   "source": [
    "# -------------\n",
    "# Configuration\n",
    "# -------------\n",
    "\n",
    "from dataclasses import dataclass, field\n",
    "\n",
    "@dataclass\n",
    "class TrainingConfig:\n",
    "    \"\"\"Configuration for CLIP model training.\"\"\"\n",
    "    # Training parameters\n",
    "    BATCH_SIZE: int = 32\n",
    "    NUM_EPOCHS: int = 120\n",
    "    LEARNING_RATE: float = 1e-5\n",
    "    WEIGHT_DECAY: float = 0\n",
    "\n",
    "    # Data parameters\n",
    "    root_dir: str = \"<PATH>\"\n",
    "    DATASET_PATH: str = f\"{root_dir}recipe_classifier/dataset/\"\n",
    "    DATASET_NAME: str = \"dataset_20dec\"\n",
    "\n",
    "    # Checkpoint parameters\n",
    "    SAVE_INTERVAL: int = 10\n",
    "    CHECKPOINT_SAVE_PATH: str = f\"{root_dir}recipe_classifier/checkpoints/2025_01_23/dataset_20dec/b32/\"\n",
    "    best_model_path: str = f\"{CHECKPOINT_SAVE_PATH}best_model.pth\"\n",
    "\n",
    "    # Grid Search parameters\n",
    "    LEARNING_RATE_GRID: list[float] = field(default_factory=lambda: [\n",
    "        # 1e-6, # Very conservative\n",
    "        # 5e-6,\n",
    "        # 7.5e-6,\n",
    "        9e-6,\n",
    "        # 1e-5, # Conservative\n",
    "        # 1.5e-5,\n",
    "        # 2.5e-5,\n",
    "        # 5e-5, # Medium\n",
    "        # 1e-4, # Aggressive\n",
    "        # 5e-4,\n",
    "        ])\n",
    "    WEIGHT_DECAY_GRID: list[float] = field(default_factory=lambda: [\n",
    "        0,    # No regularization\n",
    "        # 1e-5, # Very light\n",
    "        # 1e-4, # Light\n",
    "        # 1e-3, # Medium\n",
    "        # 1e-2, # Strong\n",
    "        # 1e-1, # Aggresive\n",
    "        ])\n",
    "\n",
    "    def __post_init__(self):\n",
    "        \"\"\"Create checkpoint directories.\"\"\"\n",
    "        Path(self.CHECKPOINT_SAVE_PATH).mkdir(parents=True, exist_ok=True)\n",
    "        Path(self.best_model_path).parent.mkdir(parents=True, exist_ok=True)\n",
    "\n",
    "    def to_dict(self) -> dict[str, int | float]:\n",
    "        \"\"\"Convert config to dictionary for logging.\"\"\"\n",
    "        return {\n",
    "            \"BATCH_SIZE\": self.BATCH_SIZE,\n",
    "            \"NUM_EPOCHS\": self.NUM_EPOCHS,\n",
    "            \"LEARNING_RATE\": self.LEARNING_RATE,\n",
    "            \"WEIGHT_DECAY\": self.WEIGHT_DECAY,\n",
    "        }\n"
   ]
  },
  {
   "cell_type": "markdown",
   "metadata": {
    "application/vnd.databricks.v1+cell": {
     "cellMetadata": {},
     "inputWidgets": {},
     "nuid": "a3314eae-db09-456b-aafe-ff002ce93331",
     "showTitle": false,
     "tableResultSettingsMap": {},
     "title": ""
    }
   },
   "source": [
    "### Data Module\n",
    "Module to handle dataset operations including loading, preprocessing, augmentation, and DataLoader creation with balanced batch sampling."
   ]
  },
  {
   "cell_type": "code",
   "execution_count": 0,
   "metadata": {
    "application/vnd.databricks.v1+cell": {
     "cellMetadata": {
      "byteLimit": 2048000,
      "rowLimit": 10000
     },
     "inputWidgets": {},
     "nuid": "c1845e72-1e07-4067-81f8-2ac2895e9b0a",
     "showTitle": false,
     "tableResultSettingsMap": {},
     "title": ""
    }
   },
   "outputs": [],
   "source": [
    "# -------------\n",
    "# Data Module\n",
    "# -------------\n",
    "\n",
    "import torchvision\n",
    "from torch.utils.data import DataLoader, Subset\n",
    "from balanced_batch_sampler import BalancedBatchSampler\n",
    "\n",
    "class DataModule:\n",
    "    \"\"\"\n",
    "    Module for handling dataset loading, preprocessing, train/test splitting,\n",
    "    augmentation, and creation of balanced DataLoaders.\n",
    "\n",
    "    Attributes:\n",
    "        config (TrainingConfig): Configuration module containing data and training parameters.\n",
    "        dataset (torchvision.datasets.ImageFolder): The loaded dataset.\n",
    "    \"\"\"\n",
    "    def __init__(self, config: TrainingConfig):\n",
    "        self.config = config\n",
    "        self.dataset = None\n",
    "\n",
    "    def load_dataset(self, preprocess) -> torchvision.datasets.ImageFolder:\n",
    "        \"\"\"\n",
    "        Load and preprocess the dataset.\n",
    "\n",
    "        Args:\n",
    "            preprocess: CLIP model preprocessing function\n",
    "\n",
    "        Returns:\n",
    "            Loaded and preprocessed ImageFolder dataset\n",
    "        \"\"\"\n",
    "        self.dataset = torchvision.datasets.ImageFolder(\n",
    "            f\"{self.config.DATASET_PATH}{self.config.DATASET_NAME}/\", transform=preprocess\n",
    "            )\n",
    "        return self.dataset\n",
    "    \n",
    "    def prepare_data(self,\n",
    "                     dataset: Dataset,\n",
    "                     train_indices: list[int],\n",
    "                     test_indices: list[int],\n",
    "                     target_samples_per_class: int = None\n",
    "                     ) -> tuple[Dataset, Dataset]:\n",
    "        \"\"\"\n",
    "        Prepare train/test datasets with optional augmentation and oversampling.\n",
    "\n",
    "        Args:\n",
    "            dataset: The complete dataset.\n",
    "            train_indices: Indices for the train dataset.\n",
    "            test_indices: Indices for the test dataset.\n",
    "            target_samples_per_class (optional): The number of samples to oversample each class. Defaults to no oversampling.\n",
    "\n",
    "        Returns:\n",
    "            Tuple of (train_dataset, test_dataset)\n",
    "        \"\"\"\n",
    "        train_dataset = Subset(dataset, train_indices)\n",
    "        test_dataset = Subset(dataset, test_indices)\n",
    "\n",
    "        print(\"---- Before Augmentation ----\")\n",
    "        print(f\"Train dataset size: {len(train_dataset)}\")\n",
    "        print(f\"Test dataset size: {len(test_dataset)}\")\n",
    "\n",
    "        # Apply augmentation and oversampling\n",
    "        if target_samples_per_class:\n",
    "            train_dataset = AugmentedOversampledDataset(train_dataset, dataset, target_samples_per_class)\n",
    "\n",
    "        print(\"\\n---- After Augmentation ----\")\n",
    "        print(f\"Train dataset size: {len(train_dataset)}\")\n",
    "        print(f\"Test dataset size: {len(test_dataset)}\\n\")\n",
    "\n",
    "        return train_dataset, test_dataset\n",
    "    \n",
    "    def get_labels(self, train_indices: list[int], test_indices: list[int]) -> tuple[torch.Tensor, torch.Tensor]:\n",
    "        \"\"\"\n",
    "        Extract labels from train and test datasets.\n",
    "        \n",
    "        Args:\n",
    "            train_indices: Indices for the training dataset.\n",
    "            test_indices: Indices for the test dataset.\n",
    "\n",
    "        Returns:\n",
    "            Tuple with labels for (train, test) datasets.\n",
    "        \"\"\"\n",
    "        train_labels = torch.tensor([self.dataset.targets[i] for i in train_indices])\n",
    "        test_labels = torch.tensor([self.dataset.targets[i] for i in test_indices])\n",
    "        return train_labels, test_labels\n",
    "    \n",
    "    def get_test_labels(self, test_indices: list[int]) -> torch.Tensor:\n",
    "        \"\"\"\n",
    "        Extract labels for test dataset only.\n",
    "        \n",
    "        Args:\n",
    "            test_indices: Indices for the test dataset\n",
    "\n",
    "        Returns:\n",
    "            Tensor of test set labels\n",
    "        \"\"\"\n",
    "        test_labels = torch.tensor([self.dataset.targets[i] for i in test_indices])\n",
    "        return test_labels\n",
    "    \n",
    "    def create_dataloaders(self, \n",
    "                           train_dataset: Dataset, \n",
    "                           test_dataset: Dataset, \n",
    "                           train_indices: list[int], \n",
    "                           test_indices: list[int]\n",
    "                           ) -> tuple[DataLoader, DataLoader]:\n",
    "        \"\"\"\n",
    "        Create DataLoaders with balanced batch sampling for train/test datasets.\n",
    "        \n",
    "        Args:\n",
    "            train_dataset: The train dataset.\n",
    "            test_dataset: The test dataset.\n",
    "            train_indices: Indices for the training dataset.\n",
    "            test_indices: Indices for the test dataset.\n",
    "\n",
    "        Returns:\n",
    "            Tuple of (train_dataloader, test_dataloader)\n",
    "        \"\"\"\n",
    "        # Get labels\n",
    "        train_labels, test_labels = self.get_labels(train_indices, test_indices)\n",
    "\n",
    "        # Create samplers\n",
    "        train_sampler = BalancedBatchSampler(labels=train_labels, n_classes=self.config.BATCH_SIZE, n_samples=1)\n",
    "        test_sampler = BalancedBatchSampler(labels=test_labels, n_classes=self.config.BATCH_SIZE, n_samples=1)\n",
    "\n",
    "        # Create dataloaders\n",
    "        train_dataloader = DataLoader(train_dataset, batch_sampler=train_sampler)\n",
    "        test_dataloader = DataLoader(test_dataset, batch_sampler=test_sampler)\n",
    "\n",
    "        return train_dataloader, test_dataloader\n",
    "    \n",
    "    def create_test_dataloader(self, test_dataset: Dataset, test_indices: list[int]) -> DataLoader:\n",
    "        \"\"\"\n",
    "        Create balanced DataLoader for test dataset only.\n",
    "        \n",
    "        Args:\n",
    "            test_dataset: Test dataset\n",
    "            test_indices: Indices for the test dataset\n",
    "            \n",
    "        Returns:\n",
    "            DataLoader for test dataset\n",
    "        \"\"\"\n",
    "        test_labels = self.get_test_labels(test_indices)\n",
    "        test_sampler = BalancedBatchSampler(labels=test_labels, n_classes=self.config.BATCH_SIZE, n_samples=1)\n",
    "        test_dataloader = DataLoader(test_dataset, batch_sampler=test_sampler)\n",
    "        return test_dataloader\n",
    "    "
   ]
  },
  {
   "cell_type": "markdown",
   "metadata": {
    "application/vnd.databricks.v1+cell": {
     "cellMetadata": {},
     "inputWidgets": {},
     "nuid": "85db1c0a-0b5c-4917-99d6-e23589624b65",
     "showTitle": false,
     "tableResultSettingsMap": {},
     "title": ""
    }
   },
   "source": [
    "### Model Setup Module\n",
    "Manages CLIP model initialization, configuration, and training setup including loss functions and optimizer initialization."
   ]
  },
  {
   "cell_type": "code",
   "execution_count": 0,
   "metadata": {
    "application/vnd.databricks.v1+cell": {
     "cellMetadata": {
      "byteLimit": 2048000,
      "rowLimit": 10000
     },
     "inputWidgets": {},
     "nuid": "6f0cdb25-0169-4686-9433-40afc4e4c216",
     "showTitle": false,
     "tableResultSettingsMap": {},
     "title": ""
    }
   },
   "outputs": [],
   "source": [
    "# -------------\n",
    "# Model Setup\n",
    "# -------------\n",
    "\n",
    "from pathlib import Path\n",
    "import clip\n",
    "\n",
    "class CLIPModule:\n",
    "    \"\"\"\n",
    "    Module for handling the CLIP model loading and training setup.\n",
    "\n",
    "    Attributes:\n",
    "        config (TrainingConfig): Configuration module containing data and training parameters.\n",
    "        model (torch.nn.Module): The loaded CLIP model.\n",
    "        preprocess (callable): Preprocessing function for the CLIP model.\n",
    "        device (str): The device on which the model is loaded (cuda:0 or cpu).\n",
    "    \"\"\"\n",
    "    def __init__(self, config: TrainingConfig):\n",
    "        self.config = config\n",
    "        self.model = None\n",
    "        self.preprocess = None\n",
    "        self.device = \"cuda:0\" if torch.cuda.is_available() else \"cpu\"\n",
    "\n",
    "    def load_model(self, model_name: str = \"ViT-B/32\") -> tuple[torch.nn.Module, callable]:\n",
    "        \"\"\"\n",
    "        Load the CLIP model and preprocessing function.\n",
    "        \n",
    "        Args:\n",
    "            model_name (optional): The name of the CLIP model to load. Defaults to \"ViT-B/32\".\n",
    "\n",
    "        Returns:\n",
    "            Tuple of (model, preprocess_function)\n",
    "        \"\"\"\n",
    "        model, preprocess = clip.load(model_name, device=self.device, jit=False) # jit=False to disable TorchScript for fine-tuning\n",
    "\n",
    "        if self.device == \"cpu\":\n",
    "            model.float() # Converts model to fp32\n",
    "        else:\n",
    "            clip.model.convert_weights(model) # Converts model to fp16 (unnecessary since CLIP already uses fp16 by default)\n",
    "\n",
    "        # Model checkpoints\n",
    "        weights_path = Path(self.config.CHECKPOINT_SAVE_PATH)\n",
    "        weights_path.mkdir(exist_ok=True, parents=True)\n",
    "        \n",
    "        self.model = model\n",
    "        self.preprocess = preprocess\n",
    "        return model, preprocess\n",
    "    \n",
    "    def setup_training(self) -> tuple[torch.nn.Module, torch.nn.Module, torch.optim.AdamW]:\n",
    "        \"\"\"\n",
    "        Setup the training components: loss functions and optimizer.\n",
    "\n",
    "        Returns:\n",
    "            Tuple of (image_loss, text_loss, optimizer)\n",
    "        \"\"\"\n",
    "        # Loss functions\n",
    "        loss_img = torch.nn.CrossEntropyLoss()\n",
    "        loss_txt = torch.nn.CrossEntropyLoss(ignore_index=-1)\n",
    "        \n",
    "        # Optimizer\n",
    "        params = [p for p in self.model.parameters() if p.requires_grad]\n",
    "        optimizer = torch.optim.AdamW(params, lr=self.config.LEARNING_RATE, weight_decay=self.config.WEIGHT_DECAY)\n",
    "\n",
    "        return loss_img, loss_txt, optimizer"
   ]
  },
  {
   "cell_type": "markdown",
   "metadata": {
    "application/vnd.databricks.v1+cell": {
     "cellMetadata": {},
     "inputWidgets": {},
     "nuid": "8f7d5031-4988-45c1-95d8-9937c0cbf5a0",
     "showTitle": false,
     "tableResultSettingsMap": {},
     "title": ""
    }
   },
   "source": [
    "### Model Training Module\n",
    "Trainer module that handles CLIP model training, validation, metrics tracking, and MLflow logging."
   ]
  },
  {
   "cell_type": "code",
   "execution_count": 0,
   "metadata": {
    "application/vnd.databricks.v1+cell": {
     "cellMetadata": {
      "byteLimit": 2048000,
      "rowLimit": 10000
     },
     "inputWidgets": {},
     "nuid": "64d5dd0d-f8d6-403b-af1a-4c2a3d4b1382",
     "showTitle": false,
     "tableResultSettingsMap": {},
     "title": ""
    }
   },
   "outputs": [],
   "source": [
    "# -------------\n",
    "# Model Trainer\n",
    "# -------------\n",
    "\n",
    "import mlflow\n",
    "import clip\n",
    "from tqdm import tqdm\n",
    "\n",
    "class CLIPTrainer:\n",
    "    \"\"\"\n",
    "    Module with methods for training the CLIP model.\n",
    "\n",
    "    Manages the training loop, validation, metric computation, checkpointing,\n",
    "    and experiment tracking via MLflow.\n",
    "\n",
    "    Attributes:\n",
    "        config: Training configuration module\n",
    "        model_module: CLIP model and preprocessing module\n",
    "        data_module: Data loading module\n",
    "        device: Device for training (GPU/CPU)\n",
    "        best_accuracy: Best accuracy achieved during training\n",
    "        early_stopping: Early stopping handler\n",
    "    \"\"\"\n",
    "    def __init__(self, config: TrainingConfig, model_module: CLIPModule, data_module: DataModule):\n",
    "        self.config = config\n",
    "        self.model_module = model_module\n",
    "        self.data_module = data_module\n",
    "        self.device = model_module.device\n",
    "\n",
    "        # Accuracy metrics\n",
    "        self.best_accuracy = 0.0\n",
    "\n",
    "        # Early stopping\n",
    "        self.early_stopping = EarlyStopping(patience=48, mode=\"max\", delta=0.01)\n",
    "\n",
    "    def train(self, train_dataset: Dataset, test_dataset: Dataset, train_indices: list[int], test_indices: list[int]):\n",
    "        \"\"\"\n",
    "        Complete training loop with validation.\n",
    "\n",
    "        Args:\n",
    "            train_dataset: Training dataset\n",
    "            test_dataset: Test/validation dataset\n",
    "            train_indices: Indices for training split\n",
    "            test_indices: Indices for test/validation split\n",
    "        \"\"\"\n",
    "        # Create dataloaders\n",
    "        train_dataloader, test_dataloader = self.data_module.create_dataloaders(train_dataset, test_dataset, train_indices, test_indices)\n",
    "\n",
    "        # Get training components\n",
    "        model = self.model_module.model\n",
    "        loss_img, loss_txt, optimizer = self.model_module.setup_training()\n",
    "\n",
    "        # Compute number of batches\n",
    "        num_batches_train = len(train_dataloader.dataset) / self.config.BATCH_SIZE\n",
    "        num_batches_test = len(test_dataloader.dataset) / self.config.BATCH_SIZE\n",
    "\n",
    "        # Accuracy metrics\n",
    "        num_classes = len(self.data_module.dataset.classes)\n",
    "        cumulative_correct_preds = torch.zeros(num_classes, dtype=torch.long)\n",
    "        cumulative_total_samples = torch.zeros(num_classes, dtype=torch.long)\n",
    "        cumulative_pred_labels = [] # Confusion matrix\n",
    "        cumulative_true_labels = [] # Confusion matrix\n",
    "\n",
    "        # self.early_stopping.reset()\n",
    "\n",
    "        with mlflow.start_run(nested=True):\n",
    "            # Log hyperparameters\n",
    "            mlflow.log_params({\n",
    "                \"batch_size\": self.config.BATCH_SIZE,\n",
    "                \"num_epochs\": self.config.NUM_EPOCHS,\n",
    "                \"learning_rate\": self.config.LEARNING_RATE,\n",
    "                \"weight_decay\": self.config.WEIGHT_DECAY\n",
    "            })\n",
    "\n",
    "            # Log random images as artifacts to review augmentation\n",
    "            [log_random_image(train_dataset, self.data_module.dataset.classes, counter=i) for i in range(1, 6)]\n",
    "\n",
    "            for epoch in range(self.config.NUM_EPOCHS):\n",
    "                print(f\"\\nEpoch {epoch+1}/{self.config.NUM_EPOCHS}\")\n",
    "\n",
    "                log_memory_usage(epoch+1, phase=\"Train - Start\") # DEV\n",
    "\n",
    "                # Training phase\n",
    "                epoch_train_loss = self._train_epoch(train_dataloader, model, optimizer, loss_img, loss_txt, num_batches_train)\n",
    "                print(f\"Epoch {epoch} train loss: {epoch_train_loss}\")\n",
    "                mlflow.log_metric(\"Loss/train\", epoch_train_loss, step=epoch)\n",
    "\n",
    "                # Save model checkpoint\n",
    "                if epoch % self.config.SAVE_INTERVAL == 0:\n",
    "                    checkpoint = {\n",
    "                        \"epoch\": epoch,\n",
    "                        \"model_state_dict\": model.state_dict(),\n",
    "                        \"optimizer_state_dict\": optimizer.state_dict()\n",
    "                        }\n",
    "                    checkpoint_path = Path(self.config.CHECKPOINT_SAVE_PATH) / f\"epoch_{epoch}.pt\"\n",
    "                    torch.save(checkpoint, checkpoint_path)\n",
    "                    print(f\"[Checkpoint] Saved under {checkpoint_path}\\n\")\n",
    "\n",
    "                log_memory_usage(epoch+1, phase=\"Train - End / Test - Start\") # DEV\n",
    "\n",
    "                # Testing phase\n",
    "                epoch_test_loss = self._test_epoch(\n",
    "                    test_dataloader, model, optimizer, loss_img, loss_txt, num_batches_test, cumulative_correct_preds, cumulative_total_samples, cumulative_pred_labels, cumulative_true_labels, epoch\n",
    "                    )\n",
    "                print(f\"Epoch {epoch} test loss: {epoch_test_loss}\\n\")\n",
    "                mlflow.log_metric(\"Loss/test\", epoch_test_loss, step=epoch)\n",
    "\n",
    "                log_memory_usage(epoch+1, phase=\"Test - End\") # DEV\n",
    "\n",
    "                # Early stopping check\n",
    "                if self.early_stopping.early_stop:\n",
    "                    print(f\"Early stopping triggered after {epoch+1} epochs.\")\n",
    "                    break\n",
    "\n",
    "    def _train_epoch(self, train_dataloader: DataLoader, model: torch.nn.Module, optimizer: torch.nn.Optimizer, \n",
    "                     loss_img: torch.nn.Module, loss_txt: torch.nn.Module, num_batches_train: int) -> float:\n",
    "        \"\"\"\n",
    "        Training loop for a single epoch.\n",
    "\n",
    "        Args:\n",
    "            train_dataloader: Training dataloader\n",
    "            model: CLIP model\n",
    "            optimizer: Optimizer\n",
    "            loss_img: Image loss function\n",
    "            loss_txt: Text loss function\n",
    "            num_batches_train: Number of training batches\n",
    "        \n",
    "        Returns:\n",
    "            Average training loss for the epoch\n",
    "        \"\"\"\n",
    "        model.train()\n",
    "        epoch_train_loss = 0\n",
    "\n",
    "        for batch in tqdm(train_dataloader, total=num_batches_train):\n",
    "            optimizer.zero_grad() # Clear gradients from previous iteration\n",
    "\n",
    "            images, label_ids = batch\n",
    "\n",
    "            images = torch.stack([img for img in images], dim=0).to(self.device) # Stack images into a single tensor (adds an extra dim representing the batch)\n",
    "            # Generate text prompts: the number of text prompts will be equal to the number of images in the batch (label_ids)\n",
    "            # Scenario: matching each image with its corresponding text prompt, doesn't allow for comparison against other text prompts\n",
    "            # texts = [f\"A photo of a {train_dataset.dataset.classes[label_id]}\" for label_id in label_ids]\n",
    "            texts = [f\"A photo of a {self.data_module.dataset.classes[label_id]}\" for label_id in label_ids]\n",
    "            text = clip.tokenize(texts).to(self.device) # Tokenize text prompts \n",
    "            \n",
    "            logits_per_image, logits_per_text = model(images, text) # Forward pass\n",
    "\n",
    "            # Ground truth labels: For each batch, the i-th image corresponds to the i-th text\n",
    "            # Therefore, the i-th image should have the same label as the i-th text, i.e. [0, 1, 2, ..., BATCH_SIZE - 1]\n",
    "            # The same happens for text, so we use the same ground truth for both image and text\n",
    "            ground_truth = torch.arange(logits_per_image.shape[0], dtype=torch.long, device=self.device)\n",
    "\n",
    "            # Compute loss\n",
    "            total_train_loss = (loss_img(logits_per_image, ground_truth) + loss_txt(logits_per_text, ground_truth)) / 2\n",
    "            total_train_loss.backward() # Backward pass\n",
    "            epoch_train_loss += total_train_loss\n",
    "\n",
    "            torch.nn.utils.clip_grad_norm_(model.parameters(), 1.0) # Clip gradients to prevent exploding gradients\n",
    "\n",
    "            if self.device == \"cpu\":\n",
    "                optimizer.step() # Update weights\n",
    "            else:\n",
    "                convert_models_to_fp32(model)\n",
    "                optimizer.step() # Update weights\n",
    "                clip.model.convert_weights(model)\n",
    "\n",
    "        # Average loss per epoch\n",
    "        return epoch_train_loss / num_batches_train\n",
    "    \n",
    "\n",
    "    def _test_epoch(self, test_dataloader: DataLoader, model: torch.nn.Module, optimizer: torch.nn.Optimizer, \n",
    "                    loss_img: torch.nn.Module, loss_txt: torch.nn.Module, num_batches_test: int, \n",
    "                    cumulative_correct_preds: torch.Tensor, cumulative_total_samples: torch.Tensor, \n",
    "                    cumulative_pred_labels: list[torch.Tensor], cumulative_true_labels: list[torch.Tensor], \n",
    "                    epoch: int, enable_early_stopping: bool = True, mlflow_log: str = \"Val\"):\n",
    "        \"\"\"\n",
    "        Validate the model and compute metrics.\n",
    "        \n",
    "        Args:\n",
    "            test_dataloader: Test dataloader\n",
    "            model: CLIP model\n",
    "            optimizer: Optimizer\n",
    "            loss_img: Image loss function\n",
    "            loss_txt: Text loss function\n",
    "            num_batches_test: Number of test batches\n",
    "            cumulative_correct_preds: Cumulative number of correct predictions\n",
    "            cumulative_total_samples: Cumulative number of samples\n",
    "            cumulative_pred_labels: Cumulative list of predicted labels\n",
    "            cumulative_true_labels: Cumulative list of true labels\n",
    "            epoch: Current epoch number\n",
    "            enable_earlystopping: Whether to enable early stopping or not\n",
    "            mlflow_log: Tag for logging metrics (e.g. 'Val' or 'Test')\n",
    "            \n",
    "        Returns:\n",
    "            Average test loss for the epoch\n",
    "        \"\"\"\n",
    "        model.eval()\n",
    "        epoch_test_loss = 0\n",
    "\n",
    "        # Accurary metrics\n",
    "        acc_top3_list = []\n",
    "        acc_top1_list = []\n",
    "        all_pred_labels = []\n",
    "        all_true_labels = []\n",
    "\n",
    "        num_classes = len(self.data_module.dataset.classes)\n",
    "        classes = torch.arange(num_classes, device=self.device)\n",
    "\n",
    "        for i, batch in enumerate(tqdm(test_dataloader, total=num_batches_test)):\n",
    "            images, label_ids = batch\n",
    "            images = images.to(self.device)\n",
    "            label_ids = label_ids.to(self.device)\n",
    "\n",
    "            # Generate text prompts: the number of text prompts will be equal to the number of classes in the dataset (classes)\n",
    "            # Scenario: classifying each image against all possible classes, allows for comparison against all classes\n",
    "            texts = torch.cat([clip.tokenize(f\"A photo of a {c}\") for c in self.data_module.dataset.classes]).to(self.device) # Concatenate text prompts\n",
    "       \n",
    "            with torch.no_grad():\n",
    "                image_features = model.encode_image(images)\n",
    "                text_features = model.encode_text(texts)\n",
    "\n",
    "                logits_per_image, logits_per_text = model(images, texts) # Forward pass\n",
    "\n",
    "                # Ground truths\n",
    "                ground_truth_img = torch.arange(logits_per_image.shape[0], dtype=torch.long, device=self.device)\n",
    "                ground_truth_txt = -1 * torch.ones(len(classes), dtype=torch.long, device=self.device)\n",
    "                for idx, class_label in enumerate(classes):\n",
    "                    if class_label in label_ids:\n",
    "                        ground_truth_txt[idx] = (label_ids == class_label).nonzero(as_tuple=True)[0].item()\n",
    "\n",
    "                # Compute loss\n",
    "                img_loss = loss_img(logits_per_image, ground_truth_img)\n",
    "                txt_loss = loss_txt(logits_per_text, ground_truth_txt)\n",
    "                total_loss = (img_loss + txt_loss) / 2\n",
    "                epoch_test_loss += total_loss\n",
    "\n",
    "                # Normalize features\n",
    "                image_features /= image_features.norm(dim=-1, keepdim=True)\n",
    "                text_features /= text_features.norm(dim=-1, keepdim=True)\n",
    "\n",
    "                assert torch.equal(logits_per_image.T, logits_per_text), \"Logits are not equal\"\n",
    "\n",
    "                # Compute cosine similarity\n",
    "                similarity = (100.0 * image_features @ text_features.T).softmax(dim=-1)\n",
    "\n",
    "                # [top acc] Compute top accuracy\n",
    "                acc_top1 = torchmetrics.functional.accuracy(similarity, label_ids, task=\"multiclass\", num_classes=num_classes)\n",
    "                acc_top3 = torchmetrics.functional.accuracy(similarity, label_ids, task=\"multiclass\", num_classes=num_classes, top_k=3)\n",
    "                acc_top1_list.append(acc_top1)\n",
    "                acc_top3_list.append(acc_top3)\n",
    "\n",
    "                # [per-class acc] Collect predictions and labels\n",
    "                predicted_labels = similarity.argmax(dim=-1)\n",
    "                all_pred_labels.append(predicted_labels)\n",
    "                all_true_labels.append(label_ids)\n",
    "\n",
    "                # [confusion matrix] Collect predictions and labels\n",
    "                cumulative_pred_labels.append(torch.cat(all_pred_labels))\n",
    "                cumulative_true_labels.append(torch.cat(all_true_labels))\n",
    "\n",
    "        # [per-class acc] Overall predictions, labels, and accuracy\n",
    "        all_pred_labels = torch.cat(all_pred_labels)\n",
    "        all_true_labels = torch.cat(all_true_labels)\n",
    "\n",
    "        # [confusion matrix]\n",
    "        accumulated_pred_labels = torch.cat(cumulative_pred_labels)\n",
    "        accumulated_true_labels = torch.cat(cumulative_true_labels)\n",
    "\n",
    "        # [confusion matrix] Log confusion matrix\n",
    "        log_confusion_matrix(accumulated_true_labels, accumulated_pred_labels, self.data_module.dataset.classes, epoch, mlflow_log)\n",
    "\n",
    "        # [per-class acc] Update cumulative per-class counters\n",
    "        for class_idx in range(num_classes):\n",
    "            class_mask = (all_true_labels == class_idx)\n",
    "            correct_class_preds = (all_pred_labels[class_mask] == all_true_labels[class_mask]).sum().item()\n",
    "            total_class_samples = class_mask.sum().item()\n",
    "\n",
    "            cumulative_correct_preds[class_idx] += correct_class_preds\n",
    "            cumulative_total_samples[class_idx] += total_class_samples\n",
    "\n",
    "        # [per-class acc] Calculate and log cumulative per-class accuracy\n",
    "        class_accs = [] # Store class accuracies for averaging\n",
    "        for class_idx, class_name in enumerate(self.data_module.dataset.classes):\n",
    "            if cumulative_total_samples[class_idx] > 0:\n",
    "                accuracy = (cumulative_correct_preds[class_idx].item() / cumulative_total_samples[class_idx].item()) * 100\n",
    "                class_accs.append(accuracy)\n",
    "            else:\n",
    "                accuracy = float(\"nan\")\n",
    "            print(f\"Cumulative Accuracy for {class_name}: {accuracy:.2f}%\")\n",
    "            mlflow.log_metric(f\"{mlflow_log}/Cumulative Accuracy/{class_name}\", accuracy, step=epoch)\n",
    "\n",
    "        # [top acc] Compute mean top3 and top1 accuracy\n",
    "        mean_top3_accuracy = torch.stack(acc_top3_list).mean().cpu().numpy()\n",
    "        print(f\"\\nMean Top 3 Accuracy ({mlflow_log}): {mean_top3_accuracy*100:.2f}%\")\n",
    "        mlflow.log_metric(f\"{mlflow_log}/Accuracy/Top3\", mean_top3_accuracy, step=epoch)\n",
    "        mean_top1_accuracy = torch.stack(acc_top1_list).mean().cpu().numpy()\n",
    "        print(f\"Mean Top 1 Accuracy ({mlflow_log}): {mean_top1_accuracy*100:.2f}%\")\n",
    "        mlflow.log_metric(f\"{mlflow_log}/Accuracy/Top1\", mean_top1_accuracy, step=epoch)\n",
    "\n",
    "        # [macro-avg acc] Compute macro avg accuracy\n",
    "        macro_accuracy = sum(class_accs) / len(class_accs) if class_accs else float(\"nan\")\n",
    "        print(f\"Macro-averaged Accuracy ({mlflow_log}): {macro_accuracy:.2f}%\")\n",
    "        mlflow.log_metric(f\"{mlflow_log}/Accuracy/Macro-avg\", macro_accuracy, step=epoch)\n",
    "\n",
    "        # Save best model if macro average accuracy improves\n",
    "        if enable_early_stopping: # Early stopping only during training\n",
    "            self.early_stopping(macro_accuracy, model, optimizer, self.config.best_model_path, epoch)\n",
    "\n",
    "        # Average loss per epoch\n",
    "        return epoch_test_loss / num_batches_test\n",
    "    \n",
    "    def evaluate(self, test_dataset: Dataset, test_indices: list[int]) -> None:\n",
    "        \"\"\"\n",
    "        Evaluate the best model on the test set.\n",
    "        \n",
    "        Args:\n",
    "            test_dataset: Test dataset\n",
    "            test_indices: Indices of the test set\n",
    "        \"\"\"\n",
    "        # Load best model\n",
    "        checkpoint = torch.load(self.config.best_model_path)\n",
    "        self.model_module.model.load_state_dict(checkpoint[\"model_state_dict\"])\n",
    "\n",
    "        # Get loss functions from model module\n",
    "        loss_img, loss_txt, _ = self.model_module.setup_training()\n",
    "\n",
    "        # Create test dataloader\n",
    "        test_dataloader = self.data_module.create_test_dataloader(test_dataset, test_indices)\n",
    "\n",
    "        # Run evaluation\n",
    "        with mlflow.start_run(nested=True, run_name=\"test_evaluation\"):\n",
    "            self._test_epoch(test_dataloader,\n",
    "                            self.model_module.model,\n",
    "                            None, # Optimizer not needed for evaluation\n",
    "                            loss_img,\n",
    "                            loss_txt,\n",
    "                            len(test_dataloader.dataset) / self.config.BATCH_SIZE,\n",
    "                            torch.zeros(len(self.data_module.dataset.classes), dtype=torch.long), # Empty tensors to avoid erros (cumulative accuracy metrics)\n",
    "                            torch.zeros(len(self.data_module.dataset.classes), dtype=torch.long), # Empty tensors to avoid erros (cumulative accuracy metrics)\n",
    "                            [], # Empty tensors to avoid erros (cumulative accuracy metrics)\n",
    "                            [], # Empty tensors to avoid erros (cumulative accuracy metrics)\n",
    "                            epoch=0, # Not relevant for final evaluation\n",
    "                            enable_early_stopping=False,\n",
    "                            mlflow_log=\"Test\",\n",
    "                            )\n"
   ]
  },
  {
   "cell_type": "markdown",
   "metadata": {
    "application/vnd.databricks.v1+cell": {
     "cellMetadata": {},
     "inputWidgets": {},
     "nuid": "29e8df09-a759-41e7-baa2-78114d4f75f2",
     "showTitle": false,
     "tableResultSettingsMap": {},
     "title": ""
    }
   },
   "source": [
    "### Training Pipeline\n",
    "\n",
    "#### Main Entry Point\n",
    "\n",
    "Main script for initializing and executing the CLIP model training pipeline with dataset preparation and augmentation."
   ]
  },
  {
   "cell_type": "code",
   "execution_count": 0,
   "metadata": {
    "application/vnd.databricks.v1+cell": {
     "cellMetadata": {
      "byteLimit": 2048000,
      "rowLimit": 10000
     },
     "inputWidgets": {},
     "nuid": "aa9784b3-f323-40c1-8452-895968f89bff",
     "showTitle": false,
     "tableResultSettingsMap": {},
     "title": ""
    }
   },
   "outputs": [],
   "source": [
    "# ----------\n",
    "# Main\n",
    "# ----------\n",
    "\n",
    "from torch.utils.data import random_split\n",
    "\n",
    "def run_training(config: TrainingConfig = None):\n",
    "    \"\"\"\n",
    "    Runs complete CLIP training pipeline.\n",
    "\n",
    "    Handles:\n",
    "        - Configuration and module initialization\n",
    "        - Dataset loading and splitting\n",
    "        - Data augmentation and oversampling\n",
    "        - Training and validation\n",
    "    \"\"\"\n",
    "    # Set random seeds\n",
    "    torch.manual_seed(0)\n",
    "    random.seed(0)\n",
    "    np.random.seed(0)\n",
    "\n",
    "    # Init modules\n",
    "    config = TrainingConfig() if config is None else config\n",
    "    data_module = DataModule(config)\n",
    "    model_module = CLIPModule(config)\n",
    "\n",
    "    # Load model and dataset\n",
    "    model, preprocess = model_module.load_model()\n",
    "    dataset = data_module.load_dataset(preprocess)\n",
    "                                       \n",
    "    # Split dataset into train+val/test\n",
    "    train_val_size = int(0.9 * len(dataset))\n",
    "    test_size = len(dataset) - train_val_size\n",
    "    train_val_indices, test_indices = random_split(range(len(dataset)), [train_val_size, test_size])\n",
    "    # Split train+val into train/validation\n",
    "    train_size = int(0.9 * train_val_size)\n",
    "    val_size = train_val_size - train_size\n",
    "    train_indices, val_indices = random_split(train_val_indices, [train_size, val_size])\n",
    "\n",
    "    print(f\"Train size: {train_size}/{len(dataset)}, Val size: {val_size}/{len(dataset)}, Test size: {test_size}/{len(dataset)}\")\n",
    "\n",
    "    # Prepare datasets with augmentation\n",
    "    train_dataset, val_dataset = data_module.prepare_data(dataset, train_indices, val_indices, target_samples_per_class=10)\n",
    "\n",
    "    # Display train/val dataset distribution\n",
    "    train_labels, val_labels = data_module.get_labels(train_indices, val_indices)\n",
    "    print(f\"All of the dataset's classes: {dataset.classes}\\n\")\n",
    "    class_distribution(labels=train_labels, class_names=dataset.classes, dataset_name=\"Train (before augmentation)\")\n",
    "    class_distribution(labels=val_labels, class_names=dataset.classes, dataset_name=\"Validation (before augmentation)\")\n",
    "\n",
    "    # Oversample + Augmentation class distribution\n",
    "    # class_distribution(dataset=train_dataset, class_names=dataset.classes, dataset_name=\"Train (after augmentation)\")\n",
    "    # class_distribution(dataset=val_dataset, class_names=dataset.classes, dataset_name=\"Validation (after augmentation)\")\n",
    "\n",
    "    # Regular training\n",
    "    trainer = CLIPTrainer(config, model_module, data_module)\n",
    "    trainer.train(train_dataset, val_dataset, train_indices, val_indices)\n",
    "\n",
    "    # Evaluate on test set\n",
    "    print(\"\\nEvaluating on the test dataset...\\n\")\n",
    "    test_dataset = Subset(dataset, test_indices)\n",
    "    trainer.evaluate(test_dataset, test_indices)\n",
    "    print(\"\\nModel fine-tuning complete.\")\n",
    "\n",
    "    return {\n",
    "        \"macro_accuracy\": trainer.early_stopping.best_score, # Validation accuracy\n",
    "        \"best_epoch\": trainer.early_stopping.best_epoch,\n",
    "    }\n"
   ]
  },
  {
   "cell_type": "markdown",
   "metadata": {
    "application/vnd.databricks.v1+cell": {
     "cellMetadata": {},
     "inputWidgets": {},
     "nuid": "74855567-f248-4b6e-a549-0f0b9dace7b3",
     "showTitle": false,
     "tableResultSettingsMap": {},
     "title": ""
    }
   },
   "source": [
    "#### Grid Search Training Module\n",
    "Manages hyperparameter grid search for CLIP model training, tracking results and identifying best parameters."
   ]
  },
  {
   "cell_type": "code",
   "execution_count": 0,
   "metadata": {
    "application/vnd.databricks.v1+cell": {
     "cellMetadata": {
      "byteLimit": 2048000,
      "rowLimit": 10000
     },
     "inputWidgets": {},
     "nuid": "2d6065b0-b9ba-454f-9ae1-5ef55641288e",
     "showTitle": false,
     "tableResultSettingsMap": {},
     "title": ""
    }
   },
   "outputs": [],
   "source": [
    "class GridSearchTrainer:\n",
    "    \"\"\"\n",
    "    Runs grid search over learning rates and weight decay values.\n",
    "\n",
    "    Manages multiple training runs with different hyperparameters, tracks performance metrics,\n",
    "    and identifies best configuration.\n",
    "\n",
    "    Attributes:\n",
    "        config: TrainingConfig object\n",
    "        base_checkpoint_path: Root path for checkpoints\n",
    "        results: List of results from each run\n",
    "    \"\"\"\n",
    "    def __init__(self):\n",
    "        self.config = TrainingConfig()\n",
    "        self.base_checkpoint_path = self.config.CHECKPOINT_SAVE_PATH\n",
    "        self.results = []\n",
    "\n",
    "    def run_grid_search(self) -> dict[str, float]:\n",
    "        \"\"\"\n",
    "        Runs grid search on hyperparameters.\n",
    "        \n",
    "        Performs training runs for each combination of learning rate and weight decay values,\n",
    "        tracking performance metrics.\n",
    "        \n",
    "        Returns:\n",
    "            Best performing parameter combination, or None if all runs fail.\n",
    "        \"\"\"\n",
    "        mlflow.end_run() if mlflow.active_run() else None\n",
    "\n",
    "        for lr in self.config.LEARNING_RATE_GRID:\n",
    "            for wd in self.config.WEIGHT_DECAY_GRID:\n",
    "                print(f\"\\n{'='*20} Learning Rate: {lr} / Weight Decay: {wd} {'='*20}\")\n",
    "                with mlflow.start_run(run_name=f\"lr_{lr}_wd_{wd}\"):\n",
    "                    try:\n",
    "                        # Update config for this run\n",
    "                        self.config.LEARNING_RATE = lr\n",
    "                        self.config.WEIGHT_DECAY = wd\n",
    "\n",
    "                        # Create new checkpoint path for these hyperparameters\n",
    "                        run_name = f\"lr_{lr}_wd_{wd}\"\n",
    "                        self.config.CHECKPOINT_SAVE_PATH = f\"{self.base_checkpoint_path}{run_name}/\"\n",
    "                        self.config.best_model_path = f\"{self.config.CHECKPOINT_SAVE_PATH}best_model.pth\"\n",
    "\n",
    "                        # Run training\n",
    "                        final_metrics = run_training(self.config)\n",
    "                        self.results.append({\n",
    "                            \"learning_rate\": lr,\n",
    "                            \"weight_decay\": wd,\n",
    "                            **final_metrics\n",
    "                        })\n",
    "                    except Exception as e:\n",
    "                        print(f\"Run failed with lr={lr}, wd={wd}: {str(e)}\")\n",
    "                        mlflow.end_run()\n",
    "                        continue\n",
    "\n",
    "        return self.find_best_params()\n",
    "    \n",
    "    def find_best_params(self) -> dict[str, float]:\n",
    "        \"\"\"\n",
    "        Finds the hyperparameters that gave the best macro average accuracy.\n",
    "        \n",
    "        Returns:\n",
    "            Dictionary with best parameters and performance, or None if no results\n",
    "        \"\"\"\n",
    "        if not self.results:\n",
    "            return None\n",
    "        \n",
    "        # Sort results by macro avg accuracy\n",
    "        results = sorted(self.results, key=lambda x: x.get(\"macro_accuracy\", -float(\"inf\")), reverse=True)\n",
    "\n",
    "        best_run = results[0]\n",
    "        print(\"\\nBest parameters found:\")\n",
    "        print(f\"Learning Rate: {best_run['learning_rate']}\")\n",
    "        print(f\"Weight Decay: {best_run['weight_decay']}\")\n",
    "        print(f\"Macro Accuracy: {best_run['macro_accuracy']:.2f}%\")"
   ]
  },
  {
   "cell_type": "code",
   "execution_count": 0,
   "metadata": {
    "application/vnd.databricks.v1+cell": {
     "cellMetadata": {
      "byteLimit": 2048000,
      "rowLimit": 10000
     },
     "inputWidgets": {},
     "nuid": "9c98fa31-eda4-4a64-8c24-843b98eca6c8",
     "showTitle": false,
     "tableResultSettingsMap": {},
     "title": ""
    }
   },
   "outputs": [
    {
     "name": "stderr",
     "output_type": "stream",
     "text": [
      "\r  0%|                                               | 0.00/338M [00:00<?, ?iB/s]\r  4%|█▌                                     | 14.0M/338M [00:00<00:02, 146MiB/s]\r  8%|███▏                                   | 27.9M/338M [00:00<00:02, 139MiB/s]\r 12%|████▊                                  | 41.2M/338M [00:00<00:02, 136MiB/s]\r 16%|██████▎                                | 55.1M/338M [00:00<00:02, 139MiB/s]\r 20%|███████▉                               | 68.4M/338M [00:00<00:02, 128MiB/s]\r 24%|█████████▎                             | 80.8M/338M [00:00<00:02, 124MiB/s]\r 27%|██████████▋                            | 92.7M/338M [00:00<00:02, 121MiB/s]\r 31%|████████████▍                           | 105M/338M [00:00<00:01, 123MiB/s]\r 35%|█████████████▊                          | 116M/338M [00:00<00:01, 121MiB/s]\r 38%|███████████████▏                        | 128M/338M [00:01<00:01, 116MiB/s]\r 41%|████████████████▍                       | 139M/338M [00:01<00:01, 113MiB/s]\r 44%|█████████████████▊                      | 150M/338M [00:01<00:01, 109MiB/s]\r 48%|███████████████████                     | 160M/338M [00:01<00:01, 109MiB/s]\r 51%|███████████████████▋                   | 171M/338M [00:01<00:01, 88.8MiB/s]\r 53%|████████████████████▊                  | 180M/338M [00:01<00:01, 90.7MiB/s]\r 57%|██████████████████████                 | 191M/338M [00:01<00:01, 96.1MiB/s]\r 60%|███████████████████████▏               | 201M/338M [00:01<00:01, 99.7MiB/s]\r 63%|████████████████████████▍              | 211M/338M [00:01<00:01, 99.9MiB/s]\r 65%|█████████████████████████▌             | 221M/338M [00:02<00:01, 98.4MiB/s]\r 68%|██████████████████████████▌            | 230M/338M [00:02<00:01, 98.4MiB/s]\r 71%|███████████████████████████▋           | 240M/338M [00:02<00:01, 96.8MiB/s]\r 74%|█████████████████████████████▊          | 251M/338M [00:02<00:00, 104MiB/s]\r 78%|███████████████████████████████▎        | 264M/338M [00:02<00:00, 112MiB/s]\r 82%|████████████████████████████████▋       | 276M/338M [00:02<00:00, 115MiB/s]\r 85%|█████████████████████████████████▉      | 287M/338M [00:02<00:00, 115MiB/s]\r 89%|███████████████████████████████████▌    | 301M/338M [00:02<00:00, 123MiB/s]\r 93%|█████████████████████████████████████▏  | 313M/338M [00:02<00:00, 127MiB/s]\r 96%|██████████████████████████████████████▌ | 326M/338M [00:03<00:00, 127MiB/s]\r100%|████████████████████████████████████████| 338M/338M [00:03<00:00, 114MiB/s]\n"
     ]
    },
    {
     "name": "stdout",
     "output_type": "stream",
     "text": [
      "Train size: 4083/5042, Val size: 454/5042, Test size: 505/5042\n",
      "---- Before Augmentation ----\n",
      "Train dataset size: 4083\n",
      "Test dataset size: 454\n",
      "Class CP: 86 samples (No augmentation needed)\n",
      "Class chopping-board: 232 samples (No augmentation needed)\n",
      "Class finalstep: 1086 samples (No augmentation needed)\n",
      "Class glass-bowl-large: 247 samples (No augmentation needed)\n",
      "Class glass-bowl-medium: 162 samples (No augmentation needed)\n",
      "Class glass-bowl-small: 45 samples (No augmentation needed)\n",
      "Class grill-plate: 2 samples -> Target: 10\n",
      "Class group_step: 410 samples (No augmentation needed)\n",
      "Class medium: 179 samples (No augmentation needed)\n",
      "Class oven-dish: 96 samples (No augmentation needed)\n",
      "Class oven-tray: 402 samples (No augmentation needed)\n",
      "Class pan: 843 samples (No augmentation needed)\n",
      "Class pot-one-handle: 92 samples (No augmentation needed)\n",
      "Class pot-two-handles-medium: 103 samples (No augmentation needed)\n",
      "Class pot-two-handles-shallow: 65 samples (No augmentation needed)\n",
      "Class pot-two-handles-small: 21 samples (No augmentation needed)\n",
      "Class saucepan: 12 samples (No augmentation needed)\n",
      "\n",
      "---- After Augmentation ----\n",
      "Train dataset size: 4091\n",
      "Test dataset size: 454\n",
      "\n",
      "All of the dataset's classes: ['CP', 'chopping-board', 'finalstep', 'glass-bowl-large', 'glass-bowl-medium', 'glass-bowl-small', 'grill-plate', 'group_step', 'medium', 'oven-dish', 'oven-tray', 'pan', 'pot-one-handle', 'pot-two-handles-medium', 'pot-two-handles-shallow', 'pot-two-handles-small', 'saucepan']\n",
      "\n",
      "Train (before augmentation) dataset -- Class distribution:\n",
      "finalstep -- 26.60%\n",
      "pan -- 20.65%\n",
      "group_step -- 10.04%\n",
      "oven-tray -- 9.85%\n",
      "glass-bowl-large -- 6.05%\n",
      "chopping-board -- 5.68%\n",
      "medium -- 4.38%\n",
      "glass-bowl-medium -- 3.97%\n",
      "pot-two-handles-medium -- 2.52%\n",
      "oven-dish -- 2.35%\n",
      "pot-one-handle -- 2.25%\n",
      "CP -- 2.11%\n",
      "pot-two-handles-shallow -- 1.59%\n",
      "glass-bowl-small -- 1.10%\n",
      "pot-two-handles-small -- 0.51%\n",
      "saucepan -- 0.29%\n",
      "grill-plate -- 0.05%\n",
      "\n",
      "\n",
      "Validation (before augmentation) dataset -- Class distribution:\n",
      "finalstep -- 24.89%\n",
      "pan -- 23.79%\n",
      "oven-tray -- 12.11%\n",
      "group_step -- 9.03%\n",
      "glass-bowl-large -- 6.17%\n",
      "chopping-board -- 5.29%\n",
      "medium -- 3.96%\n",
      "CP -- 3.52%\n",
      "pot-two-handles-medium -- 2.86%\n",
      "glass-bowl-small -- 1.98%\n",
      "glass-bowl-medium -- 1.76%\n",
      "pot-one-handle -- 1.76%\n",
      "oven-dish -- 1.32%\n",
      "pot-two-handles-shallow -- 1.32%\n",
      "saucepan -- 0.22%\n",
      "\n",
      "\n",
      "\n",
      "Epoch 1/120\n",
      "[Train - Start Epoch 1] GPU Memory: Allocated=0.33GB, Reserved=0.36GB\n"
     ]
    },
    {
     "name": "stderr",
     "output_type": "stream",
     "text": [
      "\r  0%|          | 0/127.84375 [00:00<?, ?it/s]\r  1%|          | 1/127.84375 [00:08<18:43,  8.86s/it]\r  2%|▏         | 2/127.84375 [00:16<17:03,  8.13s/it]\r  2%|▏         | 3/127.84375 [00:24<16:35,  7.97s/it]\r  3%|▎         | 4/127.84375 [00:32<16:19,  7.91s/it]\r  4%|▍         | 5/127.84375 [00:39<15:52,  7.75s/it]\r  5%|▍         | 6/127.84375 [00:47<15:39,  7.71s/it]\r  5%|▌         | 7/127.84375 [00:54<15:29,  7.69s/it]\r  6%|▋         | 8/127.84375 [01:02<15:17,  7.65s/it]\r  7%|▋         | 9/127.84375 [01:10<15:09,  7.66s/it]\r  8%|▊         | 10/127.84375 [01:17<14:51,  7.56s/it]\r  9%|▊         | 11/127.84375 [01:24<14:40,  7.54s/it]\r  9%|▉         | 12/127.84375 [01:32<14:40,  7.60s/it]\r 10%|█         | 13/127.84375 [01:40<14:29,  7.57s/it]\r 11%|█         | 14/127.84375 [01:47<14:26,  7.61s/it]\r 12%|█▏        | 15/127.84375 [01:55<14:19,  7.61s/it]\r 13%|█▎        | 16/127.84375 [02:02<14:07,  7.58s/it]\r 13%|█▎        | 17/127.84375 [02:10<14:03,  7.61s/it]\r 14%|█▍        | 18/127.84375 [02:18<13:58,  7.64s/it]\r 15%|█▍        | 19/127.84375 [02:26<13:56,  7.69s/it]\r 16%|█▌        | 20/127.84375 [02:33<13:50,  7.70s/it]\r 16%|█▋        | 21/127.84375 [02:41<13:39,  7.67s/it]\r 17%|█▋        | 22/127.84375 [02:49<13:29,  7.65s/it]\r 18%|█▊        | 23/127.84375 [02:56<13:24,  7.67s/it]\r 19%|█▉        | 24/127.84375 [03:04<13:14,  7.65s/it]\r 20%|█▉        | 25/127.84375 [03:12<13:08,  7.67s/it]\r 20%|██        | 26/127.84375 [03:19<12:56,  7.63s/it]\r 21%|██        | 27/127.84375 [03:27<12:47,  7.61s/it]\r 22%|██▏       | 28/127.84375 [03:34<12:43,  7.65s/it]\r 23%|██▎       | 29/127.84375 [03:42<12:32,  7.61s/it]\r 23%|██▎       | 30/127.84375 [03:49<12:19,  7.56s/it]\r 24%|██▍       | 31/127.84375 [03:57<12:15,  7.59s/it]\r 25%|██▌       | 32/127.84375 [04:05<12:05,  7.57s/it]\r 26%|██▌       | 33/127.84375 [04:12<12:02,  7.61s/it]\r 27%|██▋       | 34/127.84375 [04:20<11:54,  7.61s/it]\r 27%|██▋       | 35/127.84375 [04:28<11:46,  7.61s/it]\r 28%|██▊       | 36/127.84375 [04:35<11:31,  7.53s/it]\r 29%|██▉       | 37/127.84375 [04:42<11:22,  7.51s/it]\r 30%|██▉       | 38/127.84375 [04:50<11:18,  7.55s/it]\r 31%|███       | 39/127.84375 [04:57<11:06,  7.50s/it]\r 31%|███▏      | 40/127.84375 [05:05<11:00,  7.52s/it]\r 32%|███▏      | 41/127.84375 [05:13<10:57,  7.57s/it]\r 33%|███▎      | 42/127.84375 [05:20<10:54,  7.63s/it]\r 34%|███▎      | 43/127.84375 [05:28<10:49,  7.66s/it]\r 34%|███▍      | 44/127.84375 [05:36<10:40,  7.63s/it]\r 35%|███▌      | 45/127.84375 [05:43<10:33,  7.65s/it]\r 36%|███▌      | 46/127.84375 [05:51<10:25,  7.64s/it]\r 37%|███▋      | 47/127.84375 [05:58<10:13,  7.59s/it]\r 38%|███▊      | 48/127.84375 [06:06<10:05,  7.58s/it]\r 38%|███▊      | 49/127.84375 [06:14<09:58,  7.60s/it]\r 39%|███▉      | 50/127.84375 [06:21<09:53,  7.62s/it]\r 40%|███▉      | 51/127.84375 [06:29<09:50,  7.68s/it]\r 41%|████      | 52/127.84375 [06:37<09:43,  7.69s/it]\r 41%|████▏     | 53/127.84375 [06:44<09:33,  7.66s/it]\r 42%|████▏     | 54/127.84375 [06:52<09:25,  7.66s/it]\r 43%|████▎     | 55/127.84375 [07:00<09:19,  7.68s/it]\r 44%|████▍     | 56/127.84375 [07:08<09:13,  7.70s/it]\r 45%|████▍     | 57/127.84375 [07:15<09:03,  7.68s/it]\r 45%|████▌     | 58/127.84375 [07:23<08:54,  7.65s/it]\r 46%|████▌     | 59/127.84375 [07:30<08:42,  7.59s/it]\r 47%|████▋     | 60/127.84375 [07:38<08:35,  7.60s/it]\r 48%|████▊     | 61/127.84375 [07:46<08:31,  7.65s/it]\r 48%|████▊     | 62/127.84375 [07:53<08:21,  7.61s/it]\r 49%|████▉     | 63/127.84375 [08:01<08:12,  7.60s/it]\r 50%|█████     | 64/127.84375 [08:08<08:05,  7.60s/it]\r 51%|█████     | 65/127.84375 [08:16<07:59,  7.64s/it]\r 52%|█████▏    | 66/127.84375 [08:24<07:50,  7.61s/it]\r 52%|█████▏    | 67/127.84375 [08:31<07:40,  7.57s/it]\r 53%|█████▎    | 68/127.84375 [08:39<07:35,  7.61s/it]\r 54%|█████▍    | 69/127.84375 [08:46<07:27,  7.61s/it]\r 55%|█████▍    | 70/127.84375 [08:54<07:16,  7.55s/it]\r 56%|█████▌    | 71/127.84375 [09:01<07:07,  7.53s/it]\r 56%|█████▋    | 72/127.84375 [09:09<07:01,  7.55s/it]\r 57%|█████▋    | 73/127.84375 [09:17<06:56,  7.59s/it]\r 58%|█████▊    | 74/127.84375 [09:24<06:49,  7.61s/it]\r 59%|█████▊    | 75/127.84375 [09:32<06:41,  7.60s/it]\r 59%|█████▉    | 76/127.84375 [09:40<06:36,  7.64s/it]\r 60%|██████    | 77/127.84375 [09:47<06:26,  7.60s/it]\r 61%|██████    | 78/127.84375 [09:55<06:17,  7.57s/it]\r 62%|██████▏   | 79/127.84375 [10:02<06:09,  7.57s/it]\r 63%|██████▎   | 80/127.84375 [10:10<06:03,  7.59s/it]\r 63%|██████▎   | 81/127.84375 [10:17<05:53,  7.55s/it]\r 64%|██████▍   | 82/127.84375 [10:25<05:46,  7.56s/it]\r 65%|██████▍   | 83/127.84375 [10:32<05:38,  7.55s/it]\r 66%|██████▌   | 84/127.84375 [10:40<05:29,  7.52s/it]\r 66%|██████▋   | 85/127.84375 [10:47<05:23,  7.55s/it]\r 67%|██████▋   | 86/127.84375 [10:55<05:16,  7.56s/it]\r 68%|██████▊   | 87/127.84375 [11:03<05:09,  7.58s/it]\r 69%|██████▉   | 88/127.84375 [11:10<05:03,  7.62s/it]\r 70%|██████▉   | 89/127.84375 [11:18<04:56,  7.62s/it]\r 70%|███████   | 90/127.84375 [11:25<04:47,  7.59s/it]\r 71%|███████   | 91/127.84375 [11:33<04:37,  7.54s/it]\r 72%|███████▏  | 92/127.84375 [11:41<04:31,  7.56s/it]\r 73%|███████▎  | 93/127.84375 [11:48<04:24,  7.58s/it]\r 74%|███████▎  | 94/127.84375 [11:56<04:16,  7.59s/it]\r 74%|███████▍  | 95/127.84375 [12:03<04:10,  7.63s/it]\r 75%|███████▌  | 96/127.84375 [12:11<04:03,  7.64s/it]\r 76%|███████▌  | 97/127.84375 [12:19<03:56,  7.67s/it]\r 77%|███████▋  | 98/127.84375 [12:27<03:49,  7.68s/it]\r 77%|███████▋  | 99/127.84375 [12:34<03:40,  7.65s/it]\r 78%|███████▊  | 100/127.84375 [12:42<03:34,  7.69s/it]\r 79%|███████▉  | 101/127.84375 [12:50<03:26,  7.71s/it]\r 80%|███████▉  | 102/127.84375 [12:58<03:20,  7.75s/it]\r 81%|████████  | 103/127.84375 [13:05<03:12,  7.75s/it]\r 81%|████████▏ | 104/127.84375 [13:13<03:04,  7.75s/it]\r 82%|████████▏ | 105/127.84375 [13:21<02:57,  7.75s/it]\r 83%|████████▎ | 106/127.84375 [13:29<02:49,  7.77s/it]\r 84%|████████▎ | 107/127.84375 [13:36<02:40,  7.70s/it]\r 84%|████████▍ | 108/127.84375 [13:44<02:32,  7.69s/it]\r 85%|████████▌ | 109/127.84375 [13:52<02:25,  7.70s/it]\r 86%|████████▌ | 110/127.84375 [13:59<02:16,  7.66s/it]\r 87%|████████▋ | 111/127.84375 [14:07<02:08,  7.65s/it]\r 88%|████████▊ | 112/127.84375 [14:14<02:01,  7.64s/it]\r 88%|████████▊ | 113/127.84375 [14:22<01:53,  7.62s/it]\r 89%|████████▉ | 114/127.84375 [14:30<01:45,  7.64s/it]\r 90%|████████▉ | 115/127.84375 [14:37<01:37,  7.61s/it]\r 91%|█████████ | 116/127.84375 [14:45<01:30,  7.63s/it]\r 92%|█████████▏| 117/127.84375 [14:52<01:22,  7.59s/it]\r 92%|█████████▏| 118/127.84375 [15:00<01:14,  7.59s/it]\r 93%|█████████▎| 119/127.84375 [15:08<01:07,  7.61s/it]\r 94%|█████████▍| 120/127.84375 [15:15<00:59,  7.58s/it]\r 95%|█████████▍| 121/127.84375 [15:23<00:52,  7.61s/it]\r 95%|█████████▌| 122/127.84375 [15:30<00:44,  7.63s/it]\r 96%|█████████▌| 123/127.84375 [15:38<00:36,  7.61s/it]\r 97%|█████████▋| 124/127.84375 [15:46<00:29,  7.62s/it]\r 98%|█████████▊| 125/127.84375 [15:53<00:21,  7.65s/it]\r 99%|█████████▊| 126/127.84375 [16:01<00:14,  7.61s/it]\r 99%|█████████▉| 127/127.84375 [16:09<00:06,  7.64s/it]/databricks/python/lib/python3.11/site-packages/tqdm/std.py:524: TqdmWarning: clamping frac to range [0, 1]\n",
      "  full_bar = Bar(frac,\n",
      "\r100%|██████████| 128/127.84375 [16:16<-1:59:59,  7.64s/it]\r129it [16:24,  7.67s/it]                                  \r130it [16:31,  7.63s/it]\r131it [16:39,  7.65s/it]\r132it [16:47,  7.62s/it]\r133it [16:54,  7.59s/it]\r134it [17:02,  7.56s/it]\r135it [17:09,  7.57s/it]\r136it [17:17,  7.60s/it]\r137it [17:25,  7.63s/it]\r138it [17:32,  7.60s/it]\r139it [17:40,  7.60s/it]\r140it [17:48,  7.68s/it]\r141it [17:55,  7.67s/it]\r142it [18:03,  7.67s/it]\r143it [18:11,  7.65s/it]\r144it [18:18,  7.64s/it]\r145it [18:26,  7.58s/it]\r146it [18:33,  7.53s/it]\r147it [18:41,  7.54s/it]\r148it [18:48,  7.54s/it]\r149it [18:56,  7.52s/it]\r150it [19:03,  7.60s/it]\r151it [19:11,  7.62s/it]\r152it [19:19,  7.65s/it]\r153it [19:26,  7.64s/it]\r154it [19:34,  7.65s/it]\r155it [19:42,  7.65s/it]\r156it [19:49,  7.63s/it]\r157it [19:57,  7.60s/it]\r158it [20:05,  7.61s/it]\r159it [20:12,  7.56s/it]\r160it [20:20,  7.60s/it]\r161it [20:27,  7.63s/it]\r162it [20:35,  7.67s/it]\r163it [20:43,  7.62s/it]\r164it [20:50,  7.64s/it]\r165it [20:58,  7.62s/it]\r166it [21:05,  7.56s/it]\r167it [21:13,  7.58s/it]\r168it [21:21,  7.61s/it]\r169it [21:28,  7.60s/it]\r170it [21:36,  7.64s/it]\r171it [21:44,  7.67s/it]\r172it [21:51,  7.68s/it]\r173it [21:59,  7.67s/it]\r174it [22:07,  7.63s/it]\r175it [22:14,  7.62s/it]\r176it [22:22,  7.57s/it]\r177it [22:29,  7.53s/it]\r178it [22:37,  7.58s/it]\r179it [22:45,  7.64s/it]\r180it [22:52,  7.61s/it]\r181it [23:00,  7.61s/it]\r182it [23:07,  7.63s/it]\r183it [23:15,  7.59s/it]\r184it [23:22,  7.56s/it]\r185it [23:30,  7.59s/it]\r186it [23:38,  7.59s/it]\r187it [23:45,  7.62s/it]\r188it [23:53,  7.66s/it]\r189it [24:00,  7.58s/it]\r190it [24:08,  7.62s/it]\r191it [24:16,  7.61s/it]\r192it [24:23,  7.59s/it]\r193it [24:31,  7.63s/it]\r194it [24:39,  7.62s/it]\r195it [24:46,  7.64s/it]\r196it [24:54,  7.62s/it]\r197it [25:01,  7.60s/it]\r198it [25:09,  7.63s/it]\r199it [25:17,  7.59s/it]\r200it [25:24,  7.59s/it]\r201it [25:32,  7.61s/it]\r202it [25:39,  7.62s/it]\r203it [25:47,  7.59s/it]\r204it [25:55,  7.59s/it]\r205it [26:02,  7.58s/it]\r206it [26:10,  7.58s/it]\r207it [26:17,  7.55s/it]\r208it [26:25,  7.58s/it]\r209it [26:32,  7.59s/it]\r210it [26:40,  7.61s/it]\r211it [26:48,  7.61s/it]\r212it [26:55,  7.60s/it]\r213it [27:03,  7.63s/it]\r214it [27:11,  7.62s/it]\r215it [27:18,  7.56s/it]\r216it [27:26,  7.57s/it]\r217it [27:33,  7.58s/it]\r218it [27:41,  7.61s/it]\r219it [27:49,  7.61s/it]\r220it [27:56,  7.59s/it]\r221it [28:04,  7.61s/it]\r222it [28:11,  7.59s/it]\r223it [28:19,  7.55s/it]\r224it [28:26,  7.58s/it]\r225it [28:34,  7.57s/it]\r226it [28:42,  7.61s/it]\r227it [28:49,  7.58s/it]\r228it [28:57,  7.57s/it]\r229it [29:04,  7.59s/it]\r230it [29:12,  7.60s/it]\r231it [29:20,  7.65s/it]\r232it [29:27,  7.59s/it]\r233it [29:35,  7.57s/it]\r234it [29:42,  7.60s/it]\r235it [29:50,  7.61s/it]\r236it [29:58,  7.58s/it]\r237it [30:05,  7.57s/it]\r238it [30:13,  7.55s/it]\r239it [30:20,  7.59s/it]\r240it [30:28,  7.53s/it]\r240it [30:28,  7.62s/it]\n"
     ]
    },
    {
     "name": "stdout",
     "output_type": "stream",
     "text": [
      "Epoch 0 train loss: 0.99560546875\n",
      "[Checkpoint] Saved under <PATH>/recipe_classifier/checkpoints/2025_01_23/dataset_20dec/b32/epoch_0.pt\n",
      "\n",
      "[Train - End / Test - Start Epoch 1] GPU Memory: Allocated=2.05GB, Reserved=3.19GB\n"
     ]
    },
    {
     "name": "stderr",
     "output_type": "stream",
     "text": [
      "\r  0%|          | 0/14.1875 [00:00<?, ?it/s]\r  7%|▋         | 1/14.1875 [00:09<02:03,  9.40s/it]\r 14%|█▍        | 2/14.1875 [00:18<01:55,  9.51s/it]\r 21%|██        | 3/14.1875 [00:28<01:46,  9.48s/it]\r 28%|██▊       | 4/14.1875 [00:37<01:35,  9.37s/it]\r 35%|███▌      | 5/14.1875 [00:46<01:25,  9.32s/it]\r 42%|████▏     | 6/14.1875 [00:56<01:16,  9.35s/it]\r 49%|████▉     | 7/14.1875 [01:05<01:05,  9.15s/it]\r 56%|█████▋    | 8/14.1875 [01:14<00:56,  9.13s/it]\r 63%|██████▎   | 9/14.1875 [01:22<00:45,  8.87s/it]\r 70%|███████   | 10/14.1875 [01:30<00:35,  8.58s/it]\r 78%|███████▊  | 11/14.1875 [01:38<00:27,  8.51s/it]\r 85%|████████▍ | 12/14.1875 [01:47<00:18,  8.55s/it]\r 92%|█████████▏| 13/14.1875 [01:55<00:10,  8.45s/it]\r 99%|█████████▊| 14/14.1875 [02:03<00:01,  8.43s/it]\r15it [02:12,  8.40s/it]                             \r16it [02:20,  8.22s/it]\r17it [02:28,  8.21s/it]\r18it [02:36,  8.12s/it]\r19it [02:43,  7.92s/it]\r20it [02:51,  7.88s/it]\r21it [02:59,  7.88s/it]\r22it [03:06,  7.83s/it]\r23it [03:14,  7.86s/it]\r24it [03:22,  7.91s/it]\r25it [03:30,  7.85s/it]\r26it [03:38,  7.75s/it]\r27it [03:45,  7.63s/it]\r28it [03:52,  7.53s/it]\r29it [04:00,  7.49s/it]\r30it [04:07,  7.48s/it]\r30it [04:07,  8.26s/it]\n"
     ]
    },
    {
     "name": "stdout",
     "output_type": "stream",
     "text": [
      "Cumulative Accuracy for CP: 76.67%\n",
      "Cumulative Accuracy for chopping-board: 100.00%\n",
      "Cumulative Accuracy for finalstep: 90.00%\n",
      "Cumulative Accuracy for glass-bowl-large: 90.00%\n",
      "Cumulative Accuracy for glass-bowl-medium: 76.67%\n",
      "Cumulative Accuracy for glass-bowl-small: 40.00%\n",
      "Cumulative Accuracy for grill-plate: nan%\n",
      "Cumulative Accuracy for group_step: 66.67%\n",
      "Cumulative Accuracy for medium: 86.67%\n",
      "Cumulative Accuracy for oven-dish: 100.00%\n",
      "Cumulative Accuracy for oven-tray: 96.67%\n",
      "Cumulative Accuracy for pan: 100.00%\n",
      "Cumulative Accuracy for pot-one-handle: 100.00%\n",
      "Cumulative Accuracy for pot-two-handles-medium: 63.33%\n",
      "Cumulative Accuracy for pot-two-handles-shallow: 100.00%\n",
      "Cumulative Accuracy for pot-two-handles-small: nan%\n",
      "Cumulative Accuracy for saucepan: 100.00%\n",
      "\n",
      "Mean Top 3 Accuracy (Val): 96.00%\n",
      "Mean Top 1 Accuracy (Val): 85.78%\n",
      "Macro-averaged Accuracy (Val): 85.78%\n",
      "[Best model] Metric improved (85.7778 --> 85.7778). Saving model...\n",
      "Epoch 0 test loss: 11.1875\n",
      "\n",
      "[Test - End Epoch 1] GPU Memory: Allocated=2.05GB, Reserved=3.19GB\n",
      "\n",
      "Epoch 2/120\n",
      "[Train - Start Epoch 2] GPU Memory: Allocated=2.05GB, Reserved=3.19GB\n"
     ]
    },
    {
     "name": "stderr",
     "output_type": "stream",
     "text": [
      "\r  0%|          | 0/127.84375 [00:00<?, ?it/s]\r  1%|          | 1/127.84375 [00:07<15:44,  7.44s/it]\r  2%|▏         | 2/127.84375 [00:14<15:44,  7.51s/it]\r  2%|▏         | 3/127.84375 [00:22<15:39,  7.53s/it]\r  3%|▎         | 4/127.84375 [00:30<15:37,  7.57s/it]\r  4%|▍         | 5/127.84375 [00:37<15:26,  7.55s/it]\r  5%|▍         | 6/127.84375 [00:45<15:22,  7.57s/it]\r  5%|▌         | 7/127.84375 [00:52<15:15,  7.57s/it]\r  6%|▋         | 8/127.84375 [01:00<15:05,  7.56s/it]\r  7%|▋         | 9/127.84375 [01:07<14:54,  7.52s/it]\r  8%|▊         | 10/127.84375 [01:15<14:49,  7.55s/it]\r  9%|▊         | 11/127.84375 [01:22<14:41,  7.54s/it]\r  9%|▉         | 12/127.84375 [01:30<14:36,  7.57s/it]\r 10%|█         | 13/127.84375 [01:38<14:34,  7.62s/it]\r 11%|█         | 14/127.84375 [01:45<14:24,  7.60s/it]\r 12%|█▏        | 15/127.84375 [01:53<14:12,  7.55s/it]\r 13%|█▎        | 16/127.84375 [02:01<14:11,  7.62s/it]\r 13%|█▎        | 17/127.84375 [02:08<14:08,  7.66s/it]\r 14%|█▍        | 18/127.84375 [02:16<14:03,  7.68s/it]\r 15%|█▍        | 19/127.84375 [02:23<13:47,  7.60s/it]\r 16%|█▌        | 20/127.84375 [02:31<13:41,  7.62s/it]\r 16%|█▋        | 21/127.84375 [02:39<13:32,  7.60s/it]\r 17%|█▋        | 22/127.84375 [02:46<13:21,  7.57s/it]\r 18%|█▊        | 23/127.84375 [02:54<13:23,  7.67s/it]\r 19%|█▉        | 24/127.84375 [03:02<13:17,  7.68s/it]\r 20%|█▉        | 25/127.84375 [03:10<13:09,  7.68s/it]\r 20%|██        | 26/127.84375 [03:17<12:58,  7.65s/it]\r 21%|██        | 27/127.84375 [03:25<12:52,  7.66s/it]\r 22%|██▏       | 28/127.84375 [03:32<12:39,  7.61s/it]\r 23%|██▎       | 29/127.84375 [03:40<12:30,  7.60s/it]\r 23%|██▎       | 30/127.84375 [03:47<12:18,  7.54s/it]\r 24%|██▍       | 31/127.84375 [03:55<12:15,  7.60s/it]\r 25%|██▌       | 32/127.84375 [04:03<12:15,  7.67s/it]\r 26%|██▌       | 33/127.84375 [04:10<12:06,  7.66s/it]\r 27%|██▋       | 34/127.84375 [04:18<11:53,  7.61s/it]\r 27%|██▋       | 35/127.84375 [04:25<11:44,  7.59s/it]\r 28%|██▊       | 36/127.84375 [04:33<11:35,  7.57s/it]\r 29%|██▉       | 37/127.84375 [04:41<11:28,  7.58s/it]\r 30%|██▉       | 38/127.84375 [04:48<11:27,  7.65s/it]\r 31%|███       | 39/127.84375 [04:56<11:25,  7.71s/it]\r 31%|███▏      | 40/127.84375 [05:04<11:18,  7.72s/it]\r 32%|███▏      | 41/127.84375 [05:12<11:12,  7.74s/it]\r 33%|███▎      | 42/127.84375 [05:20<11:10,  7.81s/it]\r 34%|███▎      | 43/127.84375 [05:27<10:56,  7.74s/it]\r 34%|███▍      | 44/127.84375 [05:35<10:52,  7.79s/it]\r 35%|███▌      | 45/127.84375 [05:43<10:46,  7.80s/it]\r 36%|███▌      | 46/127.84375 [05:51<10:34,  7.75s/it]\r 37%|███▋      | 47/127.84375 [05:58<10:24,  7.72s/it]\r 38%|███▊      | 48/127.84375 [06:06<10:16,  7.72s/it]\r 38%|███▊      | 49/127.84375 [06:14<10:06,  7.69s/it]\r 39%|███▉      | 50/127.84375 [06:21<09:51,  7.60s/it]\r 40%|███▉      | 51/127.84375 [06:29<09:48,  7.66s/it]\r 41%|████      | 52/127.84375 [06:37<09:42,  7.68s/it]\r 41%|████▏     | 53/127.84375 [06:44<09:32,  7.65s/it]\r 42%|████▏     | 54/127.84375 [06:52<09:22,  7.61s/it]\r 43%|████▎     | 55/127.84375 [06:59<09:14,  7.61s/it]\r 44%|████▍     | 56/127.84375 [07:07<09:06,  7.61s/it]\r 45%|████▍     | 57/127.84375 [07:14<08:57,  7.59s/it]\r 45%|████▌     | 58/127.84375 [07:22<08:49,  7.58s/it]\r 46%|████▌     | 59/127.84375 [07:30<08:41,  7.58s/it]\r 47%|████▋     | 60/127.84375 [07:37<08:34,  7.58s/it]\r 48%|████▊     | 61/127.84375 [07:45<08:25,  7.56s/it]\r 48%|████▊     | 62/127.84375 [07:52<08:17,  7.55s/it]\r 49%|████▉     | 63/127.84375 [08:00<08:09,  7.55s/it]\r 50%|█████     | 64/127.84375 [08:07<08:01,  7.54s/it]\r 51%|█████     | 65/127.84375 [08:15<07:56,  7.58s/it]\r 52%|█████▏    | 66/127.84375 [08:22<07:47,  7.55s/it]\r 52%|█████▏    | 67/127.84375 [08:30<07:38,  7.53s/it]\r 53%|█████▎    | 68/127.84375 [08:38<07:32,  7.57s/it]\r 54%|█████▍    | 69/127.84375 [08:45<07:26,  7.58s/it]\r 55%|█████▍    | 70/127.84375 [08:53<07:17,  7.56s/it]\r 56%|█████▌    | 71/127.84375 [09:00<07:09,  7.55s/it]\r 56%|█████▋    | 72/127.84375 [09:08<07:02,  7.57s/it]\r 57%|█████▋    | 73/127.84375 [09:16<06:57,  7.61s/it]\r 58%|█████▊    | 74/127.84375 [09:23<06:50,  7.63s/it]\r 59%|█████▊    | 75/127.84375 [09:31<06:40,  7.59s/it]\r 59%|█████▉    | 76/127.84375 [09:39<06:37,  7.66s/it]\r 60%|██████    | 77/127.84375 [09:46<06:28,  7.64s/it]\r 61%|██████    | 78/127.84375 [09:54<06:18,  7.60s/it]\r 62%|██████▏   | 79/127.84375 [10:01<06:11,  7.60s/it]\r 63%|██████▎   | 80/127.84375 [10:09<06:04,  7.61s/it]\r 63%|██████▎   | 81/127.84375 [10:17<05:57,  7.62s/it]\r 64%|██████▍   | 82/127.84375 [10:24<05:49,  7.61s/it]\r 65%|██████▍   | 83/127.84375 [10:32<05:40,  7.60s/it]\r 66%|██████▌   | 84/127.84375 [10:39<05:32,  7.58s/it]\r 66%|██████▋   | 85/127.84375 [10:47<05:24,  7.59s/it]\r 67%|██████▋   | 86/127.84375 [10:54<05:17,  7.59s/it]\r 68%|██████▊   | 87/127.84375 [11:02<05:10,  7.60s/it]\r 69%|██████▉   | 88/127.84375 [11:10<05:04,  7.64s/it]\r 70%|██████▉   | 89/127.84375 [11:18<04:57,  7.66s/it]\r 70%|███████   | 90/127.84375 [11:25<04:49,  7.64s/it]\r 71%|███████   | 91/127.84375 [11:33<04:41,  7.65s/it]\r 72%|███████▏  | 92/127.84375 [11:40<04:33,  7.63s/it]\r 73%|███████▎  | 93/127.84375 [11:48<04:23,  7.57s/it]\r 74%|███████▎  | 94/127.84375 [11:55<04:17,  7.60s/it]\r 74%|███████▍  | 95/127.84375 [12:03<04:09,  7.60s/it]\r 75%|███████▌  | 96/127.84375 [12:11<04:02,  7.61s/it]\r 76%|███████▌  | 97/127.84375 [12:18<03:54,  7.60s/it]\r 77%|███████▋  | 98/127.84375 [12:26<03:47,  7.61s/it]\r 77%|███████▋  | 99/127.84375 [12:34<03:39,  7.60s/it]\r 78%|███████▊  | 100/127.84375 [12:41<03:32,  7.61s/it]\r 79%|███████▉  | 101/127.84375 [12:49<03:25,  7.64s/it]\r 80%|███████▉  | 102/127.84375 [12:56<03:15,  7.58s/it]\r 81%|████████  | 103/127.84375 [13:04<03:07,  7.55s/it]\r 81%|████████▏ | 104/127.84375 [13:11<03:00,  7.58s/it]\r 82%|████████▏ | 105/127.84375 [13:19<02:52,  7.57s/it]\r 83%|████████▎ | 106/127.84375 [13:26<02:44,  7.55s/it]\r 84%|████████▎ | 107/127.84375 [13:34<02:37,  7.56s/it]\r 84%|████████▍ | 108/127.84375 [13:41<02:29,  7.52s/it]\r 85%|████████▌ | 109/127.84375 [13:49<02:22,  7.56s/it]\r 86%|████████▌ | 110/127.84375 [13:57<02:15,  7.58s/it]\r 87%|████████▋ | 111/127.84375 [14:04<02:07,  7.54s/it]\r 88%|████████▊ | 112/127.84375 [14:12<01:59,  7.56s/it]\r 88%|████████▊ | 113/127.84375 [14:19<01:52,  7.59s/it]\r 89%|████████▉ | 114/127.84375 [14:27<01:45,  7.63s/it]\r 90%|████████▉ | 115/127.84375 [14:35<01:38,  7.63s/it]\r 91%|█████████ | 116/127.84375 [14:42<01:29,  7.59s/it]\r 92%|█████████▏| 117/127.84375 [14:50<01:22,  7.59s/it]\r 92%|█████████▏| 118/127.84375 [14:58<01:14,  7.62s/it]\r 93%|█████████▎| 119/127.84375 [15:05<01:07,  7.64s/it]\r 94%|█████████▍| 120/127.84375 [15:13<00:59,  7.57s/it]\r 95%|█████████▍| 121/127.84375 [15:20<00:51,  7.57s/it]\r 95%|█████████▌| 122/127.84375 [15:28<00:44,  7.60s/it]\r 96%|█████████▌| 123/127.84375 [15:36<00:37,  7.65s/it]\r 97%|█████████▋| 124/127.84375 [15:43<00:29,  7.58s/it]\r 98%|█████████▊| 125/127.84375 [15:51<00:21,  7.59s/it]\r 99%|█████████▊| 126/127.84375 [15:58<00:13,  7.57s/it]\r 99%|█████████▉| 127/127.84375 [16:06<00:06,  7.53s/it]/databricks/python/lib/python3.11/site-packages/tqdm/std.py:524: TqdmWarning: clamping frac to range [0, 1]\n",
      "  full_bar = Bar(frac,\n",
      "\r100%|██████████| 128/127.84375 [16:13<-1:59:59,  7.53s/it]\r129it [16:21,  7.58s/it]                                  \r130it [16:28,  7.58s/it]\r131it [16:36,  7.60s/it]\r132it [16:44,  7.66s/it]\r133it [16:51,  7.63s/it]\r134it [16:59,  7.60s/it]\r135it [17:07,  7.63s/it]\r136it [17:14,  7.65s/it]\r137it [17:22,  7.66s/it]\r138it [17:30,  7.65s/it]\r139it [17:37,  7.61s/it]\r140it [17:45,  7.65s/it]\r141it [17:53,  7.67s/it]\r142it [18:00,  7.67s/it]\r143it [18:08,  7.58s/it]\r144it [18:15,  7.58s/it]\r145it [18:23,  7.59s/it]\r146it [18:31,  7.58s/it]\r147it [18:38,  7.57s/it]\r148it [18:46,  7.59s/it]\r149it [18:53,  7.55s/it]\r150it [19:01,  7.55s/it]\r151it [19:08,  7.58s/it]\r152it [19:16,  7.53s/it]\r153it [19:23,  7.59s/it]\r154it [19:31,  7.60s/it]\r155it [19:39,  7.56s/it]\r156it [19:46,  7.53s/it]\r157it [19:54,  7.57s/it]\r158it [20:01,  7.57s/it]\r159it [20:09,  7.50s/it]\r160it [20:16,  7.52s/it]\r161it [20:24,  7.58s/it]\r162it [20:32,  7.62s/it]\r163it [20:40,  7.71s/it]\r164it [20:48,  7.86s/it]\r165it [20:56,  8.02s/it]\r166it [21:05,  8.15s/it]\r167it [21:13,  8.31s/it]\r168it [21:22,  8.52s/it]\r169it [21:31,  8.72s/it]\r170it [21:41,  8.95s/it]\r171it [21:50,  9.05s/it]\r172it [21:59,  9.11s/it]\r173it [22:09,  9.24s/it]\r174it [22:18,  9.28s/it]\r175it [22:28,  9.25s/it]\r176it [22:37,  9.39s/it]\r177it [22:47,  9.41s/it]\r178it [22:56,  9.41s/it]\r179it [23:06,  9.40s/it]\r180it [23:15,  9.48s/it]\r181it [23:25,  9.50s/it]\r182it [23:34,  9.44s/it]\r183it [23:43,  9.44s/it]\r184it [23:53,  9.48s/it]\r185it [24:02,  9.46s/it]\r186it [24:12,  9.49s/it]\r187it [24:22,  9.49s/it]\r188it [24:31,  9.49s/it]\r189it [24:40,  9.44s/it]\r190it [24:50,  9.41s/it]\r191it [24:59,  9.43s/it]\r192it [25:09,  9.49s/it]\r193it [25:18,  9.41s/it]\r194it [25:27,  9.38s/it]\r195it [25:37,  9.37s/it]\r196it [25:46,  9.38s/it]\r197it [25:55,  9.36s/it]\r198it [26:05,  9.36s/it]\r199it [26:14,  9.30s/it]\r200it [26:23,  9.32s/it]\r201it [26:33,  9.31s/it]\r202it [26:42,  9.33s/it]\r203it [26:51,  9.35s/it]\r204it [27:01,  9.38s/it]\r205it [27:10,  9.39s/it]\r206it [27:20,  9.39s/it]\r207it [27:29,  9.36s/it]\r208it [27:38,  9.32s/it]\r209it [27:48,  9.36s/it]\r210it [27:57,  9.38s/it]\r211it [28:06,  9.38s/it]\r212it [28:16,  9.35s/it]\r213it [28:25,  9.32s/it]\r214it [28:34,  9.37s/it]\r215it [28:44,  9.39s/it]\r216it [28:53,  9.34s/it]\r217it [29:02,  9.37s/it]\r218it [29:12,  9.35s/it]\r219it [29:21,  9.28s/it]\r220it [29:30,  9.30s/it]\r221it [29:40,  9.32s/it]\r222it [29:49,  9.22s/it]\r223it [29:58,  9.29s/it]\r224it [30:07,  9.31s/it]\r225it [30:17,  9.30s/it]\r226it [30:26,  9.30s/it]\r227it [30:35,  9.30s/it]\r228it [30:45,  9.30s/it]\r229it [30:54,  9.34s/it]\r230it [31:04,  9.40s/it]\r231it [31:13,  9.45s/it]\r232it [31:22,  9.41s/it]\r233it [31:32,  9.41s/it]\r234it [31:41,  9.35s/it]\r235it [31:51,  9.39s/it]\r236it [32:00,  9.38s/it]\r237it [32:09,  9.39s/it]\r238it [32:19,  9.35s/it]\r239it [32:28,  9.34s/it]\r240it [32:37,  9.25s/it]\r240it [32:37,  8.16s/it]\n"
     ]
    },
    {
     "name": "stdout",
     "output_type": "stream",
     "text": [
      "Epoch 1 train loss: 0.35107421875\n",
      "[Train - End / Test - Start Epoch 2] GPU Memory: Allocated=2.30GB, Reserved=3.29GB\n"
     ]
    },
    {
     "name": "stderr",
     "output_type": "stream",
     "text": [
      "\r  0%|          | 0/14.1875 [00:00<?, ?it/s]\r  7%|▋         | 1/14.1875 [00:08<01:55,  8.74s/it]\r 14%|█▍        | 2/14.1875 [00:17<01:44,  8.61s/it]\r 21%|██        | 3/14.1875 [00:26<01:37,  8.70s/it]\r 28%|██▊       | 4/14.1875 [00:35<01:30,  8.84s/it]\r 35%|███▌      | 5/14.1875 [00:44<01:22,  8.97s/it]\r 42%|████▏     | 6/14.1875 [00:53<01:13,  8.98s/it]\r 49%|████▉     | 7/14.1875 [01:01<01:03,  8.82s/it]\r 56%|█████▋    | 8/14.1875 [01:10<00:54,  8.81s/it]\r 63%|██████▎   | 9/14.1875 [01:18<00:45,  8.68s/it]\r 70%|███████   | 10/14.1875 [01:27<00:36,  8.62s/it]\r 78%|███████▊  | 11/14.1875 [01:36<00:27,  8.71s/it]\r 85%|████████▍ | 12/14.1875 [01:44<00:18,  8.68s/it]\r 92%|█████████▏| 13/14.1875 [01:53<00:10,  8.71s/it]\r 99%|█████████▊| 14/14.1875 [02:02<00:01,  8.65s/it]\r15it [02:10,  8.60s/it]                             \r16it [02:19,  8.56s/it]\r17it [02:27,  8.56s/it]\r18it [02:36,  8.57s/it]\r19it [02:44,  8.50s/it]\r20it [02:53,  8.48s/it]\r21it [03:01,  8.45s/it]\r22it [03:09,  8.41s/it]\r23it [03:18,  8.48s/it]\r24it [03:27,  8.55s/it]\r25it [03:35,  8.57s/it]\r26it [03:44,  8.49s/it]\r27it [03:52,  8.43s/it]\r28it [04:00,  8.32s/it]\r29it [04:08,  8.27s/it]\r30it [04:17,  8.35s/it]\r30it [04:17,  8.57s/it]\n"
     ]
    },
    {
     "name": "stdout",
     "output_type": "stream",
     "text": [
      "Cumulative Accuracy for CP: 75.00%\n",
      "Cumulative Accuracy for chopping-board: 96.67%\n",
      "Cumulative Accuracy for finalstep: 91.67%\n",
      "Cumulative Accuracy for glass-bowl-large: 88.33%\n",
      "Cumulative Accuracy for glass-bowl-medium: 75.00%\n",
      "Cumulative Accuracy for glass-bowl-small: 55.00%\n",
      "Cumulative Accuracy for grill-plate: nan%\n",
      "Cumulative Accuracy for group_step: 78.33%\n",
      "Cumulative Accuracy for medium: 88.33%\n",
      "Cumulative Accuracy for oven-dish: 100.00%\n",
      "Cumulative Accuracy for oven-tray: 98.33%\n",
      "Cumulative Accuracy for pan: 100.00%\n",
      "Cumulative Accuracy for pot-one-handle: 95.00%\n",
      "Cumulative Accuracy for pot-two-handles-medium: 61.67%\n",
      "Cumulative Accuracy for pot-two-handles-shallow: 100.00%\n",
      "Cumulative Accuracy for pot-two-handles-small: nan%\n",
      "Cumulative Accuracy for saucepan: 100.00%\n",
      "\n",
      "Mean Top 3 Accuracy (Val): 98.22%\n",
      "Mean Top 1 Accuracy (Val): 88.00%\n",
      "Macro-averaged Accuracy (Val): 86.89%\n",
      "[Best model] Metric improved (86.8889 --> 86.8889). Saving model...\n",
      "Epoch 1 test loss: 15.0546875\n",
      "\n",
      "[Test - End Epoch 2] GPU Memory: Allocated=2.30GB, Reserved=3.29GB\n",
      "\n",
      "Epoch 3/120\n",
      "[Train - Start Epoch 3] GPU Memory: Allocated=2.30GB, Reserved=3.29GB\n"
     ]
    },
    {
     "name": "stderr",
     "output_type": "stream",
     "text": [
      "\r  0%|          | 0/127.84375 [00:00<?, ?it/s]\r  1%|          | 1/127.84375 [00:09<19:39,  9.30s/it]\r  2%|▏         | 2/127.84375 [00:18<19:10,  9.14s/it]\r  2%|▏         | 3/127.84375 [00:27<19:13,  9.24s/it]\r  3%|▎         | 4/127.84375 [00:36<18:56,  9.17s/it]\r  4%|▍         | 5/127.84375 [00:46<18:54,  9.23s/it]\r  5%|▍         | 6/127.84375 [00:55<18:47,  9.25s/it]\r  5%|▌         | 7/127.84375 [01:04<18:35,  9.23s/it]\r  6%|▋         | 8/127.84375 [01:13<18:30,  9.27s/it]\r  7%|▋         | 9/127.84375 [01:23<18:22,  9.27s/it]\r  8%|▊         | 10/127.84375 [01:32<18:09,  9.25s/it]\r  9%|▊         | 11/127.84375 [01:41<18:02,  9.26s/it]\r  9%|▉         | 12/127.84375 [01:50<17:51,  9.25s/it]\r 10%|█         | 13/127.84375 [02:00<17:48,  9.31s/it]\r 11%|█         | 14/127.84375 [02:09<17:30,  9.22s/it]\r 12%|█▏        | 15/127.84375 [02:18<17:26,  9.27s/it]\r 13%|█▎        | 16/127.84375 [02:27<17:14,  9.25s/it]\r 13%|█▎        | 17/127.84375 [02:37<17:07,  9.27s/it]\r 14%|█▍        | 18/127.84375 [02:46<16:59,  9.28s/it]\r 15%|█▍        | 19/127.84375 [02:56<16:55,  9.33s/it]\r 16%|█▌        | 20/127.84375 [03:05<16:47,  9.34s/it]\r 16%|█▋        | 21/127.84375 [03:14<16:43,  9.39s/it]\r 17%|█▋        | 22/127.84375 [03:24<16:27,  9.33s/it]\r 18%|█▊        | 23/127.84375 [03:33<16:13,  9.29s/it]\r 19%|█▉        | 24/127.84375 [03:42<16:01,  9.26s/it]\r 20%|█▉        | 25/127.84375 [03:51<15:49,  9.24s/it]\r 20%|██        | 26/127.84375 [04:00<15:41,  9.25s/it]\r 21%|██        | 27/127.84375 [04:10<15:38,  9.31s/it]\r 22%|██▏       | 28/127.84375 [04:19<15:24,  9.26s/it]\r 23%|██▎       | 29/127.84375 [04:29<15:23,  9.34s/it]\r 23%|██▎       | 30/127.84375 [04:38<15:14,  9.35s/it]\r 24%|██▍       | 31/127.84375 [04:47<15:01,  9.31s/it]\r 25%|██▌       | 32/127.84375 [04:56<14:53,  9.32s/it]\r 26%|██▌       | 33/127.84375 [05:06<14:48,  9.37s/it]\r 27%|██▋       | 34/127.84375 [05:15<14:36,  9.34s/it]\r 27%|██▋       | 35/127.84375 [05:25<14:28,  9.35s/it]\r 28%|██▊       | 36/127.84375 [05:34<14:12,  9.29s/it]\r 29%|██▉       | 37/127.84375 [05:43<14:06,  9.32s/it]\r 30%|██▉       | 38/127.84375 [05:52<13:56,  9.31s/it]\r 31%|███       | 39/127.84375 [06:02<13:50,  9.35s/it]\r 31%|███▏      | 40/127.84375 [06:11<13:37,  9.30s/it]\r 32%|███▏      | 41/127.84375 [06:20<13:29,  9.32s/it]\r 33%|███▎      | 42/127.84375 [06:30<13:17,  9.29s/it]\r 34%|███▎      | 43/127.84375 [06:39<13:06,  9.27s/it]\r 34%|███▍      | 44/127.84375 [06:48<12:56,  9.26s/it]\r 35%|███▌      | 45/127.84375 [06:57<12:48,  9.28s/it]\r 36%|███▌      | 46/127.84375 [07:07<12:42,  9.32s/it]\r 37%|███▋      | 47/127.84375 [07:16<12:32,  9.31s/it]\r 38%|███▊      | 48/127.84375 [07:25<12:20,  9.27s/it]\r 38%|███▊      | 49/127.84375 [07:35<12:12,  9.29s/it]\r 39%|███▉      | 50/127.84375 [07:44<12:01,  9.27s/it]\r 40%|███▉      | 51/127.84375 [07:53<11:49,  9.24s/it]\r 41%|████      | 52/127.84375 [08:02<11:35,  9.17s/it]\r 41%|████▏     | 53/127.84375 [08:11<11:28,  9.20s/it]\r 42%|████▏     | 54/127.84375 [08:20<11:16,  9.17s/it]\r 43%|████▎     | 55/127.84375 [08:30<11:07,  9.17s/it]\r 44%|████▍     | 56/127.84375 [08:39<10:54,  9.10s/it]\r 45%|████▍     | 57/127.84375 [08:48<10:47,  9.14s/it]\r 45%|████▌     | 58/127.84375 [08:57<10:38,  9.14s/it]\r 46%|████▌     | 59/127.84375 [09:06<10:35,  9.23s/it]\r 47%|████▋     | 60/127.84375 [09:15<10:20,  9.14s/it]\r 48%|████▊     | 61/127.84375 [09:25<10:13,  9.18s/it]\r 48%|████▊     | 62/127.84375 [09:34<10:03,  9.17s/it]\r 49%|████▉     | 63/127.84375 [09:43<09:56,  9.20s/it]\r 50%|█████     | 64/127.84375 [09:52<09:45,  9.17s/it]\r 51%|█████     | 65/127.84375 [10:02<09:43,  9.29s/it]\r 52%|█████▏    | 66/127.84375 [10:11<09:28,  9.19s/it]\r 52%|█████▏    | 67/127.84375 [10:20<09:25,  9.29s/it]\r 53%|█████▎    | 68/127.84375 [10:29<09:16,  9.30s/it]\r 54%|█████▍    | 69/127.84375 [10:39<09:10,  9.36s/it]\r 55%|█████▍    | 70/127.84375 [10:48<08:57,  9.30s/it]\r 56%|█████▌    | 71/127.84375 [10:57<08:45,  9.24s/it]\r 56%|█████▋    | 72/127.84375 [11:07<08:39,  9.30s/it]\r 57%|█████▋    | 73/127.84375 [11:16<08:31,  9.32s/it]\r 58%|█████▊    | 74/127.84375 [11:25<08:20,  9.30s/it]\r 59%|█████▊    | 75/127.84375 [11:35<08:10,  9.29s/it]\r 59%|█████▉    | 76/127.84375 [11:44<07:58,  9.22s/it]\r 60%|██████    | 77/127.84375 [11:53<07:48,  9.21s/it]\r 61%|██████    | 78/127.84375 [12:02<07:38,  9.20s/it]\r 62%|██████▏   | 79/127.84375 [12:11<07:32,  9.27s/it]\r 63%|██████▎   | 80/127.84375 [12:21<07:24,  9.29s/it]\r 63%|██████▎   | 81/127.84375 [12:30<07:15,  9.29s/it]\r 64%|██████▍   | 82/127.84375 [12:39<07:02,  9.22s/it]\r 65%|██████▍   | 83/127.84375 [12:48<06:55,  9.26s/it]\r 66%|██████▌   | 84/127.84375 [12:57<06:41,  9.16s/it]\r 66%|██████▋   | 85/127.84375 [13:07<06:33,  9.20s/it]\r 67%|██████▋   | 86/127.84375 [13:16<06:24,  9.18s/it]\r 68%|██████▊   | 87/127.84375 [13:25<06:12,  9.13s/it]\r 69%|██████▉   | 88/127.84375 [13:34<06:03,  9.12s/it]\r 70%|██████▉   | 89/127.84375 [13:43<05:57,  9.22s/it]\r 70%|███████   | 90/127.84375 [13:53<05:49,  9.22s/it]\r 71%|███████   | 91/127.84375 [14:02<05:39,  9.22s/it]\r 72%|███████▏  | 92/127.84375 [14:11<05:32,  9.28s/it]\r 73%|███████▎  | 93/127.84375 [14:21<05:23,  9.29s/it]\r 74%|███████▎  | 94/127.84375 [14:30<05:13,  9.28s/it]\r 74%|███████▍  | 95/127.84375 [14:39<05:05,  9.29s/it]\r 75%|███████▌  | 96/127.84375 [14:48<04:54,  9.26s/it]\r 76%|███████▌  | 97/127.84375 [14:58<04:47,  9.33s/it]\r 77%|███████▋  | 98/127.84375 [15:07<04:37,  9.29s/it]\r 77%|███████▋  | 99/127.84375 [15:16<04:28,  9.31s/it]\r 78%|███████▊  | 100/127.84375 [15:25<04:18,  9.27s/it]\r 79%|███████▉  | 101/127.84375 [15:35<04:09,  9.31s/it]\r 80%|███████▉  | 102/127.84375 [15:44<04:00,  9.32s/it]\r 81%|████████  | 103/127.84375 [15:54<03:52,  9.34s/it]\r 81%|████████▏ | 104/127.84375 [16:03<03:40,  9.26s/it]\r 82%|████████▏ | 105/127.84375 [16:12<03:32,  9.29s/it]\r 83%|████████▎ | 106/127.84375 [16:21<03:21,  9.22s/it]\r 84%|████████▎ | 107/127.84375 [16:30<03:12,  9.25s/it]\r 84%|████████▍ | 108/127.84375 [16:40<03:04,  9.31s/it]\r 85%|████████▌ | 109/127.84375 [16:49<02:54,  9.27s/it]\r 86%|████████▌ | 110/127.84375 [16:58<02:45,  9.29s/it]\r 87%|████████▋ | 111/127.84375 [17:08<02:37,  9.35s/it]\r 88%|████████▊ | 112/127.84375 [17:17<02:27,  9.30s/it]\r 88%|████████▊ | 113/127.84375 [17:26<02:17,  9.25s/it]\r 89%|████████▉ | 114/127.84375 [17:36<02:08,  9.30s/it]\r 90%|████████▉ | 115/127.84375 [17:45<01:58,  9.26s/it]\r 91%|█████████ | 116/127.84375 [17:54<01:49,  9.22s/it]\r 92%|█████████▏| 117/127.84375 [18:03<01:40,  9.28s/it]\r 92%|█████████▏| 118/127.84375 [18:12<01:31,  9.25s/it]\r 93%|█████████▎| 119/127.84375 [18:22<01:22,  9.33s/it]\r 94%|█████████▍| 120/127.84375 [18:31<01:12,  9.27s/it]\r 95%|█████████▍| 121/127.84375 [18:41<01:03,  9.32s/it]\r 95%|█████████▌| 122/127.84375 [18:50<00:54,  9.30s/it]\r 96%|█████████▌| 123/127.84375 [18:59<00:45,  9.34s/it]\r 97%|█████████▋| 124/127.84375 [19:08<00:35,  9.26s/it]\r 98%|█████████▊| 125/127.84375 [19:18<00:26,  9.32s/it]\r 99%|█████████▊| 126/127.84375 [19:27<00:17,  9.24s/it]\r 99%|█████████▉| 127/127.84375 [19:36<00:07,  9.27s/it]/databricks/python/lib/python3.11/site-packages/tqdm/std.py:524: TqdmWarning: clamping frac to range [0, 1]\n",
      "  full_bar = Bar(frac,\n",
      "\r100%|██████████| 128/127.84375 [19:46<-1:59:59,  9.31s/it]\r129it [19:55,  9.29s/it]                                  \r130it [20:04,  9.30s/it]\r131it [20:14,  9.36s/it]\r132it [20:23,  9.28s/it]\r133it [20:32,  9.29s/it]\r134it [20:41,  9.21s/it]\r135it [20:50,  9.26s/it]\r136it [21:00,  9.23s/it]\r137it [21:09,  9.32s/it]\r138it [21:19,  9.33s/it]\r139it [21:28,  9.39s/it]\r140it [21:37,  9.32s/it]\r141it [21:47,  9.35s/it]\r142it [21:56,  9.33s/it]\r143it [22:05,  9.28s/it]\r144it [22:14,  9.24s/it]\r145it [22:24,  9.29s/it]\r146it [22:33,  9.26s/it]\r147it [22:42,  9.33s/it]\r148it [22:52,  9.29s/it]\r149it [23:01,  9.36s/it]\r150it [23:10,  9.30s/it]\r151it [23:19,  9.28s/it]\r152it [23:29,  9.26s/it]\r153it [23:38,  9.26s/it]\r154it [23:47,  9.27s/it]\r155it [23:57,  9.33s/it]\r156it [24:06,  9.30s/it]\r157it [24:15,  9.37s/it]\r158it [24:25,  9.32s/it]\r159it [24:34,  9.36s/it]\r160it [24:43,  9.30s/it]\r161it [24:53,  9.32s/it]\r162it [25:02,  9.32s/it]\r163it [25:11,  9.36s/it]\r164it [25:21,  9.32s/it]\r165it [25:30,  9.33s/it]\r166it [25:39,  9.30s/it]\r167it [25:48,  9.29s/it]\r168it [25:58,  9.29s/it]\r169it [26:07,  9.32s/it]\r170it [26:16,  9.27s/it]\r171it [26:25,  9.23s/it]\r172it [26:34,  9.16s/it]\r173it [26:44,  9.19s/it]\r174it [26:53,  9.22s/it]\r175it [27:02,  9.24s/it]\r176it [27:12,  9.28s/it]\r177it [27:21,  9.31s/it]\r178it [27:30,  9.24s/it]\r179it [27:40,  9.31s/it]\r180it [27:49,  9.23s/it]\r181it [27:58,  9.27s/it]\r182it [28:07,  9.24s/it]\r183it [28:16,  9.26s/it]\r184it [28:26,  9.25s/it]\r185it [28:35,  9.29s/it]\r186it [28:44,  9.26s/it]\r187it [28:53,  9.23s/it]\r188it [29:03,  9.26s/it]\r189it [29:12,  9.35s/it]\r190it [29:21,  9.26s/it]\r191it [29:31,  9.36s/it]\r192it [29:40,  9.35s/it]\r193it [29:50,  9.40s/it]\r194it [29:59,  9.37s/it]\r195it [30:08,  9.36s/it]\r196it [30:18,  9.35s/it]\r197it [30:27,  9.38s/it]\r198it [30:37,  9.37s/it]\r199it [30:46,  9.42s/it]\r200it [30:55,  9.37s/it]\r201it [31:05,  9.37s/it]\r202it [31:14,  9.27s/it]\r203it [31:23,  9.29s/it]\r204it [31:32,  9.31s/it]\r205it [31:42,  9.38s/it]\r206it [31:51,  9.33s/it]\r207it [32:01,  9.32s/it]\r208it [32:10,  9.26s/it]\r209it [32:19,  9.30s/it]\r210it [32:28,  9.25s/it]\r211it [32:38,  9.30s/it]\r212it [32:47,  9.35s/it]\r213it [32:56,  9.36s/it]\r214it [33:06,  9.36s/it]\r215it [33:15,  9.39s/it]\r216it [33:25,  9.38s/it]\r217it [33:34,  9.36s/it]\r218it [33:43,  9.37s/it]\r219it [33:53,  9.35s/it]\r220it [34:02,  9.30s/it]\r221it [34:11,  9.27s/it]\r222it [34:20,  9.30s/it]\r223it [34:30,  9.26s/it]\r224it [34:39,  9.23s/it]\r225it [34:48,  9.20s/it]\r226it [34:57,  9.23s/it]\r227it [35:06,  9.25s/it]\r228it [35:16,  9.31s/it]\r229it [35:25,  9.32s/it]\r230it [35:34,  9.29s/it]\r231it [35:44,  9.27s/it]\r232it [35:53,  9.23s/it]\r233it [36:02,  9.26s/it]\r234it [36:11,  9.21s/it]\r235it [36:21,  9.26s/it]\r236it [36:30,  9.22s/it]\r237it [36:39,  9.32s/it]\r238it [36:49,  9.29s/it]\r239it [36:58,  9.26s/it]\r240it [37:07,  9.25s/it]\r240it [37:07,  9.28s/it]\n"
     ]
    },
    {
     "name": "stdout",
     "output_type": "stream",
     "text": [
      "Epoch 2 train loss: 0.2705078125\n",
      "[Train - End / Test - Start Epoch 3] GPU Memory: Allocated=2.31GB, Reserved=3.29GB\n"
     ]
    },
    {
     "name": "stderr",
     "output_type": "stream",
     "text": [
      "\r  0%|          | 0/14.1875 [00:00<?, ?it/s]\r  7%|▋         | 1/14.1875 [00:06<01:30,  6.88s/it]\r 14%|█▍        | 2/14.1875 [00:13<01:25,  6.99s/it]\r 21%|██        | 3/14.1875 [00:21<01:19,  7.11s/it]\r 28%|██▊       | 4/14.1875 [00:27<01:10,  6.97s/it]\r 35%|███▌      | 5/14.1875 [00:35<01:04,  7.00s/it]\r 42%|████▏     | 6/14.1875 [00:41<00:57,  6.96s/it]\r 49%|████▉     | 7/14.1875 [00:48<00:50,  6.99s/it]\r 56%|█████▋    | 8/14.1875 [00:55<00:42,  6.94s/it]\r 63%|██████▎   | 9/14.1875 [01:02<00:35,  6.92s/it]\r 70%|███████   | 10/14.1875 [01:09<00:28,  6.89s/it]\r 78%|███████▊  | 11/14.1875 [01:16<00:22,  6.96s/it]\r 85%|████████▍ | 12/14.1875 [01:23<00:15,  7.07s/it]\r 92%|█████████▏| 13/14.1875 [01:31<00:08,  7.14s/it]\r 99%|█████████▊| 14/14.1875 [01:38<00:01,  7.08s/it]\r15it [01:45,  7.06s/it]                             \r16it [01:52,  7.08s/it]\r17it [01:59,  7.05s/it]\r18it [02:06,  7.06s/it]\r19it [02:13,  7.00s/it]\r20it [02:20,  6.97s/it]\r21it [02:27,  7.01s/it]\r22it [02:34,  7.02s/it]\r23it [02:41,  7.04s/it]\r24it [02:48,  7.03s/it]\r25it [02:55,  7.08s/it]\r26it [03:02,  7.07s/it]\r27it [03:09,  7.02s/it]\r28it [03:16,  7.03s/it]\r29it [03:23,  7.11s/it]\r30it [03:30,  7.06s/it]\r30it [03:30,  7.03s/it]\n"
     ]
    },
    {
     "name": "stdout",
     "output_type": "stream",
     "text": [
      "Cumulative Accuracy for CP: 72.22%\n",
      "Cumulative Accuracy for chopping-board: 96.67%\n",
      "Cumulative Accuracy for finalstep: 90.00%\n",
      "Cumulative Accuracy for glass-bowl-large: 83.33%\n",
      "Cumulative Accuracy for glass-bowl-medium: 71.11%\n",
      "Cumulative Accuracy for glass-bowl-small: 55.56%\n",
      "Cumulative Accuracy for grill-plate: nan%\n",
      "Cumulative Accuracy for group_step: 73.33%\n",
      "Cumulative Accuracy for medium: 81.11%\n",
      "Cumulative Accuracy for oven-dish: 100.00%\n",
      "Cumulative Accuracy for oven-tray: 96.67%\n",
      "Cumulative Accuracy for pan: 100.00%\n",
      "Cumulative Accuracy for pot-one-handle: 96.67%\n",
      "Cumulative Accuracy for pot-two-handles-medium: 63.33%\n",
      "Cumulative Accuracy for pot-two-handles-shallow: 88.89%\n",
      "Cumulative Accuracy for pot-two-handles-small: nan%\n",
      "Cumulative Accuracy for saucepan: 100.00%\n",
      "\n",
      "Mean Top 3 Accuracy (Val): 94.44%\n",
      "Mean Top 1 Accuracy (Val): 80.00%\n",
      "Macro-averaged Accuracy (Val): 84.59%\n",
      "Epoch 2 test loss: 15.3671875\n",
      "\n",
      "[Test - End Epoch 3] GPU Memory: Allocated=2.31GB, Reserved=3.29GB\n",
      "\n",
      "Epoch 4/120\n",
      "[Train - Start Epoch 4] GPU Memory: Allocated=2.31GB, Reserved=3.29GB\n"
     ]
    },
    {
     "name": "stderr",
     "output_type": "stream",
     "text": [
      "\r  0%|          | 0/127.84375 [00:00<?, ?it/s]\r  1%|          | 1/127.84375 [00:07<16:26,  7.78s/it]\r  2%|▏         | 2/127.84375 [00:15<16:21,  7.80s/it]\r  2%|▏         | 3/127.84375 [00:23<16:05,  7.74s/it]\r  3%|▎         | 4/127.84375 [00:30<15:50,  7.68s/it]\r  4%|▍         | 5/127.84375 [00:38<15:41,  7.67s/it]\r  5%|▍         | 6/127.84375 [00:46<15:32,  7.65s/it]\r  5%|▌         | 7/127.84375 [00:53<15:27,  7.67s/it]\r  6%|▋         | 8/127.84375 [01:01<15:17,  7.65s/it]\r  7%|▋         | 9/127.84375 [01:09<15:10,  7.66s/it]\r  8%|▊         | 10/127.84375 [01:16<14:59,  7.63s/it]\r  9%|▊         | 11/127.84375 [01:24<14:47,  7.60s/it]\r  9%|▉         | 12/127.84375 [01:32<14:51,  7.70s/it]\r 10%|█         | 13/127.84375 [01:39<14:39,  7.66s/it]\r 11%|█         | 14/127.84375 [01:47<14:29,  7.64s/it]\r 12%|█▏        | 15/127.84375 [01:54<14:19,  7.62s/it]\r 13%|█▎        | 16/127.84375 [02:02<14:12,  7.62s/it]\r 13%|█▎        | 17/127.84375 [02:10<14:01,  7.59s/it]\r 14%|█▍        | 18/127.84375 [02:17<13:51,  7.57s/it]\r 15%|█▍        | 19/127.84375 [02:25<13:45,  7.58s/it]\r 16%|█▌        | 20/127.84375 [02:32<13:35,  7.56s/it]\r 16%|█▋        | 21/127.84375 [02:40<13:28,  7.57s/it]\r 17%|█▋        | 22/127.84375 [02:47<13:17,  7.53s/it]\r 18%|█▊        | 23/127.84375 [02:55<13:05,  7.50s/it]\r 19%|█▉        | 24/127.84375 [03:02<12:59,  7.51s/it]\r 20%|█▉        | 25/127.84375 [03:10<12:52,  7.52s/it]\r 20%|██        | 26/127.84375 [03:17<12:40,  7.47s/it]\r 21%|██        | 27/127.84375 [03:25<12:34,  7.49s/it]\r 22%|██▏       | 28/127.84375 [03:32<12:28,  7.50s/it]\r 23%|██▎       | 29/127.84375 [03:39<12:18,  7.47s/it]\r 23%|██▎       | 30/127.84375 [03:47<12:08,  7.44s/it]\r 24%|██▍       | 31/127.84375 [03:55<12:06,  7.50s/it]\r 25%|██▌       | 32/127.84375 [04:02<11:51,  7.42s/it]\r 26%|██▌       | 33/127.84375 [04:09<11:51,  7.50s/it]\r 27%|██▋       | 34/127.84375 [04:17<11:43,  7.50s/it]\r 27%|██▋       | 35/127.84375 [04:25<11:41,  7.55s/it]\r 28%|██▊       | 36/127.84375 [04:32<11:32,  7.54s/it]\r 29%|██▉       | 37/127.84375 [04:40<11:28,  7.57s/it]\r 30%|██▉       | 38/127.84375 [04:47<11:22,  7.60s/it]\r 31%|███       | 39/127.84375 [04:55<11:08,  7.53s/it]\r 31%|███▏      | 40/127.84375 [05:02<11:03,  7.55s/it]\r 32%|███▏      | 41/127.84375 [05:10<10:53,  7.53s/it]\r 33%|███▎      | 42/127.84375 [05:17<10:44,  7.51s/it]\r 34%|███▎      | 43/127.84375 [05:25<10:45,  7.61s/it]\r 34%|███▍      | 44/127.84375 [05:33<10:40,  7.64s/it]\r 35%|███▌      | 45/127.84375 [05:40<10:27,  7.57s/it]\r 36%|███▌      | 46/127.84375 [05:48<10:20,  7.58s/it]\r 37%|███▋      | 47/127.84375 [05:56<10:13,  7.59s/it]\r 38%|███▊      | 48/127.84375 [06:03<10:06,  7.59s/it]\r 38%|███▊      | 49/127.84375 [06:11<09:57,  7.58s/it]\r 39%|███▉      | 50/127.84375 [06:18<09:48,  7.56s/it]\r 40%|███▉      | 51/127.84375 [06:26<09:43,  7.59s/it]\r 41%|████      | 52/127.84375 [06:34<09:42,  7.68s/it]\r 41%|████▏     | 53/127.84375 [06:41<09:32,  7.64s/it]\r 42%|████▏     | 54/127.84375 [06:49<09:22,  7.62s/it]\r 43%|████▎     | 55/127.84375 [06:57<09:17,  7.65s/it]\r 44%|████▍     | 56/127.84375 [07:04<09:08,  7.64s/it]\r 45%|████▍     | 57/127.84375 [07:12<09:01,  7.64s/it]\r 45%|████▌     | 58/127.84375 [07:19<08:49,  7.58s/it]\r 46%|████▌     | 59/127.84375 [07:27<08:43,  7.61s/it]\r 47%|████▋     | 60/127.84375 [07:35<08:37,  7.62s/it]\r 48%|████▊     | 61/127.84375 [07:42<08:24,  7.55s/it]\r 48%|████▊     | 62/127.84375 [07:50<08:17,  7.56s/it]\r 49%|████▉     | 63/127.84375 [07:57<08:09,  7.55s/it]\r 50%|█████     | 64/127.84375 [08:04<07:57,  7.48s/it]\r 51%|█████     | 65/127.84375 [08:12<07:51,  7.50s/it]\r 52%|█████▏    | 66/127.84375 [08:20<07:46,  7.54s/it]\r 52%|█████▏    | 67/127.84375 [08:27<07:36,  7.50s/it]\r 53%|█████▎    | 68/127.84375 [08:35<07:29,  7.51s/it]\r 54%|█████▍    | 69/127.84375 [08:42<07:23,  7.53s/it]\r 55%|█████▍    | 70/127.84375 [08:50<07:19,  7.59s/it]\r 56%|█████▌    | 71/127.84375 [08:57<07:12,  7.60s/it]\r 56%|█████▋    | 72/127.84375 [09:05<07:02,  7.57s/it]\r 57%|█████▋    | 73/127.84375 [09:13<06:56,  7.60s/it]\r 58%|█████▊    | 74/127.84375 [09:20<06:49,  7.60s/it]\r 59%|█████▊    | 75/127.84375 [09:28<06:39,  7.55s/it]\r 59%|█████▉    | 76/127.84375 [09:35<06:31,  7.56s/it]\r 60%|██████    | 77/127.84375 [09:43<06:22,  7.52s/it]\r 61%|██████    | 78/127.84375 [09:50<06:17,  7.57s/it]\r 62%|██████▏   | 79/127.84375 [09:58<06:07,  7.53s/it]\r 63%|██████▎   | 80/127.84375 [10:05<06:02,  7.57s/it]\r 63%|██████▎   | 81/127.84375 [10:13<05:53,  7.54s/it]\r 64%|██████▍   | 82/127.84375 [10:20<05:44,  7.51s/it]\r 65%|██████▍   | 83/127.84375 [10:28<05:36,  7.49s/it]\r 66%|██████▌   | 84/127.84375 [10:35<05:29,  7.52s/it]\r 66%|██████▋   | 85/127.84375 [10:43<05:22,  7.52s/it]\r 67%|██████▋   | 86/127.84375 [10:51<05:15,  7.55s/it]\r 68%|██████▊   | 87/127.84375 [10:58<05:09,  7.57s/it]\r 69%|██████▉   | 88/127.84375 [11:06<05:00,  7.54s/it]\r 70%|██████▉   | 89/127.84375 [11:13<04:53,  7.56s/it]\r 70%|███████   | 90/127.84375 [11:21<04:44,  7.51s/it]\r 71%|███████   | 91/127.84375 [11:28<04:36,  7.51s/it]\r 72%|███████▏  | 92/127.84375 [11:36<04:28,  7.49s/it]\r 73%|███████▎  | 93/127.84375 [11:43<04:21,  7.51s/it]\r 74%|███████▎  | 94/127.84375 [11:51<04:13,  7.48s/it]\r 74%|███████▍  | 95/127.84375 [11:58<04:04,  7.45s/it]\r 75%|███████▌  | 96/127.84375 [12:06<03:58,  7.50s/it]\r 76%|███████▌  | 97/127.84375 [12:13<03:50,  7.48s/it]\r 77%|███████▋  | 98/127.84375 [12:21<03:44,  7.53s/it]\r 77%|███████▋  | 99/127.84375 [12:28<03:37,  7.56s/it]\r 78%|███████▊  | 100/127.84375 [12:36<03:30,  7.55s/it]\r 79%|███████▉  | 101/127.84375 [12:43<03:22,  7.55s/it]\r 80%|███████▉  | 102/127.84375 [12:51<03:15,  7.55s/it]\r 81%|████████  | 103/127.84375 [12:58<03:07,  7.53s/it]\r 81%|████████▏ | 104/127.84375 [13:06<02:59,  7.53s/it]\r 82%|████████▏ | 105/127.84375 [13:14<02:53,  7.58s/it]\r 83%|████████▎ | 106/127.84375 [13:21<02:43,  7.49s/it]\r 84%|████████▎ | 107/127.84375 [13:29<02:37,  7.55s/it]\r 84%|████████▍ | 108/127.84375 [13:36<02:29,  7.56s/it]\r 85%|████████▌ | 109/127.84375 [13:44<02:22,  7.55s/it]\r 86%|████████▌ | 110/127.84375 [13:51<02:15,  7.60s/it]\r 87%|████████▋ | 111/127.84375 [13:59<02:08,  7.63s/it]\r 88%|████████▊ | 112/127.84375 [14:07<02:00,  7.59s/it]\r 88%|████████▊ | 113/127.84375 [14:14<01:52,  7.59s/it]\r 89%|████████▉ | 114/127.84375 [14:22<01:45,  7.62s/it]\r 90%|████████▉ | 115/127.84375 [14:29<01:37,  7.59s/it]\r 91%|█████████ | 116/127.84375 [14:37<01:30,  7.60s/it]\r 92%|█████████▏| 117/127.84375 [14:45<01:22,  7.59s/it]\r 92%|█████████▏| 118/127.84375 [14:52<01:14,  7.53s/it]\r 93%|█████████▎| 119/127.84375 [14:59<01:06,  7.52s/it]\r 94%|█████████▍| 120/127.84375 [15:07<00:58,  7.50s/it]\r 95%|█████████▍| 121/127.84375 [15:14<00:51,  7.51s/it]\r 95%|█████████▌| 122/127.84375 [15:22<00:43,  7.48s/it]\r 96%|█████████▌| 123/127.84375 [15:29<00:36,  7.49s/it]\r 97%|█████████▋| 124/127.84375 [15:37<00:28,  7.50s/it]\r 98%|█████████▊| 125/127.84375 [15:44<00:21,  7.50s/it]\r 99%|█████████▊| 126/127.84375 [15:52<00:13,  7.56s/it]\r 99%|█████████▉| 127/127.84375 [16:00<00:06,  7.54s/it]/databricks/python/lib/python3.11/site-packages/tqdm/std.py:524: TqdmWarning: clamping frac to range [0, 1]\n",
      "  full_bar = Bar(frac,\n",
      "\r100%|██████████| 128/127.84375 [16:07<-1:59:59,  7.53s/it]\r129it [16:15,  7.54s/it]                                  \r130it [16:22,  7.51s/it]\r131it [16:30,  7.52s/it]\r132it [16:37,  7.54s/it]\r133it [16:45,  7.58s/it]\r134it [16:53,  7.65s/it]\r135it [17:00,  7.67s/it]\r136it [17:08,  7.71s/it]\r137it [17:16,  7.74s/it]\r138it [17:24,  7.73s/it]\r139it [17:31,  7.70s/it]\r140it [17:39,  7.63s/it]\r141it [17:46,  7.61s/it]\r142it [17:54,  7.63s/it]\r143it [18:02,  7.57s/it]\r144it [18:09,  7.55s/it]\r145it [18:17,  7.53s/it]\r146it [18:24,  7.55s/it]\r147it [18:32,  7.56s/it]\r148it [18:39,  7.57s/it]\r149it [18:47,  7.56s/it]\r150it [18:54,  7.55s/it]\r151it [19:02,  7.53s/it]\r152it [19:09,  7.52s/it]\r153it [19:17,  7.56s/it]\r154it [19:25,  7.59s/it]\r155it [19:32,  7.58s/it]\r156it [19:40,  7.60s/it]\r157it [19:47,  7.54s/it]\r158it [19:55,  7.57s/it]\r159it [20:03,  7.59s/it]\r160it [20:10,  7.53s/it]\r161it [20:17,  7.54s/it]\r162it [20:25,  7.58s/it]\r163it [20:33,  7.53s/it]\r164it [20:40,  7.53s/it]\r165it [20:48,  7.53s/it]\r166it [20:55,  7.52s/it]\r167it [21:03,  7.54s/it]\r168it [21:11,  7.63s/it]\r169it [21:18,  7.59s/it]\r170it [21:26,  7.58s/it]\r171it [21:33,  7.51s/it]\r172it [21:40,  7.44s/it]\r173it [21:48,  7.48s/it]\r174it [21:55,  7.50s/it]\r175it [22:03,  7.53s/it]\r176it [22:11,  7.59s/it]\r177it [22:18,  7.56s/it]\r178it [22:26,  7.64s/it]\r179it [22:33,  7.58s/it]\r180it [22:41,  7.53s/it]\r181it [22:48,  7.56s/it]\r182it [22:56,  7.58s/it]\r183it [23:04,  7.58s/it]\r184it [23:11,  7.57s/it]\r185it [23:19,  7.58s/it]\r186it [23:26,  7.55s/it]\r187it [23:34,  7.56s/it]\r188it [23:42,  7.59s/it]\r189it [23:49,  7.56s/it]\r190it [23:57,  7.54s/it]\r191it [24:04,  7.57s/it]\r192it [24:12,  7.51s/it]\r193it [24:19,  7.53s/it]\r194it [24:27,  7.56s/it]\r195it [24:34,  7.56s/it]\r196it [24:42,  7.52s/it]\r197it [24:49,  7.51s/it]\r198it [24:57,  7.46s/it]\r199it [25:04,  7.45s/it]\r200it [25:11,  7.46s/it]\r201it [25:19,  7.51s/it]\r202it [25:27,  7.58s/it]\r203it [25:34,  7.57s/it]\r204it [25:42,  7.54s/it]\r205it [25:49,  7.55s/it]\r206it [25:57,  7.56s/it]\r207it [26:05,  7.58s/it]\r208it [26:12,  7.62s/it]\r209it [26:20,  7.67s/it]\r210it [26:28,  7.64s/it]\r211it [26:35,  7.57s/it]\r212it [26:43,  7.57s/it]\r213it [26:50,  7.57s/it]\r214it [26:58,  7.59s/it]\r215it [27:06,  7.71s/it]\r216it [27:14,  7.71s/it]\r217it [27:21,  7.72s/it]\r218it [27:29,  7.65s/it]\r219it [27:36,  7.60s/it]\r220it [27:44,  7.63s/it]\r221it [27:52,  7.67s/it]\r222it [27:59,  7.68s/it]\r223it [28:07,  7.64s/it]\r224it [28:15,  7.62s/it]\r225it [28:22,  7.64s/it]\r226it [28:30,  7.61s/it]\r227it [28:37,  7.62s/it]\r228it [28:45,  7.66s/it]\r229it [28:53,  7.73s/it]\r230it [29:01,  7.69s/it]\r231it [29:08,  7.69s/it]\r232it [29:16,  7.66s/it]\r233it [29:23,  7.62s/it]\r234it [29:31,  7.61s/it]\r235it [29:39,  7.60s/it]\r236it [29:46,  7.55s/it]\r237it [29:54,  7.59s/it]\r238it [30:02,  7.64s/it]\r239it [30:09,  7.57s/it]\r240it [30:17,  7.59s/it]\r240it [30:17,  7.57s/it]\n"
     ]
    },
    {
     "name": "stdout",
     "output_type": "stream",
     "text": [
      "Epoch 3 train loss: 0.1795654296875\n",
      "[Train - End / Test - Start Epoch 4] GPU Memory: Allocated=2.30GB, Reserved=3.29GB\n"
     ]
    },
    {
     "name": "stderr",
     "output_type": "stream",
     "text": [
      "\r  0%|          | 0/14.1875 [00:00<?, ?it/s]\r  7%|▋         | 1/14.1875 [00:07<01:32,  7.02s/it]\r 14%|█▍        | 2/14.1875 [00:14<01:26,  7.11s/it]\r 21%|██        | 3/14.1875 [00:21<01:18,  7.06s/it]\r 28%|██▊       | 4/14.1875 [00:28<01:11,  6.98s/it]\r 35%|███▌      | 5/14.1875 [00:35<01:04,  7.05s/it]\r 42%|████▏     | 6/14.1875 [00:42<00:57,  7.04s/it]\r 49%|████▉     | 7/14.1875 [00:49<00:50,  7.06s/it]\r 56%|█████▋    | 8/14.1875 [00:56<00:43,  7.09s/it]\r 63%|██████▎   | 9/14.1875 [01:03<00:36,  7.07s/it]\r 70%|███████   | 10/14.1875 [01:10<00:29,  7.08s/it]\r 78%|███████▊  | 11/14.1875 [01:17<00:22,  7.12s/it]\r 85%|████████▍ | 12/14.1875 [01:24<00:15,  7.09s/it]\r 92%|█████████▏| 13/14.1875 [01:31<00:08,  7.07s/it]\r 99%|█████████▊| 14/14.1875 [01:39<00:01,  7.14s/it]\r15it [01:46,  7.09s/it]                             \r16it [01:53,  7.09s/it]\r17it [02:00,  7.11s/it]\r18it [02:07,  7.01s/it]\r19it [02:14,  6.97s/it]\r20it [02:20,  6.89s/it]\r21it [02:27,  6.86s/it]\r22it [02:34,  6.84s/it]\r23it [02:41,  6.89s/it]\r24it [02:47,  6.79s/it]\r25it [02:54,  6.75s/it]\r26it [03:01,  6.74s/it]\r27it [03:07,  6.74s/it]\r28it [03:14,  6.70s/it]\r29it [03:21,  6.65s/it]\r30it [03:27,  6.65s/it]\r30it [03:27,  6.93s/it]\n"
     ]
    },
    {
     "name": "stdout",
     "output_type": "stream",
     "text": [
      "Cumulative Accuracy for CP: 69.17%\n",
      "Cumulative Accuracy for chopping-board: 96.67%\n",
      "Cumulative Accuracy for finalstep: 90.83%\n",
      "Cumulative Accuracy for glass-bowl-large: 84.17%\n",
      "Cumulative Accuracy for glass-bowl-medium: 69.17%\n",
      "Cumulative Accuracy for glass-bowl-small: 57.50%\n",
      "Cumulative Accuracy for grill-plate: nan%\n",
      "Cumulative Accuracy for group_step: 68.33%\n",
      "Cumulative Accuracy for medium: 85.00%\n",
      "Cumulative Accuracy for oven-dish: 100.00%\n",
      "Cumulative Accuracy for oven-tray: 97.50%\n",
      "Cumulative Accuracy for pan: 100.00%\n",
      "Cumulative Accuracy for pot-one-handle: 97.50%\n",
      "Cumulative Accuracy for pot-two-handles-medium: 64.17%\n",
      "Cumulative Accuracy for pot-two-handles-shallow: 91.67%\n",
      "Cumulative Accuracy for pot-two-handles-small: nan%\n",
      "Cumulative Accuracy for saucepan: 75.00%\n",
      "\n",
      "Mean Top 3 Accuracy (Val): 94.22%\n",
      "Mean Top 1 Accuracy (Val): 78.67%\n",
      "Macro-averaged Accuracy (Val): 83.11%\n",
      "Epoch 3 test loss: 20.53125\n",
      "\n",
      "[Test - End Epoch 4] GPU Memory: Allocated=2.30GB, Reserved=3.29GB\n",
      "\n",
      "Epoch 5/120\n",
      "[Train - Start Epoch 5] GPU Memory: Allocated=2.30GB, Reserved=3.29GB\n"
     ]
    },
    {
     "name": "stderr",
     "output_type": "stream",
     "text": [
      "\r  0%|          | 0/127.84375 [00:00<?, ?it/s]\r  1%|          | 1/127.84375 [00:07<16:00,  7.57s/it]\r  2%|▏         | 2/127.84375 [00:15<15:43,  7.50s/it]\r  2%|▏         | 3/127.84375 [00:22<15:43,  7.55s/it]\r  3%|▎         | 4/127.84375 [00:30<15:36,  7.56s/it]\r  4%|▍         | 5/127.84375 [00:37<15:24,  7.53s/it]\r  5%|▍         | 6/127.84375 [00:45<15:10,  7.47s/it]\r  5%|▌         | 7/127.84375 [00:52<15:12,  7.55s/it]\r  6%|▋         | 8/127.84375 [01:00<15:06,  7.56s/it]\r  7%|▋         | 9/127.84375 [01:07<15:00,  7.58s/it]\r  8%|▊         | 10/127.84375 [01:15<14:54,  7.59s/it]\r  9%|▊         | 11/127.84375 [01:23<14:48,  7.60s/it]\r  9%|▉         | 12/127.84375 [01:30<14:34,  7.55s/it]\r 10%|█         | 13/127.84375 [01:38<14:28,  7.57s/it]\r 11%|█         | 14/127.84375 [01:45<14:23,  7.59s/it]\r 12%|█▏        | 15/127.84375 [01:53<14:11,  7.55s/it]\r 13%|█▎        | 16/127.84375 [02:00<14:04,  7.55s/it]\r 13%|█▎        | 17/127.84375 [02:08<13:59,  7.57s/it]\r 14%|█▍        | 18/127.84375 [02:15<13:46,  7.52s/it]\r 15%|█▍        | 19/127.84375 [02:23<13:34,  7.48s/it]\r 16%|█▌        | 20/127.84375 [02:30<13:31,  7.52s/it]\r 16%|█▋        | 21/127.84375 [02:38<13:26,  7.55s/it]\r 17%|█▋        | 22/127.84375 [02:45<13:13,  7.50s/it]\r 18%|█▊        | 23/127.84375 [02:53<13:07,  7.51s/it]\r 19%|█▉        | 24/127.84375 [03:00<12:55,  7.47s/it]\r 20%|█▉        | 25/127.84375 [03:08<12:54,  7.53s/it]\r 20%|██        | 26/127.84375 [03:16<12:47,  7.53s/it]\r 21%|██        | 27/127.84375 [03:23<12:39,  7.53s/it]\r 22%|██▏       | 28/127.84375 [03:31<12:29,  7.51s/it]\r 23%|██▎       | 29/127.84375 [03:38<12:25,  7.54s/it]\r 23%|██▎       | 30/127.84375 [03:46<12:18,  7.55s/it]\r 24%|██▍       | 31/127.84375 [03:53<12:10,  7.54s/it]\r 25%|██▌       | 32/127.84375 [04:01<12:06,  7.58s/it]\r 26%|██▌       | 33/127.84375 [04:08<11:56,  7.55s/it]\r 27%|██▋       | 34/127.84375 [04:16<11:47,  7.54s/it]\r 27%|██▋       | 35/127.84375 [04:23<11:41,  7.56s/it]\r 28%|██▊       | 36/127.84375 [04:31<11:34,  7.56s/it]\r 29%|██▉       | 37/127.84375 [04:39<11:28,  7.58s/it]\r 30%|██▉       | 38/127.84375 [04:46<11:18,  7.55s/it]\r 31%|███       | 39/127.84375 [04:54<11:14,  7.59s/it]\r 31%|███▏      | 40/127.84375 [05:01<11:08,  7.61s/it]\r 32%|███▏      | 41/127.84375 [05:09<11:00,  7.60s/it]\r 33%|███▎      | 42/127.84375 [05:17<10:51,  7.59s/it]\r 34%|███▎      | 43/127.84375 [05:24<10:46,  7.62s/it]\r 34%|███▍      | 44/127.84375 [05:32<10:36,  7.59s/it]\r 35%|███▌      | 45/127.84375 [05:40<10:30,  7.61s/it]\r 36%|███▌      | 46/127.84375 [05:47<10:25,  7.64s/it]\r 37%|███▋      | 47/127.84375 [05:55<10:16,  7.62s/it]\r 38%|███▊      | 48/127.84375 [06:03<10:13,  7.68s/it]\r 38%|███▊      | 49/127.84375 [06:10<10:08,  7.72s/it]\r 39%|███▉      | 50/127.84375 [06:18<09:56,  7.67s/it]\r 40%|███▉      | 51/127.84375 [06:26<09:48,  7.66s/it]\r 41%|████      | 52/127.84375 [06:33<09:41,  7.67s/it]\r 41%|████▏     | 53/127.84375 [06:41<09:33,  7.66s/it]\r 42%|████▏     | 54/127.84375 [06:49<09:28,  7.70s/it]\r 43%|████▎     | 55/127.84375 [06:56<09:16,  7.65s/it]\r 44%|████▍     | 56/127.84375 [07:04<09:07,  7.62s/it]\r 45%|████▍     | 57/127.84375 [07:11<08:59,  7.61s/it]\r 45%|████▌     | 58/127.84375 [07:19<08:51,  7.60s/it]\r 46%|████▌     | 59/127.84375 [07:26<08:41,  7.57s/it]\r 47%|████▋     | 60/127.84375 [07:34<08:34,  7.58s/it]\r 48%|████▊     | 61/127.84375 [07:42<08:24,  7.55s/it]\r 48%|████▊     | 62/127.84375 [07:49<08:20,  7.60s/it]\r 49%|████▉     | 63/127.84375 [07:57<08:11,  7.58s/it]\r 50%|█████     | 64/127.84375 [08:04<08:00,  7.53s/it]\r 51%|█████     | 65/127.84375 [08:12<07:55,  7.57s/it]\r 52%|█████▏    | 66/127.84375 [08:20<07:53,  7.65s/it]\r 52%|█████▏    | 67/127.84375 [08:27<07:40,  7.56s/it]\r 53%|█████▎    | 68/127.84375 [08:35<07:34,  7.60s/it]\r 54%|█████▍    | 69/127.84375 [08:42<07:25,  7.58s/it]\r 55%|█████▍    | 70/127.84375 [08:50<07:19,  7.61s/it]\r 56%|█████▌    | 71/127.84375 [08:58<07:11,  7.60s/it]\r 56%|█████▋    | 72/127.84375 [09:05<07:05,  7.62s/it]\r 57%|█████▋    | 73/127.84375 [09:13<06:56,  7.59s/it]\r 58%|█████▊    | 74/127.84375 [09:20<06:47,  7.56s/it]\r 59%|█████▊    | 75/127.84375 [09:28<06:40,  7.58s/it]\r 59%|█████▉    | 76/127.84375 [09:36<06:33,  7.60s/it]\r 60%|██████    | 77/127.84375 [09:43<06:26,  7.61s/it]\r 61%|██████    | 78/127.84375 [09:51<06:18,  7.59s/it]\r 62%|██████▏   | 79/127.84375 [09:58<06:13,  7.64s/it]\r 63%|██████▎   | 80/127.84375 [10:06<06:03,  7.61s/it]\r 63%|██████▎   | 81/127.84375 [10:14<05:56,  7.62s/it]\r 64%|██████▍   | 82/127.84375 [10:21<05:48,  7.61s/it]\r 65%|██████▍   | 83/127.84375 [10:29<05:40,  7.60s/it]\r 66%|██████▌   | 84/127.84375 [10:36<05:31,  7.57s/it]\r 66%|██████▋   | 85/127.84375 [10:44<05:24,  7.58s/it]\r 67%|██████▋   | 86/127.84375 [10:51<05:17,  7.58s/it]\r 68%|██████▊   | 87/127.84375 [10:59<05:08,  7.54s/it]\r 69%|██████▉   | 88/127.84375 [11:07<05:01,  7.57s/it]\r 70%|██████▉   | 89/127.84375 [11:14<04:54,  7.59s/it]\r 70%|███████   | 90/127.84375 [11:22<04:46,  7.58s/it]\r 71%|███████   | 91/127.84375 [11:30<04:41,  7.64s/it]\r 72%|███████▏  | 92/127.84375 [11:37<04:31,  7.58s/it]\r 73%|███████▎  | 93/127.84375 [11:45<04:24,  7.58s/it]\r 74%|███████▎  | 94/127.84375 [11:52<04:16,  7.59s/it]\r 74%|███████▍  | 95/127.84375 [12:00<04:09,  7.60s/it]\r 75%|███████▌  | 96/127.84375 [12:07<04:01,  7.59s/it]\r 76%|███████▌  | 97/127.84375 [12:15<03:54,  7.59s/it]\r 77%|███████▋  | 98/127.84375 [12:23<03:46,  7.60s/it]\r 77%|███████▋  | 99/127.84375 [12:30<03:39,  7.63s/it]\r 78%|███████▊  | 100/127.84375 [12:38<03:32,  7.63s/it]\r 79%|███████▉  | 101/127.84375 [12:46<03:24,  7.63s/it]\r 80%|███████▉  | 102/127.84375 [12:53<03:16,  7.62s/it]\r 81%|████████  | 103/127.84375 [13:01<03:09,  7.61s/it]\r 81%|████████▏ | 104/127.84375 [13:08<03:02,  7.65s/it]\r 82%|████████▏ | 105/127.84375 [13:16<02:54,  7.64s/it]\r 83%|████████▎ | 106/127.84375 [13:24<02:46,  7.60s/it]\r 84%|████████▎ | 107/127.84375 [13:31<02:37,  7.58s/it]\r 84%|████████▍ | 108/127.84375 [13:39<02:29,  7.53s/it]\r 85%|████████▌ | 109/127.84375 [13:46<02:22,  7.58s/it]\r 86%|████████▌ | 110/127.84375 [13:54<02:16,  7.62s/it]\r 87%|████████▋ | 111/127.84375 [14:01<02:08,  7.60s/it]\r 88%|████████▊ | 112/127.84375 [14:09<02:00,  7.58s/it]\r 88%|████████▊ | 113/127.84375 [14:17<01:52,  7.58s/it]\r 89%|████████▉ | 114/127.84375 [14:24<01:45,  7.60s/it]\r 90%|████████▉ | 115/127.84375 [14:32<01:37,  7.58s/it]\r 91%|█████████ | 116/127.84375 [14:39<01:29,  7.57s/it]\r 92%|█████████▏| 117/127.84375 [14:47<01:21,  7.47s/it]\r 92%|█████████▏| 118/127.84375 [14:54<01:13,  7.48s/it]\r 93%|█████████▎| 119/127.84375 [15:02<01:06,  7.50s/it]\r 94%|█████████▍| 120/127.84375 [15:09<00:59,  7.53s/it]\r 95%|█████████▍| 121/127.84375 [15:17<00:51,  7.56s/it]\r 95%|█████████▌| 122/127.84375 [15:24<00:44,  7.54s/it]\r 96%|█████████▌| 123/127.84375 [15:32<00:36,  7.54s/it]\r 97%|█████████▋| 124/127.84375 [15:39<00:28,  7.52s/it]\r 98%|█████████▊| 125/127.84375 [15:47<00:21,  7.47s/it]\r 99%|█████████▊| 126/127.84375 [15:54<00:13,  7.53s/it]\r 99%|█████████▉| 127/127.84375 [16:02<00:06,  7.57s/it]/databricks/python/lib/python3.11/site-packages/tqdm/std.py:524: TqdmWarning: clamping frac to range [0, 1]\n",
      "  full_bar = Bar(frac,\n",
      "\r100%|██████████| 128/127.84375 [16:10<-1:59:59,  7.56s/it]\r129it [16:17,  7.53s/it]                                  \r130it [16:25,  7.53s/it]\r131it [16:32,  7.53s/it]\r132it [16:40,  7.54s/it]\r133it [16:47,  7.52s/it]\r134it [16:55,  7.52s/it]\r135it [17:02,  7.56s/it]\r136it [17:10,  7.57s/it]\r137it [17:17,  7.57s/it]\r138it [17:25,  7.65s/it]\r139it [17:33,  7.67s/it]\r140it [17:40,  7.59s/it]\r141it [17:48,  7.60s/it]\r142it [17:56,  7.59s/it]\r143it [18:03,  7.58s/it]\r144it [18:11,  7.56s/it]\r145it [18:18,  7.61s/it]\r146it [18:26,  7.56s/it]\r147it [18:33,  7.58s/it]\r148it [18:41,  7.51s/it]\r149it [18:48,  7.47s/it]\r150it [18:56,  7.49s/it]\r151it [19:03,  7.56s/it]\r152it [19:11,  7.50s/it]\r153it [19:18,  7.50s/it]\r154it [19:26,  7.57s/it]\r155it [19:34,  7.62s/it]\r156it [19:41,  7.62s/it]\r157it [19:49,  7.55s/it]\r158it [19:56,  7.58s/it]\r159it [20:04,  7.53s/it]\r160it [20:11,  7.53s/it]\r161it [20:19,  7.58s/it]\r162it [20:27,  7.63s/it]\r163it [20:34,  7.59s/it]\r164it [20:42,  7.62s/it]\r165it [20:50,  7.59s/it]\r166it [20:57,  7.59s/it]\r167it [21:05,  7.62s/it]\r168it [21:12,  7.59s/it]\r169it [21:20,  7.59s/it]\r170it [21:27,  7.58s/it]\r171it [21:35,  7.56s/it]\r172it [21:43,  7.62s/it]\r173it [21:50,  7.62s/it]\r174it [21:58,  7.59s/it]\r175it [22:06,  7.60s/it]\r176it [22:13,  7.58s/it]\r177it [22:21,  7.59s/it]\r178it [22:28,  7.58s/it]\r179it [22:36,  7.65s/it]\r180it [22:43,  7.57s/it]\r181it [22:51,  7.59s/it]\r182it [22:59,  7.57s/it]\r183it [23:06,  7.55s/it]\r184it [23:14,  7.54s/it]\r185it [23:21,  7.53s/it]\r186it [23:29,  7.54s/it]\r187it [23:36,  7.55s/it]\r188it [23:44,  7.56s/it]\r189it [23:51,  7.58s/it]\r190it [23:59,  7.57s/it]\r191it [24:07,  7.56s/it]\r192it [24:14,  7.55s/it]\r193it [24:22,  7.55s/it]\r194it [24:29,  7.55s/it]\r195it [24:37,  7.57s/it]\r196it [24:44,  7.51s/it]\r197it [24:52,  7.65s/it]\r198it [25:00,  7.65s/it]\r199it [25:07,  7.64s/it]\r200it [25:15,  7.60s/it]\r201it [25:22,  7.58s/it]\r202it [25:30,  7.69s/it]\r203it [25:38,  7.75s/it]\r204it [25:46,  7.72s/it]\r205it [25:54,  7.71s/it]\r206it [26:01,  7.67s/it]\r207it [26:09,  7.63s/it]\r208it [26:16,  7.61s/it]\r209it [26:24,  7.65s/it]\r210it [26:32,  7.63s/it]\r211it [26:39,  7.59s/it]\r212it [26:47,  7.58s/it]\r213it [26:54,  7.61s/it]\r214it [27:02,  7.62s/it]\r215it [27:10,  7.63s/it]\r216it [27:17,  7.61s/it]\r217it [27:25,  7.59s/it]\r218it [27:32,  7.61s/it]\r219it [27:40,  7.63s/it]\r220it [27:48,  7.62s/it]\r221it [27:55,  7.59s/it]\r222it [28:03,  7.64s/it]\r223it [28:11,  7.64s/it]\r224it [28:18,  7.59s/it]\r225it [28:26,  7.57s/it]\r226it [28:33,  7.58s/it]\r227it [28:41,  7.56s/it]\r228it [28:48,  7.60s/it]\r229it [28:56,  7.58s/it]\r230it [29:04,  7.62s/it]\r231it [29:11,  7.63s/it]\r232it [29:19,  7.59s/it]\r233it [29:27,  7.62s/it]\r234it [29:34,  7.54s/it]\r235it [29:42,  7.57s/it]\r236it [29:49,  7.60s/it]\r237it [29:57,  7.63s/it]\r238it [30:05,  7.67s/it]\r239it [30:12,  7.64s/it]\r240it [30:20,  7.64s/it]\r240it [30:20,  7.58s/it]\n"
     ]
    },
    {
     "name": "stdout",
     "output_type": "stream",
     "text": [
      "Epoch 4 train loss: 0.1092529296875\n",
      "[Train - End / Test - Start Epoch 5] GPU Memory: Allocated=2.30GB, Reserved=3.29GB\n"
     ]
    },
    {
     "name": "stderr",
     "output_type": "stream",
     "text": [
      "\r  0%|          | 0/14.1875 [00:00<?, ?it/s]\r  7%|▋         | 1/14.1875 [00:06<01:26,  6.57s/it]\r 14%|█▍        | 2/14.1875 [00:13<01:20,  6.59s/it]\r 21%|██        | 3/14.1875 [00:19<01:13,  6.58s/it]\r 28%|██▊       | 4/14.1875 [00:26<01:07,  6.63s/it]\r 35%|███▌      | 5/14.1875 [00:33<01:01,  6.65s/it]\r 42%|████▏     | 6/14.1875 [00:39<00:54,  6.65s/it]\r 49%|████▉     | 7/14.1875 [00:46<00:47,  6.57s/it]\r 56%|█████▋    | 8/14.1875 [00:52<00:40,  6.57s/it]\r 63%|██████▎   | 9/14.1875 [00:59<00:34,  6.59s/it]\r 70%|███████   | 10/14.1875 [01:06<00:27,  6.66s/it]\r 78%|███████▊  | 11/14.1875 [01:12<00:21,  6.67s/it]\r 85%|████████▍ | 12/14.1875 [01:19<00:14,  6.71s/it]\r 92%|█████████▏| 13/14.1875 [01:26<00:07,  6.67s/it]\r 99%|█████████▊| 14/14.1875 [01:33<00:01,  6.72s/it]\r15it [01:39,  6.71s/it]                             \r16it [01:46,  6.68s/it]\r17it [01:53,  6.70s/it]\r18it [01:59,  6.64s/it]\r19it [02:06,  6.62s/it]\r20it [02:12,  6.65s/it]\r21it [02:19,  6.63s/it]\r22it [02:26,  6.65s/it]\r23it [02:32,  6.64s/it]\r24it [02:39,  6.66s/it]\r25it [02:46,  6.64s/it]\r26it [02:52,  6.61s/it]\r27it [02:59,  6.64s/it]\r28it [03:06,  6.66s/it]\r29it [03:12,  6.70s/it]\r30it [03:19,  6.69s/it]\r30it [03:19,  6.65s/it]\n"
     ]
    },
    {
     "name": "stdout",
     "output_type": "stream",
     "text": [
      "Cumulative Accuracy for CP: 70.67%\n",
      "Cumulative Accuracy for chopping-board: 95.33%\n",
      "Cumulative Accuracy for finalstep: 90.00%\n",
      "Cumulative Accuracy for glass-bowl-large: 85.33%\n",
      "Cumulative Accuracy for glass-bowl-medium: 67.33%\n",
      "Cumulative Accuracy for glass-bowl-small: 51.33%\n",
      "Cumulative Accuracy for grill-plate: nan%\n",
      "Cumulative Accuracy for group_step: 71.33%\n",
      "Cumulative Accuracy for medium: 86.67%\n",
      "Cumulative Accuracy for oven-dish: 96.67%\n",
      "Cumulative Accuracy for oven-tray: 97.33%\n",
      "Cumulative Accuracy for pan: 100.00%\n",
      "Cumulative Accuracy for pot-one-handle: 98.00%\n",
      "Cumulative Accuracy for pot-two-handles-medium: 66.00%\n",
      "Cumulative Accuracy for pot-two-handles-shallow: 93.33%\n",
      "Cumulative Accuracy for pot-two-handles-small: nan%\n",
      "Cumulative Accuracy for saucepan: 80.00%\n",
      "\n",
      "Mean Top 3 Accuracy (Val): 96.44%\n",
      "Mean Top 1 Accuracy (Val): 84.00%\n",
      "Macro-averaged Accuracy (Val): 83.29%\n",
      "Epoch 4 test loss: 21.328125\n",
      "\n",
      "[Test - End Epoch 5] GPU Memory: Allocated=2.30GB, Reserved=3.29GB\n",
      "\n",
      "Epoch 6/120\n",
      "[Train - Start Epoch 6] GPU Memory: Allocated=2.30GB, Reserved=3.29GB\n"
     ]
    },
    {
     "name": "stderr",
     "output_type": "stream",
     "text": [
      "\r  0%|          | 0/127.84375 [00:00<?, ?it/s]\r  1%|          | 1/127.84375 [00:07<16:03,  7.59s/it]\r  2%|▏         | 2/127.84375 [00:15<16:03,  7.65s/it]\r  2%|▏         | 3/127.84375 [00:22<15:56,  7.66s/it]\r  3%|▎         | 4/127.84375 [00:30<15:47,  7.65s/it]\r  4%|▍         | 5/127.84375 [00:38<15:36,  7.63s/it]\r  5%|▍         | 6/127.84375 [00:45<15:26,  7.61s/it]\r  5%|▌         | 7/127.84375 [00:53<15:19,  7.61s/it]\r  6%|▋         | 8/127.84375 [01:01<15:15,  7.64s/it]\r  7%|▋         | 9/127.84375 [01:08<15:06,  7.63s/it]\r  8%|▊         | 10/127.84375 [01:16<14:56,  7.61s/it]\r  9%|▊         | 11/127.84375 [01:23<14:46,  7.59s/it]\r  9%|▉         | 12/127.84375 [01:31<14:36,  7.57s/it]\r 10%|█         | 13/127.84375 [01:38<14:14,  7.44s/it]\r 11%|█         | 14/127.84375 [01:46<14:12,  7.49s/it]\r 12%|█▏        | 15/127.84375 [01:53<14:09,  7.53s/it]\r 13%|█▎        | 16/127.84375 [02:01<14:02,  7.53s/it]\r 13%|█▎        | 17/127.84375 [02:08<13:59,  7.58s/it]\r 14%|█▍        | 18/127.84375 [02:16<13:53,  7.59s/it]\r 15%|█▍        | 19/127.84375 [02:23<13:42,  7.55s/it]\r 16%|█▌        | 20/127.84375 [02:31<13:34,  7.55s/it]\r 16%|█▋        | 21/127.84375 [02:39<13:30,  7.59s/it]\r 17%|█▋        | 22/127.84375 [02:46<13:20,  7.57s/it]\r 18%|█▊        | 23/127.84375 [02:54<13:12,  7.55s/it]\r 19%|█▉        | 24/127.84375 [03:01<13:06,  7.58s/it]\r 20%|█▉        | 25/127.84375 [03:09<12:56,  7.55s/it]\r 20%|██        | 26/127.84375 [03:16<12:49,  7.55s/it]\r 21%|██        | 27/127.84375 [03:24<12:42,  7.56s/it]\r 22%|██▏       | 28/127.84375 [03:32<12:35,  7.57s/it]\r 23%|██▎       | 29/127.84375 [03:39<12:36,  7.65s/it]\r 23%|██▎       | 30/127.84375 [03:47<12:27,  7.64s/it]\r 24%|██▍       | 31/127.84375 [03:55<12:18,  7.63s/it]\r 25%|██▌       | 32/127.84375 [04:02<12:05,  7.57s/it]\r 26%|██▌       | 33/127.84375 [04:10<11:56,  7.56s/it]\r 27%|██▋       | 34/127.84375 [04:17<11:46,  7.53s/it]\r 27%|██▋       | 35/127.84375 [04:25<11:41,  7.56s/it]\r 28%|██▊       | 36/127.84375 [04:32<11:38,  7.60s/it]\r 29%|██▉       | 37/127.84375 [04:40<11:30,  7.60s/it]\r 30%|██▉       | 38/127.84375 [04:48<11:24,  7.61s/it]\r 31%|███       | 39/127.84375 [04:55<11:21,  7.67s/it]\r 31%|███▏      | 40/127.84375 [05:03<11:14,  7.68s/it]\r 32%|███▏      | 41/127.84375 [05:11<11:06,  7.68s/it]\r 33%|███▎      | 42/127.84375 [05:19<11:00,  7.69s/it]\r 34%|███▎      | 43/127.84375 [05:26<10:49,  7.65s/it]\r 34%|███▍      | 44/127.84375 [05:34<10:39,  7.63s/it]\r 35%|███▌      | 45/127.84375 [05:41<10:35,  7.67s/it]\r 36%|███▌      | 46/127.84375 [05:49<10:25,  7.64s/it]\r 37%|███▋      | 47/127.84375 [05:57<10:15,  7.61s/it]\r 38%|███▊      | 48/127.84375 [06:04<10:03,  7.56s/it]\r 38%|███▊      | 49/127.84375 [06:12<09:56,  7.56s/it]\r 39%|███▉      | 50/127.84375 [06:19<09:47,  7.54s/it]\r 40%|███▉      | 51/127.84375 [06:27<09:40,  7.55s/it]\r 41%|████      | 52/127.84375 [06:34<09:36,  7.60s/it]\r 41%|████▏     | 53/127.84375 [06:42<09:26,  7.57s/it]\r 42%|████▏     | 54/127.84375 [06:50<09:22,  7.62s/it]\r 43%|████▎     | 55/127.84375 [06:57<09:09,  7.55s/it]\r 44%|████▍     | 56/127.84375 [07:05<09:03,  7.57s/it]\r 45%|████▍     | 57/127.84375 [07:12<08:55,  7.56s/it]\r 45%|████▌     | 58/127.84375 [07:20<08:50,  7.59s/it]\r 46%|████▌     | 59/127.84375 [07:27<08:40,  7.56s/it]\r 47%|████▋     | 60/127.84375 [07:35<08:31,  7.54s/it]\r 48%|████▊     | 61/127.84375 [07:43<08:28,  7.61s/it]\r 48%|████▊     | 62/127.84375 [07:50<08:19,  7.58s/it]\r 49%|████▉     | 63/127.84375 [07:58<08:13,  7.61s/it]\r 50%|█████     | 64/127.84375 [08:05<08:01,  7.55s/it]\r 51%|█████     | 65/127.84375 [08:13<07:54,  7.55s/it]\r 52%|█████▏    | 66/127.84375 [08:20<07:47,  7.56s/it]\r 52%|█████▏    | 67/127.84375 [08:28<07:39,  7.55s/it]\r 53%|█████▎    | 68/127.84375 [08:35<07:32,  7.56s/it]\r 54%|█████▍    | 69/127.84375 [08:43<07:25,  7.58s/it]\r 55%|█████▍    | 70/127.84375 [08:51<07:20,  7.61s/it]\r 56%|█████▌    | 71/127.84375 [08:58<07:11,  7.59s/it]\r 56%|█████▋    | 72/127.84375 [09:06<07:04,  7.61s/it]\r 57%|█████▋    | 73/127.84375 [09:14<06:58,  7.62s/it]\r 58%|█████▊    | 74/127.84375 [09:21<06:51,  7.63s/it]\r 59%|█████▊    | 75/127.84375 [09:29<06:45,  7.67s/it]\r 59%|█████▉    | 76/127.84375 [09:37<06:37,  7.67s/it]\r 60%|██████    | 77/127.84375 [09:44<06:29,  7.67s/it]\r 61%|██████    | 78/127.84375 [09:52<06:19,  7.62s/it]\r 62%|██████▏   | 79/127.84375 [09:59<06:12,  7.63s/it]\r 63%|██████▎   | 80/127.84375 [10:07<06:03,  7.59s/it]\r 63%|██████▎   | 81/127.84375 [10:14<05:54,  7.57s/it]\r 64%|██████▍   | 82/127.84375 [10:22<05:48,  7.60s/it]\r 65%|██████▍   | 83/127.84375 [10:30<05:41,  7.62s/it]\r 66%|██████▌   | 84/127.84375 [10:37<05:35,  7.64s/it]\r 66%|██████▋   | 85/127.84375 [10:45<05:24,  7.58s/it]\r 67%|██████▋   | 86/127.84375 [10:53<05:17,  7.59s/it]\r 68%|██████▊   | 87/127.84375 [11:00<05:07,  7.52s/it]\r 69%|██████▉   | 88/127.84375 [11:07<04:59,  7.50s/it]\r 70%|██████▉   | 89/127.84375 [11:15<04:53,  7.55s/it]\r 70%|███████   | 90/127.84375 [11:23<04:45,  7.54s/it]\r 71%|███████   | 91/127.84375 [11:30<04:38,  7.56s/it]\r 72%|███████▏  | 92/127.84375 [11:38<04:30,  7.54s/it]\r 73%|███████▎  | 93/127.84375 [11:45<04:22,  7.54s/it]\r 74%|███████▎  | 94/127.84375 [11:53<04:15,  7.55s/it]\r 74%|███████▍  | 95/127.84375 [12:00<04:07,  7.54s/it]\r 75%|███████▌  | 96/127.84375 [12:08<04:00,  7.56s/it]\r 76%|███████▌  | 97/127.84375 [12:16<03:53,  7.58s/it]\r 77%|███████▋  | 98/127.84375 [12:23<03:44,  7.54s/it]\r 77%|███████▋  | 99/127.84375 [12:31<03:37,  7.54s/it]\r 78%|███████▊  | 100/127.84375 [12:38<03:30,  7.55s/it]\r 79%|███████▉  | 101/127.84375 [12:46<03:22,  7.55s/it]\r 80%|███████▉  | 102/127.84375 [12:53<03:15,  7.56s/it]\r 81%|████████  | 103/127.84375 [13:01<03:07,  7.56s/it]\r 81%|████████▏ | 104/127.84375 [13:08<03:00,  7.56s/it]\r 82%|████████▏ | 105/127.84375 [13:16<02:51,  7.52s/it]\r 83%|████████▎ | 106/127.84375 [13:23<02:44,  7.51s/it]\r 84%|████████▎ | 107/127.84375 [13:31<02:36,  7.52s/it]\r 84%|████████▍ | 108/127.84375 [13:38<02:29,  7.55s/it]\r 85%|████████▌ | 109/127.84375 [13:46<02:22,  7.58s/it]\r 86%|████████▌ | 110/127.84375 [13:54<02:15,  7.59s/it]\r 87%|████████▋ | 111/127.84375 [14:01<02:07,  7.56s/it]\r 88%|████████▊ | 112/127.84375 [14:09<02:00,  7.61s/it]\r 88%|████████▊ | 113/127.84375 [14:17<01:53,  7.62s/it]\r 89%|████████▉ | 114/127.84375 [14:24<01:45,  7.60s/it]\r 90%|████████▉ | 115/127.84375 [14:32<01:37,  7.58s/it]\r 91%|█████████ | 116/127.84375 [14:39<01:29,  7.53s/it]\r 92%|█████████▏| 117/127.84375 [14:47<01:21,  7.55s/it]\r 92%|█████████▏| 118/127.84375 [14:54<01:14,  7.61s/it]\r 93%|█████████▎| 119/127.84375 [15:02<01:08,  7.69s/it]\r 94%|█████████▍| 120/127.84375 [15:10<01:00,  7.67s/it]\r 95%|█████████▍| 121/127.84375 [15:17<00:51,  7.60s/it]\r 95%|█████████▌| 122/127.84375 [15:25<00:44,  7.63s/it]\r 96%|█████████▌| 123/127.84375 [15:33<00:37,  7.66s/it]\r 97%|█████████▋| 124/127.84375 [15:40<00:29,  7.65s/it]\r 98%|█████████▊| 125/127.84375 [15:48<00:21,  7.68s/it]\r 99%|█████████▊| 126/127.84375 [15:56<00:14,  7.66s/it]\r 99%|█████████▉| 127/127.84375 [16:03<00:06,  7.64s/it]/databricks/python/lib/python3.11/site-packages/tqdm/std.py:524: TqdmWarning: clamping frac to range [0, 1]\n",
      "  full_bar = Bar(frac,\n",
      "\r100%|██████████| 128/127.84375 [16:11<-1:59:59,  7.62s/it]\r129it [16:18,  7.61s/it]                                  \r130it [16:26,  7.59s/it]\r131it [16:34,  7.61s/it]\r132it [16:41,  7.64s/it]\r133it [16:49,  7.65s/it]\r134it [16:57,  7.63s/it]\r135it [17:04,  7.62s/it]\r136it [17:12,  7.57s/it]\r137it [17:19,  7.59s/it]\r138it [17:27,  7.61s/it]\r139it [17:34,  7.57s/it]\r140it [17:42,  7.53s/it]\r141it [17:49,  7.52s/it]\r142it [17:57,  7.50s/it]\r143it [18:04,  7.47s/it]\r144it [18:12,  7.51s/it]\r145it [18:19,  7.51s/it]\r146it [18:27,  7.51s/it]\r147it [18:34,  7.51s/it]\r148it [18:42,  7.57s/it]\r149it [18:50,  7.58s/it]\r150it [18:57,  7.51s/it]\r151it [19:05,  7.55s/it]\r152it [19:12,  7.56s/it]\r153it [19:20,  7.54s/it]\r154it [19:27,  7.54s/it]\r155it [19:35,  7.49s/it]\r156it [19:42,  7.47s/it]\r157it [19:50,  7.49s/it]\r158it [19:57,  7.50s/it]\r159it [20:05,  7.51s/it]\r160it [20:12,  7.51s/it]\r161it [20:20,  7.53s/it]\r162it [20:27,  7.55s/it]\r163it [20:35,  7.57s/it]\r164it [20:43,  7.57s/it]\r165it [20:50,  7.57s/it]\r166it [20:58,  7.58s/it]\r167it [21:05,  7.59s/it]\r168it [21:13,  7.58s/it]\r169it [21:21,  7.59s/it]\r170it [21:28,  7.60s/it]\r171it [21:36,  7.56s/it]\r172it [21:43,  7.59s/it]\r173it [21:51,  7.59s/it]\r174it [21:59,  7.60s/it]\r175it [22:06,  7.57s/it]\r176it [22:14,  7.59s/it]\r177it [22:21,  7.58s/it]\r178it [22:29,  7.55s/it]\r179it [22:36,  7.54s/it]\r180it [22:44,  7.57s/it]\r181it [22:51,  7.52s/it]\r182it [22:59,  7.58s/it]\r183it [23:07,  7.61s/it]\r184it [23:14,  7.57s/it]\r185it [23:22,  7.61s/it]\r186it [23:29,  7.54s/it]\r187it [23:37,  7.54s/it]\r188it [23:44,  7.56s/it]\r189it [23:52,  7.62s/it]\r190it [24:00,  7.62s/it]\r191it [24:07,  7.58s/it]\r192it [24:15,  7.58s/it]\r193it [24:22,  7.60s/it]\r194it [24:30,  7.56s/it]\r195it [24:37,  7.55s/it]\r196it [24:45,  7.56s/it]\r197it [24:52,  7.52s/it]\r198it [25:00,  7.53s/it]\r199it [25:08,  7.57s/it]\r200it [25:15,  7.53s/it]\r201it [25:23,  7.57s/it]\r202it [25:30,  7.61s/it]\r203it [25:38,  7.58s/it]\r204it [25:45,  7.54s/it]\r205it [25:53,  7.50s/it]\r206it [26:00,  7.55s/it]\r207it [26:08,  7.54s/it]\r208it [26:16,  7.56s/it]\r209it [26:23,  7.58s/it]\r210it [26:31,  7.56s/it]\r211it [26:38,  7.50s/it]\r212it [26:46,  7.47s/it]\r213it [26:53,  7.50s/it]\r214it [27:01,  7.48s/it]\r215it [27:08,  7.51s/it]\r216it [27:16,  7.53s/it]\r217it [27:23,  7.53s/it]\r218it [27:31,  7.52s/it]\r219it [27:38,  7.51s/it]\r220it [27:46,  7.46s/it]\r221it [27:53,  7.49s/it]\r222it [28:01,  7.51s/it]\r223it [28:08,  7.48s/it]\r224it [28:16,  7.52s/it]\r225it [28:23,  7.51s/it]\r226it [28:31,  7.55s/it]\r227it [28:38,  7.56s/it]\r228it [28:46,  7.57s/it]\r229it [28:53,  7.55s/it]\r230it [29:01,  7.61s/it]\r231it [29:09,  7.55s/it]\r232it [29:16,  7.59s/it]\r233it [29:24,  7.56s/it]\r234it [29:31,  7.57s/it]\r235it [29:39,  7.57s/it]\r236it [29:46,  7.54s/it]\r237it [29:54,  7.56s/it]\r238it [30:02,  7.53s/it]\r239it [30:09,  7.53s/it]\r240it [30:17,  7.58s/it]\r240it [30:17,  7.57s/it]\n"
     ]
    },
    {
     "name": "stdout",
     "output_type": "stream",
     "text": [
      "Epoch 5 train loss: 0.059906005859375\n",
      "[Train - End / Test - Start Epoch 6] GPU Memory: Allocated=2.30GB, Reserved=3.29GB\n"
     ]
    },
    {
     "name": "stderr",
     "output_type": "stream",
     "text": [
      "\r  0%|          | 0/14.1875 [00:00<?, ?it/s]\r  7%|▋         | 1/14.1875 [00:06<01:28,  6.70s/it]\r 14%|█▍        | 2/14.1875 [00:13<01:22,  6.77s/it]\r 21%|██        | 3/14.1875 [00:20<01:15,  6.74s/it]\r 28%|██▊       | 4/14.1875 [00:26<01:08,  6.73s/it]\r 35%|███▌      | 5/14.1875 [00:33<01:01,  6.72s/it]\r 42%|████▏     | 6/14.1875 [00:40<00:54,  6.65s/it]\r 49%|████▉     | 7/14.1875 [00:46<00:47,  6.65s/it]\r 56%|█████▋    | 8/14.1875 [00:53<00:41,  6.71s/it]\r 63%|██████▎   | 9/14.1875 [01:00<00:34,  6.73s/it]\r 70%|███████   | 10/14.1875 [01:07<00:28,  6.73s/it]\r 78%|███████▊  | 11/14.1875 [01:13<00:21,  6.72s/it]\r 85%|████████▍ | 12/14.1875 [01:20<00:14,  6.63s/it]\r 92%|█████████▏| 13/14.1875 [01:27<00:07,  6.67s/it]\r 99%|█████████▊| 14/14.1875 [01:33<00:01,  6.70s/it]\r15it [01:40,  6.70s/it]                             \r16it [01:47,  6.71s/it]\r17it [01:53,  6.72s/it]\r18it [02:00,  6.65s/it]\r19it [02:07,  6.70s/it]\r20it [02:13,  6.68s/it]\r21it [02:20,  6.70s/it]\r22it [02:27,  6.72s/it]\r23it [02:34,  6.69s/it]\r24it [02:40,  6.68s/it]\r25it [02:47,  6.67s/it]\r26it [02:54,  6.67s/it]\r27it [03:00,  6.68s/it]\r28it [03:07,  6.63s/it]\r29it [03:14,  6.68s/it]\r30it [03:20,  6.71s/it]\r30it [03:20,  6.69s/it]\n"
     ]
    },
    {
     "name": "stdout",
     "output_type": "stream",
     "text": [
      "Cumulative Accuracy for CP: 70.00%\n",
      "Cumulative Accuracy for chopping-board: 95.00%\n",
      "Cumulative Accuracy for finalstep: 90.56%\n",
      "Cumulative Accuracy for glass-bowl-large: 81.11%\n",
      "Cumulative Accuracy for glass-bowl-medium: 67.22%\n",
      "Cumulative Accuracy for glass-bowl-small: 48.33%\n",
      "Cumulative Accuracy for grill-plate: nan%\n",
      "Cumulative Accuracy for group_step: 73.33%\n",
      "Cumulative Accuracy for medium: 88.89%\n",
      "Cumulative Accuracy for oven-dish: 97.22%\n",
      "Cumulative Accuracy for oven-tray: 96.67%\n",
      "Cumulative Accuracy for pan: 100.00%\n",
      "Cumulative Accuracy for pot-one-handle: 98.33%\n",
      "Cumulative Accuracy for pot-two-handles-medium: 70.00%\n",
      "Cumulative Accuracy for pot-two-handles-shallow: 94.44%\n",
      "Cumulative Accuracy for pot-two-handles-small: nan%\n",
      "Cumulative Accuracy for saucepan: 83.33%\n",
      "\n",
      "Mean Top 3 Accuracy (Val): 95.33%\n",
      "Mean Top 1 Accuracy (Val): 85.33%\n",
      "Macro-averaged Accuracy (Val): 83.63%\n",
      "Epoch 5 test loss: 23.84375\n",
      "\n",
      "[Test - End Epoch 6] GPU Memory: Allocated=2.30GB, Reserved=3.29GB\n",
      "\n",
      "Epoch 7/120\n",
      "[Train - Start Epoch 7] GPU Memory: Allocated=2.30GB, Reserved=3.29GB\n"
     ]
    },
    {
     "name": "stderr",
     "output_type": "stream",
     "text": [
      "\r  0%|          | 0/127.84375 [00:00<?, ?it/s]\r  1%|          | 1/127.84375 [00:07<16:01,  7.58s/it]\r  2%|▏         | 2/127.84375 [00:15<15:55,  7.59s/it]\r  2%|▏         | 3/127.84375 [00:22<15:46,  7.58s/it]\r  3%|▎         | 4/127.84375 [00:30<15:33,  7.54s/it]\r  4%|▍         | 5/127.84375 [00:37<15:29,  7.57s/it]\r  5%|▍         | 6/127.84375 [00:45<15:17,  7.53s/it]\r  5%|▌         | 7/127.84375 [00:52<15:16,  7.58s/it]\r  6%|▋         | 8/127.84375 [01:00<15:11,  7.61s/it]\r  7%|▋         | 9/127.84375 [01:08<15:02,  7.60s/it]\r  8%|▊         | 10/127.84375 [01:15<14:59,  7.63s/it]\r  9%|▊         | 11/127.84375 [01:23<14:50,  7.62s/it]\r  9%|▉         | 12/127.84375 [01:31<14:49,  7.67s/it]\r 10%|█         | 13/127.84375 [01:38<14:34,  7.62s/it]\r 11%|█         | 14/127.84375 [01:46<14:25,  7.60s/it]\r 12%|█▏        | 15/127.84375 [01:53<14:17,  7.60s/it]\r 13%|█▎        | 16/127.84375 [02:01<14:07,  7.58s/it]\r 13%|█▎        | 17/127.84375 [02:09<14:00,  7.58s/it]\r 14%|█▍        | 18/127.84375 [02:16<13:59,  7.64s/it]\r 15%|█▍        | 19/127.84375 [02:24<13:56,  7.68s/it]\r 16%|█▌        | 20/127.84375 [02:32<13:46,  7.67s/it]\r 16%|█▋        | 21/127.84375 [02:40<13:41,  7.69s/it]\r 17%|█▋        | 22/127.84375 [02:47<13:31,  7.67s/it]\r 18%|█▊        | 23/127.84375 [02:55<13:18,  7.62s/it]\r 19%|█▉        | 24/127.84375 [03:02<13:11,  7.62s/it]\r 20%|█▉        | 25/127.84375 [03:10<13:08,  7.67s/it]\r 20%|██        | 26/127.84375 [03:18<12:56,  7.63s/it]\r 21%|██        | 27/127.84375 [03:25<12:53,  7.67s/it]\r 22%|██▏       | 28/127.84375 [03:33<12:41,  7.63s/it]\r 23%|██▎       | 29/127.84375 [03:41<12:38,  7.67s/it]\r 23%|██▎       | 30/127.84375 [03:48<12:23,  7.60s/it]\r 24%|██▍       | 31/127.84375 [03:56<12:16,  7.61s/it]\r 25%|██▌       | 32/127.84375 [04:03<12:09,  7.61s/it]\r 26%|██▌       | 33/127.84375 [04:11<12:01,  7.61s/it]\r 27%|██▋       | 34/127.84375 [04:19<11:56,  7.64s/it]\r 27%|██▋       | 35/127.84375 [04:26<11:53,  7.68s/it]\r 28%|██▊       | 36/127.84375 [04:34<11:42,  7.65s/it]\r 29%|██▉       | 37/127.84375 [04:42<11:37,  7.68s/it]\r 30%|██▉       | 38/127.84375 [04:49<11:31,  7.70s/it]\r 31%|███       | 39/127.84375 [04:57<11:23,  7.70s/it]\r 31%|███▏      | 40/127.84375 [05:05<11:16,  7.70s/it]\r 32%|███▏      | 41/127.84375 [05:13<11:08,  7.70s/it]\r 33%|███▎      | 42/127.84375 [05:20<11:00,  7.69s/it]\r 34%|███▎      | 43/127.84375 [05:28<10:51,  7.68s/it]\r 34%|███▍      | 44/127.84375 [05:36<10:45,  7.70s/it]\r 35%|███▌      | 45/127.84375 [05:43<10:31,  7.63s/it]\r 36%|███▌      | 46/127.84375 [05:51<10:26,  7.66s/it]\r 37%|███▋      | 47/127.84375 [05:58<10:16,  7.63s/it]\r 38%|███▊      | 48/127.84375 [06:06<10:09,  7.64s/it]\r 38%|███▊      | 49/127.84375 [06:14<10:02,  7.64s/it]\r 39%|███▉      | 50/127.84375 [06:21<09:50,  7.59s/it]\r 40%|███▉      | 51/127.84375 [06:29<09:42,  7.57s/it]\r 41%|████      | 52/127.84375 [06:36<09:37,  7.61s/it]\r 41%|████▏     | 53/127.84375 [06:44<09:27,  7.59s/it]\r 42%|████▏     | 54/127.84375 [06:51<09:18,  7.56s/it]\r 43%|████▎     | 55/127.84375 [06:59<09:14,  7.61s/it]\r 44%|████▍     | 56/127.84375 [07:07<09:06,  7.60s/it]\r 45%|████▍     | 57/127.84375 [07:14<09:00,  7.63s/it]\r 45%|████▌     | 58/127.84375 [07:22<08:53,  7.64s/it]\r 46%|████▌     | 59/127.84375 [07:30<08:46,  7.65s/it]\r 47%|████▋     | 60/127.84375 [07:37<08:37,  7.63s/it]\r 48%|████▊     | 61/127.84375 [07:45<08:28,  7.60s/it]\r 48%|████▊     | 62/127.84375 [07:53<08:21,  7.62s/it]\r 49%|████▉     | 63/127.84375 [08:00<08:16,  7.66s/it]\r 50%|█████     | 64/127.84375 [08:08<08:10,  7.68s/it]\r 51%|█████     | 65/127.84375 [08:16<08:03,  7.69s/it]\r 52%|█████▏    | 66/127.84375 [08:23<07:53,  7.66s/it]\r 52%|█████▏    | 67/127.84375 [08:31<07:42,  7.61s/it]\r 53%|█████▎    | 68/127.84375 [08:38<07:34,  7.59s/it]\r 54%|█████▍    | 69/127.84375 [08:46<07:24,  7.56s/it]\r 55%|█████▍    | 70/127.84375 [08:54<07:19,  7.59s/it]\r 56%|█████▌    | 71/127.84375 [09:01<07:09,  7.56s/it]\r 56%|█████▋    | 72/127.84375 [09:09<07:01,  7.54s/it]\r 57%|█████▋    | 73/127.84375 [09:16<06:53,  7.53s/it]\r 58%|█████▊    | 74/127.84375 [09:24<06:46,  7.55s/it]\r 59%|█████▊    | 75/127.84375 [09:31<06:39,  7.55s/it]\r 59%|█████▉    | 76/127.84375 [09:39<06:34,  7.61s/it]\r 60%|██████    | 77/127.84375 [09:47<06:26,  7.60s/it]\r 61%|██████    | 78/127.84375 [09:54<06:17,  7.58s/it]\r 62%|██████▏   | 79/127.84375 [10:01<06:08,  7.54s/it]\r 63%|██████▎   | 80/127.84375 [10:09<06:02,  7.57s/it]\r 63%|██████▎   | 81/127.84375 [10:17<05:54,  7.57s/it]\r 64%|██████▍   | 82/127.84375 [10:24<05:48,  7.60s/it]\r 65%|██████▍   | 83/127.84375 [10:32<05:41,  7.62s/it]\r 66%|██████▌   | 84/127.84375 [10:40<05:33,  7.61s/it]\r 66%|██████▋   | 85/127.84375 [10:47<05:26,  7.61s/it]\r 67%|██████▋   | 86/127.84375 [10:55<05:17,  7.60s/it]\r 68%|██████▊   | 87/127.84375 [11:02<05:08,  7.55s/it]\r 69%|██████▉   | 88/127.84375 [11:10<05:01,  7.57s/it]\r 70%|██████▉   | 89/127.84375 [11:17<04:54,  7.58s/it]\r 70%|███████   | 90/127.84375 [11:25<04:47,  7.59s/it]\r 71%|███████   | 91/127.84375 [11:33<04:39,  7.60s/it]\r 72%|███████▏  | 92/127.84375 [11:40<04:30,  7.55s/it]\r 73%|███████▎  | 93/127.84375 [11:48<04:21,  7.52s/it]\r 74%|███████▎  | 94/127.84375 [11:55<04:16,  7.57s/it]\r 74%|███████▍  | 95/127.84375 [12:03<04:07,  7.54s/it]\r 75%|███████▌  | 96/127.84375 [12:10<04:00,  7.54s/it]\r 76%|███████▌  | 97/127.84375 [12:18<03:52,  7.52s/it]\r 77%|███████▋  | 98/127.84375 [12:25<03:45,  7.57s/it]\r 77%|███████▋  | 99/127.84375 [12:33<03:37,  7.53s/it]\r 78%|███████▊  | 100/127.84375 [12:40<03:29,  7.53s/it]\r 79%|███████▉  | 101/127.84375 [12:48<03:22,  7.53s/it]\r 80%|███████▉  | 102/127.84375 [12:56<03:15,  7.56s/it]\r 81%|████████  | 103/127.84375 [13:03<03:08,  7.58s/it]\r 81%|████████▏ | 104/127.84375 [13:11<02:59,  7.54s/it]\r 82%|████████▏ | 105/127.84375 [13:18<02:53,  7.59s/it]\r 83%|████████▎ | 106/127.84375 [13:26<02:44,  7.55s/it]\r 84%|████████▎ | 107/127.84375 [13:33<02:36,  7.50s/it]\r 84%|████████▍ | 108/127.84375 [13:41<02:29,  7.51s/it]\r 85%|████████▌ | 109/127.84375 [13:48<02:22,  7.55s/it]\r 86%|████████▌ | 110/127.84375 [13:56<02:14,  7.53s/it]\r 87%|████████▋ | 111/127.84375 [14:03<02:06,  7.53s/it]\r 88%|████████▊ | 112/127.84375 [14:11<02:00,  7.58s/it]\r 88%|████████▊ | 113/127.84375 [14:18<01:51,  7.52s/it]\r 89%|████████▉ | 114/127.84375 [14:26<01:45,  7.59s/it]\r 90%|████████▉ | 115/127.84375 [14:34<01:37,  7.61s/it]\r 91%|█████████ | 116/127.84375 [14:41<01:30,  7.61s/it]\r 92%|█████████▏| 117/127.84375 [14:49<01:21,  7.55s/it]\r 92%|█████████▏| 118/127.84375 [14:56<01:14,  7.56s/it]\r 93%|█████████▎| 119/127.84375 [15:04<01:07,  7.58s/it]\r 94%|█████████▍| 120/127.84375 [15:12<00:59,  7.56s/it]\r 95%|█████████▍| 121/127.84375 [15:19<00:51,  7.58s/it]\r 95%|█████████▌| 122/127.84375 [15:27<00:44,  7.57s/it]\r 96%|█████████▌| 123/127.84375 [15:34<00:36,  7.54s/it]\r 97%|█████████▋| 124/127.84375 [15:42<00:29,  7.56s/it]\r 98%|█████████▊| 125/127.84375 [15:50<00:21,  7.60s/it]\r 99%|█████████▊| 126/127.84375 [15:57<00:13,  7.58s/it]\r 99%|█████████▉| 127/127.84375 [16:05<00:06,  7.56s/it]/databricks/python/lib/python3.11/site-packages/tqdm/std.py:524: TqdmWarning: clamping frac to range [0, 1]\n",
      "  full_bar = Bar(frac,\n",
      "\r100%|██████████| 128/127.84375 [16:12<-1:59:59,  7.55s/it]\r129it [16:20,  7.55s/it]                                  \r130it [16:27,  7.56s/it]\r131it [16:35,  7.57s/it]\r132it [16:42,  7.57s/it]\r133it [16:50,  7.56s/it]\r134it [16:58,  7.58s/it]\r135it [17:05,  7.55s/it]\r136it [17:13,  7.55s/it]\r137it [17:20,  7.58s/it]\r138it [17:28,  7.59s/it]\r139it [17:35,  7.57s/it]\r140it [17:43,  7.55s/it]\r141it [17:51,  7.57s/it]\r142it [17:58,  7.66s/it]\r143it [18:06,  7.66s/it]\r144it [18:14,  7.66s/it]\r145it [18:21,  7.60s/it]\r146it [18:29,  7.61s/it]\r147it [18:36,  7.61s/it]\r148it [18:44,  7.56s/it]\r149it [18:51,  7.56s/it]\r150it [18:59,  7.53s/it]\r151it [19:06,  7.53s/it]\r152it [19:14,  7.58s/it]\r153it [19:21,  7.51s/it]\r154it [19:29,  7.53s/it]\r155it [19:36,  7.46s/it]\r156it [19:44,  7.55s/it]\r157it [19:51,  7.50s/it]\r158it [19:59,  7.55s/it]\r159it [20:07,  7.57s/it]\r160it [20:14,  7.52s/it]\r161it [20:21,  7.47s/it]\r162it [20:29,  7.50s/it]\r163it [20:37,  7.54s/it]\r164it [20:44,  7.53s/it]\r165it [20:52,  7.56s/it]\r166it [20:59,  7.57s/it]\r167it [21:07,  7.55s/it]\r168it [21:15,  7.57s/it]\r169it [21:22,  7.56s/it]\r170it [21:30,  7.53s/it]\r171it [21:37,  7.58s/it]\r172it [21:45,  7.59s/it]\r173it [21:52,  7.60s/it]\r174it [22:00,  7.60s/it]\r175it [22:08,  7.58s/it]\r176it [22:15,  7.61s/it]\r177it [22:23,  7.61s/it]\r178it [22:30,  7.56s/it]\r179it [22:38,  7.56s/it]\r180it [22:46,  7.58s/it]\r181it [22:53,  7.55s/it]\r182it [23:01,  7.60s/it]\r183it [23:08,  7.63s/it]\r184it [23:16,  7.59s/it]\r185it [23:24,  7.59s/it]\r186it [23:31,  7.56s/it]\r187it [23:39,  7.58s/it]\r188it [23:46,  7.57s/it]\r189it [23:54,  7.57s/it]\r190it [24:01,  7.58s/it]\r191it [24:09,  7.63s/it]\r192it [24:17,  7.61s/it]\r193it [24:24,  7.59s/it]\r194it [24:32,  7.54s/it]\r195it [24:39,  7.55s/it]\r196it [24:47,  7.55s/it]\r197it [24:54,  7.56s/it]\r198it [25:02,  7.48s/it]\r199it [25:09,  7.53s/it]\r200it [25:17,  7.55s/it]\r201it [25:24,  7.54s/it]\r202it [25:32,  7.60s/it]\r203it [25:40,  7.61s/it]\r204it [25:47,  7.58s/it]\r205it [25:55,  7.57s/it]\r206it [26:02,  7.55s/it]\r207it [26:10,  7.57s/it]\r208it [26:18,  7.60s/it]\r209it [26:25,  7.58s/it]\r210it [26:33,  7.58s/it]\r211it [26:40,  7.55s/it]\r212it [26:48,  7.52s/it]\r213it [26:55,  7.52s/it]\r214it [27:03,  7.55s/it]\r215it [27:10,  7.58s/it]\r216it [27:18,  7.58s/it]\r217it [27:26,  7.59s/it]\r218it [27:33,  7.57s/it]\r219it [27:41,  7.60s/it]\r220it [27:48,  7.53s/it]\r221it [27:56,  7.58s/it]\r222it [28:03,  7.59s/it]\r223it [28:11,  7.60s/it]\r224it [28:19,  7.56s/it]\r225it [28:26,  7.58s/it]\r226it [28:34,  7.59s/it]\r227it [28:41,  7.59s/it]\r228it [28:49,  7.57s/it]\r229it [28:57,  7.58s/it]\r230it [29:04,  7.57s/it]\r231it [29:12,  7.57s/it]\r232it [29:19,  7.58s/it]\r233it [29:27,  7.61s/it]\r234it [29:34,  7.58s/it]\r235it [29:42,  7.57s/it]\r236it [29:50,  7.60s/it]\r237it [29:57,  7.55s/it]\r238it [30:05,  7.56s/it]\r239it [30:12,  7.62s/it]\r240it [30:20,  7.61s/it]\r240it [30:20,  7.59s/it]\n"
     ]
    },
    {
     "name": "stdout",
     "output_type": "stream",
     "text": [
      "Epoch 6 train loss: 0.06976318359375\n",
      "[Train - End / Test - Start Epoch 7] GPU Memory: Allocated=2.30GB, Reserved=3.29GB\n"
     ]
    },
    {
     "name": "stderr",
     "output_type": "stream",
     "text": [
      "\r  0%|          | 0/14.1875 [00:00<?, ?it/s]\r  7%|▋         | 1/14.1875 [00:06<01:28,  6.69s/it]\r 14%|█▍        | 2/14.1875 [00:13<01:20,  6.63s/it]\r 21%|██        | 3/14.1875 [00:19<01:14,  6.63s/it]\r 28%|██▊       | 4/14.1875 [00:26<01:07,  6.67s/it]\r 35%|███▌      | 5/14.1875 [00:33<01:01,  6.65s/it]\r 42%|████▏     | 6/14.1875 [00:39<00:54,  6.68s/it]\r 49%|████▉     | 7/14.1875 [00:46<00:47,  6.67s/it]\r 56%|█████▋    | 8/14.1875 [00:53<00:41,  6.71s/it]\r 63%|██████▎   | 9/14.1875 [01:00<00:34,  6.69s/it]\r 70%|███████   | 10/14.1875 [01:06<00:28,  6.70s/it]\r 78%|███████▊  | 11/14.1875 [01:13<00:21,  6.72s/it]\r 85%|████████▍ | 12/14.1875 [01:20<00:14,  6.73s/it]\r 92%|█████████▏| 13/14.1875 [01:26<00:07,  6.71s/it]\r 99%|█████████▊| 14/14.1875 [01:33<00:01,  6.72s/it]\r15it [01:40,  6.67s/it]                             \r16it [01:47,  6.70s/it]\r17it [01:53,  6.68s/it]\r18it [02:00,  6.65s/it]\r19it [02:06,  6.67s/it]\r20it [02:13,  6.63s/it]\r21it [02:20,  6.62s/it]\r22it [02:26,  6.66s/it]\r23it [02:33,  6.63s/it]\r24it [02:40,  6.63s/it]\r25it [02:46,  6.66s/it]\r26it [02:53,  6.67s/it]\r27it [03:00,  6.68s/it]\r28it [03:06,  6.63s/it]\r29it [03:13,  6.64s/it]\r30it [03:20,  6.65s/it]\r30it [03:20,  6.67s/it]\n"
     ]
    },
    {
     "name": "stdout",
     "output_type": "stream",
     "text": [
      "Cumulative Accuracy for CP: 69.52%\n",
      "Cumulative Accuracy for chopping-board: 94.76%\n",
      "Cumulative Accuracy for finalstep: 91.43%\n",
      "Cumulative Accuracy for glass-bowl-large: 79.05%\n",
      "Cumulative Accuracy for glass-bowl-medium: 64.76%\n",
      "Cumulative Accuracy for glass-bowl-small: 47.62%\n",
      "Cumulative Accuracy for grill-plate: nan%\n",
      "Cumulative Accuracy for group_step: 74.29%\n",
      "Cumulative Accuracy for medium: 90.48%\n",
      "Cumulative Accuracy for oven-dish: 95.24%\n",
      "Cumulative Accuracy for oven-tray: 96.19%\n",
      "Cumulative Accuracy for pan: 100.00%\n",
      "Cumulative Accuracy for pot-one-handle: 98.57%\n",
      "Cumulative Accuracy for pot-two-handles-medium: 69.05%\n",
      "Cumulative Accuracy for pot-two-handles-shallow: 95.24%\n",
      "Cumulative Accuracy for pot-two-handles-small: nan%\n",
      "Cumulative Accuracy for saucepan: 85.71%\n",
      "\n",
      "Mean Top 3 Accuracy (Val): 94.22%\n",
      "Mean Top 1 Accuracy (Val): 82.44%\n",
      "Macro-averaged Accuracy (Val): 83.46%\n",
      "Epoch 6 test loss: 25.015625\n",
      "\n",
      "[Test - End Epoch 7] GPU Memory: Allocated=2.30GB, Reserved=3.29GB\n",
      "\n",
      "Epoch 8/120\n",
      "[Train - Start Epoch 8] GPU Memory: Allocated=2.30GB, Reserved=3.29GB\n"
     ]
    },
    {
     "name": "stderr",
     "output_type": "stream",
     "text": [
      "\r  0%|          | 0/127.84375 [00:00<?, ?it/s]\r  1%|          | 1/127.84375 [00:07<16:18,  7.71s/it]\r  2%|▏         | 2/127.84375 [00:15<16:15,  7.75s/it]\r  2%|▏         | 3/127.84375 [00:22<15:52,  7.63s/it]\r  3%|▎         | 4/127.84375 [00:30<15:49,  7.67s/it]\r  4%|▍         | 5/127.84375 [00:38<15:44,  7.69s/it]\r  5%|▍         | 6/127.84375 [00:46<15:35,  7.68s/it]\r  5%|▌         | 7/127.84375 [00:53<15:25,  7.66s/it]\r  6%|▋         | 8/127.84375 [01:01<15:23,  7.71s/it]\r  7%|▋         | 9/127.84375 [01:09<15:16,  7.71s/it]\r  8%|▊         | 10/127.84375 [01:16<15:07,  7.70s/it]\r  9%|▊         | 11/127.84375 [01:24<14:51,  7.63s/it]\r  9%|▉         | 12/127.84375 [01:32<14:46,  7.65s/it]\r 10%|█         | 13/127.84375 [01:39<14:38,  7.65s/it]\r 11%|█         | 14/127.84375 [01:47<14:36,  7.70s/it]\r 12%|█▏        | 15/127.84375 [01:55<14:30,  7.71s/it]\r 13%|█▎        | 16/127.84375 [02:02<14:22,  7.71s/it]\r 13%|█▎        | 17/127.84375 [02:10<14:11,  7.69s/it]\r 14%|█▍        | 18/127.84375 [02:18<14:10,  7.74s/it]\r 15%|█▍        | 19/127.84375 [02:26<13:58,  7.70s/it]\r 16%|█▌        | 20/127.84375 [02:33<13:43,  7.63s/it]\r 16%|█▋        | 21/127.84375 [02:41<13:35,  7.63s/it]\r 17%|█▋        | 22/127.84375 [02:48<13:31,  7.66s/it]\r 18%|█▊        | 23/127.84375 [02:56<13:20,  7.63s/it]\r 19%|█▉        | 24/127.84375 [03:04<13:18,  7.69s/it]\r 20%|█▉        | 25/127.84375 [03:12<13:12,  7.71s/it]\r 20%|██        | 26/127.84375 [03:19<13:06,  7.72s/it]\r 21%|██        | 27/127.84375 [03:27<12:59,  7.73s/it]\r 22%|██▏       | 28/127.84375 [03:35<12:55,  7.76s/it]\r 23%|██▎       | 29/127.84375 [03:43<12:45,  7.74s/it]\r 23%|██▎       | 30/127.84375 [03:50<12:40,  7.77s/it]\r 24%|██▍       | 31/127.84375 [03:58<12:24,  7.69s/it]\r 25%|██▌       | 32/127.84375 [04:05<12:11,  7.63s/it]\r 26%|██▌       | 33/127.84375 [04:13<12:09,  7.69s/it]\r 27%|██▋       | 34/127.84375 [04:21<12:03,  7.71s/it]\r 27%|██▋       | 35/127.84375 [04:29<11:53,  7.69s/it]\r 28%|██▊       | 36/127.84375 [04:36<11:48,  7.72s/it]\r 29%|██▉       | 37/127.84375 [04:44<11:45,  7.77s/it]\r 30%|██▉       | 38/127.84375 [04:52<11:35,  7.74s/it]\r 31%|███       | 39/127.84375 [05:00<11:30,  7.77s/it]\r 31%|███▏      | 40/127.84375 [05:08<11:23,  7.78s/it]\r 32%|███▏      | 41/127.84375 [05:15<11:12,  7.74s/it]\r 33%|███▎      | 42/127.84375 [05:23<11:01,  7.70s/it]\r 34%|███▎      | 43/127.84375 [05:31<10:54,  7.72s/it]\r 34%|███▍      | 44/127.84375 [05:38<10:44,  7.69s/it]\r 35%|███▌      | 45/127.84375 [05:46<10:35,  7.67s/it]\r 36%|███▌      | 46/127.84375 [05:54<10:28,  7.68s/it]\r 37%|███▋      | 47/127.84375 [06:01<10:17,  7.64s/it]\r 38%|███▊      | 48/127.84375 [06:09<10:11,  7.66s/it]\r 38%|███▊      | 49/127.84375 [06:16<10:00,  7.61s/it]\r 39%|███▉      | 50/127.84375 [06:24<09:49,  7.57s/it]\r 40%|███▉      | 51/127.84375 [06:31<09:37,  7.52s/it]\r 41%|████      | 52/127.84375 [06:39<09:32,  7.55s/it]\r 41%|████▏     | 53/127.84375 [06:46<09:25,  7.56s/it]\r 42%|████▏     | 54/127.84375 [06:54<09:20,  7.59s/it]\r 43%|████▎     | 55/127.84375 [07:02<09:10,  7.55s/it]\r 44%|████▍     | 56/127.84375 [07:09<09:03,  7.57s/it]\r 45%|████▍     | 57/127.84375 [07:17<08:56,  7.57s/it]\r 45%|████▌     | 58/127.84375 [07:24<08:50,  7.60s/it]\r 46%|████▌     | 59/127.84375 [07:32<08:41,  7.58s/it]\r 47%|████▋     | 60/127.84375 [07:40<08:35,  7.59s/it]\r 48%|████▊     | 61/127.84375 [07:47<08:25,  7.57s/it]\r 48%|████▊     | 62/127.84375 [07:55<08:18,  7.56s/it]\r 49%|████▉     | 63/127.84375 [08:02<08:11,  7.58s/it]\r 50%|█████     | 64/127.84375 [08:10<08:03,  7.57s/it]\r 51%|█████     | 65/127.84375 [08:17<07:55,  7.56s/it]\r 52%|█████▏    | 66/127.84375 [08:25<07:47,  7.56s/it]\r 52%|█████▏    | 67/127.84375 [08:33<07:43,  7.61s/it]\r 53%|█████▎    | 68/127.84375 [08:40<07:34,  7.59s/it]\r 54%|█████▍    | 69/127.84375 [08:48<07:26,  7.58s/it]\r 55%|█████▍    | 70/127.84375 [08:55<07:21,  7.63s/it]\r 56%|█████▌    | 71/127.84375 [09:03<07:13,  7.62s/it]\r 56%|█████▋    | 72/127.84375 [09:11<07:04,  7.61s/it]\r 57%|█████▋    | 73/127.84375 [09:18<06:57,  7.61s/it]\r 58%|█████▊    | 74/127.84375 [09:26<06:50,  7.61s/it]\r 59%|█████▊    | 75/127.84375 [09:33<06:41,  7.60s/it]\r 59%|█████▉    | 76/127.84375 [09:41<06:35,  7.63s/it]\r 60%|██████    | 77/127.84375 [09:49<06:26,  7.61s/it]\r 61%|██████    | 78/127.84375 [09:56<06:20,  7.63s/it]\r 62%|██████▏   | 79/127.84375 [10:04<06:11,  7.61s/it]\r 63%|██████▎   | 80/127.84375 [10:12<06:05,  7.63s/it]\r 63%|██████▎   | 81/127.84375 [10:19<05:54,  7.57s/it]\r 64%|██████▍   | 82/127.84375 [10:27<05:47,  7.57s/it]\r 65%|██████▍   | 83/127.84375 [10:34<05:39,  7.58s/it]\r 66%|██████▌   | 84/127.84375 [10:42<05:34,  7.63s/it]\r 66%|██████▋   | 85/127.84375 [10:49<05:24,  7.57s/it]\r 67%|██████▋   | 86/127.84375 [10:57<05:16,  7.57s/it]\r 68%|██████▊   | 87/127.84375 [11:05<05:08,  7.56s/it]\r 69%|██████▉   | 88/127.84375 [11:12<05:00,  7.54s/it]\r 70%|██████▉   | 89/127.84375 [11:20<04:53,  7.56s/it]\r 70%|███████   | 90/127.84375 [11:27<04:46,  7.56s/it]\r 71%|███████   | 91/127.84375 [11:35<04:39,  7.58s/it]\r 72%|███████▏  | 92/127.84375 [11:43<04:32,  7.61s/it]\r 73%|███████▎  | 93/127.84375 [11:50<04:24,  7.60s/it]\r 74%|███████▎  | 94/127.84375 [11:58<04:17,  7.60s/it]\r 74%|███████▍  | 95/127.84375 [12:05<04:09,  7.61s/it]\r 75%|███████▌  | 96/127.84375 [12:13<04:03,  7.64s/it]\r 76%|███████▌  | 97/127.84375 [12:21<03:56,  7.67s/it]\r 77%|███████▋  | 98/127.84375 [12:28<03:48,  7.67s/it]\r 77%|███████▋  | 99/127.84375 [12:36<03:41,  7.68s/it]\r 78%|███████▊  | 100/127.84375 [12:44<03:32,  7.63s/it]\r 79%|███████▉  | 101/127.84375 [12:51<03:24,  7.60s/it]\r 80%|███████▉  | 102/127.84375 [12:59<03:16,  7.60s/it]\r 81%|████████  | 103/127.84375 [13:06<03:09,  7.62s/it]\r 81%|████████▏ | 104/127.84375 [13:14<03:01,  7.62s/it]\r 82%|████████▏ | 105/127.84375 [13:22<02:55,  7.67s/it]\r 83%|████████▎ | 106/127.84375 [13:30<02:47,  7.66s/it]\r 84%|████████▎ | 107/127.84375 [13:37<02:38,  7.63s/it]\r 84%|████████▍ | 108/127.84375 [13:45<02:30,  7.61s/it]\r 85%|████████▌ | 109/127.84375 [13:52<02:24,  7.65s/it]\r 86%|████████▌ | 110/127.84375 [14:00<02:15,  7.61s/it]\r 87%|████████▋ | 111/127.84375 [14:08<02:08,  7.62s/it]\r 88%|████████▊ | 112/127.84375 [14:15<02:00,  7.63s/it]\r 88%|████████▊ | 113/127.84375 [14:23<01:53,  7.65s/it]\r 89%|████████▉ | 114/127.84375 [14:30<01:45,  7.63s/it]\r 90%|████████▉ | 115/127.84375 [14:38<01:37,  7.62s/it]\r 91%|█████████ | 116/127.84375 [14:46<01:30,  7.60s/it]\r 92%|█████████▏| 117/127.84375 [14:53<01:22,  7.57s/it]\r 92%|█████████▏| 118/127.84375 [15:01<01:14,  7.53s/it]\r 93%|█████████▎| 119/127.84375 [15:08<01:06,  7.54s/it]\r 94%|█████████▍| 120/127.84375 [15:16<00:59,  7.54s/it]\r 95%|█████████▍| 121/127.84375 [15:23<00:51,  7.57s/it]\r 95%|█████████▌| 122/127.84375 [15:31<00:44,  7.56s/it]\r 96%|█████████▌| 123/127.84375 [15:38<00:36,  7.55s/it]\r 97%|█████████▋| 124/127.84375 [15:46<00:29,  7.58s/it]\r 98%|█████████▊| 125/127.84375 [15:54<00:21,  7.60s/it]\r 99%|█████████▊| 126/127.84375 [16:01<00:14,  7.63s/it]\r 99%|█████████▉| 127/127.84375 [16:09<00:06,  7.64s/it]/databricks/python/lib/python3.11/site-packages/tqdm/std.py:524: TqdmWarning: clamping frac to range [0, 1]\n",
      "  full_bar = Bar(frac,\n",
      "\r100%|██████████| 128/127.84375 [16:17<-1:59:59,  7.63s/it]\r129it [16:24,  7.56s/it]                                  \r130it [16:32,  7.54s/it]\r131it [16:39,  7.52s/it]\r132it [16:47,  7.58s/it]\r133it [16:54,  7.54s/it]\r134it [17:02,  7.53s/it]\r135it [17:09,  7.56s/it]\r136it [17:17,  7.55s/it]\r137it [17:25,  7.61s/it]\r138it [17:32,  7.61s/it]\r139it [17:40,  7.62s/it]\r140it [17:47,  7.62s/it]\r141it [17:55,  7.62s/it]\r142it [18:03,  7.61s/it]\r143it [18:10,  7.60s/it]\r144it [18:18,  7.58s/it]\r145it [18:25,  7.59s/it]\r146it [18:33,  7.65s/it]\r147it [18:41,  7.60s/it]\r148it [18:48,  7.56s/it]\r149it [18:56,  7.57s/it]\r150it [19:03,  7.56s/it]\r151it [19:11,  7.56s/it]\r152it [19:18,  7.55s/it]\r153it [19:26,  7.54s/it]\r154it [19:34,  7.60s/it]\r155it [19:41,  7.61s/it]\r156it [19:49,  7.55s/it]\r157it [19:56,  7.59s/it]\r158it [20:04,  7.60s/it]\r159it [20:12,  7.63s/it]\r160it [20:19,  7.59s/it]\r161it [20:27,  7.58s/it]\r162it [20:34,  7.59s/it]\r163it [20:42,  7.59s/it]\r164it [20:50,  7.66s/it]\r165it [20:57,  7.63s/it]\r166it [21:05,  7.58s/it]\r167it [21:12,  7.56s/it]\r168it [21:20,  7.55s/it]\r169it [21:27,  7.55s/it]\r170it [21:35,  7.57s/it]\r171it [21:43,  7.61s/it]\r172it [21:50,  7.62s/it]\r173it [21:58,  7.58s/it]\r174it [22:05,  7.62s/it]\r175it [22:13,  7.60s/it]\r176it [22:21,  7.60s/it]\r177it [22:28,  7.63s/it]\r178it [22:36,  7.63s/it]\r179it [22:44,  7.63s/it]\r180it [22:51,  7.60s/it]\r181it [22:59,  7.62s/it]\r182it [23:06,  7.63s/it]\r183it [23:14,  7.61s/it]\r184it [23:22,  7.62s/it]\r185it [23:29,  7.61s/it]\r186it [23:37,  7.65s/it]\r187it [23:45,  7.62s/it]\r188it [23:52,  7.62s/it]\r189it [24:00,  7.59s/it]\r190it [24:07,  7.60s/it]\r191it [24:15,  7.60s/it]\r192it [24:22,  7.56s/it]\r193it [24:30,  7.58s/it]\r194it [24:38,  7.58s/it]\r195it [24:45,  7.56s/it]\r196it [24:53,  7.59s/it]\r197it [25:00,  7.59s/it]\r198it [25:08,  7.63s/it]\r199it [25:16,  7.62s/it]\r200it [25:23,  7.63s/it]\r201it [25:31,  7.60s/it]\r202it [25:39,  7.62s/it]\r203it [25:46,  7.59s/it]\r204it [25:53,  7.55s/it]\r205it [26:01,  7.54s/it]\r206it [26:09,  7.56s/it]\r207it [26:16,  7.54s/it]\r208it [26:24,  7.55s/it]\r209it [26:31,  7.58s/it]\r210it [26:39,  7.55s/it]\r211it [26:46,  7.53s/it]\r212it [26:54,  7.59s/it]\r213it [27:02,  7.60s/it]\r214it [27:09,  7.62s/it]\r215it [27:17,  7.59s/it]\r216it [27:24,  7.59s/it]\r217it [27:32,  7.59s/it]\r218it [27:40,  7.60s/it]\r219it [27:47,  7.54s/it]\r220it [27:55,  7.57s/it]\r221it [28:02,  7.61s/it]\r222it [28:10,  7.56s/it]\r223it [28:17,  7.59s/it]\r224it [28:25,  7.59s/it]\r225it [28:33,  7.58s/it]\r226it [28:40,  7.60s/it]\r227it [28:48,  7.65s/it]\r228it [28:56,  7.66s/it]\r229it [29:03,  7.60s/it]\r230it [29:11,  7.64s/it]\r231it [29:19,  7.64s/it]\r232it [29:26,  7.63s/it]\r233it [29:34,  7.69s/it]\r234it [29:42,  7.69s/it]\r235it [29:49,  7.61s/it]\r236it [29:57,  7.61s/it]\r237it [30:04,  7.59s/it]\r238it [30:12,  7.64s/it]\r239it [30:20,  7.60s/it]\r240it [30:27,  7.55s/it]\r240it [30:27,  7.61s/it]\n"
     ]
    },
    {
     "name": "stdout",
     "output_type": "stream",
     "text": [
      "Epoch 7 train loss: 0.0654296875\n",
      "[Train - End / Test - Start Epoch 8] GPU Memory: Allocated=2.31GB, Reserved=3.29GB\n"
     ]
    },
    {
     "name": "stderr",
     "output_type": "stream",
     "text": [
      "\r  0%|          | 0/14.1875 [00:00<?, ?it/s]\r  7%|▋         | 1/14.1875 [00:06<01:27,  6.67s/it]\r 14%|█▍        | 2/14.1875 [00:13<01:22,  6.76s/it]\r 21%|██        | 3/14.1875 [00:20<01:15,  6.77s/it]\r 28%|██▊       | 4/14.1875 [00:26<01:08,  6.74s/it]\r 35%|███▌      | 5/14.1875 [00:33<01:01,  6.72s/it]\r 42%|████▏     | 6/14.1875 [00:40<00:54,  6.71s/it]\r 49%|████▉     | 7/14.1875 [00:46<00:48,  6.68s/it]\r 56%|█████▋    | 8/14.1875 [00:53<00:41,  6.72s/it]\r 63%|██████▎   | 9/14.1875 [01:00<00:34,  6.69s/it]\r 70%|███████   | 10/14.1875 [01:07<00:28,  6.70s/it]\r 78%|███████▊  | 11/14.1875 [01:13<00:21,  6.69s/it]\r 85%|████████▍ | 12/14.1875 [01:20<00:14,  6.67s/it]\r 92%|█████████▏| 13/14.1875 [01:27<00:07,  6.68s/it]\r 99%|█████████▊| 14/14.1875 [01:33<00:01,  6.67s/it]\r15it [01:40,  6.67s/it]                             \r16it [01:47,  6.69s/it]\r17it [01:53,  6.63s/it]\r18it [02:00,  6.71s/it]\r19it [02:07,  6.70s/it]\r20it [02:13,  6.71s/it]\r21it [02:20,  6.70s/it]\r22it [02:27,  6.66s/it]\r23it [02:34,  6.71s/it]\r24it [02:40,  6.71s/it]\r25it [02:47,  6.67s/it]\r26it [02:53,  6.62s/it]\r27it [03:00,  6.60s/it]\r28it [03:07,  6.63s/it]\r29it [03:13,  6.65s/it]\r30it [03:20,  6.62s/it]\r30it [03:20,  6.68s/it]\n"
     ]
    },
    {
     "name": "stdout",
     "output_type": "stream",
     "text": [
      "Cumulative Accuracy for CP: 69.58%\n",
      "Cumulative Accuracy for chopping-board: 89.58%\n",
      "Cumulative Accuracy for finalstep: 91.25%\n",
      "Cumulative Accuracy for glass-bowl-large: 78.33%\n",
      "Cumulative Accuracy for glass-bowl-medium: 65.83%\n",
      "Cumulative Accuracy for glass-bowl-small: 45.83%\n",
      "Cumulative Accuracy for grill-plate: nan%\n",
      "Cumulative Accuracy for group_step: 76.25%\n",
      "Cumulative Accuracy for medium: 90.83%\n",
      "Cumulative Accuracy for oven-dish: 93.75%\n",
      "Cumulative Accuracy for oven-tray: 96.25%\n",
      "Cumulative Accuracy for pan: 100.00%\n",
      "Cumulative Accuracy for pot-one-handle: 98.75%\n",
      "Cumulative Accuracy for pot-two-handles-medium: 68.33%\n",
      "Cumulative Accuracy for pot-two-handles-shallow: 95.83%\n",
      "Cumulative Accuracy for pot-two-handles-small: nan%\n",
      "Cumulative Accuracy for saucepan: 87.50%\n",
      "\n",
      "Mean Top 3 Accuracy (Val): 92.44%\n",
      "Mean Top 1 Accuracy (Val): 81.33%\n",
      "Macro-averaged Accuracy (Val): 83.19%\n",
      "Epoch 7 test loss: 24.5625\n",
      "\n",
      "[Test - End Epoch 8] GPU Memory: Allocated=2.31GB, Reserved=3.29GB\n",
      "\n",
      "Epoch 9/120\n",
      "[Train - Start Epoch 9] GPU Memory: Allocated=2.31GB, Reserved=3.29GB\n"
     ]
    },
    {
     "name": "stderr",
     "output_type": "stream",
     "text": [
      "\r  0%|          | 0/127.84375 [00:00<?, ?it/s]\r  1%|          | 1/127.84375 [00:07<16:06,  7.62s/it]\r  2%|▏         | 2/127.84375 [00:15<16:02,  7.65s/it]\r  2%|▏         | 3/127.84375 [00:22<15:42,  7.55s/it]\r  3%|▎         | 4/127.84375 [00:30<15:44,  7.63s/it]\r  4%|▍         | 5/127.84375 [00:38<15:38,  7.64s/it]\r  5%|▍         | 6/127.84375 [00:45<15:35,  7.67s/it]\r  5%|▌         | 7/127.84375 [00:53<15:17,  7.59s/it]\r  6%|▋         | 8/127.84375 [01:00<15:13,  7.62s/it]\r  7%|▋         | 9/127.84375 [01:08<15:01,  7.58s/it]\r  8%|▊         | 10/127.84375 [01:16<14:51,  7.57s/it]\r  9%|▊         | 11/127.84375 [01:23<14:52,  7.63s/it]\r  9%|▉         | 12/127.84375 [01:31<14:49,  7.68s/it]\r 10%|█         | 13/127.84375 [01:39<14:39,  7.66s/it]\r 11%|█         | 14/127.84375 [01:46<14:32,  7.67s/it]\r 12%|█▏        | 15/127.84375 [01:54<14:31,  7.73s/it]\r 13%|█▎        | 16/127.84375 [02:02<14:24,  7.73s/it]\r 13%|█▎        | 17/127.84375 [02:09<14:08,  7.65s/it]\r 14%|█▍        | 18/127.84375 [02:17<13:58,  7.63s/it]\r 15%|█▍        | 19/127.84375 [02:25<13:53,  7.66s/it]\r 16%|█▌        | 20/127.84375 [02:32<13:47,  7.67s/it]\r 16%|█▋        | 21/127.84375 [02:40<13:39,  7.67s/it]\r 17%|█▋        | 22/127.84375 [02:48<13:29,  7.64s/it]\r 18%|█▊        | 23/127.84375 [02:55<13:20,  7.64s/it]\r 19%|█▉        | 24/127.84375 [03:03<13:15,  7.66s/it]\r 20%|█▉        | 25/127.84375 [03:11<13:05,  7.64s/it]\r 20%|██        | 26/127.84375 [03:18<13:00,  7.66s/it]\r 21%|██        | 27/127.84375 [03:26<12:52,  7.66s/it]\r 22%|██▏       | 28/127.84375 [03:34<12:46,  7.68s/it]\r 23%|██▎       | 29/127.84375 [03:41<12:32,  7.62s/it]\r 23%|██▎       | 30/127.84375 [03:49<12:25,  7.61s/it]\r 24%|██▍       | 31/127.84375 [03:56<12:18,  7.63s/it]\r 25%|██▌       | 32/127.84375 [04:04<12:10,  7.62s/it]\r 26%|██▌       | 33/127.84375 [04:12<12:00,  7.59s/it]\r 27%|██▋       | 34/127.84375 [04:19<11:56,  7.64s/it]\r 27%|██▋       | 35/127.84375 [04:27<11:45,  7.60s/it]\r 28%|██▊       | 36/127.84375 [04:34<11:37,  7.59s/it]\r 29%|██▉       | 37/127.84375 [04:42<11:27,  7.57s/it]\r 30%|██▉       | 38/127.84375 [04:50<11:20,  7.58s/it]\r 31%|███       | 39/127.84375 [04:57<11:10,  7.55s/it]\r 31%|███▏      | 40/127.84375 [05:05<11:08,  7.61s/it]\r 32%|███▏      | 41/127.84375 [05:12<10:59,  7.60s/it]\r 33%|███▎      | 42/127.84375 [05:20<10:50,  7.57s/it]\r 34%|███▎      | 43/127.84375 [05:27<10:40,  7.55s/it]\r 34%|███▍      | 44/127.84375 [05:35<10:32,  7.55s/it]\r 35%|███▌      | 45/127.84375 [05:43<10:27,  7.57s/it]\r 36%|███▌      | 46/127.84375 [05:50<10:19,  7.57s/it]\r 37%|███▋      | 47/127.84375 [05:58<10:12,  7.57s/it]\r 38%|███▊      | 48/127.84375 [06:05<10:03,  7.56s/it]\r 38%|███▊      | 49/127.84375 [06:13<10:00,  7.62s/it]\r 39%|███▉      | 50/127.84375 [06:21<09:54,  7.63s/it]\r 40%|███▉      | 51/127.84375 [06:28<09:47,  7.65s/it]\r 41%|████      | 52/127.84375 [06:36<09:38,  7.63s/it]\r 41%|████▏     | 53/127.84375 [06:44<09:30,  7.63s/it]\r 42%|████▏     | 54/127.84375 [06:51<09:19,  7.57s/it]\r 43%|████▎     | 55/127.84375 [06:59<09:14,  7.61s/it]\r 44%|████▍     | 56/127.84375 [07:06<09:05,  7.59s/it]\r 45%|████▍     | 57/127.84375 [07:14<08:57,  7.59s/it]\r 45%|████▌     | 58/127.84375 [07:21<08:46,  7.54s/it]\r 46%|████▌     | 59/127.84375 [07:29<08:40,  7.56s/it]\r 47%|████▋     | 60/127.84375 [07:36<08:33,  7.57s/it]\r 48%|████▊     | 61/127.84375 [07:44<08:24,  7.55s/it]\r 48%|████▊     | 62/127.84375 [07:51<08:17,  7.55s/it]\r 49%|████▉     | 63/127.84375 [07:59<08:12,  7.60s/it]\r 50%|█████     | 64/127.84375 [08:07<08:02,  7.56s/it]\r 51%|█████     | 65/127.84375 [08:14<07:56,  7.58s/it]\r 52%|█████▏    | 66/127.84375 [08:21<07:41,  7.46s/it]\r 52%|█████▏    | 67/127.84375 [08:29<07:35,  7.48s/it]\r 53%|█████▎    | 68/127.84375 [08:37<07:30,  7.52s/it]\r 54%|█████▍    | 69/127.84375 [08:44<07:27,  7.61s/it]\r 55%|█████▍    | 70/127.84375 [08:52<07:23,  7.67s/it]\r 56%|█████▌    | 71/127.84375 [09:00<07:16,  7.69s/it]\r 56%|█████▋    | 72/127.84375 [09:07<07:06,  7.63s/it]\r 57%|█████▋    | 73/127.84375 [09:15<06:58,  7.62s/it]\r 58%|█████▊    | 74/127.84375 [09:23<06:49,  7.60s/it]\r 59%|█████▊    | 75/127.84375 [09:30<06:44,  7.65s/it]\r 59%|█████▉    | 76/127.84375 [09:38<06:37,  7.67s/it]\r 60%|██████    | 77/127.84375 [09:46<06:29,  7.66s/it]\r 61%|██████    | 78/127.84375 [09:53<06:22,  7.68s/it]\r 62%|██████▏   | 79/127.84375 [10:01<06:13,  7.65s/it]\r 63%|██████▎   | 80/127.84375 [10:09<06:06,  7.67s/it]\r 63%|██████▎   | 81/127.84375 [10:16<05:59,  7.68s/it]\r 64%|██████▍   | 82/127.84375 [10:24<05:50,  7.64s/it]\r 65%|██████▍   | 83/127.84375 [10:32<05:43,  7.65s/it]\r 66%|██████▌   | 84/127.84375 [10:39<05:33,  7.61s/it]\r 66%|██████▋   | 85/127.84375 [10:47<05:25,  7.59s/it]\r 67%|██████▋   | 86/127.84375 [10:54<05:16,  7.57s/it]\r 68%|██████▊   | 87/127.84375 [11:02<05:08,  7.55s/it]\r 69%|██████▉   | 88/127.84375 [11:09<04:59,  7.53s/it]\r 70%|██████▉   | 89/127.84375 [11:17<04:55,  7.60s/it]\r 70%|███████   | 90/127.84375 [11:25<04:47,  7.60s/it]\r 71%|███████   | 91/127.84375 [11:32<04:40,  7.63s/it]\r 72%|███████▏  | 92/127.84375 [11:40<04:33,  7.63s/it]\r 73%|███████▎  | 93/127.84375 [11:48<04:27,  7.67s/it]\r 74%|███████▎  | 94/127.84375 [11:55<04:18,  7.64s/it]\r 74%|███████▍  | 95/127.84375 [12:03<04:12,  7.68s/it]\r 75%|███████▌  | 96/127.84375 [12:10<04:02,  7.62s/it]\r 76%|███████▌  | 97/127.84375 [12:18<03:56,  7.67s/it]\r 77%|███████▋  | 98/127.84375 [12:26<03:48,  7.67s/it]\r 77%|███████▋  | 99/127.84375 [12:33<03:39,  7.62s/it]\r 78%|███████▊  | 100/127.84375 [12:41<03:32,  7.63s/it]\r 79%|███████▉  | 101/127.84375 [12:49<03:26,  7.68s/it]\r 80%|███████▉  | 102/127.84375 [12:57<03:18,  7.70s/it]\r 81%|████████  | 103/127.84375 [13:04<03:10,  7.65s/it]\r 81%|████████▏ | 104/127.84375 [13:12<03:03,  7.68s/it]\r 82%|████████▏ | 105/127.84375 [13:20<02:55,  7.68s/it]\r 83%|████████▎ | 106/127.84375 [13:27<02:47,  7.67s/it]\r 84%|████████▎ | 107/127.84375 [13:35<02:39,  7.66s/it]\r 84%|████████▍ | 108/127.84375 [13:42<02:30,  7.60s/it]\r 85%|████████▌ | 109/127.84375 [13:50<02:23,  7.60s/it]\r 86%|████████▌ | 110/127.84375 [13:58<02:16,  7.64s/it]\r 87%|████████▋ | 111/127.84375 [14:05<02:07,  7.58s/it]\r 88%|████████▊ | 112/127.84375 [14:13<01:59,  7.57s/it]\r 88%|████████▊ | 113/127.84375 [14:20<01:52,  7.59s/it]\r 89%|████████▉ | 114/127.84375 [14:28<01:45,  7.59s/it]\r 90%|████████▉ | 115/127.84375 [14:36<01:37,  7.62s/it]\r 91%|█████████ | 116/127.84375 [14:43<01:30,  7.65s/it]\r 92%|█████████▏| 117/127.84375 [14:51<01:23,  7.66s/it]\r 92%|█████████▏| 118/127.84375 [14:59<01:15,  7.66s/it]\r 93%|█████████▎| 119/127.84375 [15:06<01:07,  7.66s/it]\r 94%|█████████▍| 120/127.84375 [15:14<01:00,  7.66s/it]\r 95%|█████████▍| 121/127.84375 [15:22<00:52,  7.67s/it]\r 95%|█████████▌| 122/127.84375 [15:29<00:44,  7.63s/it]\r 96%|█████████▌| 123/127.84375 [15:37<00:36,  7.61s/it]\r 97%|█████████▋| 124/127.84375 [15:45<00:29,  7.66s/it]\r 98%|█████████▊| 125/127.84375 [15:52<00:21,  7.73s/it]\r 99%|█████████▊| 126/127.84375 [16:00<00:14,  7.74s/it]\r 99%|█████████▉| 127/127.84375 [16:08<00:06,  7.69s/it]/databricks/python/lib/python3.11/site-packages/tqdm/std.py:524: TqdmWarning: clamping frac to range [0, 1]\n",
      "  full_bar = Bar(frac,\n",
      "\r100%|██████████| 128/127.84375 [16:15<-1:59:59,  7.67s/it]\r129it [16:23,  7.70s/it]                                  \r130it [16:31,  7.65s/it]\r131it [16:38,  7.65s/it]\r132it [16:46,  7.58s/it]\r133it [16:53,  7.57s/it]\r134it [17:01,  7.56s/it]\r135it [17:08,  7.52s/it]\r136it [17:16,  7.52s/it]\r137it [17:24,  7.59s/it]\r138it [17:31,  7.59s/it]\r139it [17:39,  7.52s/it]\r140it [17:46,  7.57s/it]\r141it [17:54,  7.63s/it]\r142it [18:02,  7.62s/it]\r143it [18:09,  7.66s/it]\r144it [18:17,  7.67s/it]\r145it [18:25,  7.69s/it]\r146it [18:32,  7.63s/it]\r147it [18:40,  7.62s/it]\r148it [18:48,  7.64s/it]\r149it [18:55,  7.61s/it]\r150it [19:03,  7.63s/it]\r151it [19:10,  7.62s/it]\r152it [19:18,  7.58s/it]\r153it [19:25,  7.61s/it]\r154it [19:33,  7.59s/it]\r155it [19:41,  7.60s/it]\r156it [19:48,  7.59s/it]\r157it [19:56,  7.58s/it]\r158it [20:03,  7.58s/it]\r159it [20:11,  7.56s/it]\r160it [20:19,  7.59s/it]\r161it [20:26,  7.57s/it]\r162it [20:34,  7.57s/it]\r163it [20:41,  7.56s/it]\r164it [20:49,  7.57s/it]\r165it [20:56,  7.57s/it]\r166it [21:04,  7.54s/it]\r167it [21:11,  7.53s/it]\r168it [21:19,  7.56s/it]\r169it [21:27,  7.56s/it]\r170it [21:34,  7.56s/it]\r171it [21:42,  7.55s/it]\r172it [21:49,  7.56s/it]\r173it [21:57,  7.56s/it]\r174it [22:04,  7.56s/it]\r175it [22:12,  7.58s/it]\r176it [22:19,  7.54s/it]\r177it [22:27,  7.56s/it]\r178it [22:34,  7.51s/it]\r179it [22:42,  7.55s/it]\r180it [22:50,  7.55s/it]\r181it [22:57,  7.57s/it]\r182it [23:05,  7.59s/it]\r183it [23:12,  7.58s/it]\r184it [23:20,  7.58s/it]\r185it [23:28,  7.60s/it]\r186it [23:35,  7.57s/it]\r187it [23:43,  7.57s/it]\r188it [23:50,  7.58s/it]\r189it [23:58,  7.55s/it]\r190it [24:05,  7.55s/it]\r191it [24:13,  7.56s/it]\r192it [24:21,  7.59s/it]\r193it [24:28,  7.55s/it]\r194it [24:35,  7.53s/it]\r195it [24:43,  7.52s/it]\r196it [24:51,  7.58s/it]\r197it [24:58,  7.64s/it]\r198it [25:06,  7.71s/it]\r199it [25:14,  7.66s/it]\r200it [25:21,  7.64s/it]\r201it [25:29,  7.65s/it]\r202it [25:37,  7.62s/it]\r203it [25:44,  7.63s/it]\r204it [25:52,  7.63s/it]\r205it [26:00,  7.64s/it]\r206it [26:07,  7.69s/it]\r207it [26:15,  7.67s/it]\r208it [26:22,  7.58s/it]\r209it [26:30,  7.56s/it]\r210it [26:38,  7.58s/it]\r211it [26:45,  7.59s/it]\r212it [26:53,  7.59s/it]\r213it [27:00,  7.60s/it]\r214it [27:08,  7.56s/it]\r215it [27:15,  7.57s/it]\r216it [27:23,  7.57s/it]\r217it [27:31,  7.63s/it]\r218it [27:38,  7.63s/it]\r219it [27:46,  7.59s/it]\r220it [27:54,  7.59s/it]\r221it [28:01,  7.64s/it]\r222it [28:09,  7.60s/it]\r223it [28:16,  7.60s/it]\r224it [28:24,  7.61s/it]\r225it [28:31,  7.55s/it]\r226it [28:39,  7.56s/it]\r227it [28:47,  7.54s/it]\r228it [28:54,  7.55s/it]\r229it [29:02,  7.57s/it]\r230it [29:09,  7.57s/it]\r231it [29:17,  7.55s/it]\r232it [29:24,  7.57s/it]\r233it [29:32,  7.56s/it]\r234it [29:39,  7.56s/it]\r235it [29:47,  7.64s/it]\r236it [29:55,  7.58s/it]\r237it [30:02,  7.61s/it]\r238it [30:10,  7.59s/it]\r239it [30:17,  7.55s/it]\r240it [30:25,  7.59s/it]\r240it [30:25,  7.61s/it]\n"
     ]
    },
    {
     "name": "stdout",
     "output_type": "stream",
     "text": [
      "Epoch 8 train loss: 0.05963134765625\n",
      "[Train - End / Test - Start Epoch 9] GPU Memory: Allocated=2.30GB, Reserved=3.29GB\n"
     ]
    },
    {
     "name": "stderr",
     "output_type": "stream",
     "text": [
      "\r  0%|          | 0/14.1875 [00:00<?, ?it/s]\r  7%|▋         | 1/14.1875 [00:06<01:27,  6.65s/it]\r 14%|█▍        | 2/14.1875 [00:13<01:21,  6.68s/it]\r 21%|██        | 3/14.1875 [00:19<01:14,  6.66s/it]\r 28%|██▊       | 4/14.1875 [00:26<01:08,  6.70s/it]\r 35%|███▌      | 5/14.1875 [00:33<01:00,  6.62s/it]\r 42%|████▏     | 6/14.1875 [00:39<00:53,  6.59s/it]\r 49%|████▉     | 7/14.1875 [00:46<00:47,  6.60s/it]\r 56%|█████▋    | 8/14.1875 [00:53<00:40,  6.61s/it]\r 63%|██████▎   | 9/14.1875 [00:59<00:34,  6.66s/it]\r 70%|███████   | 10/14.1875 [01:06<00:27,  6.65s/it]\r 78%|███████▊  | 11/14.1875 [01:13<00:21,  6.65s/it]\r 85%|████████▍ | 12/14.1875 [01:19<00:14,  6.68s/it]\r 92%|█████████▏| 13/14.1875 [01:26<00:07,  6.67s/it]\r 99%|█████████▊| 14/14.1875 [01:33<00:01,  6.71s/it]\r15it [01:39,  6.65s/it]                             \r16it [01:46,  6.67s/it]\r17it [01:53,  6.71s/it]\r18it [01:59,  6.67s/it]\r19it [02:06,  6.68s/it]\r20it [02:13,  6.68s/it]\r21it [02:19,  6.69s/it]\r22it [02:26,  6.71s/it]\r23it [02:33,  6.72s/it]\r24it [02:40,  6.72s/it]\r25it [02:46,  6.70s/it]\r26it [02:53,  6.66s/it]\r27it [02:59,  6.63s/it]\r28it [03:06,  6.66s/it]\r29it [03:13,  6.66s/it]\r30it [03:20,  6.65s/it]\r30it [03:20,  6.67s/it]\n"
     ]
    },
    {
     "name": "stdout",
     "output_type": "stream",
     "text": [
      "Cumulative Accuracy for CP: 70.00%\n",
      "Cumulative Accuracy for chopping-board: 89.26%\n",
      "Cumulative Accuracy for finalstep: 91.11%\n",
      "Cumulative Accuracy for glass-bowl-large: 77.78%\n",
      "Cumulative Accuracy for glass-bowl-medium: 67.04%\n",
      "Cumulative Accuracy for glass-bowl-small: 44.44%\n",
      "Cumulative Accuracy for grill-plate: nan%\n",
      "Cumulative Accuracy for group_step: 76.67%\n",
      "Cumulative Accuracy for medium: 91.85%\n",
      "Cumulative Accuracy for oven-dish: 94.44%\n",
      "Cumulative Accuracy for oven-tray: 95.56%\n",
      "Cumulative Accuracy for pan: 100.00%\n",
      "Cumulative Accuracy for pot-one-handle: 98.89%\n",
      "Cumulative Accuracy for pot-two-handles-medium: 67.04%\n",
      "Cumulative Accuracy for pot-two-handles-shallow: 96.30%\n",
      "Cumulative Accuracy for pot-two-handles-small: nan%\n",
      "Cumulative Accuracy for saucepan: 77.78%\n",
      "\n",
      "Mean Top 3 Accuracy (Val): 96.89%\n",
      "Mean Top 1 Accuracy (Val): 77.33%\n",
      "Macro-averaged Accuracy (Val): 82.54%\n",
      "Epoch 8 test loss: 25.546875\n",
      "\n",
      "[Test - End Epoch 9] GPU Memory: Allocated=2.30GB, Reserved=3.29GB\n",
      "\n",
      "Epoch 10/120\n",
      "[Train - Start Epoch 10] GPU Memory: Allocated=2.30GB, Reserved=3.29GB\n"
     ]
    },
    {
     "name": "stderr",
     "output_type": "stream",
     "text": [
      "\r  0%|          | 0/127.84375 [00:00<?, ?it/s]\r  1%|          | 1/127.84375 [00:07<16:04,  7.60s/it]\r  2%|▏         | 2/127.84375 [00:15<16:01,  7.64s/it]\r  2%|▏         | 3/127.84375 [00:22<15:49,  7.60s/it]\r  3%|▎         | 4/127.84375 [00:30<15:39,  7.59s/it]\r  4%|▍         | 5/127.84375 [00:37<15:29,  7.57s/it]\r  5%|▍         | 6/127.84375 [00:45<15:23,  7.58s/it]\r  5%|▌         | 7/127.84375 [00:53<15:12,  7.55s/it]\r  6%|▋         | 8/127.84375 [01:00<15:12,  7.61s/it]\r  7%|▋         | 9/127.84375 [01:08<15:01,  7.59s/it]\r  8%|▊         | 10/127.84375 [01:15<14:52,  7.58s/it]\r  9%|▊         | 11/127.84375 [01:23<14:53,  7.65s/it]\r  9%|▉         | 12/127.84375 [01:31<14:42,  7.62s/it]\r 10%|█         | 13/127.84375 [01:38<14:37,  7.65s/it]\r 11%|█         | 14/127.84375 [01:46<14:23,  7.58s/it]\r 12%|█▏        | 15/127.84375 [01:53<14:16,  7.59s/it]\r 13%|█▎        | 16/127.84375 [02:01<14:06,  7.57s/it]\r 13%|█▎        | 17/127.84375 [02:09<13:58,  7.56s/it]\r 14%|█▍        | 18/127.84375 [02:16<13:49,  7.55s/it]\r 15%|█▍        | 19/127.84375 [02:24<13:45,  7.58s/it]\r 16%|█▌        | 20/127.84375 [02:31<13:39,  7.60s/it]\r 16%|█▋        | 21/127.84375 [02:39<13:37,  7.66s/it]\r 17%|█▋        | 22/127.84375 [02:47<13:29,  7.65s/it]\r 18%|█▊        | 23/127.84375 [02:54<13:18,  7.61s/it]\r 19%|█▉        | 24/127.84375 [03:02<13:12,  7.63s/it]\r 20%|█▉        | 25/127.84375 [03:10<13:06,  7.65s/it]\r 20%|██        | 26/127.84375 [03:17<12:54,  7.60s/it]\r 21%|██        | 27/127.84375 [03:25<12:49,  7.63s/it]\r 22%|██▏       | 28/127.84375 [03:33<12:43,  7.65s/it]\r 23%|██▎       | 29/127.84375 [03:40<12:26,  7.55s/it]\r 23%|██▎       | 30/127.84375 [03:47<12:16,  7.52s/it]\r 24%|██▍       | 31/127.84375 [03:55<12:12,  7.56s/it]\r 25%|██▌       | 32/127.84375 [04:02<12:01,  7.53s/it]\r 26%|██▌       | 33/127.84375 [04:10<11:58,  7.57s/it]\r 27%|██▋       | 34/127.84375 [04:18<11:51,  7.59s/it]\r 27%|██▋       | 35/127.84375 [04:25<11:41,  7.55s/it]\r 28%|██▊       | 36/127.84375 [04:33<11:37,  7.59s/it]\r 29%|██▉       | 37/127.84375 [04:40<11:29,  7.59s/it]\r 30%|██▉       | 38/127.84375 [04:48<11:22,  7.59s/it]\r 31%|███       | 39/127.84375 [04:56<11:15,  7.61s/it]\r 31%|███▏      | 40/127.84375 [05:03<11:08,  7.60s/it]\r 32%|███▏      | 41/127.84375 [05:11<10:54,  7.53s/it]\r 33%|███▎      | 42/127.84375 [05:18<10:45,  7.52s/it]\r 34%|███▎      | 43/127.84375 [05:26<10:36,  7.51s/it]\r 34%|███▍      | 44/127.84375 [05:33<10:29,  7.50s/it]\r 35%|███▌      | 45/127.84375 [05:41<10:24,  7.54s/it]\r 36%|███▌      | 46/127.84375 [05:48<10:17,  7.55s/it]\r 37%|███▋      | 47/127.84375 [05:56<10:09,  7.54s/it]\r 38%|███▊      | 48/127.84375 [06:03<10:03,  7.56s/it]\r 38%|███▊      | 49/127.84375 [06:11<09:58,  7.59s/it]\r 39%|███▉      | 50/127.84375 [06:19<09:49,  7.57s/it]\r 40%|███▉      | 51/127.84375 [06:26<09:41,  7.57s/it]\r 41%|████      | 52/127.84375 [06:34<09:32,  7.55s/it]\r 41%|████▏     | 53/127.84375 [06:41<09:26,  7.57s/it]\r 42%|████▏     | 54/127.84375 [06:49<09:19,  7.58s/it]\r 43%|████▎     | 55/127.84375 [06:57<09:16,  7.64s/it]\r 44%|████▍     | 56/127.84375 [07:04<09:07,  7.61s/it]\r 45%|████▍     | 57/127.84375 [07:12<08:55,  7.56s/it]\r 45%|████▌     | 58/127.84375 [07:19<08:49,  7.59s/it]\r 46%|████▌     | 59/127.84375 [07:27<08:41,  7.58s/it]\r 47%|████▋     | 60/127.84375 [07:34<08:34,  7.58s/it]\r 48%|████▊     | 61/127.84375 [07:42<08:27,  7.59s/it]\r 48%|████▊     | 62/127.84375 [07:50<08:19,  7.59s/it]\r 49%|████▉     | 63/127.84375 [07:57<08:13,  7.62s/it]\r 50%|█████     | 64/127.84375 [08:05<08:03,  7.58s/it]\r 51%|█████     | 65/127.84375 [08:12<07:57,  7.59s/it]\r 52%|█████▏    | 66/127.84375 [08:20<07:50,  7.60s/it]\r 52%|█████▏    | 67/127.84375 [08:28<07:43,  7.62s/it]\r 53%|█████▎    | 68/127.84375 [08:35<07:32,  7.56s/it]\r 54%|█████▍    | 69/127.84375 [08:43<07:27,  7.60s/it]\r 55%|█████▍    | 70/127.84375 [08:50<07:19,  7.59s/it]\r 56%|█████▌    | 71/127.84375 [08:58<07:10,  7.58s/it]\r 56%|█████▋    | 72/127.84375 [09:06<07:03,  7.58s/it]\r 57%|█████▋    | 73/127.84375 [09:13<06:57,  7.61s/it]\r 58%|█████▊    | 74/127.84375 [09:21<06:50,  7.62s/it]\r 59%|█████▊    | 75/127.84375 [09:29<06:44,  7.66s/it]\r 59%|█████▉    | 76/127.84375 [09:36<06:36,  7.65s/it]\r 60%|██████    | 77/127.84375 [09:44<06:27,  7.63s/it]\r 61%|██████    | 78/127.84375 [09:51<06:19,  7.61s/it]\r 62%|██████▏   | 79/127.84375 [09:59<06:11,  7.60s/it]\r 63%|██████▎   | 80/127.84375 [10:07<06:04,  7.61s/it]\r 63%|██████▎   | 81/127.84375 [10:14<05:56,  7.61s/it]\r 64%|██████▍   | 82/127.84375 [10:22<05:49,  7.62s/it]\r 65%|██████▍   | 83/127.84375 [10:30<05:42,  7.63s/it]\r 66%|██████▌   | 84/127.84375 [10:37<05:35,  7.64s/it]\r 66%|██████▋   | 85/127.84375 [10:45<05:26,  7.61s/it]\r 67%|██████▋   | 86/127.84375 [10:53<05:20,  7.66s/it]\r 68%|██████▊   | 87/127.84375 [11:00<05:11,  7.62s/it]\r 69%|██████▉   | 88/127.84375 [11:08<05:01,  7.58s/it]\r 70%|██████▉   | 89/127.84375 [11:15<04:56,  7.65s/it]\r 70%|███████   | 90/127.84375 [11:23<04:48,  7.63s/it]\r 71%|███████   | 91/127.84375 [11:31<04:42,  7.67s/it]\r 72%|███████▏  | 92/127.84375 [11:38<04:34,  7.65s/it]\r 73%|███████▎  | 93/127.84375 [11:46<04:25,  7.62s/it]\r 74%|███████▎  | 94/127.84375 [11:53<04:16,  7.59s/it]\r 74%|███████▍  | 95/127.84375 [12:01<04:08,  7.58s/it]\r 75%|███████▌  | 96/127.84375 [12:09<04:02,  7.62s/it]\r 76%|███████▌  | 97/127.84375 [12:17<03:58,  7.72s/it]\r 77%|███████▋  | 98/127.84375 [12:24<03:49,  7.69s/it]\r 77%|███████▋  | 99/127.84375 [12:32<03:41,  7.68s/it]\r 78%|███████▊  | 100/127.84375 [12:40<03:34,  7.71s/it]\r 79%|███████▉  | 101/127.84375 [12:47<03:24,  7.63s/it]\r 80%|███████▉  | 102/127.84375 [12:55<03:18,  7.66s/it]\r 81%|████████  | 103/127.84375 [13:02<03:08,  7.57s/it]\r 81%|████████▏ | 104/127.84375 [13:10<02:59,  7.53s/it]\r 82%|████████▏ | 105/127.84375 [13:17<02:51,  7.49s/it]\r 83%|████████▎ | 106/127.84375 [13:25<02:45,  7.58s/it]\r 84%|████████▎ | 107/127.84375 [13:32<02:38,  7.59s/it]\r 84%|████████▍ | 108/127.84375 [13:40<02:30,  7.58s/it]\r 85%|████████▌ | 109/127.84375 [13:48<02:23,  7.59s/it]\r 86%|████████▌ | 110/127.84375 [13:55<02:16,  7.64s/it]\r 87%|████████▋ | 111/127.84375 [14:03<02:08,  7.63s/it]\r 88%|████████▊ | 112/127.84375 [14:10<02:00,  7.60s/it]\r 88%|████████▊ | 113/127.84375 [14:18<01:53,  7.63s/it]\r 89%|████████▉ | 114/127.84375 [14:26<01:45,  7.62s/it]\r 90%|████████▉ | 115/127.84375 [14:33<01:37,  7.60s/it]\r 91%|█████████ | 116/127.84375 [14:41<01:29,  7.59s/it]\r 92%|█████████▏| 117/127.84375 [14:48<01:22,  7.58s/it]\r 92%|█████████▏| 118/127.84375 [14:56<01:14,  7.61s/it]\r 93%|█████████▎| 119/127.84375 [15:04<01:07,  7.64s/it]\r 94%|█████████▍| 120/127.84375 [15:11<00:59,  7.59s/it]\r 95%|█████████▍| 121/127.84375 [15:19<00:52,  7.62s/it]\r 95%|█████████▌| 122/127.84375 [15:27<00:44,  7.58s/it]\r 96%|█████████▌| 123/127.84375 [15:34<00:36,  7.59s/it]\r 97%|█████████▋| 124/127.84375 [15:42<00:29,  7.64s/it]\r 98%|█████████▊| 125/127.84375 [15:49<00:21,  7.63s/it]\r 99%|█████████▊| 126/127.84375 [15:57<00:14,  7.63s/it]\r 99%|█████████▉| 127/127.84375 [16:05<00:06,  7.61s/it]/databricks/python/lib/python3.11/site-packages/tqdm/std.py:524: TqdmWarning: clamping frac to range [0, 1]\n",
      "  full_bar = Bar(frac,\n",
      "\r100%|██████████| 128/127.84375 [16:12<-1:59:59,  7.61s/it]\r129it [16:20,  7.60s/it]                                  \r130it [16:28,  7.62s/it]\r131it [16:35,  7.63s/it]\r132it [16:43,  7.64s/it]\r133it [16:51,  7.66s/it]\r134it [16:58,  7.61s/it]\r135it [17:06,  7.59s/it]\r136it [17:13,  7.56s/it]\r137it [17:21,  7.56s/it]\r138it [17:28,  7.59s/it]\r139it [17:36,  7.61s/it]\r140it [17:44,  7.60s/it]\r141it [17:51,  7.62s/it]\r142it [17:59,  7.61s/it]\r143it [18:07,  7.65s/it]\r144it [18:14,  7.65s/it]\r145it [18:22,  7.63s/it]\r146it [18:29,  7.64s/it]\r147it [18:37,  7.59s/it]\r148it [18:44,  7.55s/it]\r149it [18:52,  7.55s/it]\r150it [18:59,  7.55s/it]\r151it [19:07,  7.58s/it]\r152it [19:15,  7.59s/it]\r153it [19:22,  7.56s/it]\r154it [19:30,  7.59s/it]\r155it [19:38,  7.62s/it]\r156it [19:45,  7.56s/it]\r157it [19:53,  7.55s/it]\r158it [20:00,  7.52s/it]\r159it [20:07,  7.51s/it]\r160it [20:15,  7.53s/it]\r161it [20:23,  7.57s/it]\r162it [20:30,  7.59s/it]\r163it [20:38,  7.57s/it]\r164it [20:45,  7.56s/it]\r165it [20:53,  7.55s/it]\r166it [21:01,  7.56s/it]\r167it [21:08,  7.59s/it]\r168it [21:16,  7.62s/it]\r169it [21:23,  7.60s/it]\r170it [21:31,  7.58s/it]\r171it [21:39,  7.58s/it]\r172it [21:46,  7.56s/it]\r173it [21:54,  7.56s/it]\r174it [22:01,  7.53s/it]\r175it [22:09,  7.55s/it]\r176it [22:16,  7.60s/it]\r177it [22:24,  7.63s/it]\r178it [22:32,  7.65s/it]\r179it [22:40,  7.68s/it]\r180it [22:47,  7.65s/it]\r181it [22:55,  7.64s/it]\r182it [23:03,  7.69s/it]\r183it [23:10,  7.60s/it]\r184it [23:17,  7.59s/it]\r185it [23:25,  7.58s/it]\r186it [23:32,  7.52s/it]\r187it [23:40,  7.55s/it]\r188it [23:48,  7.62s/it]\r189it [23:55,  7.61s/it]\r190it [24:03,  7.62s/it]\r191it [24:11,  7.57s/it]\r192it [24:18,  7.57s/it]\r193it [24:26,  7.57s/it]\r194it [24:33,  7.53s/it]\r195it [24:41,  7.53s/it]\r196it [24:48,  7.55s/it]\r197it [24:56,  7.54s/it]\r198it [25:03,  7.53s/it]\r199it [25:11,  7.50s/it]\r200it [25:18,  7.49s/it]\r201it [25:26,  7.50s/it]\r202it [25:33,  7.50s/it]\r203it [25:41,  7.50s/it]\r204it [25:48,  7.56s/it]\r205it [25:56,  7.61s/it]\r206it [26:03,  7.55s/it]\r207it [26:11,  7.56s/it]\r208it [26:19,  7.56s/it]\r209it [26:26,  7.52s/it]\r210it [26:34,  7.54s/it]\r211it [26:41,  7.59s/it]\r212it [26:49,  7.59s/it]\r213it [26:57,  7.62s/it]\r214it [27:04,  7.63s/it]\r215it [27:12,  7.61s/it]\r216it [27:19,  7.60s/it]\r217it [27:27,  7.62s/it]\r218it [27:35,  7.57s/it]\r219it [27:42,  7.59s/it]\r220it [27:50,  7.59s/it]\r221it [27:57,  7.62s/it]\r222it [28:05,  7.60s/it]\r223it [28:13,  7.59s/it]\r224it [28:20,  7.62s/it]\r225it [28:28,  7.61s/it]\r226it [28:35,  7.62s/it]\r227it [28:43,  7.58s/it]\r228it [28:51,  7.61s/it]\r229it [28:58,  7.57s/it]\r230it [29:06,  7.57s/it]\r231it [29:13,  7.52s/it]\r232it [29:21,  7.55s/it]\r233it [29:28,  7.55s/it]\r234it [29:36,  7.52s/it]\r235it [29:43,  7.58s/it]\r236it [29:51,  7.55s/it]\r237it [29:59,  7.56s/it]\r238it [30:06,  7.57s/it]\r239it [30:14,  7.56s/it]\r240it [30:21,  7.52s/it]\r240it [30:21,  7.59s/it]\n"
     ]
    },
    {
     "name": "stdout",
     "output_type": "stream",
     "text": [
      "Epoch 9 train loss: 0.0888671875\n",
      "[Train - End / Test - Start Epoch 10] GPU Memory: Allocated=2.30GB, Reserved=3.29GB\n"
     ]
    },
    {
     "name": "stderr",
     "output_type": "stream",
     "text": [
      "\r  0%|          | 0/14.1875 [00:00<?, ?it/s]\r  7%|▋         | 1/14.1875 [00:06<01:28,  6.73s/it]\r 14%|█▍        | 2/14.1875 [00:13<01:21,  6.65s/it]\r 21%|██        | 3/14.1875 [00:19<01:14,  6.62s/it]\r 28%|██▊       | 4/14.1875 [00:26<01:08,  6.69s/it]\r 35%|███▌      | 5/14.1875 [00:33<01:01,  6.67s/it]\r 42%|████▏     | 6/14.1875 [00:39<00:54,  6.65s/it]\r 49%|████▉     | 7/14.1875 [00:46<00:48,  6.69s/it]\r 56%|█████▋    | 8/14.1875 [00:53<00:41,  6.76s/it]\r 63%|██████▎   | 9/14.1875 [01:00<00:34,  6.73s/it]\r 70%|███████   | 10/14.1875 [01:06<00:27,  6.68s/it]\r 78%|███████▊  | 11/14.1875 [01:13<00:21,  6.70s/it]\r 85%|████████▍ | 12/14.1875 [01:20<00:14,  6.70s/it]\r 92%|█████████▏| 13/14.1875 [01:27<00:07,  6.72s/it]\r 99%|█████████▊| 14/14.1875 [01:33<00:01,  6.78s/it]\r15it [01:40,  6.80s/it]                             \r16it [01:47,  6.78s/it]\r17it [01:54,  6.77s/it]\r18it [02:01,  6.76s/it]\r19it [02:07,  6.72s/it]\r20it [02:14,  6.73s/it]\r21it [02:21,  6.71s/it]\r22it [02:27,  6.69s/it]\r23it [02:34,  6.66s/it]\r24it [02:41,  6.67s/it]\r25it [02:47,  6.70s/it]\r26it [02:54,  6.71s/it]\r27it [03:01,  6.67s/it]\r28it [03:07,  6.71s/it]\r29it [03:14,  6.68s/it]\r30it [03:21,  6.66s/it]\r30it [03:21,  6.70s/it]\n"
     ]
    },
    {
     "name": "stdout",
     "output_type": "stream",
     "text": [
      "Cumulative Accuracy for CP: 69.00%\n",
      "Cumulative Accuracy for chopping-board: 89.67%\n",
      "Cumulative Accuracy for finalstep: 91.00%\n",
      "Cumulative Accuracy for glass-bowl-large: 78.00%\n",
      "Cumulative Accuracy for glass-bowl-medium: 65.67%\n",
      "Cumulative Accuracy for glass-bowl-small: 46.67%\n",
      "Cumulative Accuracy for grill-plate: nan%\n",
      "Cumulative Accuracy for group_step: 77.00%\n",
      "Cumulative Accuracy for medium: 92.00%\n",
      "Cumulative Accuracy for oven-dish: 95.00%\n",
      "Cumulative Accuracy for oven-tray: 95.67%\n",
      "Cumulative Accuracy for pan: 100.00%\n",
      "Cumulative Accuracy for pot-one-handle: 97.67%\n",
      "Cumulative Accuracy for pot-two-handles-medium: 69.00%\n",
      "Cumulative Accuracy for pot-two-handles-shallow: 95.00%\n",
      "Cumulative Accuracy for pot-two-handles-small: nan%\n",
      "Cumulative Accuracy for saucepan: 80.00%\n",
      "\n",
      "Mean Top 3 Accuracy (Val): 96.44%\n",
      "Mean Top 1 Accuracy (Val): 84.67%\n",
      "Macro-averaged Accuracy (Val): 82.76%\n",
      "Epoch 9 test loss: 25.34375\n",
      "\n",
      "[Test - End Epoch 10] GPU Memory: Allocated=2.30GB, Reserved=3.29GB\n",
      "\n",
      "Epoch 11/120\n",
      "[Train - Start Epoch 11] GPU Memory: Allocated=2.30GB, Reserved=3.29GB\n"
     ]
    },
    {
     "name": "stderr",
     "output_type": "stream",
     "text": [
      "\r  0%|          | 0/127.84375 [00:00<?, ?it/s]\r  1%|          | 1/127.84375 [00:07<16:24,  7.76s/it]\r  2%|▏         | 2/127.84375 [00:15<15:46,  7.52s/it]\r  2%|▏         | 3/127.84375 [00:22<15:44,  7.57s/it]\r  3%|▎         | 4/127.84375 [00:30<15:36,  7.57s/it]\r  4%|▍         | 5/127.84375 [00:38<15:37,  7.63s/it]\r  5%|▍         | 6/127.84375 [00:45<15:27,  7.61s/it]\r  5%|▌         | 7/127.84375 [00:53<15:17,  7.59s/it]\r  6%|▋         | 8/127.84375 [01:00<15:13,  7.63s/it]\r  7%|▋         | 9/127.84375 [01:08<15:10,  7.66s/it]\r  8%|▊         | 10/127.84375 [01:16<15:01,  7.65s/it]\r  9%|▊         | 11/127.84375 [01:23<14:56,  7.68s/it]\r  9%|▉         | 12/127.84375 [01:31<14:46,  7.65s/it]\r 10%|█         | 13/127.84375 [01:39<14:39,  7.66s/it]\r 11%|█         | 14/127.84375 [01:46<14:34,  7.68s/it]\r 12%|█▏        | 15/127.84375 [01:54<14:24,  7.66s/it]\r 13%|█▎        | 16/127.84375 [02:02<14:20,  7.69s/it]\r 13%|█▎        | 17/127.84375 [02:10<14:12,  7.69s/it]\r 14%|█▍        | 18/127.84375 [02:17<14:00,  7.65s/it]\r 15%|█▍        | 19/127.84375 [02:25<13:55,  7.68s/it]\r 16%|█▌        | 20/127.84375 [02:33<13:52,  7.72s/it]\r 16%|█▋        | 21/127.84375 [02:40<13:43,  7.70s/it]\r 17%|█▋        | 22/127.84375 [02:48<13:29,  7.65s/it]\r 18%|█▊        | 23/127.84375 [02:55<13:20,  7.64s/it]\r 19%|█▉        | 24/127.84375 [03:03<13:06,  7.58s/it]\r 20%|█▉        | 25/127.84375 [03:10<12:56,  7.55s/it]\r 20%|██        | 26/127.84375 [03:18<12:48,  7.54s/it]\r 21%|██        | 27/127.84375 [03:25<12:39,  7.53s/it]\r 22%|██▏       | 28/127.84375 [03:33<12:38,  7.60s/it]\r 23%|██▎       | 29/127.84375 [03:41<12:35,  7.65s/it]\r 23%|██▎       | 30/127.84375 [03:49<12:31,  7.68s/it]\r 24%|██▍       | 31/127.84375 [03:56<12:18,  7.62s/it]\r 25%|██▌       | 32/127.84375 [04:04<12:07,  7.59s/it]\r 26%|██▌       | 33/127.84375 [04:11<11:59,  7.59s/it]\r 27%|██▋       | 34/127.84375 [04:19<11:55,  7.62s/it]\r 27%|██▋       | 35/127.84375 [04:27<11:52,  7.68s/it]\r 28%|██▊       | 36/127.84375 [04:35<11:48,  7.71s/it]\r 29%|██▉       | 37/127.84375 [04:42<11:39,  7.70s/it]\r 30%|██▉       | 38/127.84375 [04:50<11:30,  7.69s/it]\r 31%|███       | 39/127.84375 [04:58<11:22,  7.68s/it]\r 31%|███▏      | 40/127.84375 [05:05<11:12,  7.66s/it]\r 32%|███▏      | 41/127.84375 [05:13<11:07,  7.68s/it]\r 33%|███▎      | 42/127.84375 [05:21<10:58,  7.67s/it]\r 34%|███▎      | 43/127.84375 [05:28<10:52,  7.68s/it]\r 34%|███▍      | 44/127.84375 [05:36<10:45,  7.70s/it]\r 35%|███▌      | 45/127.84375 [05:44<10:36,  7.69s/it]\r 36%|███▌      | 46/127.84375 [05:51<10:30,  7.70s/it]\r 37%|███▋      | 47/127.84375 [05:59<10:19,  7.66s/it]\r 38%|███▊      | 48/127.84375 [06:07<10:11,  7.66s/it]\r 38%|███▊      | 49/127.84375 [06:15<10:10,  7.74s/it]\r 39%|███▉      | 50/127.84375 [06:22<09:57,  7.67s/it]\r 40%|███▉      | 51/127.84375 [06:30<09:48,  7.66s/it]\r 41%|████      | 52/127.84375 [06:37<09:40,  7.66s/it]\r 41%|████▏     | 53/127.84375 [06:45<09:36,  7.70s/it]\r 42%|████▏     | 54/127.84375 [06:53<09:26,  7.67s/it]\r 43%|████▎     | 55/127.84375 [07:00<09:20,  7.70s/it]\r 44%|████▍     | 56/127.84375 [07:08<09:10,  7.67s/it]\r 45%|████▍     | 57/127.84375 [07:16<09:00,  7.63s/it]\r 45%|████▌     | 58/127.84375 [07:23<08:52,  7.63s/it]\r 46%|████▌     | 59/127.84375 [07:31<08:48,  7.68s/it]\r 47%|████▋     | 60/127.84375 [07:39<08:39,  7.65s/it]\r 48%|████▊     | 61/127.84375 [07:46<08:34,  7.69s/it]\r 48%|████▊     | 62/127.84375 [07:54<08:23,  7.65s/it]\r 49%|████▉     | 63/127.84375 [08:02<08:17,  7.67s/it]\r 50%|█████     | 64/127.84375 [08:09<08:10,  7.69s/it]\r 51%|█████     | 65/127.84375 [08:17<08:03,  7.70s/it]\r 52%|█████▏    | 66/127.84375 [08:25<07:57,  7.73s/it]\r 52%|█████▏    | 67/127.84375 [08:33<07:51,  7.74s/it]\r 53%|█████▎    | 68/127.84375 [08:40<07:42,  7.73s/it]\r 54%|█████▍    | 69/127.84375 [08:48<07:34,  7.73s/it]\r 55%|█████▍    | 70/127.84375 [08:56<07:23,  7.67s/it]\r 56%|█████▌    | 71/127.84375 [09:03<07:14,  7.65s/it]\r 56%|█████▋    | 72/127.84375 [09:11<07:07,  7.65s/it]\r 57%|█████▋    | 73/127.84375 [09:19<07:01,  7.69s/it]\r 58%|█████▊    | 74/127.84375 [09:26<06:54,  7.71s/it]\r 59%|█████▊    | 75/127.84375 [09:34<06:46,  7.69s/it]\r 59%|█████▉    | 76/127.84375 [09:42<06:35,  7.62s/it]\r 60%|██████    | 77/127.84375 [09:49<06:28,  7.64s/it]\r 61%|██████    | 78/127.84375 [09:57<06:20,  7.64s/it]\r 62%|██████▏   | 79/127.84375 [10:05<06:13,  7.64s/it]\r 63%|██████▎   | 80/127.84375 [10:12<06:06,  7.65s/it]\r 63%|██████▎   | 81/127.84375 [10:20<06:01,  7.71s/it]\r 64%|██████▍   | 82/127.84375 [10:28<05:51,  7.67s/it]\r 65%|██████▍   | 83/127.84375 [10:35<05:43,  7.67s/it]\r 66%|██████▌   | 84/127.84375 [10:43<05:37,  7.69s/it]\r 66%|██████▋   | 85/127.84375 [10:51<05:27,  7.63s/it]\r 67%|██████▋   | 86/127.84375 [10:58<05:17,  7.58s/it]\r 68%|██████▊   | 87/127.84375 [11:06<05:09,  7.58s/it]\r 69%|██████▉   | 88/127.84375 [11:13<05:00,  7.55s/it]\r 70%|██████▉   | 89/127.84375 [11:21<04:52,  7.52s/it]\r 70%|███████   | 90/127.84375 [11:28<04:45,  7.54s/it]\r 71%|███████   | 91/127.84375 [11:36<04:39,  7.58s/it]\r 72%|███████▏  | 92/127.84375 [11:43<04:32,  7.59s/it]\r 73%|███████▎  | 93/127.84375 [11:51<04:24,  7.60s/it]\r 74%|███████▎  | 94/127.84375 [11:59<04:19,  7.65s/it]\r 74%|███████▍  | 95/127.84375 [12:07<04:12,  7.68s/it]\r 75%|███████▌  | 96/127.84375 [12:14<04:05,  7.72s/it]\r 76%|███████▌  | 97/127.84375 [12:22<03:58,  7.72s/it]\r 77%|███████▋  | 98/127.84375 [12:30<03:49,  7.70s/it]\r 77%|███████▋  | 99/127.84375 [12:37<03:39,  7.61s/it]\r 78%|███████▊  | 100/127.84375 [12:45<03:32,  7.63s/it]\r 79%|███████▉  | 101/127.84375 [12:53<03:25,  7.66s/it]\r 80%|███████▉  | 102/127.84375 [13:00<03:18,  7.67s/it]\r 81%|████████  | 103/127.84375 [13:08<03:09,  7.65s/it]\r 81%|████████▏ | 104/127.84375 [13:15<03:01,  7.63s/it]\r 82%|████████▏ | 105/127.84375 [13:23<02:54,  7.64s/it]\r 83%|████████▎ | 106/127.84375 [13:31<02:47,  7.67s/it]\r 84%|████████▎ | 107/127.84375 [13:39<02:41,  7.73s/it]\r 84%|████████▍ | 108/127.84375 [13:46<02:33,  7.73s/it]\r 85%|████████▌ | 109/127.84375 [13:54<02:24,  7.67s/it]\r 86%|████████▌ | 110/127.84375 [14:02<02:17,  7.68s/it]\r 87%|████████▋ | 111/127.84375 [14:09<02:08,  7.62s/it]\r 88%|████████▊ | 112/127.84375 [14:17<02:00,  7.61s/it]\r 88%|████████▊ | 113/127.84375 [14:24<01:53,  7.63s/it]\r 89%|████████▉ | 114/127.84375 [14:32<01:45,  7.61s/it]\r 90%|████████▉ | 115/127.84375 [14:39<01:37,  7.57s/it]\r 91%|█████████ | 116/127.84375 [14:47<01:29,  7.60s/it]\r 92%|█████████▏| 117/127.84375 [14:55<01:21,  7.54s/it]\r 92%|█████████▏| 118/127.84375 [15:02<01:14,  7.55s/it]\r 93%|█████████▎| 119/127.84375 [15:09<01:06,  7.50s/it]\r 94%|█████████▍| 120/127.84375 [15:17<00:59,  7.53s/it]\r 95%|█████████▍| 121/127.84375 [15:25<00:51,  7.51s/it]\r 95%|█████████▌| 122/127.84375 [15:32<00:44,  7.55s/it]\r 96%|█████████▌| 123/127.84375 [15:40<00:36,  7.58s/it]\r 97%|█████████▋| 124/127.84375 [15:47<00:29,  7.57s/it]\r 98%|█████████▊| 125/127.84375 [15:55<00:21,  7.59s/it]\r 99%|█████████▊| 126/127.84375 [16:03<00:13,  7.59s/it]\r 99%|█████████▉| 127/127.84375 [16:10<00:06,  7.56s/it]/databricks/python/lib/python3.11/site-packages/tqdm/std.py:524: TqdmWarning: clamping frac to range [0, 1]\n",
      "  full_bar = Bar(frac,\n",
      "\r100%|██████████| 128/127.84375 [16:18<-1:59:59,  7.57s/it]\r129it [16:25,  7.64s/it]                                  \r130it [16:33,  7.56s/it]\r131it [16:40,  7.57s/it]\r132it [16:48,  7.60s/it]\r133it [16:56,  7.65s/it]\r134it [17:03,  7.64s/it]\r135it [17:11,  7.65s/it]\r136it [17:19,  7.64s/it]\r137it [17:27,  7.67s/it]\r138it [17:34,  7.63s/it]\r139it [17:42,  7.70s/it]\r140it [17:50,  7.69s/it]\r141it [17:57,  7.65s/it]\r142it [18:05,  7.65s/it]\r143it [18:12,  7.67s/it]\r144it [18:20,  7.64s/it]\r145it [18:28,  7.62s/it]\r146it [18:35,  7.62s/it]\r147it [18:43,  7.62s/it]\r148it [18:51,  7.64s/it]\r149it [18:58,  7.62s/it]\r150it [19:06,  7.61s/it]\r151it [19:14,  7.66s/it]\r152it [19:21,  7.68s/it]\r153it [19:29,  7.69s/it]\r154it [19:37,  7.74s/it]\r155it [19:45,  7.73s/it]\r156it [19:52,  7.70s/it]\r157it [20:00,  7.71s/it]\r158it [20:08,  7.72s/it]\r159it [20:15,  7.69s/it]\r160it [20:23,  7.66s/it]\r161it [20:30,  7.64s/it]\r162it [20:38,  7.60s/it]\r163it [20:45,  7.58s/it]\r164it [20:53,  7.62s/it]\r165it [21:01,  7.63s/it]\r166it [21:08,  7.58s/it]\r167it [21:16,  7.59s/it]\r168it [21:23,  7.58s/it]\r169it [21:31,  7.56s/it]\r170it [21:39,  7.58s/it]\r171it [21:46,  7.60s/it]\r172it [21:54,  7.60s/it]\r173it [22:01,  7.57s/it]\r174it [22:09,  7.63s/it]\r175it [22:17,  7.71s/it]\r176it [22:25,  7.68s/it]\r177it [22:32,  7.68s/it]\r178it [22:40,  7.74s/it]\r179it [22:48,  7.73s/it]\r180it [22:55,  7.64s/it]\r181it [23:03,  7.62s/it]\r182it [23:11,  7.65s/it]\r183it [23:18,  7.61s/it]\r184it [23:26,  7.53s/it]\r185it [23:33,  7.55s/it]\r186it [23:41,  7.57s/it]\r187it [23:48,  7.60s/it]\r188it [23:56,  7.55s/it]\r189it [24:04,  7.61s/it]\r190it [24:11,  7.58s/it]\r191it [24:19,  7.60s/it]\r192it [24:26,  7.56s/it]\r193it [24:34,  7.54s/it]\r194it [24:41,  7.57s/it]\r195it [24:49,  7.59s/it]\r196it [24:57,  7.58s/it]\r197it [25:04,  7.61s/it]\r198it [25:12,  7.70s/it]\r199it [25:20,  7.76s/it]\r200it [25:28,  7.73s/it]\r201it [25:35,  7.69s/it]\r202it [25:43,  7.69s/it]\r203it [25:51,  7.70s/it]\r204it [25:58,  7.72s/it]\r205it [26:06,  7.70s/it]\r206it [26:14,  7.67s/it]\r207it [26:21,  7.67s/it]\r208it [26:29,  7.65s/it]\r209it [26:37,  7.64s/it]\r210it [26:44,  7.57s/it]\r211it [26:52,  7.60s/it]\r212it [26:59,  7.58s/it]\r213it [27:07,  7.58s/it]\r214it [27:14,  7.60s/it]\r215it [27:22,  7.59s/it]\r216it [27:30,  7.62s/it]\r217it [27:37,  7.61s/it]\r218it [27:45,  7.59s/it]\r219it [27:52,  7.56s/it]\r220it [28:00,  7.55s/it]\r221it [28:07,  7.55s/it]\r222it [28:15,  7.54s/it]\r223it [28:22,  7.54s/it]\r224it [28:30,  7.53s/it]\r225it [28:38,  7.55s/it]\r226it [28:45,  7.51s/it]\r227it [28:53,  7.54s/it]\r228it [29:00,  7.62s/it]\r229it [29:08,  7.57s/it]\r230it [29:16,  7.60s/it]\r231it [29:23,  7.60s/it]\r232it [29:31,  7.59s/it]\r233it [29:38,  7.56s/it]\r234it [29:46,  7.51s/it]\r235it [29:53,  7.49s/it]\r236it [30:00,  7.46s/it]\r237it [30:08,  7.48s/it]\r238it [30:16,  7.55s/it]\r239it [30:23,  7.55s/it]\r240it [30:31,  7.56s/it]\r240it [30:31,  7.63s/it]\n"
     ]
    },
    {
     "name": "stdout",
     "output_type": "stream",
     "text": [
      "Epoch 10 train loss: 0.0287017822265625\n",
      "[Checkpoint] Saved under <PATH>/recipe_classifier/checkpoints/2025_01_23/dataset_20dec/b32/epoch_10.pt\n",
      "\n",
      "[Train - End / Test - Start Epoch 11] GPU Memory: Allocated=2.06GB, Reserved=3.29GB\n"
     ]
    },
    {
     "name": "stderr",
     "output_type": "stream",
     "text": [
      "\r  0%|          | 0/14.1875 [00:00<?, ?it/s]\r  7%|▋         | 1/14.1875 [00:06<01:27,  6.67s/it]\r 14%|█▍        | 2/14.1875 [00:13<01:21,  6.69s/it]\r 21%|██        | 3/14.1875 [00:20<01:15,  6.72s/it]\r 28%|██▊       | 4/14.1875 [00:26<01:08,  6.68s/it]\r 35%|███▌      | 5/14.1875 [00:33<01:01,  6.65s/it]\r 42%|████▏     | 6/14.1875 [00:39<00:54,  6.63s/it]\r 49%|████▉     | 7/14.1875 [00:46<00:48,  6.70s/it]\r 56%|█████▋    | 8/14.1875 [00:53<00:41,  6.68s/it]\r 63%|██████▎   | 9/14.1875 [01:00<00:34,  6.67s/it]\r 70%|███████   | 10/14.1875 [01:06<00:28,  6.70s/it]\r 78%|███████▊  | 11/14.1875 [01:13<00:21,  6.71s/it]\r 85%|████████▍ | 12/14.1875 [01:20<00:14,  6.70s/it]\r 92%|█████████▏| 13/14.1875 [01:27<00:07,  6.72s/it]\r 99%|█████████▊| 14/14.1875 [01:33<00:01,  6.66s/it]\r15it [01:40,  6.71s/it]                             \r16it [01:47,  6.71s/it]\r17it [01:53,  6.70s/it]\r18it [02:00,  6.71s/it]\r19it [02:07,  6.73s/it]\r20it [02:13,  6.67s/it]\r21it [02:20,  6.72s/it]\r22it [02:27,  6.70s/it]\r23it [02:33,  6.68s/it]\r24it [02:40,  6.66s/it]\r25it [02:47,  6.68s/it]\r26it [02:53,  6.65s/it]\r27it [03:00,  6.66s/it]\r28it [03:07,  6.69s/it]\r29it [03:14,  6.73s/it]\r30it [03:20,  6.66s/it]\r30it [03:20,  6.69s/it]\n"
     ]
    },
    {
     "name": "stdout",
     "output_type": "stream",
     "text": [
      "Cumulative Accuracy for CP: 70.30%\n",
      "Cumulative Accuracy for chopping-board: 89.39%\n",
      "Cumulative Accuracy for finalstep: 91.21%\n",
      "Cumulative Accuracy for glass-bowl-large: 76.36%\n",
      "Cumulative Accuracy for glass-bowl-medium: 65.15%\n",
      "Cumulative Accuracy for glass-bowl-small: 46.36%\n",
      "Cumulative Accuracy for grill-plate: nan%\n",
      "Cumulative Accuracy for group_step: 77.58%\n",
      "Cumulative Accuracy for medium: 92.12%\n",
      "Cumulative Accuracy for oven-dish: 93.94%\n",
      "Cumulative Accuracy for oven-tray: 95.15%\n",
      "Cumulative Accuracy for pan: 100.00%\n",
      "Cumulative Accuracy for pot-one-handle: 97.88%\n",
      "Cumulative Accuracy for pot-two-handles-medium: 68.79%\n",
      "Cumulative Accuracy for pot-two-handles-shallow: 93.94%\n",
      "Cumulative Accuracy for pot-two-handles-small: nan%\n",
      "Cumulative Accuracy for saucepan: 81.82%\n",
      "\n",
      "Mean Top 3 Accuracy (Val): 93.11%\n",
      "Mean Top 1 Accuracy (Val): 81.78%\n",
      "Macro-averaged Accuracy (Val): 82.67%\n",
      "Epoch 10 test loss: 28.6875\n",
      "\n",
      "[Test - End Epoch 11] GPU Memory: Allocated=2.06GB, Reserved=3.29GB\n",
      "\n",
      "Epoch 12/120\n",
      "[Train - Start Epoch 12] GPU Memory: Allocated=2.06GB, Reserved=3.29GB\n"
     ]
    },
    {
     "name": "stderr",
     "output_type": "stream",
     "text": [
      "\r  0%|          | 0/127.84375 [00:00<?, ?it/s]\r  1%|          | 1/127.84375 [00:07<16:21,  7.73s/it]\r  2%|▏         | 2/127.84375 [00:15<16:00,  7.63s/it]\r  2%|▏         | 3/127.84375 [00:22<15:52,  7.63s/it]\r  3%|▎         | 4/127.84375 [00:30<15:42,  7.61s/it]\r  4%|▍         | 5/127.84375 [00:38<15:40,  7.65s/it]\r  5%|▍         | 6/127.84375 [00:45<15:36,  7.68s/it]\r  5%|▌         | 7/127.84375 [00:53<15:28,  7.68s/it]\r  6%|▋         | 8/127.84375 [01:01<15:15,  7.64s/it]\r  7%|▋         | 9/127.84375 [01:08<15:11,  7.67s/it]\r  8%|▊         | 10/127.84375 [01:16<14:55,  7.60s/it]\r  9%|▊         | 11/127.84375 [01:23<14:41,  7.55s/it]\r  9%|▉         | 12/127.84375 [01:31<14:39,  7.59s/it]\r 10%|█         | 13/127.84375 [01:39<14:36,  7.63s/it]\r 11%|█         | 14/127.84375 [01:46<14:26,  7.62s/it]\r 12%|█▏        | 15/127.84375 [01:54<14:23,  7.65s/it]\r 13%|█▎        | 16/127.84375 [02:02<14:13,  7.63s/it]\r 13%|█▎        | 17/127.84375 [02:09<14:05,  7.63s/it]\r 14%|█▍        | 18/127.84375 [02:17<13:55,  7.61s/it]\r 15%|█▍        | 19/127.84375 [02:25<13:53,  7.65s/it]\r 16%|█▌        | 20/127.84375 [02:32<13:44,  7.64s/it]\r 16%|█▋        | 21/127.84375 [02:40<13:37,  7.65s/it]\r 17%|█▋        | 22/127.84375 [02:48<13:33,  7.69s/it]\r 18%|█▊        | 23/127.84375 [02:55<13:31,  7.74s/it]\r 19%|█▉        | 24/127.84375 [03:03<13:16,  7.67s/it]\r 20%|█▉        | 25/127.84375 [03:11<13:12,  7.70s/it]\r 20%|██        | 26/127.84375 [03:19<13:06,  7.72s/it]\r 21%|██        | 27/127.84375 [03:26<12:59,  7.73s/it]\r 22%|██▏       | 28/127.84375 [03:34<12:45,  7.66s/it]\r 23%|██▎       | 29/127.84375 [03:41<12:31,  7.61s/it]\r 23%|██▎       | 30/127.84375 [03:49<12:28,  7.65s/it]\r 24%|██▍       | 31/127.84375 [03:57<12:20,  7.65s/it]\r 25%|██▌       | 32/127.84375 [04:04<12:09,  7.61s/it]\r 26%|██▌       | 33/127.84375 [04:12<12:00,  7.60s/it]\r 27%|██▋       | 34/127.84375 [04:19<11:52,  7.60s/it]\r 27%|██▋       | 35/127.84375 [04:27<11:44,  7.58s/it]\r 28%|██▊       | 36/127.84375 [04:34<11:34,  7.56s/it]\r 29%|██▉       | 37/127.84375 [04:42<11:27,  7.56s/it]\r 30%|██▉       | 38/127.84375 [04:49<11:16,  7.53s/it]\r 31%|███       | 39/127.84375 [04:57<11:12,  7.57s/it]\r 31%|███▏      | 40/127.84375 [05:05<11:04,  7.57s/it]\r 32%|███▏      | 41/127.84375 [05:12<10:59,  7.60s/it]\r 33%|███▎      | 42/127.84375 [05:20<10:50,  7.57s/it]\r 34%|███▎      | 43/127.84375 [05:28<10:44,  7.60s/it]\r 34%|███▍      | 44/127.84375 [05:35<10:38,  7.62s/it]\r 35%|███▌      | 45/127.84375 [05:43<10:28,  7.59s/it]\r 36%|███▌      | 46/127.84375 [05:50<10:25,  7.64s/it]\r 37%|███▋      | 47/127.84375 [05:58<10:18,  7.64s/it]\r 38%|███▊      | 48/127.84375 [06:06<10:08,  7.62s/it]\r 38%|███▊      | 49/127.84375 [06:13<10:02,  7.64s/it]\r 39%|███▉      | 50/127.84375 [06:21<09:58,  7.69s/it]\r 40%|███▉      | 51/127.84375 [06:29<09:54,  7.73s/it]\r 41%|████      | 52/127.84375 [06:37<09:46,  7.73s/it]\r 41%|████▏     | 53/127.84375 [06:45<09:40,  7.75s/it]\r 42%|████▏     | 54/127.84375 [06:52<09:28,  7.69s/it]\r 43%|████▎     | 55/127.84375 [07:00<09:21,  7.70s/it]\r 44%|████▍     | 56/127.84375 [07:08<09:13,  7.70s/it]\r 45%|████▍     | 57/127.84375 [07:15<09:06,  7.71s/it]\r 45%|████▌     | 58/127.84375 [07:23<08:58,  7.72s/it]\r 46%|████▌     | 59/127.84375 [07:31<08:49,  7.69s/it]\r 47%|████▋     | 60/127.84375 [07:38<08:41,  7.69s/it]\r 48%|████▊     | 61/127.84375 [07:46<08:33,  7.68s/it]\r 48%|████▊     | 62/127.84375 [07:54<08:25,  7.68s/it]\r 49%|████▉     | 63/127.84375 [08:01<08:16,  7.66s/it]\r 50%|█████     | 64/127.84375 [08:09<08:07,  7.63s/it]\r 51%|█████     | 65/127.84375 [08:17<08:01,  7.66s/it]\r 52%|█████▏    | 66/127.84375 [08:24<07:54,  7.67s/it]\r 52%|█████▏    | 67/127.84375 [08:32<07:47,  7.68s/it]\r 53%|█████▎    | 68/127.84375 [08:40<07:41,  7.72s/it]\r 54%|█████▍    | 69/127.84375 [08:48<07:37,  7.78s/it]\r 55%|█████▍    | 70/127.84375 [08:55<07:29,  7.76s/it]\r 56%|█████▌    | 71/127.84375 [09:03<07:22,  7.78s/it]\r 56%|█████▋    | 72/127.84375 [09:11<07:12,  7.75s/it]\r 57%|█████▋    | 73/127.84375 [09:19<07:04,  7.74s/it]\r 58%|█████▊    | 74/127.84375 [09:26<06:54,  7.69s/it]\r 59%|█████▊    | 75/127.84375 [09:34<06:44,  7.65s/it]\r 59%|█████▉    | 76/127.84375 [09:41<06:38,  7.68s/it]\r 60%|██████    | 77/127.84375 [09:49<06:30,  7.68s/it]\r 61%|██████    | 78/127.84375 [09:57<06:23,  7.70s/it]\r 62%|██████▏   | 79/127.84375 [10:05<06:16,  7.71s/it]\r 63%|██████▎   | 80/127.84375 [10:12<06:10,  7.74s/it]\r 63%|██████▎   | 81/127.84375 [10:20<06:02,  7.74s/it]\r 64%|██████▍   | 82/127.84375 [10:28<05:53,  7.72s/it]\r 65%|██████▍   | 83/127.84375 [10:36<05:47,  7.74s/it]\r 66%|██████▌   | 84/127.84375 [10:43<05:36,  7.68s/it]\r 66%|██████▋   | 85/127.84375 [10:51<05:27,  7.65s/it]\r 67%|██████▋   | 86/127.84375 [10:58<05:19,  7.64s/it]\r 68%|██████▊   | 87/127.84375 [11:06<05:11,  7.62s/it]\r 69%|██████▉   | 88/127.84375 [11:14<05:03,  7.62s/it]\r 70%|██████▉   | 89/127.84375 [11:21<04:55,  7.61s/it]\r 70%|███████   | 90/127.84375 [11:29<04:47,  7.60s/it]\r 71%|███████   | 91/127.84375 [11:36<04:38,  7.57s/it]\r 72%|███████▏  | 92/127.84375 [11:44<04:31,  7.58s/it]\r 73%|███████▎  | 93/127.84375 [11:51<04:23,  7.56s/it]\r 74%|███████▎  | 94/127.84375 [11:59<04:17,  7.60s/it]\r 74%|███████▍  | 95/127.84375 [12:07<04:10,  7.62s/it]\r 75%|███████▌  | 96/127.84375 [12:14<04:02,  7.61s/it]\r 76%|███████▌  | 97/127.84375 [12:22<03:53,  7.57s/it]\r 77%|███████▋  | 98/127.84375 [12:29<03:46,  7.59s/it]\r 77%|███████▋  | 99/127.84375 [12:37<03:39,  7.62s/it]\r 78%|███████▊  | 100/127.84375 [12:45<03:30,  7.57s/it]\r 79%|███████▉  | 101/127.84375 [12:52<03:22,  7.55s/it]\r 80%|███████▉  | 102/127.84375 [13:00<03:15,  7.57s/it]\r 81%|████████  | 103/127.84375 [13:07<03:07,  7.55s/it]\r 81%|████████▏ | 104/127.84375 [13:15<02:59,  7.55s/it]\r 82%|████████▏ | 105/127.84375 [13:22<02:52,  7.56s/it]\r 83%|████████▎ | 106/127.84375 [13:30<02:45,  7.57s/it]\r 84%|████████▎ | 107/127.84375 [13:38<02:38,  7.59s/it]\r 84%|████████▍ | 108/127.84375 [13:45<02:30,  7.60s/it]\r 85%|████████▌ | 109/127.84375 [13:53<02:23,  7.62s/it]\r 86%|████████▌ | 110/127.84375 [14:00<02:16,  7.63s/it]\r 87%|████████▋ | 111/127.84375 [14:08<02:08,  7.63s/it]\r 88%|████████▊ | 112/127.84375 [14:16<02:00,  7.60s/it]\r 88%|████████▊ | 113/127.84375 [14:23<01:53,  7.65s/it]\r 89%|████████▉ | 114/127.84375 [14:31<01:45,  7.64s/it]\r 90%|████████▉ | 115/127.84375 [14:39<01:38,  7.65s/it]\r 91%|█████████ | 116/127.84375 [14:46<01:30,  7.61s/it]\r 92%|█████████▏| 117/127.84375 [14:54<01:22,  7.61s/it]\r 92%|█████████▏| 118/127.84375 [15:01<01:14,  7.61s/it]\r 93%|█████████▎| 119/127.84375 [15:09<01:07,  7.61s/it]\r 94%|█████████▍| 120/127.84375 [15:17<00:59,  7.60s/it]\r 95%|█████████▍| 121/127.84375 [15:24<00:52,  7.61s/it]\r 95%|█████████▌| 122/127.84375 [15:32<00:44,  7.65s/it]\r 96%|█████████▌| 123/127.84375 [15:40<00:36,  7.64s/it]\r 97%|█████████▋| 124/127.84375 [15:47<00:29,  7.61s/it]\r 98%|█████████▊| 125/127.84375 [15:55<00:21,  7.57s/it]\r 99%|█████████▊| 126/127.84375 [16:02<00:13,  7.57s/it]\r 99%|█████████▉| 127/127.84375 [16:10<00:06,  7.69s/it]/databricks/python/lib/python3.11/site-packages/tqdm/std.py:524: TqdmWarning: clamping frac to range [0, 1]\n",
      "  full_bar = Bar(frac,\n",
      "\r100%|██████████| 128/127.84375 [16:18<-1:59:59,  7.70s/it]\r129it [16:26,  7.69s/it]                                  \r130it [16:33,  7.69s/it]\r131it [16:41,  7.68s/it]\r132it [16:49,  7.67s/it]\r133it [16:56,  7.68s/it]\r134it [17:04,  7.67s/it]\r135it [17:11,  7.62s/it]\r136it [17:19,  7.63s/it]\r137it [17:27,  7.63s/it]\r138it [17:34,  7.59s/it]\r139it [17:42,  7.64s/it]\r140it [17:49,  7.60s/it]\r141it [17:57,  7.63s/it]\r142it [18:05,  7.59s/it]\r143it [18:12,  7.58s/it]\r144it [18:20,  7.61s/it]\r145it [18:28,  7.62s/it]\r146it [18:35,  7.61s/it]\r147it [18:43,  7.61s/it]\r148it [18:50,  7.59s/it]\r149it [18:58,  7.64s/it]\r150it [19:06,  7.64s/it]\r151it [19:13,  7.64s/it]\r152it [19:21,  7.63s/it]\r153it [19:29,  7.63s/it]\r154it [19:36,  7.66s/it]\r155it [19:44,  7.65s/it]\r156it [19:51,  7.61s/it]\r157it [19:59,  7.63s/it]\r158it [20:07,  7.60s/it]\r159it [20:14,  7.55s/it]\r160it [20:22,  7.57s/it]\r161it [20:29,  7.57s/it]\r162it [20:37,  7.59s/it]\r163it [20:44,  7.55s/it]\r164it [20:52,  7.51s/it]\r165it [20:59,  7.54s/it]\r166it [21:07,  7.56s/it]\r167it [21:14,  7.53s/it]\r168it [21:22,  7.54s/it]\r169it [21:30,  7.56s/it]\r170it [21:37,  7.57s/it]\r171it [21:45,  7.56s/it]\r172it [21:52,  7.58s/it]\r173it [22:00,  7.56s/it]\r174it [22:07,  7.56s/it]\r175it [22:15,  7.59s/it]\r176it [22:23,  7.57s/it]\r177it [22:30,  7.51s/it]\r178it [22:37,  7.50s/it]\r179it [22:45,  7.48s/it]\r180it [22:52,  7.49s/it]\r181it [23:00,  7.55s/it]\r182it [23:08,  7.56s/it]\r183it [23:15,  7.58s/it]\r184it [23:23,  7.56s/it]\r185it [23:30,  7.56s/it]\r186it [23:38,  7.58s/it]\r187it [23:46,  7.55s/it]\r188it [23:53,  7.57s/it]\r189it [24:01,  7.55s/it]\r190it [24:08,  7.55s/it]\r191it [24:16,  7.58s/it]\r192it [24:23,  7.59s/it]\r193it [24:31,  7.59s/it]\r194it [24:39,  7.61s/it]\r195it [24:46,  7.63s/it]\r196it [24:54,  7.57s/it]\r197it [25:01,  7.60s/it]\r198it [25:09,  7.58s/it]\r199it [25:16,  7.56s/it]\r200it [25:24,  7.60s/it]\r201it [25:32,  7.61s/it]\r202it [25:39,  7.59s/it]\r203it [25:47,  7.62s/it]\r204it [25:55,  7.64s/it]\r205it [26:02,  7.64s/it]\r206it [26:10,  7.64s/it]\r207it [26:18,  7.65s/it]\r208it [26:25,  7.63s/it]\r209it [26:33,  7.59s/it]\r210it [26:40,  7.58s/it]\r211it [26:48,  7.56s/it]\r212it [26:56,  7.60s/it]\r213it [27:03,  7.59s/it]\r214it [27:11,  7.61s/it]\r215it [27:18,  7.61s/it]\r216it [27:26,  7.56s/it]\r217it [27:33,  7.57s/it]\r218it [27:41,  7.56s/it]\r219it [27:49,  7.59s/it]\r220it [27:56,  7.54s/it]\r221it [28:04,  7.56s/it]\r222it [28:11,  7.58s/it]\r223it [28:19,  7.58s/it]\r224it [28:27,  7.62s/it]\r225it [28:34,  7.61s/it]\r226it [28:42,  7.59s/it]\r227it [28:49,  7.55s/it]\r228it [28:57,  7.55s/it]\r229it [29:04,  7.57s/it]\r230it [29:12,  7.58s/it]\r231it [29:20,  7.60s/it]\r232it [29:27,  7.60s/it]\r233it [29:35,  7.60s/it]\r234it [29:42,  7.59s/it]\r235it [29:50,  7.56s/it]\r236it [29:57,  7.57s/it]\r237it [30:05,  7.58s/it]\r238it [30:13,  7.63s/it]\r239it [30:20,  7.65s/it]\r240it [30:28,  7.65s/it]\r240it [30:28,  7.62s/it]\n"
     ]
    },
    {
     "name": "stdout",
     "output_type": "stream",
     "text": [
      "Epoch 11 train loss: 0.1015625\n",
      "[Train - End / Test - Start Epoch 12] GPU Memory: Allocated=2.30GB, Reserved=3.29GB\n"
     ]
    },
    {
     "name": "stderr",
     "output_type": "stream",
     "text": [
      "\r  0%|          | 0/14.1875 [00:00<?, ?it/s]\r  7%|▋         | 1/14.1875 [00:06<01:28,  6.69s/it]\r 14%|█▍        | 2/14.1875 [00:13<01:21,  6.67s/it]\r 21%|██        | 3/14.1875 [00:20<01:15,  6.71s/it]\r 28%|██▊       | 4/14.1875 [00:26<01:08,  6.68s/it]\r 35%|███▌      | 5/14.1875 [00:33<01:01,  6.65s/it]\r 42%|████▏     | 6/14.1875 [00:39<00:54,  6.64s/it]\r 49%|████▉     | 7/14.1875 [00:46<00:47,  6.67s/it]\r 56%|█████▋    | 8/14.1875 [00:53<00:41,  6.67s/it]\r 63%|██████▎   | 9/14.1875 [01:00<00:34,  6.67s/it]\r 70%|███████   | 10/14.1875 [01:06<00:27,  6.64s/it]\r 78%|███████▊  | 11/14.1875 [01:13<00:21,  6.68s/it]\r 85%|████████▍ | 12/14.1875 [01:19<00:14,  6.63s/it]\r 92%|█████████▏| 13/14.1875 [01:26<00:07,  6.63s/it]\r 99%|█████████▊| 14/14.1875 [01:33<00:01,  6.63s/it]\r15it [01:39,  6.64s/it]                             \r16it [01:46,  6.67s/it]\r17it [01:53,  6.68s/it]\r18it [01:59,  6.61s/it]\r19it [02:06,  6.64s/it]\r20it [02:13,  6.64s/it]\r21it [02:19,  6.65s/it]\r22it [02:26,  6.64s/it]\r23it [02:33,  6.66s/it]\r24it [02:39,  6.66s/it]\r25it [02:46,  6.64s/it]\r26it [02:52,  6.64s/it]\r27it [02:59,  6.67s/it]\r28it [03:06,  6.65s/it]\r29it [03:12,  6.64s/it]\r30it [03:19,  6.63s/it]\r30it [03:19,  6.65s/it]\n"
     ]
    },
    {
     "name": "stdout",
     "output_type": "stream",
     "text": [
      "Cumulative Accuracy for CP: 70.00%\n",
      "Cumulative Accuracy for chopping-board: 89.44%\n",
      "Cumulative Accuracy for finalstep: 91.94%\n",
      "Cumulative Accuracy for glass-bowl-large: 75.28%\n",
      "Cumulative Accuracy for glass-bowl-medium: 65.83%\n",
      "Cumulative Accuracy for glass-bowl-small: 44.44%\n",
      "Cumulative Accuracy for grill-plate: nan%\n",
      "Cumulative Accuracy for group_step: 76.67%\n",
      "Cumulative Accuracy for medium: 92.50%\n",
      "Cumulative Accuracy for oven-dish: 94.44%\n",
      "Cumulative Accuracy for oven-tray: 95.56%\n",
      "Cumulative Accuracy for pan: 100.00%\n",
      "Cumulative Accuracy for pot-one-handle: 98.06%\n",
      "Cumulative Accuracy for pot-two-handles-medium: 70.00%\n",
      "Cumulative Accuracy for pot-two-handles-shallow: 94.44%\n",
      "Cumulative Accuracy for pot-two-handles-small: nan%\n",
      "Cumulative Accuracy for saucepan: 83.33%\n",
      "\n",
      "Mean Top 3 Accuracy (Val): 94.89%\n",
      "Mean Top 1 Accuracy (Val): 84.22%\n",
      "Macro-averaged Accuracy (Val): 82.80%\n",
      "Epoch 11 test loss: 24.5625\n",
      "\n",
      "[Test - End Epoch 12] GPU Memory: Allocated=2.30GB, Reserved=3.29GB\n",
      "\n",
      "Epoch 13/120\n",
      "[Train - Start Epoch 13] GPU Memory: Allocated=2.30GB, Reserved=3.29GB\n"
     ]
    },
    {
     "name": "stderr",
     "output_type": "stream",
     "text": [
      "\r  0%|          | 0/127.84375 [00:00<?, ?it/s]\r  1%|          | 1/127.84375 [00:07<16:13,  7.68s/it]\r  2%|▏         | 2/127.84375 [00:15<15:54,  7.59s/it]\r  2%|▏         | 3/127.84375 [00:22<15:47,  7.59s/it]\r  3%|▎         | 4/127.84375 [00:30<15:41,  7.60s/it]\r  4%|▍         | 5/127.84375 [00:38<15:35,  7.62s/it]\r  5%|▍         | 6/127.84375 [00:45<15:27,  7.61s/it]\r  5%|▌         | 7/127.84375 [00:53<15:19,  7.61s/it]\r  6%|▋         | 8/127.84375 [01:00<15:10,  7.60s/it]\r  7%|▋         | 9/127.84375 [01:08<15:08,  7.64s/it]\r  8%|▊         | 10/127.84375 [01:16<14:54,  7.59s/it]\r  9%|▊         | 11/127.84375 [01:23<14:49,  7.61s/it]\r  9%|▉         | 12/127.84375 [01:31<14:37,  7.58s/it]\r 10%|█         | 13/127.84375 [01:38<14:34,  7.62s/it]\r 11%|█         | 14/127.84375 [01:46<14:26,  7.61s/it]\r 12%|█▏        | 15/127.84375 [01:53<14:11,  7.55s/it]\r 13%|█▎        | 16/127.84375 [02:01<14:05,  7.56s/it]\r 13%|█▎        | 17/127.84375 [02:08<13:54,  7.53s/it]\r 14%|█▍        | 18/127.84375 [02:16<13:48,  7.54s/it]\r 15%|█▍        | 19/127.84375 [02:24<13:42,  7.55s/it]\r 16%|█▌        | 20/127.84375 [02:31<13:32,  7.54s/it]\r 16%|█▋        | 21/127.84375 [02:39<13:22,  7.51s/it]\r 17%|█▋        | 22/127.84375 [02:46<13:18,  7.54s/it]\r 18%|█▊        | 23/127.84375 [02:54<13:15,  7.58s/it]\r 19%|█▉        | 24/127.84375 [03:02<13:10,  7.61s/it]\r 20%|█▉        | 25/127.84375 [03:09<13:00,  7.59s/it]\r 20%|██        | 26/127.84375 [03:17<12:57,  7.64s/it]\r 21%|██        | 27/127.84375 [03:24<12:48,  7.63s/it]\r 22%|██▏       | 28/127.84375 [03:32<12:37,  7.59s/it]\r 23%|██▎       | 29/127.84375 [03:39<12:27,  7.56s/it]\r 23%|██▎       | 30/127.84375 [03:47<12:20,  7.57s/it]\r 24%|██▍       | 31/127.84375 [03:54<12:08,  7.53s/it]\r 25%|██▌       | 32/127.84375 [04:02<12:02,  7.54s/it]\r 26%|██▌       | 33/127.84375 [04:10<11:59,  7.59s/it]\r 27%|██▋       | 34/127.84375 [04:17<11:51,  7.58s/it]\r 27%|██▋       | 35/127.84375 [04:25<11:42,  7.57s/it]\r 28%|██▊       | 36/127.84375 [04:32<11:34,  7.56s/it]\r 29%|██▉       | 37/127.84375 [04:40<11:25,  7.54s/it]\r 30%|██▉       | 38/127.84375 [04:47<11:19,  7.56s/it]\r 31%|███       | 39/127.84375 [04:55<11:13,  7.59s/it]\r 31%|███▏      | 40/127.84375 [05:03<11:08,  7.61s/it]\r 32%|███▏      | 41/127.84375 [05:10<11:01,  7.62s/it]\r 33%|███▎      | 42/127.84375 [05:18<10:53,  7.61s/it]\r 34%|███▎      | 43/127.84375 [05:25<10:39,  7.53s/it]\r 34%|███▍      | 44/127.84375 [05:33<10:33,  7.56s/it]\r 35%|███▌      | 45/127.84375 [05:41<10:27,  7.58s/it]\r 36%|███▌      | 46/127.84375 [05:48<10:18,  7.56s/it]\r 37%|███▋      | 47/127.84375 [05:56<10:12,  7.57s/it]\r 38%|███▊      | 48/127.84375 [06:03<10:03,  7.56s/it]\r 38%|███▊      | 49/127.84375 [06:11<09:54,  7.54s/it]\r 39%|███▉      | 50/127.84375 [06:18<09:49,  7.57s/it]\r 40%|███▉      | 51/127.84375 [06:26<09:40,  7.56s/it]\r 41%|████      | 52/127.84375 [06:34<09:36,  7.60s/it]\r 41%|████▏     | 53/127.84375 [06:41<09:23,  7.52s/it]\r 42%|████▏     | 54/127.84375 [06:48<09:15,  7.53s/it]\r 43%|████▎     | 55/127.84375 [06:56<09:10,  7.55s/it]\r 44%|████▍     | 56/127.84375 [07:04<08:59,  7.52s/it]\r 45%|████▍     | 57/127.84375 [07:11<08:58,  7.60s/it]\r 45%|████▌     | 58/127.84375 [07:19<08:54,  7.65s/it]\r 46%|████▌     | 59/127.84375 [07:27<08:45,  7.63s/it]\r 47%|████▋     | 60/127.84375 [07:34<08:37,  7.62s/it]\r 48%|████▊     | 61/127.84375 [07:42<08:26,  7.58s/it]\r 48%|████▊     | 62/127.84375 [07:49<08:13,  7.50s/it]\r 49%|████▉     | 63/127.84375 [07:57<08:07,  7.51s/it]\r 50%|█████     | 64/127.84375 [08:04<08:02,  7.55s/it]\r 51%|█████     | 65/127.84375 [08:12<07:52,  7.52s/it]\r 52%|█████▏    | 66/127.84375 [08:19<07:43,  7.50s/it]\r 52%|█████▏    | 67/127.84375 [08:27<07:36,  7.50s/it]\r 53%|█████▎    | 68/127.84375 [08:34<07:32,  7.55s/it]\r 54%|█████▍    | 69/127.84375 [08:42<07:25,  7.58s/it]\r 55%|█████▍    | 70/127.84375 [08:50<07:22,  7.64s/it]\r 56%|█████▌    | 71/127.84375 [08:57<07:11,  7.59s/it]\r 56%|█████▋    | 72/127.84375 [09:05<07:00,  7.53s/it]\r 57%|█████▋    | 73/127.84375 [09:12<06:54,  7.56s/it]\r 58%|█████▊    | 74/127.84375 [09:20<06:46,  7.54s/it]\r 59%|█████▊    | 75/127.84375 [09:27<06:39,  7.56s/it]\r 59%|█████▉    | 76/127.84375 [09:35<06:35,  7.63s/it]\r 60%|██████    | 77/127.84375 [09:43<06:29,  7.66s/it]\r 61%|██████    | 78/127.84375 [09:50<06:20,  7.63s/it]\r 62%|██████▏   | 79/127.84375 [09:58<06:11,  7.60s/it]\r 63%|██████▎   | 80/127.84375 [10:06<06:03,  7.59s/it]\r 63%|██████▎   | 81/127.84375 [10:13<05:57,  7.63s/it]\r 64%|██████▍   | 82/127.84375 [10:21<05:49,  7.61s/it]\r 65%|██████▍   | 83/127.84375 [10:28<05:39,  7.57s/it]\r 66%|██████▌   | 84/127.84375 [10:36<05:31,  7.55s/it]\r 66%|██████▋   | 85/127.84375 [10:43<05:24,  7.58s/it]\r 67%|██████▋   | 86/127.84375 [10:51<05:15,  7.55s/it]\r 68%|██████▊   | 87/127.84375 [10:59<05:12,  7.64s/it]\r 69%|██████▉   | 88/127.84375 [11:06<05:04,  7.65s/it]\r 70%|██████▉   | 89/127.84375 [11:14<04:57,  7.65s/it]\r 70%|███████   | 90/127.84375 [11:22<04:50,  7.66s/it]\r 71%|███████   | 91/127.84375 [11:30<04:42,  7.68s/it]\r 72%|███████▏  | 92/127.84375 [11:37<04:33,  7.63s/it]\r 73%|███████▎  | 93/127.84375 [11:45<04:25,  7.61s/it]\r 74%|███████▎  | 94/127.84375 [11:52<04:17,  7.61s/it]\r 74%|███████▍  | 95/127.84375 [12:00<04:12,  7.70s/it]\r 75%|███████▌  | 96/127.84375 [12:08<04:03,  7.64s/it]\r 76%|███████▌  | 97/127.84375 [12:15<03:55,  7.62s/it]\r 77%|███████▋  | 98/127.84375 [12:23<03:46,  7.61s/it]\r 77%|███████▋  | 99/127.84375 [12:30<03:38,  7.57s/it]\r 78%|███████▊  | 100/127.84375 [12:38<03:31,  7.59s/it]\r 79%|███████▉  | 101/127.84375 [12:46<03:25,  7.64s/it]\r 80%|███████▉  | 102/127.84375 [12:53<03:16,  7.61s/it]\r 81%|████████  | 103/127.84375 [13:01<03:09,  7.62s/it]\r 81%|████████▏ | 104/127.84375 [13:09<03:02,  7.65s/it]\r 82%|████████▏ | 105/127.84375 [13:16<02:54,  7.63s/it]\r 83%|████████▎ | 106/127.84375 [13:24<02:46,  7.62s/it]\r 84%|████████▎ | 107/127.84375 [13:31<02:38,  7.60s/it]\r 84%|████████▍ | 108/127.84375 [13:39<02:30,  7.58s/it]\r 85%|████████▌ | 109/127.84375 [13:47<02:23,  7.62s/it]\r 86%|████████▌ | 110/127.84375 [13:54<02:16,  7.65s/it]\r 87%|████████▋ | 111/127.84375 [14:02<02:08,  7.64s/it]\r 88%|████████▊ | 112/127.84375 [14:10<02:01,  7.69s/it]\r 88%|████████▊ | 113/127.84375 [14:18<01:55,  7.76s/it]\r 89%|████████▉ | 114/127.84375 [14:25<01:47,  7.75s/it]\r 90%|████████▉ | 115/127.84375 [14:33<01:38,  7.70s/it]\r 91%|█████████ | 116/127.84375 [14:41<01:31,  7.69s/it]\r 92%|█████████▏| 117/127.84375 [14:48<01:23,  7.67s/it]\r 92%|█████████▏| 118/127.84375 [14:56<01:14,  7.61s/it]\r 93%|█████████▎| 119/127.84375 [15:03<01:07,  7.65s/it]\r 94%|█████████▍| 120/127.84375 [15:11<00:59,  7.63s/it]\r 95%|█████████▍| 121/127.84375 [15:19<00:52,  7.61s/it]\r 95%|█████████▌| 122/127.84375 [15:26<00:44,  7.61s/it]\r 96%|█████████▌| 123/127.84375 [15:34<00:36,  7.62s/it]\r 97%|█████████▋| 124/127.84375 [15:41<00:29,  7.61s/it]\r 98%|█████████▊| 125/127.84375 [15:49<00:21,  7.64s/it]\r 99%|█████████▊| 126/127.84375 [15:57<00:14,  7.63s/it]\r 99%|█████████▉| 127/127.84375 [16:04<00:06,  7.63s/it]/databricks/python/lib/python3.11/site-packages/tqdm/std.py:524: TqdmWarning: clamping frac to range [0, 1]\n",
      "  full_bar = Bar(frac,\n",
      "\r100%|██████████| 128/127.84375 [16:12<-1:59:59,  7.58s/it]\r129it [16:19,  7.58s/it]                                  \r130it [16:27,  7.60s/it]\r131it [16:35,  7.60s/it]\r132it [16:42,  7.62s/it]\r133it [16:50,  7.62s/it]\r134it [16:57,  7.60s/it]\r135it [17:05,  7.59s/it]\r136it [17:13,  7.62s/it]\r137it [17:20,  7.58s/it]\r138it [17:28,  7.64s/it]\r139it [17:36,  7.65s/it]\r140it [17:43,  7.62s/it]\r141it [17:51,  7.60s/it]\r142it [17:58,  7.60s/it]\r143it [18:06,  7.61s/it]\r144it [18:14,  7.62s/it]\r145it [18:21,  7.60s/it]\r146it [18:29,  7.58s/it]\r147it [18:36,  7.62s/it]\r148it [18:44,  7.59s/it]\r149it [18:52,  7.62s/it]\r150it [18:59,  7.65s/it]\r151it [19:07,  7.64s/it]\r152it [19:15,  7.69s/it]\r153it [19:23,  7.71s/it]\r154it [19:30,  7.67s/it]\r155it [19:38,  7.67s/it]\r156it [19:45,  7.64s/it]\r157it [19:53,  7.62s/it]\r158it [20:01,  7.62s/it]\r159it [20:08,  7.60s/it]\r160it [20:16,  7.64s/it]\r161it [20:23,  7.62s/it]\r162it [20:31,  7.63s/it]\r163it [20:39,  7.59s/it]\r164it [20:46,  7.63s/it]\r165it [20:54,  7.64s/it]\r166it [21:02,  7.67s/it]\r167it [21:09,  7.70s/it]\r168it [21:17,  7.60s/it]\r169it [21:24,  7.56s/it]\r170it [21:32,  7.58s/it]\r171it [21:40,  7.60s/it]\r172it [21:47,  7.60s/it]\r173it [21:55,  7.62s/it]\r174it [22:03,  7.68s/it]\r175it [22:10,  7.67s/it]\r176it [22:18,  7.68s/it]\r177it [22:26,  7.70s/it]\r178it [22:33,  7.70s/it]\r179it [22:41,  7.65s/it]\r180it [22:49,  7.63s/it]\r181it [22:56,  7.64s/it]\r182it [23:04,  7.60s/it]\r183it [23:12,  7.66s/it]\r184it [23:19,  7.64s/it]\r185it [23:27,  7.67s/it]\r186it [23:34,  7.62s/it]\r187it [23:42,  7.68s/it]\r188it [23:50,  7.63s/it]\r189it [23:58,  7.67s/it]\r190it [24:05,  7.64s/it]\r191it [24:13,  7.61s/it]\r192it [24:20,  7.67s/it]\r193it [24:28,  7.67s/it]\r194it [24:36,  7.62s/it]\r195it [24:43,  7.62s/it]\r196it [24:51,  7.59s/it]\r197it [24:58,  7.59s/it]\r198it [25:06,  7.58s/it]\r199it [25:13,  7.58s/it]\r200it [25:21,  7.58s/it]\r201it [25:29,  7.58s/it]\r202it [25:36,  7.55s/it]\r203it [25:44,  7.63s/it]\r204it [25:52,  7.62s/it]\r205it [25:59,  7.62s/it]\r206it [26:07,  7.59s/it]\r207it [26:14,  7.60s/it]\r208it [26:22,  7.56s/it]\r209it [26:29,  7.59s/it]\r210it [26:37,  7.62s/it]\r211it [26:45,  7.67s/it]\r212it [26:52,  7.62s/it]\r213it [27:00,  7.65s/it]\r214it [27:08,  7.63s/it]\r215it [27:15,  7.61s/it]\r216it [27:23,  7.59s/it]\r217it [27:30,  7.59s/it]\r218it [27:38,  7.56s/it]\r219it [27:46,  7.59s/it]\r220it [27:53,  7.59s/it]\r221it [28:01,  7.53s/it]\r222it [28:08,  7.52s/it]\r223it [28:16,  7.61s/it]\r224it [28:23,  7.53s/it]\r225it [28:31,  7.57s/it]\r226it [28:38,  7.57s/it]\r227it [28:46,  7.50s/it]\r228it [28:53,  7.47s/it]\r229it [29:01,  7.49s/it]\r230it [29:08,  7.48s/it]\r231it [29:16,  7.49s/it]\r232it [29:23,  7.54s/it]\r233it [29:31,  7.51s/it]\r234it [29:39,  7.59s/it]\r235it [29:46,  7.62s/it]\r236it [29:54,  7.59s/it]\r237it [30:01,  7.61s/it]\r238it [30:09,  7.58s/it]\r239it [30:16,  7.57s/it]\r240it [30:24,  7.55s/it]\r240it [30:24,  7.60s/it]\n"
     ]
    },
    {
     "name": "stdout",
     "output_type": "stream",
     "text": [
      "Epoch 12 train loss: 0.0438232421875\n",
      "[Train - End / Test - Start Epoch 13] GPU Memory: Allocated=2.30GB, Reserved=3.29GB\n"
     ]
    },
    {
     "name": "stderr",
     "output_type": "stream",
     "text": [
      "\r  0%|          | 0/14.1875 [00:00<?, ?it/s]\r  7%|▋         | 1/14.1875 [00:06<01:25,  6.48s/it]\r 14%|█▍        | 2/14.1875 [00:13<01:20,  6.62s/it]\r 21%|██        | 3/14.1875 [00:19<01:14,  6.66s/it]\r 28%|██▊       | 4/14.1875 [00:26<01:08,  6.70s/it]\r 35%|███▌      | 5/14.1875 [00:33<01:01,  6.68s/it]\r 42%|████▏     | 6/14.1875 [00:40<00:54,  6.69s/it]\r 49%|████▉     | 7/14.1875 [00:46<00:47,  6.66s/it]\r 56%|█████▋    | 8/14.1875 [00:53<00:41,  6.70s/it]\r 63%|██████▎   | 9/14.1875 [01:00<00:34,  6.71s/it]\r 70%|███████   | 10/14.1875 [01:06<00:28,  6.72s/it]\r 78%|███████▊  | 11/14.1875 [01:13<00:21,  6.73s/it]\r 85%|████████▍ | 12/14.1875 [01:20<00:14,  6.70s/it]\r 92%|█████████▏| 13/14.1875 [01:26<00:07,  6.68s/it]\r 99%|█████████▊| 14/14.1875 [01:33<00:01,  6.71s/it]\r15it [01:40,  6.71s/it]                             \r16it [01:47,  6.72s/it]\r17it [01:53,  6.69s/it]\r18it [02:00,  6.75s/it]\r19it [02:07,  6.73s/it]\r20it [02:13,  6.66s/it]\r21it [02:20,  6.67s/it]\r22it [02:27,  6.69s/it]\r23it [02:34,  6.71s/it]\r24it [02:40,  6.68s/it]\r25it [02:47,  6.69s/it]\r26it [02:53,  6.66s/it]\r27it [03:00,  6.65s/it]\r28it [03:07,  6.62s/it]\r29it [03:13,  6.64s/it]\r30it [03:20,  6.63s/it]\r30it [03:20,  6.68s/it]\n"
     ]
    },
    {
     "name": "stdout",
     "output_type": "stream",
     "text": [
      "Cumulative Accuracy for CP: 69.74%\n",
      "Cumulative Accuracy for chopping-board: 90.00%\n",
      "Cumulative Accuracy for finalstep: 91.54%\n",
      "Cumulative Accuracy for glass-bowl-large: 74.62%\n",
      "Cumulative Accuracy for glass-bowl-medium: 67.69%\n",
      "Cumulative Accuracy for glass-bowl-small: 43.59%\n",
      "Cumulative Accuracy for grill-plate: nan%\n",
      "Cumulative Accuracy for group_step: 76.67%\n",
      "Cumulative Accuracy for medium: 91.03%\n",
      "Cumulative Accuracy for oven-dish: 94.87%\n",
      "Cumulative Accuracy for oven-tray: 95.38%\n",
      "Cumulative Accuracy for pan: 100.00%\n",
      "Cumulative Accuracy for pot-one-handle: 98.21%\n",
      "Cumulative Accuracy for pot-two-handles-medium: 71.28%\n",
      "Cumulative Accuracy for pot-two-handles-shallow: 94.87%\n",
      "Cumulative Accuracy for pot-two-handles-small: nan%\n",
      "Cumulative Accuracy for saucepan: 84.62%\n",
      "\n",
      "Mean Top 3 Accuracy (Val): 93.11%\n",
      "Mean Top 1 Accuracy (Val): 84.67%\n",
      "Macro-averaged Accuracy (Val): 82.94%\n",
      "Epoch 12 test loss: 26.859375\n",
      "\n",
      "[Test - End Epoch 13] GPU Memory: Allocated=2.30GB, Reserved=3.29GB\n",
      "\n",
      "Epoch 14/120\n",
      "[Train - Start Epoch 14] GPU Memory: Allocated=2.30GB, Reserved=3.29GB\n"
     ]
    },
    {
     "name": "stderr",
     "output_type": "stream",
     "text": [
      "\r  0%|          | 0/127.84375 [00:00<?, ?it/s]\r  1%|          | 1/127.84375 [00:07<16:29,  7.80s/it]\r  2%|▏         | 2/127.84375 [00:15<16:06,  7.68s/it]\r  2%|▏         | 3/127.84375 [00:22<15:46,  7.58s/it]\r  3%|▎         | 4/127.84375 [00:30<15:40,  7.60s/it]\r  4%|▍         | 5/127.84375 [00:38<15:35,  7.61s/it]\r  5%|▍         | 6/127.84375 [00:45<15:28,  7.62s/it]\r  5%|▌         | 7/127.84375 [00:53<15:21,  7.62s/it]\r  6%|▋         | 8/127.84375 [01:00<15:12,  7.62s/it]\r  7%|▋         | 9/127.84375 [01:08<15:06,  7.63s/it]\r  8%|▊         | 10/127.84375 [01:16<15:01,  7.65s/it]\r  9%|▊         | 11/127.84375 [01:24<14:54,  7.66s/it]\r  9%|▉         | 12/127.84375 [01:31<14:42,  7.61s/it]\r 10%|█         | 13/127.84375 [01:39<14:37,  7.64s/it]\r 11%|█         | 14/127.84375 [01:46<14:33,  7.67s/it]\r 12%|█▏        | 15/127.84375 [01:54<14:22,  7.65s/it]\r 13%|█▎        | 16/127.84375 [02:02<14:14,  7.64s/it]\r 13%|█▎        | 17/127.84375 [02:09<14:09,  7.66s/it]\r 14%|█▍        | 18/127.84375 [02:17<13:59,  7.65s/it]\r 15%|█▍        | 19/127.84375 [02:25<13:49,  7.62s/it]\r 16%|█▌        | 20/127.84375 [02:32<13:42,  7.62s/it]\r 16%|█▋        | 21/127.84375 [02:40<13:35,  7.63s/it]\r 17%|█▋        | 22/127.84375 [02:47<13:27,  7.63s/it]\r 18%|█▊        | 23/127.84375 [02:55<13:14,  7.58s/it]\r 19%|█▉        | 24/127.84375 [03:03<13:09,  7.60s/it]\r 20%|█▉        | 25/127.84375 [03:10<13:09,  7.67s/it]\r 20%|██        | 26/127.84375 [03:18<12:51,  7.57s/it]\r 21%|██        | 27/127.84375 [03:25<12:42,  7.56s/it]\r 22%|██▏       | 28/127.84375 [03:33<12:42,  7.63s/it]\r 23%|██▎       | 29/127.84375 [03:41<12:37,  7.66s/it]\r 23%|██▎       | 30/127.84375 [03:48<12:28,  7.65s/it]\r 24%|██▍       | 31/127.84375 [03:56<12:21,  7.65s/it]\r 25%|██▌       | 32/127.84375 [04:04<12:11,  7.63s/it]\r 26%|██▌       | 33/127.84375 [04:11<12:00,  7.60s/it]\r 27%|██▋       | 34/127.84375 [04:19<11:54,  7.61s/it]\r 27%|██▋       | 35/127.84375 [04:27<11:51,  7.66s/it]\r 28%|██▊       | 36/127.84375 [04:34<11:37,  7.59s/it]\r 29%|██▉       | 37/127.84375 [04:42<11:31,  7.62s/it]\r 30%|██▉       | 38/127.84375 [04:49<11:27,  7.65s/it]\r 31%|███       | 39/127.84375 [04:57<11:14,  7.60s/it]\r 31%|███▏      | 40/127.84375 [05:04<11:04,  7.57s/it]\r 32%|███▏      | 41/127.84375 [05:12<10:56,  7.56s/it]\r 33%|███▎      | 42/127.84375 [05:20<10:49,  7.56s/it]\r 34%|███▎      | 43/127.84375 [05:27<10:41,  7.56s/it]\r 34%|███▍      | 44/127.84375 [05:35<10:33,  7.56s/it]\r 35%|███▌      | 45/127.84375 [05:42<10:28,  7.58s/it]\r 36%|███▌      | 46/127.84375 [05:50<10:19,  7.57s/it]\r 37%|███▋      | 47/127.84375 [05:58<10:15,  7.61s/it]\r 38%|███▊      | 48/127.84375 [06:05<10:08,  7.62s/it]\r 38%|███▊      | 49/127.84375 [06:13<09:55,  7.55s/it]\r 39%|███▉      | 50/127.84375 [06:20<09:45,  7.53s/it]\r 40%|███▉      | 51/127.84375 [06:28<09:41,  7.57s/it]\r 41%|████      | 52/127.84375 [06:35<09:36,  7.60s/it]\r 41%|████▏     | 53/127.84375 [06:43<09:26,  7.57s/it]\r 42%|████▏     | 54/127.84375 [06:51<09:20,  7.59s/it]\r 43%|████▎     | 55/127.84375 [06:58<09:09,  7.54s/it]\r 44%|████▍     | 56/127.84375 [07:05<08:59,  7.51s/it]\r 45%|████▍     | 57/127.84375 [07:13<08:50,  7.49s/it]\r 45%|████▌     | 58/127.84375 [07:21<08:46,  7.54s/it]\r 46%|████▌     | 59/127.84375 [07:28<08:40,  7.57s/it]\r 47%|████▋     | 60/127.84375 [07:36<08:32,  7.55s/it]\r 48%|████▊     | 61/127.84375 [07:43<08:25,  7.57s/it]\r 48%|████▊     | 62/127.84375 [07:51<08:14,  7.52s/it]\r 49%|████▉     | 63/127.84375 [07:58<08:08,  7.54s/it]\r 50%|█████     | 64/127.84375 [08:06<08:00,  7.52s/it]\r 51%|█████     | 65/127.84375 [08:13<07:53,  7.54s/it]\r 52%|█████▏    | 66/127.84375 [08:21<07:48,  7.58s/it]\r 52%|█████▏    | 67/127.84375 [08:29<07:40,  7.57s/it]\r 53%|█████▎    | 68/127.84375 [08:36<07:38,  7.66s/it]\r 54%|█████▍    | 69/127.84375 [08:44<07:29,  7.63s/it]\r 55%|█████▍    | 70/127.84375 [08:52<07:21,  7.64s/it]\r 56%|█████▌    | 71/127.84375 [08:59<07:14,  7.65s/it]\r 56%|█████▋    | 72/127.84375 [09:07<07:08,  7.67s/it]\r 57%|█████▋    | 73/127.84375 [09:14<06:57,  7.62s/it]\r 58%|█████▊    | 74/127.84375 [09:22<06:50,  7.63s/it]\r 59%|█████▊    | 75/127.84375 [09:30<06:44,  7.66s/it]\r 59%|█████▉    | 76/127.84375 [09:37<06:36,  7.64s/it]\r 60%|██████    | 77/127.84375 [09:45<06:27,  7.63s/it]\r 61%|██████    | 78/127.84375 [09:53<06:19,  7.62s/it]\r 62%|██████▏   | 79/127.84375 [10:00<06:10,  7.58s/it]\r 63%|██████▎   | 80/127.84375 [10:08<06:03,  7.61s/it]\r 63%|██████▎   | 81/127.84375 [10:15<05:54,  7.57s/it]\r 64%|██████▍   | 82/127.84375 [10:23<05:46,  7.57s/it]\r 65%|██████▍   | 83/127.84375 [10:31<05:42,  7.63s/it]\r 66%|██████▌   | 84/127.84375 [10:38<05:30,  7.55s/it]\r 66%|██████▋   | 85/127.84375 [10:46<05:22,  7.53s/it]\r 67%|██████▋   | 86/127.84375 [10:53<05:18,  7.61s/it]\r 68%|██████▊   | 87/127.84375 [11:01<05:11,  7.62s/it]\r 69%|██████▉   | 88/127.84375 [11:08<05:02,  7.59s/it]\r 70%|██████▉   | 89/127.84375 [11:16<04:54,  7.58s/it]\r 70%|███████   | 90/127.84375 [11:24<04:47,  7.60s/it]\r 71%|███████   | 91/127.84375 [11:31<04:39,  7.57s/it]\r 72%|███████▏  | 92/127.84375 [11:39<04:33,  7.62s/it]\r 73%|███████▎  | 93/127.84375 [11:47<04:25,  7.63s/it]\r 74%|███████▎  | 94/127.84375 [11:54<04:17,  7.62s/it]\r 74%|███████▍  | 95/127.84375 [12:02<04:11,  7.65s/it]\r 75%|███████▌  | 96/127.84375 [12:09<04:02,  7.63s/it]\r 76%|███████▌  | 97/127.84375 [12:17<03:54,  7.61s/it]\r 77%|███████▋  | 98/127.84375 [12:25<03:48,  7.67s/it]\r 77%|███████▋  | 99/127.84375 [12:32<03:41,  7.66s/it]\r 78%|███████▊  | 100/127.84375 [12:40<03:33,  7.65s/it]\r 79%|███████▉  | 101/127.84375 [12:48<03:25,  7.65s/it]\r 80%|███████▉  | 102/127.84375 [12:55<03:17,  7.66s/it]\r 81%|████████  | 103/127.84375 [13:03<03:10,  7.67s/it]\r 81%|████████▏ | 104/127.84375 [13:11<03:01,  7.63s/it]\r 82%|████████▏ | 105/127.84375 [13:18<02:54,  7.64s/it]\r 83%|████████▎ | 106/127.84375 [13:26<02:46,  7.61s/it]\r 84%|████████▎ | 107/127.84375 [13:33<02:38,  7.58s/it]\r 84%|████████▍ | 108/127.84375 [13:41<02:30,  7.60s/it]\r 85%|████████▌ | 109/127.84375 [13:49<02:23,  7.63s/it]\r 86%|████████▌ | 110/127.84375 [13:56<02:16,  7.64s/it]\r 87%|████████▋ | 111/127.84375 [14:04<02:09,  7.67s/it]\r 88%|████████▊ | 112/127.84375 [14:12<02:01,  7.65s/it]\r 88%|████████▊ | 113/127.84375 [14:19<01:52,  7.59s/it]\r 89%|████████▉ | 114/127.84375 [14:27<01:45,  7.59s/it]\r 90%|████████▉ | 115/127.84375 [14:35<01:38,  7.67s/it]\r 91%|█████████ | 116/127.84375 [14:42<01:30,  7.66s/it]\r 92%|█████████▏| 117/127.84375 [14:50<01:22,  7.64s/it]\r 92%|█████████▏| 118/127.84375 [14:58<01:15,  7.65s/it]\r 93%|█████████▎| 119/127.84375 [15:05<01:07,  7.63s/it]\r 94%|█████████▍| 120/127.84375 [15:13<00:59,  7.61s/it]\r 95%|█████████▍| 121/127.84375 [15:20<00:52,  7.62s/it]\r 95%|█████████▌| 122/127.84375 [15:28<00:44,  7.68s/it]\r 96%|█████████▌| 123/127.84375 [15:36<00:37,  7.68s/it]\r 97%|█████████▋| 124/127.84375 [15:43<00:29,  7.69s/it]\r 98%|█████████▊| 125/127.84375 [15:51<00:21,  7.60s/it]\r 99%|█████████▊| 126/127.84375 [15:58<00:14,  7.60s/it]\r 99%|█████████▉| 127/127.84375 [16:06<00:06,  7.57s/it]/databricks/python/lib/python3.11/site-packages/tqdm/std.py:524: TqdmWarning: clamping frac to range [0, 1]\n",
      "  full_bar = Bar(frac,\n",
      "\r100%|██████████| 128/127.84375 [16:14<-1:59:59,  7.56s/it]\r129it [16:21,  7.56s/it]                                  \r130it [16:29,  7.57s/it]\r131it [16:36,  7.56s/it]\r132it [16:44,  7.54s/it]\r133it [16:51,  7.57s/it]\r134it [16:59,  7.60s/it]\r135it [17:07,  7.63s/it]\r136it [17:14,  7.67s/it]\r137it [17:22,  7.62s/it]\r138it [17:30,  7.64s/it]\r139it [17:37,  7.68s/it]\r140it [17:45,  7.64s/it]\r141it [17:53,  7.61s/it]\r142it [18:00,  7.60s/it]\r143it [18:08,  7.59s/it]\r144it [18:15,  7.64s/it]\r145it [18:23,  7.67s/it]\r146it [18:31,  7.64s/it]\r147it [18:38,  7.65s/it]\r148it [18:46,  7.64s/it]\r149it [18:53,  7.56s/it]\r150it [19:01,  7.56s/it]\r151it [19:08,  7.54s/it]\r152it [19:16,  7.54s/it]\r153it [19:24,  7.56s/it]\r154it [19:31,  7.60s/it]\r155it [19:39,  7.62s/it]\r156it [19:46,  7.58s/it]\r157it [19:54,  7.60s/it]\r158it [20:02,  7.60s/it]\r159it [20:09,  7.59s/it]\r160it [20:17,  7.59s/it]\r161it [20:24,  7.58s/it]\r162it [20:32,  7.52s/it]\r163it [20:39,  7.54s/it]\r164it [20:47,  7.63s/it]\r165it [20:55,  7.55s/it]\r166it [21:02,  7.56s/it]\r167it [21:10,  7.62s/it]\r168it [21:17,  7.59s/it]\r169it [21:25,  7.61s/it]\r170it [21:33,  7.58s/it]\r171it [21:40,  7.58s/it]\r172it [21:48,  7.63s/it]\r173it [21:55,  7.59s/it]\r174it [22:03,  7.54s/it]\r175it [22:11,  7.58s/it]\r176it [22:18,  7.59s/it]\r177it [22:26,  7.60s/it]\r178it [22:33,  7.60s/it]\r179it [22:41,  7.57s/it]\r180it [22:48,  7.56s/it]\r181it [22:56,  7.51s/it]\r182it [23:04,  7.58s/it]\r183it [23:11,  7.63s/it]\r184it [23:19,  7.67s/it]\r185it [23:27,  7.75s/it]\r186it [23:35,  7.71s/it]\r187it [23:42,  7.58s/it]\r188it [23:50,  7.63s/it]\r189it [23:57,  7.64s/it]\r190it [24:05,  7.69s/it]\r191it [24:13,  7.72s/it]\r192it [24:21,  7.69s/it]\r193it [24:28,  7.65s/it]\r194it [24:36,  7.66s/it]\r195it [24:43,  7.66s/it]\r196it [24:51,  7.67s/it]\r197it [24:59,  7.65s/it]\r198it [25:06,  7.57s/it]\r199it [25:14,  7.54s/it]\r200it [25:21,  7.53s/it]\r201it [25:29,  7.52s/it]\r202it [25:36,  7.46s/it]\r203it [25:44,  7.55s/it]\r204it [25:51,  7.52s/it]\r205it [25:59,  7.60s/it]\r206it [26:07,  7.61s/it]\r207it [26:14,  7.62s/it]\r208it [26:22,  7.63s/it]\r209it [26:29,  7.63s/it]\r210it [26:37,  7.62s/it]\r211it [26:45,  7.58s/it]\r212it [26:52,  7.60s/it]\r213it [27:00,  7.61s/it]\r214it [27:07,  7.59s/it]\r215it [27:15,  7.56s/it]\r216it [27:22,  7.53s/it]\r217it [27:30,  7.53s/it]\r218it [27:37,  7.54s/it]\r219it [27:45,  7.62s/it]\r220it [27:53,  7.60s/it]\r221it [28:00,  7.61s/it]\r222it [28:08,  7.62s/it]\r223it [28:16,  7.61s/it]\r224it [28:23,  7.61s/it]\r225it [28:31,  7.59s/it]\r226it [28:39,  7.65s/it]\r227it [28:46,  7.64s/it]\r228it [28:54,  7.55s/it]\r229it [29:01,  7.55s/it]\r230it [29:09,  7.57s/it]\r231it [29:16,  7.54s/it]\r232it [29:24,  7.63s/it]\r233it [29:32,  7.63s/it]\r234it [29:39,  7.64s/it]\r235it [29:47,  7.64s/it]\r236it [29:55,  7.63s/it]\r237it [30:02,  7.68s/it]\r238it [30:10,  7.67s/it]\r239it [30:18,  7.65s/it]\r240it [30:25,  7.60s/it]\r240it [30:25,  7.61s/it]\n"
     ]
    },
    {
     "name": "stdout",
     "output_type": "stream",
     "text": [
      "Epoch 13 train loss: 0.01467132568359375\n",
      "[Train - End / Test - Start Epoch 14] GPU Memory: Allocated=2.30GB, Reserved=3.29GB\n"
     ]
    },
    {
     "name": "stderr",
     "output_type": "stream",
     "text": [
      "\r  0%|          | 0/14.1875 [00:00<?, ?it/s]\r  7%|▋         | 1/14.1875 [00:06<01:27,  6.63s/it]\r 14%|█▍        | 2/14.1875 [00:13<01:20,  6.64s/it]\r 21%|██        | 3/14.1875 [00:19<01:14,  6.64s/it]\r 28%|██▊       | 4/14.1875 [00:26<01:07,  6.63s/it]\r 35%|███▌      | 5/14.1875 [00:33<01:01,  6.65s/it]\r 42%|████▏     | 6/14.1875 [00:39<00:54,  6.66s/it]\r 49%|████▉     | 7/14.1875 [00:46<00:48,  6.70s/it]\r 56%|█████▋    | 8/14.1875 [00:53<00:41,  6.69s/it]\r 63%|██████▎   | 9/14.1875 [00:59<00:34,  6.64s/it]\r 70%|███████   | 10/14.1875 [01:06<00:27,  6.60s/it]\r 78%|███████▊  | 11/14.1875 [01:13<00:21,  6.62s/it]\r 85%|████████▍ | 12/14.1875 [01:19<00:14,  6.63s/it]\r 92%|█████████▏| 13/14.1875 [01:26<00:07,  6.61s/it]\r 99%|█████████▊| 14/14.1875 [01:33<00:01,  6.67s/it]\r15it [01:39,  6.70s/it]                             \r16it [01:46,  6.67s/it]\r17it [01:53,  6.64s/it]\r18it [01:59,  6.67s/it]\r19it [02:06,  6.63s/it]\r20it [02:12,  6.61s/it]\r21it [02:19,  6.68s/it]\r22it [02:26,  6.62s/it]\r23it [02:32,  6.57s/it]\r24it [02:39,  6.57s/it]\r25it [02:45,  6.59s/it]\r26it [02:52,  6.56s/it]\r27it [02:59,  6.61s/it]\r28it [03:05,  6.66s/it]\r29it [03:12,  6.67s/it]\r30it [03:19,  6.70s/it]\r30it [03:19,  6.64s/it]\n"
     ]
    },
    {
     "name": "stdout",
     "output_type": "stream",
     "text": [
      "Cumulative Accuracy for CP: 70.00%\n",
      "Cumulative Accuracy for chopping-board: 89.52%\n",
      "Cumulative Accuracy for finalstep: 91.67%\n",
      "Cumulative Accuracy for glass-bowl-large: 71.90%\n",
      "Cumulative Accuracy for glass-bowl-medium: 68.81%\n",
      "Cumulative Accuracy for glass-bowl-small: 42.86%\n",
      "Cumulative Accuracy for grill-plate: nan%\n",
      "Cumulative Accuracy for group_step: 76.43%\n",
      "Cumulative Accuracy for medium: 91.19%\n",
      "Cumulative Accuracy for oven-dish: 95.24%\n",
      "Cumulative Accuracy for oven-tray: 95.48%\n",
      "Cumulative Accuracy for pan: 100.00%\n",
      "Cumulative Accuracy for pot-one-handle: 98.33%\n",
      "Cumulative Accuracy for pot-two-handles-medium: 72.14%\n",
      "Cumulative Accuracy for pot-two-handles-shallow: 94.05%\n",
      "Cumulative Accuracy for pot-two-handles-small: nan%\n",
      "Cumulative Accuracy for saucepan: 85.71%\n",
      "\n",
      "Mean Top 3 Accuracy (Val): 90.44%\n",
      "Mean Top 1 Accuracy (Val): 82.22%\n",
      "Macro-averaged Accuracy (Val): 82.89%\n",
      "Epoch 13 test loss: 30.734375\n",
      "\n",
      "[Test - End Epoch 14] GPU Memory: Allocated=2.30GB, Reserved=3.29GB\n",
      "\n",
      "Epoch 15/120\n",
      "[Train - Start Epoch 15] GPU Memory: Allocated=2.30GB, Reserved=3.29GB\n"
     ]
    },
    {
     "name": "stderr",
     "output_type": "stream",
     "text": [
      "\r  0%|          | 0/127.84375 [00:00<?, ?it/s]\r  1%|          | 1/127.84375 [00:07<15:54,  7.52s/it]\r  2%|▏         | 2/127.84375 [00:15<15:55,  7.59s/it]\r  2%|▏         | 3/127.84375 [00:22<15:38,  7.52s/it]\r  3%|▎         | 4/127.84375 [00:30<15:40,  7.59s/it]\r  4%|▍         | 5/127.84375 [00:37<15:27,  7.55s/it]\r  5%|▍         | 6/127.84375 [00:45<15:21,  7.57s/it]\r  5%|▌         | 7/127.84375 [00:52<15:13,  7.56s/it]\r  6%|▋         | 8/127.84375 [01:00<15:08,  7.58s/it]\r  7%|▋         | 9/127.84375 [01:08<15:00,  7.58s/it]\r  8%|▊         | 10/127.84375 [01:15<14:53,  7.58s/it]\r  9%|▊         | 11/127.84375 [01:23<14:53,  7.65s/it]\r  9%|▉         | 12/127.84375 [01:31<14:44,  7.63s/it]\r 10%|█         | 13/127.84375 [01:39<14:48,  7.73s/it]\r 11%|█         | 14/127.84375 [01:46<14:40,  7.74s/it]\r 12%|█▏        | 15/127.84375 [01:54<14:39,  7.79s/it]\r 13%|█▎        | 16/127.84375 [02:02<14:29,  7.77s/it]\r 13%|█▎        | 17/127.84375 [02:10<14:15,  7.72s/it]\r 14%|█▍        | 18/127.84375 [02:17<14:02,  7.67s/it]\r 15%|█▍        | 19/127.84375 [02:25<13:55,  7.68s/it]\r 16%|█▌        | 20/127.84375 [02:32<13:44,  7.65s/it]\r 16%|█▋        | 21/127.84375 [02:40<13:34,  7.63s/it]\r 17%|█▋        | 22/127.84375 [02:48<13:30,  7.65s/it]\r 18%|█▊        | 23/127.84375 [02:55<13:19,  7.62s/it]\r 19%|█▉        | 24/127.84375 [03:03<13:13,  7.64s/it]\r 20%|█▉        | 25/127.84375 [03:10<13:01,  7.60s/it]\r 20%|██        | 26/127.84375 [03:18<12:58,  7.64s/it]\r 21%|██        | 27/127.84375 [03:26<12:43,  7.57s/it]\r 22%|██▏       | 28/127.84375 [03:33<12:37,  7.59s/it]\r 23%|██▎       | 29/127.84375 [03:41<12:35,  7.65s/it]\r 23%|██▎       | 30/127.84375 [03:49<12:26,  7.63s/it]\r 24%|██▍       | 31/127.84375 [03:56<12:15,  7.60s/it]\r 25%|██▌       | 32/127.84375 [04:04<12:04,  7.56s/it]\r 26%|██▌       | 33/127.84375 [04:11<11:58,  7.57s/it]\r 27%|██▋       | 34/127.84375 [04:19<11:55,  7.62s/it]\r 27%|██▋       | 35/127.84375 [04:26<11:43,  7.58s/it]\r 28%|██▊       | 36/127.84375 [04:34<11:35,  7.58s/it]\r 29%|██▉       | 37/127.84375 [04:42<11:28,  7.58s/it]\r 30%|██▉       | 38/127.84375 [04:49<11:27,  7.65s/it]\r 31%|███       | 39/127.84375 [04:57<11:13,  7.58s/it]\r 31%|███▏      | 40/127.84375 [05:04<11:08,  7.61s/it]\r 32%|███▏      | 41/127.84375 [05:12<11:02,  7.63s/it]\r 33%|███▎      | 42/127.84375 [05:20<10:51,  7.59s/it]\r 34%|███▎      | 43/127.84375 [05:27<10:41,  7.56s/it]\r 34%|███▍      | 44/127.84375 [05:34<10:27,  7.48s/it]\r 35%|███▌      | 45/127.84375 [05:42<10:19,  7.48s/it]\r 36%|███▌      | 46/127.84375 [05:50<10:19,  7.57s/it]\r 37%|███▋      | 47/127.84375 [05:57<10:14,  7.60s/it]\r 38%|███▊      | 48/127.84375 [06:05<10:06,  7.60s/it]\r 38%|███▊      | 49/127.84375 [06:13<09:59,  7.60s/it]\r 39%|███▉      | 50/127.84375 [06:20<09:48,  7.56s/it]\r 40%|███▉      | 51/127.84375 [06:28<09:42,  7.58s/it]\r 41%|████      | 52/127.84375 [06:35<09:34,  7.57s/it]\r 41%|████▏     | 53/127.84375 [06:43<09:28,  7.59s/it]\r 42%|████▏     | 54/127.84375 [06:50<09:21,  7.60s/it]\r 43%|████▎     | 55/127.84375 [06:58<09:14,  7.61s/it]\r 44%|████▍     | 56/127.84375 [07:06<09:08,  7.64s/it]\r 45%|████▍     | 57/127.84375 [07:13<08:58,  7.61s/it]\r 45%|████▌     | 58/127.84375 [07:21<08:48,  7.56s/it]\r 46%|████▌     | 59/127.84375 [07:28<08:40,  7.56s/it]\r 47%|████▋     | 60/127.84375 [07:36<08:34,  7.59s/it]\r 48%|████▊     | 61/127.84375 [07:44<08:29,  7.62s/it]\r 48%|████▊     | 62/127.84375 [07:51<08:20,  7.60s/it]\r 49%|████▉     | 63/127.84375 [07:59<08:18,  7.69s/it]\r 50%|█████     | 64/127.84375 [08:07<08:09,  7.66s/it]\r 51%|█████     | 65/127.84375 [08:14<07:59,  7.63s/it]\r 52%|█████▏    | 66/127.84375 [08:22<07:51,  7.62s/it]\r 52%|█████▏    | 67/127.84375 [08:29<07:40,  7.56s/it]\r 53%|█████▎    | 68/127.84375 [08:37<07:32,  7.56s/it]\r 54%|█████▍    | 69/127.84375 [08:44<07:26,  7.58s/it]\r 55%|█████▍    | 70/127.84375 [08:52<07:18,  7.58s/it]\r 56%|█████▌    | 71/127.84375 [09:00<07:12,  7.60s/it]\r 56%|█████▋    | 72/127.84375 [09:07<07:02,  7.57s/it]\r 57%|█████▋    | 73/127.84375 [09:15<06:56,  7.59s/it]\r 58%|█████▊    | 74/127.84375 [09:23<06:51,  7.64s/it]\r 59%|█████▊    | 75/127.84375 [09:30<06:41,  7.61s/it]\r 59%|█████▉    | 76/127.84375 [09:38<06:33,  7.59s/it]\r 60%|██████    | 77/127.84375 [09:45<06:25,  7.59s/it]\r 61%|██████    | 78/127.84375 [09:53<06:18,  7.59s/it]\r 62%|██████▏   | 79/127.84375 [10:00<06:09,  7.56s/it]\r 63%|██████▎   | 80/127.84375 [10:08<06:01,  7.56s/it]\r 63%|██████▎   | 81/127.84375 [10:15<05:51,  7.51s/it]\r 64%|██████▍   | 82/127.84375 [10:23<05:45,  7.53s/it]\r 65%|██████▍   | 83/127.84375 [10:31<05:40,  7.59s/it]\r 66%|██████▌   | 84/127.84375 [10:38<05:32,  7.59s/it]\r 66%|██████▋   | 85/127.84375 [10:46<05:25,  7.59s/it]\r 67%|██████▋   | 86/127.84375 [10:53<05:17,  7.58s/it]\r 68%|██████▊   | 87/127.84375 [11:01<05:07,  7.54s/it]\r 69%|██████▉   | 88/127.84375 [11:08<04:59,  7.53s/it]\r 70%|██████▉   | 89/127.84375 [11:16<04:52,  7.52s/it]\r 70%|███████   | 90/127.84375 [11:23<04:44,  7.52s/it]\r 71%|███████   | 91/127.84375 [11:31<04:38,  7.56s/it]\r 72%|███████▏  | 92/127.84375 [11:38<04:29,  7.51s/it]\r 73%|███████▎  | 93/127.84375 [11:46<04:21,  7.50s/it]\r 74%|███████▎  | 94/127.84375 [11:53<04:13,  7.49s/it]\r 74%|███████▍  | 95/127.84375 [12:01<04:07,  7.54s/it]\r 75%|███████▌  | 96/127.84375 [12:09<04:01,  7.57s/it]\r 76%|███████▌  | 97/127.84375 [12:16<03:53,  7.56s/it]\r 77%|███████▋  | 98/127.84375 [12:24<03:45,  7.55s/it]\r 77%|███████▋  | 99/127.84375 [12:31<03:38,  7.56s/it]\r 78%|███████▊  | 100/127.84375 [12:39<03:29,  7.54s/it]\r 79%|███████▉  | 101/127.84375 [12:46<03:21,  7.49s/it]\r 80%|███████▉  | 102/127.84375 [12:54<03:14,  7.54s/it]\r 81%|████████  | 103/127.84375 [13:01<03:07,  7.55s/it]\r 81%|████████▏ | 104/127.84375 [13:09<02:59,  7.53s/it]\r 82%|████████▏ | 105/127.84375 [13:16<02:52,  7.55s/it]\r 83%|████████▎ | 106/127.84375 [13:24<02:44,  7.52s/it]\r 84%|████████▎ | 107/127.84375 [13:31<02:37,  7.55s/it]\r 84%|████████▍ | 108/127.84375 [13:39<02:30,  7.59s/it]\r 85%|████████▌ | 109/127.84375 [13:47<02:23,  7.64s/it]\r 86%|████████▌ | 110/127.84375 [13:54<02:14,  7.56s/it]\r 87%|████████▋ | 111/127.84375 [14:02<02:07,  7.58s/it]\r 88%|████████▊ | 112/127.84375 [14:10<02:00,  7.59s/it]\r 88%|████████▊ | 113/127.84375 [14:17<01:52,  7.60s/it]\r 89%|████████▉ | 114/127.84375 [14:25<01:44,  7.57s/it]\r 90%|████████▉ | 115/127.84375 [14:32<01:37,  7.61s/it]\r 91%|█████████ | 116/127.84375 [14:40<01:29,  7.59s/it]\r 92%|█████████▏| 117/127.84375 [14:48<01:22,  7.61s/it]\r 92%|█████████▏| 118/127.84375 [14:55<01:15,  7.66s/it]\r 93%|█████████▎| 119/127.84375 [15:03<01:07,  7.63s/it]\r 94%|█████████▍| 120/127.84375 [15:11<00:59,  7.64s/it]\r 95%|█████████▍| 121/127.84375 [15:18<00:52,  7.65s/it]\r 95%|█████████▌| 122/127.84375 [15:26<00:44,  7.62s/it]\r 96%|█████████▌| 123/127.84375 [15:33<00:36,  7.59s/it]\r 97%|█████████▋| 124/127.84375 [15:41<00:29,  7.63s/it]\r 98%|█████████▊| 125/127.84375 [15:49<00:21,  7.59s/it]\r 99%|█████████▊| 126/127.84375 [15:56<00:13,  7.55s/it]\r 99%|█████████▉| 127/127.84375 [16:04<00:06,  7.57s/it]/databricks/python/lib/python3.11/site-packages/tqdm/std.py:524: TqdmWarning: clamping frac to range [0, 1]\n",
      "  full_bar = Bar(frac,\n",
      "\r100%|██████████| 128/127.84375 [16:11<-1:59:59,  7.59s/it]\r129it [16:19,  7.61s/it]                                  \r130it [16:26,  7.58s/it]\r131it [16:34,  7.60s/it]\r132it [16:42,  7.68s/it]\r133it [16:50,  7.67s/it]\r134it [16:57,  7.66s/it]\r135it [17:05,  7.66s/it]\r136it [17:13,  7.69s/it]\r137it [17:21,  7.76s/it]\r138it [17:28,  7.79s/it]\r139it [17:36,  7.76s/it]\r140it [17:44,  7.72s/it]\r141it [17:51,  7.70s/it]\r142it [17:59,  7.69s/it]\r143it [18:07,  7.65s/it]\r144it [18:14,  7.58s/it]\r145it [18:22,  7.58s/it]\r146it [18:29,  7.56s/it]\r147it [18:37,  7.57s/it]\r148it [18:44,  7.59s/it]\r149it [18:52,  7.60s/it]\r150it [19:00,  7.60s/it]\r151it [19:07,  7.63s/it]\r152it [19:15,  7.62s/it]\r153it [19:22,  7.60s/it]\r154it [19:30,  7.60s/it]\r155it [19:38,  7.67s/it]\r156it [19:45,  7.64s/it]\r157it [19:53,  7.65s/it]\r158it [20:01,  7.72s/it]\r159it [20:09,  7.71s/it]\r160it [20:16,  7.70s/it]\r161it [20:24,  7.69s/it]\r162it [20:31,  7.61s/it]\r163it [20:39,  7.59s/it]\r164it [20:47,  7.61s/it]\r165it [20:54,  7.59s/it]\r166it [21:02,  7.59s/it]\r167it [21:09,  7.58s/it]\r168it [21:17,  7.63s/it]\r169it [21:25,  7.62s/it]\r170it [21:32,  7.63s/it]\r171it [21:40,  7.62s/it]\r172it [21:47,  7.62s/it]\r173it [21:55,  7.57s/it]\r174it [22:03,  7.61s/it]\r175it [22:10,  7.67s/it]\r176it [22:18,  7.68s/it]\r177it [22:26,  7.64s/it]\r178it [22:33,  7.63s/it]\r179it [22:41,  7.60s/it]\r180it [22:48,  7.59s/it]\r181it [22:56,  7.59s/it]\r182it [23:03,  7.52s/it]\r183it [23:11,  7.55s/it]\r184it [23:19,  7.55s/it]\r185it [23:26,  7.57s/it]\r186it [23:34,  7.58s/it]\r187it [23:41,  7.58s/it]\r188it [23:49,  7.57s/it]\r189it [23:57,  7.59s/it]\r190it [24:04,  7.59s/it]\r191it [24:12,  7.59s/it]\r192it [24:20,  7.65s/it]\r193it [24:27,  7.65s/it]\r194it [24:35,  7.70s/it]\r195it [24:43,  7.65s/it]\r196it [24:50,  7.64s/it]\r197it [24:58,  7.63s/it]\r198it [25:05,  7.59s/it]\r199it [25:13,  7.61s/it]\r200it [25:21,  7.67s/it]\r201it [25:28,  7.61s/it]\r202it [25:36,  7.61s/it]\r203it [25:43,  7.57s/it]\r204it [25:51,  7.53s/it]\r205it [25:58,  7.52s/it]\r206it [26:06,  7.53s/it]\r207it [26:13,  7.60s/it]\r208it [26:21,  7.60s/it]\r209it [26:29,  7.58s/it]\r210it [26:36,  7.61s/it]\r211it [26:44,  7.64s/it]\r212it [26:51,  7.59s/it]\r213it [26:59,  7.61s/it]\r214it [27:07,  7.62s/it]\r215it [27:14,  7.58s/it]\r216it [27:22,  7.58s/it]\r217it [27:29,  7.57s/it]\r218it [27:37,  7.57s/it]\r219it [27:45,  7.60s/it]\r220it [27:52,  7.61s/it]\r221it [28:00,  7.64s/it]\r222it [28:08,  7.65s/it]\r223it [28:15,  7.59s/it]\r224it [28:23,  7.62s/it]\r225it [28:30,  7.59s/it]\r226it [28:38,  7.58s/it]\r227it [28:45,  7.54s/it]\r228it [28:53,  7.59s/it]\r229it [29:00,  7.52s/it]\r230it [29:08,  7.53s/it]\r231it [29:15,  7.52s/it]\r232it [29:23,  7.53s/it]\r233it [29:31,  7.54s/it]\r234it [29:38,  7.56s/it]\r235it [29:46,  7.57s/it]\r236it [29:53,  7.55s/it]\r237it [30:01,  7.55s/it]\r238it [30:08,  7.52s/it]\r239it [30:16,  7.54s/it]\r240it [30:23,  7.57s/it]\r240it [30:23,  7.60s/it]\n"
     ]
    },
    {
     "name": "stdout",
     "output_type": "stream",
     "text": [
      "Epoch 14 train loss: 0.03106689453125\n",
      "[Train - End / Test - Start Epoch 15] GPU Memory: Allocated=2.31GB, Reserved=3.29GB\n"
     ]
    },
    {
     "name": "stderr",
     "output_type": "stream",
     "text": [
      "\r  0%|          | 0/14.1875 [00:00<?, ?it/s]\r  7%|▋         | 1/14.1875 [00:06<01:28,  6.68s/it]\r 14%|█▍        | 2/14.1875 [00:13<01:19,  6.53s/it]\r 21%|██        | 3/14.1875 [00:19<01:13,  6.61s/it]\r 28%|██▊       | 4/14.1875 [00:26<01:07,  6.61s/it]\r 35%|███▌      | 5/14.1875 [00:33<01:00,  6.60s/it]\r 42%|████▏     | 6/14.1875 [00:39<00:54,  6.60s/it]\r 49%|████▉     | 7/14.1875 [00:46<00:47,  6.61s/it]\r 56%|█████▋    | 8/14.1875 [00:52<00:40,  6.62s/it]\r 63%|██████▎   | 9/14.1875 [00:59<00:34,  6.68s/it]\r 70%|███████   | 10/14.1875 [01:06<00:28,  6.70s/it]\r 78%|███████▊  | 11/14.1875 [01:13<00:21,  6.72s/it]\r 85%|████████▍ | 12/14.1875 [01:19<00:14,  6.66s/it]\r 92%|█████████▏| 13/14.1875 [01:26<00:07,  6.65s/it]\r 99%|█████████▊| 14/14.1875 [01:32<00:01,  6.64s/it]\r15it [01:39,  6.64s/it]                             \r16it [01:46,  6.66s/it]\r17it [01:52,  6.66s/it]\r18it [01:59,  6.66s/it]\r19it [02:06,  6.65s/it]\r20it [02:12,  6.66s/it]\r21it [02:19,  6.66s/it]\r22it [02:26,  6.61s/it]\r23it [02:32,  6.62s/it]\r24it [02:39,  6.60s/it]\r25it [02:45,  6.63s/it]\r26it [02:52,  6.60s/it]\r27it [02:59,  6.62s/it]\r28it [03:05,  6.64s/it]\r29it [03:12,  6.55s/it]\r30it [03:18,  6.53s/it]\r30it [03:18,  6.62s/it]\n"
     ]
    },
    {
     "name": "stdout",
     "output_type": "stream",
     "text": [
      "Cumulative Accuracy for CP: 69.56%\n",
      "Cumulative Accuracy for chopping-board: 89.56%\n",
      "Cumulative Accuracy for finalstep: 91.78%\n",
      "Cumulative Accuracy for glass-bowl-large: 72.89%\n",
      "Cumulative Accuracy for glass-bowl-medium: 69.33%\n",
      "Cumulative Accuracy for glass-bowl-small: 42.89%\n",
      "Cumulative Accuracy for grill-plate: nan%\n",
      "Cumulative Accuracy for group_step: 77.56%\n",
      "Cumulative Accuracy for medium: 91.78%\n",
      "Cumulative Accuracy for oven-dish: 94.44%\n",
      "Cumulative Accuracy for oven-tray: 95.33%\n",
      "Cumulative Accuracy for pan: 100.00%\n",
      "Cumulative Accuracy for pot-one-handle: 98.44%\n",
      "Cumulative Accuracy for pot-two-handles-medium: 71.11%\n",
      "Cumulative Accuracy for pot-two-handles-shallow: 94.44%\n",
      "Cumulative Accuracy for pot-two-handles-small: nan%\n",
      "Cumulative Accuracy for saucepan: 86.67%\n",
      "\n",
      "Mean Top 3 Accuracy (Val): 94.00%\n",
      "Mean Top 1 Accuracy (Val): 85.33%\n",
      "Macro-averaged Accuracy (Val): 83.05%\n",
      "Epoch 14 test loss: 30.03125\n",
      "\n",
      "[Test - End Epoch 15] GPU Memory: Allocated=2.31GB, Reserved=3.29GB\n",
      "\n",
      "Epoch 16/120\n",
      "[Train - Start Epoch 16] GPU Memory: Allocated=2.31GB, Reserved=3.29GB\n"
     ]
    },
    {
     "name": "stderr",
     "output_type": "stream",
     "text": [
      "\r  0%|          | 0/127.84375 [00:00<?, ?it/s]\r  1%|          | 1/127.84375 [00:07<16:10,  7.65s/it]\r  2%|▏         | 2/127.84375 [00:15<16:00,  7.63s/it]\r  2%|▏         | 3/127.84375 [00:22<15:47,  7.59s/it]\r  3%|▎         | 4/127.84375 [00:30<15:45,  7.63s/it]\r  4%|▍         | 5/127.84375 [00:38<15:35,  7.62s/it]\r  5%|▍         | 6/127.84375 [00:45<15:28,  7.62s/it]\r  5%|▌         | 7/127.84375 [00:53<15:17,  7.60s/it]\r  6%|▋         | 8/127.84375 [01:00<15:14,  7.63s/it]\r  7%|▋         | 9/127.84375 [01:08<15:12,  7.68s/it]\r  8%|▊         | 10/127.84375 [01:16<14:58,  7.62s/it]\r  9%|▊         | 11/127.84375 [01:23<14:49,  7.61s/it]\r  9%|▉         | 12/127.84375 [01:31<14:39,  7.60s/it]\r 10%|█         | 13/127.84375 [01:38<14:29,  7.57s/it]\r 11%|█         | 14/127.84375 [01:46<14:18,  7.54s/it]\r 12%|█▏        | 15/127.84375 [01:54<14:17,  7.60s/it]\r 13%|█▎        | 16/127.84375 [02:01<14:11,  7.62s/it]\r 13%|█▎        | 17/127.84375 [02:09<14:03,  7.61s/it]\r 14%|█▍        | 18/127.84375 [02:16<13:54,  7.60s/it]\r 15%|█▍        | 19/127.84375 [02:24<13:45,  7.58s/it]\r 16%|█▌        | 20/127.84375 [02:31<13:33,  7.54s/it]\r 16%|█▋        | 21/127.84375 [02:39<13:28,  7.56s/it]\r 17%|█▋        | 22/127.84375 [02:47<13:22,  7.58s/it]\r 18%|█▊        | 23/127.84375 [02:54<13:11,  7.55s/it]\r 19%|█▉        | 24/127.84375 [03:02<13:02,  7.53s/it]\r 20%|█▉        | 25/127.84375 [03:09<12:53,  7.52s/it]\r 20%|██        | 26/127.84375 [03:17<12:42,  7.49s/it]\r 21%|██        | 27/127.84375 [03:24<12:31,  7.45s/it]\r 22%|██▏       | 28/127.84375 [03:31<12:26,  7.47s/it]\r 23%|██▎       | 29/127.84375 [03:39<12:16,  7.45s/it]\r 23%|██▎       | 30/127.84375 [03:46<12:12,  7.49s/it]\r 24%|██▍       | 31/127.84375 [03:54<12:08,  7.52s/it]\r 25%|██▌       | 32/127.84375 [04:01<11:58,  7.49s/it]\r 26%|██▌       | 33/127.84375 [04:09<11:51,  7.50s/it]\r 27%|██▋       | 34/127.84375 [04:17<11:48,  7.55s/it]\r 27%|██▋       | 35/127.84375 [04:24<11:45,  7.59s/it]\r 28%|██▊       | 36/127.84375 [04:32<11:39,  7.61s/it]\r 29%|██▉       | 37/127.84375 [04:40<11:33,  7.63s/it]\r 30%|██▉       | 38/127.84375 [04:47<11:22,  7.60s/it]\r 31%|███       | 39/127.84375 [04:55<11:15,  7.61s/it]\r 31%|███▏      | 40/127.84375 [05:02<11:05,  7.57s/it]\r 32%|███▏      | 41/127.84375 [05:10<10:59,  7.60s/it]\r 33%|███▎      | 42/127.84375 [05:18<10:51,  7.59s/it]\r 34%|███▎      | 43/127.84375 [05:25<10:46,  7.62s/it]\r 34%|███▍      | 44/127.84375 [05:33<10:40,  7.64s/it]\r 35%|███▌      | 45/127.84375 [05:41<10:33,  7.65s/it]\r 36%|███▌      | 46/127.84375 [05:48<10:21,  7.60s/it]\r 37%|███▋      | 47/127.84375 [05:56<10:12,  7.58s/it]\r 38%|███▊      | 48/127.84375 [06:03<10:06,  7.60s/it]\r 38%|███▊      | 49/127.84375 [06:11<09:59,  7.60s/it]\r 39%|███▉      | 50/127.84375 [06:19<09:54,  7.63s/it]\r 40%|███▉      | 51/127.84375 [06:26<09:43,  7.59s/it]\r 41%|████      | 52/127.84375 [06:34<09:33,  7.56s/it]\r 41%|████▏     | 53/127.84375 [06:41<09:25,  7.56s/it]\r 42%|████▏     | 54/127.84375 [06:49<09:19,  7.57s/it]\r 43%|████▎     | 55/127.84375 [06:56<09:12,  7.58s/it]\r 44%|████▍     | 56/127.84375 [07:04<09:04,  7.58s/it]\r 45%|████▍     | 57/127.84375 [07:11<08:57,  7.59s/it]\r 45%|████▌     | 58/127.84375 [07:19<08:47,  7.56s/it]\r 46%|████▌     | 59/127.84375 [07:27<08:45,  7.64s/it]\r 47%|████▋     | 60/127.84375 [07:34<08:36,  7.61s/it]\r 48%|████▊     | 61/127.84375 [07:42<08:26,  7.58s/it]\r 48%|████▊     | 62/127.84375 [07:49<08:20,  7.61s/it]\r 49%|████▉     | 63/127.84375 [07:57<08:13,  7.62s/it]\r 50%|█████     | 64/127.84375 [08:05<08:02,  7.56s/it]\r 51%|█████     | 65/127.84375 [08:12<07:56,  7.59s/it]\r 52%|█████▏    | 66/127.84375 [08:20<07:48,  7.58s/it]\r 52%|█████▏    | 67/127.84375 [08:27<07:39,  7.56s/it]\r 53%|█████▎    | 68/127.84375 [08:35<07:30,  7.54s/it]\r 54%|█████▍    | 69/127.84375 [08:42<07:24,  7.56s/it]\r 55%|█████▍    | 70/127.84375 [08:50<07:17,  7.56s/it]\r 56%|█████▌    | 71/127.84375 [08:58<07:10,  7.57s/it]\r 56%|█████▋    | 72/127.84375 [09:05<07:03,  7.59s/it]\r 57%|█████▋    | 73/127.84375 [09:13<06:54,  7.56s/it]\r 58%|█████▊    | 74/127.84375 [09:20<06:49,  7.60s/it]\r 59%|█████▊    | 75/127.84375 [09:28<06:40,  7.57s/it]\r 59%|█████▉    | 76/127.84375 [09:36<06:34,  7.60s/it]\r 60%|██████    | 77/127.84375 [09:43<06:25,  7.59s/it]\r 61%|██████    | 78/127.84375 [09:51<06:18,  7.60s/it]\r 62%|██████▏   | 79/127.84375 [09:58<06:11,  7.61s/it]\r 63%|██████▎   | 80/127.84375 [10:06<06:02,  7.57s/it]\r 63%|██████▎   | 81/127.84375 [10:13<05:53,  7.54s/it]\r 64%|██████▍   | 82/127.84375 [10:21<05:49,  7.62s/it]\r 65%|██████▍   | 83/127.84375 [10:29<05:40,  7.60s/it]\r 66%|██████▌   | 84/127.84375 [10:36<05:33,  7.61s/it]\r 66%|██████▋   | 85/127.84375 [10:44<05:22,  7.53s/it]\r 67%|██████▋   | 86/127.84375 [10:51<05:16,  7.57s/it]\r 68%|██████▊   | 87/127.84375 [10:59<05:10,  7.59s/it]\r 69%|██████▉   | 88/127.84375 [11:07<05:03,  7.61s/it]\r 70%|██████▉   | 89/127.84375 [11:14<04:56,  7.63s/it]\r 70%|███████   | 90/127.84375 [11:22<04:48,  7.61s/it]\r 71%|███████   | 91/127.84375 [11:30<04:41,  7.65s/it]\r 72%|███████▏  | 92/127.84375 [11:37<04:32,  7.61s/it]\r 73%|███████▎  | 93/127.84375 [11:44<04:22,  7.54s/it]\r 74%|███████▎  | 94/127.84375 [11:52<04:14,  7.53s/it]\r 74%|███████▍  | 95/127.84375 [12:00<04:07,  7.54s/it]\r 75%|███████▌  | 96/127.84375 [12:07<04:00,  7.54s/it]\r 76%|███████▌  | 97/127.84375 [12:15<03:51,  7.51s/it]\r 77%|███████▋  | 98/127.84375 [12:22<03:44,  7.54s/it]\r 77%|███████▋  | 99/127.84375 [12:30<03:38,  7.58s/it]\r 78%|███████▊  | 100/127.84375 [12:37<03:30,  7.57s/it]\r 79%|███████▉  | 101/127.84375 [12:45<03:22,  7.53s/it]\r 80%|███████▉  | 102/127.84375 [12:52<03:14,  7.54s/it]\r 81%|████████  | 103/127.84375 [13:00<03:07,  7.53s/it]\r 81%|████████▏ | 104/127.84375 [13:07<03:00,  7.56s/it]\r 82%|████████▏ | 105/127.84375 [13:15<02:53,  7.58s/it]\r 83%|████████▎ | 106/127.84375 [13:23<02:45,  7.59s/it]\r 84%|████████▎ | 107/127.84375 [13:30<02:37,  7.57s/it]\r 84%|████████▍ | 108/127.84375 [13:38<02:30,  7.59s/it]\r 85%|████████▌ | 109/127.84375 [13:45<02:23,  7.59s/it]\r 86%|████████▌ | 110/127.84375 [13:53<02:15,  7.58s/it]\r 87%|████████▋ | 111/127.84375 [14:01<02:07,  7.56s/it]\r 88%|████████▊ | 112/127.84375 [14:08<02:00,  7.57s/it]\r 88%|████████▊ | 113/127.84375 [14:16<01:52,  7.59s/it]\r 89%|████████▉ | 114/127.84375 [14:24<01:45,  7.65s/it]\r 90%|████████▉ | 115/127.84375 [14:31<01:38,  7.68s/it]\r 91%|█████████ | 116/127.84375 [14:39<01:30,  7.63s/it]\r 92%|█████████▏| 117/127.84375 [14:47<01:22,  7.65s/it]\r 92%|█████████▏| 118/127.84375 [14:54<01:14,  7.60s/it]\r 93%|█████████▎| 119/127.84375 [15:02<01:07,  7.62s/it]\r 94%|█████████▍| 120/127.84375 [15:09<00:59,  7.57s/it]\r 95%|█████████▍| 121/127.84375 [15:17<00:51,  7.59s/it]\r 95%|█████████▌| 122/127.84375 [15:25<00:44,  7.65s/it]\r 96%|█████████▌| 123/127.84375 [15:32<00:36,  7.64s/it]\r 97%|█████████▋| 124/127.84375 [15:40<00:29,  7.57s/it]\r 98%|█████████▊| 125/127.84375 [15:47<00:21,  7.56s/it]\r 99%|█████████▊| 126/127.84375 [15:55<00:13,  7.58s/it]\r 99%|█████████▉| 127/127.84375 [16:02<00:06,  7.60s/it]/databricks/python/lib/python3.11/site-packages/tqdm/std.py:524: TqdmWarning: clamping frac to range [0, 1]\n",
      "  full_bar = Bar(frac,\n",
      "\r100%|██████████| 128/127.84375 [16:10<-1:59:59,  7.60s/it]\r129it [16:18,  7.60s/it]                                  \r130it [16:25,  7.59s/it]\r131it [16:33,  7.56s/it]\r132it [16:40,  7.62s/it]\r133it [16:48,  7.64s/it]\r134it [16:56,  7.63s/it]\r135it [17:03,  7.58s/it]\r136it [17:11,  7.56s/it]\r137it [17:18,  7.57s/it]\r138it [17:26,  7.57s/it]\r139it [17:34,  7.69s/it]\r140it [17:41,  7.64s/it]\r141it [17:49,  7.64s/it]\r142it [17:57,  7.63s/it]\r143it [18:04,  7.65s/it]\r144it [18:12,  7.67s/it]\r145it [18:20,  7.64s/it]\r146it [18:27,  7.63s/it]\r147it [18:35,  7.62s/it]\r148it [18:42,  7.62s/it]\r149it [18:50,  7.64s/it]\r150it [18:58,  7.62s/it]\r151it [19:05,  7.61s/it]\r152it [19:13,  7.60s/it]\r153it [19:20,  7.62s/it]\r154it [19:28,  7.64s/it]\r155it [19:36,  7.60s/it]\r156it [19:43,  7.57s/it]\r157it [19:51,  7.61s/it]\r158it [19:58,  7.59s/it]\r159it [20:06,  7.62s/it]\r160it [20:14,  7.60s/it]\r161it [20:21,  7.59s/it]\r162it [20:29,  7.60s/it]\r163it [20:36,  7.53s/it]\r164it [20:44,  7.57s/it]\r165it [20:51,  7.57s/it]\r166it [20:59,  7.57s/it]\r167it [21:07,  7.60s/it]\r168it [21:14,  7.65s/it]\r169it [21:22,  7.56s/it]\r170it [21:29,  7.57s/it]\r171it [21:37,  7.57s/it]\r172it [21:44,  7.56s/it]\r173it [21:52,  7.55s/it]\r174it [22:00,  7.54s/it]\r175it [22:07,  7.56s/it]\r176it [22:15,  7.56s/it]\r177it [22:22,  7.58s/it]\r178it [22:30,  7.55s/it]\r179it [22:37,  7.56s/it]\r180it [22:45,  7.59s/it]\r181it [22:53,  7.60s/it]\r182it [23:00,  7.60s/it]\r183it [23:08,  7.63s/it]\r184it [23:15,  7.59s/it]\r185it [23:23,  7.59s/it]\r186it [23:31,  7.58s/it]\r187it [23:38,  7.60s/it]\r188it [23:46,  7.58s/it]\r189it [23:53,  7.59s/it]\r190it [24:01,  7.60s/it]\r191it [24:08,  7.55s/it]\r192it [24:16,  7.54s/it]\r193it [24:24,  7.54s/it]\r194it [24:31,  7.53s/it]\r195it [24:39,  7.54s/it]\r196it [24:46,  7.54s/it]\r197it [24:54,  7.55s/it]\r198it [25:01,  7.55s/it]\r199it [25:09,  7.56s/it]\r200it [25:16,  7.54s/it]\r201it [25:24,  7.57s/it]\r202it [25:32,  7.69s/it]\r203it [25:40,  7.69s/it]\r204it [25:47,  7.73s/it]\r205it [25:55,  7.69s/it]\r206it [26:03,  7.68s/it]\r207it [26:10,  7.65s/it]\r208it [26:18,  7.69s/it]\r209it [26:26,  7.65s/it]\r210it [26:33,  7.64s/it]\r211it [26:41,  7.63s/it]\r212it [26:48,  7.60s/it]\r213it [26:56,  7.57s/it]\r214it [27:04,  7.58s/it]\r215it [27:11,  7.61s/it]\r216it [27:19,  7.63s/it]\r217it [27:26,  7.60s/it]\r218it [27:34,  7.57s/it]\r219it [27:42,  7.58s/it]\r220it [27:49,  7.59s/it]\r221it [27:57,  7.63s/it]\r222it [28:04,  7.61s/it]\r223it [28:12,  7.60s/it]\r224it [28:20,  7.60s/it]\r225it [28:27,  7.59s/it]\r226it [28:35,  7.61s/it]\r227it [28:43,  7.66s/it]\r228it [28:50,  7.67s/it]\r229it [28:58,  7.70s/it]\r230it [29:06,  7.69s/it]\r231it [29:13,  7.66s/it]\r232it [29:21,  7.64s/it]\r233it [29:28,  7.63s/it]\r234it [29:36,  7.69s/it]\r235it [29:44,  7.65s/it]\r236it [29:51,  7.60s/it]\r237it [29:59,  7.56s/it]\r238it [30:06,  7.57s/it]\r239it [30:14,  7.54s/it]\r240it [30:22,  7.58s/it]\r240it [30:22,  7.59s/it]\n"
     ]
    },
    {
     "name": "stdout",
     "output_type": "stream",
     "text": [
      "Epoch 15 train loss: 0.049346923828125\n",
      "[Train - End / Test - Start Epoch 16] GPU Memory: Allocated=2.30GB, Reserved=3.29GB\n"
     ]
    },
    {
     "name": "stderr",
     "output_type": "stream",
     "text": [
      "\r  0%|          | 0/14.1875 [00:00<?, ?it/s]\r  7%|▋         | 1/14.1875 [00:06<01:28,  6.72s/it]\r 14%|█▍        | 2/14.1875 [00:13<01:22,  6.74s/it]\r 21%|██        | 3/14.1875 [00:20<01:15,  6.75s/it]\r 28%|██▊       | 4/14.1875 [00:27<01:09,  6.78s/it]\r 35%|███▌      | 5/14.1875 [00:33<01:02,  6.78s/it]\r 42%|████▏     | 6/14.1875 [00:40<00:54,  6.72s/it]\r 49%|████▉     | 7/14.1875 [00:47<00:48,  6.71s/it]\r 56%|█████▋    | 8/14.1875 [00:53<00:41,  6.68s/it]\r 63%|██████▎   | 9/14.1875 [01:00<00:34,  6.73s/it]\r 70%|███████   | 10/14.1875 [01:07<00:28,  6.69s/it]\r 78%|███████▊  | 11/14.1875 [01:13<00:21,  6.71s/it]\r 85%|████████▍ | 12/14.1875 [01:20<00:14,  6.69s/it]\r 92%|█████████▏| 13/14.1875 [01:27<00:07,  6.67s/it]\r 99%|█████████▊| 14/14.1875 [01:33<00:01,  6.70s/it]\r15it [01:40,  6.69s/it]                             \r16it [01:47,  6.65s/it]\r17it [01:53,  6.62s/it]\r18it [02:00,  6.65s/it]\r19it [02:07,  6.67s/it]\r20it [02:13,  6.65s/it]\r21it [02:20,  6.70s/it]\r22it [02:27,  6.73s/it]\r23it [02:34,  6.78s/it]\r24it [02:40,  6.72s/it]\r25it [02:47,  6.69s/it]\r26it [02:54,  6.69s/it]\r27it [03:00,  6.68s/it]\r28it [03:07,  6.68s/it]\r29it [03:14,  6.69s/it]\r30it [03:20,  6.69s/it]\r30it [03:20,  6.70s/it]\n"
     ]
    },
    {
     "name": "stdout",
     "output_type": "stream",
     "text": [
      "Cumulative Accuracy for CP: 69.58%\n",
      "Cumulative Accuracy for chopping-board: 89.17%\n",
      "Cumulative Accuracy for finalstep: 91.46%\n",
      "Cumulative Accuracy for glass-bowl-large: 71.46%\n",
      "Cumulative Accuracy for glass-bowl-medium: 68.96%\n",
      "Cumulative Accuracy for glass-bowl-small: 41.67%\n",
      "Cumulative Accuracy for grill-plate: nan%\n",
      "Cumulative Accuracy for group_step: 77.29%\n",
      "Cumulative Accuracy for medium: 92.29%\n",
      "Cumulative Accuracy for oven-dish: 94.79%\n",
      "Cumulative Accuracy for oven-tray: 95.42%\n",
      "Cumulative Accuracy for pan: 100.00%\n",
      "Cumulative Accuracy for pot-one-handle: 98.54%\n",
      "Cumulative Accuracy for pot-two-handles-medium: 72.08%\n",
      "Cumulative Accuracy for pot-two-handles-shallow: 94.79%\n",
      "Cumulative Accuracy for pot-two-handles-small: nan%\n",
      "Cumulative Accuracy for saucepan: 87.50%\n",
      "\n",
      "Mean Top 3 Accuracy (Val): 92.89%\n",
      "Mean Top 1 Accuracy (Val): 82.22%\n",
      "Macro-averaged Accuracy (Val): 83.00%\n",
      "Epoch 15 test loss: 29.09375\n",
      "\n",
      "[Test - End Epoch 16] GPU Memory: Allocated=2.30GB, Reserved=3.29GB\n",
      "\n",
      "Epoch 17/120\n",
      "[Train - Start Epoch 17] GPU Memory: Allocated=2.30GB, Reserved=3.29GB\n"
     ]
    },
    {
     "name": "stderr",
     "output_type": "stream",
     "text": [
      "\r  0%|          | 0/127.84375 [00:00<?, ?it/s]\r  1%|          | 1/127.84375 [00:07<15:57,  7.55s/it]\r  2%|▏         | 2/127.84375 [00:15<16:00,  7.63s/it]\r  2%|▏         | 3/127.84375 [00:22<15:45,  7.57s/it]\r  3%|▎         | 4/127.84375 [00:30<15:39,  7.59s/it]\r  4%|▍         | 5/127.84375 [00:38<15:35,  7.62s/it]\r  5%|▍         | 6/127.84375 [00:45<15:30,  7.64s/it]\r  5%|▌         | 7/127.84375 [00:53<15:28,  7.68s/it]\r  6%|▋         | 8/127.84375 [01:01<15:20,  7.68s/it]\r  7%|▋         | 9/127.84375 [01:08<15:14,  7.69s/it]\r  8%|▊         | 10/127.84375 [01:16<15:04,  7.68s/it]\r  9%|▊         | 11/127.84375 [01:24<15:02,  7.72s/it]\r  9%|▉         | 12/127.84375 [01:32<14:56,  7.74s/it]\r 10%|█         | 13/127.84375 [01:39<14:50,  7.76s/it]\r 11%|█         | 14/127.84375 [01:47<14:46,  7.78s/it]\r 12%|█▏        | 15/127.84375 [01:55<14:30,  7.72s/it]\r 13%|█▎        | 16/127.84375 [02:02<14:21,  7.71s/it]\r 13%|█▎        | 17/127.84375 [02:10<14:10,  7.67s/it]\r 14%|█▍        | 18/127.84375 [02:18<13:57,  7.63s/it]\r 15%|█▍        | 19/127.84375 [02:25<13:52,  7.65s/it]\r 16%|█▌        | 20/127.84375 [02:33<13:45,  7.66s/it]\r 16%|█▋        | 21/127.84375 [02:41<13:33,  7.62s/it]\r 17%|█▋        | 22/127.84375 [02:48<13:27,  7.63s/it]\r 18%|█▊        | 23/127.84375 [02:56<13:23,  7.67s/it]\r 19%|█▉        | 24/127.84375 [03:03<13:12,  7.63s/it]\r 20%|█▉        | 25/127.84375 [03:11<13:07,  7.65s/it]\r 20%|██        | 26/127.84375 [03:19<12:55,  7.61s/it]\r 21%|██        | 27/127.84375 [03:26<12:45,  7.59s/it]\r 22%|██▏       | 28/127.84375 [03:34<12:38,  7.60s/it]\r 23%|██▎       | 29/127.84375 [03:42<12:32,  7.61s/it]\r 23%|██▎       | 30/127.84375 [03:49<12:23,  7.60s/it]\r 24%|██▍       | 31/127.84375 [03:57<12:16,  7.61s/it]\r 25%|██▌       | 32/127.84375 [04:04<12:12,  7.64s/it]\r 26%|██▌       | 33/127.84375 [04:12<12:05,  7.65s/it]\r 27%|██▋       | 34/127.84375 [04:20<11:58,  7.66s/it]\r 27%|██▋       | 35/127.84375 [04:28<11:54,  7.70s/it]\r 28%|██▊       | 36/127.84375 [04:35<11:47,  7.71s/it]\r 29%|██▉       | 37/127.84375 [04:43<11:37,  7.68s/it]\r 30%|██▉       | 38/127.84375 [04:51<11:30,  7.68s/it]\r 31%|███       | 39/127.84375 [04:58<11:20,  7.66s/it]\r 31%|███▏      | 40/127.84375 [05:06<11:13,  7.67s/it]\r 32%|███▏      | 41/127.84375 [05:14<11:07,  7.69s/it]\r 33%|███▎      | 42/127.84375 [05:21<11:01,  7.71s/it]\r 34%|███▎      | 43/127.84375 [05:29<10:53,  7.71s/it]\r 34%|███▍      | 44/127.84375 [05:37<10:44,  7.69s/it]\r 35%|███▌      | 45/127.84375 [05:44<10:38,  7.71s/it]\r 36%|███▌      | 46/127.84375 [05:52<10:34,  7.75s/it]\r 37%|███▋      | 47/127.84375 [06:00<10:23,  7.72s/it]\r 38%|███▊      | 48/127.84375 [06:08<10:16,  7.72s/it]\r 38%|███▊      | 49/127.84375 [06:15<10:05,  7.68s/it]\r 39%|███▉      | 50/127.84375 [06:23<09:56,  7.66s/it]\r 40%|███▉      | 51/127.84375 [06:31<09:50,  7.69s/it]\r 41%|████      | 52/127.84375 [06:38<09:39,  7.63s/it]\r 41%|████▏     | 53/127.84375 [06:46<09:31,  7.63s/it]\r 42%|████▏     | 54/127.84375 [06:53<09:20,  7.60s/it]\r 43%|████▎     | 55/127.84375 [07:01<09:15,  7.62s/it]\r 44%|████▍     | 56/127.84375 [07:09<09:09,  7.64s/it]\r 45%|████▍     | 57/127.84375 [07:16<08:59,  7.61s/it]\r 45%|████▌     | 58/127.84375 [07:24<08:54,  7.65s/it]\r 46%|████▌     | 59/127.84375 [07:32<08:49,  7.69s/it]\r 47%|████▋     | 60/127.84375 [07:40<08:44,  7.72s/it]\r 48%|████▊     | 61/127.84375 [07:47<08:35,  7.72s/it]\r 48%|████▊     | 62/127.84375 [07:55<08:23,  7.65s/it]\r 49%|████▉     | 63/127.84375 [08:02<08:14,  7.63s/it]\r 50%|█████     | 64/127.84375 [08:10<08:09,  7.67s/it]\r 51%|█████     | 65/127.84375 [08:18<08:00,  7.65s/it]\r 52%|█████▏    | 66/127.84375 [08:25<07:53,  7.66s/it]\r 52%|█████▏    | 67/127.84375 [08:33<07:44,  7.63s/it]\r 53%|█████▎    | 68/127.84375 [08:41<07:37,  7.65s/it]\r 54%|█████▍    | 69/127.84375 [08:48<07:30,  7.65s/it]\r 55%|█████▍    | 70/127.84375 [08:56<07:24,  7.68s/it]\r 56%|█████▌    | 71/127.84375 [09:04<07:16,  7.68s/it]\r 56%|█████▋    | 72/127.84375 [09:11<07:06,  7.63s/it]\r 57%|█████▋    | 73/127.84375 [09:19<06:58,  7.64s/it]\r 58%|█████▊    | 74/127.84375 [09:26<06:50,  7.62s/it]\r 59%|█████▊    | 75/127.84375 [09:34<06:42,  7.61s/it]\r 59%|█████▉    | 76/127.84375 [09:42<06:36,  7.64s/it]\r 60%|██████    | 77/127.84375 [09:49<06:27,  7.62s/it]\r 61%|██████    | 78/127.84375 [09:57<06:21,  7.66s/it]\r 62%|██████▏   | 79/127.84375 [10:05<06:12,  7.63s/it]\r 63%|██████▎   | 80/127.84375 [10:12<06:06,  7.66s/it]\r 63%|██████▎   | 81/127.84375 [10:20<05:59,  7.66s/it]\r 64%|██████▍   | 82/127.84375 [10:28<05:54,  7.74s/it]\r 65%|██████▍   | 83/127.84375 [10:36<05:46,  7.72s/it]\r 66%|██████▌   | 84/127.84375 [10:43<05:37,  7.70s/it]\r 66%|██████▋   | 85/127.84375 [10:51<05:30,  7.71s/it]\r 67%|██████▋   | 86/127.84375 [10:59<05:22,  7.71s/it]\r 68%|██████▊   | 87/127.84375 [11:06<05:14,  7.70s/it]\r 69%|██████▉   | 88/127.84375 [11:14<05:05,  7.68s/it]\r 70%|██████▉   | 89/127.84375 [11:22<04:57,  7.65s/it]\r 70%|███████   | 90/127.84375 [11:29<04:48,  7.62s/it]\r 71%|███████   | 91/127.84375 [11:37<04:44,  7.71s/it]\r 72%|███████▏  | 92/127.84375 [11:45<04:36,  7.71s/it]\r 73%|███████▎  | 93/127.84375 [11:52<04:27,  7.69s/it]\r 74%|███████▎  | 94/127.84375 [12:00<04:17,  7.60s/it]\r 74%|███████▍  | 95/127.84375 [12:08<04:11,  7.66s/it]\r 75%|███████▌  | 96/127.84375 [12:15<04:05,  7.69s/it]\r 76%|███████▌  | 97/127.84375 [12:23<03:57,  7.68s/it]\r 77%|███████▋  | 98/127.84375 [12:31<03:49,  7.69s/it]\r 77%|███████▋  | 99/127.84375 [12:38<03:40,  7.63s/it]\r 78%|███████▊  | 100/127.84375 [12:46<03:32,  7.64s/it]\r 79%|███████▉  | 101/127.84375 [12:54<03:27,  7.72s/it]\r 80%|███████▉  | 102/127.84375 [13:01<03:18,  7.69s/it]\r 81%|████████  | 103/127.84375 [13:09<03:10,  7.68s/it]\r 81%|████████▏ | 104/127.84375 [13:17<03:03,  7.70s/it]\r 82%|████████▏ | 105/127.84375 [13:24<02:54,  7.64s/it]\r 83%|████████▎ | 106/127.84375 [13:32<02:47,  7.66s/it]\r 84%|████████▎ | 107/127.84375 [13:40<02:40,  7.69s/it]\r 84%|████████▍ | 108/127.84375 [13:47<02:32,  7.68s/it]\r 85%|████████▌ | 109/127.84375 [13:55<02:24,  7.67s/it]\r 86%|████████▌ | 110/127.84375 [14:03<02:17,  7.69s/it]\r 87%|████████▋ | 111/127.84375 [14:11<02:09,  7.69s/it]\r 88%|████████▊ | 112/127.84375 [14:18<02:02,  7.73s/it]\r 88%|████████▊ | 113/127.84375 [14:26<01:55,  7.75s/it]\r 89%|████████▉ | 114/127.84375 [14:34<01:46,  7.72s/it]\r 90%|████████▉ | 115/127.84375 [14:42<01:39,  7.72s/it]\r 91%|█████████ | 116/127.84375 [14:49<01:31,  7.73s/it]\r 92%|█████████▏| 117/127.84375 [14:57<01:23,  7.69s/it]\r 92%|█████████▏| 118/127.84375 [15:05<01:15,  7.70s/it]\r 93%|█████████▎| 119/127.84375 [15:12<01:07,  7.69s/it]\r 94%|█████████▍| 120/127.84375 [15:20<01:00,  7.66s/it]\r 95%|█████████▍| 121/127.84375 [15:28<00:52,  7.66s/it]\r 95%|█████████▌| 122/127.84375 [15:35<00:44,  7.64s/it]\r 96%|█████████▌| 123/127.84375 [15:43<00:37,  7.65s/it]\r 97%|█████████▋| 124/127.84375 [15:51<00:29,  7.67s/it]\r 98%|█████████▊| 125/127.84375 [15:58<00:21,  7.60s/it]\r 99%|█████████▊| 126/127.84375 [16:06<00:14,  7.65s/it]\r 99%|█████████▉| 127/127.84375 [16:14<00:06,  7.71s/it]/databricks/python/lib/python3.11/site-packages/tqdm/std.py:524: TqdmWarning: clamping frac to range [0, 1]\n",
      "  full_bar = Bar(frac,\n",
      "\r100%|██████████| 128/127.84375 [16:21<-1:59:59,  7.71s/it]\r129it [16:29,  7.67s/it]                                  \r130it [16:36,  7.66s/it]\r131it [16:44,  7.64s/it]\r132it [16:52,  7.62s/it]\r133it [16:59,  7.55s/it]\r134it [17:07,  7.55s/it]\r135it [17:14,  7.58s/it]\r136it [17:22,  7.59s/it]\r137it [17:30,  7.61s/it]\r138it [17:37,  7.63s/it]\r139it [17:45,  7.59s/it]\r140it [17:52,  7.64s/it]\r141it [18:00,  7.63s/it]\r142it [18:08,  7.60s/it]\r143it [18:15,  7.58s/it]\r144it [18:23,  7.61s/it]\r145it [18:30,  7.62s/it]\r146it [18:38,  7.66s/it]\r147it [18:46,  7.64s/it]\r148it [18:53,  7.63s/it]\r149it [19:01,  7.60s/it]\r150it [19:09,  7.62s/it]\r151it [19:16,  7.68s/it]\r152it [19:24,  7.69s/it]\r153it [19:32,  7.71s/it]\r154it [19:39,  7.68s/it]\r155it [19:47,  7.64s/it]\r156it [19:55,  7.67s/it]\r157it [20:02,  7.68s/it]\r158it [20:10,  7.62s/it]\r159it [20:18,  7.63s/it]\r160it [20:25,  7.64s/it]\r161it [20:33,  7.65s/it]\r162it [20:40,  7.58s/it]\r163it [20:48,  7.59s/it]\r164it [20:55,  7.57s/it]\r165it [21:03,  7.57s/it]\r166it [21:11,  7.64s/it]\r167it [21:18,  7.60s/it]\r168it [21:26,  7.65s/it]\r169it [21:34,  7.63s/it]\r170it [21:41,  7.56s/it]\r171it [21:49,  7.57s/it]\r172it [21:56,  7.57s/it]\r173it [22:04,  7.57s/it]\r174it [22:11,  7.53s/it]\r175it [22:19,  7.59s/it]\r176it [22:27,  7.57s/it]\r177it [22:34,  7.58s/it]\r178it [22:42,  7.63s/it]\r179it [22:50,  7.65s/it]\r180it [22:57,  7.69s/it]\r181it [23:05,  7.72s/it]\r182it [23:13,  7.72s/it]\r183it [23:20,  7.68s/it]\r184it [23:28,  7.65s/it]\r185it [23:36,  7.64s/it]\r186it [23:43,  7.66s/it]\r187it [23:51,  7.63s/it]\r188it [23:59,  7.62s/it]\r189it [24:06,  7.65s/it]\r190it [24:14,  7.67s/it]\r191it [24:22,  7.67s/it]\r192it [24:29,  7.62s/it]\r193it [24:37,  7.59s/it]\r194it [24:44,  7.61s/it]\r195it [24:52,  7.60s/it]\r196it [24:59,  7.60s/it]\r197it [25:07,  7.59s/it]\r198it [25:15,  7.60s/it]\r199it [25:22,  7.60s/it]\r200it [25:30,  7.55s/it]\r201it [25:37,  7.55s/it]\r202it [25:45,  7.53s/it]\r203it [25:52,  7.48s/it]\r204it [26:00,  7.54s/it]\r205it [26:07,  7.55s/it]\r206it [26:15,  7.52s/it]\r207it [26:22,  7.53s/it]\r208it [26:30,  7.55s/it]\r209it [26:37,  7.52s/it]\r210it [26:45,  7.55s/it]\r211it [26:53,  7.56s/it]\r212it [27:00,  7.56s/it]\r213it [27:08,  7.60s/it]\r214it [27:15,  7.58s/it]\r215it [27:23,  7.62s/it]\r216it [27:31,  7.62s/it]\r217it [27:38,  7.61s/it]\r218it [27:46,  7.63s/it]\r219it [27:54,  7.64s/it]\r220it [28:01,  7.61s/it]\r221it [28:09,  7.64s/it]\r222it [28:16,  7.58s/it]\r223it [28:24,  7.60s/it]\r224it [28:32,  7.60s/it]\r225it [28:39,  7.64s/it]\r226it [28:47,  7.67s/it]\r227it [28:55,  7.72s/it]\r228it [29:03,  7.69s/it]\r229it [29:10,  7.70s/it]\r230it [29:18,  7.63s/it]\r231it [29:25,  7.62s/it]\r232it [29:33,  7.60s/it]\r233it [29:40,  7.59s/it]\r234it [29:48,  7.63s/it]\r235it [29:56,  7.61s/it]\r236it [30:03,  7.60s/it]\r237it [30:11,  7.61s/it]\r238it [30:19,  7.60s/it]\r239it [30:26,  7.64s/it]\r240it [30:34,  7.68s/it]\r240it [30:34,  7.64s/it]\n"
     ]
    },
    {
     "name": "stdout",
     "output_type": "stream",
     "text": [
      "Epoch 16 train loss: 0.0592041015625\n",
      "[Train - End / Test - Start Epoch 17] GPU Memory: Allocated=2.30GB, Reserved=3.29GB\n"
     ]
    },
    {
     "name": "stderr",
     "output_type": "stream",
     "text": [
      "\r  0%|          | 0/14.1875 [00:00<?, ?it/s]\r  7%|▋         | 1/14.1875 [00:06<01:30,  6.85s/it]\r 14%|█▍        | 2/14.1875 [00:13<01:21,  6.72s/it]\r 21%|██        | 3/14.1875 [00:20<01:15,  6.72s/it]\r 28%|██▊       | 4/14.1875 [00:26<01:07,  6.66s/it]\r 35%|███▌      | 5/14.1875 [00:33<01:01,  6.66s/it]\r 42%|████▏     | 6/14.1875 [00:40<00:54,  6.67s/it]\r 49%|████▉     | 7/14.1875 [00:46<00:48,  6.68s/it]\r 56%|█████▋    | 8/14.1875 [00:53<00:41,  6.73s/it]\r 63%|██████▎   | 9/14.1875 [01:00<00:34,  6.72s/it]\r 70%|███████   | 10/14.1875 [01:06<00:28,  6.70s/it]\r 78%|███████▊  | 11/14.1875 [01:13<00:21,  6.63s/it]\r 85%|████████▍ | 12/14.1875 [01:20<00:14,  6.65s/it]\r 92%|█████████▏| 13/14.1875 [01:26<00:07,  6.65s/it]\r 99%|█████████▊| 14/14.1875 [01:33<00:01,  6.64s/it]\r15it [01:40,  6.63s/it]                             \r16it [01:46,  6.65s/it]\r17it [01:53,  6.64s/it]\r18it [02:00,  6.70s/it]\r19it [02:06,  6.68s/it]\r20it [02:13,  6.68s/it]\r21it [02:20,  6.68s/it]\r22it [02:26,  6.66s/it]\r23it [02:33,  6.64s/it]\r24it [02:40,  6.63s/it]\r25it [02:46,  6.61s/it]\r26it [02:53,  6.65s/it]\r27it [02:59,  6.65s/it]\r28it [03:06,  6.63s/it]\r29it [03:13,  6.64s/it]\r30it [03:19,  6.68s/it]\r30it [03:19,  6.67s/it]\n"
     ]
    },
    {
     "name": "stdout",
     "output_type": "stream",
     "text": [
      "Cumulative Accuracy for CP: 70.00%\n",
      "Cumulative Accuracy for chopping-board: 89.80%\n",
      "Cumulative Accuracy for finalstep: 90.78%\n",
      "Cumulative Accuracy for glass-bowl-large: 71.37%\n",
      "Cumulative Accuracy for glass-bowl-medium: 69.22%\n",
      "Cumulative Accuracy for glass-bowl-small: 40.98%\n",
      "Cumulative Accuracy for grill-plate: nan%\n",
      "Cumulative Accuracy for group_step: 76.86%\n",
      "Cumulative Accuracy for medium: 92.55%\n",
      "Cumulative Accuracy for oven-dish: 95.10%\n",
      "Cumulative Accuracy for oven-tray: 95.69%\n",
      "Cumulative Accuracy for pan: 100.00%\n",
      "Cumulative Accuracy for pot-one-handle: 98.63%\n",
      "Cumulative Accuracy for pot-two-handles-medium: 72.55%\n",
      "Cumulative Accuracy for pot-two-handles-shallow: 95.10%\n",
      "Cumulative Accuracy for pot-two-handles-small: nan%\n",
      "Cumulative Accuracy for saucepan: 88.24%\n",
      "\n",
      "Mean Top 3 Accuracy (Val): 94.00%\n",
      "Mean Top 1 Accuracy (Val): 85.11%\n",
      "Macro-averaged Accuracy (Val): 83.12%\n",
      "Epoch 16 test loss: 28.921875\n",
      "\n",
      "[Test - End Epoch 17] GPU Memory: Allocated=2.30GB, Reserved=3.29GB\n",
      "\n",
      "Epoch 18/120\n",
      "[Train - Start Epoch 18] GPU Memory: Allocated=2.30GB, Reserved=3.29GB\n"
     ]
    },
    {
     "name": "stderr",
     "output_type": "stream",
     "text": [
      "\r  0%|          | 0/127.84375 [00:00<?, ?it/s]\r  1%|          | 1/127.84375 [00:07<15:55,  7.53s/it]\r  2%|▏         | 2/127.84375 [00:15<15:56,  7.60s/it]\r  2%|▏         | 3/127.84375 [00:22<15:41,  7.54s/it]\r  3%|▎         | 4/127.84375 [00:30<15:32,  7.53s/it]\r  4%|▍         | 5/127.84375 [00:37<15:30,  7.58s/it]\r  5%|▍         | 6/127.84375 [00:45<15:26,  7.61s/it]\r  5%|▌         | 7/127.84375 [00:52<15:15,  7.58s/it]\r  6%|▋         | 8/127.84375 [01:00<15:07,  7.57s/it]\r  7%|▋         | 9/127.84375 [01:08<15:00,  7.58s/it]\r  8%|▊         | 10/127.84375 [01:15<14:49,  7.54s/it]\r  9%|▊         | 11/127.84375 [01:23<14:43,  7.56s/it]\r  9%|▉         | 12/127.84375 [01:30<14:35,  7.56s/it]\r 10%|█         | 13/127.84375 [01:38<14:24,  7.53s/it]\r 11%|█         | 14/127.84375 [01:45<14:18,  7.54s/it]\r 12%|█▏        | 15/127.84375 [01:53<14:12,  7.56s/it]\r 13%|█▎        | 16/127.84375 [02:01<14:12,  7.62s/it]\r 13%|█▎        | 17/127.84375 [02:08<14:10,  7.67s/it]\r 14%|█▍        | 18/127.84375 [02:16<13:53,  7.59s/it]\r 15%|█▍        | 19/127.84375 [02:23<13:45,  7.58s/it]\r 16%|█▌        | 20/127.84375 [02:31<13:35,  7.56s/it]\r 16%|█▋        | 21/127.84375 [02:38<13:25,  7.54s/it]\r 17%|█▋        | 22/127.84375 [02:46<13:16,  7.52s/it]\r 18%|█▊        | 23/127.84375 [02:54<13:15,  7.59s/it]\r 19%|█▉        | 24/127.84375 [03:01<12:59,  7.51s/it]\r 20%|█▉        | 25/127.84375 [03:08<12:51,  7.50s/it]\r 20%|██        | 26/127.84375 [03:16<12:46,  7.53s/it]\r 21%|██        | 27/127.84375 [03:23<12:34,  7.48s/it]\r 22%|██▏       | 28/127.84375 [03:31<12:27,  7.49s/it]\r 23%|██▎       | 29/127.84375 [03:39<12:23,  7.52s/it]\r 23%|██▎       | 30/127.84375 [03:46<12:12,  7.48s/it]\r 24%|██▍       | 31/127.84375 [03:53<12:05,  7.49s/it]\r 25%|██▌       | 32/127.84375 [04:01<12:03,  7.55s/it]\r 26%|██▌       | 33/127.84375 [04:09<11:53,  7.52s/it]\r 27%|██▋       | 34/127.84375 [04:16<11:48,  7.55s/it]\r 27%|██▋       | 35/127.84375 [04:24<11:39,  7.53s/it]\r 28%|██▊       | 36/127.84375 [04:31<11:33,  7.55s/it]\r 29%|██▉       | 37/127.84375 [04:39<11:27,  7.56s/it]\r 30%|██▉       | 38/127.84375 [04:46<11:20,  7.58s/it]\r 31%|███       | 39/127.84375 [04:54<11:15,  7.60s/it]\r 31%|███▏      | 40/127.84375 [05:02<11:11,  7.64s/it]\r 32%|███▏      | 41/127.84375 [05:09<11:03,  7.64s/it]\r 33%|███▎      | 42/127.84375 [05:17<10:49,  7.57s/it]\r 34%|███▎      | 43/127.84375 [05:25<10:46,  7.62s/it]\r 34%|███▍      | 44/127.84375 [05:32<10:40,  7.64s/it]\r 35%|███▌      | 45/127.84375 [05:40<10:28,  7.58s/it]\r 36%|███▌      | 46/127.84375 [05:47<10:22,  7.61s/it]\r 37%|███▋      | 47/127.84375 [05:55<10:12,  7.57s/it]\r 38%|███▊      | 48/127.84375 [06:03<10:07,  7.61s/it]\r 38%|███▊      | 49/127.84375 [06:10<09:57,  7.58s/it]\r 39%|███▉      | 50/127.84375 [06:18<09:45,  7.52s/it]\r 40%|███▉      | 51/127.84375 [06:25<09:40,  7.55s/it]\r 41%|████      | 52/127.84375 [06:33<09:36,  7.60s/it]\r 41%|████▏     | 53/127.84375 [06:40<09:26,  7.57s/it]\r 42%|████▏     | 54/127.84375 [06:48<09:20,  7.59s/it]\r 43%|████▎     | 55/127.84375 [06:55<09:11,  7.56s/it]\r 44%|████▍     | 56/127.84375 [07:03<09:01,  7.53s/it]\r 45%|████▍     | 57/127.84375 [07:11<08:54,  7.55s/it]\r 45%|████▌     | 58/127.84375 [07:18<08:48,  7.57s/it]\r 46%|████▌     | 59/127.84375 [07:26<08:42,  7.58s/it]\r 47%|████▋     | 60/127.84375 [07:33<08:33,  7.57s/it]\r 48%|████▊     | 61/127.84375 [07:41<08:26,  7.58s/it]\r 48%|████▊     | 62/127.84375 [07:49<08:19,  7.59s/it]\r 49%|████▉     | 63/127.84375 [07:56<08:11,  7.58s/it]\r 50%|█████     | 64/127.84375 [08:04<08:02,  7.55s/it]\r 51%|█████     | 65/127.84375 [08:11<07:56,  7.58s/it]\r 52%|█████▏    | 66/127.84375 [08:19<07:48,  7.58s/it]\r 52%|█████▏    | 67/127.84375 [08:26<07:36,  7.51s/it]\r 53%|█████▎    | 68/127.84375 [08:34<07:30,  7.53s/it]\r 54%|█████▍    | 69/127.84375 [08:41<07:20,  7.48s/it]\r 55%|█████▍    | 70/127.84375 [08:49<07:15,  7.52s/it]\r 56%|█████▌    | 71/127.84375 [08:56<07:11,  7.59s/it]\r 56%|█████▋    | 72/127.84375 [09:04<07:03,  7.59s/it]\r 57%|█████▋    | 73/127.84375 [09:12<06:55,  7.58s/it]\r 58%|█████▊    | 74/127.84375 [09:19<06:48,  7.58s/it]\r 59%|█████▊    | 75/127.84375 [09:27<06:38,  7.54s/it]\r 59%|█████▉    | 76/127.84375 [09:34<06:29,  7.51s/it]\r 60%|██████    | 77/127.84375 [09:42<06:23,  7.54s/it]\r 61%|██████    | 78/127.84375 [09:49<06:17,  7.58s/it]\r 62%|██████▏   | 79/127.84375 [09:57<06:09,  7.56s/it]\r 63%|██████▎   | 80/127.84375 [10:04<06:02,  7.57s/it]\r 63%|██████▎   | 81/127.84375 [10:12<05:54,  7.58s/it]\r 64%|██████▍   | 82/127.84375 [10:20<05:46,  7.55s/it]\r 65%|██████▍   | 83/127.84375 [10:27<05:38,  7.54s/it]\r 66%|██████▌   | 84/127.84375 [10:35<05:31,  7.56s/it]\r 66%|██████▋   | 85/127.84375 [10:42<05:24,  7.58s/it]\r 67%|██████▋   | 86/127.84375 [10:50<05:17,  7.60s/it]\r 68%|██████▊   | 87/127.84375 [10:57<05:06,  7.51s/it]\r 69%|██████▉   | 88/127.84375 [11:05<04:59,  7.52s/it]\r 70%|██████▉   | 89/127.84375 [11:13<04:54,  7.58s/it]\r 70%|███████   | 90/127.84375 [11:20<04:46,  7.58s/it]\r 71%|███████   | 91/127.84375 [11:28<04:39,  7.59s/it]\r 72%|███████▏  | 92/127.84375 [11:35<04:31,  7.58s/it]\r 73%|███████▎  | 93/127.84375 [11:43<04:23,  7.55s/it]\r 74%|███████▎  | 94/127.84375 [11:50<04:16,  7.56s/it]\r 74%|███████▍  | 95/127.84375 [11:58<04:07,  7.54s/it]\r 75%|███████▌  | 96/127.84375 [12:05<03:59,  7.53s/it]\r 76%|███████▌  | 97/127.84375 [12:13<03:53,  7.56s/it]\r 77%|███████▋  | 98/127.84375 [12:21<03:45,  7.56s/it]\r 77%|███████▋  | 99/127.84375 [12:28<03:37,  7.54s/it]\r 78%|███████▊  | 100/127.84375 [12:36<03:30,  7.55s/it]\r 79%|███████▉  | 101/127.84375 [12:43<03:22,  7.56s/it]\r 80%|███████▉  | 102/127.84375 [12:51<03:15,  7.57s/it]\r 81%|████████  | 103/127.84375 [12:58<03:08,  7.59s/it]\r 81%|████████▏ | 104/127.84375 [13:06<03:01,  7.62s/it]\r 82%|████████▏ | 105/127.84375 [13:14<02:55,  7.66s/it]\r 83%|████████▎ | 106/127.84375 [13:21<02:45,  7.58s/it]\r 84%|████████▎ | 107/127.84375 [13:29<02:37,  7.55s/it]\r 84%|████████▍ | 108/127.84375 [13:36<02:29,  7.54s/it]\r 85%|████████▌ | 109/127.84375 [13:44<02:21,  7.50s/it]\r 86%|████████▌ | 110/127.84375 [13:51<02:13,  7.49s/it]\r 87%|████████▋ | 111/127.84375 [13:59<02:06,  7.51s/it]\r 88%|████████▊ | 112/127.84375 [14:06<01:59,  7.53s/it]\r 88%|████████▊ | 113/127.84375 [14:14<01:52,  7.55s/it]\r 89%|████████▉ | 114/127.84375 [14:21<01:44,  7.53s/it]\r 90%|████████▉ | 115/127.84375 [14:29<01:36,  7.55s/it]\r 91%|█████████ | 116/127.84375 [14:36<01:29,  7.55s/it]\r 92%|█████████▏| 117/127.84375 [14:44<01:21,  7.56s/it]\r 92%|█████████▏| 118/127.84375 [14:52<01:14,  7.58s/it]\r 93%|█████████▎| 119/127.84375 [14:59<01:06,  7.55s/it]\r 94%|█████████▍| 120/127.84375 [15:07<00:59,  7.55s/it]\r 95%|█████████▍| 121/127.84375 [15:14<00:51,  7.58s/it]\r 95%|█████████▌| 122/127.84375 [15:22<00:44,  7.57s/it]\r 96%|█████████▌| 123/127.84375 [15:29<00:36,  7.57s/it]\r 97%|█████████▋| 124/127.84375 [15:37<00:28,  7.54s/it]\r 98%|█████████▊| 125/127.84375 [15:45<00:21,  7.57s/it]\r 99%|█████████▊| 126/127.84375 [15:52<00:14,  7.60s/it]\r 99%|█████████▉| 127/127.84375 [16:00<00:06,  7.58s/it]/databricks/python/lib/python3.11/site-packages/tqdm/std.py:524: TqdmWarning: clamping frac to range [0, 1]\n",
      "  full_bar = Bar(frac,\n",
      "\r100%|██████████| 128/127.84375 [16:08<-1:59:59,  7.65s/it]\r129it [16:15,  7.63s/it]                                  \r130it [16:23,  7.66s/it]\r131it [16:30,  7.62s/it]\r132it [16:38,  7.59s/it]\r133it [16:45,  7.55s/it]\r134it [16:53,  7.56s/it]\r135it [17:01,  7.59s/it]\r136it [17:08,  7.59s/it]\r137it [17:16,  7.62s/it]\r138it [17:24,  7.61s/it]\r139it [17:31,  7.59s/it]\r140it [17:39,  7.59s/it]\r141it [17:46,  7.61s/it]\r142it [17:54,  7.56s/it]\r143it [18:02,  7.62s/it]\r144it [18:09,  7.65s/it]\r145it [18:17,  7.65s/it]\r146it [18:25,  7.68s/it]\r147it [18:32,  7.65s/it]\r148it [18:40,  7.57s/it]\r149it [18:47,  7.62s/it]\r150it [18:55,  7.62s/it]\r151it [19:02,  7.60s/it]\r152it [19:10,  7.66s/it]\r153it [19:18,  7.65s/it]\r154it [19:26,  7.68s/it]\r155it [19:33,  7.68s/it]\r156it [19:41,  7.67s/it]\r157it [19:49,  7.68s/it]\r158it [19:56,  7.65s/it]\r159it [20:04,  7.65s/it]\r160it [20:12,  7.66s/it]\r161it [20:19,  7.65s/it]\r162it [20:27,  7.73s/it]\r163it [20:35,  7.70s/it]\r164it [20:42,  7.65s/it]\r165it [20:50,  7.63s/it]\r166it [20:57,  7.60s/it]\r167it [21:05,  7.57s/it]\r168it [21:13,  7.60s/it]\r169it [21:20,  7.60s/it]\r170it [21:28,  7.59s/it]\r171it [21:35,  7.58s/it]\r172it [21:43,  7.57s/it]\r173it [21:50,  7.59s/it]\r174it [21:58,  7.62s/it]\r175it [22:06,  7.64s/it]\r176it [22:14,  7.64s/it]\r177it [22:21,  7.62s/it]\r178it [22:29,  7.63s/it]\r179it [22:36,  7.67s/it]\r180it [22:44,  7.66s/it]\r181it [22:52,  7.58s/it]\r182it [22:59,  7.61s/it]\r183it [23:07,  7.62s/it]\r184it [23:15,  7.69s/it]\r185it [23:22,  7.61s/it]\r186it [23:30,  7.60s/it]\r187it [23:37,  7.60s/it]\r188it [23:45,  7.61s/it]\r189it [23:53,  7.65s/it]\r190it [24:00,  7.67s/it]\r191it [24:08,  7.68s/it]\r192it [24:16,  7.68s/it]\r193it [24:23,  7.68s/it]\r194it [24:31,  7.66s/it]\r195it [24:39,  7.70s/it]\r196it [24:46,  7.66s/it]\r197it [24:54,  7.62s/it]\r198it [25:01,  7.60s/it]\r199it [25:09,  7.56s/it]\r200it [25:17,  7.61s/it]\r201it [25:24,  7.62s/it]\r202it [25:32,  7.61s/it]\r203it [25:40,  7.60s/it]\r204it [25:47,  7.64s/it]\r205it [25:55,  7.73s/it]\r206it [26:03,  7.75s/it]\r207it [26:11,  7.75s/it]\r208it [26:19,  7.78s/it]\r209it [26:26,  7.72s/it]\r210it [26:34,  7.70s/it]\r211it [26:41,  7.64s/it]\r212it [26:49,  7.62s/it]\r213it [26:57,  7.61s/it]\r214it [27:04,  7.60s/it]\r215it [27:12,  7.62s/it]\r216it [27:19,  7.61s/it]\r217it [27:27,  7.63s/it]\r218it [27:35,  7.65s/it]\r219it [27:42,  7.66s/it]\r220it [27:50,  7.63s/it]\r221it [27:58,  7.85s/it]\r222it [28:06,  7.77s/it]\r223it [28:14,  7.73s/it]\r224it [28:21,  7.67s/it]\r225it [28:29,  7.62s/it]\r226it [28:36,  7.55s/it]\r227it [28:44,  7.60s/it]\r228it [28:51,  7.59s/it]\r229it [28:59,  7.59s/it]\r230it [29:06,  7.57s/it]\r231it [29:14,  7.56s/it]\r232it [29:22,  7.62s/it]\r233it [29:29,  7.61s/it]\r234it [29:37,  7.63s/it]\r235it [29:44,  7.57s/it]\r236it [29:52,  7.63s/it]\r237it [30:00,  7.65s/it]\r238it [30:07,  7.60s/it]\r239it [30:15,  7.61s/it]\r240it [30:22,  7.60s/it]\r240it [30:22,  7.60s/it]\n"
     ]
    },
    {
     "name": "stdout",
     "output_type": "stream",
     "text": [
      "Epoch 17 train loss: 0.078125\n",
      "[Train - End / Test - Start Epoch 18] GPU Memory: Allocated=2.30GB, Reserved=3.39GB\n"
     ]
    },
    {
     "name": "stderr",
     "output_type": "stream",
     "text": [
      "\r  0%|          | 0/14.1875 [00:00<?, ?it/s]\r  7%|▋         | 1/14.1875 [00:06<01:28,  6.70s/it]\r 14%|█▍        | 2/14.1875 [00:13<01:22,  6.79s/it]\r 21%|██        | 3/14.1875 [00:20<01:15,  6.71s/it]\r 28%|██▊       | 4/14.1875 [00:26<01:08,  6.70s/it]\r 35%|███▌      | 5/14.1875 [00:33<01:01,  6.73s/it]\r 42%|████▏     | 6/14.1875 [00:40<00:54,  6.68s/it]\r 49%|████▉     | 7/14.1875 [00:46<00:48,  6.70s/it]\r 56%|█████▋    | 8/14.1875 [00:53<00:41,  6.70s/it]\r 63%|██████▎   | 9/14.1875 [01:00<00:34,  6.70s/it]\r 70%|███████   | 10/14.1875 [01:07<00:28,  6.70s/it]\r 78%|███████▊  | 11/14.1875 [01:13<00:21,  6.71s/it]\r 85%|████████▍ | 12/14.1875 [01:20<00:14,  6.71s/it]\r 92%|█████████▏| 13/14.1875 [01:27<00:07,  6.70s/it]\r 99%|█████████▊| 14/14.1875 [01:33<00:01,  6.70s/it]\r15it [01:40,  6.68s/it]                             \r16it [01:47,  6.68s/it]\r17it [01:53,  6.67s/it]\r18it [02:00,  6.68s/it]\r19it [02:07,  6.68s/it]\r20it [02:13,  6.68s/it]\r21it [02:20,  6.66s/it]\r22it [02:27,  6.63s/it]\r23it [02:33,  6.65s/it]\r24it [02:40,  6.65s/it]\r25it [02:47,  6.63s/it]\r26it [02:53,  6.66s/it]\r27it [03:00,  6.70s/it]\r28it [03:07,  6.71s/it]\r29it [03:13,  6.70s/it]\r30it [03:20,  6.70s/it]\r30it [03:20,  6.69s/it]\n"
     ]
    },
    {
     "name": "stdout",
     "output_type": "stream",
     "text": [
      "Cumulative Accuracy for CP: 69.81%\n",
      "Cumulative Accuracy for chopping-board: 89.44%\n",
      "Cumulative Accuracy for finalstep: 90.74%\n",
      "Cumulative Accuracy for glass-bowl-large: 71.48%\n",
      "Cumulative Accuracy for glass-bowl-medium: 68.70%\n",
      "Cumulative Accuracy for glass-bowl-small: 41.30%\n",
      "Cumulative Accuracy for grill-plate: nan%\n",
      "Cumulative Accuracy for group_step: 77.41%\n",
      "Cumulative Accuracy for medium: 92.59%\n",
      "Cumulative Accuracy for oven-dish: 95.37%\n",
      "Cumulative Accuracy for oven-tray: 95.56%\n",
      "Cumulative Accuracy for pan: 100.00%\n",
      "Cumulative Accuracy for pot-one-handle: 98.70%\n",
      "Cumulative Accuracy for pot-two-handles-medium: 73.33%\n",
      "Cumulative Accuracy for pot-two-handles-shallow: 95.37%\n",
      "Cumulative Accuracy for pot-two-handles-small: nan%\n",
      "Cumulative Accuracy for saucepan: 88.89%\n",
      "\n",
      "Mean Top 3 Accuracy (Val): 94.67%\n",
      "Mean Top 1 Accuracy (Val): 85.33%\n",
      "Macro-averaged Accuracy (Val): 83.25%\n",
      "Epoch 17 test loss: 28.296875\n",
      "\n",
      "[Test - End Epoch 18] GPU Memory: Allocated=2.30GB, Reserved=3.39GB\n",
      "\n",
      "Epoch 19/120\n",
      "[Train - Start Epoch 19] GPU Memory: Allocated=2.30GB, Reserved=3.39GB\n"
     ]
    },
    {
     "name": "stderr",
     "output_type": "stream",
     "text": [
      "\r  0%|          | 0/127.84375 [00:00<?, ?it/s]\r  1%|          | 1/127.84375 [00:07<16:00,  7.57s/it]\r  2%|▏         | 2/127.84375 [00:15<16:06,  7.68s/it]\r  2%|▏         | 3/127.84375 [00:22<15:48,  7.60s/it]\r  3%|▎         | 4/127.84375 [00:30<15:43,  7.62s/it]\r  4%|▍         | 5/127.84375 [00:38<15:37,  7.63s/it]\r  5%|▍         | 6/127.84375 [00:45<15:36,  7.68s/it]\r  5%|▌         | 7/127.84375 [00:53<15:26,  7.67s/it]\r  6%|▋         | 8/127.84375 [01:01<15:17,  7.65s/it]\r  7%|▋         | 9/127.84375 [01:08<15:02,  7.60s/it]\r  8%|▊         | 10/127.84375 [01:16<14:59,  7.63s/it]\r  9%|▊         | 11/127.84375 [01:24<14:55,  7.66s/it]\r  9%|▉         | 12/127.84375 [01:31<14:48,  7.67s/it]\r 10%|█         | 13/127.84375 [01:39<14:37,  7.64s/it]\r 11%|█         | 14/127.84375 [01:47<14:33,  7.67s/it]\r 12%|█▏        | 15/127.84375 [01:54<14:28,  7.69s/it]\r 13%|█▎        | 16/127.84375 [02:02<14:21,  7.70s/it]\r 13%|█▎        | 17/127.84375 [02:10<14:13,  7.70s/it]\r 14%|█▍        | 18/127.84375 [02:17<14:04,  7.69s/it]\r 15%|█▍        | 19/127.84375 [02:25<13:55,  7.68s/it]\r 16%|█▌        | 20/127.84375 [02:33<13:43,  7.63s/it]\r 16%|█▋        | 21/127.84375 [02:40<13:39,  7.67s/it]\r 17%|█▋        | 22/127.84375 [02:48<13:29,  7.65s/it]\r 18%|█▊        | 23/127.84375 [02:56<13:24,  7.67s/it]\r 19%|█▉        | 24/127.84375 [03:03<13:19,  7.70s/it]\r 20%|█▉        | 25/127.84375 [03:11<13:10,  7.68s/it]\r 20%|██        | 26/127.84375 [03:19<13:01,  7.67s/it]\r 21%|██        | 27/127.84375 [03:27<12:56,  7.70s/it]\r 22%|██▏       | 28/127.84375 [03:34<12:44,  7.66s/it]\r 23%|██▎       | 29/127.84375 [03:42<12:37,  7.67s/it]\r 23%|██▎       | 30/127.84375 [03:49<12:25,  7.61s/it]\r 24%|██▍       | 31/127.84375 [03:57<12:12,  7.56s/it]\r 25%|██▌       | 32/127.84375 [04:04<12:06,  7.58s/it]\r 26%|██▌       | 33/127.84375 [04:12<11:57,  7.57s/it]\r 27%|██▋       | 34/127.84375 [04:19<11:50,  7.58s/it]\r 27%|██▋       | 35/127.84375 [04:27<11:43,  7.57s/it]\r 28%|██▊       | 36/127.84375 [04:35<11:36,  7.58s/it]\r 29%|██▉       | 37/127.84375 [04:42<11:33,  7.63s/it]\r 30%|██▉       | 38/127.84375 [04:50<11:25,  7.63s/it]\r 31%|███       | 39/127.84375 [04:58<11:17,  7.62s/it]\r 31%|███▏      | 40/127.84375 [05:05<11:10,  7.63s/it]\r 32%|███▏      | 41/127.84375 [05:13<11:00,  7.60s/it]\r 33%|███▎      | 42/127.84375 [05:20<10:50,  7.58s/it]\r 34%|███▎      | 43/127.84375 [05:28<10:39,  7.53s/it]\r 34%|███▍      | 44/127.84375 [05:35<10:30,  7.52s/it]\r 35%|███▌      | 45/127.84375 [05:43<10:25,  7.55s/it]\r 36%|███▌      | 46/127.84375 [05:50<10:18,  7.56s/it]\r 37%|███▋      | 47/127.84375 [05:58<10:11,  7.56s/it]\r 38%|███▊      | 48/127.84375 [06:06<10:04,  7.57s/it]\r 38%|███▊      | 49/127.84375 [06:13<09:55,  7.56s/it]\r 39%|███▉      | 50/127.84375 [06:21<09:48,  7.56s/it]\r 40%|███▉      | 51/127.84375 [06:28<09:41,  7.57s/it]\r 41%|████      | 52/127.84375 [06:36<09:35,  7.58s/it]\r 41%|████▏     | 53/127.84375 [06:43<09:28,  7.59s/it]\r 42%|████▏     | 54/127.84375 [06:51<09:23,  7.63s/it]\r 43%|████▎     | 55/127.84375 [06:59<09:17,  7.65s/it]\r 44%|████▍     | 56/127.84375 [07:06<09:07,  7.62s/it]\r 45%|████▍     | 57/127.84375 [07:14<09:05,  7.70s/it]\r 45%|████▌     | 58/127.84375 [07:22<08:55,  7.66s/it]\r 46%|████▌     | 59/127.84375 [07:29<08:44,  7.62s/it]\r 47%|████▋     | 60/127.84375 [07:37<08:36,  7.62s/it]\r 48%|████▊     | 61/127.84375 [07:45<08:29,  7.62s/it]\r 48%|████▊     | 62/127.84375 [07:52<08:23,  7.64s/it]\r 49%|████▉     | 63/127.84375 [08:00<08:16,  7.65s/it]\r 50%|█████     | 64/127.84375 [08:08<08:12,  7.71s/it]\r 51%|█████     | 65/127.84375 [08:16<08:07,  7.75s/it]\r 52%|█████▏    | 66/127.84375 [08:23<07:55,  7.69s/it]\r 52%|█████▏    | 67/127.84375 [08:31<07:49,  7.72s/it]\r 53%|█████▎    | 68/127.84375 [08:39<07:39,  7.68s/it]\r 54%|█████▍    | 69/127.84375 [08:46<07:30,  7.65s/it]\r 55%|█████▍    | 70/127.84375 [08:54<07:23,  7.66s/it]\r 56%|█████▌    | 71/127.84375 [09:02<07:15,  7.67s/it]\r 56%|█████▋    | 72/127.84375 [09:09<07:05,  7.62s/it]\r 57%|█████▋    | 73/127.84375 [09:17<06:58,  7.62s/it]\r 58%|█████▊    | 74/127.84375 [09:25<06:53,  7.69s/it]\r 59%|█████▊    | 75/127.84375 [09:32<06:45,  7.68s/it]\r 59%|█████▉    | 76/127.84375 [09:40<06:37,  7.67s/it]\r 60%|██████    | 77/127.84375 [09:48<06:28,  7.64s/it]\r 61%|██████    | 78/127.84375 [09:55<06:19,  7.62s/it]\r 62%|██████▏   | 79/127.84375 [10:03<06:14,  7.68s/it]\r 63%|██████▎   | 80/127.84375 [10:10<06:05,  7.64s/it]\r 63%|██████▎   | 81/127.84375 [10:18<05:55,  7.59s/it]\r 64%|██████▍   | 82/127.84375 [10:26<05:49,  7.62s/it]\r 65%|██████▍   | 83/127.84375 [10:33<05:41,  7.61s/it]\r 66%|██████▌   | 84/127.84375 [10:41<05:33,  7.61s/it]\r 66%|██████▋   | 85/127.84375 [10:48<05:26,  7.62s/it]\r 67%|██████▋   | 86/127.84375 [10:56<05:20,  7.67s/it]\r 68%|██████▊   | 87/127.84375 [11:04<05:13,  7.67s/it]\r 69%|██████▉   | 88/127.84375 [11:12<05:05,  7.66s/it]\r 70%|██████▉   | 89/127.84375 [11:19<04:57,  7.66s/it]\r 70%|███████   | 90/127.84375 [11:27<04:49,  7.65s/it]\r 71%|███████   | 91/127.84375 [11:35<04:42,  7.68s/it]\r 72%|███████▏  | 92/127.84375 [11:42<04:35,  7.68s/it]\r 73%|███████▎  | 93/127.84375 [11:50<04:27,  7.69s/it]\r 74%|███████▎  | 94/127.84375 [11:57<04:18,  7.64s/it]\r 74%|███████▍  | 95/127.84375 [12:05<04:12,  7.68s/it]\r 75%|███████▌  | 96/127.84375 [12:13<04:04,  7.67s/it]\r 76%|███████▌  | 97/127.84375 [12:21<03:57,  7.69s/it]\r 77%|███████▋  | 98/127.84375 [12:28<03:48,  7.65s/it]\r 77%|███████▋  | 99/127.84375 [12:36<03:40,  7.63s/it]\r 78%|███████▊  | 100/127.84375 [12:43<03:32,  7.62s/it]\r 79%|███████▉  | 101/127.84375 [12:51<03:25,  7.64s/it]\r 80%|███████▉  | 102/127.84375 [12:59<03:16,  7.61s/it]\r 81%|████████  | 103/127.84375 [13:06<03:09,  7.61s/it]\r 81%|████████▏ | 104/127.84375 [13:14<03:02,  7.66s/it]\r 82%|████████▏ | 105/127.84375 [13:22<02:55,  7.67s/it]\r 83%|████████▎ | 106/127.84375 [13:29<02:47,  7.69s/it]\r 84%|████████▎ | 107/127.84375 [13:37<02:41,  7.73s/it]\r 84%|████████▍ | 108/127.84375 [13:45<02:33,  7.74s/it]\r 85%|████████▌ | 109/127.84375 [13:53<02:25,  7.72s/it]\r 86%|████████▌ | 110/127.84375 [14:00<02:17,  7.70s/it]\r 87%|████████▋ | 111/127.84375 [14:08<02:09,  7.70s/it]\r 88%|████████▊ | 112/127.84375 [14:16<02:01,  7.65s/it]\r 88%|████████▊ | 113/127.84375 [14:23<01:53,  7.62s/it]\r 89%|████████▉ | 114/127.84375 [14:31<01:46,  7.66s/it]\r 90%|████████▉ | 115/127.84375 [14:38<01:38,  7.64s/it]\r 91%|█████████ | 116/127.84375 [14:46<01:30,  7.60s/it]\r 92%|█████████▏| 117/127.84375 [14:53<01:21,  7.54s/it]\r 92%|█████████▏| 118/127.84375 [15:01<01:14,  7.58s/it]\r 93%|█████████▎| 119/127.84375 [15:09<01:07,  7.62s/it]\r 94%|█████████▍| 120/127.84375 [15:16<00:59,  7.61s/it]\r 95%|█████████▍| 121/127.84375 [15:24<00:51,  7.52s/it]\r 95%|█████████▌| 122/127.84375 [15:31<00:44,  7.57s/it]\r 96%|█████████▌| 123/127.84375 [15:39<00:36,  7.62s/it]\r 97%|█████████▋| 124/127.84375 [15:47<00:29,  7.65s/it]\r 98%|█████████▊| 125/127.84375 [15:54<00:21,  7.66s/it]\r 99%|█████████▊| 126/127.84375 [16:02<00:14,  7.71s/it]\r 99%|█████████▉| 127/127.84375 [16:10<00:06,  7.70s/it]/databricks/python/lib/python3.11/site-packages/tqdm/std.py:524: TqdmWarning: clamping frac to range [0, 1]\n",
      "  full_bar = Bar(frac,\n",
      "\r100%|██████████| 128/127.84375 [16:17<-1:59:59,  7.65s/it]\r129it [16:25,  7.67s/it]                                  \r130it [16:33,  7.74s/it]\r131it [16:41,  7.71s/it]\r132it [16:49,  7.74s/it]\r133it [16:56,  7.70s/it]\r134it [17:04,  7.67s/it]\r135it [17:11,  7.64s/it]\r136it [17:19,  7.63s/it]\r137it [17:27,  7.63s/it]\r138it [17:34,  7.63s/it]\r139it [17:42,  7.63s/it]\r140it [17:49,  7.61s/it]\r141it [17:57,  7.64s/it]\r142it [18:05,  7.63s/it]\r143it [18:12,  7.63s/it]\r144it [18:20,  7.59s/it]\r145it [18:27,  7.57s/it]\r146it [18:35,  7.56s/it]\r147it [18:42,  7.57s/it]\r148it [18:50,  7.59s/it]\r149it [18:58,  7.59s/it]\r150it [19:05,  7.59s/it]\r151it [19:13,  7.58s/it]\r152it [19:21,  7.66s/it]\r153it [19:28,  7.63s/it]\r154it [19:36,  7.64s/it]\r155it [19:43,  7.62s/it]\r156it [19:51,  7.60s/it]\r157it [19:59,  7.61s/it]\r158it [20:06,  7.60s/it]\r159it [20:14,  7.61s/it]\r160it [20:21,  7.58s/it]\r161it [20:29,  7.59s/it]\r162it [20:37,  7.61s/it]\r163it [20:44,  7.59s/it]\r164it [20:52,  7.63s/it]\r165it [21:00,  7.67s/it]\r166it [21:07,  7.60s/it]\r167it [21:15,  7.60s/it]\r168it [21:22,  7.60s/it]\r169it [21:30,  7.63s/it]\r170it [21:38,  7.63s/it]\r171it [21:45,  7.66s/it]\r172it [21:53,  7.69s/it]\r173it [22:01,  7.67s/it]\r174it [22:08,  7.68s/it]\r175it [22:16,  7.76s/it]\r176it [22:24,  7.77s/it]\r177it [22:32,  7.72s/it]\r178it [22:39,  7.68s/it]\r179it [22:47,  7.66s/it]\r180it [22:55,  7.64s/it]\r181it [23:02,  7.57s/it]\r182it [23:10,  7.58s/it]\r183it [23:17,  7.58s/it]\r184it [23:25,  7.56s/it]\r185it [23:33,  7.66s/it]\r186it [23:40,  7.65s/it]\r187it [23:48,  7.65s/it]\r188it [23:55,  7.64s/it]\r189it [24:03,  7.65s/it]\r190it [24:11,  7.61s/it]\r191it [24:18,  7.57s/it]\r192it [24:26,  7.60s/it]\r193it [24:33,  7.58s/it]\r194it [24:41,  7.56s/it]\r195it [24:48,  7.54s/it]\r196it [24:56,  7.58s/it]\r197it [25:04,  7.60s/it]\r198it [25:11,  7.59s/it]\r199it [25:19,  7.55s/it]\r200it [25:26,  7.55s/it]\r201it [25:34,  7.57s/it]\r202it [25:41,  7.53s/it]\r203it [25:49,  7.57s/it]\r204it [25:57,  7.55s/it]\r205it [26:04,  7.54s/it]\r206it [26:12,  7.59s/it]\r207it [26:19,  7.61s/it]\r208it [26:27,  7.60s/it]\r209it [26:34,  7.57s/it]\r210it [26:42,  7.63s/it]\r211it [26:50,  7.65s/it]\r212it [26:58,  7.68s/it]\r213it [27:06,  7.75s/it]\r214it [27:13,  7.72s/it]\r215it [27:21,  7.71s/it]\r216it [27:29,  7.68s/it]\r217it [27:36,  7.68s/it]\r218it [27:44,  7.65s/it]\r219it [27:51,  7.62s/it]\r220it [27:59,  7.55s/it]\r221it [28:06,  7.59s/it]\r222it [28:14,  7.59s/it]\r223it [28:22,  7.59s/it]\r224it [28:29,  7.59s/it]\r225it [28:37,  7.65s/it]\r226it [28:45,  7.67s/it]\r227it [28:52,  7.64s/it]\r228it [29:00,  7.60s/it]\r229it [29:07,  7.61s/it]\r230it [29:15,  7.62s/it]\r231it [29:23,  7.65s/it]\r232it [29:30,  7.63s/it]\r233it [29:38,  7.63s/it]\r234it [29:46,  7.61s/it]\r235it [29:53,  7.66s/it]\r236it [30:01,  7.61s/it]\r237it [30:08,  7.60s/it]\r238it [30:16,  7.59s/it]\r239it [30:23,  7.56s/it]\r240it [30:31,  7.57s/it]\r240it [30:31,  7.63s/it]\n"
     ]
    },
    {
     "name": "stdout",
     "output_type": "stream",
     "text": [
      "Epoch 18 train loss: 0.0596923828125\n",
      "[Train - End / Test - Start Epoch 19] GPU Memory: Allocated=2.30GB, Reserved=3.39GB\n"
     ]
    },
    {
     "name": "stderr",
     "output_type": "stream",
     "text": [
      "\r  0%|          | 0/14.1875 [00:00<?, ?it/s]\r  7%|▋         | 1/14.1875 [00:06<01:25,  6.50s/it]\r 14%|█▍        | 2/14.1875 [00:13<01:20,  6.62s/it]\r 21%|██        | 3/14.1875 [00:19<01:13,  6.61s/it]\r 28%|██▊       | 4/14.1875 [00:26<01:07,  6.59s/it]\r 35%|███▌      | 5/14.1875 [00:33<01:00,  6.62s/it]\r 42%|████▏     | 6/14.1875 [00:39<00:54,  6.68s/it]\r 49%|████▉     | 7/14.1875 [00:46<00:47,  6.64s/it]\r 56%|█████▋    | 8/14.1875 [00:52<00:40,  6.63s/it]\r 63%|██████▎   | 9/14.1875 [00:59<00:34,  6.63s/it]\r 70%|███████   | 10/14.1875 [01:06<00:27,  6.60s/it]\r 78%|███████▊  | 11/14.1875 [01:12<00:21,  6.63s/it]\r 85%|████████▍ | 12/14.1875 [01:19<00:14,  6.60s/it]\r 92%|█████████▏| 13/14.1875 [01:26<00:07,  6.65s/it]\r 99%|█████████▊| 14/14.1875 [01:32<00:01,  6.66s/it]\r15it [01:39,  6.58s/it]                             \r16it [01:45,  6.64s/it]\r17it [01:52,  6.67s/it]\r18it [01:59,  6.68s/it]\r19it [02:06,  6.67s/it]\r20it [02:12,  6.63s/it]\r21it [02:19,  6.61s/it]\r22it [02:25,  6.58s/it]\r23it [02:32,  6.55s/it]\r24it [02:38,  6.59s/it]\r25it [02:45,  6.61s/it]\r26it [02:52,  6.59s/it]\r27it [02:58,  6.63s/it]\r28it [03:05,  6.66s/it]\r29it [03:12,  6.66s/it]\r30it [03:18,  6.68s/it]\r30it [03:18,  6.63s/it]\n"
     ]
    },
    {
     "name": "stdout",
     "output_type": "stream",
     "text": [
      "Cumulative Accuracy for CP: 69.65%\n",
      "Cumulative Accuracy for chopping-board: 89.82%\n",
      "Cumulative Accuracy for finalstep: 91.05%\n",
      "Cumulative Accuracy for glass-bowl-large: 71.93%\n",
      "Cumulative Accuracy for glass-bowl-medium: 69.12%\n",
      "Cumulative Accuracy for glass-bowl-small: 40.88%\n",
      "Cumulative Accuracy for grill-plate: nan%\n",
      "Cumulative Accuracy for group_step: 76.84%\n",
      "Cumulative Accuracy for medium: 92.81%\n",
      "Cumulative Accuracy for oven-dish: 95.61%\n",
      "Cumulative Accuracy for oven-tray: 95.79%\n",
      "Cumulative Accuracy for pan: 100.00%\n",
      "Cumulative Accuracy for pot-one-handle: 98.77%\n",
      "Cumulative Accuracy for pot-two-handles-medium: 74.21%\n",
      "Cumulative Accuracy for pot-two-handles-shallow: 95.61%\n",
      "Cumulative Accuracy for pot-two-handles-small: nan%\n",
      "Cumulative Accuracy for saucepan: 89.47%\n",
      "\n",
      "Mean Top 3 Accuracy (Val): 92.67%\n",
      "Mean Top 1 Accuracy (Val): 86.89%\n",
      "Macro-averaged Accuracy (Val): 83.44%\n",
      "Epoch 18 test loss: 28.109375\n",
      "\n",
      "[Test - End Epoch 19] GPU Memory: Allocated=2.30GB, Reserved=3.39GB\n",
      "\n",
      "Epoch 20/120\n",
      "[Train - Start Epoch 20] GPU Memory: Allocated=2.30GB, Reserved=3.39GB\n"
     ]
    },
    {
     "name": "stderr",
     "output_type": "stream",
     "text": [
      "\r  0%|          | 0/127.84375 [00:00<?, ?it/s]\r  1%|          | 1/127.84375 [00:07<16:25,  7.77s/it]\r  2%|▏         | 2/127.84375 [00:15<16:14,  7.74s/it]\r  2%|▏         | 3/127.84375 [00:23<15:57,  7.67s/it]\r  3%|▎         | 4/127.84375 [00:30<15:51,  7.68s/it]\r  4%|▍         | 5/127.84375 [00:38<15:48,  7.72s/it]\r  5%|▍         | 6/127.84375 [00:46<15:29,  7.63s/it]\r  5%|▌         | 7/127.84375 [00:53<15:17,  7.59s/it]\r  6%|▋         | 8/127.84375 [01:01<15:14,  7.63s/it]\r  7%|▋         | 9/127.84375 [01:08<15:05,  7.62s/it]\r  8%|▊         | 10/127.84375 [01:16<14:58,  7.63s/it]\r  9%|▊         | 11/127.84375 [01:24<14:50,  7.62s/it]\r  9%|▉         | 12/127.84375 [01:31<14:47,  7.66s/it]\r 10%|█         | 13/127.84375 [01:39<14:37,  7.64s/it]\r 11%|█         | 14/127.84375 [01:47<14:33,  7.68s/it]\r 12%|█▏        | 15/127.84375 [01:54<14:26,  7.68s/it]\r 13%|█▎        | 16/127.84375 [02:02<14:19,  7.68s/it]\r 13%|█▎        | 17/127.84375 [02:10<14:09,  7.66s/it]\r 14%|█▍        | 18/127.84375 [02:17<14:01,  7.66s/it]\r 15%|█▍        | 19/127.84375 [02:25<13:52,  7.65s/it]\r 16%|█▌        | 20/127.84375 [02:33<13:45,  7.66s/it]\r 16%|█▋        | 21/127.84375 [02:40<13:37,  7.65s/it]\r 17%|█▋        | 22/127.84375 [02:48<13:25,  7.61s/it]\r 18%|█▊        | 23/127.84375 [02:56<13:24,  7.67s/it]\r 19%|█▉        | 24/127.84375 [03:03<13:17,  7.68s/it]\r 20%|█▉        | 25/127.84375 [03:11<13:03,  7.62s/it]\r 20%|██        | 26/127.84375 [03:19<12:59,  7.65s/it]\r 21%|██        | 27/127.84375 [03:26<12:54,  7.68s/it]\r 22%|██▏       | 28/127.84375 [03:34<12:45,  7.67s/it]\r 23%|██▎       | 29/127.84375 [03:42<12:40,  7.69s/it]\r 23%|██▎       | 30/127.84375 [03:49<12:28,  7.65s/it]\r 24%|██▍       | 31/127.84375 [03:57<12:25,  7.70s/it]\r 25%|██▌       | 32/127.84375 [04:05<12:19,  7.71s/it]\r 26%|██▌       | 33/127.84375 [04:12<12:02,  7.62s/it]\r 27%|██▋       | 34/127.84375 [04:20<11:57,  7.65s/it]\r 27%|██▋       | 35/127.84375 [04:28<11:53,  7.68s/it]\r 28%|██▊       | 36/127.84375 [04:35<11:45,  7.68s/it]\r 29%|██▉       | 37/127.84375 [04:43<11:39,  7.70s/it]\r 30%|██▉       | 38/127.84375 [04:51<11:29,  7.67s/it]\r 31%|███       | 39/127.84375 [04:58<11:20,  7.66s/it]\r 31%|███▏      | 40/127.84375 [05:06<11:15,  7.69s/it]\r 32%|███▏      | 41/127.84375 [05:14<11:07,  7.69s/it]\r 33%|███▎      | 42/127.84375 [05:21<10:59,  7.68s/it]\r 34%|███▎      | 43/127.84375 [05:29<10:49,  7.66s/it]\r 34%|███▍      | 44/127.84375 [05:37<10:43,  7.67s/it]\r 35%|███▌      | 45/127.84375 [05:44<10:34,  7.65s/it]\r 36%|███▌      | 46/127.84375 [05:52<10:21,  7.60s/it]\r 37%|███▋      | 47/127.84375 [05:59<10:14,  7.61s/it]\r 38%|███▊      | 48/127.84375 [06:07<10:02,  7.54s/it]\r 38%|███▊      | 49/127.84375 [06:14<09:56,  7.57s/it]\r 39%|███▉      | 50/127.84375 [06:22<09:48,  7.56s/it]\r 40%|███▉      | 51/127.84375 [06:30<09:41,  7.57s/it]\r 41%|████      | 52/127.84375 [06:37<09:34,  7.58s/it]\r 41%|████▏     | 53/127.84375 [06:45<09:28,  7.60s/it]\r 42%|████▏     | 54/127.84375 [06:52<09:20,  7.60s/it]\r 43%|████▎     | 55/127.84375 [07:00<09:13,  7.60s/it]\r 44%|████▍     | 56/127.84375 [07:08<09:06,  7.61s/it]\r 45%|████▍     | 57/127.84375 [07:15<08:58,  7.60s/it]\r 45%|████▌     | 58/127.84375 [07:23<08:51,  7.61s/it]\r 46%|████▌     | 59/127.84375 [07:30<08:43,  7.61s/it]\r 47%|████▋     | 60/127.84375 [07:38<08:36,  7.61s/it]\r 48%|████▊     | 61/127.84375 [07:46<08:27,  7.59s/it]\r 48%|████▊     | 62/127.84375 [07:53<08:19,  7.58s/it]\r 49%|████▉     | 63/127.84375 [08:01<08:13,  7.61s/it]\r 50%|█████     | 64/127.84375 [08:08<08:04,  7.59s/it]\r 51%|█████     | 65/127.84375 [08:16<07:55,  7.56s/it]\r 52%|█████▏    | 66/127.84375 [08:24<07:49,  7.59s/it]\r 52%|█████▏    | 67/127.84375 [08:31<07:42,  7.60s/it]\r 53%|█████▎    | 68/127.84375 [08:39<07:35,  7.60s/it]\r 54%|█████▍    | 69/127.84375 [08:46<07:26,  7.58s/it]\r 55%|█████▍    | 70/127.84375 [08:54<07:19,  7.60s/it]\r 56%|█████▌    | 71/127.84375 [09:02<07:11,  7.58s/it]\r 56%|█████▋    | 72/127.84375 [09:09<07:06,  7.64s/it]\r 57%|█████▋    | 73/127.84375 [09:17<06:58,  7.62s/it]\r 58%|█████▊    | 74/127.84375 [09:24<06:50,  7.62s/it]\r 59%|█████▊    | 75/127.84375 [09:32<06:44,  7.65s/it]\r 59%|█████▉    | 76/127.84375 [09:40<06:36,  7.65s/it]\r 60%|██████    | 77/127.84375 [09:48<06:29,  7.66s/it]\r 61%|██████    | 78/127.84375 [09:55<06:21,  7.65s/it]\r 62%|██████▏   | 79/127.84375 [10:03<06:13,  7.65s/it]\r 63%|██████▎   | 80/127.84375 [10:10<06:03,  7.59s/it]\r 63%|██████▎   | 81/127.84375 [10:18<05:54,  7.57s/it]\r 64%|██████▍   | 82/127.84375 [10:25<05:48,  7.60s/it]\r 65%|██████▍   | 83/127.84375 [10:33<05:40,  7.59s/it]\r 66%|██████▌   | 84/127.84375 [10:41<05:33,  7.61s/it]\r 66%|██████▋   | 85/127.84375 [10:48<05:25,  7.61s/it]\r 67%|██████▋   | 86/127.84375 [10:56<05:18,  7.61s/it]\r 68%|██████▊   | 87/127.84375 [11:04<05:11,  7.63s/it]\r 69%|██████▉   | 88/127.84375 [11:11<05:03,  7.63s/it]\r 70%|██████▉   | 89/127.84375 [11:19<04:56,  7.64s/it]\r 70%|███████   | 90/127.84375 [11:26<04:48,  7.64s/it]\r 71%|███████   | 91/127.84375 [11:34<04:43,  7.68s/it]\r 72%|███████▏  | 92/127.84375 [11:42<04:34,  7.66s/it]\r 73%|███████▎  | 93/127.84375 [11:50<04:27,  7.67s/it]\r 74%|███████▎  | 94/127.84375 [11:57<04:18,  7.63s/it]\r 74%|███████▍  | 95/127.84375 [12:05<04:10,  7.63s/it]\r 75%|███████▌  | 96/127.84375 [12:12<04:01,  7.57s/it]\r 76%|███████▌  | 97/127.84375 [12:20<03:54,  7.62s/it]\r 77%|███████▋  | 98/127.84375 [12:28<03:51,  7.75s/it]\r 77%|███████▋  | 99/127.84375 [12:36<03:43,  7.74s/it]\r 78%|███████▊  | 100/127.84375 [12:43<03:35,  7.74s/it]\r 79%|███████▉  | 101/127.84375 [12:51<03:26,  7.71s/it]\r 80%|███████▉  | 102/127.84375 [12:59<03:18,  7.68s/it]\r 81%|████████  | 103/127.84375 [13:06<03:10,  7.66s/it]\r 81%|████████▏ | 104/127.84375 [13:14<03:02,  7.65s/it]\r 82%|████████▏ | 105/127.84375 [13:22<02:55,  7.66s/it]\r 83%|████████▎ | 106/127.84375 [13:29<02:47,  7.66s/it]\r 84%|████████▎ | 107/127.84375 [13:37<02:39,  7.63s/it]\r 84%|████████▍ | 108/127.84375 [13:44<02:31,  7.62s/it]\r 85%|████████▌ | 109/127.84375 [13:52<02:23,  7.63s/it]\r 86%|████████▌ | 110/127.84375 [13:59<02:14,  7.56s/it]\r 87%|████████▋ | 111/127.84375 [14:07<02:08,  7.61s/it]\r 88%|████████▊ | 112/127.84375 [14:14<01:59,  7.52s/it]\r 88%|████████▊ | 113/127.84375 [14:22<01:52,  7.58s/it]\r 89%|████████▉ | 114/127.84375 [14:30<01:44,  7.58s/it]\r 90%|████████▉ | 115/127.84375 [14:37<01:36,  7.54s/it]\r 91%|█████████ | 116/127.84375 [14:45<01:30,  7.61s/it]\r 92%|█████████▏| 117/127.84375 [14:53<01:22,  7.62s/it]\r 92%|█████████▏| 118/127.84375 [15:00<01:15,  7.62s/it]\r 93%|█████████▎| 119/127.84375 [15:08<01:07,  7.59s/it]\r 94%|█████████▍| 120/127.84375 [15:16<00:59,  7.65s/it]\r 95%|█████████▍| 121/127.84375 [15:23<00:51,  7.59s/it]\r 95%|█████████▌| 122/127.84375 [15:31<00:44,  7.61s/it]\r 96%|█████████▌| 123/127.84375 [15:38<00:36,  7.62s/it]\r 97%|█████████▋| 124/127.84375 [15:46<00:29,  7.62s/it]\r 98%|█████████▊| 125/127.84375 [15:53<00:21,  7.54s/it]\r 99%|█████████▊| 126/127.84375 [16:01<00:13,  7.56s/it]\r 99%|█████████▉| 127/127.84375 [16:09<00:06,  7.58s/it]/databricks/python/lib/python3.11/site-packages/tqdm/std.py:524: TqdmWarning: clamping frac to range [0, 1]\n",
      "  full_bar = Bar(frac,\n",
      "\r100%|██████████| 128/127.84375 [16:16<-1:59:59,  7.60s/it]\r129it [16:24,  7.60s/it]                                  \r130it [16:31,  7.60s/it]\r131it [16:39,  7.60s/it]\r132it [16:47,  7.61s/it]\r133it [16:54,  7.58s/it]\r134it [17:02,  7.65s/it]\r135it [17:10,  7.65s/it]\r136it [17:17,  7.72s/it]\r137it [17:25,  7.68s/it]\r138it [17:33,  7.66s/it]\r139it [17:40,  7.63s/it]\r140it [17:48,  7.65s/it]\r141it [17:56,  7.67s/it]\r142it [18:03,  7.64s/it]\r143it [18:11,  7.69s/it]\r144it [18:18,  7.61s/it]\r145it [18:26,  7.63s/it]\r146it [18:34,  7.58s/it]\r147it [18:41,  7.62s/it]\r148it [18:49,  7.60s/it]\r149it [18:56,  7.60s/it]\r150it [19:04,  7.63s/it]\r151it [19:12,  7.58s/it]\r152it [19:19,  7.58s/it]\r153it [19:27,  7.60s/it]\r154it [19:34,  7.56s/it]\r155it [19:42,  7.56s/it]\r156it [19:50,  7.62s/it]\r157it [19:57,  7.61s/it]\r158it [20:05,  7.60s/it]\r159it [20:12,  7.61s/it]\r160it [20:20,  7.65s/it]\r161it [20:28,  7.66s/it]\r162it [20:35,  7.61s/it]\r163it [20:43,  7.62s/it]\r164it [20:51,  7.63s/it]\r165it [20:58,  7.63s/it]\r166it [21:06,  7.61s/it]\r167it [21:14,  7.63s/it]\r168it [21:21,  7.67s/it]\r169it [21:29,  7.73s/it]\r170it [21:37,  7.68s/it]\r171it [21:44,  7.67s/it]\r172it [21:52,  7.65s/it]\r173it [22:00,  7.62s/it]\r174it [22:07,  7.63s/it]\r175it [22:15,  7.66s/it]\r176it [22:22,  7.61s/it]\r177it [22:30,  7.67s/it]\r178it [22:38,  7.68s/it]\r179it [22:46,  7.68s/it]\r180it [22:53,  7.69s/it]\r181it [23:01,  7.68s/it]\r182it [23:09,  7.70s/it]\r183it [23:16,  7.63s/it]\r184it [23:24,  7.65s/it]\r185it [23:31,  7.64s/it]\r186it [23:39,  7.62s/it]\r187it [23:47,  7.61s/it]\r188it [23:54,  7.60s/it]\r189it [24:02,  7.62s/it]\r190it [24:09,  7.59s/it]\r191it [24:17,  7.59s/it]\r192it [24:25,  7.58s/it]\r193it [24:32,  7.58s/it]\r194it [24:40,  7.62s/it]\r195it [24:47,  7.62s/it]\r196it [24:55,  7.65s/it]\r197it [25:03,  7.72s/it]\r198it [25:11,  7.68s/it]\r199it [25:18,  7.66s/it]\r200it [25:26,  7.62s/it]\r201it [25:33,  7.60s/it]\r202it [25:41,  7.60s/it]\r203it [25:49,  7.63s/it]\r204it [25:56,  7.64s/it]\r205it [26:04,  7.68s/it]\r206it [26:12,  7.70s/it]\r207it [26:19,  7.66s/it]\r208it [26:27,  7.65s/it]\r209it [26:35,  7.64s/it]\r210it [26:42,  7.68s/it]\r211it [26:50,  7.66s/it]\r212it [26:58,  7.67s/it]\r213it [27:05,  7.67s/it]\r214it [27:13,  7.67s/it]\r215it [27:21,  7.68s/it]\r216it [27:28,  7.61s/it]\r217it [27:36,  7.64s/it]\r218it [27:44,  7.71s/it]\r219it [27:51,  7.70s/it]\r220it [27:59,  7.69s/it]\r221it [28:07,  7.72s/it]\r222it [28:14,  7.67s/it]\r223it [28:22,  7.68s/it]\r224it [28:30,  7.66s/it]\r225it [28:37,  7.61s/it]\r226it [28:45,  7.60s/it]\r227it [28:53,  7.63s/it]\r228it [29:00,  7.66s/it]\r229it [29:08,  7.63s/it]\r230it [29:15,  7.62s/it]\r231it [29:23,  7.62s/it]\r232it [29:31,  7.58s/it]\r233it [29:38,  7.59s/it]\r234it [29:46,  7.62s/it]\r235it [29:53,  7.61s/it]\r236it [30:01,  7.57s/it]\r237it [30:09,  7.60s/it]\r238it [30:16,  7.61s/it]\r239it [30:24,  7.57s/it]\r240it [30:31,  7.57s/it]\r240it [30:31,  7.63s/it]\n"
     ]
    },
    {
     "name": "stdout",
     "output_type": "stream",
     "text": [
      "Epoch 19 train loss: 0.059417724609375\n",
      "[Train - End / Test - Start Epoch 20] GPU Memory: Allocated=2.31GB, Reserved=3.39GB\n"
     ]
    },
    {
     "name": "stderr",
     "output_type": "stream",
     "text": [
      "\r  0%|          | 0/14.1875 [00:00<?, ?it/s]\r  7%|▋         | 1/14.1875 [00:06<01:28,  6.68s/it]\r 14%|█▍        | 2/14.1875 [00:13<01:21,  6.71s/it]\r 21%|██        | 3/14.1875 [00:19<01:14,  6.64s/it]\r 28%|██▊       | 4/14.1875 [00:26<01:07,  6.62s/it]\r 35%|███▌      | 5/14.1875 [00:33<01:01,  6.69s/it]\r 42%|████▏     | 6/14.1875 [00:39<00:54,  6.65s/it]\r 49%|████▉     | 7/14.1875 [00:46<00:47,  6.64s/it]\r 56%|█████▋    | 8/14.1875 [00:53<00:41,  6.69s/it]\r 63%|██████▎   | 9/14.1875 [01:00<00:34,  6.69s/it]\r 70%|███████   | 10/14.1875 [01:06<00:27,  6.65s/it]\r 78%|███████▊  | 11/14.1875 [01:13<00:21,  6.65s/it]\r 85%|████████▍ | 12/14.1875 [01:19<00:14,  6.65s/it]\r 92%|█████████▏| 13/14.1875 [01:26<00:07,  6.64s/it]\r 99%|█████████▊| 14/14.1875 [01:33<00:01,  6.65s/it]\r15it [01:39,  6.63s/it]                             \r16it [01:46,  6.64s/it]\r17it [01:53,  6.64s/it]\r18it [01:59,  6.65s/it]\r19it [02:06,  6.63s/it]\r20it [02:13,  6.66s/it]\r21it [02:19,  6.72s/it]\r22it [02:26,  6.70s/it]\r23it [02:33,  6.65s/it]\r24it [02:39,  6.67s/it]\r25it [02:46,  6.62s/it]\r26it [02:53,  6.65s/it]\r27it [02:59,  6.68s/it]\r28it [03:06,  6.70s/it]\r29it [03:13,  6.77s/it]\r30it [03:20,  6.75s/it]\r30it [03:20,  6.67s/it]\n"
     ]
    },
    {
     "name": "stdout",
     "output_type": "stream",
     "text": [
      "Cumulative Accuracy for CP: 69.83%\n",
      "Cumulative Accuracy for chopping-board: 90.17%\n",
      "Cumulative Accuracy for finalstep: 90.67%\n",
      "Cumulative Accuracy for glass-bowl-large: 71.83%\n",
      "Cumulative Accuracy for glass-bowl-medium: 68.67%\n",
      "Cumulative Accuracy for glass-bowl-small: 40.50%\n",
      "Cumulative Accuracy for grill-plate: nan%\n",
      "Cumulative Accuracy for group_step: 76.33%\n",
      "Cumulative Accuracy for medium: 91.00%\n",
      "Cumulative Accuracy for oven-dish: 95.83%\n",
      "Cumulative Accuracy for oven-tray: 95.83%\n",
      "Cumulative Accuracy for pan: 100.00%\n",
      "Cumulative Accuracy for pot-one-handle: 98.83%\n",
      "Cumulative Accuracy for pot-two-handles-medium: 74.67%\n",
      "Cumulative Accuracy for pot-two-handles-shallow: 95.00%\n",
      "Cumulative Accuracy for pot-two-handles-small: nan%\n",
      "Cumulative Accuracy for saucepan: 90.00%\n",
      "\n",
      "Mean Top 3 Accuracy (Val): 94.00%\n",
      "Mean Top 1 Accuracy (Val): 80.22%\n",
      "Macro-averaged Accuracy (Val): 83.28%\n",
      "Epoch 19 test loss: 26.109375\n",
      "\n",
      "[Test - End Epoch 20] GPU Memory: Allocated=2.31GB, Reserved=3.39GB\n",
      "\n",
      "Epoch 21/120\n",
      "[Train - Start Epoch 21] GPU Memory: Allocated=2.31GB, Reserved=3.39GB\n"
     ]
    },
    {
     "name": "stderr",
     "output_type": "stream",
     "text": [
      "\r  0%|          | 0/127.84375 [00:00<?, ?it/s]\r  1%|          | 1/127.84375 [00:07<16:13,  7.68s/it]\r  2%|▏         | 2/127.84375 [00:15<16:02,  7.65s/it]\r  2%|▏         | 3/127.84375 [00:23<16:06,  7.74s/it]\r  3%|▎         | 4/127.84375 [00:30<15:54,  7.71s/it]\r  4%|▍         | 5/127.84375 [00:38<15:48,  7.72s/it]\r  5%|▍         | 6/127.84375 [00:46<15:32,  7.65s/it]\r  5%|▌         | 7/127.84375 [00:53<15:25,  7.66s/it]\r  6%|▋         | 8/127.84375 [01:01<15:19,  7.67s/it]\r  7%|▋         | 9/127.84375 [01:08<15:07,  7.63s/it]\r  8%|▊         | 10/127.84375 [01:16<15:02,  7.66s/it]\r  9%|▊         | 11/127.84375 [01:24<14:51,  7.63s/it]\r  9%|▉         | 12/127.84375 [01:31<14:42,  7.61s/it]\r 10%|█         | 13/127.84375 [01:39<14:25,  7.54s/it]\r 11%|█         | 14/127.84375 [01:46<14:17,  7.53s/it]\r 12%|█▏        | 15/127.84375 [01:54<14:18,  7.61s/it]\r 13%|█▎        | 16/127.84375 [02:01<14:04,  7.55s/it]\r 13%|█▎        | 17/127.84375 [02:09<13:57,  7.56s/it]\r 14%|█▍        | 18/127.84375 [02:17<13:48,  7.54s/it]\r 15%|█▍        | 19/127.84375 [02:24<13:40,  7.54s/it]\r 16%|█▌        | 20/127.84375 [02:32<13:33,  7.54s/it]\r 16%|█▋        | 21/127.84375 [02:39<13:29,  7.58s/it]\r 17%|█▋        | 22/127.84375 [02:47<13:28,  7.64s/it]\r 18%|█▊        | 23/127.84375 [02:55<13:20,  7.64s/it]\r 19%|█▉        | 24/127.84375 [03:02<13:14,  7.65s/it]\r 20%|█▉        | 25/127.84375 [03:10<13:08,  7.67s/it]\r 20%|██        | 26/127.84375 [03:17<12:52,  7.58s/it]\r 21%|██        | 27/127.84375 [03:25<12:46,  7.60s/it]\r 22%|██▏       | 28/127.84375 [03:33<12:42,  7.64s/it]\r 23%|██▎       | 29/127.84375 [03:41<12:36,  7.66s/it]\r 23%|██▎       | 30/127.84375 [03:48<12:27,  7.64s/it]\r 24%|██▍       | 31/127.84375 [03:56<12:17,  7.61s/it]\r 25%|██▌       | 32/127.84375 [04:03<12:11,  7.63s/it]\r 26%|██▌       | 33/127.84375 [04:11<12:01,  7.61s/it]\r 27%|██▋       | 34/127.84375 [04:19<11:54,  7.62s/it]\r 27%|██▋       | 35/127.84375 [04:26<11:45,  7.59s/it]\r 28%|██▊       | 36/127.84375 [04:34<11:36,  7.59s/it]\r 29%|██▉       | 37/127.84375 [04:41<11:28,  7.58s/it]\r 30%|██▉       | 38/127.84375 [04:49<11:26,  7.64s/it]\r 31%|███       | 39/127.84375 [04:57<11:17,  7.63s/it]\r 31%|███▏      | 40/127.84375 [05:04<11:07,  7.59s/it]\r 32%|███▏      | 41/127.84375 [05:12<10:57,  7.57s/it]\r 33%|███▎      | 42/127.84375 [05:19<10:46,  7.54s/it]\r 34%|███▎      | 43/127.84375 [05:27<10:40,  7.55s/it]\r 34%|███▍      | 44/127.84375 [05:34<10:36,  7.59s/it]\r 35%|███▌      | 45/127.84375 [05:42<10:27,  7.57s/it]\r 36%|███▌      | 46/127.84375 [05:50<10:22,  7.61s/it]\r 37%|███▋      | 47/127.84375 [05:57<10:14,  7.60s/it]\r 38%|███▊      | 48/127.84375 [06:05<10:09,  7.63s/it]\r 38%|███▊      | 49/127.84375 [06:12<10:01,  7.63s/it]\r 39%|███▉      | 50/127.84375 [06:20<09:56,  7.66s/it]\r 40%|███▉      | 51/127.84375 [06:28<09:46,  7.63s/it]\r 41%|████      | 52/127.84375 [06:35<09:39,  7.65s/it]\r 41%|████▏     | 53/127.84375 [06:43<09:33,  7.66s/it]\r 42%|████▏     | 54/127.84375 [06:51<09:25,  7.66s/it]\r 43%|████▎     | 55/127.84375 [06:58<09:14,  7.61s/it]\r 44%|████▍     | 56/127.84375 [07:06<09:07,  7.62s/it]\r 45%|████▍     | 57/127.84375 [07:13<08:57,  7.58s/it]\r 45%|████▌     | 58/127.84375 [07:21<08:50,  7.60s/it]\r 46%|████▌     | 59/127.84375 [07:29<08:45,  7.63s/it]\r 47%|████▋     | 60/127.84375 [07:36<08:35,  7.60s/it]\r 48%|████▊     | 61/127.84375 [07:44<08:24,  7.54s/it]\r 48%|████▊     | 62/127.84375 [07:51<08:18,  7.57s/it]\r 49%|████▉     | 63/127.84375 [07:59<08:09,  7.55s/it]\r 50%|█████     | 64/127.84375 [08:06<08:02,  7.56s/it]\r 51%|█████     | 65/127.84375 [08:14<08:03,  7.69s/it]\r 52%|█████▏    | 66/127.84375 [08:22<07:55,  7.68s/it]\r 52%|█████▏    | 67/127.84375 [08:30<07:44,  7.64s/it]\r 53%|█████▎    | 68/127.84375 [08:37<07:32,  7.56s/it]\r 54%|█████▍    | 69/127.84375 [08:45<07:28,  7.62s/it]\r 55%|█████▍    | 70/127.84375 [08:52<07:22,  7.65s/it]\r 56%|█████▌    | 71/127.84375 [09:00<07:15,  7.65s/it]\r 56%|█████▋    | 72/127.84375 [09:08<07:08,  7.67s/it]\r 57%|█████▋    | 73/127.84375 [09:16<07:01,  7.68s/it]\r 58%|█████▊    | 74/127.84375 [09:23<06:54,  7.69s/it]\r 59%|█████▊    | 75/127.84375 [09:31<06:45,  7.67s/it]\r 59%|█████▉    | 76/127.84375 [09:39<06:37,  7.68s/it]\r 60%|██████    | 77/127.84375 [09:46<06:30,  7.68s/it]\r 61%|██████    | 78/127.84375 [09:54<06:21,  7.65s/it]\r 62%|██████▏   | 79/127.84375 [10:01<06:13,  7.64s/it]\r 63%|██████▎   | 80/127.84375 [10:09<06:06,  7.67s/it]\r 63%|██████▎   | 81/127.84375 [10:17<05:58,  7.66s/it]\r 64%|██████▍   | 82/127.84375 [10:25<05:51,  7.66s/it]\r 65%|██████▍   | 83/127.84375 [10:32<05:42,  7.65s/it]\r 66%|██████▌   | 84/127.84375 [10:40<05:35,  7.65s/it]\r 66%|██████▋   | 85/127.84375 [10:47<05:27,  7.63s/it]\r 67%|██████▋   | 86/127.84375 [10:55<05:19,  7.64s/it]\r 68%|██████▊   | 87/127.84375 [11:03<05:10,  7.60s/it]\r 69%|██████▉   | 88/127.84375 [11:10<05:03,  7.61s/it]\r 70%|██████▉   | 89/127.84375 [11:18<04:54,  7.58s/it]\r 70%|███████   | 90/127.84375 [11:25<04:47,  7.60s/it]\r 71%|███████   | 91/127.84375 [11:33<04:40,  7.61s/it]\r 72%|███████▏  | 92/127.84375 [11:40<04:31,  7.58s/it]\r 73%|███████▎  | 93/127.84375 [11:48<04:25,  7.62s/it]\r 74%|███████▎  | 94/127.84375 [11:56<04:19,  7.66s/it]\r 74%|███████▍  | 95/127.84375 [12:04<04:11,  7.65s/it]\r 75%|███████▌  | 96/127.84375 [12:11<04:03,  7.64s/it]\r 76%|███████▌  | 97/127.84375 [12:19<03:54,  7.61s/it]\r 77%|███████▋  | 98/127.84375 [12:26<03:47,  7.61s/it]\r 77%|███████▋  | 99/127.84375 [12:34<03:39,  7.60s/it]\r 78%|███████▊  | 100/127.84375 [12:42<03:32,  7.63s/it]\r 79%|███████▉  | 101/127.84375 [12:49<03:24,  7.63s/it]\r 80%|███████▉  | 102/127.84375 [12:57<03:17,  7.63s/it]\r 81%|████████  | 103/127.84375 [13:04<03:08,  7.60s/it]\r 81%|████████▏ | 104/127.84375 [13:12<03:02,  7.65s/it]\r 82%|████████▏ | 105/127.84375 [13:20<02:53,  7.61s/it]\r 83%|████████▎ | 106/127.84375 [13:27<02:47,  7.65s/it]\r 84%|████████▎ | 107/127.84375 [13:35<02:39,  7.65s/it]\r 84%|████████▍ | 108/127.84375 [13:43<02:31,  7.65s/it]\r 85%|████████▌ | 109/127.84375 [13:51<02:24,  7.69s/it]\r 86%|████████▌ | 110/127.84375 [13:58<02:17,  7.72s/it]\r 87%|████████▋ | 111/127.84375 [14:06<02:09,  7.69s/it]\r 88%|████████▊ | 112/127.84375 [14:13<02:01,  7.66s/it]\r 88%|████████▊ | 113/127.84375 [14:22<01:55,  7.79s/it]\r 89%|████████▉ | 114/127.84375 [14:29<01:47,  7.75s/it]\r 90%|████████▉ | 115/127.84375 [14:37<01:39,  7.72s/it]\r 91%|█████████ | 116/127.84375 [14:45<01:30,  7.68s/it]\r 92%|█████████▏| 117/127.84375 [14:52<01:23,  7.69s/it]\r 92%|█████████▏| 118/127.84375 [15:00<01:15,  7.71s/it]\r 93%|█████████▎| 119/127.84375 [15:07<01:07,  7.65s/it]\r 94%|█████████▍| 120/127.84375 [15:15<01:00,  7.66s/it]\r 95%|█████████▍| 121/127.84375 [15:23<00:52,  7.71s/it]\r 95%|█████████▌| 122/127.84375 [15:31<00:44,  7.69s/it]\r 96%|█████████▌| 123/127.84375 [15:38<00:36,  7.60s/it]\r 97%|█████████▋| 124/127.84375 [15:46<00:29,  7.63s/it]\r 98%|█████████▊| 125/127.84375 [15:53<00:21,  7.62s/it]\r 99%|█████████▊| 126/127.84375 [16:01<00:13,  7.57s/it]\r 99%|█████████▉| 127/127.84375 [16:08<00:06,  7.56s/it]/databricks/python/lib/python3.11/site-packages/tqdm/std.py:524: TqdmWarning: clamping frac to range [0, 1]\n",
      "  full_bar = Bar(frac,\n",
      "\r100%|██████████| 128/127.84375 [16:16<-1:59:59,  7.61s/it]\r129it [16:24,  7.64s/it]                                  \r130it [16:31,  7.60s/it]\r131it [16:39,  7.59s/it]\r132it [16:46,  7.57s/it]\r133it [16:54,  7.52s/it]\r134it [17:01,  7.59s/it]\r135it [17:09,  7.61s/it]\r136it [17:17,  7.59s/it]\r137it [17:24,  7.62s/it]\r138it [17:32,  7.62s/it]\r139it [17:40,  7.74s/it]\r140it [17:48,  7.71s/it]\r141it [17:55,  7.66s/it]\r142it [18:03,  7.68s/it]\r143it [18:11,  7.66s/it]\r144it [18:18,  7.64s/it]\r145it [18:26,  7.61s/it]\r146it [18:34,  7.72s/it]\r147it [18:41,  7.70s/it]\r148it [18:49,  7.70s/it]\r149it [18:57,  7.70s/it]\r150it [19:04,  7.68s/it]\r151it [19:12,  7.69s/it]\r152it [19:20,  7.63s/it]\r153it [19:27,  7.66s/it]\r154it [19:35,  7.69s/it]\r155it [19:43,  7.65s/it]\r156it [19:50,  7.65s/it]\r157it [19:58,  7.69s/it]\r158it [20:06,  7.73s/it]\r159it [20:14,  7.73s/it]\r160it [20:21,  7.74s/it]\r161it [20:29,  7.71s/it]\r162it [20:37,  7.74s/it]\r163it [20:44,  7.71s/it]\r164it [20:52,  7.68s/it]\r165it [21:00,  7.62s/it]\r166it [21:07,  7.65s/it]\r167it [21:15,  7.66s/it]\r168it [21:22,  7.52s/it]\r169it [21:30,  7.53s/it]\r170it [21:37,  7.57s/it]\r171it [21:45,  7.52s/it]\r172it [21:52,  7.53s/it]\r173it [22:00,  7.56s/it]\r174it [22:08,  7.58s/it]\r175it [22:15,  7.63s/it]\r176it [22:23,  7.66s/it]\r177it [22:31,  7.67s/it]\r178it [22:38,  7.67s/it]\r179it [22:46,  7.66s/it]\r180it [22:54,  7.62s/it]\r181it [23:01,  7.57s/it]\r182it [23:09,  7.60s/it]\r183it [23:16,  7.54s/it]\r184it [23:24,  7.55s/it]\r185it [23:31,  7.60s/it]\r186it [23:39,  7.62s/it]\r187it [23:47,  7.60s/it]\r188it [23:54,  7.63s/it]\r189it [24:02,  7.64s/it]\r190it [24:10,  7.65s/it]\r191it [24:17,  7.65s/it]\r192it [24:25,  7.62s/it]\r193it [24:32,  7.60s/it]\r194it [24:40,  7.53s/it]\r195it [24:47,  7.54s/it]\r196it [24:55,  7.55s/it]\r197it [25:03,  7.58s/it]\r198it [25:10,  7.57s/it]\r199it [25:18,  7.61s/it]\r200it [25:25,  7.63s/it]\r201it [25:33,  7.55s/it]\r202it [25:40,  7.56s/it]\r203it [25:48,  7.59s/it]\r204it [25:56,  7.60s/it]\r205it [26:03,  7.60s/it]\r206it [26:11,  7.59s/it]\r207it [26:18,  7.56s/it]\r208it [26:26,  7.57s/it]\r209it [26:33,  7.55s/it]\r210it [26:41,  7.57s/it]\r211it [26:49,  7.55s/it]\r212it [26:56,  7.57s/it]\r213it [27:04,  7.58s/it]\r214it [27:11,  7.60s/it]\r215it [27:19,  7.57s/it]\r216it [27:27,  7.58s/it]\r217it [27:34,  7.51s/it]\r218it [27:42,  7.56s/it]\r219it [27:49,  7.60s/it]\r220it [27:57,  7.61s/it]\r221it [28:05,  7.63s/it]\r222it [28:12,  7.61s/it]\r223it [28:20,  7.58s/it]\r224it [28:27,  7.55s/it]\r225it [28:35,  7.58s/it]\r226it [28:42,  7.55s/it]\r227it [28:50,  7.59s/it]\r228it [28:57,  7.54s/it]\r229it [29:05,  7.57s/it]\r230it [29:13,  7.58s/it]\r231it [29:20,  7.60s/it]\r232it [29:28,  7.63s/it]\r233it [29:36,  7.62s/it]\r234it [29:43,  7.57s/it]\r235it [29:51,  7.56s/it]\r236it [29:58,  7.58s/it]\r237it [30:06,  7.60s/it]\r238it [30:13,  7.56s/it]\r239it [30:21,  7.62s/it]\r240it [30:29,  7.70s/it]\r240it [30:29,  7.62s/it]\n"
     ]
    },
    {
     "name": "stdout",
     "output_type": "stream",
     "text": [
      "Epoch 20 train loss: 0.032196044921875\n",
      "[Checkpoint] Saved under <PATH>/recipe_classifier/checkpoints/2025_01_23/dataset_20dec/b32/epoch_20.pt\n",
      "\n",
      "[Train - End / Test - Start Epoch 21] GPU Memory: Allocated=2.06GB, Reserved=3.39GB\n"
     ]
    },
    {
     "name": "stderr",
     "output_type": "stream",
     "text": [
      "\r  0%|          | 0/14.1875 [00:00<?, ?it/s]\r  7%|▋         | 1/14.1875 [00:06<01:26,  6.54s/it]\r 14%|█▍        | 2/14.1875 [00:13<01:20,  6.61s/it]\r 21%|██        | 3/14.1875 [00:19<01:13,  6.60s/it]\r 28%|██▊       | 4/14.1875 [00:26<01:07,  6.65s/it]\r 35%|███▌      | 5/14.1875 [00:33<01:01,  6.65s/it]\r 42%|████▏     | 6/14.1875 [00:39<00:54,  6.67s/it]\r 49%|████▉     | 7/14.1875 [00:46<00:48,  6.68s/it]\r 56%|█████▋    | 8/14.1875 [00:53<00:41,  6.70s/it]\r 63%|██████▎   | 9/14.1875 [01:00<00:34,  6.71s/it]\r 70%|███████   | 10/14.1875 [01:06<00:27,  6.65s/it]\r 78%|███████▊  | 11/14.1875 [01:13<00:21,  6.67s/it]\r 85%|████████▍ | 12/14.1875 [01:19<00:14,  6.68s/it]\r 92%|█████████▏| 13/14.1875 [01:26<00:07,  6.65s/it]\r 99%|█████████▊| 14/14.1875 [01:33<00:01,  6.65s/it]\r15it [01:39,  6.64s/it]                             \r16it [01:46,  6.64s/it]\r17it [01:53,  6.66s/it]\r18it [01:59,  6.65s/it]\r19it [02:06,  6.65s/it]\r20it [02:13,  6.64s/it]\r21it [02:19,  6.70s/it]\r22it [02:26,  6.71s/it]\r23it [02:33,  6.70s/it]\r24it [02:39,  6.68s/it]\r25it [02:46,  6.68s/it]\r26it [02:53,  6.72s/it]\r27it [03:00,  6.70s/it]\r28it [03:06,  6.73s/it]\r29it [03:13,  6.79s/it]\r30it [03:20,  6.76s/it]\r30it [03:20,  6.68s/it]\n"
     ]
    },
    {
     "name": "stdout",
     "output_type": "stream",
     "text": [
      "Cumulative Accuracy for CP: 70.00%\n",
      "Cumulative Accuracy for chopping-board: 90.00%\n",
      "Cumulative Accuracy for finalstep: 90.95%\n",
      "Cumulative Accuracy for glass-bowl-large: 71.43%\n",
      "Cumulative Accuracy for glass-bowl-medium: 68.89%\n",
      "Cumulative Accuracy for glass-bowl-small: 40.16%\n",
      "Cumulative Accuracy for grill-plate: nan%\n",
      "Cumulative Accuracy for group_step: 76.51%\n",
      "Cumulative Accuracy for medium: 91.43%\n",
      "Cumulative Accuracy for oven-dish: 95.24%\n",
      "Cumulative Accuracy for oven-tray: 95.71%\n",
      "Cumulative Accuracy for pan: 100.00%\n",
      "Cumulative Accuracy for pot-one-handle: 98.89%\n",
      "Cumulative Accuracy for pot-two-handles-medium: 75.24%\n",
      "Cumulative Accuracy for pot-two-handles-shallow: 94.44%\n",
      "Cumulative Accuracy for pot-two-handles-small: nan%\n",
      "Cumulative Accuracy for saucepan: 90.48%\n",
      "\n",
      "Mean Top 3 Accuracy (Val): 91.78%\n",
      "Mean Top 1 Accuracy (Val): 83.56%\n",
      "Macro-averaged Accuracy (Val): 83.29%\n",
      "Epoch 20 test loss: 31.453125\n",
      "\n",
      "[Test - End Epoch 21] GPU Memory: Allocated=2.06GB, Reserved=3.39GB\n",
      "\n",
      "Epoch 22/120\n",
      "[Train - Start Epoch 22] GPU Memory: Allocated=2.06GB, Reserved=3.39GB\n"
     ]
    },
    {
     "name": "stderr",
     "output_type": "stream",
     "text": [
      "\r  0%|          | 0/127.84375 [00:00<?, ?it/s]\r  1%|          | 1/127.84375 [00:07<16:20,  7.73s/it]\r  2%|▏         | 2/127.84375 [00:15<16:14,  7.74s/it]\r  2%|▏         | 3/127.84375 [00:22<15:53,  7.64s/it]\r  3%|▎         | 4/127.84375 [00:30<15:48,  7.66s/it]\r  4%|▍         | 5/127.84375 [00:38<15:39,  7.65s/it]\r  5%|▍         | 6/127.84375 [00:45<15:28,  7.62s/it]\r  5%|▌         | 7/127.84375 [00:53<15:25,  7.66s/it]\r  6%|▋         | 8/127.84375 [01:01<15:19,  7.67s/it]\r  7%|▋         | 9/127.84375 [01:08<15:08,  7.64s/it]\r  8%|▊         | 10/127.84375 [01:16<14:59,  7.63s/it]\r  9%|▊         | 11/127.84375 [01:24<14:47,  7.60s/it]\r  9%|▉         | 12/127.84375 [01:31<14:37,  7.58s/it]\r 10%|█         | 13/127.84375 [01:39<14:30,  7.58s/it]\r 11%|█         | 14/127.84375 [01:46<14:22,  7.57s/it]\r 12%|█▏        | 15/127.84375 [01:54<14:10,  7.54s/it]\r 13%|█▎        | 16/127.84375 [02:01<14:00,  7.51s/it]\r 13%|█▎        | 17/127.84375 [02:09<13:56,  7.54s/it]\r 14%|█▍        | 18/127.84375 [02:17<13:57,  7.62s/it]\r 15%|█▍        | 19/127.84375 [02:24<13:51,  7.64s/it]\r 16%|█▌        | 20/127.84375 [02:32<13:44,  7.65s/it]\r 16%|█▋        | 21/127.84375 [02:40<13:42,  7.70s/it]\r 17%|█▋        | 22/127.84375 [02:47<13:34,  7.69s/it]\r 18%|█▊        | 23/127.84375 [02:55<13:24,  7.68s/it]\r 19%|█▉        | 24/127.84375 [03:03<13:13,  7.64s/it]\r 20%|█▉        | 25/127.84375 [03:10<13:07,  7.66s/it]\r 20%|██        | 26/127.84375 [03:18<12:55,  7.61s/it]\r 21%|██        | 27/127.84375 [03:25<12:43,  7.57s/it]\r 22%|██▏       | 28/127.84375 [03:33<12:41,  7.62s/it]\r 23%|██▎       | 29/127.84375 [03:41<12:34,  7.64s/it]\r 23%|██▎       | 30/127.84375 [03:48<12:29,  7.66s/it]\r 24%|██▍       | 31/127.84375 [03:56<12:17,  7.61s/it]\r 25%|██▌       | 32/127.84375 [04:04<12:10,  7.62s/it]\r 26%|██▌       | 33/127.84375 [04:11<12:06,  7.66s/it]\r 27%|██▋       | 34/127.84375 [04:19<11:56,  7.63s/it]\r 27%|██▋       | 35/127.84375 [04:26<11:43,  7.58s/it]\r 28%|██▊       | 36/127.84375 [04:34<11:41,  7.64s/it]\r 29%|██▉       | 37/127.84375 [04:42<11:36,  7.66s/it]\r 30%|██▉       | 38/127.84375 [04:50<11:41,  7.81s/it]\r 31%|███       | 39/127.84375 [04:58<11:35,  7.83s/it]\r 31%|███▏      | 40/127.84375 [05:05<11:23,  7.78s/it]\r 32%|███▏      | 41/127.84375 [05:13<11:16,  7.79s/it]\r 33%|███▎      | 42/127.84375 [05:21<11:09,  7.80s/it]\r 34%|███▎      | 43/127.84375 [05:29<10:59,  7.78s/it]\r 34%|███▍      | 44/127.84375 [05:36<10:47,  7.73s/it]\r 35%|███▌      | 45/127.84375 [05:44<10:42,  7.75s/it]\r 36%|███▌      | 46/127.84375 [05:52<10:34,  7.75s/it]\r 37%|███▋      | 47/127.84375 [06:00<10:22,  7.70s/it]\r 38%|███▊      | 48/127.84375 [06:07<10:12,  7.67s/it]\r 38%|███▊      | 49/127.84375 [06:15<10:03,  7.66s/it]\r 39%|███▉      | 50/127.84375 [06:22<09:56,  7.66s/it]\r 40%|███▉      | 51/127.84375 [06:30<09:51,  7.70s/it]\r 41%|████      | 52/127.84375 [06:38<09:40,  7.66s/it]\r 41%|████▏     | 53/127.84375 [06:46<09:34,  7.68s/it]\r 42%|████▏     | 54/127.84375 [06:53<09:24,  7.65s/it]\r 43%|████▎     | 55/127.84375 [07:01<09:17,  7.65s/it]\r 44%|████▍     | 56/127.84375 [07:08<09:08,  7.64s/it]\r 45%|████▍     | 57/127.84375 [07:16<09:04,  7.69s/it]\r 45%|████▌     | 58/127.84375 [07:24<08:56,  7.68s/it]\r 46%|████▌     | 59/127.84375 [07:32<08:50,  7.71s/it]\r 47%|████▋     | 60/127.84375 [07:40<08:45,  7.75s/it]\r 48%|████▊     | 61/127.84375 [07:47<08:38,  7.76s/it]\r 48%|████▊     | 62/127.84375 [07:55<08:27,  7.70s/it]\r 49%|████▉     | 63/127.84375 [08:03<08:22,  7.75s/it]\r 50%|█████     | 64/127.84375 [08:10<08:14,  7.74s/it]\r 51%|█████     | 65/127.84375 [08:18<08:05,  7.72s/it]\r 52%|█████▏    | 66/127.84375 [08:26<07:57,  7.73s/it]\r 52%|█████▏    | 67/127.84375 [08:34<07:48,  7.71s/it]\r 53%|█████▎    | 68/127.84375 [08:41<07:42,  7.73s/it]\r 54%|█████▍    | 69/127.84375 [08:49<07:34,  7.72s/it]\r 55%|█████▍    | 70/127.84375 [08:57<07:25,  7.70s/it]\r 56%|█████▌    | 71/127.84375 [09:04<07:15,  7.65s/it]\r 56%|█████▋    | 72/127.84375 [09:12<07:07,  7.66s/it]\r 57%|█████▋    | 73/127.84375 [09:19<06:57,  7.62s/it]\r 58%|█████▊    | 74/127.84375 [09:27<06:47,  7.57s/it]\r 59%|█████▊    | 75/127.84375 [09:35<06:41,  7.60s/it]\r 59%|█████▉    | 76/127.84375 [09:42<06:35,  7.64s/it]\r 60%|██████    | 77/127.84375 [09:50<06:27,  7.63s/it]\r 61%|██████    | 78/127.84375 [09:57<06:19,  7.61s/it]\r 62%|██████▏   | 79/127.84375 [10:05<06:08,  7.55s/it]\r 63%|██████▎   | 80/127.84375 [10:12<06:01,  7.55s/it]\r 63%|██████▎   | 81/127.84375 [10:20<05:54,  7.57s/it]\r 64%|██████▍   | 82/127.84375 [10:28<05:47,  7.59s/it]\r 65%|██████▍   | 83/127.84375 [10:35<05:39,  7.58s/it]\r 66%|██████▌   | 84/127.84375 [10:43<05:33,  7.60s/it]\r 66%|██████▋   | 85/127.84375 [10:50<05:24,  7.58s/it]\r 67%|██████▋   | 86/127.84375 [10:58<05:18,  7.60s/it]\r 68%|██████▊   | 87/127.84375 [11:06<05:10,  7.61s/it]\r 69%|██████▉   | 88/127.84375 [11:13<05:04,  7.63s/it]\r 70%|██████▉   | 89/127.84375 [11:21<04:55,  7.60s/it]\r 70%|███████   | 90/127.84375 [11:29<04:48,  7.62s/it]\r 71%|███████   | 91/127.84375 [11:36<04:41,  7.63s/it]\r 72%|███████▏  | 92/127.84375 [11:44<04:33,  7.63s/it]\r 73%|███████▎  | 93/127.84375 [11:51<04:24,  7.60s/it]\r 74%|███████▎  | 94/127.84375 [11:59<04:16,  7.58s/it]\r 74%|███████▍  | 95/127.84375 [12:06<04:08,  7.58s/it]\r 75%|███████▌  | 96/127.84375 [12:14<04:01,  7.57s/it]\r 76%|███████▌  | 97/127.84375 [12:22<03:54,  7.59s/it]\r 77%|███████▋  | 98/127.84375 [12:29<03:47,  7.62s/it]\r 77%|███████▋  | 99/127.84375 [12:37<03:39,  7.60s/it]\r 78%|███████▊  | 100/127.84375 [12:45<03:33,  7.66s/it]\r 79%|███████▉  | 101/127.84375 [12:52<03:25,  7.67s/it]\r 80%|███████▉  | 102/127.84375 [13:00<03:17,  7.65s/it]\r 81%|████████  | 103/127.84375 [13:08<03:09,  7.62s/it]\r 81%|████████▏ | 104/127.84375 [13:15<03:01,  7.62s/it]\r 82%|████████▏ | 105/127.84375 [13:23<02:55,  7.68s/it]\r 83%|████████▎ | 106/127.84375 [13:31<02:47,  7.69s/it]\r 84%|████████▎ | 107/127.84375 [13:38<02:39,  7.66s/it]\r 84%|████████▍ | 108/127.84375 [13:46<02:32,  7.67s/it]\r 85%|████████▌ | 109/127.84375 [13:54<02:24,  7.65s/it]\r 86%|████████▌ | 110/127.84375 [14:01<02:16,  7.63s/it]\r 87%|████████▋ | 111/127.84375 [14:09<02:08,  7.64s/it]\r 88%|████████▊ | 112/127.84375 [14:16<02:00,  7.60s/it]\r 88%|████████▊ | 113/127.84375 [14:24<01:53,  7.62s/it]\r 89%|████████▉ | 114/127.84375 [14:32<01:45,  7.62s/it]\r 90%|████████▉ | 115/127.84375 [14:39<01:37,  7.63s/it]\r 91%|█████████ | 116/127.84375 [14:47<01:30,  7.63s/it]\r 92%|█████████▏| 117/127.84375 [14:54<01:22,  7.62s/it]\r 92%|█████████▏| 118/127.84375 [15:02<01:15,  7.66s/it]\r 93%|█████████▎| 119/127.84375 [15:10<01:07,  7.65s/it]\r 94%|█████████▍| 120/127.84375 [15:18<01:00,  7.68s/it]\r 95%|█████████▍| 121/127.84375 [15:25<00:52,  7.72s/it]\r 95%|█████████▌| 122/127.84375 [15:33<00:44,  7.67s/it]\r 96%|█████████▌| 123/127.84375 [15:41<00:37,  7.65s/it]\r 97%|█████████▋| 124/127.84375 [15:48<00:29,  7.67s/it]\r 98%|█████████▊| 125/127.84375 [15:56<00:21,  7.71s/it]\r 99%|█████████▊| 126/127.84375 [16:04<00:14,  7.72s/it]\r 99%|█████████▉| 127/127.84375 [16:11<00:06,  7.66s/it]/databricks/python/lib/python3.11/site-packages/tqdm/std.py:524: TqdmWarning: clamping frac to range [0, 1]\n",
      "  full_bar = Bar(frac,\n",
      "\r100%|██████████| 128/127.84375 [16:19<-1:59:59,  7.67s/it]\r129it [16:27,  7.66s/it]                                  \r130it [16:34,  7.66s/it]\r131it [16:42,  7.59s/it]\r132it [16:49,  7.59s/it]\r133it [16:57,  7.62s/it]\r134it [17:05,  7.63s/it]\r135it [17:12,  7.58s/it]\r136it [17:20,  7.57s/it]\r137it [17:27,  7.60s/it]\r138it [17:36,  7.78s/it]\r139it [17:43,  7.81s/it]\r140it [17:51,  7.78s/it]\r141it [17:59,  7.73s/it]\r142it [18:06,  7.68s/it]\r143it [18:14,  7.60s/it]\r144it [18:21,  7.59s/it]\r145it [18:29,  7.61s/it]\r146it [18:37,  7.68s/it]\r147it [18:44,  7.66s/it]\r148it [18:52,  7.65s/it]\r149it [19:00,  7.67s/it]\r150it [19:07,  7.61s/it]\r151it [19:15,  7.61s/it]\r152it [19:23,  7.66s/it]\r153it [19:30,  7.62s/it]\r154it [19:38,  7.66s/it]\r155it [19:46,  7.69s/it]\r156it [19:53,  7.62s/it]\r157it [20:01,  7.61s/it]\r158it [20:08,  7.65s/it]\r159it [20:16,  7.73s/it]\r160it [20:24,  7.69s/it]\r161it [20:32,  7.73s/it]\r162it [20:40,  7.74s/it]\r163it [20:47,  7.68s/it]\r164it [20:55,  7.66s/it]\r165it [21:02,  7.66s/it]\r166it [21:10,  7.58s/it]\r167it [21:17,  7.61s/it]\r168it [21:25,  7.65s/it]\r169it [21:33,  7.65s/it]\r170it [21:41,  7.67s/it]\r171it [21:48,  7.65s/it]\r172it [21:56,  7.65s/it]\r173it [22:03,  7.60s/it]\r174it [22:11,  7.62s/it]\r175it [22:19,  7.67s/it]\r176it [22:26,  7.63s/it]\r177it [22:34,  7.66s/it]\r178it [22:42,  7.66s/it]\r179it [22:49,  7.66s/it]\r180it [22:57,  7.65s/it]\r181it [23:05,  7.67s/it]\r182it [23:13,  7.70s/it]\r183it [23:20,  7.66s/it]\r184it [23:28,  7.67s/it]\r185it [23:35,  7.68s/it]\r186it [23:43,  7.68s/it]\r187it [23:51,  7.68s/it]\r188it [23:59,  7.71s/it]\r189it [24:06,  7.67s/it]\r190it [24:14,  7.62s/it]\r191it [24:21,  7.58s/it]\r192it [24:29,  7.60s/it]\r193it [24:36,  7.58s/it]\r194it [24:44,  7.58s/it]\r195it [24:52,  7.58s/it]\r196it [24:59,  7.56s/it]\r197it [25:07,  7.60s/it]\r198it [25:14,  7.61s/it]\r199it [25:22,  7.64s/it]\r200it [25:30,  7.60s/it]\r201it [25:37,  7.63s/it]\r202it [25:45,  7.68s/it]\r203it [25:53,  7.65s/it]\r204it [26:00,  7.61s/it]\r205it [26:08,  7.62s/it]\r206it [26:15,  7.59s/it]\r207it [26:23,  7.61s/it]\r208it [26:31,  7.64s/it]\r209it [26:38,  7.65s/it]\r210it [26:46,  7.62s/it]\r211it [26:54,  7.63s/it]\r212it [27:01,  7.61s/it]\r213it [27:09,  7.59s/it]\r214it [27:16,  7.62s/it]\r215it [27:24,  7.60s/it]\r216it [27:32,  7.65s/it]\r217it [27:39,  7.64s/it]\r218it [27:47,  7.69s/it]\r219it [27:55,  7.70s/it]\r220it [28:03,  7.72s/it]\r221it [28:10,  7.71s/it]\r222it [28:18,  7.70s/it]\r223it [28:25,  7.65s/it]\r224it [28:33,  7.61s/it]\r225it [28:41,  7.62s/it]\r226it [28:48,  7.58s/it]\r227it [28:56,  7.57s/it]\r228it [29:03,  7.59s/it]\r229it [29:11,  7.55s/it]\r230it [29:18,  7.56s/it]\r231it [29:26,  7.57s/it]\r232it [29:34,  7.60s/it]\r233it [29:41,  7.60s/it]\r234it [29:49,  7.63s/it]\r235it [29:57,  7.62s/it]\r236it [30:04,  7.61s/it]\r237it [30:12,  7.64s/it]\r238it [30:19,  7.64s/it]\r239it [30:27,  7.66s/it]\r240it [30:35,  7.62s/it]\r240it [30:35,  7.65s/it]\n"
     ]
    },
    {
     "name": "stdout",
     "output_type": "stream",
     "text": [
      "Epoch 21 train loss: 0.03961181640625\n",
      "[Train - End / Test - Start Epoch 22] GPU Memory: Allocated=2.30GB, Reserved=3.39GB\n"
     ]
    },
    {
     "name": "stderr",
     "output_type": "stream",
     "text": [
      "\r  0%|          | 0/14.1875 [00:00<?, ?it/s]\r  7%|▋         | 1/14.1875 [00:06<01:28,  6.72s/it]\r 14%|█▍        | 2/14.1875 [00:13<01:21,  6.73s/it]\r 21%|██        | 3/14.1875 [00:20<01:15,  6.72s/it]\r 28%|██▊       | 4/14.1875 [00:26<01:08,  6.72s/it]\r 35%|███▌      | 5/14.1875 [00:33<01:02,  6.75s/it]\r 42%|████▏     | 6/14.1875 [00:40<00:54,  6.68s/it]\r 49%|████▉     | 7/14.1875 [00:46<00:48,  6.69s/it]\r 56%|█████▋    | 8/14.1875 [00:53<00:41,  6.74s/it]\r 63%|██████▎   | 9/14.1875 [01:00<00:34,  6.70s/it]\r 70%|███████   | 10/14.1875 [01:07<00:28,  6.69s/it]\r 78%|███████▊  | 11/14.1875 [01:13<00:21,  6.61s/it]\r 85%|████████▍ | 12/14.1875 [01:20<00:14,  6.68s/it]\r 92%|█████████▏| 13/14.1875 [01:27<00:07,  6.69s/it]\r 99%|█████████▊| 14/14.1875 [01:33<00:01,  6.68s/it]\r15it [01:40,  6.70s/it]                             \r16it [01:47,  6.69s/it]\r17it [01:53,  6.70s/it]\r18it [02:00,  6.72s/it]\r19it [02:07,  6.72s/it]\r20it [02:14,  6.72s/it]\r21it [02:20,  6.74s/it]\r22it [02:27,  6.72s/it]\r23it [02:34,  6.72s/it]\r24it [02:41,  6.79s/it]\r25it [02:47,  6.76s/it]\r26it [02:54,  6.71s/it]\r27it [03:01,  6.74s/it]\r28it [03:07,  6.72s/it]\r29it [03:14,  6.71s/it]\r30it [03:21,  6.67s/it]\r30it [03:21,  6.71s/it]\n"
     ]
    },
    {
     "name": "stdout",
     "output_type": "stream",
     "text": [
      "Cumulative Accuracy for CP: 69.55%\n",
      "Cumulative Accuracy for chopping-board: 90.30%\n",
      "Cumulative Accuracy for finalstep: 90.61%\n",
      "Cumulative Accuracy for glass-bowl-large: 71.21%\n",
      "Cumulative Accuracy for glass-bowl-medium: 68.48%\n",
      "Cumulative Accuracy for glass-bowl-small: 39.85%\n",
      "Cumulative Accuracy for grill-plate: nan%\n",
      "Cumulative Accuracy for group_step: 76.82%\n",
      "Cumulative Accuracy for medium: 91.52%\n",
      "Cumulative Accuracy for oven-dish: 95.45%\n",
      "Cumulative Accuracy for oven-tray: 95.61%\n",
      "Cumulative Accuracy for pan: 100.00%\n",
      "Cumulative Accuracy for pot-one-handle: 98.94%\n",
      "Cumulative Accuracy for pot-two-handles-medium: 75.76%\n",
      "Cumulative Accuracy for pot-two-handles-shallow: 94.70%\n",
      "Cumulative Accuracy for pot-two-handles-small: nan%\n",
      "Cumulative Accuracy for saucepan: 90.91%\n",
      "\n",
      "Mean Top 3 Accuracy (Val): 92.44%\n",
      "Mean Top 1 Accuracy (Val): 83.78%\n",
      "Macro-averaged Accuracy (Val): 83.31%\n",
      "Epoch 21 test loss: 27.203125\n",
      "\n",
      "[Test - End Epoch 22] GPU Memory: Allocated=2.30GB, Reserved=3.39GB\n",
      "\n",
      "Epoch 23/120\n",
      "[Train - Start Epoch 23] GPU Memory: Allocated=2.30GB, Reserved=3.39GB\n"
     ]
    },
    {
     "name": "stderr",
     "output_type": "stream",
     "text": [
      "\r  0%|          | 0/127.84375 [00:00<?, ?it/s]\r  1%|          | 1/127.84375 [00:07<16:20,  7.73s/it]\r  2%|▏         | 2/127.84375 [00:15<16:16,  7.76s/it]\r  2%|▏         | 3/127.84375 [00:23<16:03,  7.71s/it]\r  3%|▎         | 4/127.84375 [00:30<15:51,  7.68s/it]\r  4%|▍         | 5/127.84375 [00:38<15:38,  7.64s/it]\r  5%|▍         | 6/127.84375 [00:46<15:34,  7.67s/it]\r  5%|▌         | 7/127.84375 [00:53<15:24,  7.65s/it]\r  6%|▋         | 8/127.84375 [01:01<15:17,  7.65s/it]\r  7%|▋         | 9/127.84375 [01:09<15:09,  7.65s/it]\r  8%|▊         | 10/127.84375 [01:16<15:06,  7.70s/it]\r  9%|▊         | 11/127.84375 [01:24<14:54,  7.66s/it]\r  9%|▉         | 12/127.84375 [01:31<14:43,  7.63s/it]\r 10%|█         | 13/127.84375 [01:39<14:38,  7.65s/it]\r 11%|█         | 14/127.84375 [01:47<14:27,  7.62s/it]\r 12%|█▏        | 15/127.84375 [01:54<14:16,  7.59s/it]\r 13%|█▎        | 16/127.84375 [02:02<14:09,  7.60s/it]\r 13%|█▎        | 17/127.84375 [02:09<13:54,  7.53s/it]\r 14%|█▍        | 18/127.84375 [02:17<13:54,  7.60s/it]\r 15%|█▍        | 19/127.84375 [02:25<13:55,  7.68s/it]\r 16%|█▌        | 20/127.84375 [02:32<13:45,  7.65s/it]\r 16%|█▋        | 21/127.84375 [02:40<13:35,  7.63s/it]\r 17%|█▋        | 22/127.84375 [02:48<13:28,  7.64s/it]\r 18%|█▊        | 23/127.84375 [02:55<13:19,  7.63s/it]\r 19%|█▉        | 24/127.84375 [03:03<13:08,  7.60s/it]\r 20%|█▉        | 25/127.84375 [03:10<13:03,  7.62s/it]\r 20%|██        | 26/127.84375 [03:18<12:56,  7.63s/it]\r 21%|██        | 27/127.84375 [03:26<12:48,  7.62s/it]\r 22%|██▏       | 28/127.84375 [03:33<12:42,  7.64s/it]\r 23%|██▎       | 29/127.84375 [03:41<12:33,  7.63s/it]\r 23%|██▎       | 30/127.84375 [03:49<12:23,  7.60s/it]\r 24%|██▍       | 31/127.84375 [03:56<12:20,  7.64s/it]\r 25%|██▌       | 32/127.84375 [04:04<12:13,  7.66s/it]\r 26%|██▌       | 33/127.84375 [04:11<12:03,  7.63s/it]\r 27%|██▋       | 34/127.84375 [04:19<11:53,  7.60s/it]\r 27%|██▋       | 35/127.84375 [04:27<11:47,  7.62s/it]\r 28%|██▊       | 36/127.84375 [04:34<11:44,  7.67s/it]\r 29%|██▉       | 37/127.84375 [04:42<11:37,  7.67s/it]\r 30%|██▉       | 38/127.84375 [04:50<11:28,  7.67s/it]\r 31%|███       | 39/127.84375 [04:57<11:20,  7.66s/it]\r 31%|███▏      | 40/127.84375 [05:05<11:07,  7.59s/it]\r 32%|███▏      | 41/127.84375 [05:13<11:00,  7.61s/it]\r 33%|███▎      | 42/127.84375 [05:20<10:50,  7.57s/it]\r 34%|███▎      | 43/127.84375 [05:28<10:44,  7.60s/it]\r 34%|███▍      | 44/127.84375 [05:35<10:35,  7.58s/it]\r 35%|███▌      | 45/127.84375 [05:43<10:27,  7.58s/it]\r 36%|███▌      | 46/127.84375 [05:50<10:22,  7.60s/it]\r 37%|███▋      | 47/127.84375 [05:58<10:11,  7.57s/it]\r 38%|███▊      | 48/127.84375 [06:06<10:10,  7.64s/it]\r 38%|███▊      | 49/127.84375 [06:14<10:05,  7.68s/it]\r 39%|███▉      | 50/127.84375 [06:21<09:53,  7.62s/it]\r 40%|███▉      | 51/127.84375 [06:29<09:48,  7.65s/it]\r 41%|████      | 52/127.84375 [06:36<09:41,  7.67s/it]\r 41%|████▏     | 53/127.84375 [06:44<09:34,  7.67s/it]\r 42%|████▏     | 54/127.84375 [06:52<09:25,  7.66s/it]\r 43%|████▎     | 55/127.84375 [06:59<09:17,  7.65s/it]\r 44%|████▍     | 56/127.84375 [07:07<09:09,  7.65s/it]\r 45%|████▍     | 57/127.84375 [07:15<09:02,  7.65s/it]\r 45%|████▌     | 58/127.84375 [07:22<08:54,  7.66s/it]\r 46%|████▌     | 59/127.84375 [07:30<08:44,  7.62s/it]\r 47%|████▋     | 60/127.84375 [07:38<08:37,  7.63s/it]\r 48%|████▊     | 61/127.84375 [07:45<08:32,  7.66s/it]\r 48%|████▊     | 62/127.84375 [07:53<08:23,  7.65s/it]\r 49%|████▉     | 63/127.84375 [08:00<08:14,  7.63s/it]\r 50%|█████     | 64/127.84375 [08:08<08:06,  7.62s/it]\r 51%|█████     | 65/127.84375 [08:16<07:55,  7.57s/it]\r 52%|█████▏    | 66/127.84375 [08:23<07:47,  7.56s/it]\r 52%|█████▏    | 67/127.84375 [08:30<07:37,  7.52s/it]\r 53%|█████▎    | 68/127.84375 [08:38<07:31,  7.54s/it]\r 54%|█████▍    | 69/127.84375 [08:46<07:25,  7.57s/it]\r 55%|█████▍    | 70/127.84375 [08:53<07:17,  7.56s/it]\r 56%|█████▌    | 71/127.84375 [09:01<07:11,  7.60s/it]\r 56%|█████▋    | 72/127.84375 [09:09<07:05,  7.61s/it]\r 57%|█████▋    | 73/127.84375 [09:16<06:59,  7.65s/it]\r 58%|█████▊    | 74/127.84375 [09:24<06:53,  7.68s/it]\r 59%|█████▊    | 75/127.84375 [09:32<06:43,  7.63s/it]\r 59%|█████▉    | 76/127.84375 [09:39<06:36,  7.66s/it]\r 60%|██████    | 77/127.84375 [09:47<06:26,  7.60s/it]\r 61%|██████    | 78/127.84375 [09:54<06:18,  7.59s/it]\r 62%|██████▏   | 79/127.84375 [10:02<06:10,  7.59s/it]\r 63%|██████▎   | 80/127.84375 [10:10<06:05,  7.65s/it]\r 63%|██████▎   | 81/127.84375 [10:17<05:57,  7.64s/it]\r 64%|██████▍   | 82/127.84375 [10:25<05:49,  7.63s/it]\r 65%|██████▍   | 83/127.84375 [10:33<05:42,  7.63s/it]\r 66%|██████▌   | 84/127.84375 [10:40<05:35,  7.65s/it]\r 66%|██████▋   | 85/127.84375 [10:48<05:29,  7.68s/it]\r 67%|██████▋   | 86/127.84375 [10:56<05:20,  7.67s/it]\r 68%|██████▊   | 87/127.84375 [11:03<05:12,  7.65s/it]\r 69%|██████▉   | 88/127.84375 [11:11<05:04,  7.63s/it]\r 70%|██████▉   | 89/127.84375 [11:18<04:55,  7.60s/it]\r 70%|███████   | 90/127.84375 [11:26<04:46,  7.57s/it]\r 71%|███████   | 91/127.84375 [11:34<04:39,  7.59s/it]\r 72%|███████▏  | 92/127.84375 [11:41<04:32,  7.61s/it]\r 73%|███████▎  | 93/127.84375 [11:49<04:26,  7.64s/it]\r 74%|███████▎  | 94/127.84375 [11:56<04:17,  7.62s/it]\r 74%|███████▍  | 95/127.84375 [12:04<04:10,  7.62s/it]\r 75%|███████▌  | 96/127.84375 [12:12<04:02,  7.62s/it]\r 76%|███████▌  | 97/127.84375 [12:19<03:54,  7.61s/it]\r 77%|███████▋  | 98/127.84375 [12:27<03:45,  7.55s/it]\r 77%|███████▋  | 99/127.84375 [12:34<03:39,  7.60s/it]\r 78%|███████▊  | 100/127.84375 [12:42<03:31,  7.61s/it]\r 79%|███████▉  | 101/127.84375 [12:50<03:24,  7.60s/it]\r 80%|███████▉  | 102/127.84375 [12:57<03:17,  7.64s/it]\r 81%|████████  | 103/127.84375 [13:05<03:09,  7.61s/it]\r 81%|████████▏ | 104/127.84375 [13:12<03:00,  7.56s/it]\r 82%|████████▏ | 105/127.84375 [13:20<02:53,  7.59s/it]\r 83%|████████▎ | 106/127.84375 [13:28<02:46,  7.60s/it]\r 84%|████████▎ | 107/127.84375 [13:35<02:38,  7.62s/it]\r 84%|████████▍ | 108/127.84375 [13:43<02:31,  7.63s/it]\r 85%|████████▌ | 109/127.84375 [13:51<02:23,  7.63s/it]\r 86%|████████▌ | 110/127.84375 [13:58<02:15,  7.60s/it]\r 87%|████████▋ | 111/127.84375 [14:06<02:08,  7.61s/it]\r 88%|████████▊ | 112/127.84375 [14:13<02:00,  7.62s/it]\r 88%|████████▊ | 113/127.84375 [14:21<01:53,  7.62s/it]\r 89%|████████▉ | 114/127.84375 [14:29<01:45,  7.61s/it]\r 90%|████████▉ | 115/127.84375 [14:36<01:37,  7.56s/it]\r 91%|█████████ | 116/127.84375 [14:44<01:30,  7.60s/it]\r 92%|█████████▏| 117/127.84375 [14:51<01:22,  7.65s/it]\r 92%|█████████▏| 118/127.84375 [14:59<01:15,  7.65s/it]\r 93%|█████████▎| 119/127.84375 [15:07<01:07,  7.63s/it]\r 94%|█████████▍| 120/127.84375 [15:14<00:59,  7.62s/it]\r 95%|█████████▍| 121/127.84375 [15:22<00:52,  7.65s/it]\r 95%|█████████▌| 122/127.84375 [15:30<00:44,  7.60s/it]\r 96%|█████████▌| 123/127.84375 [15:37<00:36,  7.57s/it]\r 97%|█████████▋| 124/127.84375 [15:44<00:28,  7.53s/it]\r 98%|█████████▊| 125/127.84375 [15:52<00:21,  7.57s/it]\r 99%|█████████▊| 126/127.84375 [16:00<00:14,  7.61s/it]\r 99%|█████████▉| 127/127.84375 [16:07<00:06,  7.58s/it]/databricks/python/lib/python3.11/site-packages/tqdm/std.py:524: TqdmWarning: clamping frac to range [0, 1]\n",
      "  full_bar = Bar(frac,\n",
      "\r100%|██████████| 128/127.84375 [16:15<-1:59:59,  7.58s/it]\r129it [16:23,  7.59s/it]                                  \r130it [16:30,  7.63s/it]\r131it [16:38,  7.67s/it]\r132it [16:45,  7.59s/it]\r133it [16:53,  7.62s/it]\r134it [17:01,  7.66s/it]\r135it [17:08,  7.64s/it]\r136it [17:16,  7.61s/it]\r137it [17:24,  7.60s/it]\r138it [17:31,  7.60s/it]\r139it [17:39,  7.63s/it]\r140it [17:47,  7.65s/it]\r141it [17:54,  7.61s/it]\r142it [18:02,  7.64s/it]\r143it [18:09,  7.66s/it]\r144it [18:17,  7.70s/it]\r145it [18:25,  7.63s/it]\r146it [18:32,  7.63s/it]\r147it [18:40,  7.65s/it]\r148it [18:48,  7.60s/it]\r149it [18:55,  7.60s/it]\r150it [19:03,  7.63s/it]\r151it [19:10,  7.63s/it]\r152it [19:18,  7.61s/it]\r153it [19:26,  7.61s/it]\r154it [19:33,  7.59s/it]\r155it [19:41,  7.67s/it]\r156it [19:49,  7.72s/it]\r157it [19:57,  7.70s/it]\r158it [20:04,  7.66s/it]\r159it [20:12,  7.68s/it]\r160it [20:19,  7.65s/it]\r161it [20:27,  7.60s/it]\r162it [20:35,  7.60s/it]\r163it [20:42,  7.58s/it]\r164it [20:50,  7.60s/it]\r165it [20:57,  7.65s/it]\r166it [21:05,  7.60s/it]\r167it [21:13,  7.59s/it]\r168it [21:20,  7.56s/it]\r169it [21:28,  7.57s/it]\r170it [21:35,  7.57s/it]\r171it [21:43,  7.60s/it]\r172it [21:51,  7.63s/it]\r173it [21:58,  7.62s/it]\r174it [22:06,  7.64s/it]\r175it [22:13,  7.65s/it]\r176it [22:21,  7.62s/it]\r177it [22:29,  7.67s/it]\r178it [22:37,  7.69s/it]\r179it [22:44,  7.68s/it]\r180it [22:52,  7.62s/it]\r181it [22:59,  7.58s/it]\r182it [23:07,  7.58s/it]\r183it [23:14,  7.56s/it]\r184it [23:22,  7.61s/it]\r185it [23:30,  7.61s/it]\r186it [23:37,  7.64s/it]\r187it [23:45,  7.65s/it]\r188it [23:53,  7.64s/it]\r189it [24:00,  7.60s/it]\r190it [24:08,  7.62s/it]\r191it [24:16,  7.68s/it]\r192it [24:23,  7.63s/it]\r193it [24:31,  7.62s/it]\r194it [24:39,  7.66s/it]\r195it [24:46,  7.66s/it]\r196it [24:54,  7.64s/it]\r197it [25:01,  7.64s/it]\r198it [25:09,  7.67s/it]\r199it [25:17,  7.68s/it]\r200it [25:25,  7.71s/it]\r201it [25:32,  7.67s/it]\r202it [25:40,  7.70s/it]\r203it [25:48,  7.69s/it]\r204it [25:55,  7.68s/it]\r205it [26:03,  7.65s/it]\r206it [26:11,  7.71s/it]\r207it [26:18,  7.65s/it]\r208it [26:26,  7.69s/it]\r209it [26:34,  7.68s/it]\r210it [26:41,  7.66s/it]\r211it [26:49,  7.63s/it]\r212it [26:57,  7.65s/it]\r213it [27:04,  7.62s/it]\r214it [27:12,  7.64s/it]\r215it [27:19,  7.65s/it]\r216it [27:27,  7.62s/it]\r217it [27:35,  7.64s/it]\r218it [27:42,  7.49s/it]\r219it [27:49,  7.53s/it]\r220it [27:57,  7.55s/it]\r221it [28:05,  7.56s/it]\r222it [28:12,  7.52s/it]\r223it [28:20,  7.55s/it]\r224it [28:27,  7.56s/it]\r225it [28:35,  7.62s/it]\r226it [28:43,  7.62s/it]\r227it [28:50,  7.62s/it]\r228it [28:58,  7.55s/it]\r229it [29:05,  7.57s/it]\r230it [29:13,  7.60s/it]\r231it [29:20,  7.58s/it]\r232it [29:28,  7.56s/it]\r233it [29:36,  7.59s/it]\r234it [29:43,  7.56s/it]\r235it [29:51,  7.63s/it]\r236it [29:59,  7.67s/it]\r237it [30:06,  7.69s/it]\r238it [30:14,  7.62s/it]\r239it [30:21,  7.59s/it]\r240it [30:29,  7.59s/it]\r240it [30:29,  7.62s/it]\n"
     ]
    },
    {
     "name": "stdout",
     "output_type": "stream",
     "text": [
      "Epoch 22 train loss: 0.033172607421875\n",
      "[Train - End / Test - Start Epoch 23] GPU Memory: Allocated=2.30GB, Reserved=3.39GB\n"
     ]
    },
    {
     "name": "stderr",
     "output_type": "stream",
     "text": [
      "\r  0%|          | 0/14.1875 [00:00<?, ?it/s]\r  7%|▋         | 1/14.1875 [00:06<01:28,  6.72s/it]\r 14%|█▍        | 2/14.1875 [00:13<01:22,  6.75s/it]\r 21%|██        | 3/14.1875 [00:20<01:16,  6.80s/it]\r 28%|██▊       | 4/14.1875 [00:27<01:09,  6.77s/it]\r 35%|███▌      | 5/14.1875 [00:33<01:01,  6.72s/it]\r 42%|████▏     | 6/14.1875 [00:40<00:54,  6.69s/it]\r 49%|████▉     | 7/14.1875 [00:47<00:48,  6.71s/it]\r 56%|█████▋    | 8/14.1875 [00:53<00:41,  6.75s/it]\r 63%|██████▎   | 9/14.1875 [01:00<00:34,  6.66s/it]\r 70%|███████   | 10/14.1875 [01:07<00:27,  6.68s/it]\r 78%|███████▊  | 11/14.1875 [01:13<00:21,  6.72s/it]\r 85%|████████▍ | 12/14.1875 [01:20<00:14,  6.75s/it]\r 92%|█████████▏| 13/14.1875 [01:27<00:07,  6.73s/it]\r 99%|█████████▊| 14/14.1875 [01:34<00:01,  6.76s/it]\r15it [01:40,  6.71s/it]                             \r16it [01:47,  6.64s/it]\r17it [01:54,  6.68s/it]\r18it [02:00,  6.61s/it]\r19it [02:07,  6.60s/it]\r20it [02:13,  6.62s/it]\r21it [02:20,  6.64s/it]\r22it [02:27,  6.66s/it]\r23it [02:33,  6.64s/it]\r24it [02:40,  6.68s/it]\r25it [02:47,  6.72s/it]\r26it [02:54,  6.72s/it]\r27it [03:00,  6.72s/it]\r28it [03:07,  6.72s/it]\r29it [03:14,  6.69s/it]\r30it [03:20,  6.64s/it]\r30it [03:20,  6.69s/it]\n"
     ]
    },
    {
     "name": "stdout",
     "output_type": "stream",
     "text": [
      "Cumulative Accuracy for CP: 69.71%\n",
      "Cumulative Accuracy for chopping-board: 90.72%\n",
      "Cumulative Accuracy for finalstep: 90.58%\n",
      "Cumulative Accuracy for glass-bowl-large: 71.88%\n",
      "Cumulative Accuracy for glass-bowl-medium: 69.42%\n",
      "Cumulative Accuracy for glass-bowl-small: 39.13%\n",
      "Cumulative Accuracy for grill-plate: nan%\n",
      "Cumulative Accuracy for group_step: 77.10%\n",
      "Cumulative Accuracy for medium: 91.45%\n",
      "Cumulative Accuracy for oven-dish: 95.65%\n",
      "Cumulative Accuracy for oven-tray: 95.65%\n",
      "Cumulative Accuracy for pan: 100.00%\n",
      "Cumulative Accuracy for pot-one-handle: 98.99%\n",
      "Cumulative Accuracy for pot-two-handles-medium: 75.94%\n",
      "Cumulative Accuracy for pot-two-handles-shallow: 93.48%\n",
      "Cumulative Accuracy for pot-two-handles-small: nan%\n",
      "Cumulative Accuracy for saucepan: 91.30%\n",
      "\n",
      "Mean Top 3 Accuracy (Val): 91.56%\n",
      "Mean Top 1 Accuracy (Val): 85.33%\n",
      "Macro-averaged Accuracy (Val): 83.40%\n",
      "Epoch 22 test loss: 30.625\n",
      "\n",
      "[Test - End Epoch 23] GPU Memory: Allocated=2.30GB, Reserved=3.39GB\n",
      "\n",
      "Epoch 24/120\n",
      "[Train - Start Epoch 24] GPU Memory: Allocated=2.30GB, Reserved=3.39GB\n"
     ]
    },
    {
     "name": "stderr",
     "output_type": "stream",
     "text": [
      "\r  0%|          | 0/127.84375 [00:00<?, ?it/s]\r  1%|          | 1/127.84375 [00:07<16:15,  7.69s/it]\r  2%|▏         | 2/127.84375 [00:15<16:08,  7.70s/it]\r  2%|▏         | 3/127.84375 [00:22<15:48,  7.60s/it]\r  3%|▎         | 4/127.84375 [00:30<15:39,  7.59s/it]\r  4%|▍         | 5/127.84375 [00:38<15:33,  7.60s/it]\r  5%|▍         | 6/127.84375 [00:45<15:22,  7.57s/it]\r  5%|▌         | 7/127.84375 [00:53<15:15,  7.58s/it]\r  6%|▋         | 8/127.84375 [01:01<15:18,  7.67s/it]\r  7%|▋         | 9/127.84375 [01:08<15:08,  7.65s/it]\r  8%|▊         | 10/127.84375 [01:16<15:01,  7.65s/it]\r  9%|▊         | 11/127.84375 [01:23<14:55,  7.66s/it]\r  9%|▉         | 12/127.84375 [01:31<14:47,  7.66s/it]\r 10%|█         | 13/127.84375 [01:39<14:32,  7.59s/it]\r 11%|█         | 14/127.84375 [01:46<14:27,  7.62s/it]\r 12%|█▏        | 15/127.84375 [01:54<14:15,  7.58s/it]\r 13%|█▎        | 16/127.84375 [02:01<14:03,  7.55s/it]\r 13%|█▎        | 17/127.84375 [02:09<14:00,  7.59s/it]\r 14%|█▍        | 18/127.84375 [02:17<13:59,  7.64s/it]\r 15%|█▍        | 19/127.84375 [02:24<13:50,  7.63s/it]\r 16%|█▌        | 20/127.84375 [02:32<13:44,  7.65s/it]\r 16%|█▋        | 21/127.84375 [02:40<13:34,  7.62s/it]\r 17%|█▋        | 22/127.84375 [02:47<13:28,  7.64s/it]\r 18%|█▊        | 23/127.84375 [02:55<13:19,  7.63s/it]\r 19%|█▉        | 24/127.84375 [03:02<13:07,  7.58s/it]\r 20%|█▉        | 25/127.84375 [03:10<12:54,  7.54s/it]\r 20%|██        | 26/127.84375 [03:17<12:51,  7.57s/it]\r 21%|██        | 27/127.84375 [03:25<12:47,  7.61s/it]\r 22%|██▏       | 28/127.84375 [03:33<12:39,  7.61s/it]\r 23%|██▎       | 29/127.84375 [03:40<12:29,  7.59s/it]\r 23%|██▎       | 30/127.84375 [03:48<12:23,  7.60s/it]\r 24%|██▍       | 31/127.84375 [03:55<12:12,  7.57s/it]\r 25%|██▌       | 32/127.84375 [04:03<12:08,  7.60s/it]\r 26%|██▌       | 33/127.84375 [04:11<12:00,  7.60s/it]\r 27%|██▋       | 34/127.84375 [04:18<11:54,  7.61s/it]\r 27%|██▋       | 35/127.84375 [04:26<11:47,  7.62s/it]\r 28%|██▊       | 36/127.84375 [04:34<11:41,  7.63s/it]\r 29%|██▉       | 37/127.84375 [04:41<11:27,  7.57s/it]\r 30%|██▉       | 38/127.84375 [04:49<11:24,  7.62s/it]\r 31%|███       | 39/127.84375 [04:56<11:16,  7.62s/it]\r 31%|███▏      | 40/127.84375 [05:04<11:10,  7.63s/it]\r 32%|███▏      | 41/127.84375 [05:12<11:04,  7.65s/it]\r 33%|███▎      | 42/127.84375 [05:19<10:57,  7.66s/it]\r 34%|███▎      | 43/127.84375 [05:27<10:49,  7.65s/it]\r 34%|███▍      | 44/127.84375 [05:35<10:39,  7.62s/it]\r 35%|███▌      | 45/127.84375 [05:42<10:35,  7.67s/it]\r 36%|███▌      | 46/127.84375 [05:50<10:26,  7.66s/it]\r 37%|███▋      | 47/127.84375 [05:58<10:21,  7.68s/it]\r 38%|███▊      | 48/127.84375 [06:05<10:12,  7.68s/it]\r 38%|███▊      | 49/127.84375 [06:13<10:01,  7.63s/it]\r 39%|███▉      | 50/127.84375 [06:21<09:56,  7.66s/it]\r 40%|███▉      | 51/127.84375 [06:28<09:51,  7.70s/it]\r 41%|████      | 52/127.84375 [06:36<09:45,  7.73s/it]\r 41%|████▏     | 53/127.84375 [06:44<09:36,  7.71s/it]\r 42%|████▏     | 54/127.84375 [06:51<09:27,  7.69s/it]\r 43%|████▎     | 55/127.84375 [06:59<09:17,  7.65s/it]\r 44%|████▍     | 56/127.84375 [07:07<09:08,  7.63s/it]\r 45%|████▍     | 57/127.84375 [07:14<09:01,  7.65s/it]\r 45%|████▌     | 58/127.84375 [07:22<08:52,  7.63s/it]\r 46%|████▌     | 59/127.84375 [07:30<08:46,  7.65s/it]\r 47%|████▋     | 60/127.84375 [07:37<08:39,  7.65s/it]\r 48%|████▊     | 61/127.84375 [07:45<08:32,  7.66s/it]\r 48%|████▊     | 62/127.84375 [07:53<08:24,  7.67s/it]\r 49%|████▉     | 63/127.84375 [08:00<08:17,  7.67s/it]\r 50%|█████     | 64/127.84375 [08:08<08:07,  7.64s/it]\r 51%|█████     | 65/127.84375 [08:16<08:01,  7.66s/it]\r 52%|█████▏    | 66/127.84375 [08:23<07:55,  7.69s/it]\r 52%|█████▏    | 67/127.84375 [08:31<07:46,  7.66s/it]\r 53%|█████▎    | 68/127.84375 [08:39<07:40,  7.69s/it]\r 54%|█████▍    | 69/127.84375 [08:46<07:30,  7.66s/it]\r 55%|█████▍    | 70/127.84375 [08:54<07:20,  7.61s/it]\r 56%|█████▌    | 71/127.84375 [09:01<07:11,  7.60s/it]\r 56%|█████▋    | 72/127.84375 [09:09<07:07,  7.66s/it]\r 57%|█████▋    | 73/127.84375 [09:17<06:59,  7.65s/it]\r 58%|█████▊    | 74/127.84375 [09:25<06:52,  7.67s/it]\r 59%|█████▊    | 75/127.84375 [09:32<06:45,  7.68s/it]\r 59%|█████▉    | 76/127.84375 [09:40<06:35,  7.62s/it]\r 60%|██████    | 77/127.84375 [09:47<06:27,  7.62s/it]\r 61%|██████    | 78/127.84375 [09:55<06:21,  7.65s/it]\r 62%|██████▏   | 79/127.84375 [10:03<06:12,  7.63s/it]\r 63%|██████▎   | 80/127.84375 [10:10<06:02,  7.58s/it]\r 63%|██████▎   | 81/127.84375 [10:18<05:54,  7.57s/it]\r 64%|██████▍   | 82/127.84375 [10:25<05:47,  7.57s/it]\r 65%|██████▍   | 83/127.84375 [10:33<05:38,  7.56s/it]\r 66%|██████▌   | 84/127.84375 [10:40<05:33,  7.61s/it]\r 66%|██████▋   | 85/127.84375 [10:48<05:28,  7.66s/it]\r 67%|██████▋   | 86/127.84375 [10:56<05:18,  7.62s/it]\r 68%|██████▊   | 87/127.84375 [11:04<05:12,  7.65s/it]\r 69%|██████▉   | 88/127.84375 [11:11<05:03,  7.61s/it]\r 70%|██████▉   | 89/127.84375 [11:19<04:54,  7.58s/it]\r 70%|███████   | 90/127.84375 [11:26<04:49,  7.65s/it]\r 71%|███████   | 91/127.84375 [11:34<04:39,  7.60s/it]\r 72%|███████▏  | 92/127.84375 [11:41<04:30,  7.55s/it]\r 73%|███████▎  | 93/127.84375 [11:49<04:25,  7.62s/it]\r 74%|███████▎  | 94/127.84375 [11:57<04:18,  7.64s/it]\r 74%|███████▍  | 95/127.84375 [12:05<04:13,  7.71s/it]\r 75%|███████▌  | 96/127.84375 [12:12<04:05,  7.70s/it]\r 76%|███████▌  | 97/127.84375 [12:20<03:58,  7.73s/it]\r 77%|███████▋  | 98/127.84375 [12:28<03:48,  7.67s/it]\r 77%|███████▋  | 99/127.84375 [12:35<03:40,  7.65s/it]\r 78%|███████▊  | 100/127.84375 [12:43<03:33,  7.66s/it]\r 79%|███████▉  | 101/127.84375 [12:50<03:24,  7.63s/it]\r 80%|███████▉  | 102/127.84375 [12:58<03:16,  7.60s/it]\r 81%|████████  | 103/127.84375 [13:06<03:09,  7.61s/it]\r 81%|████████▏ | 104/127.84375 [13:13<03:01,  7.62s/it]\r 82%|████████▏ | 105/127.84375 [13:21<02:53,  7.59s/it]\r 83%|████████▎ | 106/127.84375 [13:28<02:46,  7.63s/it]\r 84%|████████▎ | 107/127.84375 [13:36<02:38,  7.60s/it]\r 84%|████████▍ | 108/127.84375 [13:44<02:30,  7.59s/it]\r 85%|████████▌ | 109/127.84375 [13:51<02:22,  7.58s/it]\r 86%|████████▌ | 110/127.84375 [13:59<02:15,  7.57s/it]\r 87%|████████▋ | 111/127.84375 [14:06<02:07,  7.56s/it]\r 88%|████████▊ | 112/127.84375 [14:14<02:00,  7.59s/it]\r 88%|████████▊ | 113/127.84375 [14:22<01:52,  7.60s/it]\r 89%|████████▉ | 114/127.84375 [14:29<01:44,  7.57s/it]\r 90%|████████▉ | 115/127.84375 [14:37<01:37,  7.56s/it]\r 91%|█████████ | 116/127.84375 [14:44<01:29,  7.60s/it]\r 92%|█████████▏| 117/127.84375 [14:52<01:21,  7.53s/it]\r 92%|█████████▏| 118/127.84375 [14:59<01:13,  7.52s/it]\r 93%|█████████▎| 119/127.84375 [15:07<01:06,  7.53s/it]\r 94%|█████████▍| 120/127.84375 [15:14<00:58,  7.52s/it]\r 95%|█████████▍| 121/127.84375 [15:22<00:51,  7.58s/it]\r 95%|█████████▌| 122/127.84375 [15:30<00:44,  7.65s/it]\r 96%|█████████▌| 123/127.84375 [15:37<00:37,  7.66s/it]\r 97%|█████████▋| 124/127.84375 [15:45<00:29,  7.60s/it]\r 98%|█████████▊| 125/127.84375 [15:52<00:21,  7.56s/it]\r 99%|█████████▊| 126/127.84375 [16:00<00:14,  7.60s/it]\r 99%|█████████▉| 127/127.84375 [16:08<00:06,  7.61s/it]/databricks/python/lib/python3.11/site-packages/tqdm/std.py:524: TqdmWarning: clamping frac to range [0, 1]\n",
      "  full_bar = Bar(frac,\n",
      "\r100%|██████████| 128/127.84375 [16:15<-1:59:59,  7.62s/it]\r129it [16:23,  7.56s/it]                                  \r130it [16:31,  7.66s/it]\r131it [16:38,  7.67s/it]\r132it [16:46,  7.66s/it]\r133it [16:53,  7.62s/it]\r134it [17:01,  7.62s/it]\r135it [17:09,  7.61s/it]\r136it [17:16,  7.64s/it]\r137it [17:24,  7.64s/it]\r138it [17:32,  7.68s/it]\r139it [17:39,  7.65s/it]\r140it [17:47,  7.68s/it]\r141it [17:55,  7.62s/it]\r142it [18:02,  7.63s/it]\r143it [18:10,  7.62s/it]\r144it [18:18,  7.69s/it]\r145it [18:25,  7.64s/it]\r146it [18:33,  7.64s/it]\r147it [18:41,  7.67s/it]\r148it [18:48,  7.63s/it]\r149it [18:56,  7.63s/it]\r150it [19:03,  7.61s/it]\r151it [19:11,  7.63s/it]\r152it [19:19,  7.64s/it]\r153it [19:26,  7.69s/it]\r154it [19:34,  7.67s/it]\r155it [19:42,  7.71s/it]\r156it [19:50,  7.72s/it]\r157it [19:57,  7.74s/it]\r158it [20:05,  7.75s/it]\r159it [20:13,  7.73s/it]\r160it [20:20,  7.67s/it]\r161it [20:28,  7.65s/it]\r162it [20:35,  7.58s/it]\r163it [20:43,  7.58s/it]\r164it [20:51,  7.59s/it]\r165it [20:58,  7.56s/it]\r166it [21:06,  7.59s/it]\r167it [21:13,  7.59s/it]\r168it [21:21,  7.61s/it]\r169it [21:29,  7.63s/it]\r170it [21:36,  7.62s/it]\r171it [21:44,  7.63s/it]\r172it [21:52,  7.63s/it]\r173it [21:59,  7.67s/it]\r174it [22:07,  7.67s/it]\r175it [22:15,  7.64s/it]\r176it [22:22,  7.66s/it]\r177it [22:30,  7.70s/it]\r178it [22:38,  7.78s/it]\r179it [22:45,  7.68s/it]\r180it [22:53,  7.67s/it]\r181it [23:01,  7.68s/it]\r182it [23:09,  7.70s/it]\r183it [23:16,  7.71s/it]\r184it [23:24,  7.71s/it]\r185it [23:32,  7.70s/it]\r186it [23:39,  7.73s/it]\r187it [23:47,  7.71s/it]\r188it [23:55,  7.63s/it]\r189it [24:02,  7.62s/it]\r190it [24:10,  7.61s/it]\r191it [24:17,  7.58s/it]\r192it [24:25,  7.61s/it]\r193it [24:33,  7.67s/it]\r194it [24:40,  7.62s/it]\r195it [24:48,  7.65s/it]\r196it [24:56,  7.64s/it]\r197it [25:03,  7.64s/it]\r198it [25:11,  7.60s/it]\r199it [25:18,  7.59s/it]\r200it [25:26,  7.61s/it]\r201it [25:34,  7.64s/it]\r202it [25:41,  7.66s/it]\r203it [25:49,  7.64s/it]\r204it [25:57,  7.66s/it]\r205it [26:04,  7.65s/it]\r206it [26:12,  7.65s/it]\r207it [26:20,  7.72s/it]\r208it [26:28,  7.72s/it]\r209it [26:35,  7.68s/it]\r210it [26:43,  7.63s/it]\r211it [26:50,  7.59s/it]\r212it [26:58,  7.61s/it]\r213it [27:05,  7.64s/it]\r214it [27:13,  7.61s/it]\r215it [27:21,  7.65s/it]\r216it [27:28,  7.59s/it]\r217it [27:36,  7.59s/it]\r218it [27:43,  7.59s/it]\r219it [27:51,  7.62s/it]\r220it [27:59,  7.65s/it]\r221it [28:07,  7.74s/it]\r222it [28:14,  7.72s/it]\r223it [28:22,  7.69s/it]\r224it [28:30,  7.67s/it]\r225it [28:37,  7.68s/it]\r226it [28:45,  7.68s/it]\r227it [28:53,  7.62s/it]\r228it [29:00,  7.58s/it]\r229it [29:08,  7.58s/it]\r230it [29:15,  7.57s/it]\r231it [29:23,  7.59s/it]\r232it [29:30,  7.57s/it]\r233it [29:38,  7.60s/it]\r234it [29:46,  7.64s/it]\r235it [29:53,  7.66s/it]\r236it [30:01,  7.65s/it]\r237it [30:09,  7.66s/it]\r238it [30:16,  7.63s/it]\r239it [30:24,  7.63s/it]\r240it [30:32,  7.62s/it]\r240it [30:32,  7.63s/it]\n"
     ]
    },
    {
     "name": "stdout",
     "output_type": "stream",
     "text": [
      "Epoch 23 train loss: 0.031646728515625\n",
      "[Train - End / Test - Start Epoch 24] GPU Memory: Allocated=2.30GB, Reserved=3.39GB\n"
     ]
    },
    {
     "name": "stderr",
     "output_type": "stream",
     "text": [
      "\r  0%|          | 0/14.1875 [00:00<?, ?it/s]\r  7%|▋         | 1/14.1875 [00:06<01:29,  6.81s/it]\r 14%|█▍        | 2/14.1875 [00:13<01:22,  6.79s/it]\r 21%|██        | 3/14.1875 [00:20<01:15,  6.78s/it]\r 28%|██▊       | 4/14.1875 [00:26<01:08,  6.72s/it]\r 35%|███▌      | 5/14.1875 [00:33<01:01,  6.68s/it]\r 42%|████▏     | 6/14.1875 [00:40<00:54,  6.69s/it]\r 49%|████▉     | 7/14.1875 [00:46<00:47,  6.67s/it]\r 56%|█████▋    | 8/14.1875 [00:53<00:41,  6.66s/it]\r 63%|██████▎   | 9/14.1875 [01:00<00:34,  6.69s/it]\r 70%|███████   | 10/14.1875 [01:07<00:28,  6.71s/it]\r 78%|███████▊  | 11/14.1875 [01:13<00:21,  6.68s/it]\r 85%|████████▍ | 12/14.1875 [01:20<00:14,  6.69s/it]\r 92%|█████████▏| 13/14.1875 [01:27<00:07,  6.68s/it]\r 99%|█████████▊| 14/14.1875 [01:33<00:01,  6.63s/it]\r15it [01:40,  6.59s/it]                             \r16it [01:46,  6.65s/it]\r17it [01:53,  6.66s/it]\r18it [02:00,  6.69s/it]\r19it [02:06,  6.70s/it]\r20it [02:13,  6.73s/it]\r21it [02:20,  6.68s/it]\r22it [02:27,  6.69s/it]\r23it [02:33,  6.70s/it]\r24it [02:40,  6.68s/it]\r25it [02:47,  6.70s/it]\r26it [02:53,  6.69s/it]\r27it [03:00,  6.70s/it]\r28it [03:07,  6.69s/it]\r29it [03:13,  6.68s/it]\r30it [03:20,  6.71s/it]\r30it [03:20,  6.69s/it]\n"
     ]
    },
    {
     "name": "stdout",
     "output_type": "stream",
     "text": [
      "Cumulative Accuracy for CP: 69.58%\n",
      "Cumulative Accuracy for chopping-board: 90.83%\n",
      "Cumulative Accuracy for finalstep: 90.56%\n",
      "Cumulative Accuracy for glass-bowl-large: 72.50%\n",
      "Cumulative Accuracy for glass-bowl-medium: 69.72%\n",
      "Cumulative Accuracy for glass-bowl-small: 38.47%\n",
      "Cumulative Accuracy for grill-plate: nan%\n",
      "Cumulative Accuracy for group_step: 76.94%\n",
      "Cumulative Accuracy for medium: 91.81%\n",
      "Cumulative Accuracy for oven-dish: 95.83%\n",
      "Cumulative Accuracy for oven-tray: 95.83%\n",
      "Cumulative Accuracy for pan: 100.00%\n",
      "Cumulative Accuracy for pot-one-handle: 99.03%\n",
      "Cumulative Accuracy for pot-two-handles-medium: 76.39%\n",
      "Cumulative Accuracy for pot-two-handles-shallow: 93.75%\n",
      "Cumulative Accuracy for pot-two-handles-small: nan%\n",
      "Cumulative Accuracy for saucepan: 91.67%\n",
      "\n",
      "Mean Top 3 Accuracy (Val): 94.22%\n",
      "Mean Top 1 Accuracy (Val): 86.44%\n",
      "Macro-averaged Accuracy (Val): 83.53%\n",
      "Epoch 23 test loss: 28.015625\n",
      "\n",
      "[Test - End Epoch 24] GPU Memory: Allocated=2.31GB, Reserved=3.39GB\n",
      "\n",
      "Epoch 25/120\n",
      "[Train - Start Epoch 25] GPU Memory: Allocated=2.31GB, Reserved=3.39GB\n"
     ]
    },
    {
     "name": "stderr",
     "output_type": "stream",
     "text": [
      "\r  0%|          | 0/127.84375 [00:00<?, ?it/s]\r  1%|          | 1/127.84375 [00:07<16:21,  7.74s/it]\r  2%|▏         | 2/127.84375 [00:15<16:09,  7.70s/it]\r  2%|▏         | 3/127.84375 [00:22<15:54,  7.65s/it]\r  3%|▎         | 4/127.84375 [00:30<15:48,  7.66s/it]\r  4%|▍         | 5/127.84375 [00:38<15:37,  7.64s/it]\r  5%|▍         | 6/127.84375 [00:45<15:24,  7.59s/it]\r  5%|▌         | 7/127.84375 [00:53<15:18,  7.60s/it]\r  6%|▋         | 8/127.84375 [01:01<15:16,  7.65s/it]\r  7%|▋         | 9/127.84375 [01:08<15:13,  7.69s/it]\r  8%|▊         | 10/127.84375 [01:16<15:02,  7.66s/it]\r  9%|▊         | 11/127.84375 [01:23<14:48,  7.60s/it]\r  9%|▉         | 12/127.84375 [01:31<14:44,  7.63s/it]\r 10%|█         | 13/127.84375 [01:39<14:34,  7.62s/it]\r 11%|█         | 14/127.84375 [01:46<14:21,  7.56s/it]\r 12%|█▏        | 15/127.84375 [01:54<14:14,  7.58s/it]\r 13%|█▎        | 16/127.84375 [02:01<14:09,  7.60s/it]\r 13%|█▎        | 17/127.84375 [02:09<13:57,  7.56s/it]\r 14%|█▍        | 18/127.84375 [02:17<13:54,  7.60s/it]\r 15%|█▍        | 19/127.84375 [02:24<13:53,  7.65s/it]\r 16%|█▌        | 20/127.84375 [02:32<13:48,  7.68s/it]\r 16%|█▋        | 21/127.84375 [02:40<13:46,  7.73s/it]\r 17%|█▋        | 22/127.84375 [02:48<13:46,  7.81s/it]\r 18%|█▊        | 23/127.84375 [02:56<13:33,  7.76s/it]\r 19%|█▉        | 24/127.84375 [03:03<13:24,  7.75s/it]\r 20%|█▉        | 25/127.84375 [03:11<13:16,  7.75s/it]\r 20%|██        | 26/127.84375 [03:19<13:03,  7.70s/it]\r 21%|██        | 27/127.84375 [03:26<12:54,  7.68s/it]\r 22%|██▏       | 28/127.84375 [03:34<12:45,  7.67s/it]\r 23%|██▎       | 29/127.84375 [03:42<12:43,  7.73s/it]\r 23%|██▎       | 30/127.84375 [03:50<12:34,  7.71s/it]\r 24%|██▍       | 31/127.84375 [03:57<12:24,  7.69s/it]\r 25%|██▌       | 32/127.84375 [04:05<12:13,  7.65s/it]\r 26%|██▌       | 33/127.84375 [04:12<12:04,  7.64s/it]\r 27%|██▋       | 34/127.84375 [04:20<12:00,  7.67s/it]\r 27%|██▋       | 35/127.84375 [04:28<11:52,  7.67s/it]\r 28%|██▊       | 36/127.84375 [04:35<11:40,  7.63s/it]\r 29%|██▉       | 37/127.84375 [04:43<11:29,  7.59s/it]\r 30%|██▉       | 38/127.84375 [04:50<11:21,  7.58s/it]\r 31%|███       | 39/127.84375 [04:58<11:14,  7.59s/it]\r 31%|███▏      | 40/127.84375 [05:06<11:09,  7.62s/it]\r 32%|███▏      | 41/127.84375 [05:13<11:01,  7.61s/it]\r 33%|███▎      | 42/127.84375 [05:21<10:59,  7.68s/it]\r 34%|███▎      | 43/127.84375 [05:29<10:51,  7.68s/it]\r 34%|███▍      | 44/127.84375 [05:36<10:45,  7.70s/it]\r 35%|███▌      | 45/127.84375 [05:44<10:35,  7.67s/it]\r 36%|███▌      | 46/127.84375 [05:52<10:28,  7.68s/it]\r 37%|███▋      | 47/127.84375 [06:00<10:22,  7.70s/it]\r 38%|███▊      | 48/127.84375 [06:07<10:13,  7.68s/it]\r 38%|███▊      | 49/127.84375 [06:15<10:06,  7.69s/it]\r 39%|███▉      | 50/127.84375 [06:23<10:00,  7.71s/it]\r 40%|███▉      | 51/127.84375 [06:30<09:50,  7.69s/it]\r 41%|████      | 52/127.84375 [06:38<09:43,  7.69s/it]\r 41%|████▏     | 53/127.84375 [06:46<09:34,  7.68s/it]\r 42%|████▏     | 54/127.84375 [06:53<09:29,  7.71s/it]\r 43%|████▎     | 55/127.84375 [07:01<09:20,  7.70s/it]\r 44%|████▍     | 56/127.84375 [07:09<09:14,  7.72s/it]\r 45%|████▍     | 57/127.84375 [07:17<09:10,  7.77s/it]\r 45%|████▌     | 58/127.84375 [07:24<08:58,  7.71s/it]\r 46%|████▌     | 59/127.84375 [07:32<08:50,  7.71s/it]\r 47%|████▋     | 60/127.84375 [07:40<08:44,  7.72s/it]\r 48%|████▊     | 61/127.84375 [07:47<08:29,  7.63s/it]\r 48%|████▊     | 62/127.84375 [07:55<08:23,  7.64s/it]\r 49%|████▉     | 63/127.84375 [08:02<08:13,  7.61s/it]\r 50%|█████     | 64/127.84375 [08:10<08:00,  7.53s/it]\r 51%|█████     | 65/127.84375 [08:17<07:56,  7.58s/it]\r 52%|█████▏    | 66/127.84375 [08:25<07:50,  7.61s/it]\r 52%|█████▏    | 67/127.84375 [08:33<07:42,  7.60s/it]\r 53%|█████▎    | 68/127.84375 [08:40<07:36,  7.63s/it]\r 54%|█████▍    | 69/127.84375 [08:48<07:31,  7.67s/it]\r 55%|█████▍    | 70/127.84375 [08:56<07:26,  7.72s/it]\r 56%|█████▌    | 71/127.84375 [09:04<07:16,  7.68s/it]\r 56%|█████▋    | 72/127.84375 [09:11<07:08,  7.68s/it]\r 57%|█████▋    | 73/127.84375 [09:19<07:00,  7.67s/it]\r 58%|█████▊    | 74/127.84375 [09:27<06:55,  7.71s/it]\r 59%|█████▊    | 75/127.84375 [09:34<06:45,  7.68s/it]\r 59%|█████▉    | 76/127.84375 [09:42<06:36,  7.65s/it]\r 60%|██████    | 77/127.84375 [09:50<06:28,  7.64s/it]\r 61%|██████    | 78/127.84375 [09:57<06:22,  7.67s/it]\r 62%|██████▏   | 79/127.84375 [10:05<06:15,  7.68s/it]\r 63%|██████▎   | 80/127.84375 [10:13<06:07,  7.68s/it]\r 63%|██████▎   | 81/127.84375 [10:20<05:59,  7.67s/it]\r 64%|██████▍   | 82/127.84375 [10:28<05:54,  7.73s/it]\r 65%|██████▍   | 83/127.84375 [10:36<05:45,  7.71s/it]\r 66%|██████▌   | 84/127.84375 [10:44<05:40,  7.75s/it]\r 66%|██████▋   | 85/127.84375 [10:51<05:28,  7.67s/it]\r 67%|██████▋   | 86/127.84375 [10:59<05:20,  7.65s/it]\r 68%|██████▊   | 87/127.84375 [11:06<05:12,  7.66s/it]\r 69%|██████▉   | 88/127.84375 [11:14<05:02,  7.59s/it]\r 70%|██████▉   | 89/127.84375 [11:22<04:58,  7.68s/it]\r 70%|███████   | 90/127.84375 [11:30<04:51,  7.70s/it]\r 71%|███████   | 91/127.84375 [11:37<04:44,  7.73s/it]\r 72%|███████▏  | 92/127.84375 [11:45<04:34,  7.67s/it]\r 73%|███████▎  | 93/127.84375 [11:52<04:26,  7.66s/it]\r 74%|███████▎  | 94/127.84375 [12:00<04:18,  7.65s/it]\r 74%|███████▍  | 95/127.84375 [12:08<04:10,  7.63s/it]\r 75%|███████▌  | 96/127.84375 [12:15<04:03,  7.66s/it]\r 76%|███████▌  | 97/127.84375 [12:23<03:57,  7.70s/it]\r 77%|███████▋  | 98/127.84375 [12:31<03:49,  7.69s/it]\r 77%|███████▋  | 99/127.84375 [12:38<03:40,  7.64s/it]\r 78%|███████▊  | 100/127.84375 [12:46<03:33,  7.66s/it]\r 79%|███████▉  | 101/127.84375 [12:54<03:25,  7.64s/it]\r 80%|███████▉  | 102/127.84375 [13:01<03:16,  7.62s/it]\r 81%|████████  | 103/127.84375 [13:09<03:09,  7.64s/it]\r 81%|████████▏ | 104/127.84375 [13:16<03:00,  7.58s/it]\r 82%|████████▏ | 105/127.84375 [13:24<02:52,  7.54s/it]\r 83%|████████▎ | 106/127.84375 [13:32<02:45,  7.58s/it]\r 84%|████████▎ | 107/127.84375 [13:39<02:37,  7.58s/it]\r 84%|████████▍ | 108/127.84375 [13:47<02:30,  7.59s/it]\r 85%|████████▌ | 109/127.84375 [13:54<02:23,  7.59s/it]\r 86%|████████▌ | 110/127.84375 [14:02<02:15,  7.62s/it]\r 87%|████████▋ | 111/127.84375 [14:09<02:07,  7.57s/it]\r 88%|████████▊ | 112/127.84375 [14:17<02:00,  7.62s/it]\r 88%|████████▊ | 113/127.84375 [14:25<01:53,  7.65s/it]\r 89%|████████▉ | 114/127.84375 [14:33<01:46,  7.68s/it]\r 90%|████████▉ | 115/127.84375 [14:40<01:38,  7.67s/it]\r 91%|█████████ | 116/127.84375 [14:48<01:31,  7.69s/it]\r 92%|█████████▏| 117/127.84375 [14:56<01:23,  7.68s/it]\r 92%|█████████▏| 118/127.84375 [15:03<01:15,  7.67s/it]\r 93%|█████████▎| 119/127.84375 [15:11<01:07,  7.66s/it]\r 94%|█████████▍| 120/127.84375 [15:18<00:59,  7.62s/it]\r 95%|█████████▍| 121/127.84375 [15:26<00:52,  7.64s/it]\r 95%|█████████▌| 122/127.84375 [15:34<00:44,  7.64s/it]\r 96%|█████████▌| 123/127.84375 [15:41<00:37,  7.64s/it]\r 97%|█████████▋| 124/127.84375 [15:49<00:29,  7.67s/it]\r 98%|█████████▊| 125/127.84375 [15:57<00:21,  7.70s/it]\r 99%|█████████▊| 126/127.84375 [16:05<00:14,  7.66s/it]\r 99%|█████████▉| 127/127.84375 [16:12<00:06,  7.58s/it]/databricks/python/lib/python3.11/site-packages/tqdm/std.py:524: TqdmWarning: clamping frac to range [0, 1]\n",
      "  full_bar = Bar(frac,\n",
      "\r100%|██████████| 128/127.84375 [16:19<-1:59:59,  7.57s/it]\r129it [16:27,  7.62s/it]                                  \r130it [16:35,  7.58s/it]\r131it [16:43,  7.66s/it]\r132it [16:50,  7.63s/it]\r133it [16:58,  7.66s/it]\r134it [17:05,  7.62s/it]\r135it [17:13,  7.63s/it]\r136it [17:21,  7.63s/it]\r137it [17:28,  7.66s/it]\r138it [17:36,  7.67s/it]\r139it [17:44,  7.74s/it]\r140it [17:52,  7.70s/it]\r141it [17:59,  7.73s/it]\r142it [18:07,  7.77s/it]\r143it [18:15,  7.78s/it]\r144it [18:23,  7.80s/it]\r145it [18:31,  7.76s/it]\r146it [18:38,  7.77s/it]\r147it [18:46,  7.76s/it]\r148it [18:54,  7.77s/it]\r149it [19:02,  7.75s/it]\r150it [19:09,  7.70s/it]\r151it [19:17,  7.67s/it]\r152it [19:24,  7.60s/it]\r153it [19:32,  7.62s/it]\r154it [19:39,  7.61s/it]\r155it [19:47,  7.61s/it]\r156it [19:55,  7.61s/it]\r157it [20:02,  7.60s/it]\r158it [20:10,  7.62s/it]\r159it [20:17,  7.61s/it]\r160it [20:25,  7.63s/it]\r161it [20:33,  7.63s/it]\r162it [20:40,  7.63s/it]\r163it [20:48,  7.59s/it]\r164it [20:56,  7.64s/it]\r165it [21:03,  7.63s/it]\r166it [21:11,  7.66s/it]\r167it [21:19,  7.69s/it]\r168it [21:26,  7.67s/it]\r169it [21:34,  7.65s/it]\r170it [21:42,  7.74s/it]\r171it [21:50,  7.85s/it]\r172it [21:58,  7.87s/it]\r173it [22:06,  7.90s/it]\r174it [22:14,  7.81s/it]\r175it [22:21,  7.73s/it]\r176it [22:29,  7.71s/it]\r177it [22:37,  7.73s/it]\r178it [22:44,  7.67s/it]\r179it [22:52,  7.62s/it]\r180it [22:59,  7.62s/it]\r181it [23:07,  7.63s/it]\r182it [23:15,  7.67s/it]\r183it [23:22,  7.68s/it]\r184it [23:30,  7.67s/it]\r185it [23:37,  7.63s/it]\r186it [23:45,  7.66s/it]\r187it [23:53,  7.67s/it]\r188it [24:01,  7.65s/it]\r189it [24:08,  7.68s/it]\r190it [24:16,  7.64s/it]\r191it [24:23,  7.64s/it]\r192it [24:31,  7.68s/it]\r193it [24:39,  7.67s/it]\r194it [24:46,  7.65s/it]\r195it [24:54,  7.67s/it]\r196it [25:02,  7.70s/it]\r197it [25:10,  7.68s/it]\r198it [25:17,  7.70s/it]\r199it [25:25,  7.70s/it]\r200it [25:33,  7.69s/it]\r201it [25:40,  7.67s/it]\r202it [25:48,  7.67s/it]\r203it [25:56,  7.70s/it]\r204it [26:03,  7.67s/it]\r205it [26:11,  7.63s/it]\r206it [26:19,  7.65s/it]\r207it [26:26,  7.66s/it]\r208it [26:34,  7.59s/it]\r209it [26:41,  7.63s/it]\r210it [26:49,  7.64s/it]\r211it [26:57,  7.63s/it]\r212it [27:04,  7.60s/it]\r213it [27:12,  7.60s/it]\r214it [27:19,  7.60s/it]\r215it [27:27,  7.56s/it]\r216it [27:34,  7.56s/it]\r217it [27:42,  7.63s/it]\r218it [27:50,  7.70s/it]\r219it [27:58,  7.79s/it]\r220it [28:05,  7.63s/it]\r221it [28:13,  7.64s/it]\r222it [28:21,  7.68s/it]\r223it [28:28,  7.65s/it]\r224it [28:36,  7.62s/it]\r225it [28:44,  7.67s/it]\r226it [28:51,  7.61s/it]\r227it [28:59,  7.60s/it]\r228it [29:06,  7.62s/it]\r229it [29:14,  7.62s/it]\r230it [29:22,  7.62s/it]\r231it [29:29,  7.63s/it]\r232it [29:37,  7.69s/it]\r233it [29:45,  7.70s/it]\r234it [29:52,  7.67s/it]\r235it [30:00,  7.67s/it]\r236it [30:08,  7.60s/it]\r237it [30:15,  7.59s/it]\r238it [30:23,  7.60s/it]\r239it [30:30,  7.57s/it]\r240it [30:38,  7.66s/it]\r240it [30:38,  7.66s/it]\n"
     ]
    },
    {
     "name": "stdout",
     "output_type": "stream",
     "text": [
      "Epoch 24 train loss: 0.0020618438720703125\n",
      "[Train - End / Test - Start Epoch 25] GPU Memory: Allocated=2.31GB, Reserved=3.39GB\n"
     ]
    },
    {
     "name": "stderr",
     "output_type": "stream",
     "text": [
      "\r  0%|          | 0/14.1875 [00:00<?, ?it/s]\r  7%|▋         | 1/14.1875 [00:06<01:31,  6.91s/it]\r 14%|█▍        | 2/14.1875 [00:13<01:23,  6.86s/it]\r 21%|██        | 3/14.1875 [00:20<01:16,  6.80s/it]\r 28%|██▊       | 4/14.1875 [00:27<01:08,  6.71s/it]\r 35%|███▌      | 5/14.1875 [00:33<01:02,  6.77s/it]\r 42%|████▏     | 6/14.1875 [00:40<00:55,  6.78s/it]\r 49%|████▉     | 7/14.1875 [00:47<00:48,  6.81s/it]\r 56%|█████▋    | 8/14.1875 [00:54<00:41,  6.78s/it]\r 63%|██████▎   | 9/14.1875 [01:00<00:35,  6.75s/it]\r 70%|███████   | 10/14.1875 [01:07<00:28,  6.76s/it]\r 78%|███████▊  | 11/14.1875 [01:14<00:21,  6.75s/it]\r 85%|████████▍ | 12/14.1875 [01:21<00:14,  6.74s/it]\r 92%|█████████▏| 13/14.1875 [01:27<00:08,  6.74s/it]\r 99%|█████████▊| 14/14.1875 [01:34<00:01,  6.71s/it]\r15it [01:41,  6.70s/it]                             \r16it [01:47,  6.67s/it]\r17it [01:54,  6.68s/it]\r18it [02:01,  6.69s/it]\r19it [02:07,  6.67s/it]\r20it [02:14,  6.64s/it]\r21it [02:21,  6.65s/it]\r22it [02:27,  6.66s/it]\r23it [02:34,  6.68s/it]\r24it [02:41,  6.67s/it]\r25it [02:47,  6.69s/it]\r26it [02:54,  6.69s/it]\r27it [03:01,  6.69s/it]\r28it [03:07,  6.67s/it]\r29it [03:14,  6.67s/it]\r30it [03:21,  6.67s/it]\r30it [03:21,  6.71s/it]\n"
     ]
    },
    {
     "name": "stdout",
     "output_type": "stream",
     "text": [
      "Cumulative Accuracy for CP: 69.60%\n",
      "Cumulative Accuracy for chopping-board: 91.07%\n",
      "Cumulative Accuracy for finalstep: 90.67%\n",
      "Cumulative Accuracy for glass-bowl-large: 72.53%\n",
      "Cumulative Accuracy for glass-bowl-medium: 70.00%\n",
      "Cumulative Accuracy for glass-bowl-small: 37.87%\n",
      "Cumulative Accuracy for grill-plate: nan%\n",
      "Cumulative Accuracy for group_step: 77.20%\n",
      "Cumulative Accuracy for medium: 91.87%\n",
      "Cumulative Accuracy for oven-dish: 96.00%\n",
      "Cumulative Accuracy for oven-tray: 95.87%\n",
      "Cumulative Accuracy for pan: 100.00%\n",
      "Cumulative Accuracy for pot-one-handle: 99.07%\n",
      "Cumulative Accuracy for pot-two-handles-medium: 76.40%\n",
      "Cumulative Accuracy for pot-two-handles-shallow: 93.33%\n",
      "Cumulative Accuracy for pot-two-handles-small: nan%\n",
      "Cumulative Accuracy for saucepan: 92.00%\n",
      "\n",
      "Mean Top 3 Accuracy (Val): 92.67%\n",
      "Mean Top 1 Accuracy (Val): 84.44%\n",
      "Macro-averaged Accuracy (Val): 83.56%\n",
      "Epoch 24 test loss: 29.671875\n",
      "\n",
      "[Test - End Epoch 25] GPU Memory: Allocated=2.31GB, Reserved=3.39GB\n",
      "\n",
      "Epoch 26/120\n",
      "[Train - Start Epoch 26] GPU Memory: Allocated=2.31GB, Reserved=3.39GB\n"
     ]
    },
    {
     "name": "stderr",
     "output_type": "stream",
     "text": [
      "\r  0%|          | 0/127.84375 [00:00<?, ?it/s]\r  1%|          | 1/127.84375 [00:07<15:43,  7.44s/it]\r  2%|▏         | 2/127.84375 [00:15<15:54,  7.58s/it]\r  2%|▏         | 3/127.84375 [00:22<15:50,  7.62s/it]\r  3%|▎         | 4/127.84375 [00:30<15:43,  7.62s/it]\r  4%|▍         | 5/127.84375 [00:37<15:28,  7.56s/it]\r  5%|▍         | 6/127.84375 [00:45<15:23,  7.58s/it]\r  5%|▌         | 7/127.84375 [00:52<15:10,  7.54s/it]\r  6%|▋         | 8/127.84375 [01:00<15:06,  7.56s/it]\r  7%|▋         | 9/127.84375 [01:08<14:57,  7.55s/it]\r  8%|▊         | 10/127.84375 [01:15<14:53,  7.58s/it]\r  9%|▊         | 11/127.84375 [01:23<14:45,  7.58s/it]\r  9%|▉         | 12/127.84375 [01:30<14:36,  7.56s/it]\r 10%|█         | 13/127.84375 [01:38<14:29,  7.58s/it]\r 11%|█         | 14/127.84375 [01:46<14:24,  7.59s/it]\r 12%|█▏        | 15/127.84375 [01:53<14:14,  7.57s/it]\r 13%|█▎        | 16/127.84375 [02:01<14:07,  7.58s/it]\r 13%|█▎        | 17/127.84375 [02:08<14:06,  7.64s/it]\r 14%|█▍        | 18/127.84375 [02:16<13:56,  7.62s/it]\r 15%|█▍        | 19/127.84375 [02:24<13:55,  7.68s/it]\r 16%|█▌        | 20/127.84375 [02:31<13:47,  7.67s/it]\r 16%|█▋        | 21/127.84375 [02:39<13:40,  7.68s/it]\r 17%|█▋        | 22/127.84375 [02:47<13:30,  7.66s/it]\r 18%|█▊        | 23/127.84375 [02:54<13:17,  7.61s/it]\r 19%|█▉        | 24/127.84375 [03:02<13:12,  7.63s/it]\r 20%|█▉        | 25/127.84375 [03:10<13:05,  7.63s/it]\r 20%|██        | 26/127.84375 [03:17<12:53,  7.60s/it]\r 21%|██        | 27/127.84375 [03:25<12:41,  7.55s/it]\r 22%|██▏       | 28/127.84375 [03:32<12:36,  7.57s/it]\r 23%|██▎       | 29/127.84375 [03:40<12:23,  7.52s/it]\r 23%|██▎       | 30/127.84375 [03:47<12:24,  7.61s/it]\r 24%|██▍       | 31/127.84375 [03:55<12:17,  7.62s/it]\r 25%|██▌       | 32/127.84375 [04:03<12:10,  7.62s/it]\r 26%|██▌       | 33/127.84375 [04:10<11:59,  7.59s/it]\r 27%|██▋       | 34/127.84375 [04:18<11:56,  7.63s/it]\r 27%|██▋       | 35/127.84375 [04:25<11:46,  7.61s/it]\r 28%|██▊       | 36/127.84375 [04:33<11:42,  7.65s/it]\r 29%|██▉       | 37/127.84375 [04:41<11:37,  7.68s/it]\r 30%|██▉       | 38/127.84375 [04:48<11:25,  7.63s/it]\r 31%|███       | 39/127.84375 [04:56<11:16,  7.61s/it]\r 31%|███▏      | 40/127.84375 [05:04<11:13,  7.67s/it]\r 32%|███▏      | 41/127.84375 [05:11<11:02,  7.63s/it]\r 33%|███▎      | 42/127.84375 [05:19<10:55,  7.64s/it]\r 34%|███▎      | 43/127.84375 [05:27<10:47,  7.63s/it]\r 34%|███▍      | 44/127.84375 [05:34<10:36,  7.60s/it]\r 35%|███▌      | 45/127.84375 [05:42<10:34,  7.66s/it]\r 36%|███▌      | 46/127.84375 [05:50<10:27,  7.66s/it]\r 37%|███▋      | 47/127.84375 [05:57<10:16,  7.63s/it]\r 38%|███▊      | 48/127.84375 [06:05<10:09,  7.63s/it]\r 38%|███▊      | 49/127.84375 [06:13<10:02,  7.65s/it]\r 39%|███▉      | 50/127.84375 [06:20<09:52,  7.61s/it]\r 40%|███▉      | 51/127.84375 [06:28<09:45,  7.62s/it]\r 41%|████      | 52/127.84375 [06:35<09:35,  7.59s/it]\r 41%|████▏     | 53/127.84375 [06:43<09:30,  7.62s/it]\r 42%|████▏     | 54/127.84375 [06:50<09:20,  7.59s/it]\r 43%|████▎     | 55/127.84375 [06:58<09:12,  7.58s/it]\r 44%|████▍     | 56/127.84375 [07:06<09:09,  7.64s/it]\r 45%|████▍     | 57/127.84375 [07:13<09:00,  7.63s/it]\r 45%|████▌     | 58/127.84375 [07:21<08:56,  7.68s/it]\r 46%|████▌     | 59/127.84375 [07:29<08:51,  7.71s/it]\r 47%|████▋     | 60/127.84375 [07:37<08:45,  7.74s/it]\r 48%|████▊     | 61/127.84375 [07:44<08:34,  7.70s/it]\r 48%|████▊     | 62/127.84375 [07:52<08:24,  7.67s/it]\r 49%|████▉     | 63/127.84375 [08:00<08:18,  7.69s/it]\r 50%|█████     | 64/127.84375 [08:07<08:10,  7.69s/it]\r 51%|█████     | 65/127.84375 [08:15<08:04,  7.71s/it]\r 52%|█████▏    | 66/127.84375 [08:23<07:53,  7.66s/it]\r 52%|█████▏    | 67/127.84375 [08:30<07:45,  7.66s/it]\r 53%|█████▎    | 68/127.84375 [08:38<07:38,  7.66s/it]\r 54%|█████▍    | 69/127.84375 [08:46<07:31,  7.68s/it]\r 55%|█████▍    | 70/127.84375 [08:53<07:24,  7.69s/it]\r 56%|█████▌    | 71/127.84375 [09:01<07:18,  7.71s/it]\r 56%|█████▋    | 72/127.84375 [09:09<07:08,  7.68s/it]\r 57%|█████▋    | 73/127.84375 [09:16<06:59,  7.65s/it]\r 58%|█████▊    | 74/127.84375 [09:24<06:53,  7.67s/it]\r 59%|█████▊    | 75/127.84375 [09:32<06:45,  7.67s/it]\r 59%|█████▉    | 76/127.84375 [09:39<06:36,  7.66s/it]\r 60%|██████    | 77/127.84375 [09:47<06:30,  7.68s/it]\r 61%|██████    | 78/127.84375 [09:55<06:21,  7.65s/it]\r 62%|██████▏   | 79/127.84375 [10:02<06:13,  7.64s/it]\r 63%|██████▎   | 80/127.84375 [10:10<06:08,  7.71s/it]\r 63%|██████▎   | 81/127.84375 [10:18<06:01,  7.72s/it]\r 64%|██████▍   | 82/127.84375 [10:26<05:53,  7.70s/it]\r 65%|██████▍   | 83/127.84375 [10:33<05:46,  7.72s/it]\r 66%|██████▌   | 84/127.84375 [10:41<05:35,  7.66s/it]\r 66%|██████▋   | 85/127.84375 [10:49<05:29,  7.69s/it]\r 67%|██████▋   | 86/127.84375 [10:56<05:22,  7.70s/it]\r 68%|██████▊   | 87/127.84375 [11:04<05:11,  7.64s/it]\r 69%|██████▉   | 88/127.84375 [11:11<05:03,  7.63s/it]\r 70%|██████▉   | 89/127.84375 [11:19<04:56,  7.64s/it]\r 70%|███████   | 90/127.84375 [11:27<04:47,  7.60s/it]\r 71%|███████   | 91/127.84375 [11:34<04:39,  7.58s/it]\r 72%|███████▏  | 92/127.84375 [11:42<04:33,  7.63s/it]\r 73%|███████▎  | 93/127.84375 [11:50<04:26,  7.66s/it]\r 74%|███████▎  | 94/127.84375 [11:57<04:19,  7.66s/it]\r 74%|███████▍  | 95/127.84375 [12:05<04:11,  7.65s/it]\r 75%|███████▌  | 96/127.84375 [12:12<04:01,  7.57s/it]\r 76%|███████▌  | 97/127.84375 [12:20<03:54,  7.60s/it]\r 77%|███████▋  | 98/127.84375 [12:28<03:46,  7.58s/it]\r 77%|███████▋  | 99/127.84375 [12:35<03:39,  7.62s/it]\r 78%|███████▊  | 100/127.84375 [12:43<03:32,  7.64s/it]\r 79%|███████▉  | 101/127.84375 [12:51<03:24,  7.63s/it]\r 80%|███████▉  | 102/127.84375 [12:58<03:18,  7.67s/it]\r 81%|████████  | 103/127.84375 [13:06<03:09,  7.64s/it]\r 81%|████████▏ | 104/127.84375 [13:14<03:02,  7.66s/it]\r 82%|████████▏ | 105/127.84375 [13:21<02:56,  7.72s/it]\r 83%|████████▎ | 106/127.84375 [13:29<02:48,  7.70s/it]\r 84%|████████▎ | 107/127.84375 [13:37<02:40,  7.68s/it]\r 84%|████████▍ | 108/127.84375 [13:45<02:33,  7.72s/it]\r 85%|████████▌ | 109/127.84375 [13:52<02:24,  7.69s/it]\r 86%|████████▌ | 110/127.84375 [14:00<02:17,  7.68s/it]\r 87%|████████▋ | 111/127.84375 [14:07<02:08,  7.61s/it]\r 88%|████████▊ | 112/127.84375 [14:15<02:01,  7.64s/it]\r 88%|████████▊ | 113/127.84375 [14:23<01:53,  7.64s/it]\r 89%|████████▉ | 114/127.84375 [14:30<01:45,  7.63s/it]\r 90%|████████▉ | 115/127.84375 [14:38<01:38,  7.66s/it]\r 91%|█████████ | 116/127.84375 [14:46<01:30,  7.64s/it]\r 92%|█████████▏| 117/127.84375 [14:53<01:22,  7.63s/it]\r 92%|█████████▏| 118/127.84375 [15:01<01:15,  7.64s/it]\r 93%|█████████▎| 119/127.84375 [15:09<01:08,  7.69s/it]\r 94%|█████████▍| 120/127.84375 [15:16<00:59,  7.65s/it]\r 95%|█████████▍| 121/127.84375 [15:24<00:52,  7.65s/it]\r 95%|█████████▌| 122/127.84375 [15:31<00:44,  7.63s/it]\r 96%|█████████▌| 123/127.84375 [15:39<00:36,  7.63s/it]\r 97%|█████████▋| 124/127.84375 [15:47<00:29,  7.68s/it]\r 98%|█████████▊| 125/127.84375 [15:55<00:21,  7.68s/it]\r 99%|█████████▊| 126/127.84375 [16:02<00:14,  7.67s/it]\r 99%|█████████▉| 127/127.84375 [16:10<00:06,  7.62s/it]/databricks/python/lib/python3.11/site-packages/tqdm/std.py:524: TqdmWarning: clamping frac to range [0, 1]\n",
      "  full_bar = Bar(frac,\n",
      "\r100%|██████████| 128/127.84375 [16:17<-1:59:59,  7.61s/it]\r129it [16:25,  7.60s/it]                                  \r130it [16:32,  7.59s/it]\r131it [16:40,  7.62s/it]\r132it [16:48,  7.59s/it]\r133it [16:55,  7.56s/it]\r134it [17:03,  7.59s/it]\r135it [17:11,  7.62s/it]\r136it [17:18,  7.65s/it]\r137it [17:26,  7.63s/it]\r138it [17:33,  7.64s/it]\r139it [17:41,  7.59s/it]\r140it [17:49,  7.64s/it]\r141it [17:56,  7.66s/it]\r142it [18:04,  7.66s/it]\r143it [18:12,  7.74s/it]\r144it [18:20,  7.78s/it]\r145it [18:27,  7.71s/it]\r146it [18:35,  7.75s/it]\r147it [18:43,  7.70s/it]\r148it [18:51,  7.70s/it]\r149it [18:58,  7.72s/it]\r150it [19:06,  7.70s/it]\r151it [19:14,  7.76s/it]\r152it [19:22,  7.78s/it]\r153it [19:29,  7.74s/it]\r154it [19:37,  7.79s/it]\r155it [19:45,  7.80s/it]\r156it [19:53,  7.80s/it]\r157it [20:01,  7.76s/it]\r158it [20:08,  7.69s/it]\r159it [20:16,  7.65s/it]\r160it [20:23,  7.62s/it]\r161it [20:31,  7.57s/it]\r162it [20:38,  7.62s/it]\r163it [20:46,  7.62s/it]\r164it [20:54,  7.60s/it]\r165it [21:01,  7.61s/it]\r166it [21:09,  7.62s/it]\r167it [21:16,  7.63s/it]\r168it [21:24,  7.64s/it]\r169it [21:32,  7.68s/it]\r170it [21:39,  7.62s/it]\r171it [21:47,  7.66s/it]\r172it [21:55,  7.66s/it]\r173it [22:02,  7.66s/it]\r174it [22:10,  7.66s/it]\r175it [22:18,  7.69s/it]\r176it [22:25,  7.65s/it]\r177it [22:33,  7.62s/it]\r178it [22:41,  7.63s/it]\r179it [22:48,  7.64s/it]\r180it [22:56,  7.68s/it]\r181it [23:04,  7.65s/it]\r182it [23:11,  7.63s/it]\r183it [23:19,  7.65s/it]\r184it [23:27,  7.64s/it]\r185it [23:34,  7.59s/it]\r186it [23:42,  7.60s/it]\r187it [23:49,  7.59s/it]\r188it [23:57,  7.63s/it]\r189it [24:05,  7.61s/it]\r190it [24:12,  7.62s/it]\r191it [24:20,  7.66s/it]\r192it [24:28,  7.69s/it]\r193it [24:35,  7.69s/it]\r194it [24:43,  7.67s/it]\r195it [24:51,  7.64s/it]\r196it [24:58,  7.64s/it]\r197it [25:06,  7.63s/it]\r198it [25:13,  7.64s/it]\r199it [25:21,  7.65s/it]\r200it [25:29,  7.64s/it]\r201it [25:36,  7.62s/it]\r202it [25:44,  7.59s/it]\r203it [25:52,  7.62s/it]\r204it [25:59,  7.63s/it]\r205it [26:07,  7.60s/it]\r206it [26:14,  7.62s/it]\r207it [26:22,  7.57s/it]\r208it [26:30,  7.61s/it]\r209it [26:37,  7.63s/it]\r210it [26:45,  7.65s/it]\r211it [26:53,  7.65s/it]\r212it [27:00,  7.64s/it]\r213it [27:08,  7.66s/it]\r214it [27:15,  7.62s/it]\r215it [27:23,  7.57s/it]\r216it [27:30,  7.57s/it]\r217it [27:38,  7.61s/it]\r218it [27:46,  7.63s/it]\r219it [27:53,  7.62s/it]\r220it [28:01,  7.65s/it]\r221it [28:09,  7.67s/it]\r222it [28:17,  7.70s/it]\r223it [28:24,  7.66s/it]\r224it [28:32,  7.63s/it]\r225it [28:39,  7.54s/it]\r226it [28:47,  7.55s/it]\r227it [28:54,  7.52s/it]\r228it [29:01,  7.47s/it]\r229it [29:09,  7.51s/it]\r230it [29:17,  7.53s/it]\r231it [29:24,  7.59s/it]\r232it [29:32,  7.60s/it]\r233it [29:40,  7.60s/it]\r234it [29:47,  7.60s/it]\r235it [29:55,  7.60s/it]\r236it [30:03,  7.63s/it]\r237it [30:10,  7.66s/it]\r238it [30:18,  7.64s/it]\r239it [30:26,  7.67s/it]\r240it [30:33,  7.61s/it]\r240it [30:33,  7.64s/it]\n"
     ]
    },
    {
     "name": "stdout",
     "output_type": "stream",
     "text": [
      "Epoch 25 train loss: 0.007137298583984375\n",
      "[Train - End / Test - Start Epoch 26] GPU Memory: Allocated=2.30GB, Reserved=3.39GB\n"
     ]
    },
    {
     "name": "stderr",
     "output_type": "stream",
     "text": [
      "\r  0%|          | 0/14.1875 [00:00<?, ?it/s]\r  7%|▋         | 1/14.1875 [00:06<01:29,  6.75s/it]\r 14%|█▍        | 2/14.1875 [00:13<01:21,  6.67s/it]\r 21%|██        | 3/14.1875 [00:19<01:14,  6.63s/it]\r 28%|██▊       | 4/14.1875 [00:26<01:07,  6.64s/it]\r 35%|███▌      | 5/14.1875 [00:33<01:00,  6.63s/it]\r 42%|████▏     | 6/14.1875 [00:39<00:54,  6.60s/it]\r 49%|████▉     | 7/14.1875 [00:46<00:47,  6.57s/it]\r 56%|█████▋    | 8/14.1875 [00:52<00:40,  6.56s/it]\r 63%|██████▎   | 9/14.1875 [00:59<00:34,  6.64s/it]\r 70%|███████   | 10/14.1875 [01:06<00:28,  6.69s/it]\r 78%|███████▊  | 11/14.1875 [01:13<00:21,  6.75s/it]\r 85%|████████▍ | 12/14.1875 [01:19<00:14,  6.73s/it]\r 92%|█████████▏| 13/14.1875 [01:26<00:07,  6.71s/it]\r 99%|█████████▊| 14/14.1875 [01:33<00:01,  6.78s/it]\r15it [01:40,  6.84s/it]                             \r16it [01:47,  6.85s/it]\r17it [01:54,  6.81s/it]\r18it [02:00,  6.82s/it]\r19it [02:07,  6.81s/it]\r20it [02:14,  6.81s/it]\r21it [02:21,  6.73s/it]\r22it [02:27,  6.71s/it]\r23it [02:34,  6.74s/it]\r24it [02:41,  6.74s/it]\r25it [02:48,  6.81s/it]\r26it [02:55,  6.84s/it]\r27it [03:01,  6.79s/it]\r28it [03:08,  6.81s/it]\r29it [03:15,  6.83s/it]\r30it [03:22,  6.75s/it]\r30it [03:22,  6.74s/it]\n"
     ]
    },
    {
     "name": "stdout",
     "output_type": "stream",
     "text": [
      "Cumulative Accuracy for CP: 69.36%\n",
      "Cumulative Accuracy for chopping-board: 91.15%\n",
      "Cumulative Accuracy for finalstep: 90.13%\n",
      "Cumulative Accuracy for glass-bowl-large: 72.82%\n",
      "Cumulative Accuracy for glass-bowl-medium: 70.13%\n",
      "Cumulative Accuracy for glass-bowl-small: 37.69%\n",
      "Cumulative Accuracy for grill-plate: nan%\n",
      "Cumulative Accuracy for group_step: 76.79%\n",
      "Cumulative Accuracy for medium: 91.79%\n",
      "Cumulative Accuracy for oven-dish: 96.15%\n",
      "Cumulative Accuracy for oven-tray: 96.03%\n",
      "Cumulative Accuracy for pan: 100.00%\n",
      "Cumulative Accuracy for pot-one-handle: 99.10%\n",
      "Cumulative Accuracy for pot-two-handles-medium: 76.41%\n",
      "Cumulative Accuracy for pot-two-handles-shallow: 92.95%\n",
      "Cumulative Accuracy for pot-two-handles-small: nan%\n",
      "Cumulative Accuracy for saucepan: 92.31%\n",
      "\n",
      "Mean Top 3 Accuracy (Val): 92.89%\n",
      "Mean Top 1 Accuracy (Val): 82.44%\n",
      "Macro-averaged Accuracy (Val): 83.52%\n",
      "Epoch 25 test loss: 30.453125\n",
      "\n",
      "[Test - End Epoch 26] GPU Memory: Allocated=2.30GB, Reserved=3.39GB\n",
      "\n",
      "Epoch 27/120\n",
      "[Train - Start Epoch 27] GPU Memory: Allocated=2.30GB, Reserved=3.39GB\n"
     ]
    },
    {
     "name": "stderr",
     "output_type": "stream",
     "text": [
      "\r  0%|          | 0/127.84375 [00:00<?, ?it/s]\r  1%|          | 1/127.84375 [00:07<16:07,  7.63s/it]\r  2%|▏         | 2/127.84375 [00:15<16:09,  7.70s/it]\r  2%|▏         | 3/127.84375 [00:23<15:57,  7.67s/it]\r  3%|▎         | 4/127.84375 [00:30<15:56,  7.73s/it]\r  4%|▍         | 5/127.84375 [00:38<15:51,  7.74s/it]\r  5%|▍         | 6/127.84375 [00:46<15:36,  7.68s/it]\r  5%|▌         | 7/127.84375 [00:53<15:31,  7.71s/it]\r  6%|▋         | 8/127.84375 [01:01<15:17,  7.65s/it]\r  7%|▋         | 9/127.84375 [01:09<15:12,  7.68s/it]\r  8%|▊         | 10/127.84375 [01:16<14:58,  7.62s/it]\r  9%|▊         | 11/127.84375 [01:24<14:52,  7.64s/it]\r  9%|▉         | 12/127.84375 [01:31<14:43,  7.62s/it]\r 10%|█         | 13/127.84375 [01:39<14:33,  7.61s/it]\r 11%|█         | 14/127.84375 [01:47<14:29,  7.64s/it]\r 12%|█▏        | 15/127.84375 [01:54<14:18,  7.60s/it]\r 13%|█▎        | 16/127.84375 [02:02<14:07,  7.58s/it]\r 13%|█▎        | 17/127.84375 [02:09<13:58,  7.57s/it]\r 14%|█▍        | 18/127.84375 [02:17<13:53,  7.59s/it]\r 15%|█▍        | 19/127.84375 [02:25<13:47,  7.60s/it]\r 16%|█▌        | 20/127.84375 [02:32<13:39,  7.60s/it]\r 16%|█▋        | 21/127.84375 [02:40<13:29,  7.58s/it]\r 17%|█▋        | 22/127.84375 [02:47<13:22,  7.58s/it]\r 18%|█▊        | 23/127.84375 [02:55<13:14,  7.58s/it]\r 19%|█▉        | 24/127.84375 [03:03<13:10,  7.61s/it]\r 20%|█▉        | 25/127.84375 [03:10<13:03,  7.62s/it]\r 20%|██        | 26/127.84375 [03:17<12:43,  7.50s/it]\r 21%|██        | 27/127.84375 [03:25<12:37,  7.51s/it]\r 22%|██▏       | 28/127.84375 [03:33<12:34,  7.56s/it]\r 23%|██▎       | 29/127.84375 [03:40<12:32,  7.61s/it]\r 23%|██▎       | 30/127.84375 [03:48<12:27,  7.64s/it]\r 24%|██▍       | 31/127.84375 [03:56<12:17,  7.62s/it]\r 25%|██▌       | 32/127.84375 [04:03<12:12,  7.64s/it]\r 26%|██▌       | 33/127.84375 [04:11<12:07,  7.67s/it]\r 27%|██▋       | 34/127.84375 [04:19<12:02,  7.70s/it]\r 27%|██▋       | 35/127.84375 [04:26<11:51,  7.66s/it]\r 28%|██▊       | 36/127.84375 [04:34<11:49,  7.73s/it]\r 29%|██▉       | 37/127.84375 [04:42<11:41,  7.72s/it]\r 30%|██▉       | 38/127.84375 [04:50<11:34,  7.73s/it]\r 31%|███       | 39/127.84375 [04:57<11:26,  7.72s/it]\r 31%|███▏      | 40/127.84375 [05:05<11:15,  7.69s/it]\r 32%|███▏      | 41/127.84375 [05:13<11:06,  7.67s/it]\r 33%|███▎      | 42/127.84375 [05:20<10:59,  7.68s/it]\r 34%|███▎      | 43/127.84375 [05:28<10:52,  7.69s/it]\r 34%|███▍      | 44/127.84375 [05:36<10:50,  7.76s/it]\r 35%|███▌      | 45/127.84375 [05:44<10:41,  7.75s/it]\r 36%|███▌      | 46/127.84375 [05:51<10:28,  7.68s/it]\r 37%|███▋      | 47/127.84375 [05:59<10:20,  7.67s/it]\r 38%|███▊      | 48/127.84375 [06:07<10:15,  7.71s/it]\r 38%|███▊      | 49/127.84375 [06:14<10:08,  7.72s/it]\r 39%|███▉      | 50/127.84375 [06:22<09:57,  7.68s/it]\r 40%|███▉      | 51/127.84375 [06:30<09:47,  7.65s/it]\r 41%|████      | 52/127.84375 [06:37<09:38,  7.62s/it]\r 41%|████▏     | 53/127.84375 [06:45<09:33,  7.66s/it]\r 42%|████▏     | 54/127.84375 [06:53<09:28,  7.70s/it]\r 43%|████▎     | 55/127.84375 [07:00<09:21,  7.71s/it]\r 44%|████▍     | 56/127.84375 [07:08<09:17,  7.76s/it]\r 45%|████▍     | 57/127.84375 [07:16<09:05,  7.71s/it]\r 45%|████▌     | 58/127.84375 [07:24<08:56,  7.68s/it]\r 46%|████▌     | 59/127.84375 [07:31<08:47,  7.67s/it]\r 47%|████▋     | 60/127.84375 [07:39<08:43,  7.71s/it]\r 48%|████▊     | 61/127.84375 [07:47<08:31,  7.66s/it]\r 48%|████▊     | 62/127.84375 [07:54<08:25,  7.67s/it]\r 49%|████▉     | 63/127.84375 [08:02<08:16,  7.66s/it]\r 50%|█████     | 64/127.84375 [08:10<08:11,  7.70s/it]\r 51%|█████     | 65/127.84375 [08:17<08:04,  7.71s/it]\r 52%|█████▏    | 66/127.84375 [08:25<07:56,  7.71s/it]\r 52%|█████▏    | 67/127.84375 [08:33<07:48,  7.70s/it]\r 53%|█████▎    | 68/127.84375 [08:40<07:37,  7.65s/it]\r 54%|█████▍    | 69/127.84375 [08:48<07:30,  7.65s/it]\r 55%|█████▍    | 70/127.84375 [08:56<07:22,  7.64s/it]\r 56%|█████▌    | 71/127.84375 [09:03<07:13,  7.63s/it]\r 56%|█████▋    | 72/127.84375 [09:11<07:05,  7.61s/it]\r 57%|█████▋    | 73/127.84375 [09:18<06:56,  7.60s/it]\r 58%|█████▊    | 74/127.84375 [09:26<06:50,  7.62s/it]\r 59%|█████▊    | 75/127.84375 [09:34<06:48,  7.72s/it]\r 59%|█████▉    | 76/127.84375 [09:42<06:40,  7.72s/it]\r 60%|██████    | 77/127.84375 [09:49<06:32,  7.72s/it]\r 61%|██████    | 78/127.84375 [09:57<06:25,  7.74s/it]\r 62%|██████▏   | 79/127.84375 [10:05<06:13,  7.64s/it]\r 63%|██████▎   | 80/127.84375 [10:12<06:05,  7.63s/it]\r 63%|██████▎   | 81/127.84375 [10:20<05:58,  7.66s/it]\r 64%|██████▍   | 82/127.84375 [10:27<05:50,  7.64s/it]\r 65%|██████▍   | 83/127.84375 [10:35<05:41,  7.61s/it]\r 66%|██████▌   | 84/127.84375 [10:43<05:34,  7.64s/it]\r 66%|██████▋   | 85/127.84375 [10:50<05:25,  7.60s/it]\r 67%|██████▋   | 86/127.84375 [10:58<05:17,  7.59s/it]\r 68%|██████▊   | 87/127.84375 [11:06<05:13,  7.67s/it]\r 69%|██████▉   | 88/127.84375 [11:13<05:06,  7.69s/it]\r 70%|██████▉   | 89/127.84375 [11:21<04:58,  7.69s/it]\r 70%|███████   | 90/127.84375 [11:29<04:51,  7.70s/it]\r 71%|███████   | 91/127.84375 [11:36<04:42,  7.68s/it]\r 72%|███████▏  | 92/127.84375 [11:44<04:34,  7.65s/it]\r 73%|███████▎  | 93/127.84375 [11:52<04:26,  7.63s/it]\r 74%|███████▎  | 94/127.84375 [11:59<04:19,  7.67s/it]\r 74%|███████▍  | 95/127.84375 [12:07<04:11,  7.67s/it]\r 75%|███████▌  | 96/127.84375 [12:15<04:02,  7.61s/it]\r 76%|███████▌  | 97/127.84375 [12:22<03:55,  7.65s/it]\r 77%|███████▋  | 98/127.84375 [12:30<03:49,  7.68s/it]\r 77%|███████▋  | 99/127.84375 [12:38<03:40,  7.64s/it]\r 78%|███████▊  | 100/127.84375 [12:45<03:32,  7.65s/it]\r 79%|███████▉  | 101/127.84375 [12:53<03:25,  7.67s/it]\r 80%|███████▉  | 102/127.84375 [13:01<03:17,  7.66s/it]\r 81%|████████  | 103/127.84375 [13:08<03:09,  7.61s/it]\r 81%|████████▏ | 104/127.84375 [13:16<03:01,  7.60s/it]\r 82%|████████▏ | 105/127.84375 [13:23<02:54,  7.65s/it]\r 83%|████████▎ | 106/127.84375 [13:31<02:47,  7.66s/it]\r 84%|████████▎ | 107/127.84375 [13:39<02:39,  7.66s/it]\r 84%|████████▍ | 108/127.84375 [13:46<02:32,  7.66s/it]\r 85%|████████▌ | 109/127.84375 [13:54<02:24,  7.65s/it]\r 86%|████████▌ | 110/127.84375 [14:02<02:17,  7.72s/it]\r 87%|████████▋ | 111/127.84375 [14:09<02:08,  7.63s/it]\r 88%|████████▊ | 112/127.84375 [14:17<02:01,  7.64s/it]\r 88%|████████▊ | 113/127.84375 [14:25<01:52,  7.61s/it]\r 89%|████████▉ | 114/127.84375 [14:32<01:45,  7.60s/it]\r 90%|████████▉ | 115/127.84375 [14:40<01:38,  7.66s/it]\r 91%|█████████ | 116/127.84375 [14:48<01:30,  7.67s/it]\r 92%|█████████▏| 117/127.84375 [14:55<01:23,  7.67s/it]\r 92%|█████████▏| 118/127.84375 [15:03<01:15,  7.70s/it]\r 93%|█████████▎| 119/127.84375 [15:11<01:08,  7.71s/it]\r 94%|█████████▍| 120/127.84375 [15:19<01:00,  7.73s/it]\r 95%|█████████▍| 121/127.84375 [15:26<00:53,  7.74s/it]\r 95%|█████████▌| 122/127.84375 [15:34<00:45,  7.76s/it]\r 96%|█████████▌| 123/127.84375 [15:42<00:37,  7.80s/it]\r 97%|█████████▋| 124/127.84375 [15:50<00:29,  7.72s/it]\r 98%|█████████▊| 125/127.84375 [15:57<00:21,  7.70s/it]\r 99%|█████████▊| 126/127.84375 [16:05<00:14,  7.68s/it]\r 99%|█████████▉| 127/127.84375 [16:13<00:06,  7.66s/it]/databricks/python/lib/python3.11/site-packages/tqdm/std.py:524: TqdmWarning: clamping frac to range [0, 1]\n",
      "  full_bar = Bar(frac,\n",
      "\r100%|██████████| 128/127.84375 [16:20<-1:59:59,  7.63s/it]\r129it [16:28,  7.64s/it]                                  \r130it [16:35,  7.61s/it]\r131it [16:43,  7.67s/it]\r132it [16:51,  7.69s/it]\r133it [16:58,  7.68s/it]\r134it [17:06,  7.71s/it]\r135it [17:14,  7.71s/it]\r136it [17:22,  7.76s/it]\r137it [17:30,  7.73s/it]\r138it [17:37,  7.69s/it]\r139it [17:45,  7.70s/it]\r140it [17:53,  7.73s/it]\r141it [18:00,  7.75s/it]\r142it [18:08,  7.68s/it]\r143it [18:16,  7.75s/it]\r144it [18:24,  7.75s/it]\r145it [18:31,  7.76s/it]\r146it [18:39,  7.81s/it]\r147it [18:47,  7.77s/it]\r148it [18:55,  7.78s/it]\r149it [19:02,  7.75s/it]\r150it [19:10,  7.73s/it]\r151it [19:18,  7.66s/it]\r152it [19:25,  7.61s/it]\r153it [19:33,  7.64s/it]\r154it [19:41,  7.65s/it]\r155it [19:48,  7.67s/it]\r156it [19:56,  7.70s/it]\r157it [20:04,  7.72s/it]\r158it [20:11,  7.66s/it]\r159it [20:19,  7.69s/it]\r160it [20:27,  7.68s/it]\r161it [20:34,  7.65s/it]\r162it [20:42,  7.64s/it]\r163it [20:49,  7.61s/it]\r164it [20:57,  7.66s/it]\r165it [21:05,  7.66s/it]\r166it [21:13,  7.66s/it]\r167it [21:20,  7.62s/it]\r168it [21:28,  7.59s/it]\r169it [21:35,  7.59s/it]\r170it [21:43,  7.63s/it]\r171it [21:51,  7.66s/it]\r172it [21:58,  7.67s/it]\r173it [22:06,  7.71s/it]\r174it [22:14,  7.68s/it]\r175it [22:21,  7.69s/it]\r176it [22:29,  7.68s/it]\r177it [22:37,  7.63s/it]\r178it [22:44,  7.63s/it]\r179it [22:52,  7.65s/it]\r180it [22:59,  7.62s/it]\r181it [23:07,  7.63s/it]\r182it [23:15,  7.60s/it]\r183it [23:22,  7.59s/it]\r184it [23:30,  7.60s/it]\r185it [23:37,  7.59s/it]\r186it [23:45,  7.62s/it]\r187it [23:53,  7.62s/it]\r188it [24:00,  7.63s/it]\r189it [24:08,  7.58s/it]\r190it [24:15,  7.59s/it]\r191it [24:23,  7.58s/it]\r192it [24:31,  7.61s/it]\r193it [24:38,  7.59s/it]\r194it [24:46,  7.58s/it]\r195it [24:53,  7.57s/it]\r196it [25:01,  7.61s/it]\r197it [25:09,  7.64s/it]\r198it [25:16,  7.61s/it]\r199it [25:24,  7.63s/it]\r200it [25:32,  7.62s/it]\r201it [25:39,  7.60s/it]\r202it [25:47,  7.61s/it]\r203it [25:55,  7.65s/it]\r204it [26:02,  7.66s/it]\r205it [26:10,  7.67s/it]\r206it [26:18,  7.65s/it]\r207it [26:25,  7.65s/it]\r208it [26:33,  7.71s/it]\r209it [26:41,  7.66s/it]\r210it [26:48,  7.63s/it]\r211it [26:56,  7.64s/it]\r212it [27:03,  7.63s/it]\r213it [27:11,  7.60s/it]\r214it [27:19,  7.60s/it]\r215it [27:26,  7.61s/it]\r216it [27:34,  7.63s/it]\r217it [27:41,  7.63s/it]\r218it [27:49,  7.65s/it]\r219it [27:57,  7.67s/it]\r220it [28:05,  7.66s/it]\r221it [28:12,  7.64s/it]\r222it [28:20,  7.63s/it]\r223it [28:27,  7.66s/it]\r224it [28:35,  7.66s/it]\r225it [28:43,  7.60s/it]\r226it [28:50,  7.64s/it]\r227it [28:58,  7.59s/it]\r228it [29:05,  7.60s/it]\r229it [29:13,  7.67s/it]\r230it [29:21,  7.67s/it]\r231it [29:28,  7.62s/it]\r232it [29:36,  7.56s/it]\r233it [29:43,  7.54s/it]\r234it [29:51,  7.57s/it]\r235it [29:59,  7.57s/it]\r236it [30:06,  7.55s/it]\r237it [30:14,  7.57s/it]\r238it [30:21,  7.61s/it]\r239it [30:29,  7.58s/it]\r240it [30:36,  7.56s/it]\r240it [30:36,  7.65s/it]\n"
     ]
    },
    {
     "name": "stdout",
     "output_type": "stream",
     "text": [
      "Epoch 26 train loss: 0.108642578125\n",
      "[Train - End / Test - Start Epoch 27] GPU Memory: Allocated=2.30GB, Reserved=3.39GB\n"
     ]
    },
    {
     "name": "stderr",
     "output_type": "stream",
     "text": [
      "\r  0%|          | 0/14.1875 [00:00<?, ?it/s]\r  7%|▋         | 1/14.1875 [00:06<01:26,  6.56s/it]\r 14%|█▍        | 2/14.1875 [00:13<01:20,  6.57s/it]\r 21%|██        | 3/14.1875 [00:19<01:14,  6.62s/it]\r 28%|██▊       | 4/14.1875 [00:26<01:08,  6.68s/it]\r 35%|███▌      | 5/14.1875 [00:33<01:01,  6.68s/it]\r 42%|████▏     | 6/14.1875 [00:40<00:55,  6.72s/it]\r 49%|████▉     | 7/14.1875 [00:46<00:48,  6.71s/it]\r 56%|█████▋    | 8/14.1875 [00:53<00:41,  6.63s/it]\r 63%|██████▎   | 9/14.1875 [01:00<00:34,  6.68s/it]\r 70%|███████   | 10/14.1875 [01:06<00:27,  6.66s/it]\r 78%|███████▊  | 11/14.1875 [01:13<00:21,  6.68s/it]\r 85%|████████▍ | 12/14.1875 [01:20<00:14,  6.74s/it]\r 92%|█████████▏| 13/14.1875 [01:27<00:08,  6.77s/it]\r 99%|█████████▊| 14/14.1875 [01:33<00:01,  6.70s/it]\r15it [01:40,  6.68s/it]                             \r16it [01:46,  6.68s/it]\r17it [01:53,  6.68s/it]\r18it [02:00,  6.69s/it]\r19it [02:06,  6.68s/it]\r20it [02:13,  6.64s/it]\r21it [02:20,  6.66s/it]\r22it [02:26,  6.64s/it]\r23it [02:33,  6.64s/it]\r24it [02:40,  6.65s/it]\r25it [02:46,  6.66s/it]\r26it [02:53,  6.63s/it]\r27it [02:59,  6.59s/it]\r28it [03:06,  6.61s/it]\r29it [03:13,  6.60s/it]\r30it [03:19,  6.60s/it]\r30it [03:19,  6.66s/it]\n"
     ]
    },
    {
     "name": "stdout",
     "output_type": "stream",
     "text": [
      "Cumulative Accuracy for CP: 69.51%\n",
      "Cumulative Accuracy for chopping-board: 90.86%\n",
      "Cumulative Accuracy for finalstep: 90.12%\n",
      "Cumulative Accuracy for glass-bowl-large: 72.96%\n",
      "Cumulative Accuracy for glass-bowl-medium: 70.74%\n",
      "Cumulative Accuracy for glass-bowl-small: 37.53%\n",
      "Cumulative Accuracy for grill-plate: nan%\n",
      "Cumulative Accuracy for group_step: 76.91%\n",
      "Cumulative Accuracy for medium: 91.98%\n",
      "Cumulative Accuracy for oven-dish: 96.30%\n",
      "Cumulative Accuracy for oven-tray: 96.17%\n",
      "Cumulative Accuracy for pan: 100.00%\n",
      "Cumulative Accuracy for pot-one-handle: 99.14%\n",
      "Cumulative Accuracy for pot-two-handles-medium: 76.67%\n",
      "Cumulative Accuracy for pot-two-handles-shallow: 91.98%\n",
      "Cumulative Accuracy for pot-two-handles-small: nan%\n",
      "Cumulative Accuracy for saucepan: 92.59%\n",
      "\n",
      "Mean Top 3 Accuracy (Val): 94.67%\n",
      "Mean Top 1 Accuracy (Val): 84.67%\n",
      "Macro-averaged Accuracy (Val): 83.56%\n",
      "Epoch 26 test loss: 23.59375\n",
      "\n",
      "[Test - End Epoch 27] GPU Memory: Allocated=2.30GB, Reserved=3.39GB\n",
      "\n",
      "Epoch 28/120\n",
      "[Train - Start Epoch 28] GPU Memory: Allocated=2.30GB, Reserved=3.39GB\n"
     ]
    },
    {
     "name": "stderr",
     "output_type": "stream",
     "text": [
      "\r  0%|          | 0/127.84375 [00:00<?, ?it/s]\r  1%|          | 1/127.84375 [00:07<16:16,  7.70s/it]\r  2%|▏         | 2/127.84375 [00:15<16:03,  7.65s/it]\r  2%|▏         | 3/127.84375 [00:22<15:53,  7.64s/it]\r  3%|▎         | 4/127.84375 [00:30<15:46,  7.64s/it]\r  4%|▍         | 5/127.84375 [00:38<15:41,  7.66s/it]\r  5%|▍         | 6/127.84375 [00:46<15:38,  7.70s/it]\r  5%|▌         | 7/127.84375 [00:53<15:31,  7.71s/it]\r  6%|▋         | 8/127.84375 [01:01<15:19,  7.67s/it]\r  7%|▋         | 9/127.84375 [01:08<15:07,  7.64s/it]\r  8%|▊         | 10/127.84375 [01:16<15:03,  7.66s/it]\r  9%|▊         | 11/127.84375 [01:24<15:05,  7.75s/it]\r  9%|▉         | 12/127.84375 [01:32<14:55,  7.73s/it]\r 10%|█         | 13/127.84375 [01:39<14:45,  7.71s/it]\r 11%|█         | 14/127.84375 [01:47<14:35,  7.69s/it]\r 12%|█▏        | 15/127.84375 [01:55<14:22,  7.64s/it]\r 13%|█▎        | 16/127.84375 [02:02<14:13,  7.63s/it]\r 13%|█▎        | 17/127.84375 [02:10<13:59,  7.58s/it]\r 14%|█▍        | 18/127.84375 [02:17<13:53,  7.59s/it]\r 15%|█▍        | 19/127.84375 [02:25<13:48,  7.61s/it]\r 16%|█▌        | 20/127.84375 [02:32<13:33,  7.55s/it]\r 16%|█▋        | 21/127.84375 [02:40<13:29,  7.58s/it]\r 17%|█▋        | 22/127.84375 [02:48<13:23,  7.59s/it]\r 18%|█▊        | 23/127.84375 [02:55<13:13,  7.57s/it]\r 19%|█▉        | 24/127.84375 [03:03<13:06,  7.57s/it]\r 20%|█▉        | 25/127.84375 [03:11<13:05,  7.64s/it]\r 20%|██        | 26/127.84375 [03:18<12:52,  7.58s/it]\r 21%|██        | 27/127.84375 [03:25<12:41,  7.55s/it]\r 22%|██▏       | 28/127.84375 [03:33<12:43,  7.65s/it]\r 23%|██▎       | 29/127.84375 [03:41<12:40,  7.69s/it]\r 23%|██▎       | 30/127.84375 [03:49<12:33,  7.70s/it]\r 24%|██▍       | 31/127.84375 [03:56<12:23,  7.68s/it]\r 25%|██▌       | 32/127.84375 [04:04<12:13,  7.65s/it]\r 26%|██▌       | 33/127.84375 [04:12<12:04,  7.64s/it]\r 27%|██▋       | 34/127.84375 [04:19<11:59,  7.66s/it]\r 27%|██▋       | 35/127.84375 [04:27<11:53,  7.68s/it]\r 28%|██▊       | 36/127.84375 [04:35<11:46,  7.69s/it]\r 29%|██▉       | 37/127.84375 [04:42<11:37,  7.68s/it]\r 30%|██▉       | 38/127.84375 [04:50<11:28,  7.67s/it]\r 31%|███       | 39/127.84375 [04:58<11:21,  7.67s/it]\r 31%|███▏      | 40/127.84375 [05:05<11:14,  7.67s/it]\r 32%|███▏      | 41/127.84375 [05:13<11:04,  7.65s/it]\r 33%|███▎      | 42/127.84375 [05:21<10:57,  7.66s/it]\r 34%|███▎      | 43/127.84375 [05:28<10:49,  7.65s/it]\r 34%|███▍      | 44/127.84375 [05:36<10:39,  7.63s/it]\r 35%|███▌      | 45/127.84375 [05:44<10:32,  7.64s/it]\r 36%|███▌      | 46/127.84375 [05:51<10:28,  7.68s/it]\r 37%|███▋      | 47/127.84375 [05:59<10:17,  7.63s/it]\r 38%|███▊      | 48/127.84375 [06:07<10:10,  7.64s/it]\r 38%|███▊      | 49/127.84375 [06:14<09:58,  7.59s/it]\r 39%|███▉      | 50/127.84375 [06:22<09:52,  7.61s/it]\r 40%|███▉      | 51/127.84375 [06:30<09:48,  7.66s/it]\r 41%|████      | 52/127.84375 [06:37<09:41,  7.66s/it]\r 41%|████▏     | 53/127.84375 [06:45<09:29,  7.61s/it]\r 42%|████▏     | 54/127.84375 [06:52<09:23,  7.63s/it]\r 43%|████▎     | 55/127.84375 [07:00<09:14,  7.61s/it]\r 44%|████▍     | 56/127.84375 [07:08<09:10,  7.66s/it]\r 45%|████▍     | 57/127.84375 [07:15<09:01,  7.65s/it]\r 45%|████▌     | 58/127.84375 [07:23<08:55,  7.66s/it]\r 46%|████▌     | 59/127.84375 [07:31<08:47,  7.66s/it]\r 47%|████▋     | 60/127.84375 [07:38<08:34,  7.59s/it]\r 48%|████▊     | 61/127.84375 [07:46<08:26,  7.58s/it]\r 48%|████▊     | 62/127.84375 [07:53<08:19,  7.59s/it]\r 49%|████▉     | 63/127.84375 [08:01<08:12,  7.60s/it]\r 50%|█████     | 64/127.84375 [08:08<08:03,  7.58s/it]\r 51%|█████     | 65/127.84375 [08:16<07:53,  7.53s/it]\r 52%|█████▏    | 66/127.84375 [08:24<07:49,  7.59s/it]\r 52%|█████▏    | 67/127.84375 [08:31<07:43,  7.61s/it]\r 53%|█████▎    | 68/127.84375 [08:39<07:35,  7.61s/it]\r 54%|█████▍    | 69/127.84375 [08:46<07:26,  7.58s/it]\r 55%|█████▍    | 70/127.84375 [08:54<07:18,  7.58s/it]\r 56%|█████▌    | 71/127.84375 [09:02<07:13,  7.62s/it]\r 56%|█████▋    | 72/127.84375 [09:09<07:04,  7.61s/it]\r 57%|█████▋    | 73/127.84375 [09:17<06:56,  7.59s/it]\r 58%|█████▊    | 74/127.84375 [09:24<06:50,  7.61s/it]\r 59%|█████▊    | 75/127.84375 [09:32<06:41,  7.59s/it]\r 59%|█████▉    | 76/127.84375 [09:40<06:33,  7.60s/it]\r 60%|██████    | 77/127.84375 [09:47<06:30,  7.68s/it]\r 61%|██████    | 78/127.84375 [09:55<06:20,  7.63s/it]\r 62%|██████▏   | 79/127.84375 [10:03<06:14,  7.66s/it]\r 63%|██████▎   | 80/127.84375 [10:10<06:05,  7.63s/it]\r 63%|██████▎   | 81/127.84375 [10:18<05:56,  7.61s/it]\r 64%|██████▍   | 82/127.84375 [10:25<05:49,  7.62s/it]\r 65%|██████▍   | 83/127.84375 [10:33<05:40,  7.60s/it]\r 66%|██████▌   | 84/127.84375 [10:41<05:33,  7.61s/it]\r 66%|██████▋   | 85/127.84375 [10:48<05:27,  7.65s/it]\r 67%|██████▋   | 86/127.84375 [10:56<05:19,  7.63s/it]\r 68%|██████▊   | 87/127.84375 [11:04<05:12,  7.66s/it]\r 69%|██████▉   | 88/127.84375 [11:11<05:07,  7.71s/it]\r 70%|██████▉   | 89/127.84375 [11:19<04:59,  7.71s/it]\r 70%|███████   | 90/127.84375 [11:27<04:49,  7.65s/it]\r 71%|███████   | 91/127.84375 [11:34<04:42,  7.66s/it]\r 72%|███████▏  | 92/127.84375 [11:42<04:34,  7.66s/it]\r 73%|███████▎  | 93/127.84375 [11:50<04:25,  7.61s/it]\r 74%|███████▎  | 94/127.84375 [11:57<04:18,  7.62s/it]\r 74%|███████▍  | 95/127.84375 [12:04<04:06,  7.52s/it]\r 75%|███████▌  | 96/127.84375 [12:12<03:57,  7.46s/it]\r 76%|███████▌  | 97/127.84375 [12:19<03:51,  7.49s/it]\r 77%|███████▋  | 98/127.84375 [12:27<03:44,  7.53s/it]\r 77%|███████▋  | 99/127.84375 [12:34<03:36,  7.52s/it]\r 78%|███████▊  | 100/127.84375 [12:42<03:29,  7.52s/it]\r 79%|███████▉  | 101/127.84375 [12:50<03:22,  7.54s/it]\r 80%|███████▉  | 102/127.84375 [12:57<03:14,  7.51s/it]\r 81%|████████  | 103/127.84375 [13:05<03:09,  7.62s/it]\r 81%|████████▏ | 104/127.84375 [13:12<03:01,  7.60s/it]\r 82%|████████▏ | 105/127.84375 [13:20<02:54,  7.63s/it]\r 83%|████████▎ | 106/127.84375 [13:28<02:47,  7.68s/it]\r 84%|████████▎ | 107/127.84375 [13:36<02:40,  7.68s/it]\r 84%|████████▍ | 108/127.84375 [13:43<02:33,  7.72s/it]\r 85%|████████▌ | 109/127.84375 [13:51<02:25,  7.71s/it]\r 86%|████████▌ | 110/127.84375 [13:59<02:16,  7.65s/it]\r 87%|████████▋ | 111/127.84375 [14:06<02:08,  7.65s/it]\r 88%|████████▊ | 112/127.84375 [14:14<02:01,  7.67s/it]\r 88%|████████▊ | 113/127.84375 [14:21<01:52,  7.60s/it]\r 89%|████████▉ | 114/127.84375 [14:29<01:44,  7.56s/it]\r 90%|████████▉ | 115/127.84375 [14:37<01:37,  7.61s/it]\r 91%|█████████ | 116/127.84375 [14:44<01:29,  7.59s/it]\r 92%|█████████▏| 117/127.84375 [14:52<01:22,  7.58s/it]\r 92%|█████████▏| 118/127.84375 [14:59<01:14,  7.59s/it]\r 93%|█████████▎| 119/127.84375 [15:07<01:07,  7.61s/it]\r 94%|█████████▍| 120/127.84375 [15:15<00:59,  7.64s/it]\r 95%|█████████▍| 121/127.84375 [15:22<00:52,  7.63s/it]\r 95%|█████████▌| 122/127.84375 [15:30<00:44,  7.56s/it]\r 96%|█████████▌| 123/127.84375 [15:37<00:36,  7.62s/it]\r 97%|█████████▋| 124/127.84375 [15:45<00:29,  7.63s/it]\r 98%|█████████▊| 125/127.84375 [15:53<00:21,  7.66s/it]\r 99%|█████████▊| 126/127.84375 [16:01<00:14,  7.66s/it]\r 99%|█████████▉| 127/127.84375 [16:08<00:06,  7.66s/it]/databricks/python/lib/python3.11/site-packages/tqdm/std.py:524: TqdmWarning: clamping frac to range [0, 1]\n",
      "  full_bar = Bar(frac,\n",
      "\r100%|██████████| 128/127.84375 [16:16<-1:59:59,  7.65s/it]\r129it [16:23,  7.66s/it]                                  \r130it [16:31,  7.67s/it]\r131it [16:39,  7.63s/it]\r132it [16:46,  7.62s/it]\r133it [16:54,  7.70s/it]\r134it [17:02,  7.72s/it]\r135it [17:10,  7.68s/it]\r136it [17:17,  7.69s/it]\r137it [17:25,  7.67s/it]\r138it [17:32,  7.62s/it]\r139it [17:40,  7.64s/it]\r140it [17:48,  7.61s/it]\r141it [17:55,  7.59s/it]\r142it [18:03,  7.60s/it]\r143it [18:10,  7.62s/it]\r144it [18:18,  7.60s/it]\r145it [18:26,  7.62s/it]\r146it [18:33,  7.61s/it]\r147it [18:41,  7.62s/it]\r148it [18:49,  7.69s/it]\r149it [18:56,  7.67s/it]\r150it [19:04,  7.69s/it]\r151it [19:12,  7.69s/it]\r152it [19:19,  7.68s/it]\r153it [19:27,  7.63s/it]\r154it [19:35,  7.61s/it]\r155it [19:42,  7.63s/it]\r156it [19:50,  7.64s/it]\r157it [19:58,  7.65s/it]\r158it [20:05,  7.68s/it]\r159it [20:13,  7.68s/it]\r160it [20:21,  7.65s/it]\r161it [20:28,  7.68s/it]\r162it [20:36,  7.70s/it]\r163it [20:44,  7.66s/it]\r164it [20:51,  7.66s/it]\r165it [20:59,  7.62s/it]\r166it [21:06,  7.58s/it]\r167it [21:14,  7.65s/it]\r168it [21:22,  7.62s/it]\r169it [21:29,  7.57s/it]\r170it [21:37,  7.56s/it]\r171it [21:44,  7.59s/it]\r172it [21:52,  7.61s/it]\r173it [22:00,  7.63s/it]\r174it [22:07,  7.66s/it]\r175it [22:15,  7.55s/it]\r176it [22:22,  7.53s/it]\r177it [22:29,  7.47s/it]\r178it [22:37,  7.56s/it]\r179it [22:45,  7.49s/it]\r180it [22:52,  7.54s/it]\r181it [23:00,  7.54s/it]\r182it [23:07,  7.52s/it]\r183it [23:15,  7.57s/it]\r184it [23:22,  7.55s/it]\r185it [23:30,  7.57s/it]\r186it [23:38,  7.62s/it]\r187it [23:45,  7.64s/it]\r188it [23:53,  7.59s/it]\r189it [24:01,  7.66s/it]\r190it [24:08,  7.60s/it]\r191it [24:16,  7.70s/it]\r192it [24:24,  7.73s/it]\r193it [24:31,  7.68s/it]\r194it [24:39,  7.76s/it]\r195it [24:47,  7.76s/it]\r196it [24:55,  7.76s/it]\r197it [25:03,  7.77s/it]\r198it [25:10,  7.74s/it]\r199it [25:18,  7.68s/it]\r200it [25:26,  7.73s/it]\r201it [25:33,  7.69s/it]\r202it [25:41,  7.61s/it]\r203it [25:48,  7.60s/it]\r204it [25:56,  7.55s/it]\r205it [26:03,  7.55s/it]\r206it [26:11,  7.58s/it]\r207it [26:19,  7.63s/it]\r208it [26:26,  7.64s/it]\r209it [26:34,  7.58s/it]\r210it [26:41,  7.57s/it]\r211it [26:49,  7.58s/it]\r212it [26:57,  7.60s/it]\r213it [27:04,  7.63s/it]\r214it [27:12,  7.63s/it]\r215it [27:20,  7.64s/it]\r216it [27:27,  7.65s/it]\r217it [27:35,  7.63s/it]\r218it [27:42,  7.59s/it]\r219it [27:50,  7.59s/it]\r220it [27:58,  7.60s/it]\r221it [28:05,  7.59s/it]\r222it [28:13,  7.61s/it]\r223it [28:21,  7.64s/it]\r224it [28:28,  7.65s/it]\r225it [28:36,  7.62s/it]\r226it [28:43,  7.61s/it]\r227it [28:51,  7.61s/it]\r228it [28:59,  7.59s/it]\r229it [29:06,  7.60s/it]\r230it [29:14,  7.58s/it]\r231it [29:21,  7.57s/it]\r232it [29:29,  7.54s/it]\r233it [29:36,  7.55s/it]\r234it [29:44,  7.55s/it]\r235it [29:51,  7.53s/it]\r236it [29:59,  7.55s/it]\r237it [30:07,  7.60s/it]\r238it [30:14,  7.60s/it]\r239it [30:22,  7.61s/it]\r240it [30:29,  7.59s/it]\r240it [30:29,  7.62s/it]\n"
     ]
    },
    {
     "name": "stdout",
     "output_type": "stream",
     "text": [
      "Epoch 27 train loss: 0.0887451171875\n",
      "[Train - End / Test - Start Epoch 28] GPU Memory: Allocated=2.30GB, Reserved=3.39GB\n"
     ]
    },
    {
     "name": "stderr",
     "output_type": "stream",
     "text": [
      "\r  0%|          | 0/14.1875 [00:00<?, ?it/s]\r  7%|▋         | 1/14.1875 [00:06<01:28,  6.68s/it]\r 14%|█▍        | 2/14.1875 [00:13<01:20,  6.61s/it]\r 21%|██        | 3/14.1875 [00:20<01:15,  6.70s/it]\r 28%|██▊       | 4/14.1875 [00:26<01:08,  6.69s/it]\r 35%|███▌      | 5/14.1875 [00:33<01:01,  6.65s/it]\r 42%|████▏     | 6/14.1875 [00:39<00:54,  6.65s/it]\r 49%|████▉     | 7/14.1875 [00:46<00:47,  6.67s/it]\r 56%|█████▋    | 8/14.1875 [00:53<00:41,  6.66s/it]\r 63%|██████▎   | 9/14.1875 [00:59<00:34,  6.65s/it]\r 70%|███████   | 10/14.1875 [01:06<00:27,  6.65s/it]\r 78%|███████▊  | 11/14.1875 [01:13<00:21,  6.64s/it]\r 85%|████████▍ | 12/14.1875 [01:19<00:14,  6.62s/it]\r 92%|█████████▏| 13/14.1875 [01:26<00:07,  6.58s/it]\r 99%|█████████▊| 14/14.1875 [01:32<00:01,  6.59s/it]\r15it [01:39,  6.61s/it]                             \r16it [01:46,  6.59s/it]\r17it [01:52,  6.61s/it]\r18it [01:59,  6.59s/it]\r19it [02:06,  6.63s/it]\r20it [02:12,  6.62s/it]\r21it [02:19,  6.62s/it]\r22it [02:25,  6.64s/it]\r23it [02:32,  6.64s/it]\r24it [02:39,  6.61s/it]\r25it [02:45,  6.61s/it]\r26it [02:52,  6.61s/it]\r27it [02:59,  6.68s/it]\r28it [03:05,  6.71s/it]\r29it [03:12,  6.71s/it]\r30it [03:19,  6.67s/it]\r30it [03:19,  6.64s/it]\n"
     ]
    },
    {
     "name": "stdout",
     "output_type": "stream",
     "text": [
      "Cumulative Accuracy for CP: 69.52%\n",
      "Cumulative Accuracy for chopping-board: 90.95%\n",
      "Cumulative Accuracy for finalstep: 90.00%\n",
      "Cumulative Accuracy for glass-bowl-large: 72.98%\n",
      "Cumulative Accuracy for glass-bowl-medium: 70.83%\n",
      "Cumulative Accuracy for glass-bowl-small: 37.02%\n",
      "Cumulative Accuracy for grill-plate: nan%\n",
      "Cumulative Accuracy for group_step: 77.26%\n",
      "Cumulative Accuracy for medium: 92.26%\n",
      "Cumulative Accuracy for oven-dish: 96.43%\n",
      "Cumulative Accuracy for oven-tray: 96.19%\n",
      "Cumulative Accuracy for pan: 100.00%\n",
      "Cumulative Accuracy for pot-one-handle: 98.69%\n",
      "Cumulative Accuracy for pot-two-handles-medium: 76.79%\n",
      "Cumulative Accuracy for pot-two-handles-shallow: 92.26%\n",
      "Cumulative Accuracy for pot-two-handles-small: nan%\n",
      "Cumulative Accuracy for saucepan: 92.86%\n",
      "\n",
      "Mean Top 3 Accuracy (Val): 96.22%\n",
      "Mean Top 1 Accuracy (Val): 84.67%\n",
      "Macro-averaged Accuracy (Val): 83.60%\n",
      "Epoch 27 test loss: 23.0625\n",
      "\n",
      "[Test - End Epoch 28] GPU Memory: Allocated=2.30GB, Reserved=3.39GB\n",
      "\n",
      "Epoch 29/120\n",
      "[Train - Start Epoch 29] GPU Memory: Allocated=2.30GB, Reserved=3.39GB\n"
     ]
    },
    {
     "name": "stderr",
     "output_type": "stream",
     "text": [
      "\r  0%|          | 0/127.84375 [00:00<?, ?it/s]\r  1%|          | 1/127.84375 [00:07<16:11,  7.66s/it]\r  2%|▏         | 2/127.84375 [00:15<16:04,  7.66s/it]\r  2%|▏         | 3/127.84375 [00:22<15:44,  7.57s/it]\r  3%|▎         | 4/127.84375 [00:30<15:43,  7.62s/it]\r  4%|▍         | 5/127.84375 [00:38<15:36,  7.62s/it]\r  5%|▍         | 6/127.84375 [00:45<15:24,  7.58s/it]\r  5%|▌         | 7/127.84375 [00:53<15:19,  7.61s/it]\r  6%|▋         | 8/127.84375 [01:00<15:09,  7.59s/it]\r  7%|▋         | 9/127.84375 [01:08<15:00,  7.57s/it]\r  8%|▊         | 10/127.84375 [01:15<14:52,  7.57s/it]\r  9%|▊         | 11/127.84375 [01:23<14:42,  7.55s/it]\r  9%|▉         | 12/127.84375 [01:31<14:37,  7.58s/it]\r 10%|█         | 13/127.84375 [01:38<14:27,  7.55s/it]\r 11%|█         | 14/127.84375 [01:46<14:26,  7.61s/it]\r 12%|█▏        | 15/127.84375 [01:53<14:15,  7.58s/it]\r 13%|█▎        | 16/127.84375 [02:01<14:07,  7.58s/it]\r 13%|█▎        | 17/127.84375 [02:09<14:03,  7.61s/it]\r 14%|█▍        | 18/127.84375 [02:16<13:50,  7.56s/it]\r 15%|█▍        | 19/127.84375 [02:24<13:46,  7.60s/it]\r 16%|█▌        | 20/127.84375 [02:31<13:39,  7.60s/it]\r 16%|█▋        | 21/127.84375 [02:39<13:25,  7.54s/it]\r 17%|█▋        | 22/127.84375 [02:46<13:19,  7.56s/it]\r 18%|█▊        | 23/127.84375 [02:54<13:13,  7.57s/it]\r 19%|█▉        | 24/127.84375 [03:01<13:05,  7.56s/it]\r 20%|█▉        | 25/127.84375 [03:09<13:00,  7.59s/it]\r 20%|██        | 26/127.84375 [03:17<12:53,  7.60s/it]\r 21%|██        | 27/127.84375 [03:24<12:48,  7.62s/it]\r 22%|██▏       | 28/127.84375 [03:32<12:35,  7.57s/it]\r 23%|██▎       | 29/127.84375 [03:39<12:29,  7.58s/it]\r 23%|██▎       | 30/127.84375 [03:47<12:24,  7.61s/it]\r 24%|██▍       | 31/127.84375 [03:55<12:16,  7.60s/it]\r 25%|██▌       | 32/127.84375 [04:02<12:09,  7.61s/it]\r 26%|██▌       | 33/127.84375 [04:10<12:01,  7.60s/it]\r 27%|██▋       | 34/127.84375 [04:17<11:47,  7.53s/it]\r 27%|██▋       | 35/127.84375 [04:25<11:39,  7.53s/it]\r 28%|██▊       | 36/127.84375 [04:33<11:35,  7.58s/it]\r 29%|██▉       | 37/127.84375 [04:40<11:26,  7.56s/it]\r 30%|██▉       | 38/127.84375 [04:48<11:19,  7.56s/it]\r 31%|███       | 39/127.84375 [04:55<11:12,  7.57s/it]\r 31%|███▏      | 40/127.84375 [05:03<11:01,  7.52s/it]\r 32%|███▏      | 41/127.84375 [05:10<10:54,  7.53s/it]\r 33%|███▎      | 42/127.84375 [05:18<10:48,  7.55s/it]\r 34%|███▎      | 43/127.84375 [05:25<10:43,  7.58s/it]\r 34%|███▍      | 44/127.84375 [05:33<10:36,  7.59s/it]\r 35%|███▌      | 45/127.84375 [05:41<10:31,  7.62s/it]\r 36%|███▌      | 46/127.84375 [05:49<10:28,  7.68s/it]\r 37%|███▋      | 47/127.84375 [05:56<10:18,  7.65s/it]\r 38%|███▊      | 48/127.84375 [06:04<10:13,  7.69s/it]\r 38%|███▊      | 49/127.84375 [06:12<10:06,  7.69s/it]\r 39%|███▉      | 50/127.84375 [06:19<09:57,  7.67s/it]\r 40%|███▉      | 51/127.84375 [06:27<09:50,  7.68s/it]\r 41%|████      | 52/127.84375 [06:35<09:43,  7.70s/it]\r 41%|████▏     | 53/127.84375 [06:42<09:33,  7.66s/it]\r 42%|████▏     | 54/127.84375 [06:50<09:26,  7.67s/it]\r 43%|████▎     | 55/127.84375 [06:58<09:18,  7.66s/it]\r 44%|████▍     | 56/127.84375 [07:05<09:11,  7.67s/it]\r 45%|████▍     | 57/127.84375 [07:13<09:03,  7.67s/it]\r 45%|████▌     | 58/127.84375 [07:21<08:58,  7.72s/it]\r 46%|████▌     | 59/127.84375 [07:28<08:47,  7.67s/it]\r 47%|████▋     | 60/127.84375 [07:36<08:37,  7.63s/it]\r 48%|████▊     | 61/127.84375 [07:43<08:29,  7.62s/it]\r 48%|████▊     | 62/127.84375 [07:51<08:21,  7.61s/it]\r 49%|████▉     | 63/127.84375 [07:59<08:14,  7.62s/it]\r 50%|█████     | 64/127.84375 [08:06<08:07,  7.63s/it]\r 51%|█████     | 65/127.84375 [08:14<07:54,  7.55s/it]\r 52%|█████▏    | 66/127.84375 [08:21<07:47,  7.56s/it]\r 52%|█████▏    | 67/127.84375 [08:29<07:45,  7.64s/it]\r 53%|█████▎    | 68/127.84375 [08:37<07:37,  7.64s/it]\r 54%|█████▍    | 69/127.84375 [08:44<07:29,  7.63s/it]\r 55%|█████▍    | 70/127.84375 [08:52<07:23,  7.66s/it]\r 56%|█████▌    | 71/127.84375 [09:00<07:14,  7.65s/it]\r 56%|█████▋    | 72/127.84375 [09:07<07:04,  7.59s/it]\r 57%|█████▋    | 73/127.84375 [09:15<06:55,  7.58s/it]\r 58%|█████▊    | 74/127.84375 [09:22<06:50,  7.63s/it]\r 59%|█████▊    | 75/127.84375 [09:30<06:45,  7.67s/it]\r 59%|█████▉    | 76/127.84375 [09:38<06:38,  7.69s/it]\r 60%|██████    | 77/127.84375 [09:45<06:28,  7.64s/it]\r 61%|██████    | 78/127.84375 [09:53<06:19,  7.62s/it]\r 62%|██████▏   | 79/127.84375 [10:01<06:11,  7.61s/it]\r 63%|██████▎   | 80/127.84375 [10:08<06:03,  7.61s/it]\r 63%|██████▎   | 81/127.84375 [10:16<05:57,  7.63s/it]\r 64%|██████▍   | 82/127.84375 [10:24<05:51,  7.68s/it]\r 65%|██████▍   | 83/127.84375 [10:31<05:44,  7.68s/it]\r 66%|██████▌   | 84/127.84375 [10:39<05:34,  7.64s/it]\r 66%|██████▋   | 85/127.84375 [10:47<05:27,  7.65s/it]\r 67%|██████▋   | 86/127.84375 [10:54<05:18,  7.61s/it]\r 68%|██████▊   | 87/127.84375 [11:02<05:10,  7.59s/it]\r 69%|██████▉   | 88/127.84375 [11:09<05:05,  7.66s/it]\r 70%|██████▉   | 89/127.84375 [11:17<04:57,  7.66s/it]\r 70%|███████   | 90/127.84375 [11:25<04:50,  7.66s/it]\r 71%|███████   | 91/127.84375 [11:32<04:42,  7.67s/it]\r 72%|███████▏  | 92/127.84375 [11:40<04:34,  7.67s/it]\r 73%|███████▎  | 93/127.84375 [11:48<04:28,  7.71s/it]\r 74%|███████▎  | 94/127.84375 [11:56<04:21,  7.73s/it]\r 74%|███████▍  | 95/127.84375 [12:03<04:10,  7.64s/it]\r 75%|███████▌  | 96/127.84375 [12:11<04:03,  7.66s/it]\r 76%|███████▌  | 97/127.84375 [12:19<03:57,  7.69s/it]\r 77%|███████▋  | 98/127.84375 [12:26<03:50,  7.72s/it]\r 77%|███████▋  | 99/127.84375 [12:34<03:41,  7.69s/it]\r 78%|███████▊  | 100/127.84375 [12:42<03:32,  7.65s/it]\r 79%|███████▉  | 101/127.84375 [12:49<03:23,  7.59s/it]\r 80%|███████▉  | 102/127.84375 [12:57<03:16,  7.60s/it]\r 81%|████████  | 103/127.84375 [13:05<03:10,  7.67s/it]\r 81%|████████▏ | 104/127.84375 [13:12<03:04,  7.74s/it]\r 82%|████████▏ | 105/127.84375 [13:20<02:58,  7.83s/it]\r 83%|████████▎ | 106/127.84375 [13:28<02:50,  7.80s/it]\r 84%|████████▎ | 107/127.84375 [13:36<02:42,  7.78s/it]\r 84%|████████▍ | 108/127.84375 [13:44<02:33,  7.75s/it]\r 85%|████████▌ | 109/127.84375 [13:51<02:25,  7.73s/it]\r 86%|████████▌ | 110/127.84375 [13:59<02:17,  7.73s/it]\r 87%|████████▋ | 111/127.84375 [14:07<02:09,  7.69s/it]\r 88%|████████▊ | 112/127.84375 [14:14<02:02,  7.70s/it]\r 88%|████████▊ | 113/127.84375 [14:22<01:54,  7.69s/it]\r 89%|████████▉ | 114/127.84375 [14:30<01:46,  7.67s/it]\r 90%|████████▉ | 115/127.84375 [14:37<01:38,  7.65s/it]\r 91%|█████████ | 116/127.84375 [14:45<01:31,  7.69s/it]\r 92%|█████████▏| 117/127.84375 [14:53<01:23,  7.71s/it]\r 92%|█████████▏| 118/127.84375 [15:01<01:16,  7.73s/it]\r 93%|█████████▎| 119/127.84375 [15:08<01:08,  7.73s/it]\r 94%|█████████▍| 120/127.84375 [15:16<01:00,  7.70s/it]\r 95%|█████████▍| 121/127.84375 [15:23<00:52,  7.66s/it]\r 95%|█████████▌| 122/127.84375 [15:31<00:44,  7.68s/it]\r 96%|█████████▌| 123/127.84375 [15:39<00:37,  7.70s/it]\r 97%|█████████▋| 124/127.84375 [15:47<00:29,  7.73s/it]\r 98%|█████████▊| 125/127.84375 [15:55<00:22,  7.75s/it]\r 99%|█████████▊| 126/127.84375 [16:03<00:14,  7.82s/it]\r 99%|█████████▉| 127/127.84375 [16:10<00:06,  7.79s/it]/databricks/python/lib/python3.11/site-packages/tqdm/std.py:524: TqdmWarning: clamping frac to range [0, 1]\n",
      "  full_bar = Bar(frac,\n",
      "\r100%|██████████| 128/127.84375 [16:18<-1:59:59,  7.70s/it]\r129it [16:26,  7.74s/it]                                  \r130it [16:33,  7.72s/it]\r131it [16:41,  7.67s/it]\r132it [16:49,  7.70s/it]\r133it [16:56,  7.72s/it]\r134it [17:04,  7.64s/it]\r135it [17:11,  7.64s/it]\r136it [17:19,  7.67s/it]\r137it [17:27,  7.68s/it]\r138it [17:35,  7.70s/it]\r139it [17:42,  7.72s/it]\r140it [17:50,  7.62s/it]\r141it [17:57,  7.65s/it]\r142it [18:05,  7.69s/it]\r143it [18:13,  7.69s/it]\r144it [18:20,  7.63s/it]\r145it [18:28,  7.65s/it]\r146it [18:36,  7.67s/it]\r147it [18:44,  7.68s/it]\r148it [18:51,  7.74s/it]\r149it [18:59,  7.82s/it]\r150it [19:07,  7.83s/it]\r151it [19:15,  7.76s/it]\r152it [19:23,  7.80s/it]\r153it [19:30,  7.77s/it]\r154it [19:38,  7.71s/it]\r155it [19:46,  7.66s/it]\r156it [19:53,  7.69s/it]\r157it [20:01,  7.68s/it]\r158it [20:09,  7.64s/it]\r159it [20:16,  7.65s/it]\r160it [20:24,  7.62s/it]\r161it [20:31,  7.58s/it]\r162it [20:39,  7.65s/it]\r163it [20:47,  7.67s/it]\r164it [20:54,  7.67s/it]\r165it [21:02,  7.67s/it]\r166it [21:10,  7.68s/it]\r167it [21:18,  7.71s/it]\r168it [21:25,  7.69s/it]\r169it [21:33,  7.68s/it]\r170it [21:41,  7.66s/it]\r171it [21:48,  7.64s/it]\r172it [21:56,  7.66s/it]\r173it [22:04,  7.74s/it]\r174it [22:12,  7.79s/it]\r175it [22:20,  7.82s/it]\r176it [22:27,  7.78s/it]\r177it [22:35,  7.75s/it]\r178it [22:43,  7.71s/it]\r179it [22:50,  7.69s/it]\r180it [22:58,  7.70s/it]\r181it [23:05,  7.65s/it]\r182it [23:13,  7.68s/it]\r183it [23:21,  7.68s/it]\r184it [23:28,  7.63s/it]\r185it [23:36,  7.67s/it]\r186it [23:44,  7.64s/it]\r187it [23:51,  7.63s/it]\r188it [23:59,  7.63s/it]\r189it [24:07,  7.67s/it]\r190it [24:14,  7.63s/it]\r191it [24:22,  7.65s/it]\r192it [24:30,  7.63s/it]\r193it [24:37,  7.67s/it]\r194it [24:45,  7.61s/it]\r195it [24:52,  7.58s/it]\r196it [25:00,  7.62s/it]\r197it [25:08,  7.62s/it]\r198it [25:15,  7.64s/it]\r199it [25:23,  7.66s/it]\r200it [25:30,  7.60s/it]\r201it [25:38,  7.63s/it]\r202it [25:46,  7.61s/it]\r203it [25:54,  7.67s/it]\r204it [26:01,  7.67s/it]\r205it [26:09,  7.63s/it]\r206it [26:16,  7.65s/it]\r207it [26:24,  7.70s/it]\r208it [26:32,  7.68s/it]\r209it [26:40,  7.67s/it]\r210it [26:47,  7.69s/it]\r211it [26:55,  7.70s/it]\r212it [27:03,  7.72s/it]\r213it [27:10,  7.69s/it]\r214it [27:18,  7.65s/it]\r215it [27:26,  7.63s/it]\r216it [27:33,  7.64s/it]\r217it [27:41,  7.61s/it]\r218it [27:48,  7.62s/it]\r219it [27:56,  7.63s/it]\r220it [28:04,  7.61s/it]\r221it [28:11,  7.58s/it]\r222it [28:19,  7.63s/it]\r223it [28:27,  7.65s/it]\r224it [28:34,  7.65s/it]\r225it [28:42,  7.65s/it]\r226it [28:50,  7.68s/it]\r227it [28:57,  7.67s/it]\r228it [29:05,  7.73s/it]\r229it [29:13,  7.73s/it]\r230it [29:21,  7.72s/it]\r231it [29:28,  7.73s/it]\r232it [29:36,  7.70s/it]\r233it [29:43,  7.67s/it]\r234it [29:51,  7.72s/it]\r235it [29:59,  7.65s/it]\r236it [30:06,  7.53s/it]\r237it [30:14,  7.55s/it]\r238it [30:21,  7.50s/it]\r239it [30:29,  7.52s/it]\r240it [30:36,  7.54s/it]\r240it [30:36,  7.65s/it]\n"
     ]
    },
    {
     "name": "stdout",
     "output_type": "stream",
     "text": [
      "Epoch 28 train loss: 0.02880859375\n",
      "[Train - End / Test - Start Epoch 29] GPU Memory: Allocated=2.31GB, Reserved=3.39GB\n"
     ]
    },
    {
     "name": "stderr",
     "output_type": "stream",
     "text": [
      "\r  0%|          | 0/14.1875 [00:00<?, ?it/s]\r  7%|▋         | 1/14.1875 [00:06<01:29,  6.79s/it]\r 14%|█▍        | 2/14.1875 [00:13<01:22,  6.78s/it]\r 21%|██        | 3/14.1875 [00:20<01:15,  6.77s/it]\r 28%|██▊       | 4/14.1875 [00:27<01:08,  6.76s/it]\r 35%|███▌      | 5/14.1875 [00:33<01:01,  6.68s/it]\r 42%|████▏     | 6/14.1875 [00:40<00:54,  6.62s/it]\r 49%|████▉     | 7/14.1875 [00:46<00:47,  6.63s/it]\r 56%|█████▋    | 8/14.1875 [00:53<00:41,  6.66s/it]\r 63%|██████▎   | 9/14.1875 [01:00<00:34,  6.70s/it]\r 70%|███████   | 10/14.1875 [01:07<00:28,  6.74s/it]\r 78%|███████▊  | 11/14.1875 [01:13<00:21,  6.73s/it]\r 85%|████████▍ | 12/14.1875 [01:20<00:14,  6.72s/it]\r 92%|█████████▏| 13/14.1875 [01:27<00:07,  6.71s/it]\r 99%|█████████▊| 14/14.1875 [01:33<00:01,  6.68s/it]\r15it [01:40,  6.66s/it]                             \r16it [01:47,  6.66s/it]\r17it [01:53,  6.70s/it]\r18it [02:00,  6.71s/it]\r19it [02:07,  6.73s/it]\r20it [02:13,  6.70s/it]\r21it [02:20,  6.71s/it]\r22it [02:27,  6.68s/it]\r23it [02:34,  6.69s/it]\r24it [02:40,  6.71s/it]\r25it [02:47,  6.68s/it]\r26it [02:53,  6.63s/it]\r27it [03:00,  6.63s/it]\r28it [03:07,  6.69s/it]\r29it [03:14,  6.68s/it]\r30it [03:20,  6.63s/it]\r30it [03:20,  6.69s/it]\n"
     ]
    },
    {
     "name": "stdout",
     "output_type": "stream",
     "text": [
      "Cumulative Accuracy for CP: 69.54%\n",
      "Cumulative Accuracy for chopping-board: 91.15%\n",
      "Cumulative Accuracy for finalstep: 90.23%\n",
      "Cumulative Accuracy for glass-bowl-large: 73.22%\n",
      "Cumulative Accuracy for glass-bowl-medium: 71.03%\n",
      "Cumulative Accuracy for glass-bowl-small: 37.13%\n",
      "Cumulative Accuracy for grill-plate: nan%\n",
      "Cumulative Accuracy for group_step: 77.13%\n",
      "Cumulative Accuracy for medium: 92.18%\n",
      "Cumulative Accuracy for oven-dish: 96.55%\n",
      "Cumulative Accuracy for oven-tray: 96.09%\n",
      "Cumulative Accuracy for pan: 100.00%\n",
      "Cumulative Accuracy for pot-one-handle: 98.28%\n",
      "Cumulative Accuracy for pot-two-handles-medium: 77.13%\n",
      "Cumulative Accuracy for pot-two-handles-shallow: 91.95%\n",
      "Cumulative Accuracy for pot-two-handles-small: nan%\n",
      "Cumulative Accuracy for saucepan: 93.10%\n",
      "\n",
      "Mean Top 3 Accuracy (Val): 94.00%\n",
      "Mean Top 1 Accuracy (Val): 84.89%\n",
      "Macro-averaged Accuracy (Val): 83.65%\n",
      "Epoch 28 test loss: 26.734375\n",
      "\n",
      "[Test - End Epoch 29] GPU Memory: Allocated=2.31GB, Reserved=3.39GB\n",
      "\n",
      "Epoch 30/120\n",
      "[Train - Start Epoch 30] GPU Memory: Allocated=2.31GB, Reserved=3.39GB\n"
     ]
    },
    {
     "name": "stderr",
     "output_type": "stream",
     "text": [
      "\r  0%|          | 0/127.84375 [00:00<?, ?it/s]\r  1%|          | 1/127.84375 [00:07<16:25,  7.77s/it]\r  2%|▏         | 2/127.84375 [00:15<15:59,  7.62s/it]\r  2%|▏         | 3/127.84375 [00:23<16:00,  7.70s/it]\r  3%|▎         | 4/127.84375 [00:30<15:52,  7.69s/it]\r  4%|▍         | 5/127.84375 [00:38<15:47,  7.71s/it]\r  5%|▍         | 6/127.84375 [00:45<15:27,  7.61s/it]\r  5%|▌         | 7/127.84375 [00:53<15:19,  7.61s/it]\r  6%|▋         | 8/127.84375 [01:01<15:15,  7.64s/it]\r  7%|▋         | 9/127.84375 [01:08<15:09,  7.65s/it]\r  8%|▊         | 10/127.84375 [01:16<15:05,  7.69s/it]\r  9%|▊         | 11/127.84375 [01:24<15:00,  7.71s/it]\r  9%|▉         | 12/127.84375 [01:31<14:46,  7.65s/it]\r 10%|█         | 13/127.84375 [01:39<14:41,  7.68s/it]\r 11%|█         | 14/127.84375 [01:47<14:32,  7.66s/it]\r 12%|█▏        | 15/127.84375 [01:55<14:28,  7.70s/it]\r 13%|█▎        | 16/127.84375 [02:02<14:10,  7.60s/it]\r 13%|█▎        | 17/127.84375 [02:10<14:03,  7.61s/it]\r 14%|█▍        | 18/127.84375 [02:17<13:55,  7.61s/it]\r 15%|█▍        | 19/127.84375 [02:25<13:48,  7.61s/it]\r 16%|█▌        | 20/127.84375 [02:32<13:38,  7.59s/it]\r 16%|█▋        | 21/127.84375 [02:40<13:36,  7.65s/it]\r 17%|█▋        | 22/127.84375 [02:48<13:31,  7.67s/it]\r 18%|█▊        | 23/127.84375 [02:56<13:24,  7.67s/it]\r 19%|█▉        | 24/127.84375 [03:03<13:13,  7.64s/it]\r 20%|█▉        | 25/127.84375 [03:11<13:02,  7.61s/it]\r 20%|██        | 26/127.84375 [03:18<12:58,  7.64s/it]\r 21%|██        | 27/127.84375 [03:26<12:51,  7.65s/it]\r 22%|██▏       | 28/127.84375 [03:34<12:43,  7.65s/it]\r 23%|██▎       | 29/127.84375 [03:41<12:33,  7.62s/it]\r 23%|██▎       | 30/127.84375 [03:49<12:28,  7.65s/it]\r 24%|██▍       | 31/127.84375 [03:57<12:25,  7.69s/it]\r 25%|██▌       | 32/127.84375 [04:04<12:15,  7.67s/it]\r 26%|██▌       | 33/127.84375 [04:12<12:07,  7.67s/it]\r 27%|██▋       | 34/127.84375 [04:20<11:55,  7.62s/it]\r 27%|██▋       | 35/127.84375 [04:27<11:51,  7.66s/it]\r 28%|██▊       | 36/127.84375 [04:35<11:48,  7.72s/it]\r 29%|██▉       | 37/127.84375 [04:43<11:44,  7.76s/it]\r 30%|██▉       | 38/127.84375 [04:51<11:34,  7.73s/it]\r 31%|███       | 39/127.84375 [04:58<11:25,  7.72s/it]\r 31%|███▏      | 40/127.84375 [05:06<11:11,  7.64s/it]\r 32%|███▏      | 41/127.84375 [05:14<11:04,  7.65s/it]\r 33%|███▎      | 42/127.84375 [05:21<10:54,  7.63s/it]\r 34%|███▎      | 43/127.84375 [05:29<10:47,  7.63s/it]\r 34%|███▍      | 44/127.84375 [05:36<10:40,  7.63s/it]\r 35%|███▌      | 45/127.84375 [05:44<10:29,  7.60s/it]\r 36%|███▌      | 46/127.84375 [05:52<10:25,  7.64s/it]\r 37%|███▋      | 47/127.84375 [05:59<10:17,  7.64s/it]\r 38%|███▊      | 48/127.84375 [06:07<10:08,  7.62s/it]\r 38%|███▊      | 49/127.84375 [06:14<10:01,  7.63s/it]\r 39%|███▉      | 50/127.84375 [06:22<09:54,  7.63s/it]\r 40%|███▉      | 51/127.84375 [06:30<09:43,  7.59s/it]\r 41%|████      | 52/127.84375 [06:37<09:37,  7.62s/it]\r 41%|████▏     | 53/127.84375 [06:45<09:28,  7.60s/it]\r 42%|████▏     | 54/127.84375 [06:53<09:24,  7.64s/it]\r 43%|████▎     | 55/127.84375 [07:00<09:14,  7.61s/it]\r 44%|████▍     | 56/127.84375 [07:08<09:06,  7.60s/it]\r 45%|████▍     | 57/127.84375 [07:15<08:59,  7.62s/it]\r 45%|████▌     | 58/127.84375 [07:23<08:54,  7.66s/it]\r 46%|████▌     | 59/127.84375 [07:31<08:51,  7.72s/it]\r 47%|████▋     | 60/127.84375 [07:39<08:45,  7.75s/it]\r 48%|████▊     | 61/127.84375 [07:46<08:34,  7.69s/it]\r 48%|████▊     | 62/127.84375 [07:54<08:25,  7.68s/it]\r 49%|████▉     | 63/127.84375 [08:02<08:17,  7.67s/it]\r 50%|█████     | 64/127.84375 [08:09<08:10,  7.68s/it]\r 51%|█████     | 65/127.84375 [08:17<08:00,  7.65s/it]\r 52%|█████▏    | 66/127.84375 [08:25<07:53,  7.66s/it]\r 52%|█████▏    | 67/127.84375 [08:32<07:46,  7.66s/it]\r 53%|█████▎    | 68/127.84375 [08:40<07:38,  7.67s/it]\r 54%|█████▍    | 69/127.84375 [08:47<07:28,  7.62s/it]\r 55%|█████▍    | 70/127.84375 [08:55<07:19,  7.60s/it]\r 56%|█████▌    | 71/127.84375 [09:03<07:12,  7.61s/it]\r 56%|█████▋    | 72/127.84375 [09:10<07:05,  7.61s/it]\r 57%|█████▋    | 73/127.84375 [09:18<06:58,  7.63s/it]\r 58%|█████▊    | 74/127.84375 [09:25<06:48,  7.58s/it]\r 59%|█████▊    | 75/127.84375 [09:33<06:43,  7.63s/it]\r 59%|█████▉    | 76/127.84375 [09:41<06:35,  7.63s/it]\r 60%|██████    | 77/127.84375 [09:48<06:29,  7.66s/it]\r 61%|██████    | 78/127.84375 [09:56<06:20,  7.63s/it]\r 62%|██████▏   | 79/127.84375 [10:04<06:13,  7.64s/it]\r 63%|██████▎   | 80/127.84375 [10:11<06:05,  7.64s/it]\r 63%|██████▎   | 81/127.84375 [10:19<05:57,  7.63s/it]\r 64%|██████▍   | 82/127.84375 [10:27<05:52,  7.68s/it]\r 65%|██████▍   | 83/127.84375 [10:34<05:43,  7.67s/it]\r 66%|██████▌   | 84/127.84375 [10:42<05:39,  7.74s/it]\r 66%|██████▋   | 85/127.84375 [10:50<05:31,  7.73s/it]\r 67%|██████▋   | 86/127.84375 [10:58<05:23,  7.74s/it]\r 68%|██████▊   | 87/127.84375 [11:05<05:15,  7.72s/it]\r 69%|██████▉   | 88/127.84375 [11:13<05:07,  7.72s/it]\r 70%|██████▉   | 89/127.84375 [11:21<04:58,  7.69s/it]\r 70%|███████   | 90/127.84375 [11:28<04:51,  7.69s/it]\r 71%|███████   | 91/127.84375 [11:36<04:40,  7.63s/it]\r 72%|███████▏  | 92/127.84375 [11:44<04:35,  7.69s/it]\r 73%|███████▎  | 93/127.84375 [11:51<04:27,  7.67s/it]\r 74%|███████▎  | 94/127.84375 [11:59<04:18,  7.65s/it]\r 74%|███████▍  | 95/127.84375 [12:06<04:09,  7.59s/it]\r 75%|███████▌  | 96/127.84375 [12:14<04:01,  7.60s/it]\r 76%|███████▌  | 97/127.84375 [12:22<03:54,  7.60s/it]\r 77%|███████▋  | 98/127.84375 [12:29<03:47,  7.62s/it]\r 77%|███████▋  | 99/127.84375 [12:37<03:38,  7.59s/it]\r 78%|███████▊  | 100/127.84375 [12:45<03:31,  7.60s/it]\r 79%|███████▉  | 101/127.84375 [12:52<03:24,  7.63s/it]\r 80%|███████▉  | 102/127.84375 [13:00<03:16,  7.61s/it]\r 81%|████████  | 103/127.84375 [13:07<03:07,  7.57s/it]\r 81%|████████▏ | 104/127.84375 [13:15<03:01,  7.60s/it]\r 82%|████████▏ | 105/127.84375 [13:23<02:53,  7.60s/it]\r 83%|████████▎ | 106/127.84375 [13:30<02:46,  7.63s/it]\r 84%|████████▎ | 107/127.84375 [13:38<02:39,  7.63s/it]\r 84%|████████▍ | 108/127.84375 [13:46<02:32,  7.67s/it]\r 85%|████████▌ | 109/127.84375 [13:53<02:23,  7.60s/it]\r 86%|████████▌ | 110/127.84375 [14:01<02:14,  7.56s/it]\r 87%|████████▋ | 111/127.84375 [14:08<02:07,  7.60s/it]\r 88%|████████▊ | 112/127.84375 [14:16<02:00,  7.62s/it]\r 88%|████████▊ | 113/127.84375 [14:23<01:52,  7.56s/it]\r 89%|████████▉ | 114/127.84375 [14:31<01:45,  7.59s/it]\r 90%|████████▉ | 115/127.84375 [14:39<01:37,  7.58s/it]\r 91%|█████████ | 116/127.84375 [14:46<01:29,  7.59s/it]\r 92%|█████████▏| 117/127.84375 [14:54<01:22,  7.61s/it]\r 92%|█████████▏| 118/127.84375 [15:01<01:14,  7.61s/it]\r 93%|█████████▎| 119/127.84375 [15:09<01:06,  7.52s/it]\r 94%|█████████▍| 120/127.84375 [15:16<00:59,  7.58s/it]\r 95%|█████████▍| 121/127.84375 [15:24<00:52,  7.63s/it]\r 95%|█████████▌| 122/127.84375 [15:32<00:44,  7.65s/it]\r 96%|█████████▌| 123/127.84375 [15:40<00:37,  7.68s/it]\r 97%|█████████▋| 124/127.84375 [15:47<00:29,  7.68s/it]\r 98%|█████████▊| 125/127.84375 [15:55<00:21,  7.64s/it]\r 99%|█████████▊| 126/127.84375 [16:03<00:14,  7.68s/it]\r 99%|█████████▉| 127/127.84375 [16:10<00:06,  7.70s/it]/databricks/python/lib/python3.11/site-packages/tqdm/std.py:524: TqdmWarning: clamping frac to range [0, 1]\n",
      "  full_bar = Bar(frac,\n",
      "\r100%|██████████| 128/127.84375 [16:18<-1:59:59,  7.70s/it]\r129it [16:26,  7.63s/it]                                  \r130it [16:33,  7.58s/it]\r131it [16:41,  7.59s/it]\r132it [16:48,  7.59s/it]\r133it [16:56,  7.54s/it]\r134it [17:03,  7.57s/it]\r135it [17:11,  7.62s/it]\r136it [17:18,  7.57s/it]\r137it [17:26,  7.62s/it]\r138it [17:34,  7.62s/it]\r139it [17:41,  7.63s/it]\r140it [17:49,  7.59s/it]\r141it [17:57,  7.63s/it]\r142it [18:04,  7.61s/it]\r143it [18:12,  7.61s/it]\r144it [18:20,  7.63s/it]\r145it [18:27,  7.59s/it]\r146it [18:34,  7.55s/it]\r147it [18:42,  7.51s/it]\r148it [18:49,  7.52s/it]\r149it [18:57,  7.56s/it]\r150it [19:05,  7.58s/it]\r151it [19:12,  7.54s/it]\r152it [19:20,  7.57s/it]\r153it [19:27,  7.57s/it]\r154it [19:35,  7.56s/it]\r155it [19:43,  7.59s/it]\r156it [19:50,  7.58s/it]\r157it [19:58,  7.55s/it]\r158it [20:05,  7.57s/it]\r159it [20:13,  7.58s/it]\r160it [20:20,  7.58s/it]\r161it [20:28,  7.58s/it]\r162it [20:36,  7.60s/it]\r163it [20:43,  7.63s/it]\r164it [20:51,  7.63s/it]\r165it [20:59,  7.68s/it]\r166it [21:07,  7.72s/it]\r167it [21:14,  7.70s/it]\r168it [21:22,  7.66s/it]\r169it [21:29,  7.64s/it]\r170it [21:37,  7.62s/it]\r171it [21:44,  7.58s/it]\r172it [21:52,  7.60s/it]\r173it [22:00,  7.64s/it]\r174it [22:07,  7.62s/it]\r175it [22:15,  7.64s/it]\r176it [22:23,  7.59s/it]\r177it [22:30,  7.59s/it]\r178it [22:38,  7.59s/it]\r179it [22:45,  7.61s/it]\r180it [22:53,  7.58s/it]\r181it [23:01,  7.62s/it]\r182it [23:08,  7.63s/it]\r183it [23:16,  7.61s/it]\r184it [23:24,  7.65s/it]\r185it [23:31,  7.66s/it]\r186it [23:39,  7.64s/it]\r187it [23:47,  7.70s/it]\r188it [23:54,  7.68s/it]\r189it [24:02,  7.67s/it]\r190it [24:10,  7.68s/it]\r191it [24:17,  7.66s/it]\r192it [24:25,  7.69s/it]\r193it [24:33,  7.77s/it]\r194it [24:41,  7.77s/it]\r195it [24:49,  7.80s/it]\r196it [24:56,  7.77s/it]\r197it [25:04,  7.70s/it]\r198it [25:11,  7.66s/it]\r199it [25:19,  7.70s/it]\r200it [25:27,  7.68s/it]\r201it [25:35,  7.68s/it]\r202it [25:42,  7.68s/it]\r203it [25:50,  7.66s/it]\r204it [25:58,  7.69s/it]\r205it [26:05,  7.71s/it]\r206it [26:13,  7.71s/it]\r207it [26:21,  7.71s/it]\r208it [26:28,  7.67s/it]\r209it [26:36,  7.67s/it]\r210it [26:44,  7.64s/it]\r211it [26:51,  7.67s/it]\r212it [26:59,  7.67s/it]\r213it [27:06,  7.61s/it]\r214it [27:14,  7.70s/it]\r215it [27:22,  7.70s/it]\r216it [27:30,  7.73s/it]\r217it [27:38,  7.71s/it]\r218it [27:45,  7.71s/it]\r219it [27:53,  7.72s/it]\r220it [28:01,  7.75s/it]\r221it [28:09,  7.76s/it]\r222it [28:16,  7.72s/it]\r223it [28:24,  7.67s/it]\r224it [28:32,  7.70s/it]\r225it [28:39,  7.73s/it]\r226it [28:47,  7.68s/it]\r227it [28:55,  7.68s/it]\r228it [29:02,  7.69s/it]\r229it [29:10,  7.64s/it]\r230it [29:17,  7.63s/it]\r231it [29:25,  7.64s/it]\r232it [29:33,  7.66s/it]\r233it [29:40,  7.67s/it]\r234it [29:48,  7.63s/it]\r235it [29:56,  7.60s/it]\r236it [30:03,  7.56s/it]\r237it [30:11,  7.62s/it]\r238it [30:18,  7.62s/it]\r239it [30:26,  7.62s/it]\r240it [30:34,  7.65s/it]\r240it [30:34,  7.64s/it]\n"
     ]
    },
    {
     "name": "stdout",
     "output_type": "stream",
     "text": [
      "Epoch 29 train loss: 0.02935791015625\n",
      "[Train - End / Test - Start Epoch 30] GPU Memory: Allocated=2.30GB, Reserved=3.39GB\n"
     ]
    },
    {
     "name": "stderr",
     "output_type": "stream",
     "text": [
      "\r  0%|          | 0/14.1875 [00:00<?, ?it/s]\r  7%|▋         | 1/14.1875 [00:06<01:28,  6.70s/it]\r 14%|█▍        | 2/14.1875 [00:13<01:21,  6.66s/it]\r 21%|██        | 3/14.1875 [00:19<01:14,  6.62s/it]\r 28%|██▊       | 4/14.1875 [00:26<01:08,  6.68s/it]\r 35%|███▌      | 5/14.1875 [00:33<01:01,  6.68s/it]\r 42%|████▏     | 6/14.1875 [00:40<00:55,  6.72s/it]\r 49%|████▉     | 7/14.1875 [00:46<00:47,  6.67s/it]\r 56%|█████▋    | 8/14.1875 [00:53<00:41,  6.73s/it]\r 63%|██████▎   | 9/14.1875 [01:00<00:35,  6.75s/it]\r 70%|███████   | 10/14.1875 [01:07<00:28,  6.76s/it]\r 78%|███████▊  | 11/14.1875 [01:13<00:21,  6.75s/it]\r 85%|████████▍ | 12/14.1875 [01:20<00:14,  6.71s/it]\r 92%|█████████▏| 13/14.1875 [01:27<00:07,  6.71s/it]\r 99%|█████████▊| 14/14.1875 [01:33<00:01,  6.69s/it]\r15it [01:40,  6.70s/it]                             \r16it [01:47,  6.71s/it]\r17it [01:54,  6.71s/it]\r18it [02:00,  6.67s/it]\r19it [02:07,  6.70s/it]\r20it [02:14,  6.68s/it]\r21it [02:20,  6.66s/it]\r22it [02:27,  6.59s/it]\r23it [02:33,  6.69s/it]\r24it [02:40,  6.72s/it]\r25it [02:47,  6.76s/it]\r26it [02:54,  6.72s/it]\r27it [03:00,  6.71s/it]\r28it [03:07,  6.68s/it]\r29it [03:14,  6.68s/it]\r30it [03:20,  6.69s/it]\r30it [03:20,  6.70s/it]\n"
     ]
    },
    {
     "name": "stdout",
     "output_type": "stream",
     "text": [
      "Cumulative Accuracy for CP: 69.56%\n",
      "Cumulative Accuracy for chopping-board: 91.33%\n",
      "Cumulative Accuracy for finalstep: 90.33%\n",
      "Cumulative Accuracy for glass-bowl-large: 73.00%\n",
      "Cumulative Accuracy for glass-bowl-medium: 71.11%\n",
      "Cumulative Accuracy for glass-bowl-small: 37.78%\n",
      "Cumulative Accuracy for grill-plate: nan%\n",
      "Cumulative Accuracy for group_step: 77.00%\n",
      "Cumulative Accuracy for medium: 92.22%\n",
      "Cumulative Accuracy for oven-dish: 96.67%\n",
      "Cumulative Accuracy for oven-tray: 96.11%\n",
      "Cumulative Accuracy for pan: 100.00%\n",
      "Cumulative Accuracy for pot-one-handle: 98.00%\n",
      "Cumulative Accuracy for pot-two-handles-medium: 77.00%\n",
      "Cumulative Accuracy for pot-two-handles-shallow: 91.67%\n",
      "Cumulative Accuracy for pot-two-handles-small: nan%\n",
      "Cumulative Accuracy for saucepan: 93.33%\n",
      "\n",
      "Mean Top 3 Accuracy (Val): 94.00%\n",
      "Mean Top 1 Accuracy (Val): 84.44%\n",
      "Macro-averaged Accuracy (Val): 83.67%\n",
      "Epoch 29 test loss: 28.3125\n",
      "\n",
      "[Test - End Epoch 30] GPU Memory: Allocated=2.30GB, Reserved=3.39GB\n",
      "\n",
      "Epoch 31/120\n",
      "[Train - Start Epoch 31] GPU Memory: Allocated=2.30GB, Reserved=3.39GB\n"
     ]
    },
    {
     "name": "stderr",
     "output_type": "stream",
     "text": [
      "\r  0%|          | 0/127.84375 [00:00<?, ?it/s]\r  1%|          | 1/127.84375 [00:07<16:12,  7.67s/it]\r  2%|▏         | 2/127.84375 [00:15<16:12,  7.72s/it]\r  2%|▏         | 3/127.84375 [00:22<15:43,  7.56s/it]\r  3%|▎         | 4/127.84375 [00:30<15:38,  7.58s/it]\r  4%|▍         | 5/127.84375 [00:37<15:31,  7.58s/it]\r  5%|▍         | 6/127.84375 [00:45<15:25,  7.59s/it]\r  5%|▌         | 7/127.84375 [00:53<15:20,  7.62s/it]\r  6%|▋         | 8/127.84375 [01:01<15:18,  7.67s/it]\r  7%|▋         | 9/127.84375 [01:08<15:02,  7.59s/it]\r  8%|▊         | 10/127.84375 [01:16<14:55,  7.60s/it]\r  9%|▊         | 11/127.84375 [01:23<14:51,  7.63s/it]\r  9%|▉         | 12/127.84375 [01:31<14:43,  7.63s/it]\r 10%|█         | 13/127.84375 [01:39<14:38,  7.65s/it]\r 11%|█         | 14/127.84375 [01:46<14:29,  7.64s/it]\r 12%|█▏        | 15/127.84375 [01:54<14:16,  7.59s/it]\r 13%|█▎        | 16/127.84375 [02:01<14:09,  7.60s/it]\r 13%|█▎        | 17/127.84375 [02:09<13:56,  7.54s/it]\r 14%|█▍        | 18/127.84375 [02:16<13:49,  7.55s/it]\r 15%|█▍        | 19/127.84375 [02:24<13:44,  7.57s/it]\r 16%|█▌        | 20/127.84375 [02:31<13:35,  7.56s/it]\r 16%|█▋        | 21/127.84375 [02:39<13:28,  7.57s/it]\r 17%|█▋        | 22/127.84375 [02:47<13:17,  7.54s/it]\r 18%|█▊        | 23/127.84375 [02:54<13:09,  7.53s/it]\r 19%|█▉        | 24/127.84375 [03:02<13:07,  7.58s/it]\r 20%|█▉        | 25/127.84375 [03:09<13:03,  7.62s/it]\r 20%|██        | 26/127.84375 [03:17<13:01,  7.68s/it]\r 21%|██        | 27/127.84375 [03:25<12:50,  7.64s/it]\r 22%|██▏       | 28/127.84375 [03:33<12:46,  7.67s/it]\r 23%|██▎       | 29/127.84375 [03:40<12:37,  7.67s/it]\r 23%|██▎       | 30/127.84375 [03:48<12:29,  7.66s/it]\r 24%|██▍       | 31/127.84375 [03:55<12:20,  7.64s/it]\r 25%|██▌       | 32/127.84375 [04:03<12:07,  7.59s/it]\r 26%|██▌       | 33/127.84375 [04:10<11:57,  7.57s/it]\r 27%|██▋       | 34/127.84375 [04:18<11:50,  7.57s/it]\r 27%|██▋       | 35/127.84375 [04:26<11:46,  7.61s/it]\r 28%|██▊       | 36/127.84375 [04:33<11:39,  7.62s/it]\r 29%|██▉       | 37/127.84375 [04:41<11:29,  7.59s/it]\r 30%|██▉       | 38/127.84375 [04:49<11:25,  7.63s/it]\r 31%|███       | 39/127.84375 [04:56<11:16,  7.61s/it]\r 31%|███▏      | 40/127.84375 [05:04<11:12,  7.65s/it]\r 32%|███▏      | 41/127.84375 [05:11<11:00,  7.61s/it]\r 33%|███▎      | 42/127.84375 [05:19<10:50,  7.58s/it]\r 34%|███▎      | 43/127.84375 [05:26<10:39,  7.53s/it]\r 34%|███▍      | 44/127.84375 [05:34<10:31,  7.54s/it]\r 35%|███▌      | 45/127.84375 [05:41<10:25,  7.55s/it]\r 36%|███▌      | 46/127.84375 [05:49<10:19,  7.57s/it]\r 37%|███▋      | 47/127.84375 [05:57<10:13,  7.59s/it]\r 38%|███▊      | 48/127.84375 [06:04<10:09,  7.63s/it]\r 38%|███▊      | 49/127.84375 [06:12<10:00,  7.61s/it]\r 39%|███▉      | 50/127.84375 [06:20<09:52,  7.61s/it]\r 40%|███▉      | 51/127.84375 [06:27<09:46,  7.63s/it]\r 41%|████      | 52/127.84375 [06:35<09:39,  7.64s/it]\r 41%|████▏     | 53/127.84375 [06:43<09:33,  7.66s/it]\r 42%|████▏     | 54/127.84375 [06:50<09:24,  7.64s/it]\r 43%|████▎     | 55/127.84375 [06:58<09:14,  7.61s/it]\r 44%|████▍     | 56/127.84375 [07:05<09:06,  7.61s/it]\r 45%|████▍     | 57/127.84375 [07:13<08:58,  7.61s/it]\r 45%|████▌     | 58/127.84375 [07:20<08:46,  7.53s/it]\r 46%|████▌     | 59/127.84375 [07:28<08:40,  7.57s/it]\r 47%|████▋     | 60/127.84375 [07:36<08:33,  7.57s/it]\r 48%|████▊     | 61/127.84375 [07:43<08:25,  7.57s/it]\r 48%|████▊     | 62/127.84375 [07:51<08:19,  7.58s/it]\r 49%|████▉     | 63/127.84375 [07:58<08:14,  7.62s/it]\r 50%|█████     | 64/127.84375 [08:06<08:05,  7.60s/it]\r 51%|█████     | 65/127.84375 [08:14<07:58,  7.62s/it]\r 52%|█████▏    | 66/127.84375 [08:21<07:50,  7.61s/it]\r 52%|█████▏    | 67/127.84375 [08:29<07:41,  7.58s/it]\r 53%|█████▎    | 68/127.84375 [08:36<07:32,  7.56s/it]\r 54%|█████▍    | 69/127.84375 [08:44<07:25,  7.57s/it]\r 55%|█████▍    | 70/127.84375 [08:51<07:16,  7.55s/it]\r 56%|█████▌    | 71/127.84375 [08:59<07:07,  7.53s/it]\r 56%|█████▋    | 72/127.84375 [09:06<07:02,  7.56s/it]\r 57%|█████▋    | 73/127.84375 [09:14<06:55,  7.58s/it]\r 58%|█████▊    | 74/127.84375 [09:22<06:47,  7.56s/it]\r 59%|█████▊    | 75/127.84375 [09:29<06:40,  7.57s/it]\r 59%|█████▉    | 76/127.84375 [09:37<06:31,  7.55s/it]\r 60%|██████    | 77/127.84375 [09:44<06:25,  7.58s/it]\r 61%|██████    | 78/127.84375 [09:52<06:15,  7.53s/it]\r 62%|██████▏   | 79/127.84375 [09:59<06:10,  7.58s/it]\r 63%|██████▎   | 80/127.84375 [10:07<05:57,  7.48s/it]\r 63%|██████▎   | 81/127.84375 [10:14<05:51,  7.51s/it]\r 64%|██████▍   | 82/127.84375 [10:22<05:44,  7.52s/it]\r 65%|██████▍   | 83/127.84375 [10:30<05:39,  7.57s/it]\r 66%|██████▌   | 84/127.84375 [10:37<05:30,  7.54s/it]\r 66%|██████▋   | 85/127.84375 [10:45<05:25,  7.59s/it]\r 67%|██████▋   | 86/127.84375 [10:52<05:15,  7.55s/it]\r 68%|██████▊   | 87/127.84375 [11:00<05:09,  7.57s/it]\r 69%|██████▉   | 88/127.84375 [11:07<05:00,  7.55s/it]\r 70%|██████▉   | 89/127.84375 [11:15<04:55,  7.60s/it]\r 70%|███████   | 90/127.84375 [11:23<04:48,  7.62s/it]\r 71%|███████   | 91/127.84375 [11:30<04:38,  7.56s/it]\r 72%|███████▏  | 92/127.84375 [11:38<04:32,  7.61s/it]\r 73%|███████▎  | 93/127.84375 [11:45<04:25,  7.63s/it]\r 74%|███████▎  | 94/127.84375 [11:53<04:18,  7.64s/it]\r 74%|███████▍  | 95/127.84375 [12:01<04:10,  7.63s/it]\r 75%|███████▌  | 96/127.84375 [12:08<04:02,  7.61s/it]\r 76%|███████▌  | 97/127.84375 [12:16<03:54,  7.62s/it]\r 77%|███████▋  | 98/127.84375 [12:23<03:46,  7.58s/it]\r 77%|███████▋  | 99/127.84375 [12:31<03:38,  7.56s/it]\r 78%|███████▊  | 100/127.84375 [12:38<03:28,  7.49s/it]\r 79%|███████▉  | 101/127.84375 [12:46<03:21,  7.52s/it]\r 80%|███████▉  | 102/127.84375 [12:54<03:15,  7.56s/it]\r 81%|████████  | 103/127.84375 [13:01<03:08,  7.59s/it]\r 81%|████████▏ | 104/127.84375 [13:09<03:01,  7.60s/it]\r 82%|████████▏ | 105/127.84375 [13:16<02:52,  7.53s/it]\r 83%|████████▎ | 106/127.84375 [13:24<02:44,  7.55s/it]\r 84%|████████▎ | 107/127.84375 [13:31<02:38,  7.59s/it]\r 84%|████████▍ | 108/127.84375 [13:39<02:30,  7.60s/it]\r 85%|████████▌ | 109/127.84375 [13:47<02:22,  7.55s/it]\r 86%|████████▌ | 110/127.84375 [13:54<02:15,  7.62s/it]\r 87%|████████▋ | 111/127.84375 [14:02<02:08,  7.64s/it]\r 88%|████████▊ | 112/127.84375 [14:10<02:00,  7.62s/it]\r 88%|████████▊ | 113/127.84375 [14:17<01:52,  7.60s/it]\r 89%|████████▉ | 114/127.84375 [14:25<01:46,  7.66s/it]\r 90%|████████▉ | 115/127.84375 [14:33<01:38,  7.68s/it]\r 91%|█████████ | 116/127.84375 [14:40<01:30,  7.65s/it]\r 92%|█████████▏| 117/127.84375 [14:48<01:22,  7.62s/it]\r 92%|█████████▏| 118/127.84375 [14:55<01:15,  7.64s/it]\r 93%|█████████▎| 119/127.84375 [15:03<01:07,  7.61s/it]\r 94%|█████████▍| 120/127.84375 [15:11<00:59,  7.64s/it]\r 95%|█████████▍| 121/127.84375 [15:18<00:51,  7.58s/it]\r 95%|█████████▌| 122/127.84375 [15:26<00:44,  7.56s/it]\r 96%|█████████▌| 123/127.84375 [15:33<00:36,  7.56s/it]\r 97%|█████████▋| 124/127.84375 [15:41<00:28,  7.52s/it]\r 98%|█████████▊| 125/127.84375 [15:48<00:21,  7.49s/it]\r 99%|█████████▊| 126/127.84375 [15:56<00:13,  7.55s/it]\r 99%|█████████▉| 127/127.84375 [16:03<00:06,  7.57s/it]/databricks/python/lib/python3.11/site-packages/tqdm/std.py:524: TqdmWarning: clamping frac to range [0, 1]\n",
      "  full_bar = Bar(frac,\n",
      "\r100%|██████████| 128/127.84375 [16:11<-1:59:59,  7.54s/it]\r129it [16:19,  7.58s/it]                                  \r130it [16:26,  7.59s/it]\r131it [16:34,  7.54s/it]\r132it [16:41,  7.57s/it]\r133it [16:49,  7.55s/it]\r134it [16:56,  7.51s/it]\r135it [17:04,  7.52s/it]\r136it [17:11,  7.51s/it]\r137it [17:19,  7.53s/it]\r138it [17:26,  7.50s/it]\r139it [17:34,  7.55s/it]\r140it [17:41,  7.53s/it]\r141it [17:49,  7.63s/it]\r142it [17:57,  7.57s/it]\r143it [18:04,  7.57s/it]\r144it [18:12,  7.60s/it]\r145it [18:19,  7.58s/it]\r146it [18:27,  7.60s/it]\r147it [18:35,  7.59s/it]\r148it [18:42,  7.59s/it]\r149it [18:50,  7.58s/it]\r150it [18:57,  7.58s/it]\r151it [19:05,  7.62s/it]\r152it [19:13,  7.61s/it]\r153it [19:20,  7.58s/it]\r154it [19:28,  7.62s/it]\r155it [19:36,  7.63s/it]\r156it [19:43,  7.59s/it]\r157it [19:51,  7.58s/it]\r158it [19:58,  7.64s/it]\r159it [20:06,  7.66s/it]\r160it [20:14,  7.63s/it]\r161it [20:21,  7.62s/it]\r162it [20:29,  7.59s/it]\r163it [20:36,  7.58s/it]\r164it [20:44,  7.56s/it]\r165it [20:51,  7.55s/it]\r166it [20:59,  7.56s/it]\r167it [21:06,  7.57s/it]\r168it [21:14,  7.60s/it]\r169it [21:22,  7.56s/it]\r170it [21:29,  7.59s/it]\r171it [21:37,  7.59s/it]\r172it [21:44,  7.56s/it]\r173it [21:52,  7.56s/it]\r174it [22:00,  7.57s/it]\r175it [22:07,  7.59s/it]\r176it [22:15,  7.56s/it]\r177it [22:22,  7.59s/it]\r178it [22:30,  7.58s/it]\r179it [22:37,  7.58s/it]\r180it [22:45,  7.57s/it]\r181it [22:53,  7.56s/it]\r182it [23:00,  7.58s/it]\r183it [23:08,  7.59s/it]\r184it [23:16,  7.65s/it]\r185it [23:23,  7.68s/it]\r186it [23:31,  7.63s/it]\r187it [23:39,  7.65s/it]\r188it [23:46,  7.63s/it]\r189it [23:54,  7.64s/it]\r190it [24:01,  7.65s/it]\r191it [24:09,  7.69s/it]\r192it [24:17,  7.72s/it]\r193it [24:25,  7.67s/it]\r194it [24:32,  7.71s/it]\r195it [24:40,  7.67s/it]\r196it [24:48,  7.71s/it]\r197it [24:55,  7.68s/it]\r198it [25:03,  7.70s/it]\r199it [25:11,  7.68s/it]\r200it [25:18,  7.66s/it]\r201it [25:26,  7.67s/it]\r202it [25:34,  7.63s/it]\r203it [25:41,  7.63s/it]\r204it [25:49,  7.59s/it]\r205it [25:56,  7.61s/it]\r206it [26:04,  7.61s/it]\r207it [26:12,  7.60s/it]\r208it [26:19,  7.52s/it]\r209it [26:27,  7.56s/it]\r210it [26:34,  7.54s/it]\r211it [26:42,  7.57s/it]\r212it [26:49,  7.58s/it]\r213it [26:57,  7.57s/it]\r214it [27:04,  7.59s/it]\r215it [27:12,  7.57s/it]\r216it [27:20,  7.56s/it]\r217it [27:27,  7.55s/it]\r218it [27:35,  7.56s/it]\r219it [27:42,  7.61s/it]\r220it [27:50,  7.59s/it]\r221it [27:58,  7.61s/it]\r222it [28:05,  7.64s/it]\r223it [28:13,  7.64s/it]\r224it [28:20,  7.54s/it]\r225it [28:28,  7.52s/it]\r226it [28:35,  7.57s/it]\r227it [28:43,  7.61s/it]\r228it [28:51,  7.59s/it]\r229it [28:58,  7.65s/it]\r230it [29:06,  7.68s/it]\r231it [29:14,  7.64s/it]\r232it [29:21,  7.64s/it]\r233it [29:29,  7.63s/it]\r234it [29:37,  7.65s/it]\r235it [29:44,  7.70s/it]\r236it [29:52,  7.63s/it]\r237it [29:59,  7.60s/it]\r238it [30:07,  7.62s/it]\r239it [30:15,  7.61s/it]\r240it [30:22,  7.57s/it]\r240it [30:22,  7.59s/it]\n"
     ]
    },
    {
     "name": "stdout",
     "output_type": "stream",
     "text": [
      "Epoch 30 train loss: 0.026611328125\n",
      "[Checkpoint] Saved under <PATH>/recipe_classifier/checkpoints/2025_01_23/dataset_20dec/b32/epoch_30.pt\n",
      "\n",
      "[Train - End / Test - Start Epoch 31] GPU Memory: Allocated=2.06GB, Reserved=3.39GB\n"
     ]
    },
    {
     "name": "stderr",
     "output_type": "stream",
     "text": [
      "\r  0%|          | 0/14.1875 [00:00<?, ?it/s]\r  7%|▋         | 1/14.1875 [00:06<01:28,  6.73s/it]\r 14%|█▍        | 2/14.1875 [00:13<01:21,  6.68s/it]\r 21%|██        | 3/14.1875 [00:20<01:15,  6.71s/it]\r 28%|██▊       | 4/14.1875 [00:26<01:08,  6.69s/it]\r 35%|███▌      | 5/14.1875 [00:33<01:00,  6.63s/it]\r 42%|████▏     | 6/14.1875 [00:39<00:54,  6.63s/it]\r 49%|████▉     | 7/14.1875 [00:46<00:47,  6.64s/it]\r 56%|█████▋    | 8/14.1875 [00:53<00:41,  6.67s/it]\r 63%|██████▎   | 9/14.1875 [01:00<00:34,  6.67s/it]\r 70%|███████   | 10/14.1875 [01:06<00:28,  6.70s/it]\r 78%|███████▊  | 11/14.1875 [01:13<00:21,  6.69s/it]\r 85%|████████▍ | 12/14.1875 [01:19<00:14,  6.63s/it]\r 92%|█████████▏| 13/14.1875 [01:26<00:07,  6.65s/it]\r 99%|█████████▊| 14/14.1875 [01:33<00:01,  6.69s/it]\r15it [01:40,  6.69s/it]                             \r16it [01:46,  6.72s/it]\r17it [01:53,  6.75s/it]\r18it [02:00,  6.68s/it]\r19it [02:06,  6.68s/it]\r20it [02:13,  6.65s/it]\r21it [02:20,  6.66s/it]\r22it [02:26,  6.66s/it]\r23it [02:33,  6.65s/it]\r24it [02:40,  6.66s/it]\r25it [02:46,  6.63s/it]\r26it [02:53,  6.62s/it]\r27it [03:00,  6.67s/it]\r28it [03:06,  6.69s/it]\r29it [03:13,  6.68s/it]\r30it [03:20,  6.70s/it]\r30it [03:20,  6.67s/it]\n"
     ]
    },
    {
     "name": "stdout",
     "output_type": "stream",
     "text": [
      "Cumulative Accuracy for CP: 69.46%\n",
      "Cumulative Accuracy for chopping-board: 91.40%\n",
      "Cumulative Accuracy for finalstep: 90.43%\n",
      "Cumulative Accuracy for glass-bowl-large: 73.33%\n",
      "Cumulative Accuracy for glass-bowl-medium: 71.29%\n",
      "Cumulative Accuracy for glass-bowl-small: 37.96%\n",
      "Cumulative Accuracy for grill-plate: nan%\n",
      "Cumulative Accuracy for group_step: 77.20%\n",
      "Cumulative Accuracy for medium: 92.26%\n",
      "Cumulative Accuracy for oven-dish: 96.77%\n",
      "Cumulative Accuracy for oven-tray: 96.24%\n",
      "Cumulative Accuracy for pan: 100.00%\n",
      "Cumulative Accuracy for pot-one-handle: 97.53%\n",
      "Cumulative Accuracy for pot-two-handles-medium: 77.20%\n",
      "Cumulative Accuracy for pot-two-handles-shallow: 91.40%\n",
      "Cumulative Accuracy for pot-two-handles-small: nan%\n",
      "Cumulative Accuracy for saucepan: 93.55%\n",
      "\n",
      "Mean Top 3 Accuracy (Val): 94.44%\n",
      "Mean Top 1 Accuracy (Val): 85.56%\n",
      "Macro-averaged Accuracy (Val): 83.73%\n",
      "Epoch 30 test loss: 30.984375\n",
      "\n",
      "[Test - End Epoch 31] GPU Memory: Allocated=2.06GB, Reserved=3.39GB\n",
      "\n",
      "Epoch 32/120\n",
      "[Train - Start Epoch 32] GPU Memory: Allocated=2.06GB, Reserved=3.39GB\n"
     ]
    },
    {
     "name": "stderr",
     "output_type": "stream",
     "text": [
      "\r  0%|          | 0/127.84375 [00:00<?, ?it/s]\r  1%|          | 1/127.84375 [00:07<15:59,  7.56s/it]\r  2%|▏         | 2/127.84375 [00:15<16:03,  7.66s/it]\r  2%|▏         | 3/127.84375 [00:22<15:42,  7.55s/it]\r  3%|▎         | 4/127.84375 [00:30<15:40,  7.60s/it]\r  4%|▍         | 5/127.84375 [00:37<15:33,  7.60s/it]\r  5%|▍         | 6/127.84375 [00:45<15:34,  7.67s/it]\r  5%|▌         | 7/127.84375 [00:53<15:27,  7.68s/it]\r  6%|▋         | 8/127.84375 [01:01<15:23,  7.70s/it]\r  7%|▋         | 9/127.84375 [01:08<15:14,  7.70s/it]\r  8%|▊         | 10/127.84375 [01:16<15:03,  7.67s/it]\r  9%|▊         | 11/127.84375 [01:24<14:49,  7.62s/it]\r  9%|▉         | 12/127.84375 [01:31<14:37,  7.58s/it]\r 10%|█         | 13/127.84375 [01:39<14:32,  7.60s/it]\r 11%|█         | 14/127.84375 [01:46<14:24,  7.59s/it]\r 12%|█▏        | 15/127.84375 [01:54<14:19,  7.61s/it]\r 13%|█▎        | 16/127.84375 [02:02<14:11,  7.62s/it]\r 13%|█▎        | 17/127.84375 [02:09<14:08,  7.65s/it]\r 14%|█▍        | 18/127.84375 [02:17<13:58,  7.63s/it]\r 15%|█▍        | 19/127.84375 [02:24<13:47,  7.60s/it]\r 16%|█▌        | 20/127.84375 [02:32<13:46,  7.67s/it]\r 16%|█▋        | 21/127.84375 [02:40<13:38,  7.66s/it]\r 17%|█▋        | 22/127.84375 [02:48<13:34,  7.70s/it]\r 18%|█▊        | 23/127.84375 [02:55<13:28,  7.72s/it]\r 19%|█▉        | 24/127.84375 [03:03<13:13,  7.64s/it]\r 20%|█▉        | 25/127.84375 [03:10<12:56,  7.55s/it]\r 20%|██        | 26/127.84375 [03:18<12:49,  7.56s/it]\r 21%|██        | 27/127.84375 [03:25<12:45,  7.59s/it]\r 22%|██▏       | 28/127.84375 [03:33<12:37,  7.59s/it]\r 23%|██▎       | 29/127.84375 [03:41<12:29,  7.58s/it]\r 23%|██▎       | 30/127.84375 [03:48<12:22,  7.58s/it]\r 24%|██▍       | 31/127.84375 [03:56<12:16,  7.60s/it]\r 25%|██▌       | 32/127.84375 [04:03<12:05,  7.57s/it]\r 26%|██▌       | 33/127.84375 [04:11<11:56,  7.55s/it]\r 27%|██▋       | 34/127.84375 [04:19<11:58,  7.65s/it]\r 27%|██▋       | 35/127.84375 [04:26<11:48,  7.63s/it]\r 28%|██▊       | 36/127.84375 [04:34<11:41,  7.63s/it]\r 29%|██▉       | 37/127.84375 [04:42<11:34,  7.65s/it]\r 30%|██▉       | 38/127.84375 [04:49<11:27,  7.65s/it]\r 31%|███       | 39/127.84375 [04:57<11:16,  7.61s/it]\r 31%|███▏      | 40/127.84375 [05:04<11:10,  7.63s/it]\r 32%|███▏      | 41/127.84375 [05:12<10:56,  7.56s/it]\r 33%|███▎      | 42/127.84375 [05:20<10:51,  7.59s/it]\r 34%|███▎      | 43/127.84375 [05:27<10:44,  7.59s/it]\r 34%|███▍      | 44/127.84375 [05:35<10:40,  7.64s/it]\r 35%|███▌      | 45/127.84375 [05:43<10:32,  7.64s/it]\r 36%|███▌      | 46/127.84375 [05:50<10:28,  7.68s/it]\r 37%|███▋      | 47/127.84375 [05:58<10:22,  7.69s/it]\r 38%|███▊      | 48/127.84375 [06:06<10:14,  7.70s/it]\r 38%|███▊      | 49/127.84375 [06:13<10:03,  7.66s/it]\r 39%|███▉      | 50/127.84375 [06:21<09:55,  7.65s/it]\r 40%|███▉      | 51/127.84375 [06:28<09:44,  7.60s/it]\r 41%|████      | 52/127.84375 [06:36<09:35,  7.59s/it]\r 41%|████▏     | 53/127.84375 [06:43<09:25,  7.55s/it]\r 42%|████▏     | 54/127.84375 [06:51<09:22,  7.62s/it]\r 43%|████▎     | 55/127.84375 [06:59<09:18,  7.67s/it]\r 44%|████▍     | 56/127.84375 [07:06<09:07,  7.61s/it]\r 45%|████▍     | 57/127.84375 [07:14<09:00,  7.63s/it]\r 45%|████▌     | 58/127.84375 [07:22<08:57,  7.69s/it]\r 46%|████▌     | 59/127.84375 [07:30<08:51,  7.71s/it]\r 47%|████▋     | 60/127.84375 [07:37<08:41,  7.68s/it]\r 48%|████▊     | 61/127.84375 [07:45<08:33,  7.68s/it]\r 48%|████▊     | 62/127.84375 [07:53<08:22,  7.63s/it]\r 49%|████▉     | 63/127.84375 [08:00<08:13,  7.60s/it]\r 50%|█████     | 64/127.84375 [08:08<08:07,  7.63s/it]\r 51%|█████     | 65/127.84375 [08:15<08:01,  7.66s/it]\r 52%|█████▏    | 66/127.84375 [08:23<07:52,  7.64s/it]\r 52%|█████▏    | 67/127.84375 [08:31<07:46,  7.67s/it]\r 53%|█████▎    | 68/127.84375 [08:39<07:39,  7.68s/it]\r 54%|█████▍    | 69/127.84375 [08:46<07:30,  7.65s/it]\r 55%|█████▍    | 70/127.84375 [08:54<07:22,  7.65s/it]\r 56%|█████▌    | 71/127.84375 [09:01<07:15,  7.66s/it]\r 56%|█████▋    | 72/127.84375 [09:09<07:08,  7.67s/it]\r 57%|█████▋    | 73/127.84375 [09:17<07:00,  7.66s/it]\r 58%|█████▊    | 74/127.84375 [09:25<06:53,  7.68s/it]\r 59%|█████▊    | 75/127.84375 [09:32<06:49,  7.75s/it]\r 59%|█████▉    | 76/127.84375 [09:40<06:42,  7.77s/it]\r 60%|██████    | 77/127.84375 [09:48<06:36,  7.80s/it]\r 61%|██████    | 78/127.84375 [09:56<06:25,  7.74s/it]\r 62%|██████▏   | 79/127.84375 [10:03<06:17,  7.73s/it]\r 63%|██████▎   | 80/127.84375 [10:11<06:07,  7.68s/it]\r 63%|██████▎   | 81/127.84375 [10:19<05:59,  7.67s/it]\r 64%|██████▍   | 82/127.84375 [10:26<05:50,  7.65s/it]\r 65%|██████▍   | 83/127.84375 [10:34<05:43,  7.65s/it]\r 66%|██████▌   | 84/127.84375 [10:41<05:34,  7.63s/it]\r 66%|██████▋   | 85/127.84375 [10:49<05:26,  7.62s/it]\r 67%|██████▋   | 86/127.84375 [10:57<05:19,  7.64s/it]\r 68%|██████▊   | 87/127.84375 [11:05<05:13,  7.68s/it]\r 69%|██████▉   | 88/127.84375 [11:12<05:05,  7.67s/it]\r 70%|██████▉   | 89/127.84375 [11:20<04:57,  7.67s/it]\r 70%|███████   | 90/127.84375 [11:27<04:48,  7.62s/it]\r 71%|███████   | 91/127.84375 [11:35<04:39,  7.58s/it]\r 72%|███████▏  | 92/127.84375 [11:43<04:33,  7.64s/it]\r 73%|███████▎  | 93/127.84375 [11:50<04:26,  7.66s/it]\r 74%|███████▎  | 94/127.84375 [11:58<04:18,  7.64s/it]\r 74%|███████▍  | 95/127.84375 [12:06<04:10,  7.63s/it]\r 75%|███████▌  | 96/127.84375 [12:13<04:03,  7.64s/it]\r 76%|███████▌  | 97/127.84375 [12:21<03:55,  7.62s/it]\r 77%|███████▋  | 98/127.84375 [12:28<03:47,  7.63s/it]\r 77%|███████▋  | 99/127.84375 [12:36<03:40,  7.66s/it]\r 78%|███████▊  | 100/127.84375 [12:44<03:32,  7.62s/it]\r 79%|███████▉  | 101/127.84375 [12:51<03:24,  7.63s/it]\r 80%|███████▉  | 102/127.84375 [12:59<03:16,  7.62s/it]\r 81%|████████  | 103/127.84375 [13:07<03:09,  7.64s/it]\r 81%|████████▏ | 104/127.84375 [13:14<03:02,  7.65s/it]\r 82%|████████▏ | 105/127.84375 [13:22<02:53,  7.61s/it]\r 83%|████████▎ | 106/127.84375 [13:30<02:47,  7.66s/it]\r 84%|████████▎ | 107/127.84375 [13:37<02:39,  7.64s/it]\r 84%|████████▍ | 108/127.84375 [13:45<02:31,  7.62s/it]\r 85%|████████▌ | 109/127.84375 [13:52<02:22,  7.58s/it]\r 86%|████████▌ | 110/127.84375 [14:00<02:14,  7.56s/it]\r 87%|████████▋ | 111/127.84375 [14:07<02:07,  7.56s/it]\r 88%|████████▊ | 112/127.84375 [14:15<02:00,  7.61s/it]\r 88%|████████▊ | 113/127.84375 [14:23<01:53,  7.67s/it]\r 89%|████████▉ | 114/127.84375 [14:30<01:45,  7.65s/it]\r 90%|████████▉ | 115/127.84375 [14:38<01:38,  7.69s/it]\r 91%|█████████ | 116/127.84375 [14:46<01:30,  7.66s/it]\r 92%|█████████▏| 117/127.84375 [14:54<01:23,  7.68s/it]\r 92%|█████████▏| 118/127.84375 [15:01<01:15,  7.68s/it]\r 93%|█████████▎| 119/127.84375 [15:09<01:08,  7.69s/it]\r 94%|█████████▍| 120/127.84375 [15:16<00:59,  7.63s/it]\r 95%|█████████▍| 121/127.84375 [15:24<00:52,  7.66s/it]\r 95%|█████████▌| 122/127.84375 [15:32<00:44,  7.67s/it]\r 96%|█████████▌| 123/127.84375 [15:39<00:36,  7.62s/it]\r 97%|█████████▋| 124/127.84375 [15:47<00:29,  7.66s/it]\r 98%|█████████▊| 125/127.84375 [15:55<00:21,  7.68s/it]\r 99%|█████████▊| 126/127.84375 [16:03<00:14,  7.70s/it]\r 99%|█████████▉| 127/127.84375 [16:10<00:06,  7.71s/it]/databricks/python/lib/python3.11/site-packages/tqdm/std.py:524: TqdmWarning: clamping frac to range [0, 1]\n",
      "  full_bar = Bar(frac,\n",
      "\r100%|██████████| 128/127.84375 [16:18<-1:59:59,  7.64s/it]\r129it [16:25,  7.62s/it]                                  \r130it [16:33,  7.64s/it]\r131it [16:41,  7.66s/it]\r132it [16:48,  7.67s/it]\r133it [16:56,  7.67s/it]\r134it [17:04,  7.66s/it]\r135it [17:11,  7.59s/it]\r136it [17:19,  7.60s/it]\r137it [17:26,  7.60s/it]\r138it [17:34,  7.56s/it]\r139it [17:42,  7.63s/it]\r140it [17:49,  7.63s/it]\r141it [17:57,  7.60s/it]\r142it [18:04,  7.58s/it]\r143it [18:12,  7.61s/it]\r144it [18:20,  7.62s/it]\r145it [18:27,  7.63s/it]\r146it [18:35,  7.62s/it]\r147it [18:43,  7.64s/it]\r148it [18:50,  7.63s/it]\r149it [18:58,  7.66s/it]\r150it [19:06,  7.66s/it]\r151it [19:13,  7.70s/it]\r152it [19:21,  7.70s/it]\r153it [19:29,  7.70s/it]\r154it [19:36,  7.66s/it]\r155it [19:44,  7.70s/it]\r156it [19:52,  7.75s/it]\r157it [20:00,  7.74s/it]\r158it [20:08,  7.77s/it]\r159it [20:15,  7.72s/it]\r160it [20:23,  7.66s/it]\r161it [20:31,  7.72s/it]\r162it [20:38,  7.74s/it]\r163it [20:46,  7.72s/it]\r164it [20:54,  7.73s/it]\r165it [21:01,  7.72s/it]\r166it [21:09,  7.67s/it]\r167it [21:17,  7.67s/it]\r168it [21:24,  7.63s/it]\r169it [21:32,  7.61s/it]\r170it [21:39,  7.63s/it]\r171it [21:47,  7.63s/it]\r172it [21:55,  7.64s/it]\r173it [22:03,  7.68s/it]\r174it [22:10,  7.66s/it]\r175it [22:18,  7.69s/it]\r176it [22:26,  7.70s/it]\r177it [22:33,  7.64s/it]\r178it [22:41,  7.63s/it]\r179it [22:48,  7.59s/it]\r180it [22:56,  7.64s/it]\r181it [23:04,  7.67s/it]\r182it [23:11,  7.66s/it]\r183it [23:19,  7.69s/it]\r184it [23:27,  7.69s/it]\r185it [23:34,  7.65s/it]\r186it [23:42,  7.63s/it]\r187it [23:50,  7.64s/it]\r188it [23:57,  7.61s/it]\r189it [24:05,  7.62s/it]\r190it [24:12,  7.62s/it]\r191it [24:20,  7.63s/it]\r192it [24:28,  7.65s/it]\r193it [24:35,  7.64s/it]\r194it [24:43,  7.64s/it]\r195it [24:51,  7.67s/it]\r196it [24:58,  7.68s/it]\r197it [25:06,  7.61s/it]\r198it [25:14,  7.65s/it]\r199it [25:21,  7.68s/it]\r200it [25:29,  7.65s/it]\r201it [25:37,  7.63s/it]\r202it [25:44,  7.68s/it]\r203it [25:52,  7.71s/it]\r204it [26:00,  7.70s/it]\r205it [26:07,  7.68s/it]\r206it [26:15,  7.68s/it]\r207it [26:23,  7.68s/it]\r208it [26:31,  7.71s/it]\r209it [26:38,  7.62s/it]\r210it [26:46,  7.64s/it]\r211it [26:53,  7.61s/it]\r212it [27:01,  7.67s/it]\r213it [27:09,  7.70s/it]\r214it [27:16,  7.66s/it]\r215it [27:24,  7.71s/it]\r216it [27:32,  7.73s/it]\r217it [27:39,  7.67s/it]\r218it [27:47,  7.65s/it]\r219it [27:55,  7.64s/it]\r220it [28:02,  7.68s/it]\r221it [28:10,  7.64s/it]\r222it [28:18,  7.67s/it]\r223it [28:25,  7.68s/it]\r224it [28:33,  7.69s/it]\r225it [28:41,  7.64s/it]\r226it [28:48,  7.59s/it]\r227it [28:56,  7.53s/it]\r228it [29:03,  7.57s/it]\r229it [29:11,  7.56s/it]\r230it [29:18,  7.55s/it]\r231it [29:26,  7.63s/it]\r232it [29:34,  7.69s/it]\r233it [29:41,  7.57s/it]\r234it [29:49,  7.61s/it]\r235it [29:57,  7.59s/it]\r236it [30:04,  7.58s/it]\r237it [30:12,  7.62s/it]\r238it [30:19,  7.65s/it]\r239it [30:27,  7.59s/it]\r240it [30:35,  7.60s/it]\r240it [30:35,  7.65s/it]\n"
     ]
    },
    {
     "name": "stdout",
     "output_type": "stream",
     "text": [
      "Epoch 31 train loss: 0.0231170654296875\n",
      "[Train - End / Test - Start Epoch 32] GPU Memory: Allocated=2.30GB, Reserved=3.39GB\n"
     ]
    },
    {
     "name": "stderr",
     "output_type": "stream",
     "text": [
      "\r  0%|          | 0/14.1875 [00:00<?, ?it/s]\r  7%|▋         | 1/14.1875 [00:06<01:28,  6.74s/it]\r 14%|█▍        | 2/14.1875 [00:13<01:23,  6.84s/it]\r 21%|██        | 3/14.1875 [00:20<01:16,  6.84s/it]\r 28%|██▊       | 4/14.1875 [00:27<01:09,  6.78s/it]\r 35%|███▌      | 5/14.1875 [00:33<01:01,  6.74s/it]\r 42%|████▏     | 6/14.1875 [00:40<00:54,  6.69s/it]\r 49%|████▉     | 7/14.1875 [00:47<00:47,  6.65s/it]\r 56%|█████▋    | 8/14.1875 [00:53<00:41,  6.64s/it]\r 63%|██████▎   | 9/14.1875 [01:00<00:34,  6.62s/it]\r 70%|███████   | 10/14.1875 [01:06<00:27,  6.62s/it]\r 78%|███████▊  | 11/14.1875 [01:13<00:21,  6.68s/it]\r 85%|████████▍ | 12/14.1875 [01:20<00:14,  6.64s/it]\r 92%|█████████▏| 13/14.1875 [01:26<00:07,  6.66s/it]\r 99%|█████████▊| 14/14.1875 [01:33<00:01,  6.66s/it]\r15it [01:40,  6.71s/it]                             \r16it [01:46,  6.67s/it]\r17it [01:53,  6.64s/it]\r18it [02:00,  6.66s/it]\r19it [02:06,  6.65s/it]\r20it [02:13,  6.63s/it]\r21it [02:20,  6.66s/it]\r22it [02:26,  6.65s/it]\r23it [02:33,  6.64s/it]\r24it [02:40,  6.65s/it]\r25it [02:46,  6.68s/it]\r26it [02:53,  6.65s/it]\r27it [03:00,  6.69s/it]\r28it [03:06,  6.67s/it]\r29it [03:13,  6.64s/it]\r30it [03:19,  6.61s/it]\r30it [03:19,  6.66s/it]\n"
     ]
    },
    {
     "name": "stdout",
     "output_type": "stream",
     "text": [
      "Cumulative Accuracy for CP: 69.48%\n",
      "Cumulative Accuracy for chopping-board: 91.56%\n",
      "Cumulative Accuracy for finalstep: 90.62%\n",
      "Cumulative Accuracy for glass-bowl-large: 73.65%\n",
      "Cumulative Accuracy for glass-bowl-medium: 71.35%\n",
      "Cumulative Accuracy for glass-bowl-small: 37.92%\n",
      "Cumulative Accuracy for grill-plate: nan%\n",
      "Cumulative Accuracy for group_step: 77.08%\n",
      "Cumulative Accuracy for medium: 92.40%\n",
      "Cumulative Accuracy for oven-dish: 96.35%\n",
      "Cumulative Accuracy for oven-tray: 96.15%\n",
      "Cumulative Accuracy for pan: 100.00%\n",
      "Cumulative Accuracy for pot-one-handle: 97.29%\n",
      "Cumulative Accuracy for pot-two-handles-medium: 76.98%\n",
      "Cumulative Accuracy for pot-two-handles-shallow: 91.67%\n",
      "Cumulative Accuracy for pot-two-handles-small: nan%\n",
      "Cumulative Accuracy for saucepan: 93.75%\n",
      "\n",
      "Mean Top 3 Accuracy (Val): 94.89%\n",
      "Mean Top 1 Accuracy (Val): 84.22%\n",
      "Macro-averaged Accuracy (Val): 83.75%\n",
      "Epoch 31 test loss: 29.796875\n",
      "\n",
      "[Test - End Epoch 32] GPU Memory: Allocated=2.30GB, Reserved=3.39GB\n",
      "\n",
      "Epoch 33/120\n",
      "[Train - Start Epoch 33] GPU Memory: Allocated=2.30GB, Reserved=3.39GB\n"
     ]
    },
    {
     "name": "stderr",
     "output_type": "stream",
     "text": [
      "\r  0%|          | 0/127.84375 [00:00<?, ?it/s]\r  1%|          | 1/127.84375 [00:07<16:14,  7.68s/it]\r  2%|▏         | 2/127.84375 [00:15<15:57,  7.61s/it]\r  2%|▏         | 3/127.84375 [00:22<15:43,  7.56s/it]\r  3%|▎         | 4/127.84375 [00:30<15:38,  7.58s/it]\r  4%|▍         | 5/127.84375 [00:38<15:36,  7.62s/it]\r  5%|▍         | 6/127.84375 [00:45<15:29,  7.63s/it]\r  5%|▌         | 7/127.84375 [00:53<15:27,  7.68s/it]\r  6%|▋         | 8/127.84375 [01:01<15:20,  7.68s/it]\r  7%|▋         | 9/127.84375 [01:08<15:09,  7.66s/it]\r  8%|▊         | 10/127.84375 [01:16<15:00,  7.64s/it]\r  9%|▊         | 11/127.84375 [01:23<14:52,  7.64s/it]\r  9%|▉         | 12/127.84375 [01:31<14:46,  7.66s/it]\r 10%|█         | 13/127.84375 [01:39<14:35,  7.62s/it]\r 11%|█         | 14/127.84375 [01:46<14:30,  7.65s/it]\r 12%|█▏        | 15/127.84375 [01:54<14:20,  7.63s/it]\r 13%|█▎        | 16/127.84375 [02:02<14:11,  7.61s/it]\r 13%|█▎        | 17/127.84375 [02:09<13:58,  7.56s/it]\r 14%|█▍        | 18/127.84375 [02:17<13:55,  7.61s/it]\r 15%|█▍        | 19/127.84375 [02:25<13:54,  7.67s/it]\r 16%|█▌        | 20/127.84375 [02:32<13:51,  7.71s/it]\r 16%|█▋        | 21/127.84375 [02:40<13:47,  7.75s/it]\r 17%|█▋        | 22/127.84375 [02:48<13:33,  7.68s/it]\r 18%|█▊        | 23/127.84375 [02:55<13:23,  7.66s/it]\r 19%|█▉        | 24/127.84375 [03:03<13:15,  7.66s/it]\r 20%|█▉        | 25/127.84375 [03:11<13:09,  7.68s/it]\r 20%|██        | 26/127.84375 [03:18<13:02,  7.68s/it]\r 21%|██        | 27/127.84375 [03:26<12:50,  7.64s/it]\r 22%|██▏       | 28/127.84375 [03:34<12:42,  7.64s/it]\r 23%|██▎       | 29/127.84375 [03:41<12:37,  7.66s/it]\r 23%|██▎       | 30/127.84375 [03:49<12:32,  7.69s/it]\r 24%|██▍       | 31/127.84375 [03:57<12:27,  7.72s/it]\r 25%|██▌       | 32/127.84375 [04:04<12:15,  7.67s/it]\r 26%|██▌       | 33/127.84375 [04:12<12:06,  7.66s/it]\r 27%|██▋       | 34/127.84375 [04:20<11:55,  7.62s/it]\r 27%|██▋       | 35/127.84375 [04:27<11:47,  7.62s/it]\r 28%|██▊       | 36/127.84375 [04:35<11:43,  7.66s/it]\r 29%|██▉       | 37/127.84375 [04:43<11:36,  7.67s/it]\r 30%|██▉       | 38/127.84375 [04:50<11:24,  7.62s/it]\r 31%|███       | 39/127.84375 [04:58<11:19,  7.65s/it]\r 31%|███▏      | 40/127.84375 [05:06<11:12,  7.65s/it]\r 32%|███▏      | 41/127.84375 [05:13<11:05,  7.67s/it]\r 33%|███▎      | 42/127.84375 [05:21<11:01,  7.70s/it]\r 34%|███▎      | 43/127.84375 [05:29<10:53,  7.71s/it]\r 34%|███▍      | 44/127.84375 [05:36<10:41,  7.66s/it]\r 35%|███▌      | 45/127.84375 [05:44<10:32,  7.64s/it]\r 36%|███▌      | 46/127.84375 [05:52<10:28,  7.68s/it]\r 37%|███▋      | 47/127.84375 [05:59<10:18,  7.65s/it]\r 38%|███▊      | 48/127.84375 [06:07<10:09,  7.64s/it]\r 38%|███▊      | 49/127.84375 [06:15<10:02,  7.65s/it]\r 39%|███▉      | 50/127.84375 [06:22<09:55,  7.66s/it]\r 40%|███▉      | 51/127.84375 [06:30<09:46,  7.64s/it]\r 41%|████      | 52/127.84375 [06:37<09:39,  7.65s/it]\r 41%|████▏     | 53/127.84375 [06:45<09:30,  7.63s/it]\r 42%|████▏     | 54/127.84375 [06:53<09:21,  7.60s/it]\r 43%|████▎     | 55/127.84375 [07:00<09:10,  7.56s/it]\r 44%|████▍     | 56/127.84375 [07:08<09:05,  7.60s/it]\r 45%|████▍     | 57/127.84375 [07:15<09:00,  7.63s/it]\r 45%|████▌     | 58/127.84375 [07:23<08:55,  7.67s/it]\r 46%|████▌     | 59/127.84375 [07:31<08:45,  7.63s/it]\r 47%|████▋     | 60/127.84375 [07:38<08:37,  7.62s/it]\r 48%|████▊     | 61/127.84375 [07:46<08:30,  7.63s/it]\r 48%|████▊     | 62/127.84375 [07:54<08:22,  7.63s/it]\r 49%|████▉     | 63/127.84375 [08:01<08:14,  7.62s/it]\r 50%|█████     | 64/127.84375 [08:09<08:06,  7.62s/it]\r 51%|█████     | 65/127.84375 [08:16<07:56,  7.59s/it]\r 52%|█████▏    | 66/127.84375 [08:24<07:47,  7.56s/it]\r 52%|█████▏    | 67/127.84375 [08:31<07:38,  7.54s/it]\r 53%|█████▎    | 68/127.84375 [08:39<07:29,  7.51s/it]\r 54%|█████▍    | 69/127.84375 [08:46<07:23,  7.53s/it]\r 55%|█████▍    | 70/127.84375 [08:54<07:16,  7.55s/it]\r 56%|█████▌    | 71/127.84375 [09:01<07:09,  7.55s/it]\r 56%|█████▋    | 72/127.84375 [09:09<07:03,  7.58s/it]\r 57%|█████▋    | 73/127.84375 [09:17<06:57,  7.61s/it]\r 58%|█████▊    | 74/127.84375 [09:24<06:45,  7.52s/it]\r 59%|█████▊    | 75/127.84375 [09:32<06:36,  7.51s/it]\r 59%|█████▉    | 76/127.84375 [09:39<06:32,  7.57s/it]\r 60%|██████    | 77/127.84375 [09:47<06:22,  7.52s/it]\r 61%|██████    | 78/127.84375 [09:54<06:16,  7.55s/it]\r 62%|██████▏   | 79/127.84375 [10:02<06:07,  7.53s/it]\r 63%|██████▎   | 80/127.84375 [10:10<06:03,  7.60s/it]\r 63%|██████▎   | 81/127.84375 [10:17<05:53,  7.56s/it]\r 64%|██████▍   | 82/127.84375 [10:25<05:48,  7.61s/it]\r 65%|██████▍   | 83/127.84375 [10:33<05:42,  7.64s/it]\r 66%|██████▌   | 84/127.84375 [10:40<05:31,  7.56s/it]\r 66%|██████▋   | 85/127.84375 [10:47<05:23,  7.55s/it]\r 67%|██████▋   | 86/127.84375 [10:55<05:16,  7.57s/it]\r 68%|██████▊   | 87/127.84375 [11:03<05:08,  7.56s/it]\r 69%|██████▉   | 88/127.84375 [11:10<05:02,  7.59s/it]\r 70%|██████▉   | 89/127.84375 [11:18<04:55,  7.61s/it]\r 70%|███████   | 90/127.84375 [11:25<04:45,  7.56s/it]\r 71%|███████   | 91/127.84375 [11:33<04:38,  7.57s/it]\r 72%|███████▏  | 92/127.84375 [11:41<04:32,  7.60s/it]\r 73%|███████▎  | 93/127.84375 [11:48<04:22,  7.54s/it]\r 74%|███████▎  | 94/127.84375 [11:56<04:17,  7.61s/it]\r 74%|███████▍  | 95/127.84375 [12:03<04:07,  7.55s/it]\r 75%|███████▌  | 96/127.84375 [12:11<04:03,  7.63s/it]\r 76%|███████▌  | 97/127.84375 [12:19<03:54,  7.61s/it]\r 77%|███████▋  | 98/127.84375 [12:26<03:48,  7.66s/it]\r 77%|███████▋  | 99/127.84375 [12:34<03:41,  7.68s/it]\r 78%|███████▊  | 100/127.84375 [12:42<03:34,  7.71s/it]\r 79%|███████▉  | 101/127.84375 [12:49<03:24,  7.61s/it]\r 80%|███████▉  | 102/127.84375 [12:57<03:17,  7.62s/it]\r 81%|████████  | 103/127.84375 [13:04<03:09,  7.62s/it]\r 81%|████████▏ | 104/127.84375 [13:12<03:01,  7.63s/it]\r 82%|████████▏ | 105/127.84375 [13:20<02:53,  7.58s/it]\r 83%|████████▎ | 106/127.84375 [13:27<02:45,  7.59s/it]\r 84%|████████▎ | 107/127.84375 [13:35<02:37,  7.58s/it]\r 84%|████████▍ | 108/127.84375 [13:42<02:30,  7.59s/it]\r 85%|████████▌ | 109/127.84375 [13:50<02:23,  7.63s/it]\r 86%|████████▌ | 110/127.84375 [13:58<02:15,  7.62s/it]\r 87%|████████▋ | 111/127.84375 [14:05<02:08,  7.64s/it]\r 88%|████████▊ | 112/127.84375 [14:13<02:01,  7.65s/it]\r 88%|████████▊ | 113/127.84375 [14:21<01:53,  7.65s/it]\r 89%|████████▉ | 114/127.84375 [14:28<01:46,  7.66s/it]\r 90%|████████▉ | 115/127.84375 [14:36<01:38,  7.65s/it]\r 91%|█████████ | 116/127.84375 [14:44<01:30,  7.60s/it]\r 92%|█████████▏| 117/127.84375 [14:51<01:21,  7.56s/it]\r 92%|█████████▏| 118/127.84375 [14:59<01:14,  7.57s/it]\r 93%|█████████▎| 119/127.84375 [15:06<01:07,  7.60s/it]\r 94%|█████████▍| 120/127.84375 [15:14<00:59,  7.57s/it]\r 95%|█████████▍| 121/127.84375 [15:21<00:51,  7.59s/it]\r 95%|█████████▌| 122/127.84375 [15:29<00:44,  7.58s/it]\r 96%|█████████▌| 123/127.84375 [15:36<00:36,  7.56s/it]\r 97%|█████████▋| 124/127.84375 [15:44<00:29,  7.56s/it]\r 98%|█████████▊| 125/127.84375 [15:52<00:21,  7.57s/it]\r 99%|█████████▊| 126/127.84375 [15:59<00:13,  7.56s/it]\r 99%|█████████▉| 127/127.84375 [16:07<00:06,  7.58s/it]/databricks/python/lib/python3.11/site-packages/tqdm/std.py:524: TqdmWarning: clamping frac to range [0, 1]\n",
      "  full_bar = Bar(frac,\n",
      "\r100%|██████████| 128/127.84375 [16:14<-1:59:59,  7.55s/it]\r129it [16:22,  7.58s/it]                                  \r130it [16:29,  7.58s/it]\r131it [16:37,  7.57s/it]\r132it [16:45,  7.57s/it]\r133it [16:52,  7.58s/it]\r134it [17:00,  7.60s/it]\r135it [17:08,  7.65s/it]\r136it [17:15,  7.71s/it]\r137it [17:23,  7.75s/it]\r138it [17:31,  7.72s/it]\r139it [17:39,  7.71s/it]\r140it [17:46,  7.67s/it]\r141it [17:54,  7.67s/it]\r142it [18:02,  7.67s/it]\r143it [18:09,  7.65s/it]\r144it [18:17,  7.60s/it]\r145it [18:24,  7.59s/it]\r146it [18:32,  7.58s/it]\r147it [18:39,  7.60s/it]\r148it [18:47,  7.55s/it]\r149it [18:54,  7.56s/it]\r150it [19:02,  7.63s/it]\r151it [19:10,  7.59s/it]\r152it [19:17,  7.58s/it]\r153it [19:25,  7.56s/it]\r154it [19:33,  7.63s/it]\r155it [19:40,  7.66s/it]\r156it [19:48,  7.67s/it]\r157it [19:56,  7.70s/it]\r158it [20:03,  7.68s/it]\r159it [20:11,  7.66s/it]\r160it [20:18,  7.60s/it]\r161it [20:26,  7.67s/it]\r162it [20:34,  7.66s/it]\r163it [20:41,  7.62s/it]\r164it [20:49,  7.66s/it]\r165it [20:57,  7.65s/it]\r166it [21:04,  7.61s/it]\r167it [21:12,  7.61s/it]\r168it [21:20,  7.66s/it]\r169it [21:27,  7.67s/it]\r170it [21:35,  7.65s/it]\r171it [21:43,  7.62s/it]\r172it [21:50,  7.65s/it]\r173it [21:58,  7.72s/it]\r174it [22:06,  7.78s/it]\r175it [22:14,  7.73s/it]\r176it [22:21,  7.69s/it]\r177it [22:29,  7.63s/it]\r178it [22:36,  7.58s/it]\r179it [22:44,  7.59s/it]\r180it [22:51,  7.57s/it]\r181it [22:59,  7.56s/it]\r182it [23:07,  7.58s/it]\r183it [23:14,  7.55s/it]\r184it [23:21,  7.53s/it]\r185it [23:29,  7.56s/it]\r186it [23:37,  7.58s/it]\r187it [23:44,  7.58s/it]\r188it [23:52,  7.61s/it]\r189it [24:00,  7.62s/it]\r190it [24:07,  7.64s/it]\r191it [24:15,  7.62s/it]\r192it [24:23,  7.63s/it]\r193it [24:30,  7.65s/it]\r194it [24:38,  7.66s/it]\r195it [24:46,  7.65s/it]\r196it [24:53,  7.68s/it]\r197it [25:01,  7.71s/it]\r198it [25:09,  7.66s/it]\r199it [25:16,  7.65s/it]\r200it [25:24,  7.60s/it]\r201it [25:31,  7.57s/it]\r202it [25:39,  7.55s/it]\r203it [25:46,  7.54s/it]\r204it [25:54,  7.58s/it]\r205it [26:02,  7.62s/it]\r206it [26:09,  7.61s/it]\r207it [26:17,  7.62s/it]\r208it [26:25,  7.65s/it]\r209it [26:32,  7.64s/it]\r210it [26:40,  7.61s/it]\r211it [26:47,  7.62s/it]\r212it [26:55,  7.58s/it]\r213it [27:03,  7.67s/it]\r214it [27:10,  7.62s/it]\r215it [27:18,  7.57s/it]\r216it [27:25,  7.55s/it]\r217it [27:33,  7.54s/it]\r218it [27:40,  7.50s/it]\r219it [27:48,  7.59s/it]\r220it [27:55,  7.55s/it]\r221it [28:03,  7.57s/it]\r222it [28:11,  7.54s/it]\r223it [28:18,  7.53s/it]\r224it [28:26,  7.60s/it]\r225it [28:33,  7.57s/it]\r226it [28:41,  7.51s/it]\r227it [28:48,  7.58s/it]\r228it [28:56,  7.57s/it]\r229it [29:03,  7.54s/it]\r230it [29:11,  7.58s/it]\r231it [29:19,  7.60s/it]\r232it [29:26,  7.58s/it]\r233it [29:34,  7.57s/it]\r234it [29:41,  7.57s/it]\r235it [29:49,  7.53s/it]\r236it [29:56,  7.57s/it]\r237it [30:04,  7.58s/it]\r238it [30:12,  7.58s/it]\r239it [30:19,  7.60s/it]\r240it [30:27,  7.59s/it]\r240it [30:27,  7.61s/it]\n"
     ]
    },
    {
     "name": "stdout",
     "output_type": "stream",
     "text": [
      "Epoch 32 train loss: 0.03485107421875\n",
      "[Train - End / Test - Start Epoch 33] GPU Memory: Allocated=2.30GB, Reserved=3.39GB\n"
     ]
    },
    {
     "name": "stderr",
     "output_type": "stream",
     "text": [
      "\r  0%|          | 0/14.1875 [00:00<?, ?it/s]\r  7%|▋         | 1/14.1875 [00:06<01:27,  6.67s/it]\r 14%|█▍        | 2/14.1875 [00:13<01:21,  6.67s/it]\r 21%|██        | 3/14.1875 [00:19<01:14,  6.62s/it]\r 28%|██▊       | 4/14.1875 [00:26<01:07,  6.64s/it]\r 35%|███▌      | 5/14.1875 [00:33<01:00,  6.60s/it]\r 42%|████▏     | 6/14.1875 [00:39<00:54,  6.65s/it]\r 49%|████▉     | 7/14.1875 [00:46<00:47,  6.67s/it]\r 56%|█████▋    | 8/14.1875 [00:53<00:41,  6.67s/it]\r 63%|██████▎   | 9/14.1875 [01:00<00:34,  6.70s/it]\r 70%|███████   | 10/14.1875 [01:06<00:27,  6.63s/it]\r 78%|███████▊  | 11/14.1875 [01:13<00:21,  6.71s/it]\r 85%|████████▍ | 12/14.1875 [01:20<00:14,  6.71s/it]\r 92%|█████████▏| 13/14.1875 [01:26<00:07,  6.70s/it]\r 99%|█████████▊| 14/14.1875 [01:33<00:01,  6.69s/it]\r15it [01:39,  6.66s/it]                             \r16it [01:46,  6.66s/it]\r17it [01:53,  6.71s/it]\r18it [02:00,  6.71s/it]\r19it [02:06,  6.71s/it]\r20it [02:13,  6.67s/it]\r21it [02:19,  6.60s/it]\r22it [02:26,  6.59s/it]\r23it [02:33,  6.60s/it]\r24it [02:39,  6.68s/it]\r25it [02:46,  6.66s/it]\r26it [02:53,  6.67s/it]\r27it [03:00,  6.70s/it]\r28it [03:06,  6.68s/it]\r29it [03:13,  6.69s/it]\r30it [03:20,  6.73s/it]\r30it [03:20,  6.67s/it]\n"
     ]
    },
    {
     "name": "stdout",
     "output_type": "stream",
     "text": [
      "Cumulative Accuracy for CP: 69.70%\n",
      "Cumulative Accuracy for chopping-board: 91.62%\n",
      "Cumulative Accuracy for finalstep: 90.30%\n",
      "Cumulative Accuracy for glass-bowl-large: 74.14%\n",
      "Cumulative Accuracy for glass-bowl-medium: 71.01%\n",
      "Cumulative Accuracy for glass-bowl-small: 38.79%\n",
      "Cumulative Accuracy for grill-plate: nan%\n",
      "Cumulative Accuracy for group_step: 76.87%\n",
      "Cumulative Accuracy for medium: 92.02%\n",
      "Cumulative Accuracy for oven-dish: 96.46%\n",
      "Cumulative Accuracy for oven-tray: 96.06%\n",
      "Cumulative Accuracy for pan: 100.00%\n",
      "Cumulative Accuracy for pot-one-handle: 97.37%\n",
      "Cumulative Accuracy for pot-two-handles-medium: 77.17%\n",
      "Cumulative Accuracy for pot-two-handles-shallow: 91.41%\n",
      "Cumulative Accuracy for pot-two-handles-small: nan%\n",
      "Cumulative Accuracy for saucepan: 93.94%\n",
      "\n",
      "Mean Top 3 Accuracy (Val): 94.67%\n",
      "Mean Top 1 Accuracy (Val): 85.11%\n",
      "Macro-averaged Accuracy (Val): 83.79%\n",
      "Epoch 32 test loss: 26.390625\n",
      "\n",
      "[Test - End Epoch 33] GPU Memory: Allocated=2.30GB, Reserved=3.39GB\n",
      "\n",
      "Epoch 34/120\n",
      "[Train - Start Epoch 34] GPU Memory: Allocated=2.30GB, Reserved=3.39GB\n"
     ]
    },
    {
     "name": "stderr",
     "output_type": "stream",
     "text": [
      "\r  0%|          | 0/127.84375 [00:00<?, ?it/s]\r  1%|          | 1/127.84375 [00:07<16:10,  7.65s/it]\r  2%|▏         | 2/127.84375 [00:15<16:13,  7.73s/it]\r  2%|▏         | 3/127.84375 [00:22<15:50,  7.61s/it]\r  3%|▎         | 4/127.84375 [00:30<15:47,  7.65s/it]\r  4%|▍         | 5/127.84375 [00:38<15:37,  7.63s/it]\r  5%|▍         | 6/127.84375 [00:45<15:24,  7.59s/it]\r  5%|▌         | 7/127.84375 [00:53<15:16,  7.59s/it]\r  6%|▋         | 8/127.84375 [01:01<15:15,  7.64s/it]\r  7%|▋         | 9/127.84375 [01:08<15:01,  7.59s/it]\r  8%|▊         | 10/127.84375 [01:16<14:57,  7.61s/it]\r  9%|▊         | 11/127.84375 [01:24<14:56,  7.67s/it]\r  9%|▉         | 12/127.84375 [01:31<14:50,  7.69s/it]\r 10%|█         | 13/127.84375 [01:39<14:42,  7.68s/it]\r 11%|█         | 14/127.84375 [01:47<14:35,  7.69s/it]\r 12%|█▏        | 15/127.84375 [01:54<14:27,  7.69s/it]\r 13%|█▎        | 16/127.84375 [02:02<14:24,  7.73s/it]\r 13%|█▎        | 17/127.84375 [02:10<14:11,  7.69s/it]\r 14%|█▍        | 18/127.84375 [02:17<13:59,  7.65s/it]\r 15%|█▍        | 19/127.84375 [02:25<13:45,  7.59s/it]\r 16%|█▌        | 20/127.84375 [02:33<13:46,  7.67s/it]\r 16%|█▋        | 21/127.84375 [02:40<13:38,  7.66s/it]\r 17%|█▋        | 22/127.84375 [02:48<13:33,  7.68s/it]\r 18%|█▊        | 23/127.84375 [02:56<13:23,  7.66s/it]\r 19%|█▉        | 24/127.84375 [03:03<13:13,  7.64s/it]\r 20%|█▉        | 25/127.84375 [03:11<13:04,  7.63s/it]\r 20%|██        | 26/127.84375 [03:18<13:00,  7.66s/it]\r 21%|██        | 27/127.84375 [03:26<12:51,  7.65s/it]\r 22%|██▏       | 28/127.84375 [03:34<12:42,  7.64s/it]\r 23%|██▎       | 29/127.84375 [03:41<12:34,  7.64s/it]\r 23%|██▎       | 30/127.84375 [03:49<12:26,  7.63s/it]\r 24%|██▍       | 31/127.84375 [03:57<12:19,  7.64s/it]\r 25%|██▌       | 32/127.84375 [04:04<12:12,  7.65s/it]\r 26%|██▌       | 33/127.84375 [04:12<12:08,  7.68s/it]\r 27%|██▋       | 34/127.84375 [04:20<11:58,  7.65s/it]\r 27%|██▋       | 35/127.84375 [04:27<11:46,  7.61s/it]\r 28%|██▊       | 36/127.84375 [04:35<11:39,  7.62s/it]\r 29%|██▉       | 37/127.84375 [04:42<11:33,  7.63s/it]\r 30%|██▉       | 38/127.84375 [04:50<11:26,  7.65s/it]\r 31%|███       | 39/127.84375 [04:58<11:22,  7.68s/it]\r 31%|███▏      | 40/127.84375 [05:06<11:14,  7.68s/it]\r 32%|███▏      | 41/127.84375 [05:13<11:00,  7.61s/it]\r 33%|███▎      | 42/127.84375 [05:21<10:55,  7.64s/it]\r 34%|███▎      | 43/127.84375 [05:28<10:48,  7.64s/it]\r 34%|███▍      | 44/127.84375 [05:36<10:35,  7.58s/it]\r 35%|███▌      | 45/127.84375 [05:44<10:31,  7.62s/it]\r 36%|███▌      | 46/127.84375 [05:51<10:20,  7.59s/it]\r 37%|███▋      | 47/127.84375 [05:58<10:10,  7.55s/it]\r 38%|███▊      | 48/127.84375 [06:06<10:06,  7.60s/it]\r 38%|███▊      | 49/127.84375 [06:14<10:03,  7.65s/it]\r 39%|███▉      | 50/127.84375 [06:22<09:53,  7.62s/it]\r 40%|███▉      | 51/127.84375 [06:29<09:46,  7.63s/it]\r 41%|████      | 52/127.84375 [06:37<09:40,  7.65s/it]\r 41%|████▏     | 53/127.84375 [06:44<09:31,  7.64s/it]\r 42%|████▏     | 54/127.84375 [06:52<09:23,  7.63s/it]\r 43%|████▎     | 55/127.84375 [07:00<09:13,  7.59s/it]\r 44%|████▍     | 56/127.84375 [07:07<09:10,  7.66s/it]\r 45%|████▍     | 57/127.84375 [07:15<09:05,  7.69s/it]\r 45%|████▌     | 58/127.84375 [07:23<08:55,  7.67s/it]\r 46%|████▌     | 59/127.84375 [07:31<08:49,  7.70s/it]\r 47%|████▋     | 60/127.84375 [07:38<08:41,  7.68s/it]\r 48%|████▊     | 61/127.84375 [07:46<08:28,  7.60s/it]\r 48%|████▊     | 62/127.84375 [07:53<08:21,  7.62s/it]\r 49%|████▉     | 63/127.84375 [08:01<08:16,  7.65s/it]\r 50%|█████     | 64/127.84375 [08:09<08:07,  7.64s/it]\r 51%|█████     | 65/127.84375 [08:16<07:59,  7.63s/it]\r 52%|█████▏    | 66/127.84375 [08:24<07:55,  7.69s/it]\r 52%|█████▏    | 67/127.84375 [08:32<07:45,  7.66s/it]\r 53%|█████▎    | 68/127.84375 [08:39<07:39,  7.67s/it]\r 54%|█████▍    | 69/127.84375 [08:47<07:32,  7.69s/it]\r 55%|█████▍    | 70/127.84375 [08:55<07:21,  7.63s/it]\r 56%|█████▌    | 71/127.84375 [09:02<07:14,  7.65s/it]\r 56%|█████▋    | 72/127.84375 [09:10<07:06,  7.64s/it]\r 57%|█████▋    | 73/127.84375 [09:18<06:58,  7.63s/it]\r 58%|█████▊    | 74/127.84375 [09:25<06:53,  7.69s/it]\r 59%|█████▊    | 75/127.84375 [09:33<06:46,  7.70s/it]\r 59%|█████▉    | 76/127.84375 [09:41<06:37,  7.66s/it]\r 60%|██████    | 77/127.84375 [09:48<06:26,  7.60s/it]\r 61%|██████    | 78/127.84375 [09:56<06:20,  7.63s/it]\r 62%|██████▏   | 79/127.84375 [10:03<06:12,  7.63s/it]\r 63%|██████▎   | 80/127.84375 [10:11<06:05,  7.65s/it]\r 63%|██████▎   | 81/127.84375 [10:19<05:56,  7.62s/it]\r 64%|██████▍   | 82/127.84375 [10:26<05:48,  7.61s/it]\r 65%|██████▍   | 83/127.84375 [10:34<05:41,  7.61s/it]\r 66%|██████▌   | 84/127.84375 [10:41<05:33,  7.60s/it]\r 66%|██████▋   | 85/127.84375 [10:49<05:25,  7.59s/it]\r 67%|██████▋   | 86/127.84375 [10:57<05:17,  7.58s/it]\r 68%|██████▊   | 87/127.84375 [11:04<05:09,  7.57s/it]\r 69%|██████▉   | 88/127.84375 [11:12<05:01,  7.57s/it]\r 70%|██████▉   | 89/127.84375 [11:19<04:54,  7.58s/it]\r 70%|███████   | 90/127.84375 [11:27<04:48,  7.63s/it]\r 71%|███████   | 91/127.84375 [11:35<04:41,  7.63s/it]\r 72%|███████▏  | 92/127.84375 [11:42<04:32,  7.61s/it]\r 73%|███████▎  | 93/127.84375 [11:50<04:27,  7.68s/it]\r 74%|███████▎  | 94/127.84375 [11:58<04:20,  7.68s/it]\r 74%|███████▍  | 95/127.84375 [12:05<04:11,  7.65s/it]\r 75%|███████▌  | 96/127.84375 [12:13<04:03,  7.64s/it]\r 76%|███████▌  | 97/127.84375 [12:21<03:56,  7.65s/it]\r 77%|███████▋  | 98/127.84375 [12:28<03:47,  7.64s/it]\r 77%|███████▋  | 99/127.84375 [12:36<03:40,  7.64s/it]\r 78%|███████▊  | 100/127.84375 [12:44<03:34,  7.69s/it]\r 79%|███████▉  | 101/127.84375 [12:51<03:26,  7.71s/it]\r 80%|███████▉  | 102/127.84375 [12:59<03:18,  7.70s/it]\r 81%|████████  | 103/127.84375 [13:07<03:11,  7.71s/it]\r 81%|████████▏ | 104/127.84375 [13:15<03:03,  7.71s/it]\r 82%|████████▏ | 105/127.84375 [13:22<02:55,  7.69s/it]\r 83%|████████▎ | 106/127.84375 [13:30<02:46,  7.63s/it]\r 84%|████████▎ | 107/127.84375 [13:37<02:39,  7.63s/it]\r 84%|████████▍ | 108/127.84375 [13:45<02:31,  7.63s/it]\r 85%|████████▌ | 109/127.84375 [13:53<02:23,  7.63s/it]\r 86%|████████▌ | 110/127.84375 [14:00<02:16,  7.68s/it]\r 87%|████████▋ | 111/127.84375 [14:08<02:09,  7.67s/it]\r 88%|████████▊ | 112/127.84375 [14:16<02:01,  7.67s/it]\r 88%|████████▊ | 113/127.84375 [14:24<01:54,  7.73s/it]\r 89%|████████▉ | 114/127.84375 [14:31<01:45,  7.66s/it]\r 90%|████████▉ | 115/127.84375 [14:38<01:37,  7.57s/it]\r 91%|█████████ | 116/127.84375 [14:46<01:30,  7.62s/it]\r 92%|█████████▏| 117/127.84375 [14:54<01:22,  7.63s/it]\r 92%|█████████▏| 118/127.84375 [15:01<01:15,  7.64s/it]\r 93%|█████████▎| 119/127.84375 [15:09<01:07,  7.64s/it]\r 94%|█████████▍| 120/127.84375 [15:17<00:59,  7.60s/it]\r 95%|█████████▍| 121/127.84375 [15:24<00:51,  7.59s/it]\r 95%|█████████▌| 122/127.84375 [15:32<00:44,  7.61s/it]\r 96%|█████████▌| 123/127.84375 [15:40<00:37,  7.66s/it]\r 97%|█████████▋| 124/127.84375 [15:47<00:29,  7.63s/it]\r 98%|█████████▊| 125/127.84375 [15:55<00:21,  7.62s/it]\r 99%|█████████▊| 126/127.84375 [16:02<00:14,  7.62s/it]\r 99%|█████████▉| 127/127.84375 [16:10<00:06,  7.62s/it]/databricks/python/lib/python3.11/site-packages/tqdm/std.py:524: TqdmWarning: clamping frac to range [0, 1]\n",
      "  full_bar = Bar(frac,\n",
      "\r100%|██████████| 128/127.84375 [16:18<-1:59:59,  7.59s/it]\r129it [16:25,  7.59s/it]                                  \r130it [16:33,  7.62s/it]\r131it [16:41,  7.68s/it]\r132it [16:48,  7.66s/it]\r133it [16:56,  7.67s/it]\r134it [17:04,  7.65s/it]\r135it [17:11,  7.65s/it]\r136it [17:19,  7.69s/it]\r137it [17:27,  7.67s/it]\r138it [17:34,  7.69s/it]\r139it [17:42,  7.61s/it]\r140it [17:49,  7.57s/it]\r141it [17:57,  7.60s/it]\r142it [18:05,  7.62s/it]\r143it [18:12,  7.63s/it]\r144it [18:20,  7.62s/it]\r145it [18:27,  7.63s/it]\r146it [18:35,  7.64s/it]\r147it [18:43,  7.59s/it]\r148it [18:50,  7.60s/it]\r149it [18:58,  7.62s/it]\r150it [19:05,  7.60s/it]\r151it [19:13,  7.55s/it]\r152it [19:20,  7.57s/it]\r153it [19:28,  7.62s/it]\r154it [19:36,  7.58s/it]\r155it [19:43,  7.59s/it]\r156it [19:51,  7.58s/it]\r157it [19:59,  7.61s/it]\r158it [20:06,  7.63s/it]\r159it [20:14,  7.57s/it]\r160it [20:21,  7.62s/it]\r161it [20:29,  7.65s/it]\r162it [20:37,  7.68s/it]\r163it [20:45,  7.71s/it]\r164it [20:52,  7.71s/it]\r165it [21:00,  7.66s/it]\r166it [21:07,  7.60s/it]\r167it [21:15,  7.65s/it]\r168it [21:23,  7.60s/it]\r169it [21:30,  7.66s/it]\r170it [21:38,  7.62s/it]\r171it [21:45,  7.52s/it]\r172it [21:53,  7.58s/it]\r173it [22:00,  7.53s/it]\r174it [22:08,  7.54s/it]\r175it [22:16,  7.56s/it]\r176it [22:23,  7.56s/it]\r177it [22:31,  7.59s/it]\r178it [22:38,  7.54s/it]\r179it [22:46,  7.58s/it]\r180it [22:54,  7.62s/it]\r181it [23:01,  7.63s/it]\r182it [23:09,  7.59s/it]\r183it [23:16,  7.60s/it]\r184it [23:24,  7.63s/it]\r185it [23:32,  7.65s/it]\r186it [23:39,  7.68s/it]\r187it [23:47,  7.62s/it]\r188it [23:55,  7.63s/it]\r189it [24:02,  7.62s/it]\r190it [24:10,  7.61s/it]\r191it [24:18,  7.66s/it]\r192it [24:25,  7.69s/it]\r193it [24:33,  7.70s/it]\r194it [24:41,  7.69s/it]\r195it [24:48,  7.68s/it]\r196it [24:56,  7.59s/it]\r197it [25:03,  7.61s/it]\r198it [25:11,  7.58s/it]\r199it [25:18,  7.54s/it]\r200it [25:26,  7.58s/it]\r201it [25:34,  7.60s/it]\r202it [25:42,  7.66s/it]\r203it [25:49,  7.66s/it]\r204it [25:57,  7.65s/it]\r205it [26:04,  7.60s/it]\r206it [26:12,  7.58s/it]\r207it [26:19,  7.60s/it]\r208it [26:27,  7.62s/it]\r209it [26:35,  7.56s/it]\r210it [26:42,  7.53s/it]\r211it [26:50,  7.58s/it]\r212it [26:57,  7.61s/it]\r213it [27:05,  7.61s/it]\r214it [27:13,  7.66s/it]\r215it [27:20,  7.66s/it]\r216it [27:28,  7.64s/it]\r217it [27:36,  7.61s/it]\r218it [27:43,  7.70s/it]\r219it [27:51,  7.60s/it]\r220it [27:58,  7.62s/it]\r221it [28:06,  7.65s/it]\r222it [28:14,  7.63s/it]\r223it [28:22,  7.67s/it]\r224it [28:29,  7.66s/it]\r225it [28:37,  7.69s/it]\r226it [28:44,  7.64s/it]\r227it [28:52,  7.63s/it]\r228it [29:00,  7.59s/it]\r229it [29:07,  7.58s/it]\r230it [29:15,  7.66s/it]\r231it [29:23,  7.64s/it]\r232it [29:30,  7.64s/it]\r233it [29:38,  7.70s/it]\r234it [29:46,  7.74s/it]\r235it [29:54,  7.72s/it]\r236it [30:01,  7.70s/it]\r237it [30:09,  7.71s/it]\r238it [30:17,  7.71s/it]\r239it [30:24,  7.67s/it]\r240it [30:32,  7.66s/it]\r240it [30:32,  7.63s/it]\n"
     ]
    },
    {
     "name": "stdout",
     "output_type": "stream",
     "text": [
      "Epoch 33 train loss: 0.01233673095703125\n",
      "[Train - End / Test - Start Epoch 34] GPU Memory: Allocated=2.31GB, Reserved=3.39GB\n"
     ]
    },
    {
     "name": "stderr",
     "output_type": "stream",
     "text": [
      "\r  0%|          | 0/14.1875 [00:00<?, ?it/s]\r  7%|▋         | 1/14.1875 [00:06<01:26,  6.57s/it]\r 14%|█▍        | 2/14.1875 [00:13<01:21,  6.66s/it]\r 21%|██        | 3/14.1875 [00:19<01:14,  6.64s/it]\r 28%|██▊       | 4/14.1875 [00:26<01:07,  6.66s/it]\r 35%|███▌      | 5/14.1875 [00:33<01:01,  6.66s/it]\r 42%|████▏     | 6/14.1875 [00:39<00:54,  6.63s/it]\r 49%|████▉     | 7/14.1875 [00:46<00:47,  6.62s/it]\r 56%|█████▋    | 8/14.1875 [00:52<00:40,  6.60s/it]\r 63%|██████▎   | 9/14.1875 [00:59<00:34,  6.61s/it]\r 70%|███████   | 10/14.1875 [01:06<00:27,  6.63s/it]\r 78%|███████▊  | 11/14.1875 [01:12<00:20,  6.58s/it]\r 85%|████████▍ | 12/14.1875 [01:19<00:14,  6.64s/it]\r 92%|█████████▏| 13/14.1875 [01:26<00:07,  6.65s/it]\r 99%|█████████▊| 14/14.1875 [01:32<00:01,  6.63s/it]\r15it [01:39,  6.67s/it]                             \r16it [01:46,  6.65s/it]\r17it [01:52,  6.69s/it]\r18it [01:59,  6.67s/it]\r19it [02:06,  6.68s/it]\r20it [02:13,  6.74s/it]\r21it [02:19,  6.73s/it]\r22it [02:26,  6.73s/it]\r23it [02:33,  6.75s/it]\r24it [02:40,  6.75s/it]\r25it [02:46,  6.72s/it]\r26it [02:53,  6.72s/it]\r27it [03:00,  6.72s/it]\r28it [03:06,  6.68s/it]\r29it [03:13,  6.71s/it]\r30it [03:20,  6.66s/it]\r30it [03:20,  6.67s/it]\n"
     ]
    },
    {
     "name": "stdout",
     "output_type": "stream",
     "text": [
      "Cumulative Accuracy for CP: 69.71%\n",
      "Cumulative Accuracy for chopping-board: 91.67%\n",
      "Cumulative Accuracy for finalstep: 90.39%\n",
      "Cumulative Accuracy for glass-bowl-large: 74.12%\n",
      "Cumulative Accuracy for glass-bowl-medium: 71.08%\n",
      "Cumulative Accuracy for glass-bowl-small: 38.24%\n",
      "Cumulative Accuracy for grill-plate: nan%\n",
      "Cumulative Accuracy for group_step: 77.06%\n",
      "Cumulative Accuracy for medium: 92.06%\n",
      "Cumulative Accuracy for oven-dish: 96.57%\n",
      "Cumulative Accuracy for oven-tray: 95.98%\n",
      "Cumulative Accuracy for pan: 100.00%\n",
      "Cumulative Accuracy for pot-one-handle: 97.45%\n",
      "Cumulative Accuracy for pot-two-handles-medium: 77.45%\n",
      "Cumulative Accuracy for pot-two-handles-shallow: 91.67%\n",
      "Cumulative Accuracy for pot-two-handles-small: nan%\n",
      "Cumulative Accuracy for saucepan: 94.12%\n",
      "\n",
      "Mean Top 3 Accuracy (Val): 95.78%\n",
      "Mean Top 1 Accuracy (Val): 85.33%\n",
      "Macro-averaged Accuracy (Val): 83.84%\n",
      "Epoch 33 test loss: 29.1875\n",
      "\n",
      "[Test - End Epoch 34] GPU Memory: Allocated=2.31GB, Reserved=3.39GB\n",
      "\n",
      "Epoch 35/120\n",
      "[Train - Start Epoch 35] GPU Memory: Allocated=2.31GB, Reserved=3.39GB\n"
     ]
    },
    {
     "name": "stderr",
     "output_type": "stream",
     "text": [
      "\r  0%|          | 0/127.84375 [00:00<?, ?it/s]\r  1%|          | 1/127.84375 [00:07<16:10,  7.65s/it]\r  2%|▏         | 2/127.84375 [00:15<15:52,  7.57s/it]\r  2%|▏         | 3/127.84375 [00:22<15:46,  7.58s/it]\r  3%|▎         | 4/127.84375 [00:30<15:43,  7.62s/it]\r  4%|▍         | 5/127.84375 [00:38<15:39,  7.65s/it]\r  5%|▍         | 6/127.84375 [00:45<15:28,  7.62s/it]\r  5%|▌         | 7/127.84375 [00:53<15:21,  7.63s/it]\r  6%|▋         | 8/127.84375 [01:01<15:16,  7.65s/it]\r  7%|▋         | 9/127.84375 [01:08<15:08,  7.65s/it]\r  8%|▊         | 10/127.84375 [01:16<14:59,  7.63s/it]\r  9%|▊         | 11/127.84375 [01:23<14:52,  7.64s/it]\r  9%|▉         | 12/127.84375 [01:31<14:39,  7.59s/it]\r 10%|█         | 13/127.84375 [01:39<14:35,  7.63s/it]\r 11%|█         | 14/127.84375 [01:46<14:30,  7.65s/it]\r 12%|█▏        | 15/127.84375 [01:54<14:22,  7.64s/it]\r 13%|█▎        | 16/127.84375 [02:01<14:10,  7.61s/it]\r 13%|█▎        | 17/127.84375 [02:09<14:02,  7.60s/it]\r 14%|█▍        | 18/127.84375 [02:17<13:55,  7.60s/it]\r 15%|█▍        | 19/127.84375 [02:24<13:47,  7.60s/it]\r 16%|█▌        | 20/127.84375 [02:32<13:42,  7.62s/it]\r 16%|█▋        | 21/127.84375 [02:39<13:31,  7.60s/it]\r 17%|█▋        | 22/127.84375 [02:47<13:24,  7.60s/it]\r 18%|█▊        | 23/127.84375 [02:55<13:13,  7.57s/it]\r 19%|█▉        | 24/127.84375 [03:02<13:01,  7.52s/it]\r 20%|█▉        | 25/127.84375 [03:10<12:55,  7.54s/it]\r 20%|██        | 26/127.84375 [03:17<12:57,  7.63s/it]\r 21%|██        | 27/127.84375 [03:25<12:51,  7.65s/it]\r 22%|██▏       | 28/127.84375 [03:33<12:36,  7.58s/it]\r 23%|██▎       | 29/127.84375 [03:40<12:29,  7.59s/it]\r 23%|██▎       | 30/127.84375 [03:48<12:25,  7.62s/it]\r 24%|██▍       | 31/127.84375 [03:55<12:18,  7.62s/it]\r 25%|██▌       | 32/127.84375 [04:03<12:13,  7.65s/it]\r 26%|██▌       | 33/127.84375 [04:11<12:03,  7.62s/it]\r 27%|██▋       | 34/127.84375 [04:18<11:58,  7.65s/it]\r 27%|██▋       | 35/127.84375 [04:26<11:51,  7.66s/it]\r 28%|██▊       | 36/127.84375 [04:34<11:42,  7.65s/it]\r 29%|██▉       | 37/127.84375 [04:41<11:35,  7.66s/it]\r 30%|██▉       | 38/127.84375 [04:49<11:27,  7.65s/it]\r 31%|███       | 39/127.84375 [04:57<11:16,  7.61s/it]\r 31%|███▏      | 40/127.84375 [05:04<11:14,  7.68s/it]\r 32%|███▏      | 41/127.84375 [05:12<11:04,  7.65s/it]\r 33%|███▎      | 42/127.84375 [05:20<10:53,  7.62s/it]\r 34%|███▎      | 43/127.84375 [05:27<10:42,  7.57s/it]\r 34%|███▍      | 44/127.84375 [05:35<10:38,  7.62s/it]\r 35%|███▌      | 45/127.84375 [05:42<10:27,  7.58s/it]\r 36%|███▌      | 46/127.84375 [05:50<10:16,  7.53s/it]\r 37%|███▋      | 47/127.84375 [05:57<10:08,  7.53s/it]\r 38%|███▊      | 48/127.84375 [06:05<10:05,  7.58s/it]\r 38%|███▊      | 49/127.84375 [06:13<10:01,  7.63s/it]\r 39%|███▉      | 50/127.84375 [06:20<09:51,  7.59s/it]\r 40%|███▉      | 51/127.84375 [06:28<09:45,  7.62s/it]\r 41%|████      | 52/127.84375 [06:35<09:37,  7.61s/it]\r 41%|████▏     | 53/127.84375 [06:43<09:25,  7.56s/it]\r 42%|████▏     | 54/127.84375 [06:50<09:18,  7.57s/it]\r 43%|████▎     | 55/127.84375 [06:58<09:12,  7.58s/it]\r 44%|████▍     | 56/127.84375 [07:05<09:01,  7.54s/it]\r 45%|████▍     | 57/127.84375 [07:13<08:58,  7.60s/it]\r 45%|████▌     | 58/127.84375 [07:21<08:51,  7.62s/it]\r 46%|████▌     | 59/127.84375 [07:28<08:40,  7.56s/it]\r 47%|████▋     | 60/127.84375 [07:36<08:33,  7.57s/it]\r 48%|████▊     | 61/127.84375 [07:43<08:22,  7.51s/it]\r 48%|████▊     | 62/127.84375 [07:51<08:16,  7.55s/it]\r 49%|████▉     | 63/127.84375 [07:58<08:09,  7.55s/it]\r 50%|█████     | 64/127.84375 [08:06<08:05,  7.60s/it]\r 51%|█████     | 65/127.84375 [08:14<07:56,  7.58s/it]\r 52%|█████▏    | 66/127.84375 [08:21<07:47,  7.55s/it]\r 52%|█████▏    | 67/127.84375 [08:29<07:42,  7.61s/it]\r 53%|█████▎    | 68/127.84375 [08:37<07:35,  7.61s/it]\r 54%|█████▍    | 69/127.84375 [08:44<07:27,  7.61s/it]\r 55%|█████▍    | 70/127.84375 [08:52<07:18,  7.59s/it]\r 56%|█████▌    | 71/127.84375 [08:59<07:13,  7.62s/it]\r 56%|█████▋    | 72/127.84375 [09:07<07:06,  7.63s/it]\r 57%|█████▋    | 73/127.84375 [09:14<06:55,  7.57s/it]\r 58%|█████▊    | 74/127.84375 [09:22<06:48,  7.59s/it]\r 59%|█████▊    | 75/127.84375 [09:30<06:43,  7.63s/it]\r 59%|█████▉    | 76/127.84375 [09:37<06:33,  7.58s/it]\r 60%|██████    | 77/127.84375 [09:45<06:26,  7.60s/it]\r 61%|██████    | 78/127.84375 [09:53<06:19,  7.61s/it]\r 62%|██████▏   | 79/127.84375 [10:00<06:11,  7.61s/it]\r 63%|██████▎   | 80/127.84375 [10:08<06:05,  7.64s/it]\r 63%|██████▎   | 81/127.84375 [10:16<05:57,  7.63s/it]\r 64%|██████▍   | 82/127.84375 [10:23<05:48,  7.60s/it]\r 65%|██████▍   | 83/127.84375 [10:31<05:41,  7.61s/it]\r 66%|██████▌   | 84/127.84375 [10:38<05:33,  7.62s/it]\r 66%|██████▋   | 85/127.84375 [10:46<05:27,  7.64s/it]\r 67%|██████▋   | 86/127.84375 [10:53<05:17,  7.60s/it]\r 68%|██████▊   | 87/127.84375 [11:01<05:09,  7.58s/it]\r 69%|██████▉   | 88/127.84375 [11:09<05:02,  7.60s/it]\r 70%|██████▉   | 89/127.84375 [11:16<04:57,  7.67s/it]\r 70%|███████   | 90/127.84375 [11:24<04:50,  7.69s/it]\r 71%|███████   | 91/127.84375 [11:32<04:43,  7.69s/it]\r 72%|███████▏  | 92/127.84375 [11:40<04:36,  7.71s/it]\r 73%|███████▎  | 93/127.84375 [11:47<04:27,  7.69s/it]\r 74%|███████▎  | 94/127.84375 [11:55<04:20,  7.68s/it]\r 74%|███████▍  | 95/127.84375 [12:03<04:11,  7.65s/it]\r 75%|███████▌  | 96/127.84375 [12:10<04:03,  7.66s/it]\r 76%|███████▌  | 97/127.84375 [12:18<03:57,  7.71s/it]\r 77%|███████▋  | 98/127.84375 [12:26<03:49,  7.70s/it]\r 77%|███████▋  | 99/127.84375 [12:33<03:40,  7.65s/it]\r 78%|███████▊  | 100/127.84375 [12:41<03:34,  7.71s/it]\r 79%|███████▉  | 101/127.84375 [12:49<03:28,  7.76s/it]\r 80%|███████▉  | 102/127.84375 [12:57<03:21,  7.79s/it]\r 81%|████████  | 103/127.84375 [13:05<03:12,  7.76s/it]\r 81%|████████▏ | 104/127.84375 [13:12<03:04,  7.74s/it]\r 82%|████████▏ | 105/127.84375 [13:20<02:56,  7.71s/it]\r 83%|████████▎ | 106/127.84375 [13:28<02:47,  7.69s/it]\r 84%|████████▎ | 107/127.84375 [13:35<02:39,  7.67s/it]\r 84%|████████▍ | 108/127.84375 [13:43<02:33,  7.74s/it]\r 85%|████████▌ | 109/127.84375 [13:51<02:25,  7.70s/it]\r 86%|████████▌ | 110/127.84375 [13:58<02:17,  7.73s/it]\r 87%|████████▋ | 111/127.84375 [14:06<02:09,  7.71s/it]\r 88%|████████▊ | 112/127.84375 [14:14<02:01,  7.70s/it]\r 88%|████████▊ | 113/127.84375 [14:21<01:53,  7.64s/it]\r 89%|████████▉ | 114/127.84375 [14:29<01:45,  7.64s/it]\r 90%|████████▉ | 115/127.84375 [14:37<01:37,  7.63s/it]\r 91%|█████████ | 116/127.84375 [14:44<01:29,  7.57s/it]\r 92%|█████████▏| 117/127.84375 [14:52<01:22,  7.60s/it]\r 92%|█████████▏| 118/127.84375 [14:59<01:15,  7.62s/it]\r 93%|█████████▎| 119/127.84375 [15:07<01:07,  7.61s/it]\r 94%|█████████▍| 120/127.84375 [15:15<00:59,  7.61s/it]\r 95%|█████████▍| 121/127.84375 [15:22<00:52,  7.64s/it]\r 95%|█████████▌| 122/127.84375 [15:30<00:44,  7.62s/it]\r 96%|█████████▌| 123/127.84375 [15:37<00:36,  7.59s/it]\r 97%|█████████▋| 124/127.84375 [15:45<00:29,  7.63s/it]\r 98%|█████████▊| 125/127.84375 [15:53<00:21,  7.73s/it]\r 99%|█████████▊| 126/127.84375 [16:01<00:14,  7.72s/it]\r 99%|█████████▉| 127/127.84375 [16:08<00:06,  7.67s/it]/databricks/python/lib/python3.11/site-packages/tqdm/std.py:524: TqdmWarning: clamping frac to range [0, 1]\n",
      "  full_bar = Bar(frac,\n",
      "\r100%|██████████| 128/127.84375 [16:16<-1:59:59,  7.67s/it]\r129it [16:24,  7.69s/it]                                  \r130it [16:31,  7.68s/it]\r131it [16:39,  7.66s/it]\r132it [16:47,  7.70s/it]\r133it [16:54,  7.69s/it]\r134it [17:02,  7.65s/it]\r135it [17:10,  7.63s/it]\r136it [17:17,  7.65s/it]\r137it [17:25,  7.65s/it]\r138it [17:32,  7.62s/it]\r139it [17:40,  7.65s/it]\r140it [17:48,  7.69s/it]\r141it [17:55,  7.64s/it]\r142it [18:03,  7.67s/it]\r143it [18:11,  7.66s/it]\r144it [18:18,  7.63s/it]\r145it [18:26,  7.63s/it]\r146it [18:34,  7.61s/it]\r147it [18:41,  7.62s/it]\r148it [18:49,  7.60s/it]\r149it [18:56,  7.61s/it]\r150it [19:04,  7.65s/it]\r151it [19:12,  7.64s/it]\r152it [19:19,  7.62s/it]\r153it [19:27,  7.65s/it]\r154it [19:35,  7.59s/it]\r155it [19:42,  7.61s/it]\r156it [19:50,  7.63s/it]\r157it [19:58,  7.68s/it]\r158it [20:05,  7.62s/it]\r159it [20:13,  7.60s/it]\r160it [20:20,  7.61s/it]\r161it [20:28,  7.61s/it]\r162it [20:36,  7.62s/it]\r163it [20:43,  7.62s/it]\r164it [20:51,  7.65s/it]\r165it [20:58,  7.60s/it]\r166it [21:06,  7.55s/it]\r167it [21:13,  7.54s/it]\r168it [21:21,  7.54s/it]\r169it [21:29,  7.57s/it]\r170it [21:36,  7.59s/it]\r171it [21:44,  7.60s/it]\r172it [21:52,  7.64s/it]\r173it [21:59,  7.63s/it]\r174it [22:07,  7.63s/it]\r175it [22:14,  7.66s/it]\r176it [22:22,  7.65s/it]\r177it [22:30,  7.68s/it]\r178it [22:37,  7.64s/it]\r179it [22:45,  7.64s/it]\r180it [22:53,  7.59s/it]\r181it [23:00,  7.66s/it]\r182it [23:08,  7.62s/it]\r183it [23:16,  7.63s/it]\r184it [23:23,  7.67s/it]\r185it [23:31,  7.67s/it]\r186it [23:38,  7.62s/it]\r187it [23:46,  7.66s/it]\r188it [23:54,  7.66s/it]\r189it [24:01,  7.63s/it]\r190it [24:09,  7.59s/it]\r191it [24:17,  7.61s/it]\r192it [24:24,  7.60s/it]\r193it [24:32,  7.57s/it]\r194it [24:39,  7.59s/it]\r195it [24:47,  7.64s/it]\r196it [24:55,  7.64s/it]\r197it [25:02,  7.60s/it]\r198it [25:10,  7.63s/it]\r199it [25:18,  7.63s/it]\r200it [25:25,  7.62s/it]\r201it [25:33,  7.67s/it]\r202it [25:41,  7.65s/it]\r203it [25:48,  7.62s/it]\r204it [25:56,  7.66s/it]\r205it [26:03,  7.64s/it]\r206it [26:11,  7.61s/it]\r207it [26:19,  7.61s/it]\r208it [26:26,  7.60s/it]\r209it [26:34,  7.60s/it]\r210it [26:41,  7.59s/it]\r211it [26:49,  7.65s/it]\r212it [26:57,  7.64s/it]\r213it [27:04,  7.66s/it]\r214it [27:12,  7.68s/it]\r215it [27:20,  7.69s/it]\r216it [27:28,  7.69s/it]\r217it [27:35,  7.70s/it]\r218it [27:43,  7.75s/it]\r219it [27:51,  7.73s/it]\r220it [27:59,  7.72s/it]\r221it [28:06,  7.70s/it]\r222it [28:14,  7.70s/it]\r223it [28:21,  7.66s/it]\r224it [28:29,  7.64s/it]\r225it [28:37,  7.62s/it]\r226it [28:44,  7.65s/it]\r227it [28:52,  7.67s/it]\r228it [29:00,  7.66s/it]\r229it [29:07,  7.65s/it]\r230it [29:15,  7.64s/it]\r231it [29:22,  7.62s/it]\r232it [29:30,  7.63s/it]\r233it [29:38,  7.58s/it]\r234it [29:45,  7.63s/it]\r235it [29:53,  7.59s/it]\r236it [30:00,  7.56s/it]\r237it [30:08,  7.58s/it]\r238it [30:16,  7.62s/it]\r239it [30:23,  7.59s/it]\r240it [30:31,  7.60s/it]\r240it [30:31,  7.63s/it]\n"
     ]
    },
    {
     "name": "stdout",
     "output_type": "stream",
     "text": [
      "Epoch 34 train loss: 0.028045654296875\n",
      "[Train - End / Test - Start Epoch 35] GPU Memory: Allocated=2.30GB, Reserved=3.39GB\n"
     ]
    },
    {
     "name": "stderr",
     "output_type": "stream",
     "text": [
      "\r  0%|          | 0/14.1875 [00:00<?, ?it/s]\r  7%|▋         | 1/14.1875 [00:06<01:25,  6.49s/it]\r 14%|█▍        | 2/14.1875 [00:13<01:21,  6.65s/it]\r 21%|██        | 3/14.1875 [00:19<01:14,  6.62s/it]\r 28%|██▊       | 4/14.1875 [00:26<01:08,  6.68s/it]\r 35%|███▌      | 5/14.1875 [00:33<01:01,  6.65s/it]\r 42%|████▏     | 6/14.1875 [00:39<00:54,  6.69s/it]\r 49%|████▉     | 7/14.1875 [00:46<00:48,  6.72s/it]\r 56%|█████▋    | 8/14.1875 [00:53<00:41,  6.72s/it]\r 63%|██████▎   | 9/14.1875 [01:00<00:34,  6.73s/it]\r 70%|███████   | 10/14.1875 [01:06<00:28,  6.74s/it]\r 78%|███████▊  | 11/14.1875 [01:13<00:21,  6.74s/it]\r 85%|████████▍ | 12/14.1875 [01:20<00:14,  6.74s/it]\r 92%|█████████▏| 13/14.1875 [01:27<00:08,  6.82s/it]\r 99%|█████████▊| 14/14.1875 [01:34<00:01,  6.77s/it]\r15it [01:40,  6.72s/it]                             \r16it [01:47,  6.68s/it]\r17it [01:53,  6.65s/it]\r18it [02:00,  6.68s/it]\r19it [02:07,  6.64s/it]\r20it [02:13,  6.59s/it]\r21it [02:20,  6.62s/it]\r22it [02:27,  6.64s/it]\r23it [02:33,  6.65s/it]\r24it [02:40,  6.65s/it]\r25it [02:47,  6.65s/it]\r26it [02:53,  6.65s/it]\r27it [03:00,  6.64s/it]\r28it [03:06,  6.63s/it]\r29it [03:13,  6.65s/it]\r30it [03:20,  6.66s/it]\r30it [03:20,  6.68s/it]\n"
     ]
    },
    {
     "name": "stdout",
     "output_type": "stream",
     "text": [
      "Cumulative Accuracy for CP: 69.81%\n",
      "Cumulative Accuracy for chopping-board: 91.90%\n",
      "Cumulative Accuracy for finalstep: 90.57%\n",
      "Cumulative Accuracy for glass-bowl-large: 74.57%\n",
      "Cumulative Accuracy for glass-bowl-medium: 71.33%\n",
      "Cumulative Accuracy for glass-bowl-small: 37.81%\n",
      "Cumulative Accuracy for grill-plate: nan%\n",
      "Cumulative Accuracy for group_step: 77.05%\n",
      "Cumulative Accuracy for medium: 92.19%\n",
      "Cumulative Accuracy for oven-dish: 96.67%\n",
      "Cumulative Accuracy for oven-tray: 96.00%\n",
      "Cumulative Accuracy for pan: 100.00%\n",
      "Cumulative Accuracy for pot-one-handle: 97.52%\n",
      "Cumulative Accuracy for pot-two-handles-medium: 77.52%\n",
      "Cumulative Accuracy for pot-two-handles-shallow: 91.90%\n",
      "Cumulative Accuracy for pot-two-handles-small: nan%\n",
      "Cumulative Accuracy for saucepan: 94.29%\n",
      "\n",
      "Mean Top 3 Accuracy (Val): 93.33%\n",
      "Mean Top 1 Accuracy (Val): 87.56%\n",
      "Macro-averaged Accuracy (Val): 83.94%\n",
      "Epoch 34 test loss: 29.09375\n",
      "\n",
      "[Test - End Epoch 35] GPU Memory: Allocated=2.30GB, Reserved=3.39GB\n",
      "\n",
      "Epoch 36/120\n",
      "[Train - Start Epoch 36] GPU Memory: Allocated=2.30GB, Reserved=3.39GB\n"
     ]
    },
    {
     "name": "stderr",
     "output_type": "stream",
     "text": [
      "\r  0%|          | 0/127.84375 [00:00<?, ?it/s]\r  1%|          | 1/127.84375 [00:07<16:05,  7.62s/it]\r  2%|▏         | 2/127.84375 [00:15<15:58,  7.62s/it]\r  2%|▏         | 3/127.84375 [00:22<15:46,  7.58s/it]\r  3%|▎         | 4/127.84375 [00:30<15:49,  7.67s/it]\r  4%|▍         | 5/127.84375 [00:38<15:40,  7.65s/it]\r  5%|▍         | 6/127.84375 [00:45<15:35,  7.68s/it]\r  5%|▌         | 7/127.84375 [00:53<15:31,  7.71s/it]\r  6%|▋         | 8/127.84375 [01:01<15:25,  7.72s/it]\r  7%|▋         | 9/127.84375 [01:09<15:15,  7.70s/it]\r  8%|▊         | 10/127.84375 [01:16<15:03,  7.67s/it]\r  9%|▊         | 11/127.84375 [01:24<14:52,  7.64s/it]\r  9%|▉         | 12/127.84375 [01:31<14:45,  7.64s/it]\r 10%|█         | 13/127.84375 [01:39<14:35,  7.63s/it]\r 11%|█         | 14/127.84375 [01:47<14:25,  7.60s/it]\r 12%|█▏        | 15/127.84375 [01:54<14:15,  7.58s/it]\r 13%|█▎        | 16/127.84375 [02:02<14:04,  7.55s/it]\r 13%|█▎        | 17/127.84375 [02:09<13:59,  7.57s/it]\r 14%|█▍        | 18/127.84375 [02:17<13:56,  7.62s/it]\r 15%|█▍        | 19/127.84375 [02:25<13:48,  7.61s/it]\r 16%|█▌        | 20/127.84375 [02:32<13:42,  7.62s/it]\r 16%|█▋        | 21/127.84375 [02:40<13:34,  7.62s/it]\r 17%|█▋        | 22/127.84375 [02:47<13:26,  7.62s/it]\r 18%|█▊        | 23/127.84375 [02:55<13:18,  7.61s/it]\r 19%|█▉        | 24/127.84375 [03:02<13:06,  7.57s/it]\r 20%|█▉        | 25/127.84375 [03:10<13:02,  7.61s/it]\r 20%|██        | 26/127.84375 [03:18<12:53,  7.59s/it]\r 21%|██        | 27/127.84375 [03:25<12:47,  7.61s/it]\r 22%|██▏       | 28/127.84375 [03:33<12:39,  7.61s/it]\r 23%|██▎       | 29/127.84375 [03:41<12:29,  7.58s/it]\r 23%|██▎       | 30/127.84375 [03:48<12:20,  7.57s/it]\r 24%|██▍       | 31/127.84375 [03:56<12:14,  7.59s/it]\r 25%|██▌       | 32/127.84375 [04:03<12:08,  7.60s/it]\r 26%|██▌       | 33/127.84375 [04:11<12:04,  7.64s/it]\r 27%|██▋       | 34/127.84375 [04:19<11:56,  7.64s/it]\r 27%|██▋       | 35/127.84375 [04:26<11:49,  7.64s/it]\r 28%|██▊       | 36/127.84375 [04:34<11:41,  7.64s/it]\r 29%|██▉       | 37/127.84375 [04:42<11:38,  7.69s/it]\r 30%|██▉       | 38/127.84375 [04:49<11:25,  7.63s/it]\r 31%|███       | 39/127.84375 [04:57<11:18,  7.64s/it]\r 31%|███▏      | 40/127.84375 [05:04<11:10,  7.63s/it]\r 32%|███▏      | 41/127.84375 [05:12<11:03,  7.64s/it]\r 33%|███▎      | 42/127.84375 [05:20<10:57,  7.66s/it]\r 34%|███▎      | 43/127.84375 [05:27<10:46,  7.62s/it]\r 34%|███▍      | 44/127.84375 [05:35<10:37,  7.60s/it]\r 35%|███▌      | 45/127.84375 [05:42<10:26,  7.57s/it]\r 36%|███▌      | 46/127.84375 [05:50<10:17,  7.55s/it]\r 37%|███▋      | 47/127.84375 [05:58<10:12,  7.58s/it]\r 38%|███▊      | 48/127.84375 [06:05<10:05,  7.58s/it]\r 38%|███▊      | 49/127.84375 [06:13<09:57,  7.58s/it]\r 39%|███▉      | 50/127.84375 [06:20<09:50,  7.59s/it]\r 40%|███▉      | 51/127.84375 [06:28<09:41,  7.57s/it]\r 41%|████      | 52/127.84375 [06:36<09:35,  7.59s/it]\r 41%|████▏     | 53/127.84375 [06:43<09:29,  7.61s/it]\r 42%|████▏     | 54/127.84375 [06:51<09:21,  7.60s/it]\r 43%|████▎     | 55/127.84375 [06:58<09:16,  7.63s/it]\r 44%|████▍     | 56/127.84375 [07:06<09:10,  7.66s/it]\r 45%|████▍     | 57/127.84375 [07:14<08:58,  7.61s/it]\r 45%|████▌     | 58/127.84375 [07:21<08:49,  7.58s/it]\r 46%|████▌     | 59/127.84375 [07:29<08:41,  7.58s/it]\r 47%|████▋     | 60/127.84375 [07:36<08:33,  7.56s/it]\r 48%|████▊     | 61/127.84375 [07:44<08:26,  7.57s/it]\r 48%|████▊     | 62/127.84375 [07:52<08:22,  7.62s/it]\r 49%|████▉     | 63/127.84375 [07:59<08:15,  7.64s/it]\r 50%|█████     | 64/127.84375 [08:07<08:11,  7.70s/it]\r 51%|█████     | 65/127.84375 [08:15<08:00,  7.64s/it]\r 52%|█████▏    | 66/127.84375 [08:22<07:52,  7.64s/it]\r 52%|█████▏    | 67/127.84375 [08:30<07:46,  7.67s/it]\r 53%|█████▎    | 68/127.84375 [08:37<07:33,  7.59s/it]\r 54%|█████▍    | 69/127.84375 [08:45<07:26,  7.59s/it]\r 55%|█████▍    | 70/127.84375 [08:53<07:20,  7.62s/it]\r 56%|█████▌    | 71/127.84375 [09:00<07:15,  7.67s/it]\r 56%|█████▋    | 72/127.84375 [09:08<07:08,  7.68s/it]\r 57%|█████▋    | 73/127.84375 [09:16<07:00,  7.66s/it]\r 58%|█████▊    | 74/127.84375 [09:24<06:53,  7.69s/it]\r 59%|█████▊    | 75/127.84375 [09:31<06:46,  7.70s/it]\r 59%|█████▉    | 76/127.84375 [09:39<06:36,  7.65s/it]\r 60%|██████    | 77/127.84375 [09:47<06:30,  7.68s/it]\r 61%|██████    | 78/127.84375 [09:54<06:22,  7.67s/it]\r 62%|██████▏   | 79/127.84375 [10:02<06:17,  7.73s/it]\r 63%|██████▎   | 80/127.84375 [10:10<06:09,  7.72s/it]\r 63%|██████▎   | 81/127.84375 [10:17<06:01,  7.71s/it]\r 64%|██████▍   | 82/127.84375 [10:25<05:55,  7.76s/it]\r 65%|██████▍   | 83/127.84375 [10:33<05:46,  7.73s/it]\r 66%|██████▌   | 84/127.84375 [10:41<05:39,  7.73s/it]\r 66%|██████▋   | 85/127.84375 [10:48<05:30,  7.72s/it]\r 67%|██████▋   | 86/127.84375 [10:56<05:21,  7.69s/it]\r 68%|██████▊   | 87/127.84375 [11:04<05:13,  7.67s/it]\r 69%|██████▉   | 88/127.84375 [11:11<05:04,  7.64s/it]\r 70%|██████▉   | 89/127.84375 [11:19<04:55,  7.60s/it]\r 70%|███████   | 90/127.84375 [11:26<04:47,  7.59s/it]\r 71%|███████   | 91/127.84375 [11:34<04:39,  7.59s/it]\r 72%|███████▏  | 92/127.84375 [11:42<04:33,  7.62s/it]\r 73%|███████▎  | 93/127.84375 [11:49<04:26,  7.65s/it]\r 74%|███████▎  | 94/127.84375 [11:57<04:18,  7.63s/it]\r 74%|███████▍  | 95/127.84375 [12:04<04:09,  7.60s/it]\r 75%|███████▌  | 96/127.84375 [12:12<04:04,  7.69s/it]\r 76%|███████▌  | 97/127.84375 [12:20<03:56,  7.67s/it]\r 77%|███████▋  | 98/127.84375 [12:28<03:48,  7.64s/it]\r 77%|███████▋  | 99/127.84375 [12:35<03:39,  7.60s/it]\r 78%|███████▊  | 100/127.84375 [12:43<03:31,  7.61s/it]\r 79%|███████▉  | 101/127.84375 [12:50<03:24,  7.62s/it]\r 80%|███████▉  | 102/127.84375 [12:58<03:17,  7.63s/it]\r 81%|████████  | 103/127.84375 [13:06<03:09,  7.61s/it]\r 81%|████████▏ | 104/127.84375 [13:13<03:03,  7.68s/it]\r 82%|████████▏ | 105/127.84375 [13:21<02:54,  7.65s/it]\r 83%|████████▎ | 106/127.84375 [13:28<02:45,  7.59s/it]\r 84%|████████▎ | 107/127.84375 [13:36<02:39,  7.64s/it]\r 84%|████████▍ | 108/127.84375 [13:44<02:31,  7.63s/it]\r 85%|████████▌ | 109/127.84375 [13:51<02:23,  7.62s/it]\r 86%|████████▌ | 110/127.84375 [13:59<02:15,  7.60s/it]\r 87%|████████▋ | 111/127.84375 [14:07<02:07,  7.59s/it]\r 88%|████████▊ | 112/127.84375 [14:14<01:59,  7.57s/it]\r 88%|████████▊ | 113/127.84375 [14:22<01:52,  7.58s/it]\r 89%|████████▉ | 114/127.84375 [14:29<01:44,  7.56s/it]\r 90%|████████▉ | 115/127.84375 [14:37<01:37,  7.56s/it]\r 91%|█████████ | 116/127.84375 [14:44<01:29,  7.58s/it]\r 92%|█████████▏| 117/127.84375 [14:52<01:21,  7.56s/it]\r 92%|█████████▏| 118/127.84375 [14:59<01:14,  7.58s/it]\r 93%|█████████▎| 119/127.84375 [15:07<01:06,  7.56s/it]\r 94%|█████████▍| 120/127.84375 [15:15<00:59,  7.58s/it]\r 95%|█████████▍| 121/127.84375 [15:22<00:51,  7.58s/it]\r 95%|█████████▌| 122/127.84375 [15:30<00:44,  7.56s/it]\r 96%|█████████▌| 123/127.84375 [15:37<00:36,  7.57s/it]\r 97%|█████████▋| 124/127.84375 [15:45<00:29,  7.60s/it]\r 98%|█████████▊| 125/127.84375 [15:53<00:21,  7.67s/it]\r 99%|█████████▊| 126/127.84375 [16:00<00:14,  7.67s/it]\r 99%|█████████▉| 127/127.84375 [16:08<00:06,  7.65s/it]/databricks/python/lib/python3.11/site-packages/tqdm/std.py:524: TqdmWarning: clamping frac to range [0, 1]\n",
      "  full_bar = Bar(frac,\n",
      "\r100%|██████████| 128/127.84375 [16:16<-1:59:59,  7.66s/it]\r129it [16:23,  7.67s/it]                                  \r130it [16:31,  7.64s/it]\r131it [16:39,  7.62s/it]\r132it [16:46,  7.58s/it]\r133it [16:54,  7.60s/it]\r134it [17:01,  7.61s/it]\r135it [17:09,  7.62s/it]\r136it [17:17,  7.63s/it]\r137it [17:24,  7.60s/it]\r138it [17:32,  7.56s/it]\r139it [17:39,  7.54s/it]\r140it [17:47,  7.52s/it]\r141it [17:54,  7.54s/it]\r142it [18:02,  7.58s/it]\r143it [18:10,  7.64s/it]\r144it [18:17,  7.65s/it]\r145it [18:25,  7.64s/it]\r146it [18:33,  7.64s/it]\r147it [18:40,  7.66s/it]\r148it [18:48,  7.70s/it]\r149it [18:56,  7.68s/it]\r150it [19:04,  7.73s/it]\r151it [19:11,  7.73s/it]\r152it [19:19,  7.72s/it]\r153it [19:27,  7.70s/it]\r154it [19:34,  7.69s/it]\r155it [19:42,  7.67s/it]\r156it [19:50,  7.68s/it]\r157it [19:57,  7.71s/it]\r158it [20:05,  7.77s/it]\r159it [20:13,  7.71s/it]\r160it [20:21,  7.72s/it]\r161it [20:28,  7.68s/it]\r162it [20:36,  7.68s/it]\r163it [20:43,  7.63s/it]\r164it [20:51,  7.63s/it]\r165it [20:59,  7.62s/it]\r166it [21:06,  7.60s/it]\r167it [21:13,  7.51s/it]\r168it [21:21,  7.52s/it]\r169it [21:29,  7.54s/it]\r170it [21:36,  7.53s/it]\r171it [21:44,  7.54s/it]\r172it [21:52,  7.63s/it]\r173it [21:59,  7.64s/it]\r174it [22:07,  7.64s/it]\r175it [22:14,  7.64s/it]\r176it [22:22,  7.64s/it]\r177it [22:30,  7.63s/it]\r178it [22:37,  7.62s/it]\r179it [22:45,  7.64s/it]\r180it [22:52,  7.57s/it]\r181it [23:00,  7.57s/it]\r182it [23:08,  7.59s/it]\r183it [23:15,  7.60s/it]\r184it [23:23,  7.65s/it]\r185it [23:30,  7.57s/it]\r186it [23:38,  7.61s/it]\r187it [23:46,  7.64s/it]\r188it [23:53,  7.63s/it]\r189it [24:01,  7.61s/it]\r190it [24:09,  7.61s/it]\r191it [24:16,  7.58s/it]\r192it [24:24,  7.62s/it]\r193it [24:31,  7.63s/it]\r194it [24:39,  7.62s/it]\r195it [24:47,  7.62s/it]\r196it [24:54,  7.61s/it]\r197it [25:02,  7.64s/it]\r198it [25:10,  7.64s/it]\r199it [25:17,  7.66s/it]\r200it [25:25,  7.67s/it]\r201it [25:33,  7.70s/it]\r202it [25:40,  7.68s/it]\r203it [25:48,  7.69s/it]\r204it [25:56,  7.68s/it]\r205it [26:03,  7.65s/it]\r206it [26:11,  7.63s/it]\r207it [26:19,  7.70s/it]\r208it [26:26,  7.68s/it]\r209it [26:34,  7.71s/it]\r210it [26:42,  7.69s/it]\r211it [26:49,  7.67s/it]\r212it [26:57,  7.69s/it]\r213it [27:05,  7.69s/it]\r214it [27:13,  7.68s/it]\r215it [27:20,  7.72s/it]\r216it [27:28,  7.74s/it]\r217it [27:36,  7.64s/it]\r218it [27:43,  7.63s/it]\r219it [27:51,  7.64s/it]\r220it [27:58,  7.59s/it]\r221it [28:06,  7.56s/it]\r222it [28:13,  7.55s/it]\r223it [28:21,  7.58s/it]\r224it [28:29,  7.59s/it]\r225it [28:36,  7.64s/it]\r226it [28:44,  7.61s/it]\r227it [28:52,  7.64s/it]\r228it [28:59,  7.68s/it]\r229it [29:07,  7.69s/it]\r230it [29:15,  7.66s/it]\r231it [29:22,  7.66s/it]\r232it [29:30,  7.63s/it]\r233it [29:37,  7.58s/it]\r234it [29:45,  7.60s/it]\r235it [29:53,  7.61s/it]\r236it [30:00,  7.60s/it]\r237it [30:08,  7.64s/it]\r238it [30:16,  7.66s/it]\r239it [30:23,  7.67s/it]\r240it [30:31,  7.66s/it]\r240it [30:31,  7.63s/it]\n"
     ]
    },
    {
     "name": "stdout",
     "output_type": "stream",
     "text": [
      "Epoch 35 train loss: 0.05816650390625\n",
      "[Train - End / Test - Start Epoch 36] GPU Memory: Allocated=2.30GB, Reserved=3.39GB\n"
     ]
    },
    {
     "name": "stderr",
     "output_type": "stream",
     "text": [
      "\r  0%|          | 0/14.1875 [00:00<?, ?it/s]\r  7%|▋         | 1/14.1875 [00:06<01:27,  6.60s/it]\r 14%|█▍        | 2/14.1875 [00:13<01:20,  6.62s/it]\r 21%|██        | 3/14.1875 [00:19<01:13,  6.58s/it]\r 28%|██▊       | 4/14.1875 [00:26<01:07,  6.63s/it]\r 35%|███▌      | 5/14.1875 [00:33<01:01,  6.70s/it]\r 42%|████▏     | 6/14.1875 [00:39<00:54,  6.69s/it]\r 49%|████▉     | 7/14.1875 [00:46<00:47,  6.68s/it]\r 56%|█████▋    | 8/14.1875 [00:53<00:40,  6.62s/it]\r 63%|██████▎   | 9/14.1875 [00:59<00:34,  6.64s/it]\r 70%|███████   | 10/14.1875 [01:06<00:27,  6.61s/it]\r 78%|███████▊  | 11/14.1875 [01:13<00:21,  6.65s/it]\r 85%|████████▍ | 12/14.1875 [01:19<00:14,  6.66s/it]\r 92%|█████████▏| 13/14.1875 [01:26<00:07,  6.66s/it]\r 99%|█████████▊| 14/14.1875 [01:33<00:01,  6.69s/it]\r15it [01:39,  6.67s/it]                             \r16it [01:46,  6.64s/it]\r17it [01:53,  6.66s/it]\r18it [01:59,  6.69s/it]\r19it [02:06,  6.69s/it]\r20it [02:13,  6.66s/it]\r21it [02:19,  6.66s/it]\r22it [02:26,  6.70s/it]\r23it [02:33,  6.70s/it]\r24it [02:39,  6.69s/it]\r25it [02:46,  6.67s/it]\r26it [02:53,  6.65s/it]\r27it [02:59,  6.65s/it]\r28it [03:06,  6.68s/it]\r29it [03:13,  6.68s/it]\r30it [03:19,  6.67s/it]\r30it [03:19,  6.66s/it]\n"
     ]
    },
    {
     "name": "stdout",
     "output_type": "stream",
     "text": [
      "Cumulative Accuracy for CP: 69.81%\n",
      "Cumulative Accuracy for chopping-board: 92.04%\n",
      "Cumulative Accuracy for finalstep: 90.65%\n",
      "Cumulative Accuracy for glass-bowl-large: 75.00%\n",
      "Cumulative Accuracy for glass-bowl-medium: 71.02%\n",
      "Cumulative Accuracy for glass-bowl-small: 37.69%\n",
      "Cumulative Accuracy for grill-plate: nan%\n",
      "Cumulative Accuracy for group_step: 76.57%\n",
      "Cumulative Accuracy for medium: 90.83%\n",
      "Cumulative Accuracy for oven-dish: 96.30%\n",
      "Cumulative Accuracy for oven-tray: 96.02%\n",
      "Cumulative Accuracy for pan: 100.00%\n",
      "Cumulative Accuracy for pot-one-handle: 97.59%\n",
      "Cumulative Accuracy for pot-two-handles-medium: 77.96%\n",
      "Cumulative Accuracy for pot-two-handles-shallow: 91.20%\n",
      "Cumulative Accuracy for pot-two-handles-small: nan%\n",
      "Cumulative Accuracy for saucepan: 94.44%\n",
      "\n",
      "Mean Top 3 Accuracy (Val): 94.00%\n",
      "Mean Top 1 Accuracy (Val): 79.11%\n",
      "Macro-averaged Accuracy (Val): 83.81%\n",
      "Epoch 35 test loss: 26.890625\n",
      "\n",
      "[Test - End Epoch 36] GPU Memory: Allocated=2.30GB, Reserved=3.39GB\n",
      "\n",
      "Epoch 37/120\n",
      "[Train - Start Epoch 37] GPU Memory: Allocated=2.30GB, Reserved=3.39GB\n"
     ]
    },
    {
     "name": "stderr",
     "output_type": "stream",
     "text": [
      "\r  0%|          | 0/127.84375 [00:00<?, ?it/s]\r  1%|          | 1/127.84375 [00:07<16:11,  7.66s/it]\r  2%|▏         | 2/127.84375 [00:15<16:02,  7.65s/it]\r  2%|▏         | 3/127.84375 [00:22<15:42,  7.55s/it]\r  3%|▎         | 4/127.84375 [00:30<15:36,  7.56s/it]\r  4%|▍         | 5/127.84375 [00:38<15:34,  7.61s/it]\r  5%|▍         | 6/127.84375 [00:45<15:20,  7.56s/it]\r  5%|▌         | 7/127.84375 [00:53<15:16,  7.59s/it]\r  6%|▋         | 8/127.84375 [01:00<15:08,  7.58s/it]\r  7%|▋         | 9/127.84375 [01:08<15:01,  7.59s/it]\r  8%|▊         | 10/127.84375 [01:15<14:53,  7.58s/it]\r  9%|▊         | 11/127.84375 [01:23<14:42,  7.56s/it]\r  9%|▉         | 12/127.84375 [01:31<14:40,  7.60s/it]\r 10%|█         | 13/127.84375 [01:38<14:32,  7.60s/it]\r 11%|█         | 14/127.84375 [01:46<14:22,  7.58s/it]\r 12%|█▏        | 15/127.84375 [01:53<14:17,  7.60s/it]\r 13%|█▎        | 16/127.84375 [02:01<14:10,  7.60s/it]\r 13%|█▎        | 17/127.84375 [02:08<13:59,  7.57s/it]\r 14%|█▍        | 18/127.84375 [02:16<13:53,  7.59s/it]\r 15%|█▍        | 19/127.84375 [02:24<13:50,  7.63s/it]\r 16%|█▌        | 20/127.84375 [02:31<13:40,  7.61s/it]\r 16%|█▋        | 21/127.84375 [02:39<13:31,  7.60s/it]\r 17%|█▋        | 22/127.84375 [02:46<13:22,  7.58s/it]\r 18%|█▊        | 23/127.84375 [02:54<13:06,  7.50s/it]\r 19%|█▉        | 24/127.84375 [03:01<13:02,  7.54s/it]\r 20%|█▉        | 25/127.84375 [03:09<12:55,  7.55s/it]\r 20%|██        | 26/127.84375 [03:17<12:50,  7.56s/it]\r 21%|██        | 27/127.84375 [03:24<12:47,  7.61s/it]\r 22%|██▏       | 28/127.84375 [03:32<12:43,  7.64s/it]\r 23%|██▎       | 29/127.84375 [03:40<12:38,  7.68s/it]\r 23%|██▎       | 30/127.84375 [03:47<12:26,  7.63s/it]\r 24%|██▍       | 31/127.84375 [03:55<12:18,  7.63s/it]\r 25%|██▌       | 32/127.84375 [04:03<12:11,  7.63s/it]\r 26%|██▌       | 33/127.84375 [04:10<12:05,  7.65s/it]\r 27%|██▋       | 34/127.84375 [04:18<11:52,  7.59s/it]\r 27%|██▋       | 35/127.84375 [04:25<11:48,  7.63s/it]\r 28%|██▊       | 36/127.84375 [04:33<11:45,  7.68s/it]\r 29%|██▉       | 37/127.84375 [04:41<11:33,  7.64s/it]\r 30%|██▉       | 38/127.84375 [04:48<11:26,  7.64s/it]\r 31%|███       | 39/127.84375 [04:56<11:20,  7.66s/it]\r 31%|███▏      | 40/127.84375 [05:04<11:16,  7.70s/it]\r 32%|███▏      | 41/127.84375 [05:12<11:08,  7.69s/it]\r 33%|███▎      | 42/127.84375 [05:19<10:57,  7.65s/it]\r 34%|███▎      | 43/127.84375 [05:27<10:48,  7.65s/it]\r 34%|███▍      | 44/127.84375 [05:34<10:39,  7.62s/it]\r 35%|███▌      | 45/127.84375 [05:42<10:30,  7.61s/it]\r 36%|███▌      | 46/127.84375 [05:50<10:24,  7.63s/it]\r 37%|███▋      | 47/127.84375 [05:57<10:18,  7.65s/it]\r 38%|███▊      | 48/127.84375 [06:05<10:12,  7.67s/it]\r 38%|███▊      | 49/127.84375 [06:13<10:05,  7.68s/it]\r 39%|███▉      | 50/127.84375 [06:20<09:52,  7.61s/it]\r 40%|███▉      | 51/127.84375 [06:28<09:43,  7.59s/it]\r 41%|████      | 52/127.84375 [06:35<09:38,  7.63s/it]\r 41%|████▏     | 53/127.84375 [06:43<09:25,  7.56s/it]\r 42%|████▏     | 54/127.84375 [06:50<09:18,  7.56s/it]\r 43%|████▎     | 55/127.84375 [06:58<09:11,  7.57s/it]\r 44%|████▍     | 56/127.84375 [07:06<09:05,  7.59s/it]\r 45%|████▍     | 57/127.84375 [07:13<08:55,  7.55s/it]\r 45%|████▌     | 58/127.84375 [07:21<08:49,  7.57s/it]\r 46%|████▌     | 59/127.84375 [07:28<08:43,  7.61s/it]\r 47%|████▋     | 60/127.84375 [07:36<08:38,  7.64s/it]\r 48%|████▊     | 61/127.84375 [07:44<08:31,  7.65s/it]\r 48%|████▊     | 62/127.84375 [07:52<08:27,  7.70s/it]\r 49%|████▉     | 63/127.84375 [07:59<08:16,  7.66s/it]\r 50%|█████     | 64/127.84375 [08:07<08:07,  7.64s/it]\r 51%|█████     | 65/127.84375 [08:14<07:59,  7.64s/it]\r 52%|█████▏    | 66/127.84375 [08:22<07:46,  7.55s/it]\r 52%|█████▏    | 67/127.84375 [08:29<07:38,  7.54s/it]\r 53%|█████▎    | 68/127.84375 [08:37<07:31,  7.54s/it]\r 54%|█████▍    | 69/127.84375 [08:44<07:25,  7.58s/it]\r 55%|█████▍    | 70/127.84375 [08:52<07:17,  7.57s/it]\r 56%|█████▌    | 71/127.84375 [09:00<07:13,  7.63s/it]\r 56%|█████▋    | 72/127.84375 [09:07<07:04,  7.61s/it]\r 57%|█████▋    | 73/127.84375 [09:15<06:58,  7.63s/it]\r 58%|█████▊    | 74/127.84375 [09:23<06:50,  7.63s/it]\r 59%|█████▊    | 75/127.84375 [09:30<06:41,  7.60s/it]\r 59%|█████▉    | 76/127.84375 [09:38<06:35,  7.63s/it]\r 60%|██████    | 77/127.84375 [09:45<06:24,  7.55s/it]\r 61%|██████    | 78/127.84375 [09:53<06:16,  7.56s/it]\r 62%|██████▏   | 79/127.84375 [10:00<06:09,  7.57s/it]\r 63%|██████▎   | 80/127.84375 [10:08<06:02,  7.58s/it]\r 63%|██████▎   | 81/127.84375 [10:16<05:55,  7.60s/it]\r 64%|██████▍   | 82/127.84375 [10:23<05:50,  7.64s/it]\r 65%|██████▍   | 83/127.84375 [10:31<05:43,  7.65s/it]\r 66%|██████▌   | 84/127.84375 [10:39<05:35,  7.64s/it]\r 66%|██████▋   | 85/127.84375 [10:46<05:27,  7.64s/it]\r 67%|██████▋   | 86/127.84375 [10:54<05:20,  7.67s/it]\r 68%|██████▊   | 87/127.84375 [11:02<05:13,  7.67s/it]\r 69%|██████▉   | 88/127.84375 [11:09<05:04,  7.63s/it]\r 70%|██████▉   | 89/127.84375 [11:17<04:55,  7.62s/it]\r 70%|███████   | 90/127.84375 [11:25<04:49,  7.65s/it]\r 71%|███████   | 91/127.84375 [11:32<04:40,  7.61s/it]\r 72%|███████▏  | 92/127.84375 [11:40<04:32,  7.59s/it]\r 73%|███████▎  | 93/127.84375 [11:47<04:24,  7.60s/it]\r 74%|███████▎  | 94/127.84375 [11:55<04:18,  7.64s/it]\r 74%|███████▍  | 95/127.84375 [12:03<04:10,  7.63s/it]\r 75%|███████▌  | 96/127.84375 [12:10<04:02,  7.60s/it]\r 76%|███████▌  | 97/127.84375 [12:18<03:54,  7.59s/it]\r 77%|███████▋  | 98/127.84375 [12:25<03:48,  7.64s/it]\r 77%|███████▋  | 99/127.84375 [12:33<03:41,  7.68s/it]\r 78%|███████▊  | 100/127.84375 [12:41<03:33,  7.67s/it]\r 79%|███████▉  | 101/127.84375 [12:48<03:25,  7.65s/it]\r 80%|███████▉  | 102/127.84375 [12:56<03:18,  7.66s/it]\r 81%|████████  | 103/127.84375 [13:04<03:10,  7.68s/it]\r 81%|████████▏ | 104/127.84375 [13:11<03:02,  7.65s/it]\r 82%|████████▏ | 105/127.84375 [13:19<02:56,  7.72s/it]\r 83%|████████▎ | 106/127.84375 [13:27<02:48,  7.73s/it]\r 84%|████████▎ | 107/127.84375 [13:35<02:40,  7.70s/it]\r 84%|████████▍ | 108/127.84375 [13:42<02:32,  7.67s/it]\r 85%|████████▌ | 109/127.84375 [13:50<02:24,  7.66s/it]\r 86%|████████▌ | 110/127.84375 [13:57<02:15,  7.62s/it]\r 87%|████████▋ | 111/127.84375 [14:05<02:07,  7.58s/it]\r 88%|████████▊ | 112/127.84375 [14:13<02:00,  7.58s/it]\r 88%|████████▊ | 113/127.84375 [14:20<01:52,  7.59s/it]\r 89%|████████▉ | 114/127.84375 [14:28<01:44,  7.58s/it]\r 90%|████████▉ | 115/127.84375 [14:35<01:36,  7.52s/it]\r 91%|█████████ | 116/127.84375 [14:43<01:29,  7.57s/it]\r 92%|█████████▏| 117/127.84375 [14:50<01:22,  7.60s/it]\r 92%|█████████▏| 118/127.84375 [14:58<01:14,  7.54s/it]\r 93%|█████████▎| 119/127.84375 [15:05<01:06,  7.55s/it]\r 94%|█████████▍| 120/127.84375 [15:13<00:58,  7.52s/it]\r 95%|█████████▍| 121/127.84375 [15:21<00:51,  7.56s/it]\r 95%|█████████▌| 122/127.84375 [15:28<00:44,  7.61s/it]\r 96%|█████████▌| 123/127.84375 [15:36<00:36,  7.64s/it]\r 97%|█████████▋| 124/127.84375 [15:43<00:29,  7.58s/it]\r 98%|█████████▊| 125/127.84375 [15:51<00:21,  7.58s/it]\r 99%|█████████▊| 126/127.84375 [15:59<00:14,  7.60s/it]\r 99%|█████████▉| 127/127.84375 [16:06<00:06,  7.57s/it]/databricks/python/lib/python3.11/site-packages/tqdm/std.py:524: TqdmWarning: clamping frac to range [0, 1]\n",
      "  full_bar = Bar(frac,\n",
      "\r100%|██████████| 128/127.84375 [16:14<-1:59:59,  7.57s/it]\r129it [16:22,  7.63s/it]                                  \r130it [16:29,  7.62s/it]\r131it [16:37,  7.56s/it]\r132it [16:44,  7.57s/it]\r133it [16:52,  7.54s/it]\r134it [16:59,  7.52s/it]\r135it [17:07,  7.51s/it]\r136it [17:14,  7.54s/it]\r137it [17:22,  7.54s/it]\r138it [17:29,  7.55s/it]\r139it [17:37,  7.60s/it]\r140it [17:45,  7.64s/it]\r141it [17:52,  7.60s/it]\r142it [18:00,  7.60s/it]\r143it [18:07,  7.57s/it]\r144it [18:15,  7.60s/it]\r145it [18:23,  7.63s/it]\r146it [18:30,  7.64s/it]\r147it [18:38,  7.57s/it]\r148it [18:45,  7.55s/it]\r149it [18:53,  7.57s/it]\r150it [19:00,  7.57s/it]\r151it [19:08,  7.62s/it]\r152it [19:16,  7.65s/it]\r153it [19:23,  7.62s/it]\r154it [19:31,  7.57s/it]\r155it [19:38,  7.56s/it]\r156it [19:46,  7.59s/it]\r157it [19:54,  7.56s/it]\r158it [20:01,  7.59s/it]\r159it [20:09,  7.56s/it]\r160it [20:16,  7.54s/it]\r161it [20:24,  7.57s/it]\r162it [20:31,  7.52s/it]\r163it [20:39,  7.52s/it]\r164it [20:46,  7.49s/it]\r165it [20:54,  7.54s/it]\r166it [21:02,  7.56s/it]\r167it [21:09,  7.58s/it]\r168it [21:17,  7.55s/it]\r169it [21:24,  7.54s/it]\r170it [21:32,  7.56s/it]\r171it [21:39,  7.53s/it]\r172it [21:47,  7.58s/it]\r173it [21:54,  7.57s/it]\r174it [22:02,  7.57s/it]\r175it [22:10,  7.58s/it]\r176it [22:17,  7.59s/it]\r177it [22:25,  7.56s/it]\r178it [22:32,  7.59s/it]\r179it [22:40,  7.66s/it]\r180it [22:48,  7.68s/it]\r181it [22:56,  7.65s/it]\r182it [23:03,  7.66s/it]\r183it [23:11,  7.67s/it]\r184it [23:19,  7.67s/it]\r185it [23:26,  7.64s/it]\r186it [23:34,  7.67s/it]\r187it [23:41,  7.63s/it]\r188it [23:49,  7.67s/it]\r189it [23:57,  7.65s/it]\r190it [24:04,  7.62s/it]\r191it [24:12,  7.58s/it]\r192it [24:19,  7.52s/it]\r193it [24:27,  7.52s/it]\r194it [24:34,  7.51s/it]\r195it [24:42,  7.53s/it]\r196it [24:49,  7.54s/it]\r197it [24:57,  7.54s/it]\r198it [25:05,  7.56s/it]\r199it [25:12,  7.56s/it]\r200it [25:20,  7.60s/it]\r201it [25:27,  7.62s/it]\r202it [25:35,  7.64s/it]\r203it [25:43,  7.64s/it]\r204it [25:50,  7.63s/it]\r205it [25:58,  7.64s/it]\r206it [26:06,  7.63s/it]\r207it [26:13,  7.62s/it]\r208it [26:21,  7.63s/it]\r209it [26:29,  7.66s/it]\r210it [26:36,  7.64s/it]\r211it [26:44,  7.65s/it]\r212it [26:51,  7.63s/it]\r213it [26:59,  7.65s/it]\r214it [27:07,  7.58s/it]\r215it [27:14,  7.56s/it]\r216it [27:22,  7.57s/it]\r217it [27:29,  7.57s/it]\r218it [27:37,  7.59s/it]\r219it [27:45,  7.60s/it]\r220it [27:52,  7.61s/it]\r221it [28:00,  7.64s/it]\r222it [28:07,  7.62s/it]\r223it [28:15,  7.64s/it]\r224it [28:23,  7.66s/it]\r225it [28:31,  7.69s/it]\r226it [28:38,  7.73s/it]\r227it [28:46,  7.70s/it]\r228it [28:54,  7.67s/it]\r229it [29:01,  7.63s/it]\r230it [29:09,  7.64s/it]\r231it [29:16,  7.64s/it]\r232it [29:24,  7.64s/it]\r233it [29:32,  7.63s/it]\r234it [29:39,  7.66s/it]\r235it [29:47,  7.66s/it]\r236it [29:55,  7.61s/it]\r237it [30:02,  7.58s/it]\r238it [30:10,  7.63s/it]\r239it [30:17,  7.55s/it]\r240it [30:25,  7.55s/it]\r240it [30:25,  7.61s/it]\n"
     ]
    },
    {
     "name": "stdout",
     "output_type": "stream",
     "text": [
      "Epoch 36 train loss: 0.05096435546875\n",
      "[Train - End / Test - Start Epoch 37] GPU Memory: Allocated=2.30GB, Reserved=3.39GB\n"
     ]
    },
    {
     "name": "stderr",
     "output_type": "stream",
     "text": [
      "\r  0%|          | 0/14.1875 [00:00<?, ?it/s]\r  7%|▋         | 1/14.1875 [00:06<01:27,  6.65s/it]\r 14%|█▍        | 2/14.1875 [00:13<01:21,  6.70s/it]\r 21%|██        | 3/14.1875 [00:20<01:14,  6.67s/it]\r 28%|██▊       | 4/14.1875 [00:26<01:07,  6.66s/it]\r 35%|███▌      | 5/14.1875 [00:33<01:00,  6.60s/it]\r 42%|████▏     | 6/14.1875 [00:39<00:53,  6.59s/it]\r 49%|████▉     | 7/14.1875 [00:46<00:47,  6.62s/it]\r 56%|█████▋    | 8/14.1875 [00:53<00:41,  6.68s/it]\r 63%|██████▎   | 9/14.1875 [00:59<00:34,  6.69s/it]\r 70%|███████   | 10/14.1875 [01:06<00:27,  6.66s/it]\r 78%|███████▊  | 11/14.1875 [01:13<00:21,  6.66s/it]\r 85%|████████▍ | 12/14.1875 [01:19<00:14,  6.68s/it]\r 92%|█████████▏| 13/14.1875 [01:26<00:07,  6.70s/it]\r 99%|█████████▊| 14/14.1875 [01:33<00:01,  6.64s/it]\r15it [01:39,  6.65s/it]                             \r16it [01:46,  6.65s/it]\r17it [01:53,  6.65s/it]\r18it [01:59,  6.65s/it]\r19it [02:06,  6.62s/it]\r20it [02:12,  6.63s/it]\r21it [02:19,  6.67s/it]\r22it [02:26,  6.66s/it]\r23it [02:33,  6.68s/it]\r24it [02:39,  6.70s/it]\r25it [02:46,  6.67s/it]\r26it [02:53,  6.67s/it]\r27it [02:59,  6.65s/it]\r28it [03:06,  6.67s/it]\r29it [03:13,  6.66s/it]\r30it [03:19,  6.67s/it]\r30it [03:19,  6.66s/it]\n"
     ]
    },
    {
     "name": "stdout",
     "output_type": "stream",
     "text": [
      "Cumulative Accuracy for CP: 69.64%\n",
      "Cumulative Accuracy for chopping-board: 92.16%\n",
      "Cumulative Accuracy for finalstep: 90.45%\n",
      "Cumulative Accuracy for glass-bowl-large: 75.41%\n",
      "Cumulative Accuracy for glass-bowl-medium: 71.08%\n",
      "Cumulative Accuracy for glass-bowl-small: 37.57%\n",
      "Cumulative Accuracy for grill-plate: nan%\n",
      "Cumulative Accuracy for group_step: 76.67%\n",
      "Cumulative Accuracy for medium: 90.81%\n",
      "Cumulative Accuracy for oven-dish: 96.40%\n",
      "Cumulative Accuracy for oven-tray: 95.95%\n",
      "Cumulative Accuracy for pan: 100.00%\n",
      "Cumulative Accuracy for pot-one-handle: 97.66%\n",
      "Cumulative Accuracy for pot-two-handles-medium: 78.11%\n",
      "Cumulative Accuracy for pot-two-handles-shallow: 90.09%\n",
      "Cumulative Accuracy for pot-two-handles-small: nan%\n",
      "Cumulative Accuracy for saucepan: 94.59%\n",
      "\n",
      "Mean Top 3 Accuracy (Val): 89.56%\n",
      "Mean Top 1 Accuracy (Val): 82.44%\n",
      "Macro-averaged Accuracy (Val): 83.77%\n",
      "Epoch 36 test loss: 27.296875\n",
      "\n",
      "[Test - End Epoch 37] GPU Memory: Allocated=2.30GB, Reserved=3.39GB\n",
      "\n",
      "Epoch 38/120\n",
      "[Train - Start Epoch 38] GPU Memory: Allocated=2.30GB, Reserved=3.39GB\n"
     ]
    },
    {
     "name": "stderr",
     "output_type": "stream",
     "text": [
      "\r  0%|          | 0/127.84375 [00:00<?, ?it/s]\r  1%|          | 1/127.84375 [00:07<15:59,  7.56s/it]\r  2%|▏         | 2/127.84375 [00:15<15:52,  7.57s/it]\r  2%|▏         | 3/127.84375 [00:22<15:43,  7.56s/it]\r  3%|▎         | 4/127.84375 [00:30<15:43,  7.61s/it]\r  4%|▍         | 5/127.84375 [00:37<15:31,  7.58s/it]\r  5%|▍         | 6/127.84375 [00:45<15:26,  7.61s/it]\r  5%|▌         | 7/127.84375 [00:53<15:19,  7.61s/it]\r  6%|▋         | 8/127.84375 [01:00<15:17,  7.65s/it]\r  7%|▋         | 9/127.84375 [01:08<15:11,  7.67s/it]\r  8%|▊         | 10/127.84375 [01:16<15:06,  7.69s/it]\r  9%|▊         | 11/127.84375 [01:24<15:00,  7.70s/it]\r  9%|▉         | 12/127.84375 [01:31<14:48,  7.67s/it]\r 10%|█         | 13/127.84375 [01:39<14:38,  7.65s/it]\r 11%|█         | 14/127.84375 [01:46<14:30,  7.65s/it]\r 12%|█▏        | 15/127.84375 [01:54<14:17,  7.60s/it]\r 13%|█▎        | 16/127.84375 [02:02<14:17,  7.66s/it]\r 13%|█▎        | 17/127.84375 [02:09<14:08,  7.66s/it]\r 14%|█▍        | 18/127.84375 [02:18<14:16,  7.80s/it]\r 15%|█▍        | 19/127.84375 [02:25<14:03,  7.75s/it]\r 16%|█▌        | 20/127.84375 [02:33<13:47,  7.68s/it]\r 16%|█▋        | 21/127.84375 [02:40<13:41,  7.69s/it]\r 17%|█▋        | 22/127.84375 [02:48<13:31,  7.67s/it]\r 18%|█▊        | 23/127.84375 [02:56<13:22,  7.66s/it]\r 19%|█▉        | 24/127.84375 [03:03<13:17,  7.68s/it]\r 20%|█▉        | 25/127.84375 [03:11<13:10,  7.68s/it]\r 20%|██        | 26/127.84375 [03:19<12:57,  7.64s/it]\r 21%|██        | 27/127.84375 [03:26<12:51,  7.65s/it]\r 22%|██▏       | 28/127.84375 [03:34<12:42,  7.64s/it]\r 23%|██▎       | 29/127.84375 [03:42<12:39,  7.69s/it]\r 23%|██▎       | 30/127.84375 [03:49<12:29,  7.66s/it]\r 24%|██▍       | 31/127.84375 [03:57<12:24,  7.69s/it]\r 25%|██▌       | 32/127.84375 [04:04<12:08,  7.60s/it]\r 26%|██▌       | 33/127.84375 [04:12<12:05,  7.64s/it]\r 27%|██▋       | 34/127.84375 [04:20<11:54,  7.61s/it]\r 27%|██▋       | 35/127.84375 [04:27<11:47,  7.62s/it]\r 28%|██▊       | 36/127.84375 [04:35<11:37,  7.59s/it]\r 29%|██▉       | 37/127.84375 [04:42<11:30,  7.60s/it]\r 30%|██▉       | 38/127.84375 [04:50<11:20,  7.58s/it]\r 31%|███       | 39/127.84375 [04:58<11:13,  7.58s/it]\r 31%|███▏      | 40/127.84375 [05:05<11:11,  7.64s/it]\r 32%|███▏      | 41/127.84375 [05:13<11:00,  7.60s/it]\r 33%|███▎      | 42/127.84375 [05:20<10:50,  7.58s/it]\r 34%|███▎      | 43/127.84375 [05:28<10:44,  7.59s/it]\r 34%|███▍      | 44/127.84375 [05:36<10:34,  7.57s/it]\r 35%|███▌      | 45/127.84375 [05:43<10:28,  7.58s/it]\r 36%|███▌      | 46/127.84375 [05:51<10:16,  7.54s/it]\r 37%|███▋      | 47/127.84375 [05:58<10:10,  7.55s/it]\r 38%|███▊      | 48/127.84375 [06:06<10:03,  7.55s/it]\r 38%|███▊      | 49/127.84375 [06:13<09:56,  7.57s/it]\r 39%|███▉      | 50/127.84375 [06:21<09:51,  7.60s/it]\r 40%|███▉      | 51/127.84375 [06:29<09:43,  7.59s/it]\r 41%|████      | 52/127.84375 [06:36<09:37,  7.61s/it]\r 41%|████▏     | 53/127.84375 [06:44<09:28,  7.60s/it]\r 42%|████▏     | 54/127.84375 [06:51<09:19,  7.58s/it]\r 43%|████▎     | 55/127.84375 [06:59<09:12,  7.59s/it]\r 44%|████▍     | 56/127.84375 [07:07<09:08,  7.63s/it]\r 45%|████▍     | 57/127.84375 [07:14<09:04,  7.68s/it]\r 45%|████▌     | 58/127.84375 [07:22<08:53,  7.63s/it]\r 46%|████▌     | 59/127.84375 [07:30<08:46,  7.64s/it]\r 47%|████▋     | 60/127.84375 [07:37<08:38,  7.64s/it]\r 48%|████▊     | 61/127.84375 [07:45<08:28,  7.61s/it]\r 48%|████▊     | 62/127.84375 [07:52<08:20,  7.60s/it]\r 49%|████▉     | 63/127.84375 [08:00<08:11,  7.59s/it]\r 50%|█████     | 64/127.84375 [08:08<08:04,  7.59s/it]\r 51%|█████     | 65/127.84375 [08:15<07:55,  7.57s/it]\r 52%|█████▏    | 66/127.84375 [08:23<07:50,  7.61s/it]\r 52%|█████▏    | 67/127.84375 [08:30<07:42,  7.61s/it]\r 53%|█████▎    | 68/127.84375 [08:38<07:31,  7.55s/it]\r 54%|█████▍    | 69/127.84375 [08:45<07:24,  7.55s/it]\r 55%|█████▍    | 70/127.84375 [08:53<07:16,  7.54s/it]\r 56%|█████▌    | 71/127.84375 [09:01<07:10,  7.58s/it]\r 56%|█████▋    | 72/127.84375 [09:08<07:05,  7.63s/it]\r 57%|█████▋    | 73/127.84375 [09:16<06:57,  7.61s/it]\r 58%|█████▊    | 74/127.84375 [09:24<06:50,  7.62s/it]\r 59%|█████▊    | 75/127.84375 [09:31<06:45,  7.66s/it]\r 59%|█████▉    | 76/127.84375 [09:39<06:38,  7.68s/it]\r 60%|██████    | 77/127.84375 [09:47<06:29,  7.66s/it]\r 61%|██████    | 78/127.84375 [09:54<06:18,  7.60s/it]\r 62%|██████▏   | 79/127.84375 [10:02<06:09,  7.57s/it]\r 63%|██████▎   | 80/127.84375 [10:09<06:06,  7.67s/it]\r 63%|██████▎   | 81/127.84375 [10:17<05:55,  7.58s/it]\r 64%|██████▍   | 82/127.84375 [10:24<05:45,  7.54s/it]\r 65%|██████▍   | 83/127.84375 [10:32<05:40,  7.58s/it]\r 66%|██████▌   | 84/127.84375 [10:40<05:34,  7.62s/it]\r 66%|██████▋   | 85/127.84375 [10:47<05:26,  7.62s/it]\r 67%|██████▋   | 86/127.84375 [10:55<05:19,  7.63s/it]\r 68%|██████▊   | 87/127.84375 [11:03<05:12,  7.64s/it]\r 69%|██████▉   | 88/127.84375 [11:10<05:01,  7.56s/it]\r 70%|██████▉   | 89/127.84375 [11:18<04:54,  7.59s/it]\r 70%|███████   | 90/127.84375 [11:25<04:47,  7.60s/it]\r 71%|███████   | 91/127.84375 [11:33<04:39,  7.59s/it]\r 72%|███████▏  | 92/127.84375 [11:41<04:33,  7.62s/it]\r 73%|███████▎  | 93/127.84375 [11:48<04:25,  7.63s/it]\r 74%|███████▎  | 94/127.84375 [11:56<04:16,  7.57s/it]\r 74%|███████▍  | 95/127.84375 [12:03<04:10,  7.61s/it]\r 75%|███████▌  | 96/127.84375 [12:11<04:02,  7.63s/it]\r 76%|███████▌  | 97/127.84375 [12:19<03:57,  7.68s/it]\r 77%|███████▋  | 98/127.84375 [12:26<03:48,  7.65s/it]\r 77%|███████▋  | 99/127.84375 [12:34<03:40,  7.64s/it]\r 78%|███████▊  | 100/127.84375 [12:42<03:32,  7.65s/it]\r 79%|███████▉  | 101/127.84375 [12:49<03:24,  7.61s/it]\r 80%|███████▉  | 102/127.84375 [12:57<03:17,  7.65s/it]\r 81%|████████  | 103/127.84375 [13:05<03:10,  7.66s/it]\r 81%|████████▏ | 104/127.84375 [13:12<03:02,  7.65s/it]\r 82%|████████▏ | 105/127.84375 [13:20<02:54,  7.62s/it]\r 83%|████████▎ | 106/127.84375 [13:27<02:46,  7.64s/it]\r 84%|████████▎ | 107/127.84375 [13:35<02:39,  7.64s/it]\r 84%|████████▍ | 108/127.84375 [13:43<02:30,  7.59s/it]\r 85%|████████▌ | 109/127.84375 [13:50<02:23,  7.61s/it]\r 86%|████████▌ | 110/127.84375 [13:58<02:16,  7.63s/it]\r 87%|████████▋ | 111/127.84375 [14:06<02:08,  7.63s/it]\r 88%|████████▊ | 112/127.84375 [14:13<02:01,  7.65s/it]\r 88%|████████▊ | 113/127.84375 [14:21<01:53,  7.66s/it]\r 89%|████████▉ | 114/127.84375 [14:29<01:45,  7.64s/it]\r 90%|████████▉ | 115/127.84375 [14:36<01:38,  7.64s/it]\r 91%|█████████ | 116/127.84375 [14:44<01:30,  7.60s/it]\r 92%|█████████▏| 117/127.84375 [14:51<01:22,  7.61s/it]\r 92%|█████████▏| 118/127.84375 [14:59<01:15,  7.63s/it]\r 93%|█████████▎| 119/127.84375 [15:07<01:07,  7.63s/it]\r 94%|█████████▍| 120/127.84375 [15:14<00:59,  7.61s/it]\r 95%|█████████▍| 121/127.84375 [15:22<00:52,  7.65s/it]\r 95%|█████████▌| 122/127.84375 [15:30<00:44,  7.64s/it]\r 96%|█████████▌| 123/127.84375 [15:37<00:36,  7.63s/it]\r 97%|█████████▋| 124/127.84375 [15:45<00:29,  7.61s/it]\r 98%|█████████▊| 125/127.84375 [15:52<00:21,  7.59s/it]\r 99%|█████████▊| 126/127.84375 [16:00<00:14,  7.60s/it]\r 99%|█████████▉| 127/127.84375 [16:08<00:06,  7.64s/it]/databricks/python/lib/python3.11/site-packages/tqdm/std.py:524: TqdmWarning: clamping frac to range [0, 1]\n",
      "  full_bar = Bar(frac,\n",
      "\r100%|██████████| 128/127.84375 [16:15<-1:59:59,  7.63s/it]\r129it [16:23,  7.57s/it]                                  \r130it [16:30,  7.61s/it]\r131it [16:38,  7.59s/it]\r132it [16:46,  7.63s/it]\r133it [16:53,  7.65s/it]\r134it [17:01,  7.61s/it]\r135it [17:09,  7.64s/it]\r136it [17:16,  7.64s/it]\r137it [17:24,  7.62s/it]\r138it [17:31,  7.61s/it]\r139it [17:39,  7.63s/it]\r140it [17:47,  7.68s/it]\r141it [17:55,  7.70s/it]\r142it [18:02,  7.71s/it]\r143it [18:10,  7.63s/it]\r144it [18:17,  7.61s/it]\r145it [18:25,  7.61s/it]\r146it [18:33,  7.62s/it]\r147it [18:40,  7.65s/it]\r148it [18:48,  7.64s/it]\r149it [18:56,  7.67s/it]\r150it [19:03,  7.64s/it]\r151it [19:11,  7.66s/it]\r152it [19:19,  7.69s/it]\r153it [19:26,  7.69s/it]\r154it [19:34,  7.70s/it]\r155it [19:42,  7.69s/it]\r156it [19:49,  7.67s/it]\r157it [19:57,  7.67s/it]\r158it [20:05,  7.65s/it]\r159it [20:12,  7.63s/it]\r160it [20:20,  7.60s/it]\r161it [20:27,  7.60s/it]\r162it [20:35,  7.59s/it]\r163it [20:43,  7.60s/it]\r164it [20:50,  7.61s/it]\r165it [20:58,  7.65s/it]\r166it [21:06,  7.66s/it]\r167it [21:13,  7.64s/it]\r168it [21:21,  7.62s/it]\r169it [21:28,  7.64s/it]\r170it [21:36,  7.62s/it]\r171it [21:44,  7.61s/it]\r172it [21:51,  7.56s/it]\r173it [21:59,  7.61s/it]\r174it [22:06,  7.60s/it]\r175it [22:14,  7.62s/it]\r176it [22:22,  7.63s/it]\r177it [22:29,  7.61s/it]\r178it [22:37,  7.64s/it]\r179it [22:45,  7.67s/it]\r180it [22:52,  7.63s/it]\r181it [23:00,  7.61s/it]\r182it [23:08,  7.63s/it]\r183it [23:15,  7.60s/it]\r184it [23:23,  7.62s/it]\r185it [23:30,  7.64s/it]\r186it [23:38,  7.67s/it]\r187it [23:46,  7.68s/it]\r188it [23:54,  7.68s/it]\r189it [24:01,  7.65s/it]\r190it [24:09,  7.65s/it]\r191it [24:16,  7.65s/it]\r192it [24:24,  7.58s/it]\r193it [24:31,  7.59s/it]\r194it [24:39,  7.64s/it]\r195it [24:47,  7.64s/it]\r196it [24:54,  7.60s/it]\r197it [25:02,  7.61s/it]\r198it [25:09,  7.58s/it]\r199it [25:17,  7.59s/it]\r200it [25:25,  7.64s/it]\r201it [25:33,  7.67s/it]\r202it [25:40,  7.70s/it]\r203it [25:48,  7.63s/it]\r204it [25:55,  7.62s/it]\r205it [26:03,  7.61s/it]\r206it [26:11,  7.61s/it]\r207it [26:18,  7.60s/it]\r208it [26:26,  7.63s/it]\r209it [26:34,  7.67s/it]\r210it [26:41,  7.62s/it]\r211it [26:49,  7.59s/it]\r212it [26:56,  7.59s/it]\r213it [27:04,  7.58s/it]\r214it [27:11,  7.60s/it]\r215it [27:19,  7.63s/it]\r216it [27:27,  7.64s/it]\r217it [27:34,  7.60s/it]\r218it [27:42,  7.61s/it]\r219it [27:50,  7.63s/it]\r220it [27:57,  7.62s/it]\r221it [28:05,  7.59s/it]\r222it [28:12,  7.59s/it]\r223it [28:20,  7.55s/it]\r224it [28:27,  7.55s/it]\r225it [28:35,  7.62s/it]\r226it [28:43,  7.64s/it]\r227it [28:50,  7.63s/it]\r228it [28:58,  7.63s/it]\r229it [29:06,  7.59s/it]\r230it [29:13,  7.62s/it]\r231it [29:21,  7.64s/it]\r232it [29:29,  7.62s/it]\r233it [29:36,  7.60s/it]\r234it [29:44,  7.61s/it]\r235it [29:51,  7.61s/it]\r236it [29:59,  7.57s/it]\r237it [30:07,  7.62s/it]\r238it [30:15,  7.72s/it]\r239it [30:22,  7.77s/it]\r240it [30:30,  7.66s/it]\r240it [30:30,  7.63s/it]\n"
     ]
    },
    {
     "name": "stdout",
     "output_type": "stream",
     "text": [
      "Epoch 37 train loss: 0.0648193359375\n",
      "[Train - End / Test - Start Epoch 38] GPU Memory: Allocated=2.30GB, Reserved=3.39GB\n"
     ]
    },
    {
     "name": "stderr",
     "output_type": "stream",
     "text": [
      "\r  0%|          | 0/14.1875 [00:00<?, ?it/s]\r  7%|▋         | 1/14.1875 [00:06<01:27,  6.65s/it]\r 14%|█▍        | 2/14.1875 [00:13<01:20,  6.57s/it]\r 21%|██        | 3/14.1875 [00:19<01:13,  6.61s/it]\r 28%|██▊       | 4/14.1875 [00:26<01:07,  6.60s/it]\r 35%|███▌      | 5/14.1875 [00:33<01:01,  6.65s/it]\r 42%|████▏     | 6/14.1875 [00:39<00:54,  6.69s/it]\r 49%|████▉     | 7/14.1875 [00:46<00:48,  6.70s/it]\r 56%|█████▋    | 8/14.1875 [00:53<00:41,  6.73s/it]\r 63%|██████▎   | 9/14.1875 [01:00<00:35,  6.78s/it]\r 70%|███████   | 10/14.1875 [01:06<00:28,  6.71s/it]\r 78%|███████▊  | 11/14.1875 [01:13<00:21,  6.64s/it]\r 85%|████████▍ | 12/14.1875 [01:19<00:14,  6.59s/it]\r 92%|█████████▏| 13/14.1875 [01:26<00:07,  6.55s/it]\r 99%|█████████▊| 14/14.1875 [01:32<00:01,  6.59s/it]\r15it [01:39,  6.62s/it]                             \r16it [01:46,  6.61s/it]\r17it [01:52,  6.63s/it]\r18it [01:59,  6.66s/it]\r19it [02:06,  6.66s/it]\r20it [02:13,  6.68s/it]\r21it [02:19,  6.64s/it]\r22it [02:26,  6.60s/it]\r23it [02:32,  6.64s/it]\r24it [02:39,  6.71s/it]\r25it [02:46,  6.71s/it]\r26it [02:52,  6.67s/it]\r27it [02:59,  6.68s/it]\r28it [03:06,  6.71s/it]\r29it [03:13,  6.74s/it]\r30it [03:19,  6.66s/it]\r30it [03:19,  6.66s/it]\n"
     ]
    },
    {
     "name": "stdout",
     "output_type": "stream",
     "text": [
      "Cumulative Accuracy for CP: 69.82%\n",
      "Cumulative Accuracy for chopping-board: 92.28%\n",
      "Cumulative Accuracy for finalstep: 90.26%\n",
      "Cumulative Accuracy for glass-bowl-large: 75.44%\n",
      "Cumulative Accuracy for glass-bowl-medium: 71.58%\n",
      "Cumulative Accuracy for glass-bowl-small: 37.11%\n",
      "Cumulative Accuracy for grill-plate: nan%\n",
      "Cumulative Accuracy for group_step: 76.84%\n",
      "Cumulative Accuracy for medium: 90.18%\n",
      "Cumulative Accuracy for oven-dish: 96.49%\n",
      "Cumulative Accuracy for oven-tray: 95.96%\n",
      "Cumulative Accuracy for pan: 100.00%\n",
      "Cumulative Accuracy for pot-one-handle: 97.28%\n",
      "Cumulative Accuracy for pot-two-handles-medium: 78.33%\n",
      "Cumulative Accuracy for pot-two-handles-shallow: 89.47%\n",
      "Cumulative Accuracy for pot-two-handles-small: nan%\n",
      "Cumulative Accuracy for saucepan: 94.74%\n",
      "\n",
      "Mean Top 3 Accuracy (Val): 95.56%\n",
      "Mean Top 1 Accuracy (Val): 81.78%\n",
      "Macro-averaged Accuracy (Val): 83.72%\n",
      "Epoch 37 test loss: 23.15625\n",
      "\n",
      "[Test - End Epoch 38] GPU Memory: Allocated=2.30GB, Reserved=3.39GB\n",
      "\n",
      "Epoch 39/120\n",
      "[Train - Start Epoch 39] GPU Memory: Allocated=2.30GB, Reserved=3.39GB\n"
     ]
    },
    {
     "name": "stderr",
     "output_type": "stream",
     "text": [
      "\r  0%|          | 0/127.84375 [00:00<?, ?it/s]\r  1%|          | 1/127.84375 [00:07<16:00,  7.57s/it]\r  2%|▏         | 2/127.84375 [00:15<15:52,  7.57s/it]\r  2%|▏         | 3/127.84375 [00:22<15:49,  7.61s/it]\r  3%|▎         | 4/127.84375 [00:30<15:47,  7.65s/it]\r  4%|▍         | 5/127.84375 [00:38<15:43,  7.68s/it]\r  5%|▍         | 6/127.84375 [00:45<15:37,  7.70s/it]\r  5%|▌         | 7/127.84375 [00:53<15:22,  7.63s/it]\r  6%|▋         | 8/127.84375 [01:01<15:20,  7.68s/it]\r  7%|▋         | 9/127.84375 [01:08<15:12,  7.67s/it]\r  8%|▊         | 10/127.84375 [01:16<15:06,  7.70s/it]\r  9%|▊         | 11/127.84375 [01:24<15:03,  7.73s/it]\r  9%|▉         | 12/127.84375 [01:31<14:45,  7.65s/it]\r 10%|█         | 13/127.84375 [01:39<14:33,  7.61s/it]\r 11%|█         | 14/127.84375 [01:47<14:27,  7.62s/it]\r 12%|█▏        | 15/127.84375 [01:54<14:21,  7.63s/it]\r 13%|█▎        | 16/127.84375 [02:02<14:14,  7.64s/it]\r 13%|█▎        | 17/127.84375 [02:10<14:09,  7.66s/it]\r 14%|█▍        | 18/127.84375 [02:17<13:58,  7.64s/it]\r 15%|█▍        | 19/127.84375 [02:25<13:56,  7.69s/it]\r 16%|█▌        | 20/127.84375 [02:33<13:48,  7.68s/it]\r 16%|█▋        | 21/127.84375 [02:40<13:37,  7.65s/it]\r 17%|█▋        | 22/127.84375 [02:48<13:32,  7.67s/it]\r 18%|█▊        | 23/127.84375 [02:56<13:22,  7.66s/it]\r 19%|█▉        | 24/127.84375 [03:03<13:10,  7.61s/it]\r 20%|█▉        | 25/127.84375 [03:11<13:05,  7.64s/it]\r 20%|██        | 26/127.84375 [03:19<13:03,  7.69s/it]\r 21%|██        | 27/127.84375 [03:26<12:56,  7.70s/it]\r 22%|██▏       | 28/127.84375 [03:34<12:50,  7.71s/it]\r 23%|██▎       | 29/127.84375 [03:42<12:43,  7.73s/it]\r 23%|██▎       | 30/127.84375 [03:50<12:36,  7.73s/it]\r 24%|██▍       | 31/127.84375 [03:57<12:24,  7.69s/it]\r 25%|██▌       | 32/127.84375 [04:05<12:11,  7.63s/it]\r 26%|██▌       | 33/127.84375 [04:12<12:00,  7.60s/it]\r 27%|██▋       | 34/127.84375 [04:20<11:51,  7.59s/it]\r 27%|██▋       | 35/127.84375 [04:27<11:46,  7.61s/it]\r 28%|██▊       | 36/127.84375 [04:35<11:37,  7.59s/it]\r 29%|██▉       | 37/127.84375 [04:43<11:29,  7.59s/it]\r 30%|██▉       | 38/127.84375 [04:51<11:37,  7.77s/it]\r 31%|███       | 39/127.84375 [04:58<11:20,  7.67s/it]\r 31%|███▏      | 40/127.84375 [05:06<11:08,  7.61s/it]\r 32%|███▏      | 41/127.84375 [05:13<11:02,  7.63s/it]\r 33%|███▎      | 42/127.84375 [05:21<10:54,  7.63s/it]\r 34%|███▎      | 43/127.84375 [05:28<10:43,  7.59s/it]\r 34%|███▍      | 44/127.84375 [05:36<10:33,  7.56s/it]\r 35%|███▌      | 45/127.84375 [05:44<10:27,  7.58s/it]\r 36%|███▌      | 46/127.84375 [05:51<10:27,  7.67s/it]\r 37%|███▋      | 47/127.84375 [05:59<10:21,  7.69s/it]\r 38%|███▊      | 48/127.84375 [06:08<10:31,  7.91s/it]\r 38%|███▊      | 49/127.84375 [06:15<10:17,  7.83s/it]\r 39%|███▉      | 50/127.84375 [06:23<10:04,  7.76s/it]\r 40%|███▉      | 51/127.84375 [06:31<09:55,  7.75s/it]\r 41%|████      | 52/127.84375 [06:38<09:46,  7.73s/it]\r 41%|████▏     | 53/127.84375 [06:46<09:32,  7.65s/it]\r 42%|████▏     | 54/127.84375 [06:53<09:28,  7.69s/it]\r 43%|████▎     | 55/127.84375 [07:01<09:17,  7.65s/it]\r 44%|████▍     | 56/127.84375 [07:08<09:04,  7.58s/it]\r 45%|████▍     | 57/127.84375 [07:16<09:01,  7.65s/it]\r 45%|████▌     | 58/127.84375 [07:24<08:54,  7.65s/it]\r 46%|████▌     | 59/127.84375 [07:31<08:44,  7.62s/it]\r 47%|████▋     | 60/127.84375 [07:39<08:39,  7.65s/it]\r 48%|████▊     | 61/127.84375 [07:47<08:29,  7.62s/it]\r 48%|████▊     | 62/127.84375 [07:54<08:20,  7.61s/it]\r 49%|████▉     | 63/127.84375 [08:02<08:15,  7.64s/it]\r 50%|█████     | 64/127.84375 [08:10<08:08,  7.65s/it]\r 51%|█████     | 65/127.84375 [08:17<07:58,  7.61s/it]\r 52%|█████▏    | 66/127.84375 [08:25<07:52,  7.64s/it]\r 52%|█████▏    | 67/127.84375 [08:33<07:44,  7.64s/it]\r 53%|█████▎    | 68/127.84375 [08:40<07:34,  7.59s/it]\r 54%|█████▍    | 69/127.84375 [08:48<07:26,  7.59s/it]\r 55%|█████▍    | 70/127.84375 [08:55<07:23,  7.67s/it]\r 56%|█████▌    | 71/127.84375 [09:03<07:15,  7.66s/it]\r 56%|█████▋    | 72/127.84375 [09:11<07:09,  7.69s/it]\r 57%|█████▋    | 73/127.84375 [09:19<07:01,  7.69s/it]\r 58%|█████▊    | 74/127.84375 [09:26<06:53,  7.68s/it]\r 59%|█████▊    | 75/127.84375 [09:34<06:44,  7.65s/it]\r 59%|█████▉    | 76/127.84375 [09:42<06:38,  7.69s/it]\r 60%|██████    | 77/127.84375 [09:49<06:27,  7.62s/it]\r 61%|██████    | 78/127.84375 [09:57<06:23,  7.70s/it]\r 62%|██████▏   | 79/127.84375 [10:05<06:14,  7.68s/it]\r 63%|██████▎   | 80/127.84375 [10:12<06:09,  7.73s/it]\r 63%|██████▎   | 81/127.84375 [10:20<06:02,  7.73s/it]\r 64%|██████▍   | 82/127.84375 [10:28<05:51,  7.68s/it]\r 65%|██████▍   | 83/127.84375 [10:35<05:42,  7.63s/it]\r 66%|██████▌   | 84/127.84375 [10:43<05:35,  7.65s/it]\r 66%|██████▋   | 85/127.84375 [10:50<05:26,  7.62s/it]\r 67%|██████▋   | 86/127.84375 [10:58<05:20,  7.67s/it]\r 68%|██████▊   | 87/127.84375 [11:06<05:12,  7.64s/it]\r 69%|██████▉   | 88/127.84375 [11:13<05:04,  7.64s/it]\r 70%|██████▉   | 89/127.84375 [11:21<04:58,  7.68s/it]\r 70%|███████   | 90/127.84375 [11:29<04:46,  7.57s/it]\r 71%|███████   | 91/127.84375 [11:36<04:40,  7.60s/it]\r 72%|███████▏  | 92/127.84375 [11:44<04:31,  7.57s/it]\r 73%|███████▎  | 93/127.84375 [11:51<04:23,  7.56s/it]\r 74%|███████▎  | 94/127.84375 [11:59<04:19,  7.66s/it]\r 74%|███████▍  | 95/127.84375 [12:07<04:12,  7.68s/it]\r 75%|███████▌  | 96/127.84375 [12:15<04:03,  7.66s/it]\r 76%|███████▌  | 97/127.84375 [12:22<03:55,  7.64s/it]\r 77%|███████▋  | 98/127.84375 [12:30<03:47,  7.64s/it]\r 77%|███████▋  | 99/127.84375 [12:37<03:39,  7.61s/it]\r 78%|███████▊  | 100/127.84375 [12:45<03:32,  7.63s/it]\r 79%|███████▉  | 101/127.84375 [12:53<03:25,  7.64s/it]\r 80%|███████▉  | 102/127.84375 [13:00<03:17,  7.64s/it]\r 81%|████████  | 103/127.84375 [13:08<03:09,  7.65s/it]\r 81%|████████▏ | 104/127.84375 [13:15<03:00,  7.58s/it]\r 82%|████████▏ | 105/127.84375 [13:23<02:53,  7.60s/it]\r 83%|████████▎ | 106/127.84375 [13:30<02:44,  7.54s/it]\r 84%|████████▎ | 107/127.84375 [13:38<02:38,  7.58s/it]\r 84%|████████▍ | 108/127.84375 [13:46<02:30,  7.59s/it]\r 85%|████████▌ | 109/127.84375 [13:53<02:23,  7.59s/it]\r 86%|████████▌ | 110/127.84375 [14:01<02:15,  7.60s/it]\r 87%|████████▋ | 111/127.84375 [14:09<02:08,  7.62s/it]\r 88%|████████▊ | 112/127.84375 [14:16<02:01,  7.65s/it]\r 88%|████████▊ | 113/127.84375 [14:24<01:53,  7.63s/it]\r 89%|████████▉ | 114/127.84375 [14:31<01:44,  7.58s/it]\r 90%|████████▉ | 115/127.84375 [14:39<01:37,  7.60s/it]\r 91%|█████████ | 116/127.84375 [14:47<01:30,  7.63s/it]\r 92%|█████████▏| 117/127.84375 [14:54<01:23,  7.67s/it]\r 92%|█████████▏| 118/127.84375 [15:02<01:15,  7.67s/it]\r 93%|█████████▎| 119/127.84375 [15:10<01:08,  7.74s/it]\r 94%|█████████▍| 120/127.84375 [15:18<01:00,  7.74s/it]\r 95%|█████████▍| 121/127.84375 [15:25<00:52,  7.69s/it]\r 95%|█████████▌| 122/127.84375 [15:33<00:44,  7.70s/it]\r 96%|█████████▌| 123/127.84375 [15:41<00:37,  7.71s/it]\r 97%|█████████▋| 124/127.84375 [15:48<00:29,  7.67s/it]\r 98%|█████████▊| 125/127.84375 [15:56<00:21,  7.64s/it]\r 99%|█████████▊| 126/127.84375 [16:04<00:14,  7.68s/it]\r 99%|█████████▉| 127/127.84375 [16:11<00:06,  7.65s/it]/databricks/python/lib/python3.11/site-packages/tqdm/std.py:524: TqdmWarning: clamping frac to range [0, 1]\n",
      "  full_bar = Bar(frac,\n",
      "\r100%|██████████| 128/127.84375 [16:19<-1:59:59,  7.63s/it]\r129it [16:26,  7.63s/it]                                  \r130it [16:34,  7.61s/it]\r131it [16:42,  7.60s/it]\r132it [16:49,  7.60s/it]\r133it [16:57,  7.54s/it]\r134it [17:04,  7.56s/it]\r135it [17:12,  7.53s/it]\r136it [17:19,  7.55s/it]\r137it [17:27,  7.53s/it]\r138it [17:34,  7.55s/it]\r139it [17:42,  7.60s/it]\r140it [17:50,  7.59s/it]\r141it [17:57,  7.55s/it]\r142it [18:05,  7.55s/it]\r143it [18:12,  7.57s/it]\r144it [18:20,  7.60s/it]\r145it [18:28,  7.61s/it]\r146it [18:35,  7.60s/it]\r147it [18:43,  7.62s/it]\r148it [18:50,  7.62s/it]\r149it [18:58,  7.62s/it]\r150it [19:06,  7.64s/it]\r151it [19:13,  7.65s/it]\r152it [19:21,  7.56s/it]\r153it [19:29,  7.62s/it]\r154it [19:36,  7.63s/it]\r155it [19:44,  7.61s/it]\r156it [19:51,  7.59s/it]\r157it [19:59,  7.62s/it]\r158it [20:07,  7.60s/it]\r159it [20:14,  7.62s/it]\r160it [20:22,  7.60s/it]\r161it [20:29,  7.60s/it]\r162it [20:37,  7.66s/it]\r163it [20:45,  7.63s/it]\r164it [20:52,  7.58s/it]\r165it [21:00,  7.55s/it]\r166it [21:07,  7.61s/it]\r167it [21:15,  7.66s/it]\r168it [21:23,  7.67s/it]\r169it [21:31,  7.69s/it]\r170it [21:38,  7.68s/it]\r171it [21:46,  7.70s/it]\r172it [21:54,  7.67s/it]\r173it [22:02,  7.78s/it]\r174it [22:09,  7.68s/it]\r175it [22:17,  7.66s/it]\r176it [22:25,  7.70s/it]\r177it [22:32,  7.63s/it]\r178it [22:40,  7.62s/it]\r179it [22:47,  7.64s/it]\r180it [22:55,  7.63s/it]\r181it [23:03,  7.67s/it]\r182it [23:10,  7.66s/it]\r183it [23:18,  7.70s/it]\r184it [23:26,  7.66s/it]\r185it [23:33,  7.66s/it]\r186it [23:41,  7.65s/it]\r187it [23:49,  7.66s/it]\r188it [23:56,  7.65s/it]\r189it [24:04,  7.69s/it]\r190it [24:12,  7.69s/it]\r191it [24:19,  7.64s/it]\r192it [24:27,  7.66s/it]\r193it [24:35,  7.68s/it]\r194it [24:42,  7.66s/it]\r195it [24:50,  7.68s/it]\r196it [24:58,  7.70s/it]\r197it [25:05,  7.71s/it]\r198it [25:13,  7.68s/it]\r199it [25:21,  7.67s/it]\r200it [25:28,  7.64s/it]\r201it [25:36,  7.64s/it]\r202it [25:44,  7.64s/it]\r203it [25:51,  7.64s/it]\r204it [25:59,  7.64s/it]\r205it [26:07,  7.68s/it]\r206it [26:14,  7.73s/it]\r207it [26:22,  7.72s/it]\r208it [26:30,  7.69s/it]\r209it [26:37,  7.67s/it]\r210it [26:45,  7.67s/it]\r211it [26:53,  7.64s/it]\r212it [27:00,  7.63s/it]\r213it [27:08,  7.63s/it]\r214it [27:16,  7.63s/it]\r215it [27:23,  7.63s/it]\r216it [27:31,  7.63s/it]\r217it [27:38,  7.61s/it]\r218it [27:46,  7.71s/it]\r219it [27:54,  7.73s/it]\r220it [28:02,  7.73s/it]\r221it [28:09,  7.69s/it]\r222it [28:17,  7.70s/it]\r223it [28:25,  7.72s/it]\r224it [28:33,  7.79s/it]\r225it [28:40,  7.75s/it]\r226it [28:48,  7.74s/it]\r227it [28:56,  7.69s/it]\r228it [29:03,  7.68s/it]\r229it [29:11,  7.72s/it]\r230it [29:19,  7.71s/it]\r231it [29:27,  7.71s/it]\r232it [29:34,  7.66s/it]\r233it [29:42,  7.67s/it]\r234it [29:50,  7.68s/it]\r235it [29:57,  7.65s/it]\r236it [30:05,  7.66s/it]\r237it [30:13,  7.66s/it]\r238it [30:20,  7.62s/it]\r239it [30:27,  7.57s/it]\r240it [30:35,  7.54s/it]\r240it [30:35,  7.65s/it]\n"
     ]
    },
    {
     "name": "stdout",
     "output_type": "stream",
     "text": [
      "Epoch 38 train loss: 0.035247802734375\n",
      "[Train - End / Test - Start Epoch 39] GPU Memory: Allocated=2.31GB, Reserved=3.39GB\n"
     ]
    },
    {
     "name": "stderr",
     "output_type": "stream",
     "text": [
      "\r  0%|          | 0/14.1875 [00:00<?, ?it/s]\r  7%|▋         | 1/14.1875 [00:06<01:28,  6.73s/it]\r 14%|█▍        | 2/14.1875 [00:13<01:20,  6.63s/it]\r 21%|██        | 3/14.1875 [00:20<01:14,  6.67s/it]\r 28%|██▊       | 4/14.1875 [00:26<01:07,  6.67s/it]\r 35%|███▌      | 5/14.1875 [00:33<01:01,  6.66s/it]\r 42%|████▏     | 6/14.1875 [00:40<00:54,  6.69s/it]\r 49%|████▉     | 7/14.1875 [00:46<00:47,  6.65s/it]\r 56%|█████▋    | 8/14.1875 [00:53<00:41,  6.64s/it]\r 63%|██████▎   | 9/14.1875 [00:59<00:34,  6.66s/it]\r 70%|███████   | 10/14.1875 [01:06<00:28,  6.73s/it]\r 78%|███████▊  | 11/14.1875 [01:13<00:21,  6.72s/it]\r 85%|████████▍ | 12/14.1875 [01:20<00:14,  6.72s/it]\r 92%|█████████▏| 13/14.1875 [01:27<00:07,  6.73s/it]\r 99%|█████████▊| 14/14.1875 [01:33<00:01,  6.74s/it]\r15it [01:40,  6.73s/it]                             \r16it [01:47,  6.72s/it]\r17it [01:54,  6.77s/it]\r18it [02:00,  6.72s/it]\r19it [02:07,  6.72s/it]\r20it [02:14,  6.70s/it]\r21it [02:20,  6.67s/it]\r22it [02:27,  6.65s/it]\r23it [02:34,  6.70s/it]\r24it [02:40,  6.75s/it]\r25it [02:47,  6.76s/it]\r26it [02:54,  6.77s/it]\r27it [03:01,  6.76s/it]\r28it [03:07,  6.71s/it]\r29it [03:14,  6.68s/it]\r30it [03:21,  6.69s/it]\r30it [03:21,  6.71s/it]\n"
     ]
    },
    {
     "name": "stdout",
     "output_type": "stream",
     "text": [
      "Cumulative Accuracy for CP: 69.74%\n",
      "Cumulative Accuracy for chopping-board: 92.39%\n",
      "Cumulative Accuracy for finalstep: 90.34%\n",
      "Cumulative Accuracy for glass-bowl-large: 75.56%\n",
      "Cumulative Accuracy for glass-bowl-medium: 71.71%\n",
      "Cumulative Accuracy for glass-bowl-small: 36.41%\n",
      "Cumulative Accuracy for grill-plate: nan%\n",
      "Cumulative Accuracy for group_step: 76.75%\n",
      "Cumulative Accuracy for medium: 89.91%\n",
      "Cumulative Accuracy for oven-dish: 96.58%\n",
      "Cumulative Accuracy for oven-tray: 96.07%\n",
      "Cumulative Accuracy for pan: 100.00%\n",
      "Cumulative Accuracy for pot-one-handle: 97.35%\n",
      "Cumulative Accuracy for pot-two-handles-medium: 78.46%\n",
      "Cumulative Accuracy for pot-two-handles-shallow: 88.89%\n",
      "Cumulative Accuracy for pot-two-handles-small: nan%\n",
      "Cumulative Accuracy for saucepan: 94.87%\n",
      "\n",
      "Mean Top 3 Accuracy (Val): 96.44%\n",
      "Mean Top 1 Accuracy (Val): 81.78%\n",
      "Macro-averaged Accuracy (Val): 83.67%\n",
      "Epoch 38 test loss: 23.71875\n",
      "\n",
      "[Test - End Epoch 39] GPU Memory: Allocated=2.31GB, Reserved=3.39GB\n",
      "\n",
      "Epoch 40/120\n",
      "[Train - Start Epoch 40] GPU Memory: Allocated=2.31GB, Reserved=3.39GB\n"
     ]
    },
    {
     "name": "stderr",
     "output_type": "stream",
     "text": [
      "\r  0%|          | 0/127.84375 [00:00<?, ?it/s]\r  1%|          | 1/127.84375 [00:07<16:27,  7.78s/it]\r  2%|▏         | 2/127.84375 [00:15<16:23,  7.82s/it]\r  2%|▏         | 3/127.84375 [00:23<16:15,  7.81s/it]\r  3%|▎         | 4/127.84375 [00:31<16:08,  7.82s/it]\r  4%|▍         | 5/127.84375 [00:38<15:48,  7.72s/it]\r  5%|▍         | 6/127.84375 [00:46<15:31,  7.64s/it]\r  5%|▌         | 7/127.84375 [00:54<15:29,  7.69s/it]\r  6%|▋         | 8/127.84375 [01:01<15:15,  7.64s/it]\r  7%|▋         | 9/127.84375 [01:09<15:12,  7.68s/it]\r  8%|▊         | 10/127.84375 [01:17<15:02,  7.66s/it]\r  9%|▊         | 11/127.84375 [01:24<14:56,  7.67s/it]\r  9%|▉         | 12/127.84375 [01:32<14:44,  7.64s/it]\r 10%|█         | 13/127.84375 [01:39<14:39,  7.66s/it]\r 11%|█         | 14/127.84375 [01:47<14:27,  7.62s/it]\r 12%|█▏        | 15/127.84375 [01:55<14:24,  7.66s/it]\r 13%|█▎        | 16/127.84375 [02:03<14:20,  7.69s/it]\r 13%|█▎        | 17/127.84375 [02:10<14:14,  7.71s/it]\r 14%|█▍        | 18/127.84375 [02:18<14:06,  7.71s/it]\r 15%|█▍        | 19/127.84375 [02:26<13:58,  7.71s/it]\r 16%|█▌        | 20/127.84375 [02:33<13:44,  7.65s/it]\r 16%|█▋        | 21/127.84375 [02:41<13:36,  7.64s/it]\r 17%|█▋        | 22/127.84375 [02:49<13:30,  7.66s/it]\r 18%|█▊        | 23/127.84375 [02:56<13:22,  7.65s/it]\r 19%|█▉        | 24/127.84375 [03:04<13:22,  7.73s/it]\r 20%|█▉        | 25/127.84375 [03:12<13:11,  7.70s/it]\r 20%|██        | 26/127.84375 [03:19<12:59,  7.66s/it]\r 21%|██        | 27/127.84375 [03:27<12:55,  7.69s/it]\r 22%|██▏       | 28/127.84375 [03:35<12:49,  7.71s/it]\r 23%|██▎       | 29/127.84375 [03:42<12:32,  7.61s/it]\r 23%|██▎       | 30/127.84375 [03:50<12:27,  7.64s/it]\r 24%|██▍       | 31/127.84375 [03:58<12:23,  7.67s/it]\r 25%|██▌       | 32/127.84375 [04:05<12:15,  7.67s/it]\r 26%|██▌       | 33/127.84375 [04:13<12:04,  7.64s/it]\r 27%|██▋       | 34/127.84375 [04:20<11:54,  7.61s/it]\r 27%|██▋       | 35/127.84375 [04:28<11:45,  7.60s/it]\r 28%|██▊       | 36/127.84375 [04:36<11:39,  7.62s/it]\r 29%|██▉       | 37/127.84375 [04:43<11:32,  7.62s/it]\r 30%|██▉       | 38/127.84375 [04:51<11:28,  7.66s/it]\r 31%|███       | 39/127.84375 [04:59<11:19,  7.65s/it]\r 31%|███▏      | 40/127.84375 [05:06<11:10,  7.64s/it]\r 32%|███▏      | 41/127.84375 [05:14<11:04,  7.65s/it]\r 33%|███▎      | 42/127.84375 [05:22<10:54,  7.63s/it]\r 34%|███▎      | 43/127.84375 [05:29<10:53,  7.70s/it]\r 34%|███▍      | 44/127.84375 [05:37<10:42,  7.67s/it]\r 35%|███▌      | 45/127.84375 [05:45<10:36,  7.69s/it]\r 36%|███▌      | 46/127.84375 [05:52<10:29,  7.69s/it]\r 37%|███▋      | 47/127.84375 [06:00<10:19,  7.66s/it]\r 38%|███▊      | 48/127.84375 [06:08<10:13,  7.68s/it]\r 38%|███▊      | 49/127.84375 [06:15<10:05,  7.68s/it]\r 39%|███▉      | 50/127.84375 [06:23<09:56,  7.67s/it]\r 40%|███▉      | 51/127.84375 [06:31<09:52,  7.71s/it]\r 41%|████      | 52/127.84375 [06:39<09:43,  7.69s/it]\r 41%|████▏     | 53/127.84375 [06:46<09:34,  7.67s/it]\r 42%|████▏     | 54/127.84375 [06:54<09:25,  7.66s/it]\r 43%|████▎     | 55/127.84375 [07:01<09:19,  7.67s/it]\r 44%|████▍     | 56/127.84375 [07:09<09:11,  7.68s/it]\r 45%|████▍     | 57/127.84375 [07:17<09:03,  7.67s/it]\r 45%|████▌     | 58/127.84375 [07:24<08:56,  7.68s/it]\r 46%|████▌     | 59/127.84375 [07:32<08:47,  7.67s/it]\r 47%|████▋     | 60/127.84375 [07:40<08:39,  7.65s/it]\r 48%|████▊     | 61/127.84375 [07:47<08:32,  7.67s/it]\r 48%|████▊     | 62/127.84375 [07:55<08:27,  7.71s/it]\r 49%|████▉     | 63/127.84375 [08:03<08:19,  7.71s/it]\r 50%|█████     | 64/127.84375 [08:11<08:09,  7.67s/it]\r 51%|█████     | 65/127.84375 [08:18<08:04,  7.71s/it]\r 52%|█████▏    | 66/127.84375 [08:26<07:55,  7.68s/it]\r 52%|█████▏    | 67/127.84375 [08:34<07:47,  7.69s/it]\r 53%|█████▎    | 68/127.84375 [08:41<07:41,  7.70s/it]\r 54%|█████▍    | 69/127.84375 [08:49<07:31,  7.68s/it]\r 55%|█████▍    | 70/127.84375 [08:57<07:25,  7.71s/it]\r 56%|█████▌    | 71/127.84375 [09:04<07:15,  7.66s/it]\r 56%|█████▋    | 72/127.84375 [09:12<07:07,  7.66s/it]\r 57%|█████▋    | 73/127.84375 [09:20<07:01,  7.68s/it]\r 58%|█████▊    | 74/127.84375 [09:27<06:51,  7.64s/it]\r 59%|█████▊    | 75/127.84375 [09:35<06:42,  7.61s/it]\r 59%|█████▉    | 76/127.84375 [09:42<06:33,  7.59s/it]\r 60%|██████    | 77/127.84375 [09:50<06:25,  7.59s/it]\r 61%|██████    | 78/127.84375 [09:58<06:18,  7.59s/it]\r 62%|██████▏   | 79/127.84375 [10:05<06:07,  7.52s/it]\r 63%|██████▎   | 80/127.84375 [10:13<06:03,  7.59s/it]\r 63%|██████▎   | 81/127.84375 [10:20<05:56,  7.62s/it]\r 64%|██████▍   | 82/127.84375 [10:28<05:50,  7.64s/it]\r 65%|██████▍   | 83/127.84375 [10:36<05:41,  7.61s/it]\r 66%|██████▌   | 84/127.84375 [10:43<05:31,  7.57s/it]\r 66%|██████▋   | 85/127.84375 [10:51<05:25,  7.59s/it]\r 67%|██████▋   | 86/127.84375 [10:58<05:15,  7.54s/it]\r 68%|██████▊   | 87/127.84375 [11:06<05:10,  7.60s/it]\r 69%|██████▉   | 88/127.84375 [11:13<05:03,  7.61s/it]\r 70%|██████▉   | 89/127.84375 [11:21<04:55,  7.60s/it]\r 70%|███████   | 90/127.84375 [11:29<04:48,  7.63s/it]\r 71%|███████   | 91/127.84375 [11:36<04:41,  7.64s/it]\r 72%|███████▏  | 92/127.84375 [11:44<04:32,  7.59s/it]\r 73%|███████▎  | 93/127.84375 [11:52<04:25,  7.61s/it]\r 74%|███████▎  | 94/127.84375 [11:59<04:16,  7.59s/it]\r 74%|███████▍  | 95/127.84375 [12:07<04:08,  7.57s/it]\r 75%|███████▌  | 96/127.84375 [12:14<04:02,  7.60s/it]\r 76%|███████▌  | 97/127.84375 [12:22<03:54,  7.59s/it]\r 77%|███████▋  | 98/127.84375 [12:29<03:46,  7.60s/it]\r 77%|███████▋  | 99/127.84375 [12:37<03:39,  7.60s/it]\r 78%|███████▊  | 100/127.84375 [12:45<03:31,  7.59s/it]\r 79%|███████▉  | 101/127.84375 [12:52<03:22,  7.56s/it]\r 80%|███████▉  | 102/127.84375 [13:00<03:15,  7.56s/it]\r 81%|████████  | 103/127.84375 [13:07<03:09,  7.63s/it]\r 81%|████████▏ | 104/127.84375 [13:15<03:02,  7.67s/it]\r 82%|████████▏ | 105/127.84375 [13:23<02:55,  7.70s/it]\r 83%|████████▎ | 106/127.84375 [13:31<02:48,  7.69s/it]\r 84%|████████▎ | 107/127.84375 [13:39<02:41,  7.73s/it]\r 84%|████████▍ | 108/127.84375 [13:46<02:33,  7.74s/it]\r 85%|████████▌ | 109/127.84375 [13:54<02:25,  7.70s/it]\r 86%|████████▌ | 110/127.84375 [14:02<02:17,  7.73s/it]\r 87%|████████▋ | 111/127.84375 [14:09<02:09,  7.70s/it]\r 88%|████████▊ | 112/127.84375 [14:17<02:02,  7.70s/it]\r 88%|████████▊ | 113/127.84375 [14:25<01:54,  7.68s/it]\r 89%|████████▉ | 114/127.84375 [14:32<01:45,  7.65s/it]\r 90%|████████▉ | 115/127.84375 [14:40<01:38,  7.64s/it]\r 91%|█████████ | 116/127.84375 [14:47<01:30,  7.64s/it]\r 92%|█████████▏| 117/127.84375 [14:55<01:22,  7.65s/it]\r 92%|█████████▏| 118/127.84375 [15:03<01:15,  7.66s/it]\r 93%|█████████▎| 119/127.84375 [15:11<01:08,  7.72s/it]\r 94%|█████████▍| 120/127.84375 [15:19<01:00,  7.75s/it]\r 95%|█████████▍| 121/127.84375 [15:26<00:52,  7.72s/it]\r 95%|█████████▌| 122/127.84375 [15:34<00:45,  7.71s/it]\r 96%|█████████▌| 123/127.84375 [15:42<00:37,  7.71s/it]\r 97%|█████████▋| 124/127.84375 [15:49<00:29,  7.70s/it]\r 98%|█████████▊| 125/127.84375 [15:57<00:21,  7.71s/it]\r 99%|█████████▊| 126/127.84375 [16:05<00:14,  7.70s/it]\r 99%|█████████▉| 127/127.84375 [16:12<00:06,  7.66s/it]/databricks/python/lib/python3.11/site-packages/tqdm/std.py:524: TqdmWarning: clamping frac to range [0, 1]\n",
      "  full_bar = Bar(frac,\n",
      "\r100%|██████████| 128/127.84375 [16:20<-1:59:59,  7.67s/it]\r129it [16:28,  7.65s/it]                                  \r130it [16:35,  7.67s/it]\r131it [16:43,  7.64s/it]\r132it [16:50,  7.61s/it]\r133it [16:58,  7.63s/it]\r134it [17:06,  7.59s/it]\r135it [17:13,  7.63s/it]\r136it [17:21,  7.67s/it]\r137it [17:29,  7.64s/it]\r138it [17:36,  7.65s/it]\r139it [17:44,  7.64s/it]\r140it [17:51,  7.60s/it]\r141it [17:59,  7.66s/it]\r142it [18:07,  7.67s/it]\r143it [18:15,  7.68s/it]\r144it [18:22,  7.64s/it]\r145it [18:30,  7.65s/it]\r146it [18:37,  7.58s/it]\r147it [18:45,  7.63s/it]\r148it [18:53,  7.72s/it]\r149it [19:01,  7.73s/it]\r150it [19:08,  7.63s/it]\r151it [19:16,  7.60s/it]\r152it [19:23,  7.68s/it]\r153it [19:31,  7.65s/it]\r154it [19:39,  7.67s/it]\r155it [19:46,  7.61s/it]\r156it [19:54,  7.66s/it]\r157it [20:02,  7.65s/it]\r158it [20:09,  7.64s/it]\r159it [20:17,  7.63s/it]\r160it [20:24,  7.64s/it]\r161it [20:32,  7.65s/it]\r162it [20:40,  7.66s/it]\r163it [20:48,  7.69s/it]\r164it [20:55,  7.65s/it]\r165it [21:03,  7.65s/it]\r166it [21:10,  7.60s/it]\r167it [21:18,  7.59s/it]\r168it [21:25,  7.57s/it]\r169it [21:33,  7.52s/it]\r170it [21:40,  7.51s/it]\r171it [21:48,  7.54s/it]\r172it [21:55,  7.50s/it]\r173it [22:03,  7.60s/it]\r174it [22:11,  7.66s/it]\r175it [22:19,  7.64s/it]\r176it [22:26,  7.64s/it]\r177it [22:34,  7.70s/it]\r178it [22:42,  7.68s/it]\r179it [22:49,  7.71s/it]\r180it [22:57,  7.65s/it]\r181it [23:05,  7.68s/it]\r182it [23:13,  7.73s/it]\r183it [23:20,  7.72s/it]\r184it [23:28,  7.72s/it]\r185it [23:36,  7.72s/it]\r186it [23:43,  7.72s/it]\r187it [23:51,  7.71s/it]\r188it [23:59,  7.77s/it]\r189it [24:07,  7.75s/it]\r190it [24:15,  7.81s/it]\r191it [24:22,  7.74s/it]\r192it [24:30,  7.74s/it]\r193it [24:38,  7.71s/it]\r194it [24:45,  7.65s/it]\r195it [24:53,  7.67s/it]\r196it [25:00,  7.65s/it]\r197it [25:08,  7.70s/it]\r198it [25:16,  7.76s/it]\r199it [25:24,  7.75s/it]\r200it [25:31,  7.72s/it]\r201it [25:39,  7.72s/it]\r202it [25:47,  7.75s/it]\r203it [25:54,  7.64s/it]\r204it [26:02,  7.71s/it]\r205it [26:10,  7.67s/it]\r206it [26:18,  7.68s/it]\r207it [26:25,  7.67s/it]\r208it [26:33,  7.66s/it]\r209it [26:41,  7.67s/it]\r210it [26:48,  7.68s/it]\r211it [26:56,  7.64s/it]\r212it [27:03,  7.56s/it]\r213it [27:11,  7.62s/it]\r214it [27:19,  7.72s/it]\r215it [27:27,  7.73s/it]\r216it [27:34,  7.75s/it]\r217it [27:42,  7.71s/it]\r218it [27:50,  7.69s/it]\r219it [27:57,  7.64s/it]\r220it [28:05,  7.65s/it]\r221it [28:12,  7.63s/it]\r222it [28:20,  7.64s/it]\r223it [28:28,  7.67s/it]\r224it [28:35,  7.61s/it]\r225it [28:43,  7.59s/it]\r226it [28:50,  7.58s/it]\r227it [28:58,  7.58s/it]\r228it [29:06,  7.62s/it]\r229it [29:13,  7.64s/it]\r230it [29:21,  7.65s/it]\r231it [29:29,  7.61s/it]\r232it [29:36,  7.59s/it]\r233it [29:44,  7.59s/it]\r234it [29:51,  7.56s/it]\r235it [29:59,  7.59s/it]\r236it [30:06,  7.57s/it]\r237it [30:14,  7.58s/it]\r238it [30:22,  7.59s/it]\r239it [30:29,  7.60s/it]\r240it [30:37,  7.60s/it]\r240it [30:37,  7.66s/it]\n"
     ]
    },
    {
     "name": "stdout",
     "output_type": "stream",
     "text": [
      "Epoch 39 train loss: 0.003936767578125\n",
      "[Train - End / Test - Start Epoch 40] GPU Memory: Allocated=2.30GB, Reserved=3.39GB\n"
     ]
    },
    {
     "name": "stderr",
     "output_type": "stream",
     "text": [
      "\r  0%|          | 0/14.1875 [00:00<?, ?it/s]\r  7%|▋         | 1/14.1875 [00:06<01:27,  6.64s/it]\r 14%|█▍        | 2/14.1875 [00:13<01:21,  6.65s/it]\r 21%|██        | 3/14.1875 [00:20<01:15,  6.73s/it]\r 28%|██▊       | 4/14.1875 [00:26<01:08,  6.71s/it]\r 35%|███▌      | 5/14.1875 [00:33<01:01,  6.68s/it]\r 42%|████▏     | 6/14.1875 [00:40<00:54,  6.67s/it]\r 49%|████▉     | 7/14.1875 [00:46<00:48,  6.68s/it]\r 56%|█████▋    | 8/14.1875 [00:53<00:41,  6.70s/it]\r 63%|██████▎   | 9/14.1875 [01:00<00:35,  6.86s/it]\r 70%|███████   | 10/14.1875 [01:07<00:28,  6.82s/it]\r 78%|███████▊  | 11/14.1875 [01:14<00:21,  6.79s/it]\r 85%|████████▍ | 12/14.1875 [01:20<00:14,  6.75s/it]\r 92%|█████████▏| 13/14.1875 [01:27<00:07,  6.65s/it]\r 99%|█████████▊| 14/14.1875 [01:33<00:01,  6.66s/it]\r15it [01:40,  6.66s/it]                             \r16it [01:47,  6.65s/it]\r17it [01:53,  6.66s/it]\r18it [02:00,  6.64s/it]\r19it [02:07,  6.64s/it]\r20it [02:13,  6.64s/it]\r21it [02:20,  6.66s/it]\r22it [02:27,  6.69s/it]\r23it [02:34,  6.71s/it]\r24it [02:40,  6.72s/it]\r25it [02:47,  6.72s/it]\r26it [02:54,  6.72s/it]\r27it [03:00,  6.71s/it]\r28it [03:07,  6.64s/it]\r29it [03:14,  6.64s/it]\r30it [03:20,  6.62s/it]\r30it [03:20,  6.69s/it]\n"
     ]
    },
    {
     "name": "stdout",
     "output_type": "stream",
     "text": [
      "Cumulative Accuracy for CP: 69.75%\n",
      "Cumulative Accuracy for chopping-board: 92.58%\n",
      "Cumulative Accuracy for finalstep: 90.17%\n",
      "Cumulative Accuracy for glass-bowl-large: 75.83%\n",
      "Cumulative Accuracy for glass-bowl-medium: 71.75%\n",
      "Cumulative Accuracy for glass-bowl-small: 36.00%\n",
      "Cumulative Accuracy for grill-plate: nan%\n",
      "Cumulative Accuracy for group_step: 76.75%\n",
      "Cumulative Accuracy for medium: 89.75%\n",
      "Cumulative Accuracy for oven-dish: 96.67%\n",
      "Cumulative Accuracy for oven-tray: 95.92%\n",
      "Cumulative Accuracy for pan: 100.00%\n",
      "Cumulative Accuracy for pot-one-handle: 97.42%\n",
      "Cumulative Accuracy for pot-two-handles-medium: 78.00%\n",
      "Cumulative Accuracy for pot-two-handles-shallow: 88.33%\n",
      "Cumulative Accuracy for pot-two-handles-small: nan%\n",
      "Cumulative Accuracy for saucepan: 95.00%\n",
      "\n",
      "Mean Top 3 Accuracy (Val): 94.89%\n",
      "Mean Top 1 Accuracy (Val): 80.67%\n",
      "Macro-averaged Accuracy (Val): 83.59%\n",
      "Epoch 39 test loss: 26.234375\n",
      "\n",
      "[Test - End Epoch 40] GPU Memory: Allocated=2.30GB, Reserved=3.39GB\n",
      "\n",
      "Epoch 41/120\n",
      "[Train - Start Epoch 41] GPU Memory: Allocated=2.30GB, Reserved=3.39GB\n"
     ]
    },
    {
     "name": "stderr",
     "output_type": "stream",
     "text": [
      "\r  0%|          | 0/127.84375 [00:00<?, ?it/s]\r  1%|          | 1/127.84375 [00:07<16:08,  7.63s/it]\r  2%|▏         | 2/127.84375 [00:15<16:03,  7.66s/it]\r  2%|▏         | 3/127.84375 [00:22<15:48,  7.60s/it]\r  3%|▎         | 4/127.84375 [00:30<15:44,  7.62s/it]\r  4%|▍         | 5/127.84375 [00:38<15:39,  7.65s/it]\r  5%|▍         | 6/127.84375 [00:45<15:30,  7.64s/it]\r  5%|▌         | 7/127.84375 [00:53<15:14,  7.57s/it]\r  6%|▋         | 8/127.84375 [01:00<15:09,  7.59s/it]\r  7%|▋         | 9/127.84375 [01:08<15:08,  7.64s/it]\r  8%|▊         | 10/127.84375 [01:16<14:54,  7.59s/it]\r  9%|▊         | 11/127.84375 [01:23<14:51,  7.63s/it]\r  9%|▉         | 12/127.84375 [01:31<14:39,  7.59s/it]\r 10%|█         | 13/127.84375 [01:38<14:33,  7.60s/it]\r 11%|█         | 14/127.84375 [01:46<14:25,  7.60s/it]\r 12%|█▏        | 15/127.84375 [01:54<14:20,  7.62s/it]\r 13%|█▎        | 16/127.84375 [02:01<14:08,  7.59s/it]\r 13%|█▎        | 17/127.84375 [02:09<14:04,  7.62s/it]\r 14%|█▍        | 18/127.84375 [02:17<13:56,  7.62s/it]\r 15%|█▍        | 19/127.84375 [02:24<13:50,  7.63s/it]\r 16%|█▌        | 20/127.84375 [02:32<13:41,  7.62s/it]\r 16%|█▋        | 21/127.84375 [02:39<13:33,  7.61s/it]\r 17%|█▋        | 22/127.84375 [02:47<13:25,  7.61s/it]\r 18%|█▊        | 23/127.84375 [02:54<13:08,  7.52s/it]\r 19%|█▉        | 24/127.84375 [03:02<13:02,  7.53s/it]\r 20%|█▉        | 25/127.84375 [03:09<12:56,  7.55s/it]\r 20%|██        | 26/127.84375 [03:17<12:52,  7.58s/it]\r 21%|██        | 27/127.84375 [03:25<12:44,  7.58s/it]\r 22%|██▏       | 28/127.84375 [03:32<12:38,  7.60s/it]\r 23%|██▎       | 29/127.84375 [03:40<12:30,  7.60s/it]\r 23%|██▎       | 30/127.84375 [03:47<12:21,  7.58s/it]\r 24%|██▍       | 31/127.84375 [03:55<12:11,  7.56s/it]\r 25%|██▌       | 32/127.84375 [04:03<12:07,  7.59s/it]\r 26%|██▌       | 33/127.84375 [04:10<11:58,  7.57s/it]\r 27%|██▋       | 34/127.84375 [04:18<11:54,  7.61s/it]\r 27%|██▋       | 35/127.84375 [04:26<11:48,  7.63s/it]\r 28%|██▊       | 36/127.84375 [04:33<11:35,  7.58s/it]\r 29%|██▉       | 37/127.84375 [04:41<11:31,  7.61s/it]\r 30%|██▉       | 38/127.84375 [04:48<11:22,  7.59s/it]\r 31%|███       | 39/127.84375 [04:56<11:17,  7.62s/it]\r 31%|███▏      | 40/127.84375 [05:04<11:10,  7.64s/it]\r 32%|███▏      | 41/127.84375 [05:11<11:07,  7.69s/it]\r 33%|███▎      | 42/127.84375 [05:19<10:57,  7.66s/it]\r 34%|███▎      | 43/127.84375 [05:27<10:49,  7.66s/it]\r 34%|███▍      | 44/127.84375 [05:34<10:42,  7.66s/it]\r 35%|███▌      | 45/127.84375 [05:42<10:31,  7.62s/it]\r 36%|███▌      | 46/127.84375 [05:50<10:25,  7.64s/it]\r 37%|███▋      | 47/127.84375 [05:57<10:20,  7.67s/it]\r 38%|███▊      | 48/127.84375 [06:05<10:08,  7.62s/it]\r 38%|███▊      | 49/127.84375 [06:12<09:59,  7.61s/it]\r 39%|███▉      | 50/127.84375 [06:20<09:52,  7.61s/it]\r 40%|███▉      | 51/127.84375 [06:28<09:45,  7.61s/it]\r 41%|████      | 52/127.84375 [06:35<09:41,  7.66s/it]\r 41%|████▏     | 53/127.84375 [06:43<09:28,  7.60s/it]\r 42%|████▏     | 54/127.84375 [06:50<09:22,  7.61s/it]\r 43%|████▎     | 55/127.84375 [06:58<09:13,  7.60s/it]\r 44%|████▍     | 56/127.84375 [07:06<09:07,  7.62s/it]\r 45%|████▍     | 57/127.84375 [07:13<09:00,  7.63s/it]\r 45%|████▌     | 58/127.84375 [07:21<08:52,  7.63s/it]\r 46%|████▌     | 59/127.84375 [07:29<08:45,  7.63s/it]\r 47%|████▋     | 60/127.84375 [07:36<08:37,  7.63s/it]\r 48%|████▊     | 61/127.84375 [07:44<08:30,  7.64s/it]\r 48%|████▊     | 62/127.84375 [07:52<08:25,  7.68s/it]\r 49%|████▉     | 63/127.84375 [07:59<08:18,  7.68s/it]\r 50%|█████     | 64/127.84375 [08:07<08:09,  7.66s/it]\r 51%|█████     | 65/127.84375 [08:15<07:59,  7.64s/it]\r 52%|█████▏    | 66/127.84375 [08:22<07:52,  7.65s/it]\r 52%|█████▏    | 67/127.84375 [08:30<07:43,  7.61s/it]\r 53%|█████▎    | 68/127.84375 [08:37<07:33,  7.58s/it]\r 54%|█████▍    | 69/127.84375 [08:45<07:27,  7.60s/it]\r 55%|█████▍    | 70/127.84375 [08:53<07:22,  7.65s/it]\r 56%|█████▌    | 71/127.84375 [09:00<07:13,  7.63s/it]\r 56%|█████▋    | 72/127.84375 [09:08<07:04,  7.59s/it]\r 57%|█████▋    | 73/127.84375 [09:15<06:55,  7.58s/it]\r 58%|█████▊    | 74/127.84375 [09:23<06:45,  7.53s/it]\r 59%|█████▊    | 75/127.84375 [09:30<06:38,  7.53s/it]\r 59%|█████▉    | 76/127.84375 [09:38<06:34,  7.60s/it]\r 60%|██████    | 77/127.84375 [09:46<06:25,  7.58s/it]\r 61%|██████    | 78/127.84375 [09:53<06:17,  7.57s/it]\r 62%|██████▏   | 79/127.84375 [10:01<06:10,  7.59s/it]\r 63%|██████▎   | 80/127.84375 [10:08<06:03,  7.60s/it]\r 63%|██████▎   | 81/127.84375 [10:16<05:55,  7.59s/it]\r 64%|██████▍   | 82/127.84375 [10:24<05:50,  7.64s/it]\r 65%|██████▍   | 83/127.84375 [10:31<05:42,  7.64s/it]\r 66%|██████▌   | 84/127.84375 [10:39<05:32,  7.59s/it]\r 66%|██████▋   | 85/127.84375 [10:46<05:26,  7.62s/it]\r 67%|██████▋   | 86/127.84375 [10:54<05:19,  7.64s/it]\r 68%|██████▊   | 87/127.84375 [11:02<05:13,  7.67s/it]\r 69%|██████▉   | 88/127.84375 [11:10<05:06,  7.69s/it]\r 70%|██████▉   | 89/127.84375 [11:17<04:58,  7.69s/it]\r 70%|███████   | 90/127.84375 [11:25<04:50,  7.68s/it]\r 71%|███████   | 91/127.84375 [11:33<04:43,  7.68s/it]\r 72%|███████▏  | 92/127.84375 [11:40<04:36,  7.70s/it]\r 73%|███████▎  | 93/127.84375 [11:48<04:26,  7.65s/it]\r 74%|███████▎  | 94/127.84375 [11:56<04:18,  7.63s/it]\r 74%|███████▍  | 95/127.84375 [12:03<04:09,  7.60s/it]\r 75%|███████▌  | 96/127.84375 [12:11<04:02,  7.61s/it]\r 76%|███████▌  | 97/127.84375 [12:19<03:56,  7.68s/it]\r 77%|███████▋  | 98/127.84375 [12:26<03:47,  7.64s/it]\r 77%|███████▋  | 99/127.84375 [12:34<03:39,  7.62s/it]\r 78%|███████▊  | 100/127.84375 [12:41<03:31,  7.61s/it]\r 79%|███████▉  | 101/127.84375 [12:49<03:23,  7.57s/it]\r 80%|███████▉  | 102/127.84375 [12:56<03:16,  7.61s/it]\r 81%|████████  | 103/127.84375 [13:04<03:09,  7.61s/it]\r 81%|████████▏ | 104/127.84375 [13:12<03:01,  7.62s/it]\r 82%|████████▏ | 105/127.84375 [13:19<02:53,  7.60s/it]\r 83%|████████▎ | 106/127.84375 [13:27<02:45,  7.60s/it]\r 84%|████████▎ | 107/127.84375 [13:35<02:39,  7.63s/it]\r 84%|████████▍ | 108/127.84375 [13:42<02:30,  7.58s/it]\r 85%|████████▌ | 109/127.84375 [13:50<02:22,  7.57s/it]\r 86%|████████▌ | 110/127.84375 [13:57<02:15,  7.58s/it]\r 87%|████████▋ | 111/127.84375 [14:05<02:07,  7.55s/it]\r 88%|████████▊ | 112/127.84375 [14:12<02:00,  7.59s/it]\r 88%|████████▊ | 113/127.84375 [14:20<01:53,  7.67s/it]\r 89%|████████▉ | 114/127.84375 [14:28<01:44,  7.58s/it]\r 90%|████████▉ | 115/127.84375 [14:35<01:37,  7.59s/it]\r 91%|█████████ | 116/127.84375 [14:43<01:29,  7.56s/it]\r 92%|█████████▏| 117/127.84375 [14:50<01:21,  7.55s/it]\r 92%|█████████▏| 118/127.84375 [14:58<01:14,  7.54s/it]\r 93%|█████████▎| 119/127.84375 [15:05<01:06,  7.56s/it]\r 94%|█████████▍| 120/127.84375 [15:13<00:59,  7.59s/it]\r 95%|█████████▍| 121/127.84375 [15:21<00:52,  7.64s/it]\r 95%|█████████▌| 122/127.84375 [15:28<00:44,  7.68s/it]\r 96%|█████████▌| 123/127.84375 [15:36<00:37,  7.69s/it]\r 97%|█████████▋| 124/127.84375 [15:44<00:29,  7.68s/it]\r 98%|█████████▊| 125/127.84375 [15:52<00:21,  7.67s/it]\r 99%|█████████▊| 126/127.84375 [15:59<00:14,  7.71s/it]\r 99%|█████████▉| 127/127.84375 [16:07<00:06,  7.71s/it]/databricks/python/lib/python3.11/site-packages/tqdm/std.py:524: TqdmWarning: clamping frac to range [0, 1]\n",
      "  full_bar = Bar(frac,\n",
      "\r100%|██████████| 128/127.84375 [16:15<-1:59:59,  7.67s/it]\r129it [16:22,  7.66s/it]                                  \r130it [16:30,  7.66s/it]\r131it [16:38,  7.65s/it]\r132it [16:45,  7.64s/it]\r133it [16:53,  7.65s/it]\r134it [17:00,  7.65s/it]\r135it [17:08,  7.66s/it]\r136it [17:16,  7.62s/it]\r137it [17:23,  7.66s/it]\r138it [17:31,  7.66s/it]\r139it [17:39,  7.63s/it]\r140it [17:46,  7.60s/it]\r141it [17:54,  7.56s/it]\r142it [18:01,  7.59s/it]\r143it [18:09,  7.64s/it]\r144it [18:17,  7.59s/it]\r145it [18:24,  7.59s/it]\r146it [18:32,  7.61s/it]\r147it [18:39,  7.62s/it]\r148it [18:47,  7.62s/it]\r149it [18:55,  7.62s/it]\r150it [19:02,  7.60s/it]\r151it [19:10,  7.62s/it]\r152it [19:17,  7.56s/it]\r153it [19:25,  7.58s/it]\r154it [19:33,  7.58s/it]\r155it [19:40,  7.56s/it]\r156it [19:48,  7.59s/it]\r157it [19:55,  7.63s/it]\r158it [20:03,  7.62s/it]\r159it [20:11,  7.61s/it]\r160it [20:18,  7.60s/it]\r161it [20:26,  7.60s/it]\r162it [20:33,  7.55s/it]\r163it [20:41,  7.59s/it]\r164it [20:49,  7.63s/it]\r165it [20:56,  7.64s/it]\r166it [21:04,  7.67s/it]\r167it [21:12,  7.62s/it]\r168it [21:19,  7.62s/it]\r169it [21:27,  7.59s/it]\r170it [21:34,  7.55s/it]\r171it [21:42,  7.53s/it]\r172it [21:49,  7.59s/it]\r173it [21:57,  7.58s/it]\r174it [22:05,  7.62s/it]\r175it [22:12,  7.64s/it]\r176it [22:20,  7.65s/it]\r177it [22:28,  7.62s/it]\r178it [22:35,  7.64s/it]\r179it [22:43,  7.65s/it]\r180it [22:50,  7.63s/it]\r181it [22:58,  7.63s/it]\r182it [23:06,  7.60s/it]\r183it [23:13,  7.56s/it]\r184it [23:21,  7.57s/it]\r185it [23:28,  7.64s/it]\r186it [23:36,  7.67s/it]\r187it [23:44,  7.71s/it]\r188it [23:52,  7.69s/it]\r189it [23:59,  7.70s/it]\r190it [24:07,  7.71s/it]\r191it [24:15,  7.70s/it]\r192it [24:23,  7.75s/it]\r193it [24:30,  7.76s/it]\r194it [24:38,  7.73s/it]\r195it [24:46,  7.72s/it]\r196it [24:53,  7.69s/it]\r197it [25:01,  7.64s/it]\r198it [25:09,  7.65s/it]\r199it [25:16,  7.65s/it]\r200it [25:24,  7.62s/it]\r201it [25:31,  7.62s/it]\r202it [25:39,  7.60s/it]\r203it [25:47,  7.68s/it]\r204it [25:55,  7.69s/it]\r205it [26:02,  7.70s/it]\r206it [26:10,  7.66s/it]\r207it [26:18,  7.67s/it]\r208it [26:25,  7.63s/it]\r209it [26:33,  7.62s/it]\r210it [26:40,  7.63s/it]\r211it [26:48,  7.60s/it]\r212it [26:55,  7.56s/it]\r213it [27:03,  7.59s/it]\r214it [27:11,  7.57s/it]\r215it [27:18,  7.59s/it]\r216it [27:26,  7.59s/it]\r217it [27:33,  7.60s/it]\r218it [27:41,  7.59s/it]\r219it [27:49,  7.58s/it]\r220it [27:56,  7.61s/it]\r221it [28:04,  7.64s/it]\r222it [28:11,  7.60s/it]\r223it [28:19,  7.63s/it]\r224it [28:27,  7.58s/it]\r225it [28:34,  7.60s/it]\r226it [28:42,  7.65s/it]\r227it [28:50,  7.64s/it]\r228it [28:57,  7.65s/it]\r229it [29:05,  7.59s/it]\r230it [29:12,  7.63s/it]\r231it [29:20,  7.56s/it]\r232it [29:28,  7.60s/it]\r233it [29:35,  7.59s/it]\r234it [29:43,  7.63s/it]\r235it [29:50,  7.63s/it]\r236it [29:58,  7.62s/it]\r237it [30:06,  7.62s/it]\r238it [30:13,  7.62s/it]\r239it [30:21,  7.57s/it]\r240it [30:28,  7.56s/it]\r240it [30:28,  7.62s/it]\n"
     ]
    },
    {
     "name": "stdout",
     "output_type": "stream",
     "text": [
      "Epoch 40 train loss: 0.007904052734375\n",
      "[Checkpoint] Saved under <PATH>/recipe_classifier/checkpoints/2025_01_23/dataset_20dec/b32/epoch_40.pt\n",
      "\n",
      "[Train - End / Test - Start Epoch 41] GPU Memory: Allocated=2.07GB, Reserved=3.39GB\n"
     ]
    },
    {
     "name": "stderr",
     "output_type": "stream",
     "text": [
      "\r  0%|          | 0/14.1875 [00:00<?, ?it/s]\r  7%|▋         | 1/14.1875 [00:06<01:28,  6.74s/it]\r 14%|█▍        | 2/14.1875 [00:13<01:21,  6.69s/it]\r 21%|██        | 3/14.1875 [00:20<01:14,  6.66s/it]\r 28%|██▊       | 4/14.1875 [00:26<01:07,  6.66s/it]\r 35%|███▌      | 5/14.1875 [00:33<01:01,  6.68s/it]\r 42%|████▏     | 6/14.1875 [00:40<00:54,  6.68s/it]\r 49%|████▉     | 7/14.1875 [00:46<00:48,  6.71s/it]\r 56%|█████▋    | 8/14.1875 [00:53<00:41,  6.72s/it]\r 63%|██████▎   | 9/14.1875 [01:00<00:34,  6.69s/it]\r 70%|███████   | 10/14.1875 [01:06<00:27,  6.65s/it]\r 78%|███████▊  | 11/14.1875 [01:13<00:21,  6.67s/it]\r 85%|████████▍ | 12/14.1875 [01:20<00:14,  6.65s/it]\r 92%|█████████▏| 13/14.1875 [01:26<00:07,  6.59s/it]\r 99%|█████████▊| 14/14.1875 [01:33<00:01,  6.61s/it]\r15it [01:39,  6.63s/it]                             \r16it [01:46,  6.66s/it]\r17it [01:53,  6.67s/it]\r18it [02:00,  6.69s/it]\r19it [02:06,  6.67s/it]\r20it [02:13,  6.68s/it]\r21it [02:20,  6.69s/it]\r22it [02:26,  6.69s/it]\r23it [02:33,  6.65s/it]\r24it [02:39,  6.66s/it]\r25it [02:46,  6.67s/it]\r26it [02:53,  6.69s/it]\r27it [03:00,  6.67s/it]\r28it [03:06,  6.66s/it]\r29it [03:13,  6.67s/it]\r30it [03:19,  6.64s/it]\r30it [03:19,  6.67s/it]\n"
     ]
    },
    {
     "name": "stdout",
     "output_type": "stream",
     "text": [
      "Cumulative Accuracy for CP: 69.67%\n",
      "Cumulative Accuracy for chopping-board: 92.60%\n",
      "Cumulative Accuracy for finalstep: 90.16%\n",
      "Cumulative Accuracy for glass-bowl-large: 76.18%\n",
      "Cumulative Accuracy for glass-bowl-medium: 72.11%\n",
      "Cumulative Accuracy for glass-bowl-small: 35.77%\n",
      "Cumulative Accuracy for grill-plate: nan%\n",
      "Cumulative Accuracy for group_step: 76.75%\n",
      "Cumulative Accuracy for medium: 89.84%\n",
      "Cumulative Accuracy for oven-dish: 96.75%\n",
      "Cumulative Accuracy for oven-tray: 96.02%\n",
      "Cumulative Accuracy for pan: 100.00%\n",
      "Cumulative Accuracy for pot-one-handle: 97.48%\n",
      "Cumulative Accuracy for pot-two-handles-medium: 78.13%\n",
      "Cumulative Accuracy for pot-two-handles-shallow: 88.62%\n",
      "Cumulative Accuracy for pot-two-handles-small: nan%\n",
      "Cumulative Accuracy for saucepan: 95.12%\n",
      "\n",
      "Mean Top 3 Accuracy (Val): 94.89%\n",
      "Mean Top 1 Accuracy (Val): 87.11%\n",
      "Macro-averaged Accuracy (Val): 83.68%\n",
      "Epoch 40 test loss: 26.984375\n",
      "\n",
      "[Test - End Epoch 41] GPU Memory: Allocated=2.07GB, Reserved=3.39GB\n",
      "\n",
      "Epoch 42/120\n",
      "[Train - Start Epoch 42] GPU Memory: Allocated=2.07GB, Reserved=3.39GB\n"
     ]
    },
    {
     "name": "stderr",
     "output_type": "stream",
     "text": [
      "\r  0%|          | 0/127.84375 [00:00<?, ?it/s]\r  1%|          | 1/127.84375 [00:07<15:47,  7.47s/it]\r  2%|▏         | 2/127.84375 [00:15<16:03,  7.66s/it]\r  2%|▏         | 3/127.84375 [00:22<15:49,  7.61s/it]\r  3%|▎         | 4/127.84375 [00:30<15:37,  7.57s/it]\r  4%|▍         | 5/127.84375 [00:37<15:34,  7.60s/it]\r  5%|▍         | 6/127.84375 [00:45<15:27,  7.61s/it]\r  5%|▌         | 7/127.84375 [00:53<15:21,  7.63s/it]\r  6%|▋         | 8/127.84375 [01:00<15:12,  7.61s/it]\r  7%|▋         | 9/127.84375 [01:08<15:05,  7.62s/it]\r  8%|▊         | 10/127.84375 [01:16<15:02,  7.66s/it]\r  9%|▊         | 11/127.84375 [01:23<14:55,  7.66s/it]\r  9%|▉         | 12/127.84375 [01:31<14:44,  7.64s/it]\r 10%|█         | 13/127.84375 [01:39<14:33,  7.61s/it]\r 11%|█         | 14/127.84375 [01:46<14:27,  7.62s/it]\r 12%|█▏        | 15/127.84375 [01:54<14:22,  7.64s/it]\r 13%|█▎        | 16/127.84375 [02:01<14:10,  7.61s/it]\r 13%|█▎        | 17/127.84375 [02:09<14:06,  7.63s/it]\r 14%|█▍        | 18/127.84375 [02:17<14:00,  7.65s/it]\r 15%|█▍        | 19/127.84375 [02:24<13:49,  7.62s/it]\r 16%|█▌        | 20/127.84375 [02:32<13:47,  7.67s/it]\r 16%|█▋        | 21/127.84375 [02:40<13:39,  7.67s/it]\r 17%|█▋        | 22/127.84375 [02:47<13:29,  7.65s/it]\r 18%|█▊        | 23/127.84375 [02:55<13:26,  7.69s/it]\r 19%|█▉        | 24/127.84375 [03:03<13:19,  7.70s/it]\r 20%|█▉        | 25/127.84375 [03:11<13:11,  7.70s/it]\r 20%|██        | 26/127.84375 [03:18<13:03,  7.69s/it]\r 21%|██        | 27/127.84375 [03:26<13:01,  7.75s/it]\r 22%|██▏       | 28/127.84375 [03:34<12:50,  7.72s/it]\r 23%|██▎       | 29/127.84375 [03:41<12:38,  7.67s/it]\r 23%|██▎       | 30/127.84375 [03:49<12:28,  7.65s/it]\r 24%|██▍       | 31/127.84375 [03:57<12:19,  7.63s/it]\r 25%|██▌       | 32/127.84375 [04:04<12:07,  7.59s/it]\r 26%|██▌       | 33/127.84375 [04:12<12:03,  7.63s/it]\r 27%|██▋       | 34/127.84375 [04:19<11:48,  7.55s/it]\r 27%|██▋       | 35/127.84375 [04:27<11:45,  7.60s/it]\r 28%|██▊       | 36/127.84375 [04:34<11:38,  7.61s/it]\r 29%|██▉       | 37/127.84375 [04:42<11:32,  7.62s/it]\r 30%|██▉       | 38/127.84375 [04:50<11:27,  7.65s/it]\r 31%|███       | 39/127.84375 [04:57<11:16,  7.61s/it]\r 31%|███▏      | 40/127.84375 [05:05<11:06,  7.59s/it]\r 32%|███▏      | 41/127.84375 [05:13<11:00,  7.61s/it]\r 33%|███▎      | 42/127.84375 [05:20<10:52,  7.61s/it]\r 34%|███▎      | 43/127.84375 [05:28<10:40,  7.55s/it]\r 34%|███▍      | 44/127.84375 [05:35<10:28,  7.50s/it]\r 35%|███▌      | 45/127.84375 [05:43<10:22,  7.52s/it]\r 36%|███▌      | 46/127.84375 [05:50<10:17,  7.54s/it]\r 37%|███▋      | 47/127.84375 [05:58<10:09,  7.54s/it]\r 38%|███▊      | 48/127.84375 [06:05<10:04,  7.57s/it]\r 38%|███▊      | 49/127.84375 [06:13<09:57,  7.58s/it]\r 39%|███▉      | 50/127.84375 [06:20<09:47,  7.55s/it]\r 40%|███▉      | 51/127.84375 [06:28<09:43,  7.60s/it]\r 41%|████      | 52/127.84375 [06:36<09:37,  7.61s/it]\r 41%|████▏     | 53/127.84375 [06:43<09:30,  7.62s/it]\r 42%|████▏     | 54/127.84375 [06:51<09:23,  7.64s/it]\r 43%|████▎     | 55/127.84375 [06:59<09:12,  7.59s/it]\r 44%|████▍     | 56/127.84375 [07:06<09:05,  7.59s/it]\r 45%|████▍     | 57/127.84375 [07:14<08:58,  7.60s/it]\r 45%|████▌     | 58/127.84375 [07:21<08:50,  7.60s/it]\r 46%|████▌     | 59/127.84375 [07:29<08:43,  7.61s/it]\r 47%|████▋     | 60/127.84375 [07:36<08:34,  7.58s/it]\r 48%|████▊     | 61/127.84375 [07:44<08:28,  7.61s/it]\r 48%|████▊     | 62/127.84375 [07:52<08:23,  7.64s/it]\r 49%|████▉     | 63/127.84375 [08:00<08:18,  7.68s/it]\r 50%|█████     | 64/127.84375 [08:07<08:06,  7.61s/it]\r 51%|█████     | 65/127.84375 [08:15<07:55,  7.56s/it]\r 52%|█████▏    | 66/127.84375 [08:22<07:49,  7.59s/it]\r 52%|█████▏    | 67/127.84375 [08:30<07:39,  7.55s/it]\r 53%|█████▎    | 68/127.84375 [08:37<07:32,  7.55s/it]\r 54%|█████▍    | 69/127.84375 [08:45<07:23,  7.53s/it]\r 55%|█████▍    | 70/127.84375 [08:52<07:15,  7.52s/it]\r 56%|█████▌    | 71/127.84375 [09:00<07:06,  7.49s/it]\r 56%|█████▋    | 72/127.84375 [09:07<07:03,  7.58s/it]\r 57%|█████▋    | 73/127.84375 [09:15<06:57,  7.61s/it]\r 58%|█████▊    | 74/127.84375 [09:23<06:48,  7.58s/it]\r 59%|█████▊    | 75/127.84375 [09:30<06:39,  7.56s/it]\r 59%|█████▉    | 76/127.84375 [09:38<06:33,  7.58s/it]\r 60%|██████    | 77/127.84375 [09:45<06:26,  7.60s/it]\r 61%|██████    | 78/127.84375 [09:53<06:18,  7.59s/it]\r 62%|██████▏   | 79/127.84375 [10:01<06:12,  7.62s/it]\r 63%|██████▎   | 80/127.84375 [10:08<06:02,  7.58s/it]\r 63%|██████▎   | 81/127.84375 [10:16<05:53,  7.55s/it]\r 64%|██████▍   | 82/127.84375 [10:23<05:47,  7.57s/it]\r 65%|██████▍   | 83/127.84375 [10:31<05:38,  7.55s/it]\r 66%|██████▌   | 84/127.84375 [10:38<05:30,  7.55s/it]\r 66%|██████▋   | 85/127.84375 [10:46<05:24,  7.57s/it]\r 67%|██████▋   | 86/127.84375 [10:53<05:16,  7.56s/it]\r 68%|██████▊   | 87/127.84375 [11:01<05:07,  7.53s/it]\r 69%|██████▉   | 88/127.84375 [11:08<05:00,  7.54s/it]\r 70%|██████▉   | 89/127.84375 [11:16<04:54,  7.58s/it]\r 70%|███████   | 90/127.84375 [11:24<04:45,  7.56s/it]\r 71%|███████   | 91/127.84375 [11:31<04:40,  7.61s/it]\r 72%|███████▏  | 92/127.84375 [11:39<04:33,  7.62s/it]\r 73%|███████▎  | 93/127.84375 [11:47<04:25,  7.61s/it]\r 74%|███████▎  | 94/127.84375 [11:54<04:15,  7.56s/it]\r 74%|███████▍  | 95/127.84375 [12:02<04:10,  7.62s/it]\r 75%|███████▌  | 96/127.84375 [12:09<04:02,  7.62s/it]\r 76%|███████▌  | 97/127.84375 [12:17<03:54,  7.61s/it]\r 77%|███████▋  | 98/127.84375 [12:25<03:46,  7.60s/it]\r 77%|███████▋  | 99/127.84375 [12:32<03:41,  7.69s/it]\r 78%|███████▊  | 100/127.84375 [12:40<03:33,  7.66s/it]\r 79%|███████▉  | 101/127.84375 [12:48<03:26,  7.69s/it]\r 80%|███████▉  | 102/127.84375 [12:55<03:16,  7.62s/it]\r 81%|████████  | 103/127.84375 [13:03<03:09,  7.62s/it]\r 81%|████████▏ | 104/127.84375 [13:10<03:01,  7.61s/it]\r 82%|████████▏ | 105/127.84375 [13:18<02:53,  7.58s/it]\r 83%|████████▎ | 106/127.84375 [13:25<02:44,  7.55s/it]\r 84%|████████▎ | 107/127.84375 [13:33<02:37,  7.56s/it]\r 84%|████████▍ | 108/127.84375 [13:40<02:29,  7.52s/it]\r 85%|████████▌ | 109/127.84375 [13:48<02:21,  7.52s/it]\r 86%|████████▌ | 110/127.84375 [13:56<02:15,  7.57s/it]\r 87%|████████▋ | 111/127.84375 [14:03<02:07,  7.58s/it]\r 88%|████████▊ | 112/127.84375 [14:11<01:59,  7.57s/it]\r 88%|████████▊ | 113/127.84375 [14:18<01:52,  7.55s/it]\r 89%|████████▉ | 114/127.84375 [14:26<01:44,  7.52s/it]\r 90%|████████▉ | 115/127.84375 [14:33<01:37,  7.55s/it]\r 91%|█████████ | 116/127.84375 [14:41<01:29,  7.55s/it]\r 92%|█████████▏| 117/127.84375 [14:48<01:21,  7.54s/it]\r 92%|█████████▏| 118/127.84375 [14:56<01:14,  7.58s/it]\r 93%|█████████▎| 119/127.84375 [15:04<01:07,  7.60s/it]\r 94%|█████████▍| 120/127.84375 [15:11<00:59,  7.55s/it]\r 95%|█████████▍| 121/127.84375 [15:19<00:51,  7.58s/it]\r 95%|█████████▌| 122/127.84375 [15:26<00:44,  7.57s/it]\r 96%|█████████▌| 123/127.84375 [15:34<00:36,  7.58s/it]\r 97%|█████████▋| 124/127.84375 [15:41<00:28,  7.54s/it]\r 98%|█████████▊| 125/127.84375 [15:49<00:21,  7.56s/it]\r 99%|█████████▊| 126/127.84375 [15:57<00:13,  7.55s/it]\r 99%|█████████▉| 127/127.84375 [16:04<00:06,  7.54s/it]/databricks/python/lib/python3.11/site-packages/tqdm/std.py:524: TqdmWarning: clamping frac to range [0, 1]\n",
      "  full_bar = Bar(frac,\n",
      "\r100%|██████████| 128/127.84375 [16:12<-1:59:59,  7.55s/it]\r129it [16:19,  7.55s/it]                                  \r130it [16:27,  7.60s/it]\r131it [16:35,  7.62s/it]\r132it [16:42,  7.56s/it]\r133it [16:50,  7.58s/it]\r134it [16:57,  7.57s/it]\r135it [17:05,  7.58s/it]\r136it [17:12,  7.59s/it]\r137it [17:20,  7.62s/it]\r138it [17:28,  7.63s/it]\r139it [17:35,  7.53s/it]\r140it [17:43,  7.52s/it]\r141it [17:50,  7.53s/it]\r142it [17:58,  7.53s/it]\r143it [18:05,  7.50s/it]\r144it [18:13,  7.51s/it]\r145it [18:20,  7.51s/it]\r146it [18:27,  7.46s/it]\r147it [18:35,  7.47s/it]\r148it [18:43,  7.56s/it]\r149it [18:50,  7.54s/it]\r150it [18:58,  7.59s/it]\r151it [19:06,  7.59s/it]\r152it [19:13,  7.58s/it]\r153it [19:21,  7.56s/it]\r154it [19:28,  7.57s/it]\r155it [19:36,  7.54s/it]\r156it [19:43,  7.52s/it]\r157it [19:51,  7.56s/it]\r158it [19:58,  7.52s/it]\r159it [20:06,  7.52s/it]\r160it [20:13,  7.55s/it]\r161it [20:21,  7.58s/it]\r162it [20:29,  7.61s/it]\r163it [20:36,  7.61s/it]\r164it [20:44,  7.60s/it]\r165it [20:51,  7.56s/it]\r166it [20:59,  7.54s/it]\r167it [21:06,  7.57s/it]\r168it [21:14,  7.55s/it]\r169it [21:22,  7.57s/it]\r170it [21:29,  7.57s/it]\r171it [21:37,  7.53s/it]\r172it [21:44,  7.61s/it]\r173it [21:52,  7.61s/it]\r174it [22:00,  7.60s/it]\r175it [22:07,  7.53s/it]\r176it [22:14,  7.51s/it]\r177it [22:22,  7.56s/it]\r178it [22:30,  7.57s/it]\r179it [22:37,  7.54s/it]\r180it [22:45,  7.55s/it]\r181it [22:52,  7.55s/it]\r182it [23:00,  7.52s/it]\r183it [23:07,  7.53s/it]\r184it [23:15,  7.58s/it]\r185it [23:23,  7.59s/it]\r186it [23:30,  7.57s/it]\r187it [23:38,  7.53s/it]\r188it [23:45,  7.59s/it]\r189it [23:53,  7.56s/it]\r190it [24:00,  7.61s/it]\r191it [24:08,  7.58s/it]\r192it [24:16,  7.58s/it]\r193it [24:23,  7.58s/it]\r194it [24:31,  7.58s/it]\r195it [24:38,  7.60s/it]\r196it [24:46,  7.62s/it]\r197it [24:54,  7.62s/it]\r198it [25:01,  7.60s/it]\r199it [25:09,  7.66s/it]\r200it [25:16,  7.60s/it]\r201it [25:24,  7.61s/it]\r202it [25:32,  7.57s/it]\r203it [25:39,  7.55s/it]\r204it [25:47,  7.59s/it]\r205it [25:54,  7.61s/it]\r206it [26:02,  7.63s/it]\r207it [26:10,  7.62s/it]\r208it [26:17,  7.55s/it]\r209it [26:25,  7.57s/it]\r210it [26:32,  7.58s/it]\r211it [26:40,  7.58s/it]\r212it [26:48,  7.59s/it]\r213it [26:55,  7.60s/it]\r214it [27:03,  7.58s/it]\r215it [27:10,  7.54s/it]\r216it [27:18,  7.59s/it]\r217it [27:25,  7.58s/it]\r218it [27:33,  7.56s/it]\r219it [27:40,  7.57s/it]\r220it [27:48,  7.57s/it]\r221it [27:56,  7.60s/it]\r222it [28:03,  7.61s/it]\r223it [28:11,  7.57s/it]\r224it [28:19,  7.62s/it]\r225it [28:26,  7.69s/it]\r226it [28:34,  7.68s/it]\r227it [28:42,  7.62s/it]\r228it [28:49,  7.65s/it]\r229it [28:57,  7.61s/it]\r230it [29:04,  7.53s/it]\r231it [29:12,  7.54s/it]\r232it [29:19,  7.53s/it]\r233it [29:27,  7.53s/it]\r234it [29:34,  7.58s/it]\r235it [29:42,  7.64s/it]\r236it [29:50,  7.60s/it]\r237it [29:58,  7.67s/it]\r238it [30:05,  7.66s/it]\r239it [30:13,  7.58s/it]\r240it [30:20,  7.61s/it]\r240it [30:20,  7.59s/it]\n"
     ]
    },
    {
     "name": "stdout",
     "output_type": "stream",
     "text": [
      "Epoch 41 train loss: 0.00186920166015625\n",
      "[Train - End / Test - Start Epoch 42] GPU Memory: Allocated=2.31GB, Reserved=3.39GB\n"
     ]
    },
    {
     "name": "stderr",
     "output_type": "stream",
     "text": [
      "\r  0%|          | 0/14.1875 [00:00<?, ?it/s]\r  7%|▋         | 1/14.1875 [00:06<01:31,  6.95s/it]\r 14%|█▍        | 2/14.1875 [00:13<01:22,  6.78s/it]\r 21%|██        | 3/14.1875 [00:20<01:15,  6.71s/it]\r 28%|██▊       | 4/14.1875 [00:26<01:08,  6.70s/it]\r 35%|███▌      | 5/14.1875 [00:33<01:01,  6.65s/it]\r 42%|████▏     | 6/14.1875 [00:40<00:54,  6.65s/it]\r 49%|████▉     | 7/14.1875 [00:46<00:47,  6.67s/it]\r 56%|█████▋    | 8/14.1875 [00:53<00:41,  6.67s/it]\r 63%|██████▎   | 9/14.1875 [01:00<00:34,  6.65s/it]\r 70%|███████   | 10/14.1875 [01:06<00:27,  6.63s/it]\r 78%|███████▊  | 11/14.1875 [01:13<00:21,  6.67s/it]\r 85%|████████▍ | 12/14.1875 [01:20<00:14,  6.65s/it]\r 92%|█████████▏| 13/14.1875 [01:26<00:07,  6.63s/it]\r 99%|█████████▊| 14/14.1875 [01:33<00:01,  6.63s/it]\r15it [01:39,  6.65s/it]                             \r16it [01:46,  6.65s/it]\r17it [01:53,  6.67s/it]\r18it [02:00,  6.69s/it]\r19it [02:06,  6.67s/it]\r20it [02:13,  6.67s/it]\r21it [02:20,  6.70s/it]\r22it [02:26,  6.71s/it]\r23it [02:33,  6.66s/it]\r24it [02:39,  6.64s/it]\r25it [02:46,  6.60s/it]\r26it [02:53,  6.61s/it]\r27it [02:59,  6.66s/it]\r28it [03:06,  6.68s/it]\r29it [03:13,  6.62s/it]\r30it [03:19,  6.65s/it]\r30it [03:19,  6.66s/it]\n"
     ]
    },
    {
     "name": "stdout",
     "output_type": "stream",
     "text": [
      "Cumulative Accuracy for CP: 69.68%\n",
      "Cumulative Accuracy for chopping-board: 92.78%\n",
      "Cumulative Accuracy for finalstep: 90.32%\n",
      "Cumulative Accuracy for glass-bowl-large: 76.43%\n",
      "Cumulative Accuracy for glass-bowl-medium: 72.54%\n",
      "Cumulative Accuracy for glass-bowl-small: 35.40%\n",
      "Cumulative Accuracy for grill-plate: nan%\n",
      "Cumulative Accuracy for group_step: 76.67%\n",
      "Cumulative Accuracy for medium: 89.92%\n",
      "Cumulative Accuracy for oven-dish: 96.83%\n",
      "Cumulative Accuracy for oven-tray: 96.03%\n",
      "Cumulative Accuracy for pan: 100.00%\n",
      "Cumulative Accuracy for pot-one-handle: 97.54%\n",
      "Cumulative Accuracy for pot-two-handles-medium: 78.02%\n",
      "Cumulative Accuracy for pot-two-handles-shallow: 88.49%\n",
      "Cumulative Accuracy for pot-two-handles-small: nan%\n",
      "Cumulative Accuracy for saucepan: 95.24%\n",
      "\n",
      "Mean Top 3 Accuracy (Val): 94.00%\n",
      "Mean Top 1 Accuracy (Val): 85.56%\n",
      "Macro-averaged Accuracy (Val): 83.72%\n",
      "Epoch 41 test loss: 26.78125\n",
      "\n",
      "[Test - End Epoch 42] GPU Memory: Allocated=2.31GB, Reserved=3.39GB\n",
      "\n",
      "Epoch 43/120\n",
      "[Train - Start Epoch 43] GPU Memory: Allocated=2.31GB, Reserved=3.39GB\n"
     ]
    },
    {
     "name": "stderr",
     "output_type": "stream",
     "text": [
      "\r  0%|          | 0/127.84375 [00:00<?, ?it/s]\r  1%|          | 1/127.84375 [00:07<16:18,  7.71s/it]\r  2%|▏         | 2/127.84375 [00:15<16:08,  7.70s/it]\r  2%|▏         | 3/127.84375 [00:23<16:03,  7.71s/it]\r  3%|▎         | 4/127.84375 [00:30<15:47,  7.65s/it]\r  4%|▍         | 5/127.84375 [00:38<15:40,  7.66s/it]\r  5%|▍         | 6/127.84375 [00:45<15:31,  7.64s/it]\r  5%|▌         | 7/127.84375 [00:53<15:19,  7.61s/it]\r  6%|▋         | 8/127.84375 [01:01<15:07,  7.57s/it]\r  7%|▋         | 9/127.84375 [01:08<14:59,  7.57s/it]\r  8%|▊         | 10/127.84375 [01:16<14:49,  7.55s/it]\r  9%|▊         | 11/127.84375 [01:23<14:42,  7.55s/it]\r  9%|▉         | 12/127.84375 [01:31<14:36,  7.56s/it]\r 10%|█         | 13/127.84375 [01:38<14:24,  7.53s/it]\r 11%|█         | 14/127.84375 [01:46<14:21,  7.57s/it]\r 12%|█▏        | 15/127.84375 [01:53<14:16,  7.59s/it]\r 13%|█▎        | 16/127.84375 [02:01<14:08,  7.59s/it]\r 13%|█▎        | 17/127.84375 [02:09<14:01,  7.59s/it]\r 14%|█▍        | 18/127.84375 [02:16<13:55,  7.61s/it]\r 15%|█▍        | 19/127.84375 [02:24<13:48,  7.61s/it]\r 16%|█▌        | 20/127.84375 [02:31<13:39,  7.60s/it]\r 16%|█▋        | 21/127.84375 [02:39<13:32,  7.61s/it]\r 17%|█▋        | 22/127.84375 [02:47<13:24,  7.60s/it]\r 18%|█▊        | 23/127.84375 [02:54<13:16,  7.60s/it]\r 19%|█▉        | 24/127.84375 [03:02<13:04,  7.56s/it]\r 20%|█▉        | 25/127.84375 [03:09<13:02,  7.61s/it]\r 20%|██        | 26/127.84375 [03:17<12:56,  7.63s/it]\r 21%|██        | 27/127.84375 [03:25<12:43,  7.57s/it]\r 22%|██▏       | 28/127.84375 [03:32<12:38,  7.60s/it]\r 23%|██▎       | 29/127.84375 [03:40<12:32,  7.61s/it]\r 23%|██▎       | 30/127.84375 [03:47<12:18,  7.54s/it]\r 24%|██▍       | 31/127.84375 [03:55<12:16,  7.61s/it]\r 25%|██▌       | 32/127.84375 [04:03<12:09,  7.61s/it]\r 26%|██▌       | 33/127.84375 [04:10<12:05,  7.65s/it]\r 27%|██▋       | 34/127.84375 [04:18<11:56,  7.63s/it]\r 27%|██▋       | 35/127.84375 [04:26<11:47,  7.62s/it]\r 28%|██▊       | 36/127.84375 [04:33<11:39,  7.61s/it]\r 29%|██▉       | 37/127.84375 [04:41<11:33,  7.64s/it]\r 30%|██▉       | 38/127.84375 [04:49<11:28,  7.66s/it]\r 31%|███       | 39/127.84375 [04:56<11:19,  7.64s/it]\r 31%|███▏      | 40/127.84375 [05:04<11:11,  7.64s/it]\r 32%|███▏      | 41/127.84375 [05:11<11:03,  7.64s/it]\r 33%|███▎      | 42/127.84375 [05:19<10:51,  7.59s/it]\r 34%|███▎      | 43/127.84375 [05:26<10:42,  7.58s/it]\r 34%|███▍      | 44/127.84375 [05:34<10:34,  7.57s/it]\r 35%|███▌      | 45/127.84375 [05:42<10:28,  7.59s/it]\r 36%|███▌      | 46/127.84375 [05:49<10:23,  7.62s/it]\r 37%|███▋      | 47/127.84375 [05:57<10:16,  7.62s/it]\r 38%|███▊      | 48/127.84375 [06:05<10:12,  7.68s/it]\r 38%|███▊      | 49/127.84375 [06:12<10:04,  7.66s/it]\r 39%|███▉      | 50/127.84375 [06:20<09:57,  7.67s/it]\r 40%|███▉      | 51/127.84375 [06:28<09:47,  7.65s/it]\r 41%|████      | 52/127.84375 [06:35<09:39,  7.64s/it]\r 41%|████▏     | 53/127.84375 [06:43<09:32,  7.66s/it]\r 42%|████▏     | 54/127.84375 [06:51<09:25,  7.65s/it]\r 43%|████▎     | 55/127.84375 [06:58<09:20,  7.69s/it]\r 44%|████▍     | 56/127.84375 [07:06<09:13,  7.70s/it]\r 45%|████▍     | 57/127.84375 [07:14<09:00,  7.63s/it]\r 45%|████▌     | 58/127.84375 [07:21<08:53,  7.64s/it]\r 46%|████▌     | 59/127.84375 [07:29<08:47,  7.66s/it]\r 47%|████▋     | 60/127.84375 [07:37<08:38,  7.64s/it]\r 48%|████▊     | 61/127.84375 [07:44<08:29,  7.63s/it]\r 48%|████▊     | 62/127.84375 [07:52<08:23,  7.64s/it]\r 49%|████▉     | 63/127.84375 [07:59<08:14,  7.62s/it]\r 50%|█████     | 64/127.84375 [08:07<08:06,  7.62s/it]\r 51%|█████     | 65/127.84375 [08:15<07:57,  7.60s/it]\r 52%|█████▏    | 66/127.84375 [08:22<07:50,  7.62s/it]\r 52%|█████▏    | 67/127.84375 [08:30<07:45,  7.64s/it]\r 53%|█████▎    | 68/127.84375 [08:38<07:38,  7.66s/it]\r 54%|█████▍    | 69/127.84375 [08:45<07:32,  7.68s/it]\r 55%|█████▍    | 70/127.84375 [08:53<07:22,  7.66s/it]\r 56%|█████▌    | 71/127.84375 [09:01<07:13,  7.63s/it]\r 56%|█████▋    | 72/127.84375 [09:08<07:09,  7.69s/it]\r 57%|█████▋    | 73/127.84375 [09:16<07:01,  7.69s/it]\r 58%|█████▊    | 74/127.84375 [09:24<06:53,  7.68s/it]\r 59%|█████▊    | 75/127.84375 [09:31<06:45,  7.68s/it]\r 59%|█████▉    | 76/127.84375 [09:39<06:39,  7.71s/it]\r 60%|██████    | 77/127.84375 [09:47<06:30,  7.68s/it]\r 61%|██████    | 78/127.84375 [09:54<06:21,  7.66s/it]\r 62%|██████▏   | 79/127.84375 [10:02<06:12,  7.64s/it]\r 63%|██████▎   | 80/127.84375 [10:10<06:06,  7.66s/it]\r 63%|██████▎   | 81/127.84375 [10:17<05:58,  7.65s/it]\r 64%|██████▍   | 82/127.84375 [10:25<05:51,  7.68s/it]\r 65%|██████▍   | 83/127.84375 [10:33<05:45,  7.70s/it]\r 66%|██████▌   | 84/127.84375 [10:40<05:35,  7.66s/it]\r 66%|██████▋   | 85/127.84375 [10:48<05:28,  7.67s/it]\r 67%|██████▋   | 86/127.84375 [10:56<05:21,  7.69s/it]\r 68%|██████▊   | 87/127.84375 [11:04<05:15,  7.73s/it]\r 69%|██████▉   | 88/127.84375 [11:11<05:07,  7.71s/it]\r 70%|██████▉   | 89/127.84375 [11:19<04:56,  7.62s/it]\r 70%|███████   | 90/127.84375 [11:26<04:49,  7.64s/it]\r 71%|███████   | 91/127.84375 [11:34<04:41,  7.63s/it]\r 72%|███████▏  | 92/127.84375 [11:42<04:32,  7.59s/it]\r 73%|███████▎  | 93/127.84375 [11:49<04:24,  7.59s/it]\r 74%|███████▎  | 94/127.84375 [11:57<04:18,  7.65s/it]\r 74%|███████▍  | 95/127.84375 [12:04<04:09,  7.59s/it]\r 75%|███████▌  | 96/127.84375 [12:12<04:02,  7.60s/it]\r 76%|███████▌  | 97/127.84375 [12:20<03:55,  7.65s/it]\r 77%|███████▋  | 98/127.84375 [12:27<03:46,  7.61s/it]\r 77%|███████▋  | 99/127.84375 [12:35<03:39,  7.62s/it]\r 78%|███████▊  | 100/127.84375 [12:43<03:33,  7.67s/it]\r 79%|███████▉  | 101/127.84375 [12:50<03:26,  7.68s/it]\r 80%|███████▉  | 102/127.84375 [12:59<03:22,  7.82s/it]\r 81%|████████  | 103/127.84375 [13:06<03:12,  7.76s/it]\r 81%|████████▏ | 104/127.84375 [13:14<03:05,  7.76s/it]\r 82%|████████▏ | 105/127.84375 [13:22<02:57,  7.75s/it]\r 83%|████████▎ | 106/127.84375 [13:29<02:47,  7.69s/it]\r 84%|████████▎ | 107/127.84375 [13:37<02:40,  7.69s/it]\r 84%|████████▍ | 108/127.84375 [13:45<02:32,  7.69s/it]\r 85%|████████▌ | 109/127.84375 [13:52<02:25,  7.73s/it]\r 86%|████████▌ | 110/127.84375 [14:00<02:17,  7.70s/it]\r 87%|████████▋ | 111/127.84375 [14:08<02:09,  7.71s/it]\r 88%|████████▊ | 112/127.84375 [14:15<02:02,  7.70s/it]\r 88%|████████▊ | 113/127.84375 [14:23<01:54,  7.69s/it]\r 89%|████████▉ | 114/127.84375 [14:31<01:46,  7.70s/it]\r 90%|████████▉ | 115/127.84375 [14:39<01:38,  7.71s/it]\r 91%|█████████ | 116/127.84375 [14:46<01:30,  7.64s/it]\r 92%|█████████▏| 117/127.84375 [14:54<01:22,  7.59s/it]\r 92%|█████████▏| 118/127.84375 [15:01<01:15,  7.66s/it]\r 93%|█████████▎| 119/127.84375 [15:09<01:08,  7.70s/it]\r 94%|█████████▍| 120/127.84375 [15:17<01:00,  7.69s/it]\r 95%|█████████▍| 121/127.84375 [15:24<00:52,  7.61s/it]\r 95%|█████████▌| 122/127.84375 [15:32<00:44,  7.66s/it]\r 96%|█████████▌| 123/127.84375 [15:40<00:37,  7.67s/it]\r 97%|█████████▋| 124/127.84375 [15:47<00:29,  7.68s/it]\r 98%|█████████▊| 125/127.84375 [15:55<00:21,  7.69s/it]\r 99%|█████████▊| 126/127.84375 [16:03<00:14,  7.67s/it]\r 99%|█████████▉| 127/127.84375 [16:10<00:06,  7.65s/it]/databricks/python/lib/python3.11/site-packages/tqdm/std.py:524: TqdmWarning: clamping frac to range [0, 1]\n",
      "  full_bar = Bar(frac,\n",
      "\r100%|██████████| 128/127.84375 [16:18<-1:59:59,  7.71s/it]\r129it [16:26,  7.74s/it]                                  \r130it [16:33,  7.66s/it]\r131it [16:41,  7.66s/it]\r132it [16:49,  7.68s/it]\r133it [16:57,  7.69s/it]\r134it [17:04,  7.67s/it]\r135it [17:12,  7.72s/it]\r136it [17:20,  7.67s/it]\r137it [17:27,  7.64s/it]\r138it [17:35,  7.65s/it]\r139it [17:42,  7.63s/it]\r140it [17:50,  7.61s/it]\r141it [17:58,  7.59s/it]\r142it [18:05,  7.57s/it]\r143it [18:12,  7.50s/it]\r144it [18:20,  7.55s/it]\r145it [18:28,  7.55s/it]\r146it [18:35,  7.56s/it]\r147it [18:43,  7.61s/it]\r148it [18:51,  7.61s/it]\r149it [18:58,  7.65s/it]\r150it [19:06,  7.65s/it]\r151it [19:14,  7.64s/it]\r152it [19:21,  7.61s/it]\r153it [19:29,  7.60s/it]\r154it [19:36,  7.57s/it]\r155it [19:44,  7.62s/it]\r156it [19:51,  7.61s/it]\r157it [19:59,  7.60s/it]\r158it [20:07,  7.58s/it]\r159it [20:14,  7.62s/it]\r160it [20:22,  7.61s/it]\r161it [20:30,  7.67s/it]\r162it [20:37,  7.64s/it]\r163it [20:45,  7.69s/it]\r164it [20:53,  7.71s/it]\r165it [21:01,  7.76s/it]\r166it [21:08,  7.74s/it]\r167it [21:16,  7.77s/it]\r168it [21:24,  7.73s/it]\r169it [21:32,  7.79s/it]\r170it [21:40,  7.80s/it]\r171it [21:47,  7.79s/it]\r172it [21:55,  7.84s/it]\r173it [22:03,  7.80s/it]\r174it [22:11,  7.72s/it]\r175it [22:18,  7.72s/it]\r176it [22:26,  7.68s/it]\r177it [22:34,  7.70s/it]\r178it [22:41,  7.71s/it]\r179it [22:49,  7.76s/it]\r180it [22:57,  7.77s/it]\r181it [23:05,  7.80s/it]\r182it [23:13,  7.80s/it]\r183it [23:20,  7.70s/it]\r184it [23:28,  7.68s/it]\r185it [23:35,  7.64s/it]\r186it [23:43,  7.66s/it]\r187it [23:51,  7.65s/it]\r188it [23:58,  7.62s/it]\r189it [24:06,  7.58s/it]\r190it [24:14,  7.63s/it]\r191it [24:21,  7.60s/it]\r192it [24:29,  7.62s/it]\r193it [24:37,  7.67s/it]\r194it [24:44,  7.64s/it]\r195it [24:52,  7.63s/it]\r196it [24:59,  7.63s/it]\r197it [25:07,  7.61s/it]\r198it [25:15,  7.63s/it]\r199it [25:22,  7.65s/it]\r200it [25:30,  7.60s/it]\r201it [25:37,  7.64s/it]\r202it [25:45,  7.62s/it]\r203it [25:53,  7.60s/it]\r204it [26:00,  7.60s/it]\r205it [26:08,  7.63s/it]\r206it [26:16,  7.65s/it]\r207it [26:23,  7.63s/it]\r208it [26:31,  7.65s/it]\r209it [26:39,  7.66s/it]\r210it [26:46,  7.68s/it]\r211it [26:54,  7.72s/it]\r212it [27:02,  7.70s/it]\r213it [27:09,  7.70s/it]\r214it [27:17,  7.75s/it]\r215it [27:25,  7.73s/it]\r216it [27:33,  7.68s/it]\r217it [27:40,  7.68s/it]\r218it [27:48,  7.71s/it]\r219it [27:56,  7.74s/it]\r220it [28:04,  7.75s/it]\r221it [28:11,  7.71s/it]\r222it [28:19,  7.67s/it]\r223it [28:26,  7.67s/it]\r224it [28:34,  7.67s/it]\r225it [28:42,  7.64s/it]\r226it [28:49,  7.62s/it]\r227it [28:57,  7.67s/it]\r228it [29:05,  7.63s/it]\r229it [29:12,  7.64s/it]\r230it [29:20,  7.62s/it]\r231it [29:28,  7.64s/it]\r232it [29:35,  7.63s/it]\r233it [29:43,  7.63s/it]\r234it [29:51,  7.67s/it]\r235it [29:58,  7.66s/it]\r236it [30:06,  7.60s/it]\r237it [30:13,  7.63s/it]\r238it [30:21,  7.64s/it]\r239it [30:28,  7.59s/it]\r240it [30:36,  7.54s/it]\r240it [30:36,  7.65s/it]\n"
     ]
    },
    {
     "name": "stdout",
     "output_type": "stream",
     "text": [
      "Epoch 42 train loss: 0.083740234375\n",
      "[Train - End / Test - Start Epoch 43] GPU Memory: Allocated=2.31GB, Reserved=3.39GB\n"
     ]
    },
    {
     "name": "stderr",
     "output_type": "stream",
     "text": [
      "\r  0%|          | 0/14.1875 [00:00<?, ?it/s]\r  7%|▋         | 1/14.1875 [00:06<01:26,  6.52s/it]\r 14%|█▍        | 2/14.1875 [00:13<01:20,  6.61s/it]\r 21%|██        | 3/14.1875 [00:19<01:14,  6.64s/it]\r 28%|██▊       | 4/14.1875 [00:26<01:07,  6.63s/it]\r 35%|███▌      | 5/14.1875 [00:33<01:00,  6.63s/it]\r 42%|████▏     | 6/14.1875 [00:39<00:54,  6.61s/it]\r 49%|████▉     | 7/14.1875 [00:46<00:47,  6.61s/it]\r 56%|█████▋    | 8/14.1875 [00:52<00:40,  6.59s/it]\r 63%|██████▎   | 9/14.1875 [00:59<00:34,  6.62s/it]\r 70%|███████   | 10/14.1875 [01:06<00:27,  6.65s/it]\r 78%|███████▊  | 11/14.1875 [01:12<00:21,  6.61s/it]\r 85%|████████▍ | 12/14.1875 [01:19<00:14,  6.64s/it]\r 92%|█████████▏| 13/14.1875 [01:25<00:07,  6.60s/it]\r 99%|█████████▊| 14/14.1875 [01:32<00:01,  6.60s/it]\r15it [01:39,  6.58s/it]                             \r16it [01:45,  6.58s/it]\r17it [01:52,  6.61s/it]\r18it [01:58,  6.61s/it]\r19it [02:05,  6.61s/it]\r20it [02:12,  6.60s/it]\r21it [02:18,  6.63s/it]\r22it [02:25,  6.64s/it]\r23it [02:32,  6.64s/it]\r24it [02:38,  6.65s/it]\r25it [02:45,  6.71s/it]\r26it [02:52,  6.67s/it]\r27it [02:58,  6.67s/it]\r28it [03:05,  6.67s/it]\r29it [03:12,  6.67s/it]\r30it [03:18,  6.68s/it]\r30it [03:18,  6.63s/it]\n"
     ]
    },
    {
     "name": "stdout",
     "output_type": "stream",
     "text": [
      "Cumulative Accuracy for CP: 69.53%\n",
      "Cumulative Accuracy for chopping-board: 92.64%\n",
      "Cumulative Accuracy for finalstep: 90.08%\n",
      "Cumulative Accuracy for glass-bowl-large: 76.05%\n",
      "Cumulative Accuracy for glass-bowl-medium: 72.95%\n",
      "Cumulative Accuracy for glass-bowl-small: 35.58%\n",
      "Cumulative Accuracy for grill-plate: nan%\n",
      "Cumulative Accuracy for group_step: 76.82%\n",
      "Cumulative Accuracy for medium: 90.16%\n",
      "Cumulative Accuracy for oven-dish: 96.51%\n",
      "Cumulative Accuracy for oven-tray: 95.97%\n",
      "Cumulative Accuracy for pan: 100.00%\n",
      "Cumulative Accuracy for pot-one-handle: 97.29%\n",
      "Cumulative Accuracy for pot-two-handles-medium: 77.52%\n",
      "Cumulative Accuracy for pot-two-handles-shallow: 88.37%\n",
      "Cumulative Accuracy for pot-two-handles-small: nan%\n",
      "Cumulative Accuracy for saucepan: 95.35%\n",
      "\n",
      "Mean Top 3 Accuracy (Val): 94.22%\n",
      "Mean Top 1 Accuracy (Val): 80.67%\n",
      "Macro-averaged Accuracy (Val): 83.65%\n",
      "Epoch 42 test loss: 26.1875\n",
      "\n",
      "[Test - End Epoch 43] GPU Memory: Allocated=2.31GB, Reserved=3.39GB\n",
      "\n",
      "Epoch 44/120\n",
      "[Train - Start Epoch 44] GPU Memory: Allocated=2.31GB, Reserved=3.39GB\n"
     ]
    },
    {
     "name": "stderr",
     "output_type": "stream",
     "text": [
      "\r  0%|          | 0/127.84375 [00:00<?, ?it/s]\r  1%|          | 1/127.84375 [00:07<16:15,  7.69s/it]\r  2%|▏         | 2/127.84375 [00:15<15:58,  7.62s/it]\r  2%|▏         | 3/127.84375 [00:22<15:42,  7.55s/it]\r  3%|▎         | 4/127.84375 [00:30<15:35,  7.55s/it]\r  4%|▍         | 5/127.84375 [00:37<15:28,  7.56s/it]\r  5%|▍         | 6/127.84375 [00:45<15:20,  7.55s/it]\r  5%|▌         | 7/127.84375 [00:52<15:05,  7.50s/it]\r  6%|▋         | 8/127.84375 [01:00<14:59,  7.50s/it]\r  7%|▋         | 9/127.84375 [01:07<14:56,  7.54s/it]\r  8%|▊         | 10/127.84375 [01:21<18:21,  9.35s/it]\r  9%|▊         | 11/127.84375 [01:28<17:09,  8.81s/it]\r  9%|▉         | 12/127.84375 [01:36<16:19,  8.45s/it]\r 10%|█         | 13/127.84375 [01:44<15:37,  8.16s/it]\r 11%|█         | 14/127.84375 [01:51<15:11,  8.01s/it]\r 12%|█▏        | 15/127.84375 [01:59<14:54,  7.93s/it]\r 13%|█▎        | 16/127.84375 [02:07<14:46,  7.92s/it]\r 13%|█▎        | 17/127.84375 [02:15<14:31,  7.87s/it]\r 14%|█▍        | 18/127.84375 [02:22<14:12,  7.76s/it]\r 15%|█▍        | 19/127.84375 [02:30<14:05,  7.77s/it]\r 16%|█▌        | 20/127.84375 [02:38<13:54,  7.73s/it]\r 16%|█▋        | 21/127.84375 [02:45<13:36,  7.64s/it]\r 17%|█▋        | 22/127.84375 [02:53<13:26,  7.62s/it]\r 18%|█▊        | 23/127.84375 [03:00<13:18,  7.62s/it]\r 19%|█▉        | 24/127.84375 [03:08<13:06,  7.58s/it]\r 20%|█▉        | 25/127.84375 [03:15<13:01,  7.60s/it]\r 20%|██        | 26/127.84375 [03:23<12:50,  7.57s/it]\r 21%|██        | 27/127.84375 [03:30<12:39,  7.53s/it]\r 22%|██▏       | 28/127.84375 [03:38<12:34,  7.56s/it]\r 23%|██▎       | 29/127.84375 [03:45<12:29,  7.58s/it]\r 23%|██▎       | 30/127.84375 [03:53<12:26,  7.62s/it]\r 24%|██▍       | 31/127.84375 [04:01<12:14,  7.58s/it]\r 25%|██▌       | 32/127.84375 [04:08<12:11,  7.63s/it]\r 26%|██▌       | 33/127.84375 [04:16<12:02,  7.62s/it]\r 27%|██▋       | 34/127.84375 [04:24<11:55,  7.63s/it]\r 27%|██▋       | 35/127.84375 [04:31<11:46,  7.61s/it]\r 28%|██▊       | 36/127.84375 [04:39<11:40,  7.63s/it]\r 29%|██▉       | 37/127.84375 [04:46<11:29,  7.59s/it]\r 30%|██▉       | 38/127.84375 [04:54<11:22,  7.60s/it]\r 31%|███       | 39/127.84375 [05:02<11:16,  7.62s/it]\r 31%|███▏      | 40/127.84375 [05:09<11:05,  7.58s/it]\r 32%|███▏      | 41/127.84375 [05:17<10:54,  7.54s/it]\r 33%|███▎      | 42/127.84375 [05:24<10:48,  7.55s/it]\r 34%|███▎      | 43/127.84375 [05:32<10:44,  7.59s/it]\r 34%|███▍      | 44/127.84375 [05:39<10:30,  7.52s/it]\r 35%|███▌      | 45/127.84375 [05:47<10:28,  7.59s/it]\r 36%|███▌      | 46/127.84375 [05:55<10:20,  7.59s/it]\r 37%|███▋      | 47/127.84375 [06:02<10:09,  7.54s/it]\r 38%|███▊      | 48/127.84375 [06:10<10:04,  7.57s/it]\r 38%|███▊      | 49/127.84375 [06:17<09:54,  7.54s/it]\r 39%|███▉      | 50/127.84375 [06:25<09:46,  7.54s/it]\r 40%|███▉      | 51/127.84375 [06:32<09:36,  7.51s/it]\r 41%|████      | 52/127.84375 [06:40<09:30,  7.53s/it]\r 41%|████▏     | 53/127.84375 [06:47<09:23,  7.53s/it]\r 42%|████▏     | 54/127.84375 [06:55<09:14,  7.51s/it]\r 43%|████▎     | 55/127.84375 [07:02<09:13,  7.59s/it]\r 44%|████▍     | 56/127.84375 [07:10<09:01,  7.54s/it]\r 45%|████▍     | 57/127.84375 [07:17<08:55,  7.56s/it]\r 45%|████▌     | 58/127.84375 [07:25<08:49,  7.58s/it]\r 46%|████▌     | 59/127.84375 [07:33<08:44,  7.61s/it]\r 47%|████▋     | 60/127.84375 [07:40<08:35,  7.60s/it]\r 48%|████▊     | 61/127.84375 [07:48<08:28,  7.61s/it]\r 48%|████▊     | 62/127.84375 [07:55<08:19,  7.58s/it]\r 49%|████▉     | 63/127.84375 [08:03<08:12,  7.59s/it]\r 50%|█████     | 64/127.84375 [08:11<08:03,  7.57s/it]\r 51%|█████     | 65/127.84375 [08:18<07:58,  7.61s/it]\r 52%|█████▏    | 66/127.84375 [08:26<07:48,  7.58s/it]\r 52%|█████▏    | 67/127.84375 [08:33<07:42,  7.60s/it]\r 53%|█████▎    | 68/127.84375 [08:41<07:31,  7.54s/it]\r 54%|█████▍    | 69/127.84375 [08:48<07:24,  7.56s/it]\r 55%|█████▍    | 70/127.84375 [08:56<07:16,  7.55s/it]\r 56%|█████▌    | 71/127.84375 [09:04<07:08,  7.55s/it]\r 56%|█████▋    | 72/127.84375 [09:11<07:00,  7.52s/it]\r 57%|█████▋    | 73/127.84375 [09:19<06:56,  7.60s/it]\r 58%|█████▊    | 74/127.84375 [09:26<06:48,  7.58s/it]\r 59%|█████▊    | 75/127.84375 [09:34<06:45,  7.67s/it]\r 59%|█████▉    | 76/127.84375 [09:42<06:37,  7.67s/it]\r 60%|██████    | 77/127.84375 [09:50<06:30,  7.68s/it]\r 61%|██████    | 78/127.84375 [09:57<06:22,  7.67s/it]\r 62%|██████▏   | 79/127.84375 [10:05<06:11,  7.60s/it]\r 63%|██████▎   | 80/127.84375 [10:12<06:04,  7.63s/it]\r 63%|██████▎   | 81/127.84375 [10:20<05:56,  7.60s/it]\r 64%|██████▍   | 82/127.84375 [10:27<05:48,  7.59s/it]\r 65%|██████▍   | 83/127.84375 [10:35<05:41,  7.61s/it]\r 66%|██████▌   | 84/127.84375 [10:43<05:32,  7.58s/it]\r 66%|██████▋   | 85/127.84375 [10:50<05:25,  7.59s/it]\r 67%|██████▋   | 86/127.84375 [10:58<05:16,  7.57s/it]\r 68%|██████▊   | 87/127.84375 [11:05<05:09,  7.58s/it]\r 69%|██████▉   | 88/127.84375 [11:13<05:01,  7.57s/it]\r 70%|██████▉   | 89/127.84375 [11:20<04:52,  7.52s/it]\r 70%|███████   | 90/127.84375 [11:28<04:45,  7.54s/it]\r 71%|███████   | 91/127.84375 [11:36<04:38,  7.56s/it]\r 72%|███████▏  | 92/127.84375 [11:43<04:30,  7.54s/it]\r 73%|███████▎  | 93/127.84375 [11:51<04:23,  7.55s/it]\r 74%|███████▎  | 94/127.84375 [11:58<04:14,  7.52s/it]\r 74%|███████▍  | 95/127.84375 [12:06<04:07,  7.55s/it]\r 75%|███████▌  | 96/127.84375 [12:13<04:01,  7.58s/it]\r 76%|███████▌  | 97/127.84375 [12:21<03:54,  7.60s/it]\r 77%|███████▋  | 98/127.84375 [12:28<03:45,  7.55s/it]\r 77%|███████▋  | 99/127.84375 [12:36<03:38,  7.58s/it]\r 78%|███████▊  | 100/127.84375 [12:43<03:30,  7.54s/it]\r 79%|███████▉  | 101/127.84375 [12:51<03:22,  7.54s/it]\r 80%|███████▉  | 102/127.84375 [12:59<03:14,  7.54s/it]\r 81%|████████  | 103/127.84375 [13:06<03:07,  7.54s/it]\r 81%|████████▏ | 104/127.84375 [13:14<02:59,  7.53s/it]\r 82%|████████▏ | 105/127.84375 [13:21<02:52,  7.55s/it]\r 83%|████████▎ | 106/127.84375 [13:29<02:45,  7.59s/it]\r 84%|████████▎ | 107/127.84375 [13:37<02:38,  7.60s/it]\r 84%|████████▍ | 108/127.84375 [13:44<02:30,  7.60s/it]\r 85%|████████▌ | 109/127.84375 [13:52<02:23,  7.60s/it]\r 86%|████████▌ | 110/127.84375 [13:59<02:15,  7.60s/it]\r 87%|████████▋ | 111/127.84375 [14:07<02:08,  7.64s/it]\r 88%|████████▊ | 112/127.84375 [14:15<02:01,  7.64s/it]\r 88%|████████▊ | 113/127.84375 [14:22<01:53,  7.65s/it]\r 89%|████████▉ | 114/127.84375 [14:30<01:45,  7.64s/it]\r 90%|████████▉ | 115/127.84375 [14:38<01:37,  7.63s/it]\r 91%|█████████ | 116/127.84375 [14:45<01:30,  7.64s/it]\r 92%|█████████▏| 117/127.84375 [14:53<01:21,  7.56s/it]\r 92%|█████████▏| 118/127.84375 [15:00<01:14,  7.54s/it]\r 93%|█████████▎| 119/127.84375 [15:08<01:07,  7.61s/it]\r 94%|█████████▍| 120/127.84375 [15:16<00:59,  7.62s/it]\r 95%|█████████▍| 121/127.84375 [15:23<00:52,  7.62s/it]\r 95%|█████████▌| 122/127.84375 [15:31<00:44,  7.59s/it]\r 96%|█████████▌| 123/127.84375 [15:38<00:36,  7.61s/it]\r 97%|█████████▋| 124/127.84375 [15:46<00:29,  7.58s/it]\r 98%|█████████▊| 125/127.84375 [15:53<00:21,  7.60s/it]\r 99%|█████████▊| 126/127.84375 [16:01<00:13,  7.56s/it]\r 99%|█████████▉| 127/127.84375 [16:08<00:06,  7.55s/it]/databricks/python/lib/python3.11/site-packages/tqdm/std.py:524: TqdmWarning: clamping frac to range [0, 1]\n",
      "  full_bar = Bar(frac,\n",
      "\r100%|██████████| 128/127.84375 [16:16<-1:59:59,  7.53s/it]\r129it [16:24,  7.56s/it]                                  \r130it [16:31,  7.54s/it]\r131it [16:39,  7.55s/it]\r132it [16:46,  7.51s/it]\r133it [16:54,  7.53s/it]\r134it [17:01,  7.53s/it]\r135it [17:09,  7.53s/it]\r136it [17:16,  7.60s/it]\r137it [17:24,  7.55s/it]\r138it [17:32,  7.57s/it]\r139it [17:39,  7.57s/it]\r140it [17:47,  7.58s/it]\r141it [17:54,  7.57s/it]\r142it [18:02,  7.57s/it]\r143it [18:09,  7.56s/it]\r144it [18:17,  7.59s/it]\r145it [18:25,  7.67s/it]\r146it [18:33,  7.67s/it]\r147it [18:40,  7.69s/it]\r148it [18:48,  7.66s/it]\r149it [18:55,  7.58s/it]\r150it [19:03,  7.53s/it]\r151it [19:10,  7.50s/it]\r152it [19:18,  7.57s/it]\r153it [19:26,  7.62s/it]\r154it [19:33,  7.61s/it]\r155it [19:41,  7.57s/it]\r156it [19:48,  7.59s/it]\r157it [19:56,  7.51s/it]\r158it [20:03,  7.55s/it]\r159it [20:11,  7.58s/it]\r160it [20:18,  7.57s/it]\r161it [20:26,  7.56s/it]\r162it [20:34,  7.57s/it]\r163it [20:41,  7.55s/it]\r164it [20:49,  7.56s/it]\r165it [20:56,  7.58s/it]\r166it [21:04,  7.53s/it]\r167it [21:11,  7.54s/it]\r168it [21:19,  7.59s/it]\r169it [21:27,  7.59s/it]\r170it [21:34,  7.60s/it]\r171it [21:42,  7.61s/it]\r172it [21:49,  7.60s/it]\r173it [21:57,  7.58s/it]\r174it [22:05,  7.60s/it]\r175it [22:12,  7.61s/it]\r176it [22:20,  7.55s/it]\r177it [22:27,  7.60s/it]\r178it [22:35,  7.61s/it]\r179it [22:43,  7.62s/it]\r180it [22:50,  7.65s/it]\r181it [22:58,  7.63s/it]\r182it [23:06,  7.65s/it]\r183it [23:13,  7.66s/it]\r184it [23:21,  7.72s/it]\r185it [23:29,  7.70s/it]\r186it [23:36,  7.65s/it]\r187it [23:44,  7.62s/it]\r188it [23:52,  7.62s/it]\r189it [23:59,  7.63s/it]\r190it [24:07,  7.62s/it]\r191it [24:14,  7.59s/it]\r192it [24:22,  7.62s/it]\r193it [24:30,  7.63s/it]\r194it [24:37,  7.61s/it]\r195it [24:45,  7.56s/it]\r196it [24:52,  7.57s/it]\r197it [25:00,  7.59s/it]\r198it [25:08,  7.63s/it]\r199it [25:15,  7.61s/it]\r200it [25:23,  7.59s/it]\r201it [25:30,  7.60s/it]\r202it [25:38,  7.60s/it]\r203it [25:46,  7.60s/it]\r204it [25:53,  7.57s/it]\r205it [26:01,  7.56s/it]\r206it [26:08,  7.61s/it]\r207it [26:16,  7.62s/it]\r208it [26:23,  7.57s/it]\r209it [26:31,  7.58s/it]\r210it [26:39,  7.59s/it]\r211it [26:46,  7.58s/it]\r212it [26:54,  7.58s/it]\r213it [27:02,  7.66s/it]\r214it [27:09,  7.66s/it]\r215it [27:17,  7.59s/it]\r216it [27:24,  7.54s/it]\r217it [27:32,  7.56s/it]\r218it [27:39,  7.58s/it]\r219it [27:47,  7.60s/it]\r220it [27:55,  7.61s/it]\r221it [28:02,  7.63s/it]\r222it [28:10,  7.58s/it]\r223it [28:17,  7.57s/it]\r224it [28:25,  7.55s/it]\r225it [28:32,  7.56s/it]\r226it [28:40,  7.55s/it]\r227it [28:47,  7.51s/it]\r228it [28:55,  7.54s/it]\r229it [29:02,  7.55s/it]\r230it [29:10,  7.58s/it]\r231it [29:18,  7.54s/it]\r232it [29:25,  7.53s/it]\r233it [29:33,  7.55s/it]\r234it [29:40,  7.58s/it]\r235it [29:48,  7.58s/it]\r236it [29:55,  7.55s/it]\r237it [30:03,  7.56s/it]\r238it [30:10,  7.51s/it]\r239it [30:18,  7.59s/it]\r240it [30:26,  7.59s/it]\r240it [30:26,  7.61s/it]\n"
     ]
    },
    {
     "name": "stdout",
     "output_type": "stream",
     "text": [
      "Epoch 43 train loss: 0.07977294921875\n",
      "[Train - End / Test - Start Epoch 44] GPU Memory: Allocated=2.31GB, Reserved=3.39GB\n"
     ]
    },
    {
     "name": "stderr",
     "output_type": "stream",
     "text": [
      "\r  0%|          | 0/14.1875 [00:00<?, ?it/s]\r  7%|▋         | 1/14.1875 [00:06<01:26,  6.56s/it]\r 14%|█▍        | 2/14.1875 [00:12<01:18,  6.47s/it]\r 21%|██        | 3/14.1875 [00:19<01:12,  6.51s/it]\r 28%|██▊       | 4/14.1875 [00:26<01:06,  6.52s/it]\r 35%|███▌      | 5/14.1875 [00:32<00:59,  6.51s/it]\r 42%|████▏     | 6/14.1875 [00:39<00:53,  6.49s/it]\r 49%|████▉     | 7/14.1875 [00:45<00:47,  6.55s/it]\r 56%|█████▋    | 8/14.1875 [00:52<00:40,  6.55s/it]\r 63%|██████▎   | 9/14.1875 [00:58<00:34,  6.61s/it]\r 70%|███████   | 10/14.1875 [01:05<00:27,  6.59s/it]\r 78%|███████▊  | 11/14.1875 [01:12<00:21,  6.61s/it]\r 85%|████████▍ | 12/14.1875 [01:18<00:14,  6.64s/it]\r 92%|█████████▏| 13/14.1875 [01:25<00:07,  6.61s/it]\r 99%|█████████▊| 14/14.1875 [01:31<00:01,  6.58s/it]\r15it [01:38,  6.61s/it]                             \r16it [01:45,  6.61s/it]\r17it [01:51,  6.57s/it]\r18it [01:58,  6.59s/it]\r19it [02:04,  6.59s/it]\r20it [02:11,  6.63s/it]\r21it [02:18,  6.63s/it]\r22it [02:24,  6.65s/it]\r23it [02:31,  6.60s/it]\r24it [02:38,  6.69s/it]\r25it [02:45,  6.68s/it]\r26it [02:51,  6.67s/it]\r27it [02:58,  6.66s/it]\r28it [03:04,  6.65s/it]\r29it [03:11,  6.65s/it]\r30it [03:17,  6.55s/it]\r30it [03:17,  6.60s/it]\n"
     ]
    },
    {
     "name": "stdout",
     "output_type": "stream",
     "text": [
      "Cumulative Accuracy for CP: 69.70%\n",
      "Cumulative Accuracy for chopping-board: 92.65%\n",
      "Cumulative Accuracy for finalstep: 90.23%\n",
      "Cumulative Accuracy for glass-bowl-large: 75.98%\n",
      "Cumulative Accuracy for glass-bowl-medium: 73.03%\n",
      "Cumulative Accuracy for glass-bowl-small: 36.06%\n",
      "Cumulative Accuracy for grill-plate: nan%\n",
      "Cumulative Accuracy for group_step: 76.59%\n",
      "Cumulative Accuracy for medium: 90.08%\n",
      "Cumulative Accuracy for oven-dish: 96.21%\n",
      "Cumulative Accuracy for oven-tray: 95.98%\n",
      "Cumulative Accuracy for pan: 99.92%\n",
      "Cumulative Accuracy for pot-one-handle: 97.35%\n",
      "Cumulative Accuracy for pot-two-handles-medium: 77.80%\n",
      "Cumulative Accuracy for pot-two-handles-shallow: 87.88%\n",
      "Cumulative Accuracy for pot-two-handles-small: nan%\n",
      "Cumulative Accuracy for saucepan: 95.45%\n",
      "\n",
      "Mean Top 3 Accuracy (Val): 95.11%\n",
      "Mean Top 1 Accuracy (Val): 84.00%\n",
      "Macro-averaged Accuracy (Val): 83.66%\n",
      "Epoch 43 test loss: 25.390625\n",
      "\n",
      "[Test - End Epoch 44] GPU Memory: Allocated=2.31GB, Reserved=3.39GB\n",
      "\n",
      "Epoch 45/120\n",
      "[Train - Start Epoch 45] GPU Memory: Allocated=2.31GB, Reserved=3.39GB\n"
     ]
    },
    {
     "name": "stderr",
     "output_type": "stream",
     "text": [
      "\r  0%|          | 0/127.84375 [00:00<?, ?it/s]\r  1%|          | 1/127.84375 [00:07<16:06,  7.62s/it]\r  2%|▏         | 2/127.84375 [00:15<15:59,  7.63s/it]\r  2%|▏         | 3/127.84375 [00:22<15:40,  7.53s/it]\r  3%|▎         | 4/127.84375 [00:30<15:34,  7.54s/it]\r  4%|▍         | 5/127.84375 [00:37<15:32,  7.59s/it]\r  5%|▍         | 6/127.84375 [00:45<15:22,  7.57s/it]\r  5%|▌         | 7/127.84375 [00:53<15:16,  7.58s/it]\r  6%|▋         | 8/127.84375 [01:00<15:08,  7.58s/it]\r  7%|▋         | 9/127.84375 [01:08<14:55,  7.53s/it]\r  8%|▊         | 10/127.84375 [01:15<14:49,  7.55s/it]\r  9%|▊         | 11/127.84375 [01:23<14:45,  7.58s/it]\r  9%|▉         | 12/127.84375 [01:30<14:34,  7.55s/it]\r 10%|█         | 13/127.84375 [01:38<14:29,  7.57s/it]\r 11%|█         | 14/127.84375 [01:46<14:25,  7.60s/it]\r 12%|█▏        | 15/127.84375 [01:53<14:11,  7.55s/it]\r 13%|█▎        | 16/127.84375 [02:01<14:04,  7.55s/it]\r 13%|█▎        | 17/127.84375 [02:08<13:59,  7.58s/it]\r 14%|█▍        | 18/127.84375 [02:16<13:51,  7.57s/it]\r 15%|█▍        | 19/127.84375 [02:23<13:42,  7.56s/it]\r 16%|█▌        | 20/127.84375 [02:31<13:39,  7.60s/it]\r 16%|█▋        | 21/127.84375 [02:39<13:31,  7.59s/it]\r 17%|█▋        | 22/127.84375 [02:46<13:22,  7.58s/it]\r 18%|█▊        | 23/127.84375 [02:54<13:16,  7.60s/it]\r 19%|█▉        | 24/127.84375 [03:01<13:03,  7.55s/it]\r 20%|█▉        | 25/127.84375 [03:09<12:59,  7.57s/it]\r 20%|██        | 26/127.84375 [03:16<12:50,  7.56s/it]\r 21%|██        | 27/127.84375 [03:24<12:48,  7.62s/it]\r 22%|██▏       | 28/127.84375 [03:32<12:38,  7.60s/it]\r 23%|██▎       | 29/127.84375 [03:39<12:27,  7.56s/it]\r 23%|██▎       | 30/127.84375 [03:47<12:22,  7.58s/it]\r 24%|██▍       | 31/127.84375 [03:54<12:17,  7.62s/it]\r 25%|██▌       | 32/127.84375 [04:02<12:01,  7.53s/it]\r 26%|██▌       | 33/127.84375 [04:09<11:54,  7.53s/it]\r 27%|██▋       | 34/127.84375 [04:17<11:46,  7.53s/it]\r 27%|██▋       | 35/127.84375 [04:24<11:39,  7.53s/it]\r 28%|██▊       | 36/127.84375 [04:32<11:36,  7.58s/it]\r 29%|██▉       | 37/127.84375 [04:40<11:28,  7.58s/it]\r 30%|██▉       | 38/127.84375 [04:47<11:22,  7.60s/it]\r 31%|███       | 39/127.84375 [04:55<11:18,  7.63s/it]\r 31%|███▏      | 40/127.84375 [05:03<11:08,  7.61s/it]\r 32%|███▏      | 41/127.84375 [05:10<11:00,  7.61s/it]\r 33%|███▎      | 42/127.84375 [05:18<10:52,  7.60s/it]\r 34%|███▎      | 43/127.84375 [05:25<10:43,  7.59s/it]\r 34%|███▍      | 44/127.84375 [05:33<10:31,  7.53s/it]\r 35%|███▌      | 45/127.84375 [05:40<10:22,  7.51s/it]\r 36%|███▌      | 46/127.84375 [05:48<10:15,  7.52s/it]\r 37%|███▋      | 47/127.84375 [05:55<10:11,  7.56s/it]\r 38%|███▊      | 48/127.84375 [06:03<10:04,  7.57s/it]\r 38%|███▊      | 49/127.84375 [06:10<09:56,  7.56s/it]\r 39%|███▉      | 50/127.84375 [06:18<09:48,  7.56s/it]\r 40%|███▉      | 51/127.84375 [06:26<09:41,  7.57s/it]\r 41%|████      | 52/127.84375 [06:33<09:29,  7.51s/it]\r 41%|████▏     | 53/127.84375 [06:41<09:23,  7.53s/it]\r 42%|████▏     | 54/127.84375 [06:48<09:17,  7.55s/it]\r 43%|████▎     | 55/127.84375 [06:56<09:12,  7.58s/it]\r 44%|████▍     | 56/127.84375 [07:03<09:05,  7.59s/it]\r 45%|████▍     | 57/127.84375 [07:11<08:56,  7.57s/it]\r 45%|████▌     | 58/127.84375 [07:19<08:48,  7.57s/it]\r 46%|████▌     | 59/127.84375 [07:26<08:41,  7.58s/it]\r 47%|████▋     | 60/127.84375 [07:34<08:31,  7.53s/it]\r 48%|████▊     | 61/127.84375 [07:41<08:21,  7.50s/it]\r 48%|████▊     | 62/127.84375 [07:48<08:11,  7.46s/it]\r 49%|████▉     | 63/127.84375 [07:56<08:06,  7.50s/it]\r 50%|█████     | 64/127.84375 [08:04<08:02,  7.56s/it]\r 51%|█████     | 65/127.84375 [08:11<07:55,  7.57s/it]\r 52%|█████▏    | 66/127.84375 [08:19<07:47,  7.56s/it]\r 52%|█████▏    | 67/127.84375 [08:26<07:40,  7.56s/it]\r 53%|█████▎    | 68/127.84375 [08:34<07:30,  7.53s/it]\r 54%|█████▍    | 69/127.84375 [08:41<07:21,  7.50s/it]\r 55%|█████▍    | 70/127.84375 [08:49<07:15,  7.52s/it]\r 56%|█████▌    | 71/127.84375 [08:56<07:08,  7.54s/it]\r 56%|█████▋    | 72/127.84375 [09:04<07:03,  7.59s/it]\r 57%|█████▋    | 73/127.84375 [09:12<06:56,  7.60s/it]\r 58%|█████▊    | 74/127.84375 [09:19<06:47,  7.56s/it]\r 59%|█████▊    | 75/127.84375 [09:27<06:40,  7.57s/it]\r 59%|█████▉    | 76/127.84375 [09:34<06:30,  7.54s/it]\r 60%|██████    | 77/127.84375 [09:42<06:24,  7.57s/it]\r 61%|██████    | 78/127.84375 [09:49<06:15,  7.53s/it]\r 62%|██████▏   | 79/127.84375 [09:57<06:08,  7.55s/it]\r 63%|██████▎   | 80/127.84375 [10:05<06:02,  7.58s/it]\r 63%|██████▎   | 81/127.84375 [10:12<05:53,  7.55s/it]\r 64%|██████▍   | 82/127.84375 [10:20<05:46,  7.57s/it]\r 65%|██████▍   | 83/127.84375 [10:27<05:38,  7.55s/it]\r 66%|██████▌   | 84/127.84375 [10:35<05:31,  7.56s/it]\r 66%|██████▋   | 85/127.84375 [10:42<05:22,  7.52s/it]\r 67%|██████▋   | 86/127.84375 [10:50<05:15,  7.54s/it]\r 68%|██████▊   | 87/127.84375 [10:57<05:06,  7.50s/it]\r 69%|██████▉   | 88/127.84375 [11:05<04:59,  7.52s/it]\r 70%|██████▉   | 89/127.84375 [11:12<04:50,  7.48s/it]\r 70%|███████   | 90/127.84375 [11:20<04:43,  7.49s/it]\r 71%|███████   | 91/127.84375 [11:27<04:35,  7.47s/it]\r 72%|███████▏  | 92/127.84375 [11:34<04:26,  7.44s/it]\r 73%|███████▎  | 93/127.84375 [11:42<04:20,  7.49s/it]\r 74%|███████▎  | 94/127.84375 [11:50<04:15,  7.56s/it]\r 74%|███████▍  | 95/127.84375 [11:57<04:08,  7.56s/it]\r 75%|███████▌  | 96/127.84375 [12:05<04:01,  7.57s/it]\r 76%|███████▌  | 97/127.84375 [12:12<03:52,  7.53s/it]\r 77%|███████▋  | 98/127.84375 [12:20<03:44,  7.51s/it]\r 77%|███████▋  | 99/127.84375 [12:27<03:36,  7.51s/it]\r 78%|███████▊  | 100/127.84375 [12:35<03:28,  7.50s/it]\r 79%|███████▉  | 101/127.84375 [12:42<03:21,  7.50s/it]\r 80%|███████▉  | 102/127.84375 [12:50<03:14,  7.51s/it]\r 81%|████████  | 103/127.84375 [12:57<03:07,  7.53s/it]\r 81%|████████▏ | 104/127.84375 [13:05<03:01,  7.59s/it]\r 82%|████████▏ | 105/127.84375 [13:13<02:53,  7.59s/it]\r 83%|████████▎ | 106/127.84375 [13:20<02:46,  7.61s/it]\r 84%|████████▎ | 107/127.84375 [13:28<02:38,  7.63s/it]\r 84%|████████▍ | 108/127.84375 [13:36<02:30,  7.57s/it]\r 85%|████████▌ | 109/127.84375 [13:43<02:22,  7.58s/it]\r 86%|████████▌ | 110/127.84375 [13:51<02:15,  7.58s/it]\r 87%|████████▋ | 111/127.84375 [13:58<02:07,  7.56s/it]\r 88%|████████▊ | 112/127.84375 [14:06<01:59,  7.54s/it]\r 88%|████████▊ | 113/127.84375 [14:13<01:52,  7.55s/it]\r 89%|████████▉ | 114/127.84375 [14:21<01:44,  7.52s/it]\r 90%|████████▉ | 115/127.84375 [14:28<01:37,  7.58s/it]\r 91%|█████████ | 116/127.84375 [14:36<01:29,  7.56s/it]\r 92%|█████████▏| 117/127.84375 [14:44<01:22,  7.57s/it]\r 92%|█████████▏| 118/127.84375 [14:51<01:14,  7.57s/it]\r 93%|█████████▎| 119/127.84375 [14:59<01:06,  7.52s/it]\r 94%|█████████▍| 120/127.84375 [15:06<00:59,  7.56s/it]\r 95%|█████████▍| 121/127.84375 [15:14<00:51,  7.56s/it]\r 95%|█████████▌| 122/127.84375 [15:21<00:43,  7.51s/it]\r 96%|█████████▌| 123/127.84375 [15:29<00:36,  7.53s/it]\r 97%|█████████▋| 124/127.84375 [15:36<00:28,  7.54s/it]\r 98%|█████████▊| 125/127.84375 [15:44<00:21,  7.51s/it]\r 99%|█████████▊| 126/127.84375 [15:51<00:13,  7.49s/it]\r 99%|█████████▉| 127/127.84375 [15:59<00:06,  7.51s/it]/databricks/python/lib/python3.11/site-packages/tqdm/std.py:524: TqdmWarning: clamping frac to range [0, 1]\n",
      "  full_bar = Bar(frac,\n",
      "\r100%|██████████| 128/127.84375 [16:06<-1:59:59,  7.44s/it]\r129it [16:13,  7.43s/it]                                  \r130it [16:21,  7.46s/it]\r131it [16:28,  7.43s/it]\r132it [16:36,  7.43s/it]\r133it [16:43,  7.51s/it]\r134it [16:51,  7.50s/it]\r135it [16:59,  7.55s/it]\r136it [17:06,  7.50s/it]\r137it [17:13,  7.50s/it]\r138it [17:21,  7.55s/it]\r139it [17:29,  7.57s/it]\r140it [17:36,  7.53s/it]\r141it [17:44,  7.49s/it]\r142it [17:51,  7.53s/it]\r143it [17:59,  7.56s/it]\r144it [18:06,  7.53s/it]\r145it [18:14,  7.54s/it]\r146it [18:21,  7.57s/it]\r147it [18:29,  7.58s/it]\r148it [18:37,  7.60s/it]\r149it [18:44,  7.58s/it]\r150it [18:52,  7.57s/it]\r151it [18:59,  7.55s/it]\r152it [19:07,  7.55s/it]\r153it [19:14,  7.54s/it]\r154it [19:22,  7.55s/it]\r155it [19:30,  7.61s/it]\r156it [19:37,  7.60s/it]\r157it [19:45,  7.64s/it]\r158it [19:53,  7.61s/it]\r159it [20:00,  7.58s/it]\r160it [20:08,  7.55s/it]\r161it [20:15,  7.54s/it]\r162it [20:23,  7.58s/it]\r163it [20:30,  7.54s/it]\r164it [20:38,  7.55s/it]\r165it [20:45,  7.53s/it]\r166it [20:53,  7.55s/it]\r167it [21:00,  7.54s/it]\r168it [21:08,  7.57s/it]\r169it [21:15,  7.54s/it]\r170it [21:23,  7.56s/it]\r171it [21:31,  7.54s/it]\r172it [21:38,  7.54s/it]\r173it [21:46,  7.57s/it]\r174it [21:53,  7.57s/it]\r175it [22:01,  7.54s/it]\r176it [22:08,  7.52s/it]\r177it [22:16,  7.49s/it]\r178it [22:23,  7.49s/it]\r179it [22:31,  7.49s/it]\r180it [22:38,  7.52s/it]\r181it [22:46,  7.49s/it]\r182it [22:53,  7.50s/it]\r183it [23:01,  7.51s/it]\r184it [23:08,  7.46s/it]\r185it [23:16,  7.49s/it]\r186it [23:23,  7.49s/it]\r187it [23:31,  7.50s/it]\r188it [23:38,  7.53s/it]\r189it [23:46,  7.54s/it]\r190it [23:53,  7.58s/it]\r191it [24:01,  7.55s/it]\r192it [24:09,  7.57s/it]\r193it [24:16,  7.57s/it]\r194it [24:24,  7.54s/it]\r195it [24:31,  7.47s/it]\r196it [24:38,  7.45s/it]\r197it [24:46,  7.44s/it]\r198it [24:53,  7.44s/it]\r199it [25:01,  7.51s/it]\r200it [25:08,  7.54s/it]\r201it [25:16,  7.53s/it]\r202it [25:24,  7.54s/it]\r203it [25:31,  7.61s/it]\r204it [25:39,  7.63s/it]\r205it [25:46,  7.59s/it]\r206it [25:54,  7.58s/it]\r207it [26:02,  7.60s/it]\r208it [26:09,  7.57s/it]\r209it [26:17,  7.58s/it]\r210it [26:24,  7.60s/it]\r211it [26:32,  7.60s/it]\r212it [26:40,  7.60s/it]\r213it [26:47,  7.63s/it]\r214it [26:55,  7.58s/it]\r215it [27:03,  7.66s/it]\r216it [27:10,  7.67s/it]\r217it [27:18,  7.64s/it]\r218it [27:26,  7.64s/it]\r219it [27:33,  7.59s/it]\r220it [27:41,  7.59s/it]\r221it [27:48,  7.57s/it]\r222it [27:56,  7.57s/it]\r223it [28:03,  7.54s/it]\r224it [28:11,  7.54s/it]\r225it [28:18,  7.53s/it]\r226it [28:26,  7.56s/it]\r227it [28:33,  7.53s/it]\r228it [28:41,  7.56s/it]\r229it [28:48,  7.51s/it]\r230it [28:56,  7.57s/it]\r231it [29:03,  7.53s/it]\r232it [29:11,  7.56s/it]\r233it [29:19,  7.56s/it]\r234it [29:26,  7.56s/it]\r235it [29:34,  7.57s/it]\r236it [29:41,  7.57s/it]\r237it [29:49,  7.59s/it]\r238it [29:56,  7.55s/it]\r239it [30:04,  7.52s/it]\r240it [30:12,  7.55s/it]\r240it [30:12,  7.55s/it]\n"
     ]
    },
    {
     "name": "stdout",
     "output_type": "stream",
     "text": [
      "Epoch 44 train loss: 0.0164642333984375\n",
      "[Train - End / Test - Start Epoch 45] GPU Memory: Allocated=2.32GB, Reserved=3.39GB\n"
     ]
    },
    {
     "name": "stderr",
     "output_type": "stream",
     "text": [
      "\r  0%|          | 0/14.1875 [00:00<?, ?it/s]\r  7%|▋         | 1/14.1875 [00:06<01:28,  6.71s/it]\r 14%|█▍        | 2/14.1875 [00:13<01:21,  6.66s/it]\r 21%|██        | 3/14.1875 [00:19<01:14,  6.65s/it]\r 28%|██▊       | 4/14.1875 [00:26<01:08,  6.69s/it]\r 35%|███▌      | 5/14.1875 [00:33<01:01,  6.68s/it]\r 42%|████▏     | 6/14.1875 [00:40<00:54,  6.70s/it]\r 49%|████▉     | 7/14.1875 [00:46<00:48,  6.71s/it]\r 56%|█████▋    | 8/14.1875 [00:53<00:41,  6.69s/it]\r 63%|██████▎   | 9/14.1875 [01:00<00:34,  6.70s/it]\r 70%|███████   | 10/14.1875 [01:06<00:28,  6.71s/it]\r 78%|███████▊  | 11/14.1875 [01:13<00:21,  6.68s/it]\r 85%|████████▍ | 12/14.1875 [01:20<00:14,  6.69s/it]\r 92%|█████████▏| 13/14.1875 [01:26<00:07,  6.67s/it]\r 99%|█████████▊| 14/14.1875 [01:33<00:01,  6.67s/it]\r15it [01:40,  6.66s/it]                             \r16it [01:46,  6.61s/it]\r17it [01:53,  6.63s/it]\r18it [01:59,  6.63s/it]\r19it [02:06,  6.63s/it]\r20it [02:13,  6.59s/it]\r21it [02:19,  6.58s/it]\r22it [02:26,  6.61s/it]\r23it [02:32,  6.61s/it]\r24it [02:39,  6.63s/it]\r25it [02:46,  6.64s/it]\r26it [02:53,  6.66s/it]\r27it [02:59,  6.62s/it]\r28it [03:06,  6.67s/it]\r29it [03:13,  6.68s/it]\r30it [03:19,  6.69s/it]\r30it [03:19,  6.66s/it]\n"
     ]
    },
    {
     "name": "stdout",
     "output_type": "stream",
     "text": [
      "Cumulative Accuracy for CP: 69.63%\n",
      "Cumulative Accuracy for chopping-board: 92.67%\n",
      "Cumulative Accuracy for finalstep: 90.44%\n",
      "Cumulative Accuracy for glass-bowl-large: 76.07%\n",
      "Cumulative Accuracy for glass-bowl-medium: 73.04%\n",
      "Cumulative Accuracy for glass-bowl-small: 35.70%\n",
      "Cumulative Accuracy for grill-plate: nan%\n",
      "Cumulative Accuracy for group_step: 76.59%\n",
      "Cumulative Accuracy for medium: 90.30%\n",
      "Cumulative Accuracy for oven-dish: 95.93%\n",
      "Cumulative Accuracy for oven-tray: 96.07%\n",
      "Cumulative Accuracy for pan: 99.93%\n",
      "Cumulative Accuracy for pot-one-handle: 97.41%\n",
      "Cumulative Accuracy for pot-two-handles-medium: 77.93%\n",
      "Cumulative Accuracy for pot-two-handles-shallow: 87.41%\n",
      "Cumulative Accuracy for pot-two-handles-small: nan%\n",
      "Cumulative Accuracy for saucepan: 95.56%\n",
      "\n",
      "Mean Top 3 Accuracy (Val): 93.78%\n",
      "Mean Top 1 Accuracy (Val): 82.89%\n",
      "Macro-averaged Accuracy (Val): 83.64%\n",
      "Epoch 44 test loss: 26.890625\n",
      "\n",
      "[Test - End Epoch 45] GPU Memory: Allocated=2.32GB, Reserved=3.39GB\n",
      "\n",
      "Epoch 46/120\n",
      "[Train - Start Epoch 46] GPU Memory: Allocated=2.32GB, Reserved=3.39GB\n"
     ]
    },
    {
     "name": "stderr",
     "output_type": "stream",
     "text": [
      "\r  0%|          | 0/127.84375 [00:00<?, ?it/s]\r  1%|          | 1/127.84375 [00:07<16:18,  7.71s/it]\r  2%|▏         | 2/127.84375 [00:15<15:50,  7.55s/it]\r  2%|▏         | 3/127.84375 [00:22<15:41,  7.55s/it]\r  3%|▎         | 4/127.84375 [00:30<15:35,  7.55s/it]\r  4%|▍         | 5/127.84375 [00:37<15:30,  7.58s/it]\r  5%|▍         | 6/127.84375 [00:45<15:23,  7.58s/it]\r  5%|▌         | 7/127.84375 [00:52<15:10,  7.54s/it]\r  6%|▋         | 8/127.84375 [01:00<15:06,  7.56s/it]\r  7%|▋         | 9/127.84375 [01:08<15:01,  7.59s/it]\r  8%|▊         | 10/127.84375 [01:15<14:46,  7.52s/it]\r  9%|▊         | 11/127.84375 [01:23<14:42,  7.56s/it]\r  9%|▉         | 12/127.84375 [01:30<14:37,  7.57s/it]\r 10%|█         | 13/127.84375 [01:38<14:35,  7.62s/it]\r 11%|█         | 14/127.84375 [01:46<14:31,  7.65s/it]\r 12%|█▏        | 15/127.84375 [01:53<14:18,  7.61s/it]\r 13%|█▎        | 16/127.84375 [02:01<14:10,  7.60s/it]\r 13%|█▎        | 17/127.84375 [02:08<14:00,  7.59s/it]\r 14%|█▍        | 18/127.84375 [02:16<14:07,  7.71s/it]\r 15%|█▍        | 19/127.84375 [02:24<14:00,  7.72s/it]\r 16%|█▌        | 20/127.84375 [02:32<13:51,  7.71s/it]\r 16%|█▋        | 21/127.84375 [02:40<13:43,  7.70s/it]\r 17%|█▋        | 22/127.84375 [02:47<13:33,  7.68s/it]\r 18%|█▊        | 23/127.84375 [02:55<13:20,  7.64s/it]\r 19%|█▉        | 24/127.84375 [03:02<13:17,  7.68s/it]\r 20%|█▉        | 25/127.84375 [03:10<13:14,  7.72s/it]\r 20%|██        | 26/127.84375 [03:18<13:05,  7.71s/it]\r 21%|██        | 27/127.84375 [03:26<12:54,  7.69s/it]\r 22%|██▏       | 28/127.84375 [03:33<12:49,  7.70s/it]\r 23%|██▎       | 29/127.84375 [03:41<12:38,  7.67s/it]\r 23%|██▎       | 30/127.84375 [03:49<12:30,  7.67s/it]\r 24%|██▍       | 31/127.84375 [03:56<12:20,  7.64s/it]\r 25%|██▌       | 32/127.84375 [04:04<12:08,  7.60s/it]\r 26%|██▌       | 33/127.84375 [04:11<11:58,  7.58s/it]\r 27%|██▋       | 34/127.84375 [04:19<11:53,  7.60s/it]\r 27%|██▋       | 35/127.84375 [04:26<11:46,  7.61s/it]\r 28%|██▊       | 36/127.84375 [04:34<11:41,  7.63s/it]\r 29%|██▉       | 37/127.84375 [04:42<11:32,  7.62s/it]\r 30%|██▉       | 38/127.84375 [04:49<11:21,  7.58s/it]\r 31%|███       | 39/127.84375 [04:57<11:12,  7.57s/it]\r 31%|███▏      | 40/127.84375 [05:04<11:03,  7.55s/it]\r 32%|███▏      | 41/127.84375 [05:12<10:59,  7.60s/it]\r 33%|███▎      | 42/127.84375 [05:20<10:54,  7.62s/it]\r 34%|███▎      | 43/127.84375 [05:27<10:42,  7.57s/it]\r 34%|███▍      | 44/127.84375 [05:35<10:34,  7.57s/it]\r 35%|███▌      | 45/127.84375 [05:42<10:29,  7.60s/it]\r 36%|███▌      | 46/127.84375 [05:50<10:20,  7.58s/it]\r 37%|███▋      | 47/127.84375 [05:57<10:10,  7.56s/it]\r 38%|███▊      | 48/127.84375 [06:05<10:05,  7.58s/it]\r 38%|███▊      | 49/127.84375 [06:13<09:55,  7.56s/it]\r 39%|███▉      | 50/127.84375 [06:20<09:49,  7.58s/it]\r 40%|███▉      | 51/127.84375 [06:28<09:43,  7.60s/it]\r 41%|████      | 52/127.84375 [06:35<09:37,  7.61s/it]\r 41%|████▏     | 53/127.84375 [06:43<09:30,  7.62s/it]\r 42%|████▏     | 54/127.84375 [06:51<09:20,  7.59s/it]\r 43%|████▎     | 55/127.84375 [06:58<09:12,  7.59s/it]\r 44%|████▍     | 56/127.84375 [07:06<09:04,  7.58s/it]\r 45%|████▍     | 57/127.84375 [07:13<08:58,  7.60s/it]\r 45%|████▌     | 58/127.84375 [07:21<08:47,  7.56s/it]\r 46%|████▌     | 59/127.84375 [07:29<08:43,  7.61s/it]\r 47%|████▋     | 60/127.84375 [07:36<08:37,  7.63s/it]\r 48%|████▊     | 61/127.84375 [07:44<08:29,  7.63s/it]\r 48%|████▊     | 62/127.84375 [07:52<08:22,  7.63s/it]\r 49%|████▉     | 63/127.84375 [07:59<08:15,  7.64s/it]\r 50%|█████     | 64/127.84375 [08:07<08:09,  7.66s/it]\r 51%|█████     | 65/127.84375 [08:14<07:59,  7.64s/it]\r 52%|█████▏    | 66/127.84375 [08:22<07:49,  7.60s/it]\r 52%|█████▏    | 67/127.84375 [08:30<07:42,  7.60s/it]\r 53%|█████▎    | 68/127.84375 [08:37<07:36,  7.62s/it]\r 54%|█████▍    | 69/127.84375 [08:45<07:30,  7.66s/it]\r 55%|█████▍    | 70/127.84375 [08:53<07:22,  7.64s/it]\r 56%|█████▌    | 71/127.84375 [09:00<07:12,  7.62s/it]\r 56%|█████▋    | 72/127.84375 [09:08<07:06,  7.63s/it]\r 57%|█████▋    | 73/127.84375 [09:15<06:58,  7.62s/it]\r 58%|█████▊    | 74/127.84375 [09:23<06:48,  7.58s/it]\r 59%|█████▊    | 75/127.84375 [09:31<06:41,  7.61s/it]\r 59%|█████▉    | 76/127.84375 [09:38<06:31,  7.56s/it]\r 60%|██████    | 77/127.84375 [09:46<06:25,  7.57s/it]\r 61%|██████    | 78/127.84375 [09:53<06:17,  7.58s/it]\r 62%|██████▏   | 79/127.84375 [10:01<06:11,  7.60s/it]\r 63%|██████▎   | 80/127.84375 [10:08<06:03,  7.59s/it]\r 63%|██████▎   | 81/127.84375 [10:16<05:56,  7.61s/it]\r 64%|██████▍   | 82/127.84375 [10:24<05:48,  7.60s/it]\r 65%|██████▍   | 83/127.84375 [10:31<05:39,  7.56s/it]\r 66%|██████▌   | 84/127.84375 [10:39<05:31,  7.57s/it]\r 66%|██████▋   | 85/127.84375 [10:46<05:24,  7.59s/it]\r 67%|██████▋   | 86/127.84375 [10:54<05:15,  7.54s/it]\r 68%|██████▊   | 87/127.84375 [11:01<05:09,  7.58s/it]\r 69%|██████▉   | 88/127.84375 [11:09<05:04,  7.63s/it]\r 70%|██████▉   | 89/127.84375 [11:17<04:56,  7.63s/it]\r 70%|███████   | 90/127.84375 [11:24<04:47,  7.61s/it]\r 71%|███████   | 91/127.84375 [11:32<04:39,  7.58s/it]\r 72%|███████▏  | 92/127.84375 [11:40<04:32,  7.61s/it]\r 73%|███████▎  | 93/127.84375 [11:47<04:24,  7.59s/it]\r 74%|███████▎  | 94/127.84375 [11:55<04:18,  7.62s/it]\r 74%|███████▍  | 95/127.84375 [12:02<04:08,  7.56s/it]\r 75%|███████▌  | 96/127.84375 [12:10<04:01,  7.58s/it]\r 76%|███████▌  | 97/127.84375 [12:18<03:54,  7.59s/it]\r 77%|███████▋  | 98/127.84375 [12:25<03:46,  7.60s/it]\r 77%|███████▋  | 99/127.84375 [12:33<03:39,  7.62s/it]\r 78%|███████▊  | 100/127.84375 [12:40<03:32,  7.64s/it]\r 79%|███████▉  | 101/127.84375 [12:48<03:23,  7.59s/it]\r 80%|███████▉  | 102/127.84375 [12:56<03:16,  7.60s/it]\r 81%|████████  | 103/127.84375 [13:03<03:08,  7.58s/it]\r 81%|████████▏ | 104/127.84375 [13:11<03:00,  7.55s/it]\r 82%|████████▏ | 105/127.84375 [13:18<02:52,  7.54s/it]\r 83%|████████▎ | 106/127.84375 [13:26<02:45,  7.57s/it]\r 84%|████████▎ | 107/127.84375 [13:33<02:36,  7.52s/it]\r 84%|████████▍ | 108/127.84375 [13:41<02:29,  7.56s/it]\r 85%|████████▌ | 109/127.84375 [13:48<02:22,  7.57s/it]\r 86%|████████▌ | 110/127.84375 [13:56<02:14,  7.54s/it]\r 87%|████████▋ | 111/127.84375 [14:03<02:06,  7.53s/it]\r 88%|████████▊ | 112/127.84375 [14:11<01:59,  7.54s/it]\r 88%|████████▊ | 113/127.84375 [14:18<01:51,  7.48s/it]\r 89%|████████▉ | 114/127.84375 [14:26<01:43,  7.49s/it]\r 90%|████████▉ | 115/127.84375 [14:33<01:35,  7.47s/it]\r 91%|█████████ | 116/127.84375 [14:41<01:28,  7.50s/it]\r 92%|█████████▏| 117/127.84375 [14:48<01:21,  7.53s/it]\r 92%|█████████▏| 118/127.84375 [14:56<01:14,  7.61s/it]\r 93%|█████████▎| 119/127.84375 [15:04<01:07,  7.66s/it]\r 94%|█████████▍| 120/127.84375 [15:12<01:00,  7.69s/it]\r 95%|█████████▍| 121/127.84375 [15:19<00:52,  7.67s/it]\r 95%|█████████▌| 122/127.84375 [15:27<00:44,  7.65s/it]\r 96%|█████████▌| 123/127.84375 [15:35<00:37,  7.65s/it]\r 97%|█████████▋| 124/127.84375 [15:42<00:29,  7.66s/it]\r 98%|█████████▊| 125/127.84375 [15:50<00:21,  7.61s/it]\r 99%|█████████▊| 126/127.84375 [15:57<00:14,  7.63s/it]\r 99%|█████████▉| 127/127.84375 [16:05<00:06,  7.63s/it]/databricks/python/lib/python3.11/site-packages/tqdm/std.py:524: TqdmWarning: clamping frac to range [0, 1]\n",
      "  full_bar = Bar(frac,\n",
      "\r100%|██████████| 128/127.84375 [16:13<-1:59:59,  7.59s/it]\r129it [16:20,  7.59s/it]                                  \r130it [16:28,  7.56s/it]\r131it [16:35,  7.53s/it]\r132it [16:43,  7.56s/it]\r133it [16:50,  7.55s/it]\r134it [16:58,  7.55s/it]\r135it [17:05,  7.57s/it]\r136it [17:13,  7.57s/it]\r137it [17:21,  7.61s/it]\r138it [17:28,  7.61s/it]\r139it [17:36,  7.59s/it]\r140it [17:43,  7.59s/it]\r141it [17:51,  7.54s/it]\r142it [17:59,  7.59s/it]\r143it [18:06,  7.62s/it]\r144it [18:14,  7.62s/it]\r145it [18:22,  7.63s/it]\r146it [18:29,  7.65s/it]\r147it [18:37,  7.63s/it]\r148it [18:44,  7.61s/it]\r149it [18:52,  7.62s/it]\r150it [19:00,  7.60s/it]\r151it [19:07,  7.65s/it]\r152it [19:15,  7.63s/it]\r153it [19:23,  7.63s/it]\r154it [19:30,  7.62s/it]\r155it [19:38,  7.61s/it]\r156it [19:45,  7.60s/it]\r157it [19:53,  7.62s/it]\r158it [20:01,  7.63s/it]\r159it [20:08,  7.60s/it]\r160it [20:16,  7.60s/it]\r161it [20:23,  7.59s/it]\r162it [20:31,  7.53s/it]\r163it [20:38,  7.56s/it]\r164it [20:46,  7.60s/it]\r165it [20:54,  7.59s/it]\r166it [21:01,  7.50s/it]\r167it [21:09,  7.52s/it]\r168it [21:16,  7.57s/it]\r169it [21:24,  7.59s/it]\r170it [21:31,  7.59s/it]\r171it [21:39,  7.54s/it]\r172it [21:46,  7.54s/it]\r173it [21:54,  7.54s/it]\r174it [22:01,  7.51s/it]\r175it [22:09,  7.53s/it]\r176it [22:17,  7.55s/it]\r177it [22:24,  7.52s/it]\r178it [22:32,  7.57s/it]\r179it [22:39,  7.54s/it]\r180it [22:47,  7.56s/it]\r181it [22:54,  7.57s/it]\r182it [23:02,  7.60s/it]\r183it [23:10,  7.62s/it]\r184it [23:17,  7.59s/it]\r185it [23:25,  7.61s/it]\r186it [23:33,  7.63s/it]\r187it [23:40,  7.60s/it]\r188it [23:48,  7.64s/it]\r189it [23:55,  7.58s/it]\r190it [24:03,  7.54s/it]\r191it [24:10,  7.49s/it]\r192it [24:18,  7.49s/it]\r193it [24:25,  7.47s/it]\r194it [24:32,  7.47s/it]\r195it [24:40,  7.52s/it]\r196it [24:48,  7.56s/it]\r197it [24:55,  7.57s/it]\r198it [25:03,  7.57s/it]\r199it [25:10,  7.58s/it]\r200it [25:18,  7.59s/it]\r201it [25:26,  7.58s/it]\r202it [25:33,  7.61s/it]\r203it [25:41,  7.62s/it]\r204it [25:49,  7.64s/it]\r205it [25:56,  7.61s/it]\r206it [26:04,  7.65s/it]\r207it [26:12,  7.64s/it]\r208it [26:19,  7.63s/it]\r209it [26:27,  7.62s/it]\r210it [26:34,  7.62s/it]\r211it [26:42,  7.61s/it]\r212it [26:50,  7.59s/it]\r213it [26:57,  7.58s/it]\r214it [27:05,  7.61s/it]\r215it [27:12,  7.62s/it]\r216it [27:20,  7.70s/it]\r217it [27:28,  7.70s/it]\r218it [27:36,  7.76s/it]\r219it [27:44,  7.73s/it]\r220it [27:51,  7.73s/it]\r221it [27:59,  7.67s/it]\r222it [28:06,  7.64s/it]\r223it [28:14,  7.61s/it]\r224it [28:22,  7.66s/it]\r225it [28:30,  7.75s/it]\r226it [28:37,  7.71s/it]\r227it [28:45,  7.69s/it]\r228it [28:53,  7.72s/it]\r229it [29:00,  7.64s/it]\r230it [29:08,  7.71s/it]\r231it [29:16,  7.69s/it]\r232it [29:23,  7.69s/it]\r233it [29:31,  7.72s/it]\r234it [29:39,  7.79s/it]\r235it [29:47,  7.73s/it]\r236it [29:54,  7.73s/it]\r237it [30:02,  7.67s/it]\r238it [30:10,  7.67s/it]\r239it [30:17,  7.64s/it]\r240it [30:25,  7.58s/it]\r240it [30:25,  7.60s/it]\n"
     ]
    },
    {
     "name": "stdout",
     "output_type": "stream",
     "text": [
      "Epoch 45 train loss: 0.0204315185546875\n",
      "[Train - End / Test - Start Epoch 46] GPU Memory: Allocated=2.30GB, Reserved=3.39GB\n"
     ]
    },
    {
     "name": "stderr",
     "output_type": "stream",
     "text": [
      "\r  0%|          | 0/14.1875 [00:00<?, ?it/s]\r  7%|▋         | 1/14.1875 [00:06<01:29,  6.81s/it]\r 14%|█▍        | 2/14.1875 [00:13<01:21,  6.69s/it]\r 21%|██        | 3/14.1875 [00:20<01:15,  6.74s/it]\r 28%|██▊       | 4/14.1875 [00:26<01:08,  6.69s/it]\r 35%|███▌      | 5/14.1875 [00:33<01:01,  6.73s/it]\r 42%|████▏     | 6/14.1875 [00:40<00:54,  6.72s/it]\r 49%|████▉     | 7/14.1875 [00:47<00:48,  6.73s/it]\r 56%|█████▋    | 8/14.1875 [00:53<00:41,  6.73s/it]\r 63%|██████▎   | 9/14.1875 [01:00<00:34,  6.71s/it]\r 70%|███████   | 10/14.1875 [01:07<00:28,  6.72s/it]\r 78%|███████▊  | 11/14.1875 [01:13<00:21,  6.69s/it]\r 85%|████████▍ | 12/14.1875 [01:20<00:14,  6.66s/it]\r 92%|█████████▏| 13/14.1875 [01:27<00:07,  6.72s/it]\r 99%|█████████▊| 14/14.1875 [01:33<00:01,  6.70s/it]\r15it [01:40,  6.66s/it]                             \r16it [01:47,  6.63s/it]\r17it [01:53,  6.65s/it]\r18it [02:00,  6.65s/it]\r19it [02:06,  6.62s/it]\r20it [02:13,  6.61s/it]\r21it [02:20,  6.62s/it]\r22it [02:26,  6.62s/it]\r23it [02:33,  6.60s/it]\r24it [02:40,  6.62s/it]\r25it [02:46,  6.64s/it]\r26it [02:53,  6.65s/it]\r27it [03:00,  6.67s/it]\r28it [03:06,  6.65s/it]\r29it [03:13,  6.67s/it]\r30it [03:20,  6.70s/it]\r30it [03:20,  6.67s/it]\n"
     ]
    },
    {
     "name": "stdout",
     "output_type": "stream",
     "text": [
      "Cumulative Accuracy for CP: 69.35%\n",
      "Cumulative Accuracy for chopping-board: 92.68%\n",
      "Cumulative Accuracy for finalstep: 90.51%\n",
      "Cumulative Accuracy for glass-bowl-large: 75.87%\n",
      "Cumulative Accuracy for glass-bowl-medium: 72.83%\n",
      "Cumulative Accuracy for glass-bowl-small: 35.94%\n",
      "Cumulative Accuracy for grill-plate: nan%\n",
      "Cumulative Accuracy for group_step: 76.67%\n",
      "Cumulative Accuracy for medium: 90.51%\n",
      "Cumulative Accuracy for oven-dish: 95.65%\n",
      "Cumulative Accuracy for oven-tray: 96.01%\n",
      "Cumulative Accuracy for pan: 99.93%\n",
      "Cumulative Accuracy for pot-one-handle: 97.46%\n",
      "Cumulative Accuracy for pot-two-handles-medium: 77.32%\n",
      "Cumulative Accuracy for pot-two-handles-shallow: 87.68%\n",
      "Cumulative Accuracy for pot-two-handles-small: nan%\n",
      "Cumulative Accuracy for saucepan: 95.65%\n",
      "\n",
      "Mean Top 3 Accuracy (Val): 93.78%\n",
      "Mean Top 1 Accuracy (Val): 81.78%\n",
      "Macro-averaged Accuracy (Val): 83.60%\n",
      "Epoch 45 test loss: 24.453125\n",
      "\n",
      "[Test - End Epoch 46] GPU Memory: Allocated=2.30GB, Reserved=3.39GB\n",
      "\n",
      "Epoch 47/120\n",
      "[Train - Start Epoch 47] GPU Memory: Allocated=2.30GB, Reserved=3.39GB\n"
     ]
    },
    {
     "name": "stderr",
     "output_type": "stream",
     "text": [
      "\r  0%|          | 0/127.84375 [00:00<?, ?it/s]\r  1%|          | 1/127.84375 [00:07<16:17,  7.71s/it]\r  2%|▏         | 2/127.84375 [00:15<16:13,  7.74s/it]\r  2%|▏         | 3/127.84375 [00:23<15:57,  7.67s/it]\r  3%|▎         | 4/127.84375 [00:30<15:44,  7.63s/it]\r  4%|▍         | 5/127.84375 [00:38<15:38,  7.64s/it]\r  5%|▍         | 6/127.84375 [00:45<15:25,  7.60s/it]\r  5%|▌         | 7/127.84375 [00:53<15:21,  7.63s/it]\r  6%|▋         | 8/127.84375 [01:01<15:10,  7.59s/it]\r  7%|▋         | 9/127.84375 [01:08<15:05,  7.62s/it]\r  8%|▊         | 10/127.84375 [01:16<15:05,  7.68s/it]\r  9%|▊         | 11/127.84375 [01:24<14:55,  7.67s/it]\r  9%|▉         | 12/127.84375 [01:31<14:48,  7.67s/it]\r 10%|█         | 13/127.84375 [01:39<14:38,  7.65s/it]\r 11%|█         | 14/127.84375 [01:47<14:30,  7.65s/it]\r 12%|█▏        | 15/127.84375 [01:54<14:28,  7.70s/it]\r 13%|█▎        | 16/127.84375 [02:02<14:14,  7.64s/it]\r 13%|█▎        | 17/127.84375 [02:10<14:12,  7.69s/it]\r 14%|█▍        | 18/127.84375 [02:17<14:02,  7.67s/it]\r 15%|█▍        | 19/127.84375 [02:25<13:53,  7.66s/it]\r 16%|█▌        | 20/127.84375 [02:32<13:38,  7.59s/it]\r 16%|█▋        | 21/127.84375 [02:40<13:34,  7.62s/it]\r 17%|█▋        | 22/127.84375 [02:48<13:30,  7.65s/it]\r 18%|█▊        | 23/127.84375 [02:55<13:22,  7.66s/it]\r 19%|█▉        | 24/127.84375 [03:03<13:13,  7.64s/it]\r 20%|█▉        | 25/127.84375 [03:11<13:07,  7.66s/it]\r 20%|██        | 26/127.84375 [03:18<12:53,  7.59s/it]\r 21%|██        | 27/127.84375 [03:26<12:46,  7.61s/it]\r 22%|██▏       | 28/127.84375 [03:33<12:41,  7.63s/it]\r 23%|██▎       | 29/127.84375 [03:41<12:31,  7.60s/it]\r 23%|██▎       | 30/127.84375 [03:49<12:26,  7.63s/it]\r 24%|██▍       | 31/127.84375 [03:56<12:19,  7.64s/it]\r 25%|██▌       | 32/127.84375 [04:04<12:11,  7.64s/it]\r 26%|██▌       | 33/127.84375 [04:12<12:01,  7.61s/it]\r 27%|██▋       | 34/127.84375 [04:19<11:56,  7.64s/it]\r 27%|██▋       | 35/127.84375 [04:27<11:47,  7.62s/it]\r 28%|██▊       | 36/127.84375 [04:34<11:38,  7.61s/it]\r 29%|██▉       | 37/127.84375 [04:42<11:32,  7.63s/it]\r 30%|██▉       | 38/127.84375 [04:50<11:25,  7.63s/it]\r 31%|███       | 39/127.84375 [04:57<11:16,  7.61s/it]\r 31%|███▏      | 40/127.84375 [05:05<11:10,  7.63s/it]\r 32%|███▏      | 41/127.84375 [05:13<11:06,  7.67s/it]\r 33%|███▎      | 42/127.84375 [05:20<10:53,  7.62s/it]\r 34%|███▎      | 43/127.84375 [05:28<10:44,  7.59s/it]\r 34%|███▍      | 44/127.84375 [05:35<10:34,  7.57s/it]\r 35%|███▌      | 45/127.84375 [05:43<10:26,  7.56s/it]\r 36%|███▌      | 46/127.84375 [05:50<10:19,  7.57s/it]\r 37%|███▋      | 47/127.84375 [05:58<10:09,  7.53s/it]\r 38%|███▊      | 48/127.84375 [06:06<10:04,  7.57s/it]\r 38%|███▊      | 49/127.84375 [06:13<10:01,  7.63s/it]\r 39%|███▉      | 50/127.84375 [06:21<09:53,  7.62s/it]\r 40%|███▉      | 51/127.84375 [06:29<09:47,  7.65s/it]\r 41%|████      | 52/127.84375 [06:36<09:39,  7.65s/it]\r 41%|████▏     | 53/127.84375 [06:44<09:32,  7.66s/it]\r 42%|████▏     | 54/127.84375 [06:52<09:23,  7.63s/it]\r 43%|████▎     | 55/127.84375 [06:59<09:15,  7.62s/it]\r 44%|████▍     | 56/127.84375 [07:07<09:05,  7.60s/it]\r 45%|████▍     | 57/127.84375 [07:14<08:57,  7.59s/it]\r 45%|████▌     | 58/127.84375 [07:22<08:49,  7.58s/it]\r 46%|████▌     | 59/127.84375 [07:29<08:44,  7.62s/it]\r 47%|████▋     | 60/127.84375 [07:37<08:35,  7.60s/it]\r 48%|████▊     | 61/127.84375 [07:45<08:31,  7.66s/it]\r 48%|████▊     | 62/127.84375 [07:53<08:27,  7.70s/it]\r 49%|████▉     | 63/127.84375 [08:00<08:18,  7.69s/it]\r 50%|█████     | 64/127.84375 [08:08<08:12,  7.71s/it]\r 51%|█████     | 65/127.84375 [08:16<08:03,  7.69s/it]\r 52%|█████▏    | 66/127.84375 [08:23<07:55,  7.69s/it]\r 52%|█████▏    | 67/127.84375 [08:31<07:45,  7.65s/it]\r 53%|█████▎    | 68/127.84375 [08:39<07:39,  7.68s/it]\r 54%|█████▍    | 69/127.84375 [08:46<07:29,  7.65s/it]\r 55%|█████▍    | 70/127.84375 [08:54<07:19,  7.59s/it]\r 56%|█████▌    | 71/127.84375 [09:01<07:08,  7.53s/it]\r 56%|█████▋    | 72/127.84375 [09:09<07:01,  7.55s/it]\r 57%|█████▋    | 73/127.84375 [09:16<06:51,  7.50s/it]\r 58%|█████▊    | 74/127.84375 [09:24<06:46,  7.54s/it]\r 59%|█████▊    | 75/127.84375 [09:31<06:39,  7.57s/it]\r 59%|█████▉    | 76/127.84375 [09:39<06:33,  7.60s/it]\r 60%|██████    | 77/127.84375 [09:47<06:25,  7.59s/it]\r 61%|██████    | 78/127.84375 [09:54<06:16,  7.55s/it]\r 62%|██████▏   | 79/127.84375 [10:02<06:12,  7.63s/it]\r 63%|██████▎   | 80/127.84375 [10:10<06:08,  7.70s/it]\r 63%|██████▎   | 81/127.84375 [10:17<05:56,  7.61s/it]\r 64%|██████▍   | 82/127.84375 [10:25<05:49,  7.62s/it]\r 65%|██████▍   | 83/127.84375 [10:33<05:42,  7.65s/it]\r 66%|██████▌   | 84/127.84375 [10:40<05:33,  7.61s/it]\r 66%|██████▋   | 85/127.84375 [10:47<05:24,  7.57s/it]\r 67%|██████▋   | 86/127.84375 [10:55<05:14,  7.52s/it]\r 68%|██████▊   | 87/127.84375 [11:03<05:09,  7.58s/it]\r 69%|██████▉   | 88/127.84375 [11:10<05:02,  7.60s/it]\r 70%|██████▉   | 89/127.84375 [11:18<04:55,  7.61s/it]\r 70%|███████   | 90/127.84375 [11:25<04:46,  7.56s/it]\r 71%|███████   | 91/127.84375 [11:33<04:39,  7.58s/it]\r 72%|███████▏  | 92/127.84375 [11:41<04:31,  7.58s/it]\r 73%|███████▎  | 93/127.84375 [11:48<04:22,  7.54s/it]\r 74%|███████▎  | 94/127.84375 [11:55<04:14,  7.51s/it]\r 74%|███████▍  | 95/127.84375 [12:03<04:07,  7.54s/it]\r 75%|███████▌  | 96/127.84375 [12:10<03:58,  7.50s/it]\r 76%|███████▌  | 97/127.84375 [12:18<03:52,  7.54s/it]\r 77%|███████▋  | 98/127.84375 [12:26<03:45,  7.57s/it]\r 77%|███████▋  | 99/127.84375 [12:33<03:38,  7.58s/it]\r 78%|███████▊  | 100/127.84375 [12:41<03:31,  7.61s/it]\r 79%|███████▉  | 101/127.84375 [12:49<03:24,  7.61s/it]\r 80%|███████▉  | 102/127.84375 [12:56<03:16,  7.62s/it]\r 81%|████████  | 103/127.84375 [13:04<03:08,  7.60s/it]\r 81%|████████▏ | 104/127.84375 [13:11<03:00,  7.58s/it]\r 82%|████████▏ | 105/127.84375 [13:19<02:53,  7.58s/it]\r 83%|████████▎ | 106/127.84375 [13:26<02:44,  7.55s/it]\r 84%|████████▎ | 107/127.84375 [13:34<02:36,  7.52s/it]\r 84%|████████▍ | 108/127.84375 [13:42<02:29,  7.55s/it]\r 85%|████████▌ | 109/127.84375 [13:49<02:21,  7.52s/it]\r 86%|████████▌ | 110/127.84375 [13:56<02:14,  7.53s/it]\r 87%|████████▋ | 111/127.84375 [14:04<02:06,  7.52s/it]\r 88%|████████▊ | 112/127.84375 [14:12<01:59,  7.57s/it]\r 88%|████████▊ | 113/127.84375 [14:19<01:52,  7.60s/it]\r 89%|████████▉ | 114/127.84375 [14:27<01:44,  7.55s/it]\r 90%|████████▉ | 115/127.84375 [14:34<01:37,  7.57s/it]\r 91%|█████████ | 116/127.84375 [14:42<01:29,  7.58s/it]\r 92%|█████████▏| 117/127.84375 [14:50<01:22,  7.60s/it]\r 92%|█████████▏| 118/127.84375 [14:57<01:14,  7.53s/it]\r 93%|█████████▎| 119/127.84375 [15:05<01:06,  7.52s/it]\r 94%|█████████▍| 120/127.84375 [15:12<00:59,  7.54s/it]\r 95%|█████████▍| 121/127.84375 [15:20<00:51,  7.54s/it]\r 95%|█████████▌| 122/127.84375 [15:28<00:45,  7.80s/it]\r 96%|█████████▌| 123/127.84375 [15:36<00:37,  7.76s/it]\r 97%|█████████▋| 124/127.84375 [15:43<00:29,  7.73s/it]\r 98%|█████████▊| 125/127.84375 [15:51<00:21,  7.70s/it]\r 99%|█████████▊| 126/127.84375 [15:59<00:14,  7.68s/it]\r 99%|█████████▉| 127/127.84375 [16:06<00:06,  7.67s/it]/databricks/python/lib/python3.11/site-packages/tqdm/std.py:524: TqdmWarning: clamping frac to range [0, 1]\n",
      "  full_bar = Bar(frac,\n",
      "\r100%|██████████| 128/127.84375 [16:14<-1:59:59,  7.60s/it]\r129it [16:21,  7.62s/it]                                  \r130it [16:29,  7.64s/it]\r131it [16:37,  7.64s/it]\r132it [16:44,  7.64s/it]\r133it [16:52,  7.57s/it]\r134it [16:59,  7.56s/it]\r135it [17:07,  7.54s/it]\r136it [17:14,  7.52s/it]\r137it [17:22,  7.48s/it]\r138it [17:29,  7.47s/it]\r139it [17:37,  7.50s/it]\r140it [17:44,  7.60s/it]\r141it [17:52,  7.68s/it]\r142it [18:00,  7.64s/it]\r143it [18:08,  7.64s/it]\r144it [18:15,  7.67s/it]\r145it [18:23,  7.63s/it]\r146it [18:30,  7.64s/it]\r147it [18:38,  7.63s/it]\r148it [18:45,  7.52s/it]\r149it [18:53,  7.57s/it]\r150it [19:01,  7.60s/it]\r151it [19:08,  7.59s/it]\r152it [19:16,  7.59s/it]\r153it [19:24,  7.64s/it]\r154it [19:31,  7.62s/it]\r155it [19:39,  7.58s/it]\r156it [19:46,  7.54s/it]\r157it [19:54,  7.53s/it]\r158it [20:01,  7.52s/it]\r159it [20:09,  7.55s/it]\r160it [20:16,  7.60s/it]\r161it [20:24,  7.59s/it]\r162it [20:32,  7.58s/it]\r163it [20:39,  7.55s/it]\r164it [20:47,  7.57s/it]\r165it [20:54,  7.55s/it]\r166it [21:02,  7.53s/it]\r167it [21:09,  7.54s/it]\r168it [21:17,  7.56s/it]\r169it [21:24,  7.55s/it]\r170it [21:32,  7.55s/it]\r171it [21:39,  7.56s/it]\r172it [21:47,  7.58s/it]\r173it [21:55,  7.55s/it]\r174it [22:02,  7.57s/it]\r175it [22:10,  7.54s/it]\r176it [22:17,  7.54s/it]\r177it [22:25,  7.57s/it]\r178it [22:33,  7.60s/it]\r179it [22:40,  7.58s/it]\r180it [22:48,  7.59s/it]\r181it [22:55,  7.58s/it]\r182it [23:03,  7.65s/it]\r183it [23:11,  7.61s/it]\r184it [23:18,  7.60s/it]\r185it [23:26,  7.60s/it]\r186it [23:33,  7.58s/it]\r187it [23:41,  7.58s/it]\r188it [23:48,  7.54s/it]\r189it [23:56,  7.51s/it]\r190it [24:03,  7.53s/it]\r191it [24:11,  7.56s/it]\r192it [24:18,  7.55s/it]\r193it [24:26,  7.56s/it]\r194it [24:34,  7.53s/it]\r195it [24:41,  7.53s/it]\r196it [24:49,  7.54s/it]\r197it [24:56,  7.56s/it]\r198it [25:04,  7.52s/it]\r199it [25:11,  7.54s/it]\r200it [25:19,  7.59s/it]\r201it [25:27,  7.62s/it]\r202it [25:34,  7.63s/it]\r203it [25:42,  7.57s/it]\r204it [25:49,  7.56s/it]\r205it [25:57,  7.57s/it]\r206it [26:04,  7.48s/it]\r207it [26:12,  7.52s/it]\r208it [26:19,  7.50s/it]\r209it [26:27,  7.50s/it]\r210it [26:34,  7.49s/it]\r211it [26:42,  7.52s/it]\r212it [26:49,  7.53s/it]\r213it [26:57,  7.59s/it]\r214it [27:05,  7.56s/it]\r215it [27:12,  7.52s/it]\r216it [27:19,  7.52s/it]\r217it [27:27,  7.52s/it]\r218it [27:35,  7.52s/it]\r219it [27:42,  7.57s/it]\r220it [27:50,  7.62s/it]\r221it [27:57,  7.60s/it]\r222it [28:05,  7.60s/it]\r223it [28:13,  7.60s/it]\r224it [28:20,  7.54s/it]\r225it [28:28,  7.54s/it]\r226it [28:35,  7.53s/it]\r227it [28:43,  7.51s/it]\r228it [28:50,  7.57s/it]\r229it [28:58,  7.60s/it]\r230it [29:06,  7.60s/it]\r231it [29:13,  7.58s/it]\r232it [29:21,  7.56s/it]\r233it [29:28,  7.55s/it]\r234it [29:36,  7.57s/it]\r235it [29:43,  7.53s/it]\r236it [29:51,  7.50s/it]\r237it [29:58,  7.53s/it]\r238it [30:06,  7.52s/it]\r239it [30:13,  7.56s/it]\r240it [30:21,  7.55s/it]\r240it [30:21,  7.59s/it]\n"
     ]
    },
    {
     "name": "stdout",
     "output_type": "stream",
     "text": [
      "Epoch 46 train loss: 0.0233154296875\n",
      "[Train - End / Test - Start Epoch 47] GPU Memory: Allocated=2.31GB, Reserved=3.39GB\n"
     ]
    },
    {
     "name": "stderr",
     "output_type": "stream",
     "text": [
      "\r  0%|          | 0/14.1875 [00:00<?, ?it/s]\r  7%|▋         | 1/14.1875 [00:06<01:28,  6.72s/it]\r 14%|█▍        | 2/14.1875 [00:13<01:21,  6.65s/it]\r 21%|██        | 3/14.1875 [00:19<01:13,  6.56s/it]\r 28%|██▊       | 4/14.1875 [00:26<01:07,  6.58s/it]\r 35%|███▌      | 5/14.1875 [00:32<01:00,  6.58s/it]\r 42%|████▏     | 6/14.1875 [00:39<00:53,  6.58s/it]\r 49%|████▉     | 7/14.1875 [00:46<00:47,  6.60s/it]\r 56%|█████▋    | 8/14.1875 [00:52<00:40,  6.57s/it]\r 63%|██████▎   | 9/14.1875 [00:59<00:34,  6.56s/it]\r 70%|███████   | 10/14.1875 [01:05<00:27,  6.57s/it]\r 78%|███████▊  | 11/14.1875 [01:12<00:20,  6.57s/it]\r 85%|████████▍ | 12/14.1875 [01:18<00:14,  6.56s/it]\r 92%|█████████▏| 13/14.1875 [01:25<00:07,  6.56s/it]\r 99%|█████████▊| 14/14.1875 [01:32<00:01,  6.58s/it]\r15it [01:38,  6.58s/it]                             \r16it [01:45,  6.57s/it]\r17it [01:51,  6.62s/it]\r18it [01:58,  6.58s/it]\r19it [02:04,  6.57s/it]\r20it [02:11,  6.58s/it]\r21it [02:18,  6.62s/it]\r22it [02:25,  6.68s/it]\r23it [02:31,  6.65s/it]\r24it [02:38,  6.60s/it]\r25it [02:44,  6.62s/it]\r26it [02:51,  6.56s/it]\r27it [02:57,  6.57s/it]\r28it [03:04,  6.56s/it]\r29it [03:10,  6.54s/it]\r30it [03:17,  6.56s/it]\r30it [03:17,  6.58s/it]\n"
     ]
    },
    {
     "name": "stdout",
     "output_type": "stream",
     "text": [
      "Cumulative Accuracy for CP: 69.36%\n",
      "Cumulative Accuracy for chopping-board: 92.77%\n",
      "Cumulative Accuracy for finalstep: 90.50%\n",
      "Cumulative Accuracy for glass-bowl-large: 75.46%\n",
      "Cumulative Accuracy for glass-bowl-medium: 72.91%\n",
      "Cumulative Accuracy for glass-bowl-small: 36.10%\n",
      "Cumulative Accuracy for grill-plate: nan%\n",
      "Cumulative Accuracy for group_step: 76.52%\n",
      "Cumulative Accuracy for medium: 90.43%\n",
      "Cumulative Accuracy for oven-dish: 95.39%\n",
      "Cumulative Accuracy for oven-tray: 96.03%\n",
      "Cumulative Accuracy for pan: 99.93%\n",
      "Cumulative Accuracy for pot-one-handle: 97.52%\n",
      "Cumulative Accuracy for pot-two-handles-medium: 77.59%\n",
      "Cumulative Accuracy for pot-two-handles-shallow: 87.23%\n",
      "Cumulative Accuracy for pot-two-handles-small: nan%\n",
      "Cumulative Accuracy for saucepan: 95.74%\n",
      "\n",
      "Mean Top 3 Accuracy (Val): 92.44%\n",
      "Mean Top 1 Accuracy (Val): 81.78%\n",
      "Macro-averaged Accuracy (Val): 83.57%\n",
      "Epoch 46 test loss: 27.5625\n",
      "\n",
      "[Test - End Epoch 47] GPU Memory: Allocated=2.31GB, Reserved=3.39GB\n",
      "\n",
      "Epoch 48/120\n",
      "[Train - Start Epoch 48] GPU Memory: Allocated=2.31GB, Reserved=3.39GB\n"
     ]
    },
    {
     "name": "stderr",
     "output_type": "stream",
     "text": [
      "\r  0%|          | 0/127.84375 [00:00<?, ?it/s]\r  1%|          | 1/127.84375 [00:07<15:46,  7.46s/it]\r  2%|▏         | 2/127.84375 [00:15<15:48,  7.54s/it]\r  2%|▏         | 3/127.84375 [00:22<15:34,  7.49s/it]\r  3%|▎         | 4/127.84375 [00:29<15:24,  7.47s/it]\r  4%|▍         | 5/127.84375 [00:37<15:20,  7.49s/it]\r  5%|▍         | 6/127.84375 [00:45<15:17,  7.53s/it]\r  5%|▌         | 7/127.84375 [00:52<15:04,  7.48s/it]\r  6%|▋         | 8/127.84375 [00:59<14:57,  7.49s/it]\r  7%|▋         | 9/127.84375 [01:07<14:56,  7.54s/it]\r  8%|▊         | 10/127.84375 [01:15<14:47,  7.53s/it]\r  9%|▊         | 11/127.84375 [01:22<14:41,  7.55s/it]\r  9%|▉         | 12/127.84375 [01:30<14:31,  7.52s/it]\r 10%|█         | 13/127.84375 [01:37<14:21,  7.50s/it]\r 11%|█         | 14/127.84375 [01:45<14:14,  7.51s/it]\r 12%|█▏        | 15/127.84375 [01:52<14:10,  7.53s/it]\r 13%|█▎        | 16/127.84375 [02:00<13:56,  7.48s/it]\r 13%|█▎        | 17/127.84375 [02:07<13:49,  7.48s/it]\r 14%|█▍        | 18/127.84375 [02:14<13:38,  7.46s/it]\r 15%|█▍        | 19/127.84375 [02:22<13:30,  7.45s/it]\r 16%|█▌        | 20/127.84375 [02:30<13:30,  7.52s/it]\r 16%|█▋        | 21/127.84375 [02:37<13:23,  7.52s/it]\r 17%|█▋        | 22/127.84375 [02:45<13:16,  7.53s/it]\r 18%|█▊        | 23/127.84375 [02:52<13:06,  7.50s/it]\r 19%|█▉        | 24/127.84375 [03:00<13:00,  7.52s/it]\r 20%|█▉        | 25/127.84375 [03:07<12:58,  7.57s/it]\r 20%|██        | 26/127.84375 [03:15<12:49,  7.55s/it]\r 21%|██        | 27/127.84375 [03:22<12:43,  7.57s/it]\r 22%|██▏       | 28/127.84375 [03:30<12:36,  7.58s/it]\r 23%|██▎       | 29/127.84375 [03:38<12:28,  7.57s/it]\r 23%|██▎       | 30/127.84375 [03:45<12:13,  7.50s/it]\r 24%|██▍       | 31/127.84375 [03:52<12:00,  7.44s/it]\r 25%|██▌       | 32/127.84375 [04:00<12:00,  7.52s/it]\r 26%|██▌       | 33/127.84375 [04:08<11:54,  7.53s/it]\r 27%|██▋       | 34/127.84375 [04:15<11:49,  7.56s/it]\r 27%|██▋       | 35/127.84375 [04:22<11:35,  7.49s/it]\r 28%|██▊       | 36/127.84375 [04:30<11:29,  7.51s/it]\r 29%|██▉       | 37/127.84375 [04:38<11:25,  7.54s/it]\r 30%|██▉       | 38/127.84375 [04:45<11:11,  7.47s/it]\r 31%|███       | 39/127.84375 [04:52<11:05,  7.49s/it]\r 31%|███▏      | 40/127.84375 [05:00<10:59,  7.51s/it]\r 32%|███▏      | 41/127.84375 [05:07<10:50,  7.50s/it]\r 33%|███▎      | 42/127.84375 [05:15<10:43,  7.50s/it]\r 34%|███▎      | 43/127.84375 [05:23<10:42,  7.57s/it]\r 34%|███▍      | 44/127.84375 [05:30<10:36,  7.59s/it]\r 35%|███▌      | 45/127.84375 [05:38<10:28,  7.58s/it]\r 36%|███▌      | 46/127.84375 [05:45<10:20,  7.58s/it]\r 37%|███▋      | 47/127.84375 [05:53<10:14,  7.60s/it]\r 38%|███▊      | 48/127.84375 [06:01<10:02,  7.55s/it]\r 38%|███▊      | 49/127.84375 [06:08<09:55,  7.56s/it]\r 39%|███▉      | 50/127.84375 [06:16<09:48,  7.56s/it]\r 40%|███▉      | 51/127.84375 [06:23<09:37,  7.51s/it]\r 41%|████      | 52/127.84375 [06:31<09:34,  7.57s/it]\r 41%|████▏     | 53/127.84375 [06:38<09:24,  7.55s/it]\r 42%|████▏     | 54/127.84375 [06:46<09:16,  7.53s/it]\r 43%|████▎     | 55/127.84375 [06:53<09:10,  7.56s/it]\r 44%|████▍     | 56/127.84375 [07:01<09:03,  7.56s/it]\r 45%|████▍     | 57/127.84375 [07:08<08:51,  7.51s/it]\r 45%|████▌     | 58/127.84375 [07:16<08:46,  7.54s/it]\r 46%|████▌     | 59/127.84375 [07:24<08:40,  7.56s/it]\r 47%|████▋     | 60/127.84375 [07:31<08:31,  7.53s/it]\r 48%|████▊     | 61/127.84375 [07:39<08:26,  7.58s/it]\r 48%|████▊     | 62/127.84375 [07:46<08:19,  7.58s/it]\r 49%|████▉     | 63/127.84375 [07:54<08:22,  7.74s/it]\r 50%|█████     | 64/127.84375 [08:02<08:09,  7.67s/it]\r 51%|█████     | 65/127.84375 [08:10<08:00,  7.65s/it]\r 52%|█████▏    | 66/127.84375 [08:17<07:49,  7.60s/it]\r 52%|█████▏    | 67/127.84375 [08:25<07:43,  7.61s/it]\r 53%|█████▎    | 68/127.84375 [08:32<07:36,  7.62s/it]\r 54%|█████▍    | 69/127.84375 [08:40<07:25,  7.56s/it]\r 55%|█████▍    | 70/127.84375 [08:48<07:20,  7.61s/it]\r 56%|█████▌    | 71/127.84375 [08:55<07:12,  7.60s/it]\r 56%|█████▋    | 72/127.84375 [09:03<07:02,  7.56s/it]\r 57%|█████▋    | 73/127.84375 [09:10<06:54,  7.56s/it]\r 58%|█████▊    | 74/127.84375 [09:18<06:47,  7.56s/it]\r 59%|█████▊    | 75/127.84375 [09:25<06:39,  7.55s/it]\r 59%|█████▉    | 76/127.84375 [09:33<06:30,  7.54s/it]\r 60%|██████    | 77/127.84375 [09:40<06:23,  7.54s/it]\r 61%|██████    | 78/127.84375 [09:48<06:14,  7.51s/it]\r 62%|██████▏   | 79/127.84375 [09:55<06:05,  7.48s/it]\r 63%|██████▎   | 80/127.84375 [10:03<05:58,  7.49s/it]\r 63%|██████▎   | 81/127.84375 [10:10<05:51,  7.49s/it]\r 64%|██████▍   | 82/127.84375 [10:18<05:45,  7.53s/it]\r 65%|██████▍   | 83/127.84375 [10:25<05:39,  7.56s/it]\r 66%|██████▌   | 84/127.84375 [10:33<05:31,  7.56s/it]\r 66%|██████▋   | 85/127.84375 [10:41<05:24,  7.58s/it]\r 67%|██████▋   | 86/127.84375 [10:48<05:15,  7.55s/it]\r 68%|██████▊   | 87/127.84375 [10:56<05:08,  7.56s/it]\r 69%|██████▉   | 88/127.84375 [11:03<05:00,  7.55s/it]\r 70%|██████▉   | 89/127.84375 [11:11<04:53,  7.56s/it]\r 70%|███████   | 90/127.84375 [11:18<04:43,  7.50s/it]\r 71%|███████   | 91/127.84375 [11:26<04:37,  7.53s/it]\r 72%|███████▏  | 92/127.84375 [11:33<04:30,  7.54s/it]\r 73%|███████▎  | 93/127.84375 [11:41<04:20,  7.47s/it]\r 74%|███████▎  | 94/127.84375 [11:48<04:13,  7.49s/it]\r 74%|███████▍  | 95/127.84375 [11:56<04:07,  7.52s/it]\r 75%|███████▌  | 96/127.84375 [12:03<03:57,  7.47s/it]\r 76%|███████▌  | 97/127.84375 [12:11<03:51,  7.49s/it]\r 77%|███████▋  | 98/127.84375 [12:18<03:44,  7.53s/it]\r 77%|███████▋  | 99/127.84375 [12:26<03:35,  7.48s/it]\r 78%|███████▊  | 100/127.84375 [12:33<03:28,  7.48s/it]\r 79%|███████▉  | 101/127.84375 [12:41<03:21,  7.50s/it]\r 80%|███████▉  | 102/127.84375 [12:48<03:14,  7.51s/it]\r 81%|████████  | 103/127.84375 [12:56<03:07,  7.53s/it]\r 81%|████████▏ | 104/127.84375 [13:03<02:59,  7.53s/it]\r 82%|████████▏ | 105/127.84375 [13:11<02:51,  7.50s/it]\r 83%|████████▎ | 106/127.84375 [13:18<02:44,  7.55s/it]\r 84%|████████▎ | 107/127.84375 [13:26<02:37,  7.57s/it]\r 84%|████████▍ | 108/127.84375 [13:34<02:30,  7.60s/it]\r 85%|████████▌ | 109/127.84375 [13:41<02:23,  7.59s/it]\r 86%|████████▌ | 110/127.84375 [13:49<02:15,  7.59s/it]\r 87%|████████▋ | 111/127.84375 [13:56<02:07,  7.59s/it]\r 88%|████████▊ | 112/127.84375 [14:04<01:59,  7.56s/it]\r 88%|████████▊ | 113/127.84375 [14:11<01:51,  7.53s/it]\r 89%|████████▉ | 114/127.84375 [14:19<01:44,  7.53s/it]\r 90%|████████▉ | 115/127.84375 [14:26<01:36,  7.55s/it]\r 91%|█████████ | 116/127.84375 [14:34<01:29,  7.54s/it]\r 92%|█████████▏| 117/127.84375 [14:42<01:22,  7.57s/it]\r 92%|█████████▏| 118/127.84375 [14:49<01:14,  7.56s/it]\r 93%|█████████▎| 119/127.84375 [14:57<01:07,  7.60s/it]\r 94%|█████████▍| 120/127.84375 [15:04<00:59,  7.58s/it]\r 95%|█████████▍| 121/127.84375 [15:12<00:52,  7.61s/it]\r 95%|█████████▌| 122/127.84375 [15:20<00:44,  7.64s/it]\r 96%|█████████▌| 123/127.84375 [15:27<00:37,  7.65s/it]\r 97%|█████████▋| 124/127.84375 [15:35<00:29,  7.62s/it]\r 98%|█████████▊| 125/127.84375 [15:43<00:21,  7.63s/it]\r 99%|█████████▊| 126/127.84375 [15:50<00:13,  7.57s/it]\r 99%|█████████▉| 127/127.84375 [15:58<00:06,  7.55s/it]/databricks/python/lib/python3.11/site-packages/tqdm/std.py:524: TqdmWarning: clamping frac to range [0, 1]\n",
      "  full_bar = Bar(frac,\n",
      "\r100%|██████████| 128/127.84375 [16:05<-1:59:59,  7.52s/it]\r129it [16:13,  7.57s/it]                                  \r130it [16:20,  7.53s/it]\r131it [16:28,  7.55s/it]\r132it [16:35,  7.56s/it]\r133it [16:43,  7.54s/it]\r134it [16:50,  7.54s/it]\r135it [16:58,  7.55s/it]\r136it [17:05,  7.54s/it]\r137it [17:13,  7.56s/it]\r138it [17:21,  7.56s/it]\r139it [17:28,  7.53s/it]\r140it [17:36,  7.54s/it]\r141it [17:43,  7.43s/it]\r142it [17:50,  7.48s/it]\r143it [17:58,  7.54s/it]\r144it [18:06,  7.52s/it]\r145it [18:13,  7.53s/it]\r146it [18:21,  7.50s/it]\r147it [18:28,  7.50s/it]\r148it [18:36,  7.50s/it]\r149it [18:43,  7.49s/it]\r150it [18:50,  7.47s/it]\r151it [18:58,  7.47s/it]\r152it [19:05,  7.44s/it]\r153it [19:13,  7.48s/it]\r154it [19:20,  7.45s/it]\r155it [19:28,  7.48s/it]\r156it [19:35,  7.51s/it]\r157it [19:43,  7.56s/it]\r158it [19:51,  7.62s/it]\r159it [19:58,  7.63s/it]\r160it [20:06,  7.60s/it]\r161it [20:13,  7.58s/it]\r162it [20:21,  7.58s/it]\r163it [20:29,  7.56s/it]\r164it [20:36,  7.54s/it]\r165it [20:44,  7.52s/it]\r166it [20:51,  7.51s/it]\r167it [20:59,  7.54s/it]\r168it [21:06,  7.51s/it]\r169it [21:14,  7.53s/it]\r170it [21:21,  7.55s/it]\r171it [21:29,  7.54s/it]\r172it [21:36,  7.54s/it]\r173it [21:44,  7.56s/it]\r174it [21:51,  7.55s/it]\r175it [21:59,  7.54s/it]\r176it [22:07,  7.55s/it]\r177it [22:14,  7.57s/it]\r178it [22:22,  7.52s/it]\r179it [22:29,  7.54s/it]\r180it [22:37,  7.52s/it]\r181it [22:44,  7.51s/it]\r182it [22:52,  7.54s/it]\r183it [22:59,  7.52s/it]\r184it [23:07,  7.53s/it]\r185it [23:14,  7.55s/it]\r186it [23:22,  7.53s/it]\r187it [23:29,  7.52s/it]\r188it [23:37,  7.51s/it]\r189it [23:45,  7.57s/it]\r190it [23:52,  7.56s/it]\r191it [24:00,  7.54s/it]\r192it [24:07,  7.55s/it]\r193it [24:15,  7.55s/it]\r194it [24:22,  7.60s/it]\r195it [24:30,  7.59s/it]\r196it [24:37,  7.57s/it]\r197it [24:45,  7.56s/it]\r198it [24:53,  7.55s/it]\r199it [25:00,  7.53s/it]\r200it [25:08,  7.55s/it]\r201it [25:15,  7.50s/it]\r202it [25:22,  7.50s/it]\r203it [25:30,  7.50s/it]\r204it [25:37,  7.48s/it]\r205it [25:45,  7.44s/it]\r206it [25:52,  7.51s/it]\r207it [26:00,  7.49s/it]\r208it [26:08,  7.55s/it]\r209it [26:15,  7.56s/it]\r210it [26:23,  7.57s/it]\r211it [26:30,  7.55s/it]\r212it [26:38,  7.55s/it]\r213it [26:45,  7.53s/it]\r214it [26:53,  7.51s/it]\r215it [27:00,  7.53s/it]\r216it [27:08,  7.54s/it]\r217it [27:15,  7.54s/it]\r218it [27:23,  7.51s/it]\r219it [27:30,  7.50s/it]\r220it [27:38,  7.55s/it]\r221it [27:46,  7.55s/it]\r222it [27:53,  7.59s/it]\r223it [28:01,  7.58s/it]\r224it [28:08,  7.57s/it]\r225it [28:16,  7.55s/it]\r226it [28:23,  7.53s/it]\r227it [28:31,  7.54s/it]\r228it [28:38,  7.55s/it]\r229it [28:46,  7.54s/it]\r230it [28:54,  7.58s/it]\r231it [29:01,  7.63s/it]\r232it [29:09,  7.59s/it]\r233it [29:16,  7.59s/it]\r234it [29:24,  7.62s/it]\r235it [29:32,  7.63s/it]\r236it [29:39,  7.60s/it]\r237it [29:47,  7.58s/it]\r238it [29:54,  7.53s/it]\r239it [30:02,  7.53s/it]\r240it [30:09,  7.56s/it]\r240it [30:09,  7.54s/it]\n"
     ]
    },
    {
     "name": "stdout",
     "output_type": "stream",
     "text": [
      "Epoch 47 train loss: 0.02557373046875\n",
      "[Train - End / Test - Start Epoch 48] GPU Memory: Allocated=2.32GB, Reserved=3.39GB\n"
     ]
    },
    {
     "name": "stderr",
     "output_type": "stream",
     "text": [
      "\r  0%|          | 0/14.1875 [00:00<?, ?it/s]\r  7%|▋         | 1/14.1875 [00:06<01:27,  6.62s/it]\r 14%|█▍        | 2/14.1875 [00:13<01:20,  6.64s/it]\r 21%|██        | 3/14.1875 [00:20<01:14,  6.68s/it]\r 28%|██▊       | 4/14.1875 [00:26<01:08,  6.74s/it]\r 35%|███▌      | 5/14.1875 [00:33<01:01,  6.68s/it]\r 42%|████▏     | 6/14.1875 [00:40<00:54,  6.67s/it]\r 49%|████▉     | 7/14.1875 [00:46<00:47,  6.62s/it]\r 56%|█████▋    | 8/14.1875 [00:53<00:40,  6.61s/it]\r 63%|██████▎   | 9/14.1875 [00:59<00:34,  6.60s/it]\r 70%|███████   | 10/14.1875 [01:06<00:27,  6.60s/it]\r 78%|███████▊  | 11/14.1875 [01:12<00:20,  6.58s/it]\r 85%|████████▍ | 12/14.1875 [01:19<00:14,  6.58s/it]\r 92%|█████████▏| 13/14.1875 [01:25<00:07,  6.55s/it]\r 99%|█████████▊| 14/14.1875 [01:32<00:01,  6.53s/it]\r15it [01:39,  6.58s/it]                             \r16it [01:45,  6.62s/it]\r17it [01:52,  6.52s/it]\r18it [01:58,  6.51s/it]\r19it [02:05,  6.50s/it]\r20it [02:11,  6.51s/it]\r21it [02:18,  6.56s/it]\r22it [02:24,  6.53s/it]\r23it [02:31,  6.56s/it]\r24it [02:37,  6.52s/it]\r25it [02:44,  6.57s/it]\r26it [02:51,  6.60s/it]\r27it [02:57,  6.59s/it]\r28it [03:04,  6.56s/it]\r29it [03:10,  6.56s/it]\r30it [03:17,  6.55s/it]\r30it [03:17,  6.58s/it]\n"
     ]
    },
    {
     "name": "stdout",
     "output_type": "stream",
     "text": [
      "Cumulative Accuracy for CP: 69.31%\n",
      "Cumulative Accuracy for chopping-board: 92.85%\n",
      "Cumulative Accuracy for finalstep: 90.28%\n",
      "Cumulative Accuracy for glass-bowl-large: 75.49%\n",
      "Cumulative Accuracy for glass-bowl-medium: 72.92%\n",
      "Cumulative Accuracy for glass-bowl-small: 36.25%\n",
      "Cumulative Accuracy for grill-plate: nan%\n",
      "Cumulative Accuracy for group_step: 76.81%\n",
      "Cumulative Accuracy for medium: 90.56%\n",
      "Cumulative Accuracy for oven-dish: 95.49%\n",
      "Cumulative Accuracy for oven-tray: 96.04%\n",
      "Cumulative Accuracy for pan: 99.93%\n",
      "Cumulative Accuracy for pot-one-handle: 97.57%\n",
      "Cumulative Accuracy for pot-two-handles-medium: 77.64%\n",
      "Cumulative Accuracy for pot-two-handles-shallow: 87.15%\n",
      "Cumulative Accuracy for pot-two-handles-small: nan%\n",
      "Cumulative Accuracy for saucepan: 95.83%\n",
      "\n",
      "Mean Top 3 Accuracy (Val): 94.89%\n",
      "Mean Top 1 Accuracy (Val): 85.56%\n",
      "Macro-averaged Accuracy (Val): 83.61%\n",
      "Epoch 47 test loss: 24.09375\n",
      "\n",
      "[Test - End Epoch 48] GPU Memory: Allocated=2.32GB, Reserved=3.39GB\n",
      "\n",
      "Epoch 49/120\n",
      "[Train - Start Epoch 49] GPU Memory: Allocated=2.32GB, Reserved=3.39GB\n"
     ]
    },
    {
     "name": "stderr",
     "output_type": "stream",
     "text": [
      "\r  0%|          | 0/127.84375 [00:00<?, ?it/s]\r  1%|          | 1/127.84375 [00:07<16:21,  7.74s/it]\r  2%|▏         | 2/127.84375 [00:15<16:07,  7.69s/it]\r  2%|▏         | 3/127.84375 [00:23<16:00,  7.69s/it]\r  3%|▎         | 4/127.84375 [00:30<15:47,  7.65s/it]\r  4%|▍         | 5/127.84375 [00:38<15:35,  7.61s/it]\r  5%|▍         | 6/127.84375 [00:45<15:26,  7.60s/it]\r  5%|▌         | 7/127.84375 [00:53<15:19,  7.61s/it]\r  6%|▋         | 8/127.84375 [01:01<15:10,  7.60s/it]\r  7%|▋         | 9/127.84375 [01:08<14:58,  7.56s/it]\r  8%|▊         | 10/127.84375 [01:16<14:51,  7.57s/it]\r  9%|▊         | 11/127.84375 [01:23<14:49,  7.61s/it]\r  9%|▉         | 12/127.84375 [01:31<14:39,  7.60s/it]\r 10%|█         | 13/127.84375 [01:38<14:32,  7.60s/it]\r 11%|█         | 14/127.84375 [01:46<14:18,  7.54s/it]\r 12%|█▏        | 15/127.84375 [01:54<14:17,  7.60s/it]\r 13%|█▎        | 16/127.84375 [02:01<14:06,  7.57s/it]\r 13%|█▎        | 17/127.84375 [02:09<13:59,  7.58s/it]\r 14%|█▍        | 18/127.84375 [02:16<13:49,  7.55s/it]\r 15%|█▍        | 19/127.84375 [02:24<13:43,  7.56s/it]\r 16%|█▌        | 20/127.84375 [02:31<13:37,  7.58s/it]\r 16%|█▋        | 21/127.84375 [02:39<13:27,  7.56s/it]\r 17%|█▋        | 22/127.84375 [02:46<13:20,  7.56s/it]\r 18%|█▊        | 23/127.84375 [02:54<13:11,  7.55s/it]\r 19%|█▉        | 24/127.84375 [03:02<13:05,  7.56s/it]\r 20%|█▉        | 25/127.84375 [03:09<12:58,  7.57s/it]\r 20%|██        | 26/127.84375 [03:17<12:48,  7.55s/it]\r 21%|██        | 27/127.84375 [03:24<12:44,  7.59s/it]\r 22%|██▏       | 28/127.84375 [03:32<12:36,  7.58s/it]\r 23%|██▎       | 29/127.84375 [03:39<12:25,  7.54s/it]\r 23%|██▎       | 30/127.84375 [03:47<12:17,  7.54s/it]\r 24%|██▍       | 31/127.84375 [03:54<12:12,  7.56s/it]\r 25%|██▌       | 32/127.84375 [04:02<12:05,  7.57s/it]\r 26%|██▌       | 33/127.84375 [04:10<11:59,  7.58s/it]\r 27%|██▋       | 34/127.84375 [04:17<11:50,  7.57s/it]\r 27%|██▋       | 35/127.84375 [04:25<11:38,  7.52s/it]\r 28%|██▊       | 36/127.84375 [04:32<11:34,  7.56s/it]\r 29%|██▉       | 37/127.84375 [04:40<11:27,  7.57s/it]\r 30%|██▉       | 38/127.84375 [04:47<11:14,  7.51s/it]\r 31%|███       | 39/127.84375 [04:55<11:08,  7.53s/it]\r 31%|███▏      | 40/127.84375 [05:02<11:02,  7.54s/it]\r 32%|███▏      | 41/127.84375 [05:10<10:51,  7.50s/it]\r 33%|███▎      | 42/127.84375 [05:17<10:43,  7.50s/it]\r 34%|███▎      | 43/127.84375 [05:25<10:33,  7.47s/it]\r 34%|███▍      | 44/127.84375 [05:32<10:21,  7.42s/it]\r 35%|███▌      | 45/127.84375 [05:40<10:18,  7.47s/it]\r 36%|███▌      | 46/127.84375 [05:47<10:11,  7.47s/it]\r 37%|███▋      | 47/127.84375 [05:54<10:01,  7.44s/it]\r 38%|███▊      | 48/127.84375 [06:02<09:55,  7.46s/it]\r 38%|███▊      | 49/127.84375 [06:10<09:53,  7.53s/it]\r 39%|███▉      | 50/127.84375 [06:17<09:43,  7.50s/it]\r 40%|███▉      | 51/127.84375 [06:25<09:36,  7.50s/it]\r 41%|████      | 52/127.84375 [06:32<09:29,  7.51s/it]\r 41%|████▏     | 53/127.84375 [06:40<09:21,  7.51s/it]\r 42%|████▏     | 54/127.84375 [06:47<09:14,  7.51s/it]\r 43%|████▎     | 55/127.84375 [06:55<09:07,  7.51s/it]\r 44%|████▍     | 56/127.84375 [07:02<08:58,  7.49s/it]\r 45%|████▍     | 57/127.84375 [07:10<08:52,  7.51s/it]\r 45%|████▌     | 58/127.84375 [07:17<08:46,  7.54s/it]\r 46%|████▌     | 59/127.84375 [07:25<08:39,  7.55s/it]\r 47%|████▋     | 60/127.84375 [07:32<08:30,  7.53s/it]\r 48%|████▊     | 61/127.84375 [07:40<08:23,  7.53s/it]\r 48%|████▊     | 62/127.84375 [07:47<08:14,  7.50s/it]\r 49%|████▉     | 63/127.84375 [07:55<08:07,  7.52s/it]\r 50%|█████     | 64/127.84375 [08:02<08:01,  7.54s/it]\r 51%|█████     | 65/127.84375 [08:10<07:51,  7.50s/it]\r 52%|█████▏    | 66/127.84375 [08:17<07:44,  7.52s/it]\r 52%|█████▏    | 67/127.84375 [08:25<07:38,  7.53s/it]\r 53%|█████▎    | 68/127.84375 [08:32<07:29,  7.51s/it]\r 54%|█████▍    | 69/127.84375 [08:40<07:23,  7.54s/it]\r 55%|█████▍    | 70/127.84375 [08:48<07:15,  7.54s/it]\r 56%|█████▌    | 71/127.84375 [08:55<07:08,  7.53s/it]\r 56%|█████▋    | 72/127.84375 [09:03<07:01,  7.55s/it]\r 57%|█████▋    | 73/127.84375 [09:10<06:54,  7.56s/it]\r 58%|█████▊    | 74/127.84375 [09:18<06:45,  7.53s/it]\r 59%|█████▊    | 75/127.84375 [09:25<06:39,  7.56s/it]\r 59%|█████▉    | 76/127.84375 [09:33<06:31,  7.56s/it]\r 60%|██████    | 77/127.84375 [09:40<06:22,  7.53s/it]\r 61%|██████    | 78/127.84375 [09:48<06:17,  7.57s/it]\r 62%|██████▏   | 79/127.84375 [09:56<06:09,  7.56s/it]\r 63%|██████▎   | 80/127.84375 [10:03<06:01,  7.55s/it]\r 63%|██████▎   | 81/127.84375 [10:11<05:53,  7.54s/it]\r 64%|██████▍   | 82/127.84375 [10:18<05:45,  7.55s/it]\r 65%|██████▍   | 83/127.84375 [10:26<05:37,  7.53s/it]\r 66%|██████▌   | 84/127.84375 [10:33<05:29,  7.51s/it]\r 66%|██████▋   | 85/127.84375 [10:41<05:20,  7.49s/it]\r 67%|██████▋   | 86/127.84375 [10:48<05:12,  7.47s/it]\r 68%|██████▊   | 87/127.84375 [10:56<05:06,  7.51s/it]\r 69%|██████▉   | 88/127.84375 [11:03<04:59,  7.52s/it]\r 70%|██████▉   | 89/127.84375 [11:11<04:53,  7.56s/it]\r 70%|███████   | 90/127.84375 [11:18<04:46,  7.58s/it]\r 71%|███████   | 91/127.84375 [11:26<04:38,  7.56s/it]\r 72%|███████▏  | 92/127.84375 [11:33<04:28,  7.50s/it]\r 73%|███████▎  | 93/127.84375 [11:41<04:20,  7.48s/it]\r 74%|███████▎  | 94/127.84375 [11:48<04:14,  7.53s/it]\r 74%|███████▍  | 95/127.84375 [11:56<04:07,  7.54s/it]\r 75%|███████▌  | 96/127.84375 [12:03<03:58,  7.49s/it]\r 76%|███████▌  | 97/127.84375 [12:11<03:51,  7.50s/it]\r 77%|███████▋  | 98/127.84375 [12:18<03:43,  7.49s/it]\r 77%|███████▋  | 99/127.84375 [12:26<03:36,  7.52s/it]\r 78%|███████▊  | 100/127.84375 [12:33<03:28,  7.51s/it]\r 79%|███████▉  | 101/127.84375 [12:41<03:21,  7.50s/it]\r 80%|███████▉  | 102/127.84375 [12:48<03:14,  7.51s/it]\r 81%|████████  | 103/127.84375 [12:56<03:07,  7.53s/it]\r 81%|████████▏ | 104/127.84375 [13:03<02:59,  7.52s/it]\r 82%|████████▏ | 105/127.84375 [13:11<02:52,  7.53s/it]\r 83%|████████▎ | 106/127.84375 [13:19<02:44,  7.53s/it]\r 84%|████████▎ | 107/127.84375 [13:26<02:37,  7.53s/it]\r 84%|████████▍ | 108/127.84375 [13:34<02:29,  7.53s/it]\r 85%|████████▌ | 109/127.84375 [13:41<02:21,  7.51s/it]\r 86%|████████▌ | 110/127.84375 [13:49<02:14,  7.52s/it]\r 87%|████████▋ | 111/127.84375 [13:56<02:06,  7.52s/it]\r 88%|████████▊ | 112/127.84375 [14:04<01:59,  7.55s/it]\r 88%|████████▊ | 113/127.84375 [14:11<01:52,  7.61s/it]\r 89%|████████▉ | 114/127.84375 [14:19<01:45,  7.61s/it]\r 90%|████████▉ | 115/127.84375 [14:27<01:37,  7.60s/it]\r 91%|█████████ | 116/127.84375 [14:34<01:29,  7.55s/it]\r 92%|█████████▏| 117/127.84375 [14:42<01:22,  7.60s/it]\r 92%|█████████▏| 118/127.84375 [14:49<01:14,  7.61s/it]\r 93%|█████████▎| 119/127.84375 [14:57<01:06,  7.54s/it]\r 94%|█████████▍| 120/127.84375 [15:04<00:59,  7.58s/it]\r 95%|█████████▍| 121/127.84375 [15:12<00:51,  7.55s/it]\r 95%|█████████▌| 122/127.84375 [15:20<00:44,  7.56s/it]\r 96%|█████████▌| 123/127.84375 [15:27<00:36,  7.56s/it]\r 97%|█████████▋| 124/127.84375 [15:35<00:29,  7.63s/it]\r 98%|█████████▊| 125/127.84375 [15:42<00:21,  7.59s/it]\r 99%|█████████▊| 126/127.84375 [15:50<00:14,  7.63s/it]\r 99%|█████████▉| 127/127.84375 [15:58<00:06,  7.62s/it]/databricks/python/lib/python3.11/site-packages/tqdm/std.py:524: TqdmWarning: clamping frac to range [0, 1]\n",
      "  full_bar = Bar(frac,\n",
      "\r100%|██████████| 128/127.84375 [16:05<-1:59:59,  7.62s/it]\r129it [16:13,  7.57s/it]                                  \r130it [16:20,  7.59s/it]\r131it [16:28,  7.65s/it]\r132it [16:36,  7.54s/it]\r133it [16:43,  7.53s/it]\r134it [16:51,  7.55s/it]\r135it [16:58,  7.50s/it]\r136it [17:06,  7.52s/it]\r137it [17:13,  7.54s/it]\r138it [17:21,  7.59s/it]\r139it [17:28,  7.57s/it]\r140it [17:36,  7.52s/it]\r141it [17:43,  7.57s/it]\r142it [17:51,  7.58s/it]\r143it [17:59,  7.62s/it]\r144it [18:06,  7.65s/it]\r145it [18:14,  7.65s/it]\r146it [18:22,  7.58s/it]\r147it [18:29,  7.59s/it]\r148it [18:37,  7.62s/it]\r149it [18:44,  7.53s/it]\r150it [18:52,  7.56s/it]\r151it [18:59,  7.58s/it]\r152it [19:07,  7.61s/it]\r153it [19:15,  7.62s/it]\r154it [19:22,  7.62s/it]\r155it [19:30,  7.63s/it]\r156it [19:38,  7.64s/it]\r157it [19:45,  7.56s/it]\r158it [19:53,  7.56s/it]\r159it [20:00,  7.55s/it]\r160it [20:08,  7.57s/it]\r161it [20:15,  7.60s/it]\r162it [20:23,  7.56s/it]\r163it [20:30,  7.54s/it]\r164it [20:38,  7.54s/it]\r165it [20:45,  7.52s/it]\r166it [20:53,  7.57s/it]\r167it [21:01,  7.55s/it]\r168it [21:08,  7.57s/it]\r169it [21:16,  7.57s/it]\r170it [21:23,  7.54s/it]\r171it [21:31,  7.55s/it]\r172it [21:38,  7.57s/it]\r173it [21:46,  7.56s/it]\r174it [21:54,  7.56s/it]\r175it [22:01,  7.59s/it]\r176it [22:09,  7.55s/it]\r177it [22:16,  7.55s/it]\r178it [22:24,  7.54s/it]\r179it [22:31,  7.50s/it]\r180it [22:39,  7.55s/it]\r181it [22:46,  7.57s/it]\r182it [22:54,  7.54s/it]\r183it [23:02,  7.59s/it]\r184it [23:09,  7.63s/it]\r185it [23:17,  7.59s/it]\r186it [23:24,  7.60s/it]\r187it [23:32,  7.56s/it]\r188it [23:39,  7.56s/it]\r189it [23:47,  7.57s/it]\r190it [23:55,  7.55s/it]\r191it [24:02,  7.55s/it]\r192it [24:10,  7.59s/it]\r193it [24:17,  7.58s/it]\r194it [24:25,  7.58s/it]\r195it [24:32,  7.53s/it]\r196it [24:40,  7.55s/it]\r197it [24:47,  7.54s/it]\r198it [24:55,  7.57s/it]\r199it [25:03,  7.58s/it]\r200it [25:10,  7.56s/it]\r201it [25:18,  7.57s/it]\r202it [25:25,  7.56s/it]\r203it [25:33,  7.60s/it]\r204it [25:40,  7.48s/it]\r205it [25:48,  7.49s/it]\r206it [25:55,  7.52s/it]\r207it [26:03,  7.52s/it]\r208it [26:10,  7.55s/it]\r209it [26:18,  7.53s/it]\r210it [26:26,  7.54s/it]\r211it [26:33,  7.56s/it]\r212it [26:41,  7.51s/it]\r213it [26:48,  7.56s/it]\r214it [26:56,  7.58s/it]\r215it [27:04,  7.64s/it]\r216it [27:11,  7.65s/it]\r217it [27:19,  7.63s/it]\r218it [27:27,  7.64s/it]\r219it [27:34,  7.59s/it]\r220it [27:42,  7.58s/it]\r221it [27:49,  7.56s/it]\r222it [27:57,  7.54s/it]\r223it [28:04,  7.49s/it]\r224it [28:12,  7.53s/it]\r225it [28:19,  7.52s/it]\r226it [28:27,  7.52s/it]\r227it [28:34,  7.54s/it]\r228it [28:42,  7.53s/it]\r229it [28:49,  7.53s/it]\r230it [28:57,  7.55s/it]\r231it [29:04,  7.52s/it]\r232it [29:12,  7.53s/it]\r233it [29:19,  7.55s/it]\r234it [29:27,  7.53s/it]\r235it [29:35,  7.55s/it]\r236it [29:42,  7.53s/it]\r237it [29:50,  7.53s/it]\r238it [29:57,  7.58s/it]\r239it [30:05,  7.53s/it]\r240it [30:12,  7.53s/it]\r240it [30:12,  7.55s/it]\n"
     ]
    },
    {
     "name": "stdout",
     "output_type": "stream",
     "text": [
      "Epoch 48 train loss: 0.0204620361328125\n",
      "[Train - End / Test - Start Epoch 49] GPU Memory: Allocated=2.31GB, Reserved=3.39GB\n"
     ]
    },
    {
     "name": "stderr",
     "output_type": "stream",
     "text": [
      "\r  0%|          | 0/14.1875 [00:00<?, ?it/s]\r  7%|▋         | 1/14.1875 [00:06<01:26,  6.60s/it]\r 14%|█▍        | 2/14.1875 [00:13<01:21,  6.66s/it]\r 21%|██        | 3/14.1875 [00:19<01:14,  6.67s/it]\r 28%|██▊       | 4/14.1875 [00:26<01:06,  6.57s/it]\r 35%|███▌      | 5/14.1875 [00:33<01:00,  6.60s/it]\r 42%|████▏     | 6/14.1875 [00:39<00:54,  6.64s/it]\r 49%|████▉     | 7/14.1875 [00:46<00:47,  6.62s/it]\r 56%|█████▋    | 8/14.1875 [00:53<00:41,  6.64s/it]\r 63%|██████▎   | 9/14.1875 [00:59<00:34,  6.67s/it]\r 70%|███████   | 10/14.1875 [01:06<00:27,  6.65s/it]\r 78%|███████▊  | 11/14.1875 [01:13<00:21,  6.65s/it]\r 85%|████████▍ | 12/14.1875 [01:19<00:14,  6.66s/it]\r 92%|█████████▏| 13/14.1875 [01:26<00:07,  6.66s/it]\r 99%|█████████▊| 14/14.1875 [01:33<00:01,  6.67s/it]\r15it [01:39,  6.71s/it]                             \r16it [01:46,  6.70s/it]\r17it [01:53,  6.68s/it]\r18it [01:59,  6.68s/it]\r19it [02:06,  6.63s/it]\r20it [02:13,  6.63s/it]\r21it [02:19,  6.61s/it]\r22it [02:26,  6.65s/it]\r23it [02:33,  6.69s/it]\r24it [02:39,  6.66s/it]\r25it [02:46,  6.68s/it]\r26it [02:53,  6.66s/it]\r27it [02:59,  6.62s/it]\r28it [03:06,  6.64s/it]\r29it [03:12,  6.65s/it]\r30it [03:19,  6.63s/it]\r30it [03:19,  6.65s/it]\n"
     ]
    },
    {
     "name": "stdout",
     "output_type": "stream",
     "text": [
      "Cumulative Accuracy for CP: 69.32%\n",
      "Cumulative Accuracy for chopping-board: 92.86%\n",
      "Cumulative Accuracy for finalstep: 90.41%\n",
      "Cumulative Accuracy for glass-bowl-large: 75.65%\n",
      "Cumulative Accuracy for glass-bowl-medium: 73.20%\n",
      "Cumulative Accuracy for glass-bowl-small: 36.19%\n",
      "Cumulative Accuracy for grill-plate: nan%\n",
      "Cumulative Accuracy for group_step: 76.05%\n",
      "Cumulative Accuracy for medium: 90.61%\n",
      "Cumulative Accuracy for oven-dish: 95.58%\n",
      "Cumulative Accuracy for oven-tray: 96.05%\n",
      "Cumulative Accuracy for pan: 99.93%\n",
      "Cumulative Accuracy for pot-one-handle: 97.62%\n",
      "Cumulative Accuracy for pot-two-handles-medium: 77.76%\n",
      "Cumulative Accuracy for pot-two-handles-shallow: 87.41%\n",
      "Cumulative Accuracy for pot-two-handles-small: nan%\n",
      "Cumulative Accuracy for saucepan: 93.88%\n",
      "\n",
      "Mean Top 3 Accuracy (Val): 97.56%\n",
      "Mean Top 1 Accuracy (Val): 78.44%\n",
      "Macro-averaged Accuracy (Val): 83.50%\n",
      "Epoch 48 test loss: 25.421875\n",
      "\n",
      "[Test - End Epoch 49] GPU Memory: Allocated=2.31GB, Reserved=3.39GB\n",
      "\n",
      "Epoch 50/120\n",
      "[Train - Start Epoch 50] GPU Memory: Allocated=2.31GB, Reserved=3.39GB\n"
     ]
    },
    {
     "name": "stderr",
     "output_type": "stream",
     "text": [
      "\r  0%|          | 0/127.84375 [00:00<?, ?it/s]\r  1%|          | 1/127.84375 [00:07<16:02,  7.59s/it]\r  2%|▏         | 2/127.84375 [00:15<16:02,  7.65s/it]\r  2%|▏         | 3/127.84375 [00:22<15:53,  7.64s/it]\r  3%|▎         | 4/127.84375 [00:30<15:46,  7.64s/it]\r  4%|▍         | 5/127.84375 [00:38<15:34,  7.61s/it]\r  5%|▍         | 6/127.84375 [00:45<15:17,  7.53s/it]\r  5%|▌         | 7/127.84375 [00:53<15:11,  7.54s/it]\r  6%|▋         | 8/127.84375 [01:00<15:03,  7.54s/it]\r  7%|▋         | 9/127.84375 [01:08<14:52,  7.51s/it]\r  8%|▊         | 10/127.84375 [01:15<14:44,  7.50s/it]\r  9%|▊         | 11/127.84375 [01:23<14:36,  7.50s/it]\r  9%|▉         | 12/127.84375 [01:30<14:36,  7.57s/it]\r 10%|█         | 13/127.84375 [01:38<14:33,  7.61s/it]\r 11%|█         | 14/127.84375 [01:46<14:25,  7.60s/it]\r 12%|█▏        | 15/127.84375 [01:53<14:22,  7.65s/it]\r 13%|█▎        | 16/127.84375 [02:01<14:11,  7.61s/it]\r 13%|█▎        | 17/127.84375 [02:09<14:07,  7.64s/it]\r 14%|█▍        | 18/127.84375 [02:16<14:00,  7.66s/it]\r 15%|█▍        | 19/127.84375 [02:24<13:51,  7.64s/it]\r 16%|█▌        | 20/127.84375 [02:32<13:48,  7.68s/it]\r 16%|█▋        | 21/127.84375 [02:39<13:40,  7.68s/it]\r 17%|█▋        | 22/127.84375 [02:47<13:27,  7.63s/it]\r 18%|█▊        | 23/127.84375 [02:54<13:17,  7.61s/it]\r 19%|█▉        | 24/127.84375 [03:02<13:12,  7.63s/it]\r 20%|█▉        | 25/127.84375 [03:10<13:07,  7.66s/it]\r 20%|██        | 26/127.84375 [03:17<12:54,  7.60s/it]\r 21%|██        | 27/127.84375 [03:25<12:44,  7.58s/it]\r 22%|██▏       | 28/127.84375 [03:32<12:36,  7.58s/it]\r 23%|██▎       | 29/127.84375 [03:40<12:32,  7.62s/it]\r 23%|██▎       | 30/127.84375 [03:48<12:26,  7.63s/it]\r 24%|██▍       | 31/127.84375 [03:55<12:23,  7.68s/it]\r 25%|██▌       | 32/127.84375 [04:03<12:17,  7.70s/it]\r 26%|██▌       | 33/127.84375 [04:11<12:11,  7.71s/it]\r 27%|██▋       | 34/127.84375 [04:19<12:00,  7.68s/it]\r 27%|██▋       | 35/127.84375 [04:26<11:47,  7.62s/it]\r 28%|██▊       | 36/127.84375 [04:34<11:40,  7.62s/it]\r 29%|██▉       | 37/127.84375 [04:41<11:33,  7.63s/it]\r 30%|██▉       | 38/127.84375 [04:49<11:22,  7.59s/it]\r 31%|███       | 39/127.84375 [04:57<11:19,  7.64s/it]\r 31%|███▏      | 40/127.84375 [05:04<11:09,  7.62s/it]\r 32%|███▏      | 41/127.84375 [05:12<10:58,  7.59s/it]\r 33%|███▎      | 42/127.84375 [05:19<10:52,  7.60s/it]\r 34%|███▎      | 43/127.84375 [05:27<10:42,  7.58s/it]\r 34%|███▍      | 44/127.84375 [05:34<10:32,  7.54s/it]\r 35%|███▌      | 45/127.84375 [05:42<10:28,  7.59s/it]\r 36%|███▌      | 46/127.84375 [05:49<10:18,  7.56s/it]\r 37%|███▋      | 47/127.84375 [05:57<10:12,  7.57s/it]\r 38%|███▊      | 48/127.84375 [06:05<10:06,  7.59s/it]\r 38%|███▊      | 49/127.84375 [06:12<09:59,  7.61s/it]\r 39%|███▉      | 50/127.84375 [06:20<09:49,  7.57s/it]\r 40%|███▉      | 51/127.84375 [06:27<09:39,  7.55s/it]\r 41%|████      | 52/127.84375 [06:35<09:37,  7.62s/it]\r 41%|████▏     | 53/127.84375 [06:43<09:31,  7.64s/it]\r 42%|████▏     | 54/127.84375 [06:50<09:24,  7.65s/it]\r 43%|████▎     | 55/127.84375 [06:58<09:18,  7.67s/it]\r 44%|████▍     | 56/127.84375 [07:06<09:16,  7.75s/it]\r 45%|████▍     | 57/127.84375 [07:14<09:08,  7.75s/it]\r 45%|████▌     | 58/127.84375 [07:21<08:58,  7.70s/it]\r 46%|████▌     | 59/127.84375 [07:29<08:50,  7.71s/it]\r 47%|████▋     | 60/127.84375 [07:37<08:38,  7.64s/it]\r 48%|████▊     | 61/127.84375 [07:44<08:29,  7.62s/it]\r 48%|████▊     | 62/127.84375 [07:52<08:20,  7.60s/it]\r 49%|████▉     | 63/127.84375 [07:59<08:04,  7.47s/it]\r 50%|█████     | 64/127.84375 [08:07<08:00,  7.53s/it]\r 51%|█████     | 65/127.84375 [08:14<07:54,  7.54s/it]\r 52%|█████▏    | 66/127.84375 [08:22<07:46,  7.55s/it]\r 52%|█████▏    | 67/127.84375 [08:29<07:37,  7.52s/it]\r 53%|█████▎    | 68/127.84375 [08:37<07:30,  7.53s/it]\r 54%|█████▍    | 69/127.84375 [08:44<07:25,  7.57s/it]\r 55%|█████▍    | 70/127.84375 [08:52<07:21,  7.63s/it]\r 56%|█████▌    | 71/127.84375 [09:00<07:13,  7.63s/it]\r 56%|█████▋    | 72/127.84375 [09:08<07:09,  7.70s/it]\r 57%|█████▋    | 73/127.84375 [09:15<07:01,  7.69s/it]\r 58%|█████▊    | 74/127.84375 [09:23<06:51,  7.64s/it]\r 59%|█████▊    | 75/127.84375 [09:30<06:43,  7.63s/it]\r 59%|█████▉    | 76/127.84375 [09:38<06:33,  7.59s/it]\r 60%|██████    | 77/127.84375 [09:46<06:27,  7.62s/it]\r 61%|██████    | 78/127.84375 [09:53<06:21,  7.65s/it]\r 62%|██████▏   | 79/127.84375 [10:01<06:14,  7.68s/it]\r 63%|██████▎   | 80/127.84375 [10:09<06:07,  7.68s/it]\r 63%|██████▎   | 81/127.84375 [10:16<06:00,  7.69s/it]\r 64%|██████▍   | 82/127.84375 [10:24<05:52,  7.68s/it]\r 65%|██████▍   | 83/127.84375 [10:32<05:42,  7.64s/it]\r 66%|██████▌   | 84/127.84375 [10:39<05:36,  7.68s/it]\r 66%|██████▋   | 85/127.84375 [10:47<05:25,  7.61s/it]\r 67%|██████▋   | 86/127.84375 [10:55<05:19,  7.64s/it]\r 68%|██████▊   | 87/127.84375 [11:02<05:12,  7.66s/it]\r 69%|██████▉   | 88/127.84375 [11:10<05:06,  7.69s/it]\r 70%|██████▉   | 89/127.84375 [11:18<04:58,  7.67s/it]\r 70%|███████   | 90/127.84375 [11:25<04:50,  7.69s/it]\r 71%|███████   | 91/127.84375 [11:33<04:42,  7.67s/it]\r 72%|███████▏  | 92/127.84375 [11:41<04:33,  7.64s/it]\r 73%|███████▎  | 93/127.84375 [11:48<04:26,  7.64s/it]\r 74%|███████▎  | 94/127.84375 [11:56<04:18,  7.64s/it]\r 74%|███████▍  | 95/127.84375 [12:04<04:12,  7.67s/it]\r 75%|███████▌  | 96/127.84375 [12:11<04:03,  7.63s/it]\r 76%|███████▌  | 97/127.84375 [12:19<03:54,  7.59s/it]\r 77%|███████▋  | 98/127.84375 [12:26<03:46,  7.58s/it]\r 77%|███████▋  | 99/127.84375 [12:34<03:38,  7.57s/it]\r 78%|███████▊  | 100/127.84375 [12:41<03:30,  7.55s/it]\r 79%|███████▉  | 101/127.84375 [12:49<03:21,  7.52s/it]\r 80%|███████▉  | 102/127.84375 [12:56<03:15,  7.56s/it]\r 81%|████████  | 103/127.84375 [13:04<03:07,  7.53s/it]\r 81%|████████▏ | 104/127.84375 [13:11<03:00,  7.56s/it]\r 82%|████████▏ | 105/127.84375 [13:19<02:52,  7.57s/it]\r 83%|████████▎ | 106/127.84375 [13:26<02:43,  7.50s/it]\r 84%|████████▎ | 107/127.84375 [13:34<02:37,  7.54s/it]\r 84%|████████▍ | 108/127.84375 [13:42<02:29,  7.52s/it]\r 85%|████████▌ | 109/127.84375 [13:49<02:21,  7.50s/it]\r 86%|████████▌ | 110/127.84375 [13:57<02:14,  7.53s/it]\r 87%|████████▋ | 111/127.84375 [14:04<02:07,  7.56s/it]\r 88%|████████▊ | 112/127.84375 [14:12<02:00,  7.58s/it]\r 88%|████████▊ | 113/127.84375 [14:19<01:52,  7.59s/it]\r 89%|████████▉ | 114/127.84375 [14:27<01:45,  7.60s/it]\r 90%|████████▉ | 115/127.84375 [14:35<01:37,  7.60s/it]\r 91%|█████████ | 116/127.84375 [14:42<01:30,  7.61s/it]\r 92%|█████████▏| 117/127.84375 [14:50<01:23,  7.66s/it]\r 92%|█████████▏| 118/127.84375 [14:58<01:15,  7.68s/it]\r 93%|█████████▎| 119/127.84375 [15:05<01:07,  7.61s/it]\r 94%|█████████▍| 120/127.84375 [15:13<00:59,  7.61s/it]\r 95%|█████████▍| 121/127.84375 [15:20<00:52,  7.60s/it]\r 95%|█████████▌| 122/127.84375 [15:28<00:44,  7.59s/it]\r 96%|█████████▌| 123/127.84375 [15:36<00:36,  7.58s/it]\r 97%|█████████▋| 124/127.84375 [15:43<00:29,  7.61s/it]\r 98%|█████████▊| 125/127.84375 [15:51<00:21,  7.59s/it]\r 99%|█████████▊| 126/127.84375 [15:59<00:14,  7.66s/it]\r 99%|█████████▉| 127/127.84375 [16:06<00:06,  7.67s/it]/databricks/python/lib/python3.11/site-packages/tqdm/std.py:524: TqdmWarning: clamping frac to range [0, 1]\n",
      "  full_bar = Bar(frac,\n",
      "\r100%|██████████| 128/127.84375 [16:14<-1:59:59,  7.61s/it]\r129it [16:21,  7.63s/it]                                  \r130it [16:29,  7.60s/it]\r131it [16:37,  7.65s/it]\r132it [16:44,  7.66s/it]\r133it [16:52,  7.67s/it]\r134it [17:00,  7.62s/it]\r135it [17:07,  7.64s/it]\r136it [17:15,  7.62s/it]\r137it [17:22,  7.61s/it]\r138it [17:30,  7.60s/it]\r139it [17:38,  7.60s/it]\r140it [17:45,  7.59s/it]\r141it [17:53,  7.58s/it]\r142it [18:01,  7.63s/it]\r143it [18:08,  7.60s/it]\r144it [18:16,  7.60s/it]\r145it [18:23,  7.60s/it]\r146it [18:31,  7.59s/it]\r147it [18:38,  7.59s/it]\r148it [18:46,  7.61s/it]\r149it [18:54,  7.64s/it]\r150it [19:01,  7.62s/it]\r151it [19:09,  7.60s/it]\r152it [19:17,  7.67s/it]\r153it [19:24,  7.61s/it]\r154it [19:32,  7.63s/it]\r155it [19:39,  7.62s/it]\r156it [19:47,  7.58s/it]\r157it [19:54,  7.56s/it]\r158it [20:02,  7.57s/it]\r159it [20:10,  7.59s/it]\r160it [20:17,  7.59s/it]\r161it [20:25,  7.67s/it]\r162it [20:33,  7.68s/it]\r163it [20:41,  7.73s/it]\r164it [20:48,  7.67s/it]\r165it [20:56,  7.64s/it]\r166it [21:03,  7.56s/it]\r167it [21:11,  7.60s/it]\r168it [21:19,  7.62s/it]\r169it [21:26,  7.61s/it]\r170it [21:34,  7.62s/it]\r171it [21:42,  7.65s/it]\r172it [21:49,  7.62s/it]\r173it [21:57,  7.61s/it]\r174it [22:04,  7.62s/it]\r175it [22:12,  7.64s/it]\r176it [22:20,  7.63s/it]\r177it [22:27,  7.64s/it]\r178it [22:35,  7.67s/it]\r179it [22:42,  7.61s/it]\r180it [22:50,  7.64s/it]\r181it [22:58,  7.63s/it]\r182it [23:05,  7.62s/it]\r183it [23:13,  7.67s/it]\r184it [23:21,  7.67s/it]\r185it [23:28,  7.65s/it]\r186it [23:36,  7.64s/it]\r187it [23:44,  7.63s/it]\r188it [23:51,  7.61s/it]\r189it [23:59,  7.59s/it]\r190it [24:06,  7.62s/it]\r191it [24:14,  7.65s/it]\r192it [24:22,  7.57s/it]\r193it [24:29,  7.63s/it]\r194it [24:37,  7.61s/it]\r195it [24:45,  7.64s/it]\r196it [24:52,  7.66s/it]\r197it [25:00,  7.69s/it]\r198it [25:08,  7.66s/it]\r199it [25:15,  7.64s/it]\r200it [25:23,  7.62s/it]\r201it [25:30,  7.58s/it]\r202it [25:38,  7.59s/it]\r203it [25:46,  7.63s/it]\r204it [25:53,  7.61s/it]\r205it [26:01,  7.61s/it]\r206it [26:09,  7.65s/it]\r207it [26:16,  7.61s/it]\r208it [26:24,  7.60s/it]\r209it [26:31,  7.60s/it]\r210it [26:39,  7.60s/it]\r211it [26:46,  7.61s/it]\r212it [26:54,  7.65s/it]\r213it [27:02,  7.63s/it]\r214it [27:10,  7.66s/it]\r215it [27:17,  7.67s/it]\r216it [27:25,  7.70s/it]\r217it [27:32,  7.64s/it]\r218it [27:40,  7.61s/it]\r219it [27:48,  7.62s/it]\r220it [27:55,  7.64s/it]\r221it [28:03,  7.62s/it]\r222it [28:11,  7.62s/it]\r223it [28:18,  7.65s/it]\r224it [28:26,  7.65s/it]\r225it [28:34,  7.66s/it]\r226it [28:41,  7.66s/it]\r227it [28:49,  7.63s/it]\r228it [28:57,  7.65s/it]\r229it [29:04,  7.62s/it]\r230it [29:12,  7.57s/it]\r231it [29:19,  7.55s/it]\r232it [29:27,  7.54s/it]\r233it [29:34,  7.54s/it]\r234it [29:42,  7.59s/it]\r235it [29:50,  7.65s/it]\r236it [29:57,  7.67s/it]\r237it [30:05,  7.65s/it]\r238it [30:12,  7.62s/it]\r239it [30:20,  7.64s/it]\r240it [30:28,  7.62s/it]\r240it [30:28,  7.62s/it]\n"
     ]
    },
    {
     "name": "stdout",
     "output_type": "stream",
     "text": [
      "Epoch 49 train loss: 0.00875091552734375\n",
      "[Train - End / Test - Start Epoch 50] GPU Memory: Allocated=2.31GB, Reserved=3.39GB\n"
     ]
    },
    {
     "name": "stderr",
     "output_type": "stream",
     "text": [
      "\r  0%|          | 0/14.1875 [00:00<?, ?it/s]\r  7%|▋         | 1/14.1875 [00:06<01:28,  6.71s/it]\r 14%|█▍        | 2/14.1875 [00:13<01:19,  6.52s/it]\r 21%|██        | 3/14.1875 [00:19<01:13,  6.57s/it]\r 28%|██▊       | 4/14.1875 [00:26<01:07,  6.59s/it]\r 35%|███▌      | 5/14.1875 [00:33<01:00,  6.62s/it]\r 42%|████▏     | 6/14.1875 [00:39<00:54,  6.60s/it]\r 49%|████▉     | 7/14.1875 [00:46<00:47,  6.60s/it]\r 56%|█████▋    | 8/14.1875 [00:52<00:40,  6.61s/it]\r 63%|██████▎   | 9/14.1875 [00:59<00:34,  6.65s/it]\r 70%|███████   | 10/14.1875 [01:06<00:28,  6.71s/it]\r 78%|███████▊  | 11/14.1875 [01:13<00:21,  6.71s/it]\r 85%|████████▍ | 12/14.1875 [01:19<00:14,  6.72s/it]\r 92%|█████████▏| 13/14.1875 [01:26<00:08,  6.75s/it]\r 99%|█████████▊| 14/14.1875 [01:33<00:01,  6.71s/it]\r15it [01:39,  6.68s/it]                             \r16it [01:46,  6.69s/it]\r17it [01:53,  6.67s/it]\r18it [01:59,  6.66s/it]\r19it [02:06,  6.63s/it]\r20it [02:13,  6.62s/it]\r21it [02:19,  6.63s/it]\r22it [02:26,  6.64s/it]\r23it [02:32,  6.63s/it]\r24it [02:39,  6.63s/it]\r25it [02:46,  6.65s/it]\r26it [02:52,  6.60s/it]\r27it [02:59,  6.61s/it]\r28it [03:06,  6.65s/it]\r29it [03:12,  6.64s/it]\r30it [03:19,  6.60s/it]\r30it [03:19,  6.64s/it]\n"
     ]
    },
    {
     "name": "stdout",
     "output_type": "stream",
     "text": [
      "Cumulative Accuracy for CP: 69.33%\n",
      "Cumulative Accuracy for chopping-board: 93.00%\n",
      "Cumulative Accuracy for finalstep: 90.33%\n",
      "Cumulative Accuracy for glass-bowl-large: 75.53%\n",
      "Cumulative Accuracy for glass-bowl-medium: 73.27%\n",
      "Cumulative Accuracy for glass-bowl-small: 36.13%\n",
      "Cumulative Accuracy for grill-plate: nan%\n",
      "Cumulative Accuracy for group_step: 76.20%\n",
      "Cumulative Accuracy for medium: 90.80%\n",
      "Cumulative Accuracy for oven-dish: 95.67%\n",
      "Cumulative Accuracy for oven-tray: 96.13%\n",
      "Cumulative Accuracy for pan: 99.93%\n",
      "Cumulative Accuracy for pot-one-handle: 97.67%\n",
      "Cumulative Accuracy for pot-two-handles-medium: 77.80%\n",
      "Cumulative Accuracy for pot-two-handles-shallow: 87.33%\n",
      "Cumulative Accuracy for pot-two-handles-small: nan%\n",
      "Cumulative Accuracy for saucepan: 94.00%\n",
      "\n",
      "Mean Top 3 Accuracy (Val): 96.89%\n",
      "Mean Top 1 Accuracy (Val): 85.56%\n",
      "Macro-averaged Accuracy (Val): 83.54%\n",
      "Epoch 49 test loss: 23.59375\n",
      "\n",
      "[Test - End Epoch 50] GPU Memory: Allocated=2.31GB, Reserved=3.39GB\n",
      "Early stopping triggered after 50 epochs.\n"
     ]
    },
    {
     "name": "stderr",
     "output_type": "stream",
     "text": [
      "2025/01/25 00:20:24 INFO mlflow.tracking._tracking_service.client: 🏃 View run hilarious-wren-284 at: company.cloud.databricks.com/ml/experiments/451727971209424/runs/ba2ccc52b7c04f179b7cd11f3370a068.\n",
      "2025/01/25 00:20:24 INFO mlflow.tracking._tracking_service.client: 🧪 View experiment at: company.cloud.databricks.com/ml/experiments/451727971209424.\n"
     ]
    },
    {
     "name": "stdout",
     "output_type": "stream",
     "text": [
      "\n",
      "Evaluating on the test dataset...\n",
      "\n"
     ]
    },
    {
     "name": "stderr",
     "output_type": "stream",
     "text": [
      "/root/.ipykernel/2538/command-451727971209436-4099300947:255: FutureWarning: You are using `torch.load` with `weights_only=False` (the current default value), which uses the default pickle module implicitly. It is possible to construct malicious pickle data which will execute arbitrary code during unpickling (See https://github.com/pytorch/pytorch/blob/main/SECURITY.md#untrusted-models for more details). In a future release, the default value for `weights_only` will be flipped to `True`. This limits the functions that could be executed during unpickling. Arbitrary objects will no longer be allowed to be loaded via this mode unless they are explicitly allowlisted by the user via `torch.serialization.add_safe_globals`. We recommend you start setting `weights_only=True` for any use case where you don't have full control of the loaded file. Please open an issue on GitHub for any issues related to this experimental feature.\n",
      "  checkpoint = torch.load(self.config.best_model_path)\n",
      "\r  0%|          | 0/15.78125 [00:00<?, ?it/s]\r  6%|▋         | 1/15.78125 [00:09<02:20,  9.50s/it]\r 13%|█▎        | 2/15.78125 [00:19<02:13,  9.69s/it]\r 19%|█▉        | 3/15.78125 [00:29<02:04,  9.73s/it]\r 25%|██▌       | 4/15.78125 [00:38<01:53,  9.62s/it]\r 32%|███▏      | 5/15.78125 [00:47<01:42,  9.46s/it]\r 38%|███▊      | 6/15.78125 [00:57<01:32,  9.47s/it]\r 44%|████▍     | 7/15.78125 [01:06<01:23,  9.56s/it]\r 51%|█████     | 8/15.78125 [01:15<01:12,  9.33s/it]\r 57%|█████▋    | 9/15.78125 [01:25<01:03,  9.42s/it]\r 63%|██████▎   | 10/15.78125 [01:35<00:54,  9.51s/it]\r 70%|██████▉   | 11/15.78125 [01:43<00:44,  9.27s/it]\r 76%|███████▌  | 12/15.78125 [01:52<00:33,  8.95s/it]\r 82%|████████▏ | 13/15.78125 [02:00<00:24,  8.87s/it]\r 89%|████████▊ | 14/15.78125 [02:09<00:15,  8.82s/it]\r 95%|█████████▌| 15/15.78125 [02:18<00:06,  8.76s/it]/databricks/python/lib/python3.11/site-packages/tqdm/std.py:524: TqdmWarning: clamping frac to range [0, 1]\n",
      "  full_bar = Bar(frac,\n",
      "\r101%|██████████| 16/15.78125 [02:26<-1:59:59,  8.65s/it]\r17it [02:35,  8.67s/it]                                 \r18it [02:43,  8.46s/it]\r19it [02:51,  8.34s/it]\r20it [02:59,  8.36s/it]\r21it [03:07,  8.31s/it]\r22it [03:15,  8.26s/it]\r23it [03:24,  8.26s/it]\r24it [03:32,  8.16s/it]\r25it [03:39,  8.02s/it]\r26it [03:47,  7.88s/it]\r27it [03:54,  7.53s/it]\r28it [04:01,  7.59s/it]\r29it [04:09,  7.59s/it]\r30it [04:17,  7.78s/it]\r31it [04:25,  7.71s/it]\r32it [04:32,  7.73s/it]\r33it [04:40,  7.73s/it]\r33it [04:40,  8.51s/it]\n"
     ]
    },
    {
     "name": "stdout",
     "output_type": "stream",
     "text": [
      "Cumulative Accuracy for CP: 100.00%\n",
      "Cumulative Accuracy for chopping-board: 87.88%\n",
      "Cumulative Accuracy for finalstep: 84.85%\n",
      "Cumulative Accuracy for glass-bowl-large: 81.82%\n",
      "Cumulative Accuracy for glass-bowl-medium: 63.64%\n",
      "Cumulative Accuracy for glass-bowl-small: 100.00%\n",
      "Cumulative Accuracy for grill-plate: 100.00%\n",
      "Cumulative Accuracy for group_step: 81.82%\n",
      "Cumulative Accuracy for medium: 87.88%\n",
      "Cumulative Accuracy for oven-dish: 87.88%\n",
      "Cumulative Accuracy for oven-tray: 100.00%\n",
      "Cumulative Accuracy for pan: 93.94%\n",
      "Cumulative Accuracy for pot-one-handle: 100.00%\n",
      "Cumulative Accuracy for pot-two-handles-medium: 57.58%\n",
      "Cumulative Accuracy for pot-two-handles-shallow: 100.00%\n",
      "Cumulative Accuracy for pot-two-handles-small: nan%\n",
      "Cumulative Accuracy for saucepan: nan%\n",
      "\n",
      "Mean Top 3 Accuracy (Test): 98.79%\n",
      "Mean Top 1 Accuracy (Test): 88.48%\n",
      "Macro-averaged Accuracy (Test): 88.48%\n"
     ]
    },
    {
     "name": "stderr",
     "output_type": "stream",
     "text": [
      "2025/01/25 00:25:32 INFO mlflow.tracking._tracking_service.client: 🏃 View run test_evaluation at: company.cloud.databricks.com/ml/experiments/451727971209424/runs/096a6ac2b2024c4c996dcb630224e4d6.\n",
      "2025/01/25 00:25:32 INFO mlflow.tracking._tracking_service.client: 🧪 View experiment at: company.cloud.databricks.com/ml/experiments/451727971209424.\n"
     ]
    },
    {
     "name": "stdout",
     "output_type": "stream",
     "text": [
      "\n",
      "Model fine-tuning complete.\n"
     ]
    },
    {
     "data": {
      "text/plain": [
       "{'macro_accuracy': 86.8888888888889, 'best_epoch': 1}"
      ]
     },
     "execution_count": 14,
     "metadata": {},
     "output_type": "execute_result"
    }
   ],
   "source": [
    "run_training()"
   ]
  },
  {
   "cell_type": "code",
   "execution_count": 0,
   "metadata": {
    "application/vnd.databricks.v1+cell": {
     "cellMetadata": {
      "byteLimit": 2048000,
      "rowLimit": 10000
     },
     "inputWidgets": {},
     "nuid": "c62269bd-0338-4db0-96a9-7747466f2a89",
     "showTitle": false,
     "tableResultSettingsMap": {},
     "title": ""
    }
   },
   "outputs": [
    {
     "name": "stdout",
     "output_type": "stream",
     "text": [
      "\n",
      "==================== Learning Rate: 9e-06 / Weight Decay: 0 ====================\n",
      "---- Before Augmentation ----\n",
      "Train dataset size: 365\n",
      "Test dataset size: 92\n",
      "Class CP: 23 samples (No augmentation needed)\n",
      "Class chopping-board: 22 samples (No augmentation needed)\n",
      "Class finalstep: 24 samples (No augmentation needed)\n",
      "Class glass-bowl-large: 27 samples (No augmentation needed)\n",
      "Class glass-bowl-medium: 29 samples (No augmentation needed)\n",
      "Class glass-bowl-small: 23 samples (No augmentation needed)\n",
      "Class grill-plate: 2 samples -> Target: 10\n",
      "Class group_step: 23 samples (No augmentation needed)\n",
      "Class medium: 25 samples (No augmentation needed)\n",
      "Class oven-dish: 27 samples (No augmentation needed)\n",
      "Class oven-tray: 24 samples (No augmentation needed)\n",
      "Class pan: 22 samples (No augmentation needed)\n",
      "Class pot-one-handle: 25 samples (No augmentation needed)\n",
      "Class pot-two-handles-medium: 22 samples (No augmentation needed)\n",
      "Class pot-two-handles-shallow: 20 samples (No augmentation needed)\n",
      "Class pot-two-handles-small: 15 samples (No augmentation needed)\n",
      "Class saucepan: 12 samples (No augmentation needed)\n",
      "\n",
      "---- After Augmentation ----\n",
      "Train dataset size: 373\n",
      "Test dataset size: 92\n",
      "\n",
      "All of the dataset's classes: ['CP', 'chopping-board', 'finalstep', 'glass-bowl-large', 'glass-bowl-medium', 'glass-bowl-small', 'grill-plate', 'group_step', 'medium', 'oven-dish', 'oven-tray', 'pan', 'pot-one-handle', 'pot-two-handles-medium', 'pot-two-handles-shallow', 'pot-two-handles-small', 'saucepan']\n",
      "\n",
      "Train (before augmentation) dataset -- Class distribution:\n",
      "glass-bowl-medium -- 7.95%\n",
      "glass-bowl-large -- 7.40%\n",
      "oven-dish -- 7.40%\n",
      "medium -- 6.85%\n",
      "pot-one-handle -- 6.85%\n",
      "finalstep -- 6.58%\n",
      "oven-tray -- 6.58%\n",
      "CP -- 6.30%\n",
      "glass-bowl-small -- 6.30%\n",
      "group_step -- 6.30%\n",
      "chopping-board -- 6.03%\n",
      "pan -- 6.03%\n",
      "pot-two-handles-medium -- 6.03%\n",
      "pot-two-handles-shallow -- 5.48%\n",
      "pot-two-handles-small -- 4.11%\n",
      "saucepan -- 3.29%\n",
      "grill-plate -- 0.55%\n",
      "\n",
      "\n",
      "Test (before augmentation) dataset -- Class distribution:\n",
      "pot-two-handles-shallow -- 10.87%\n",
      "chopping-board -- 8.70%\n",
      "pan -- 8.70%\n",
      "pot-two-handles-medium -- 8.70%\n",
      "CP -- 7.61%\n",
      "glass-bowl-small -- 7.61%\n",
      "group_step -- 7.61%\n",
      "finalstep -- 6.52%\n",
      "oven-tray -- 6.52%\n",
      "pot-two-handles-small -- 6.52%\n",
      "medium -- 5.43%\n",
      "pot-one-handle -- 5.43%\n",
      "glass-bowl-large -- 3.26%\n",
      "oven-dish -- 3.26%\n",
      "glass-bowl-medium -- 1.09%\n",
      "grill-plate -- 1.09%\n",
      "saucepan -- 1.09%\n",
      "\n",
      "\n",
      "\n",
      "Epoch 1/120\n",
      "[Train - Start Epoch 1] GPU Memory: Allocated=0.35GB, Reserved=3.35GB\n"
     ]
    },
    {
     "name": "stderr",
     "output_type": "stream",
     "text": [
      "\r  0%|          | 0/11.65625 [00:00<?, ?it/s]\r  9%|▊         | 1/11.65625 [00:07<01:21,  7.64s/it]\r 17%|█▋        | 2/11.65625 [00:15<01:13,  7.58s/it]\r 26%|██▌       | 3/11.65625 [00:22<01:05,  7.58s/it]\r 34%|███▍      | 4/11.65625 [00:30<00:58,  7.60s/it]\r 43%|████▎     | 5/11.65625 [00:38<00:50,  7.61s/it]\r 51%|█████▏    | 6/11.65625 [00:45<00:43,  7.61s/it]\r 60%|██████    | 7/11.65625 [00:53<00:35,  7.65s/it]\r 69%|██████▊   | 8/11.65625 [01:00<00:27,  7.64s/it]\r 77%|███████▋  | 9/11.65625 [01:08<00:20,  7.64s/it]\r 86%|████████▌ | 10/11.65625 [01:16<00:12,  7.61s/it]\r 94%|█████████▍| 11/11.65625 [01:23<00:05,  7.62s/it]/databricks/python/lib/python3.11/site-packages/tqdm/std.py:524: TqdmWarning: clamping frac to range [0, 1]\n",
      "  full_bar = Bar(frac,\n",
      "\r103%|██████████| 12/11.65625 [01:31<-1:59:58,  7.64s/it]\r13it [01:38,  7.59s/it]                                 \r14it [01:46,  7.61s/it]\r15it [01:54,  7.63s/it]\r16it [02:02,  7.65s/it]\r17it [02:09,  7.70s/it]\r18it [02:17,  7.68s/it]\r19it [02:25,  7.73s/it]\r20it [02:32,  7.70s/it]\r21it [02:40,  7.68s/it]\r21it [02:40,  7.64s/it]\n"
     ]
    },
    {
     "name": "stdout",
     "output_type": "stream",
     "text": [
      "Epoch 0 train loss: 2.5390625\n",
      "[Checkpoint] Saved under <PATH>/recipe_classifier/checkpoints/2025_01_09/dataset_20dec_small/grid_search/lr_9e-06_wd_0/epoch_0.pt\n",
      "\n",
      "[Train - End / Test - Start Epoch 1] GPU Memory: Allocated=2.06GB, Reserved=3.35GB\n"
     ]
    },
    {
     "name": "stderr",
     "output_type": "stream",
     "text": [
      "\r  0%|          | 0/2.875 [00:00<?, ?it/s]\r 35%|███▍      | 1/2.875 [00:07<00:13,  7.43s/it]\r 70%|██████▉   | 2/2.875 [00:14<00:06,  7.50s/it]\r104%|██████████| 3/2.875 [00:22<00:00,  7.47s/it]\r4it [00:30,  7.55s/it]                           \r5it [00:37,  7.59s/it]\r5it [00:37,  7.55s/it]\n"
     ]
    },
    {
     "name": "stdout",
     "output_type": "stream",
     "text": [
      "Cumulative Accuracy for CP: 100.00%\n",
      "Cumulative Accuracy for chopping-board: 40.00%\n",
      "Cumulative Accuracy for finalstep: 80.00%\n",
      "Cumulative Accuracy for glass-bowl-large: 100.00%\n",
      "Cumulative Accuracy for glass-bowl-medium: 100.00%\n",
      "Cumulative Accuracy for glass-bowl-small: 80.00%\n",
      "Cumulative Accuracy for grill-plate: 100.00%\n",
      "Cumulative Accuracy for group_step: 20.00%\n",
      "Cumulative Accuracy for medium: 80.00%\n",
      "Cumulative Accuracy for oven-dish: 100.00%\n",
      "Cumulative Accuracy for oven-tray: 100.00%\n",
      "Cumulative Accuracy for pan: 60.00%\n",
      "Cumulative Accuracy for pot-one-handle: 100.00%\n",
      "Cumulative Accuracy for pot-two-handles-medium: 0.00%\n",
      "Cumulative Accuracy for pot-two-handles-shallow: 40.00%\n",
      "Cumulative Accuracy for pot-two-handles-small: 80.00%\n",
      "Cumulative Accuracy for saucepan: 100.00%\n",
      "\n",
      "Mean Top 3 Accuracy: 97.65%\n",
      "Mean Top 1 Accuracy: 75.29%\n",
      "Macro-averaged Accuracy: 75.29%\n",
      "[Best model] Metric improved (75.2941 --> 75.2941). Saving model...\n",
      "Epoch 0 test loss: 7.20703125\n",
      "\n",
      "[Test - End Epoch 1] GPU Memory: Allocated=2.06GB, Reserved=3.35GB\n",
      "\n",
      "Epoch 2/120\n",
      "[Train - Start Epoch 2] GPU Memory: Allocated=2.06GB, Reserved=3.35GB\n"
     ]
    },
    {
     "name": "stderr",
     "output_type": "stream",
     "text": [
      "\r  0%|          | 0/11.65625 [00:00<?, ?it/s]\r  9%|▊         | 1/11.65625 [00:07<01:21,  7.66s/it]\r 17%|█▋        | 2/11.65625 [00:15<01:13,  7.65s/it]\r 26%|██▌       | 3/11.65625 [00:22<01:06,  7.64s/it]\r 34%|███▍      | 4/11.65625 [00:30<00:58,  7.63s/it]\r 43%|████▎     | 5/11.65625 [00:38<00:51,  7.69s/it]\r 51%|█████▏    | 6/11.65625 [00:46<00:43,  7.68s/it]\r 60%|██████    | 7/11.65625 [00:53<00:35,  7.65s/it]\r 69%|██████▊   | 8/11.65625 [01:01<00:28,  7.70s/it]\r 77%|███████▋  | 9/11.65625 [01:09<00:20,  7.72s/it]\r 86%|████████▌ | 10/11.65625 [01:16<00:12,  7.67s/it]\r 94%|█████████▍| 11/11.65625 [01:24<00:05,  7.72s/it]/databricks/python/lib/python3.11/site-packages/tqdm/std.py:524: TqdmWarning: clamping frac to range [0, 1]\n",
      "  full_bar = Bar(frac,\n",
      "\r103%|██████████| 12/11.65625 [01:32<-1:59:58,  7.69s/it]\r13it [01:39,  7.70s/it]                                 \r14it [01:47,  7.68s/it]\r15it [01:55,  7.68s/it]\r16it [02:03,  7.71s/it]\r17it [02:10,  7.67s/it]\r18it [02:18,  7.68s/it]\r19it [02:25,  7.67s/it]\r20it [02:33,  7.67s/it]\r21it [02:41,  7.63s/it]\r21it [02:41,  7.67s/it]\n"
     ]
    },
    {
     "name": "stdout",
     "output_type": "stream",
     "text": [
      "Epoch 1 train loss: 0.86376953125\n",
      "[Train - End / Test - Start Epoch 2] GPU Memory: Allocated=2.31GB, Reserved=3.35GB\n"
     ]
    },
    {
     "name": "stderr",
     "output_type": "stream",
     "text": [
      "\r  0%|          | 0/2.875 [00:00<?, ?it/s]\r 35%|███▍      | 1/2.875 [00:07<00:14,  7.48s/it]\r 70%|██████▉   | 2/2.875 [00:14<00:06,  7.50s/it]\r104%|██████████| 3/2.875 [00:22<00:00,  7.52s/it]\r4it [00:30,  7.50s/it]                           \r5it [00:37,  7.50s/it]\r5it [00:37,  7.50s/it]\n"
     ]
    },
    {
     "name": "stdout",
     "output_type": "stream",
     "text": [
      "Cumulative Accuracy for CP: 80.00%\n",
      "Cumulative Accuracy for chopping-board: 60.00%\n",
      "Cumulative Accuracy for finalstep: 60.00%\n",
      "Cumulative Accuracy for glass-bowl-large: 100.00%\n",
      "Cumulative Accuracy for glass-bowl-medium: 50.00%\n",
      "Cumulative Accuracy for glass-bowl-small: 80.00%\n",
      "Cumulative Accuracy for grill-plate: 50.00%\n",
      "Cumulative Accuracy for group_step: 40.00%\n",
      "Cumulative Accuracy for medium: 90.00%\n",
      "Cumulative Accuracy for oven-dish: 100.00%\n",
      "Cumulative Accuracy for oven-tray: 100.00%\n",
      "Cumulative Accuracy for pan: 70.00%\n",
      "Cumulative Accuracy for pot-one-handle: 90.00%\n",
      "Cumulative Accuracy for pot-two-handles-medium: 20.00%\n",
      "Cumulative Accuracy for pot-two-handles-shallow: 20.00%\n",
      "Cumulative Accuracy for pot-two-handles-small: 60.00%\n",
      "Cumulative Accuracy for saucepan: 100.00%\n",
      "\n",
      "Mean Top 3 Accuracy: 95.29%\n",
      "Mean Top 1 Accuracy: 62.35%\n",
      "Macro-averaged Accuracy: 68.82%\n",
      "Epoch 1 test loss: 9.3359375\n",
      "\n",
      "[Test - End Epoch 2] GPU Memory: Allocated=2.31GB, Reserved=3.35GB\n",
      "\n",
      "Epoch 3/120\n",
      "[Train - Start Epoch 3] GPU Memory: Allocated=2.31GB, Reserved=3.35GB\n"
     ]
    },
    {
     "name": "stderr",
     "output_type": "stream",
     "text": [
      "\r  0%|          | 0/11.65625 [00:00<?, ?it/s]\r  9%|▊         | 1/11.65625 [00:07<01:21,  7.69s/it]\r 17%|█▋        | 2/11.65625 [00:15<01:13,  7.62s/it]\r 26%|██▌       | 3/11.65625 [00:23<01:06,  7.69s/it]\r 34%|███▍      | 4/11.65625 [00:30<00:58,  7.59s/it]\r 43%|████▎     | 5/11.65625 [00:38<00:50,  7.62s/it]\r 51%|█████▏    | 6/11.65625 [00:45<00:43,  7.69s/it]\r 60%|██████    | 7/11.65625 [00:53<00:35,  7.66s/it]\r 69%|██████▊   | 8/11.65625 [01:01<00:28,  7.68s/it]\r 77%|███████▋  | 9/11.65625 [01:09<00:20,  7.72s/it]\r 86%|████████▌ | 10/11.65625 [01:16<00:12,  7.69s/it]\r 94%|█████████▍| 11/11.65625 [01:24<00:05,  7.72s/it]/databricks/python/lib/python3.11/site-packages/tqdm/std.py:524: TqdmWarning: clamping frac to range [0, 1]\n",
      "  full_bar = Bar(frac,\n",
      "\r103%|██████████| 12/11.65625 [01:32<-1:59:58,  7.72s/it]\r13it [01:39,  7.68s/it]                                 \r14it [01:47,  7.69s/it]\r15it [01:55,  7.64s/it]\r16it [02:02,  7.68s/it]\r17it [02:10,  7.68s/it]\r18it [02:18,  7.65s/it]\r19it [02:25,  7.65s/it]\r20it [02:33,  7.71s/it]\r21it [02:41,  7.76s/it]\r21it [02:41,  7.69s/it]\n"
     ]
    },
    {
     "name": "stdout",
     "output_type": "stream",
     "text": [
      "Epoch 2 train loss: 0.5146484375\n",
      "[Train - End / Test - Start Epoch 3] GPU Memory: Allocated=2.30GB, Reserved=3.35GB\n"
     ]
    },
    {
     "name": "stderr",
     "output_type": "stream",
     "text": [
      "\r  0%|          | 0/2.875 [00:00<?, ?it/s]\r 35%|███▍      | 1/2.875 [00:07<00:14,  7.53s/it]\r 70%|██████▉   | 2/2.875 [00:15<00:06,  7.56s/it]\r104%|██████████| 3/2.875 [00:22<00:00,  7.50s/it]\r4it [00:30,  7.51s/it]                           \r5it [00:37,  7.46s/it]\r5it [00:37,  7.49s/it]\n"
     ]
    },
    {
     "name": "stdout",
     "output_type": "stream",
     "text": [
      "Cumulative Accuracy for CP: 80.00%\n",
      "Cumulative Accuracy for chopping-board: 66.67%\n",
      "Cumulative Accuracy for finalstep: 53.33%\n",
      "Cumulative Accuracy for glass-bowl-large: 100.00%\n",
      "Cumulative Accuracy for glass-bowl-medium: 66.67%\n",
      "Cumulative Accuracy for glass-bowl-small: 86.67%\n",
      "Cumulative Accuracy for grill-plate: 66.67%\n",
      "Cumulative Accuracy for group_step: 46.67%\n",
      "Cumulative Accuracy for medium: 93.33%\n",
      "Cumulative Accuracy for oven-dish: 100.00%\n",
      "Cumulative Accuracy for oven-tray: 100.00%\n",
      "Cumulative Accuracy for pan: 80.00%\n",
      "Cumulative Accuracy for pot-one-handle: 93.33%\n",
      "Cumulative Accuracy for pot-two-handles-medium: 13.33%\n",
      "Cumulative Accuracy for pot-two-handles-shallow: 40.00%\n",
      "Cumulative Accuracy for pot-two-handles-small: 66.67%\n",
      "Cumulative Accuracy for saucepan: 100.00%\n",
      "\n",
      "Mean Top 3 Accuracy: 96.47%\n",
      "Mean Top 1 Accuracy: 83.53%\n",
      "Macro-averaged Accuracy: 73.73%\n",
      "Epoch 2 test loss: 10.0\n",
      "\n",
      "[Test - End Epoch 3] GPU Memory: Allocated=2.30GB, Reserved=3.35GB\n",
      "\n",
      "Epoch 4/120\n",
      "[Train - Start Epoch 4] GPU Memory: Allocated=2.30GB, Reserved=3.35GB\n"
     ]
    },
    {
     "name": "stderr",
     "output_type": "stream",
     "text": [
      "\r  0%|          | 0/11.65625 [00:00<?, ?it/s]\r  9%|▊         | 1/11.65625 [00:07<01:20,  7.54s/it]\r 17%|█▋        | 2/11.65625 [00:15<01:13,  7.65s/it]\r 26%|██▌       | 3/11.65625 [00:22<01:05,  7.59s/it]\r 34%|███▍      | 4/11.65625 [00:30<00:58,  7.59s/it]\r 43%|████▎     | 5/11.65625 [00:38<00:50,  7.61s/it]\r 51%|█████▏    | 6/11.65625 [00:45<00:42,  7.58s/it]\r 60%|██████    | 7/11.65625 [00:53<00:35,  7.59s/it]\r 69%|██████▊   | 8/11.65625 [01:00<00:27,  7.61s/it]\r 77%|███████▋  | 9/11.65625 [01:08<00:20,  7.60s/it]\r 86%|████████▌ | 10/11.65625 [01:16<00:12,  7.62s/it]\r 94%|█████████▍| 11/11.65625 [01:23<00:04,  7.62s/it]/databricks/python/lib/python3.11/site-packages/tqdm/std.py:524: TqdmWarning: clamping frac to range [0, 1]\n",
      "  full_bar = Bar(frac,\n",
      "\r103%|██████████| 12/11.65625 [01:31<-1:59:58,  7.60s/it]\r13it [01:38,  7.63s/it]                                 \r14it [01:46,  7.65s/it]\r15it [01:54,  7.65s/it]\r16it [02:01,  7.64s/it]\r17it [02:09,  7.66s/it]\r18it [02:17,  7.70s/it]\r19it [02:24,  7.67s/it]\r20it [02:32,  7.72s/it]\r21it [02:40,  7.67s/it]\r21it [02:40,  7.64s/it]\n"
     ]
    },
    {
     "name": "stdout",
     "output_type": "stream",
     "text": [
      "Epoch 3 train loss: 0.2191162109375\n",
      "[Train - End / Test - Start Epoch 4] GPU Memory: Allocated=2.30GB, Reserved=3.35GB\n"
     ]
    },
    {
     "name": "stderr",
     "output_type": "stream",
     "text": [
      "\r  0%|          | 0/2.875 [00:00<?, ?it/s]\r 35%|███▍      | 1/2.875 [00:07<00:14,  7.47s/it]\r 70%|██████▉   | 2/2.875 [00:15<00:06,  7.51s/it]\r104%|██████████| 3/2.875 [00:22<00:00,  7.53s/it]\r4it [00:29,  7.47s/it]                           \r5it [00:37,  7.55s/it]\r5it [00:37,  7.53s/it]\n"
     ]
    },
    {
     "name": "stdout",
     "output_type": "stream",
     "text": [
      "Cumulative Accuracy for CP: 80.00%\n",
      "Cumulative Accuracy for chopping-board: 75.00%\n",
      "Cumulative Accuracy for finalstep: 45.00%\n",
      "Cumulative Accuracy for glass-bowl-large: 100.00%\n",
      "Cumulative Accuracy for glass-bowl-medium: 75.00%\n",
      "Cumulative Accuracy for glass-bowl-small: 85.00%\n",
      "Cumulative Accuracy for grill-plate: 75.00%\n",
      "Cumulative Accuracy for group_step: 50.00%\n",
      "Cumulative Accuracy for medium: 85.00%\n",
      "Cumulative Accuracy for oven-dish: 100.00%\n",
      "Cumulative Accuracy for oven-tray: 100.00%\n",
      "Cumulative Accuracy for pan: 85.00%\n",
      "Cumulative Accuracy for pot-one-handle: 90.00%\n",
      "Cumulative Accuracy for pot-two-handles-medium: 20.00%\n",
      "Cumulative Accuracy for pot-two-handles-shallow: 30.00%\n",
      "Cumulative Accuracy for pot-two-handles-small: 70.00%\n",
      "Cumulative Accuracy for saucepan: 100.00%\n",
      "\n",
      "Mean Top 3 Accuracy: 95.29%\n",
      "Mean Top 1 Accuracy: 76.47%\n",
      "Macro-averaged Accuracy: 74.41%\n",
      "Epoch 3 test loss: 11.3828125\n",
      "\n",
      "[Test - End Epoch 4] GPU Memory: Allocated=2.30GB, Reserved=3.35GB\n",
      "\n",
      "Epoch 5/120\n",
      "[Train - Start Epoch 5] GPU Memory: Allocated=2.30GB, Reserved=3.35GB\n"
     ]
    },
    {
     "name": "stderr",
     "output_type": "stream",
     "text": [
      "\r  0%|          | 0/11.65625 [00:00<?, ?it/s]\r  9%|▊         | 1/11.65625 [00:07<01:21,  7.69s/it]\r 17%|█▋        | 2/11.65625 [00:15<01:14,  7.69s/it]\r 26%|██▌       | 3/11.65625 [00:23<01:06,  7.70s/it]\r 34%|███▍      | 4/11.65625 [00:30<00:58,  7.68s/it]\r 43%|████▎     | 5/11.65625 [00:38<00:50,  7.66s/it]\r 51%|█████▏    | 6/11.65625 [00:46<00:43,  7.68s/it]\r 60%|██████    | 7/11.65625 [00:53<00:35,  7.68s/it]\r 69%|██████▊   | 8/11.65625 [01:01<00:27,  7.62s/it]\r 77%|███████▋  | 9/11.65625 [01:08<00:20,  7.64s/it]\r 86%|████████▌ | 10/11.65625 [01:16<00:12,  7.65s/it]\r 94%|█████████▍| 11/11.65625 [01:24<00:04,  7.61s/it]/databricks/python/lib/python3.11/site-packages/tqdm/std.py:524: TqdmWarning: clamping frac to range [0, 1]\n",
      "  full_bar = Bar(frac,\n",
      "\r103%|██████████| 12/11.65625 [01:31<-1:59:58,  7.59s/it]\r13it [01:39,  7.64s/it]                                 \r14it [01:47,  7.63s/it]\r15it [01:54,  7.66s/it]\r16it [02:02,  7.64s/it]\r17it [02:10,  7.64s/it]\r18it [02:17,  7.67s/it]\r19it [02:25,  7.67s/it]\r20it [02:33,  7.73s/it]\r21it [02:40,  7.63s/it]\r21it [02:40,  7.65s/it]\n"
     ]
    },
    {
     "name": "stdout",
     "output_type": "stream",
     "text": [
      "Epoch 4 train loss: 0.11212158203125\n",
      "[Train - End / Test - Start Epoch 5] GPU Memory: Allocated=2.31GB, Reserved=3.35GB\n"
     ]
    },
    {
     "name": "stderr",
     "output_type": "stream",
     "text": [
      "\r  0%|          | 0/2.875 [00:00<?, ?it/s]\r 35%|███▍      | 1/2.875 [00:07<00:14,  7.61s/it]\r 70%|██████▉   | 2/2.875 [00:15<00:06,  7.79s/it]\r104%|██████████| 3/2.875 [00:23<00:00,  7.65s/it]\r4it [00:30,  7.67s/it]                           \r5it [00:38,  7.64s/it]\r5it [00:38,  7.66s/it]\n"
     ]
    },
    {
     "name": "stdout",
     "output_type": "stream",
     "text": [
      "Cumulative Accuracy for CP: 80.00%\n",
      "Cumulative Accuracy for chopping-board: 72.00%\n",
      "Cumulative Accuracy for finalstep: 44.00%\n",
      "Cumulative Accuracy for glass-bowl-large: 100.00%\n",
      "Cumulative Accuracy for glass-bowl-medium: 80.00%\n",
      "Cumulative Accuracy for glass-bowl-small: 84.00%\n",
      "Cumulative Accuracy for grill-plate: 60.00%\n",
      "Cumulative Accuracy for group_step: 48.00%\n",
      "Cumulative Accuracy for medium: 80.00%\n",
      "Cumulative Accuracy for oven-dish: 100.00%\n",
      "Cumulative Accuracy for oven-tray: 100.00%\n",
      "Cumulative Accuracy for pan: 88.00%\n",
      "Cumulative Accuracy for pot-one-handle: 88.00%\n",
      "Cumulative Accuracy for pot-two-handles-medium: 32.00%\n",
      "Cumulative Accuracy for pot-two-handles-shallow: 36.00%\n",
      "Cumulative Accuracy for pot-two-handles-small: 68.00%\n",
      "Cumulative Accuracy for saucepan: 100.00%\n",
      "\n",
      "Mean Top 3 Accuracy: 97.65%\n",
      "Mean Top 1 Accuracy: 72.94%\n",
      "Macro-averaged Accuracy: 74.12%\n",
      "Epoch 4 test loss: 13.5\n",
      "\n",
      "[Test - End Epoch 5] GPU Memory: Allocated=2.31GB, Reserved=3.35GB\n",
      "\n",
      "Epoch 6/120\n",
      "[Train - Start Epoch 6] GPU Memory: Allocated=2.31GB, Reserved=3.35GB\n"
     ]
    },
    {
     "name": "stderr",
     "output_type": "stream",
     "text": [
      "\r  0%|          | 0/11.65625 [00:00<?, ?it/s]\r  9%|▊         | 1/11.65625 [00:07<01:22,  7.75s/it]\r 17%|█▋        | 2/11.65625 [00:15<01:15,  7.78s/it]\r 26%|██▌       | 3/11.65625 [00:23<01:06,  7.69s/it]\r 34%|███▍      | 4/11.65625 [00:30<00:58,  7.66s/it]\r 43%|████▎     | 5/11.65625 [00:38<00:51,  7.71s/it]\r 51%|█████▏    | 6/11.65625 [00:46<00:43,  7.69s/it]\r 60%|██████    | 7/11.65625 [00:53<00:35,  7.71s/it]\r 69%|██████▊   | 8/11.65625 [01:01<00:27,  7.65s/it]\r 77%|███████▋  | 9/11.65625 [01:09<00:20,  7.62s/it]\r 86%|████████▌ | 10/11.65625 [01:16<00:12,  7.62s/it]\r 94%|█████████▍| 11/11.65625 [01:24<00:05,  7.69s/it]/databricks/python/lib/python3.11/site-packages/tqdm/std.py:524: TqdmWarning: clamping frac to range [0, 1]\n",
      "  full_bar = Bar(frac,\n",
      "\r103%|██████████| 12/11.65625 [01:32<-1:59:58,  7.64s/it]\r13it [01:39,  7.65s/it]                                 \r14it [01:47,  7.68s/it]\r15it [01:55,  7.69s/it]\r16it [02:02,  7.67s/it]\r17it [02:10,  7.70s/it]\r18it [02:18,  7.70s/it]\r19it [02:25,  7.69s/it]\r20it [02:33,  7.71s/it]\r21it [02:41,  7.71s/it]\r21it [02:41,  7.68s/it]\n"
     ]
    },
    {
     "name": "stdout",
     "output_type": "stream",
     "text": [
      "Epoch 5 train loss: 0.09222412109375\n",
      "[Train - End / Test - Start Epoch 6] GPU Memory: Allocated=2.30GB, Reserved=3.35GB\n"
     ]
    },
    {
     "name": "stderr",
     "output_type": "stream",
     "text": [
      "\r  0%|          | 0/2.875 [00:00<?, ?it/s]\r 35%|███▍      | 1/2.875 [00:07<00:13,  7.46s/it]\r 70%|██████▉   | 2/2.875 [00:14<00:06,  7.47s/it]\r104%|██████████| 3/2.875 [00:22<00:00,  7.51s/it]\r4it [00:29,  7.50s/it]                           \r5it [00:37,  7.45s/it]\r5it [00:37,  7.47s/it]\n"
     ]
    },
    {
     "name": "stdout",
     "output_type": "stream",
     "text": [
      "Cumulative Accuracy for CP: 73.33%\n",
      "Cumulative Accuracy for chopping-board: 66.67%\n",
      "Cumulative Accuracy for finalstep: 46.67%\n",
      "Cumulative Accuracy for glass-bowl-large: 100.00%\n",
      "Cumulative Accuracy for glass-bowl-medium: 83.33%\n",
      "Cumulative Accuracy for glass-bowl-small: 86.67%\n",
      "Cumulative Accuracy for grill-plate: 50.00%\n",
      "Cumulative Accuracy for group_step: 46.67%\n",
      "Cumulative Accuracy for medium: 83.33%\n",
      "Cumulative Accuracy for oven-dish: 100.00%\n",
      "Cumulative Accuracy for oven-tray: 100.00%\n",
      "Cumulative Accuracy for pan: 90.00%\n",
      "Cumulative Accuracy for pot-one-handle: 90.00%\n",
      "Cumulative Accuracy for pot-two-handles-medium: 36.67%\n",
      "Cumulative Accuracy for pot-two-handles-shallow: 30.00%\n",
      "Cumulative Accuracy for pot-two-handles-small: 66.67%\n",
      "Cumulative Accuracy for saucepan: 100.00%\n",
      "\n",
      "Mean Top 3 Accuracy: 95.29%\n",
      "Mean Top 1 Accuracy: 70.59%\n",
      "Macro-averaged Accuracy: 73.53%\n",
      "Epoch 5 test loss: 14.96875\n",
      "\n",
      "[Test - End Epoch 6] GPU Memory: Allocated=2.30GB, Reserved=3.35GB\n",
      "\n",
      "Epoch 7/120\n",
      "[Train - Start Epoch 7] GPU Memory: Allocated=2.30GB, Reserved=3.35GB\n"
     ]
    },
    {
     "name": "stderr",
     "output_type": "stream",
     "text": [
      "\r  0%|          | 0/11.65625 [00:00<?, ?it/s]\r  9%|▊         | 1/11.65625 [00:07<01:21,  7.62s/it]\r 17%|█▋        | 2/11.65625 [00:15<01:13,  7.65s/it]\r 26%|██▌       | 3/11.65625 [00:22<01:06,  7.65s/it]\r 34%|███▍      | 4/11.65625 [00:30<00:58,  7.67s/it]\r 43%|████▎     | 5/11.65625 [00:38<00:51,  7.69s/it]\r 51%|█████▏    | 6/11.65625 [00:46<00:43,  7.68s/it]\r 60%|██████    | 7/11.65625 [00:53<00:35,  7.68s/it]\r 69%|██████▊   | 8/11.65625 [01:01<00:28,  7.67s/it]\r 77%|███████▋  | 9/11.65625 [01:09<00:20,  7.77s/it]\r 86%|████████▌ | 10/11.65625 [01:17<00:12,  7.75s/it]\r 94%|█████████▍| 11/11.65625 [01:24<00:05,  7.70s/it]/databricks/python/lib/python3.11/site-packages/tqdm/std.py:524: TqdmWarning: clamping frac to range [0, 1]\n",
      "  full_bar = Bar(frac,\n",
      "\r103%|██████████| 12/11.65625 [01:32<-1:59:58,  7.68s/it]\r13it [01:39,  7.64s/it]                                 \r14it [01:47,  7.67s/it]\r15it [01:55,  7.68s/it]\r16it [02:02,  7.66s/it]\r17it [02:10,  7.60s/it]\r18it [02:18,  7.64s/it]\r19it [02:25,  7.64s/it]\r20it [02:33,  7.61s/it]\r21it [02:40,  7.59s/it]\r21it [02:40,  7.66s/it]\n"
     ]
    },
    {
     "name": "stdout",
     "output_type": "stream",
     "text": [
      "Epoch 6 train loss: 0.06317138671875\n",
      "[Train - End / Test - Start Epoch 7] GPU Memory: Allocated=2.31GB, Reserved=3.35GB\n"
     ]
    },
    {
     "name": "stderr",
     "output_type": "stream",
     "text": [
      "\r  0%|          | 0/2.875 [00:00<?, ?it/s]\r 35%|███▍      | 1/2.875 [00:07<00:14,  7.47s/it]\r 70%|██████▉   | 2/2.875 [00:15<00:06,  7.54s/it]\r104%|██████████| 3/2.875 [00:22<00:00,  7.56s/it]\r4it [00:30,  7.61s/it]                           \r5it [00:37,  7.57s/it]\r5it [00:37,  7.57s/it]\n"
     ]
    },
    {
     "name": "stdout",
     "output_type": "stream",
     "text": [
      "Cumulative Accuracy for CP: 77.14%\n",
      "Cumulative Accuracy for chopping-board: 71.43%\n",
      "Cumulative Accuracy for finalstep: 48.57%\n",
      "Cumulative Accuracy for glass-bowl-large: 100.00%\n",
      "Cumulative Accuracy for glass-bowl-medium: 85.71%\n",
      "Cumulative Accuracy for glass-bowl-small: 85.71%\n",
      "Cumulative Accuracy for grill-plate: 42.86%\n",
      "Cumulative Accuracy for group_step: 45.71%\n",
      "Cumulative Accuracy for medium: 85.71%\n",
      "Cumulative Accuracy for oven-dish: 100.00%\n",
      "Cumulative Accuracy for oven-tray: 100.00%\n",
      "Cumulative Accuracy for pan: 91.43%\n",
      "Cumulative Accuracy for pot-one-handle: 88.57%\n",
      "Cumulative Accuracy for pot-two-handles-medium: 42.86%\n",
      "Cumulative Accuracy for pot-two-handles-shallow: 28.57%\n",
      "Cumulative Accuracy for pot-two-handles-small: 68.57%\n",
      "Cumulative Accuracy for saucepan: 100.00%\n",
      "\n",
      "Mean Top 3 Accuracy: 96.47%\n",
      "Mean Top 1 Accuracy: 78.82%\n",
      "Macro-averaged Accuracy: 74.29%\n",
      "Epoch 6 test loss: 16.90625\n",
      "\n",
      "[Test - End Epoch 7] GPU Memory: Allocated=2.31GB, Reserved=3.35GB\n",
      "\n",
      "Epoch 8/120\n",
      "[Train - Start Epoch 8] GPU Memory: Allocated=2.31GB, Reserved=3.35GB\n"
     ]
    },
    {
     "name": "stderr",
     "output_type": "stream",
     "text": [
      "\r  0%|          | 0/11.65625 [00:00<?, ?it/s]\r  9%|▊         | 1/11.65625 [00:07<01:22,  7.75s/it]\r 17%|█▋        | 2/11.65625 [00:15<01:14,  7.71s/it]\r 26%|██▌       | 3/11.65625 [00:23<01:06,  7.70s/it]\r 34%|███▍      | 4/11.65625 [00:30<00:58,  7.67s/it]\r 43%|████▎     | 5/11.65625 [00:38<00:51,  7.69s/it]\r 51%|█████▏    | 6/11.65625 [00:46<00:43,  7.72s/it]\r 60%|██████    | 7/11.65625 [00:54<00:36,  7.74s/it]\r 69%|██████▊   | 8/11.65625 [01:01<00:28,  7.79s/it]\r 77%|███████▋  | 9/11.65625 [01:09<00:20,  7.78s/it]\r 86%|████████▌ | 10/11.65625 [01:17<00:12,  7.74s/it]\r 94%|█████████▍| 11/11.65625 [01:24<00:05,  7.70s/it]/databricks/python/lib/python3.11/site-packages/tqdm/std.py:524: TqdmWarning: clamping frac to range [0, 1]\n",
      "  full_bar = Bar(frac,\n",
      "\r103%|██████████| 12/11.65625 [01:32<-1:59:58,  7.73s/it]\r13it [01:40,  7.72s/it]                                 \r14it [01:48,  7.71s/it]\r15it [01:55,  7.71s/it]\r16it [02:03,  7.76s/it]\r17it [02:11,  7.73s/it]\r18it [02:19,  7.73s/it]\r19it [02:26,  7.70s/it]\r20it [02:34,  7.73s/it]\r21it [02:42,  7.68s/it]\r21it [02:42,  7.72s/it]\n"
     ]
    },
    {
     "name": "stdout",
     "output_type": "stream",
     "text": [
      "Epoch 7 train loss: 0.037445068359375\n",
      "[Train - End / Test - Start Epoch 8] GPU Memory: Allocated=2.30GB, Reserved=3.35GB\n"
     ]
    },
    {
     "name": "stderr",
     "output_type": "stream",
     "text": [
      "\r  0%|          | 0/2.875 [00:00<?, ?it/s]\r 35%|███▍      | 1/2.875 [00:07<00:14,  7.57s/it]\r 70%|██████▉   | 2/2.875 [00:15<00:06,  7.65s/it]\r104%|██████████| 3/2.875 [00:22<00:00,  7.58s/it]\r4it [00:30,  7.60s/it]                           \r5it [00:38,  7.61s/it]\r5it [00:38,  7.61s/it]\n"
     ]
    },
    {
     "name": "stdout",
     "output_type": "stream",
     "text": [
      "Cumulative Accuracy for CP: 75.00%\n",
      "Cumulative Accuracy for chopping-board: 75.00%\n",
      "Cumulative Accuracy for finalstep: 47.50%\n",
      "Cumulative Accuracy for glass-bowl-large: 100.00%\n",
      "Cumulative Accuracy for glass-bowl-medium: 87.50%\n",
      "Cumulative Accuracy for glass-bowl-small: 80.00%\n",
      "Cumulative Accuracy for grill-plate: 37.50%\n",
      "Cumulative Accuracy for group_step: 47.50%\n",
      "Cumulative Accuracy for medium: 82.50%\n",
      "Cumulative Accuracy for oven-dish: 100.00%\n",
      "Cumulative Accuracy for oven-tray: 100.00%\n",
      "Cumulative Accuracy for pan: 92.50%\n",
      "Cumulative Accuracy for pot-one-handle: 87.50%\n",
      "Cumulative Accuracy for pot-two-handles-medium: 40.00%\n",
      "Cumulative Accuracy for pot-two-handles-shallow: 35.00%\n",
      "Cumulative Accuracy for pot-two-handles-small: 60.00%\n",
      "Cumulative Accuracy for saucepan: 100.00%\n",
      "\n",
      "Mean Top 3 Accuracy: 94.12%\n",
      "Mean Top 1 Accuracy: 67.06%\n",
      "Macro-averaged Accuracy: 73.38%\n",
      "Epoch 7 test loss: 17.40625\n",
      "\n",
      "[Test - End Epoch 8] GPU Memory: Allocated=2.30GB, Reserved=3.35GB\n",
      "\n",
      "Epoch 9/120\n",
      "[Train - Start Epoch 9] GPU Memory: Allocated=2.30GB, Reserved=3.35GB\n"
     ]
    },
    {
     "name": "stderr",
     "output_type": "stream",
     "text": [
      "\r  0%|          | 0/11.65625 [00:00<?, ?it/s]\r  9%|▊         | 1/11.65625 [00:07<01:22,  7.71s/it]\r 17%|█▋        | 2/11.65625 [00:15<01:13,  7.63s/it]\r 26%|██▌       | 3/11.65625 [00:23<01:06,  7.73s/it]\r 34%|███▍      | 4/11.65625 [00:30<00:58,  7.70s/it]\r 43%|████▎     | 5/11.65625 [00:38<00:51,  7.75s/it]\r 51%|█████▏    | 6/11.65625 [00:46<00:43,  7.71s/it]\r 60%|██████    | 7/11.65625 [00:53<00:35,  7.66s/it]\r 69%|██████▊   | 8/11.65625 [01:01<00:28,  7.73s/it]\r 77%|███████▋  | 9/11.65625 [01:09<00:20,  7.71s/it]\r 86%|████████▌ | 10/11.65625 [01:16<00:12,  7.68s/it]\r 94%|█████████▍| 11/11.65625 [01:24<00:05,  7.72s/it]/databricks/python/lib/python3.11/site-packages/tqdm/std.py:524: TqdmWarning: clamping frac to range [0, 1]\n",
      "  full_bar = Bar(frac,\n",
      "\r103%|██████████| 12/11.65625 [01:32<-1:59:58,  7.69s/it]\r13it [01:39,  7.66s/it]                                 \r14it [01:47,  7.64s/it]\r15it [01:55,  7.66s/it]\r16it [02:02,  7.67s/it]\r17it [02:10,  7.69s/it]\r18it [02:18,  7.70s/it]\r19it [02:26,  7.72s/it]\r20it [02:33,  7.66s/it]\r21it [02:41,  7.67s/it]\r21it [02:41,  7.69s/it]\n"
     ]
    },
    {
     "name": "stdout",
     "output_type": "stream",
     "text": [
      "Epoch 8 train loss: 0.036895751953125\n",
      "[Train - End / Test - Start Epoch 9] GPU Memory: Allocated=2.31GB, Reserved=3.35GB\n"
     ]
    },
    {
     "name": "stderr",
     "output_type": "stream",
     "text": [
      "\r  0%|          | 0/2.875 [00:00<?, ?it/s]\r 35%|███▍      | 1/2.875 [00:07<00:14,  7.52s/it]\r 70%|██████▉   | 2/2.875 [00:14<00:06,  7.48s/it]\r104%|██████████| 3/2.875 [00:22<00:00,  7.48s/it]\r4it [00:30,  7.53s/it]                           \r5it [00:37,  7.58s/it]\r5it [00:37,  7.55s/it]\n"
     ]
    },
    {
     "name": "stdout",
     "output_type": "stream",
     "text": [
      "Cumulative Accuracy for CP: 75.56%\n",
      "Cumulative Accuracy for chopping-board: 77.78%\n",
      "Cumulative Accuracy for finalstep: 44.44%\n",
      "Cumulative Accuracy for glass-bowl-large: 100.00%\n",
      "Cumulative Accuracy for glass-bowl-medium: 88.89%\n",
      "Cumulative Accuracy for glass-bowl-small: 82.22%\n",
      "Cumulative Accuracy for grill-plate: 33.33%\n",
      "Cumulative Accuracy for group_step: 46.67%\n",
      "Cumulative Accuracy for medium: 82.22%\n",
      "Cumulative Accuracy for oven-dish: 100.00%\n",
      "Cumulative Accuracy for oven-tray: 100.00%\n",
      "Cumulative Accuracy for pan: 93.33%\n",
      "Cumulative Accuracy for pot-one-handle: 84.44%\n",
      "Cumulative Accuracy for pot-two-handles-medium: 37.78%\n",
      "Cumulative Accuracy for pot-two-handles-shallow: 40.00%\n",
      "Cumulative Accuracy for pot-two-handles-small: 57.78%\n",
      "Cumulative Accuracy for saucepan: 100.00%\n",
      "\n",
      "Mean Top 3 Accuracy: 97.65%\n",
      "Mean Top 1 Accuracy: 71.76%\n",
      "Macro-averaged Accuracy: 73.20%\n",
      "Epoch 8 test loss: 18.28125\n",
      "\n",
      "[Test - End Epoch 9] GPU Memory: Allocated=2.31GB, Reserved=3.35GB\n",
      "\n",
      "Epoch 10/120\n",
      "[Train - Start Epoch 10] GPU Memory: Allocated=2.31GB, Reserved=3.35GB\n"
     ]
    },
    {
     "name": "stderr",
     "output_type": "stream",
     "text": [
      "\r  0%|          | 0/11.65625 [00:00<?, ?it/s]\r  9%|▊         | 1/11.65625 [00:07<01:24,  7.94s/it]\r 17%|█▋        | 2/11.65625 [00:15<01:15,  7.81s/it]\r 26%|██▌       | 3/11.65625 [00:23<01:06,  7.70s/it]\r 34%|███▍      | 4/11.65625 [00:30<00:58,  7.70s/it]\r 43%|████▎     | 5/11.65625 [00:38<00:51,  7.70s/it]\r 51%|█████▏    | 6/11.65625 [00:46<00:43,  7.74s/it]\r 60%|██████    | 7/11.65625 [00:54<00:35,  7.72s/it]\r 69%|██████▊   | 8/11.65625 [01:01<00:28,  7.67s/it]\r 77%|███████▋  | 9/11.65625 [01:09<00:20,  7.64s/it]\r 86%|████████▌ | 10/11.65625 [01:16<00:12,  7.66s/it]\r 94%|█████████▍| 11/11.65625 [01:24<00:05,  7.69s/it]/databricks/python/lib/python3.11/site-packages/tqdm/std.py:524: TqdmWarning: clamping frac to range [0, 1]\n",
      "  full_bar = Bar(frac,\n",
      "\r103%|██████████| 12/11.65625 [01:32<-1:59:58,  7.65s/it]\r13it [01:40,  7.67s/it]                                 \r14it [01:47,  7.68s/it]\r15it [01:55,  7.68s/it]\r16it [02:02,  7.63s/it]\r17it [02:10,  7.65s/it]\r18it [02:18,  7.65s/it]\r19it [02:25,  7.66s/it]\r20it [02:33,  7.65s/it]\r21it [02:41,  7.65s/it]\r21it [02:41,  7.68s/it]\n"
     ]
    },
    {
     "name": "stdout",
     "output_type": "stream",
     "text": [
      "Epoch 9 train loss: 0.004352569580078125\n",
      "[Train - End / Test - Start Epoch 10] GPU Memory: Allocated=2.31GB, Reserved=3.35GB\n"
     ]
    },
    {
     "name": "stderr",
     "output_type": "stream",
     "text": [
      "\r  0%|          | 0/2.875 [00:00<?, ?it/s]\r 35%|███▍      | 1/2.875 [00:07<00:14,  7.51s/it]\r 70%|██████▉   | 2/2.875 [00:15<00:06,  7.67s/it]\r104%|██████████| 3/2.875 [00:22<00:00,  7.52s/it]\r4it [00:30,  7.54s/it]                           \r5it [00:37,  7.51s/it]\r5it [00:37,  7.53s/it]\n"
     ]
    },
    {
     "name": "stdout",
     "output_type": "stream",
     "text": [
      "Cumulative Accuracy for CP: 76.00%\n",
      "Cumulative Accuracy for chopping-board: 80.00%\n",
      "Cumulative Accuracy for finalstep: 46.00%\n",
      "Cumulative Accuracy for glass-bowl-large: 100.00%\n",
      "Cumulative Accuracy for glass-bowl-medium: 90.00%\n",
      "Cumulative Accuracy for glass-bowl-small: 82.00%\n",
      "Cumulative Accuracy for grill-plate: 30.00%\n",
      "Cumulative Accuracy for group_step: 50.00%\n",
      "Cumulative Accuracy for medium: 82.00%\n",
      "Cumulative Accuracy for oven-dish: 100.00%\n",
      "Cumulative Accuracy for oven-tray: 100.00%\n",
      "Cumulative Accuracy for pan: 94.00%\n",
      "Cumulative Accuracy for pot-one-handle: 84.00%\n",
      "Cumulative Accuracy for pot-two-handles-medium: 42.00%\n",
      "Cumulative Accuracy for pot-two-handles-shallow: 38.00%\n",
      "Cumulative Accuracy for pot-two-handles-small: 60.00%\n",
      "Cumulative Accuracy for saucepan: 100.00%\n",
      "\n",
      "Mean Top 3 Accuracy: 96.47%\n",
      "Mean Top 1 Accuracy: 78.82%\n",
      "Macro-averaged Accuracy: 73.76%\n",
      "Epoch 9 test loss: 20.109375\n",
      "\n",
      "[Test - End Epoch 10] GPU Memory: Allocated=2.31GB, Reserved=3.35GB\n",
      "\n",
      "Epoch 11/120\n",
      "[Train - Start Epoch 11] GPU Memory: Allocated=2.31GB, Reserved=3.35GB\n"
     ]
    },
    {
     "name": "stderr",
     "output_type": "stream",
     "text": [
      "\r  0%|          | 0/11.65625 [00:00<?, ?it/s]\r  9%|▊         | 1/11.65625 [00:07<01:21,  7.66s/it]\r 17%|█▋        | 2/11.65625 [00:15<01:13,  7.59s/it]\r 26%|██▌       | 3/11.65625 [00:22<01:06,  7.68s/it]\r 34%|███▍      | 4/11.65625 [00:30<00:58,  7.68s/it]\r 43%|████▎     | 5/11.65625 [00:38<00:51,  7.71s/it]\r 51%|█████▏    | 6/11.65625 [00:46<00:43,  7.70s/it]\r 60%|██████    | 7/11.65625 [00:53<00:35,  7.70s/it]\r 69%|██████▊   | 8/11.65625 [01:01<00:28,  7.72s/it]\r 77%|███████▋  | 9/11.65625 [01:09<00:20,  7.69s/it]\r 86%|████████▌ | 10/11.65625 [01:16<00:12,  7.68s/it]\r 94%|█████████▍| 11/11.65625 [01:24<00:05,  7.65s/it]/databricks/python/lib/python3.11/site-packages/tqdm/std.py:524: TqdmWarning: clamping frac to range [0, 1]\n",
      "  full_bar = Bar(frac,\n",
      "\r103%|██████████| 12/11.65625 [01:32<-1:59:58,  7.65s/it]\r13it [01:39,  7.67s/it]                                 \r14it [01:47,  7.67s/it]\r15it [01:55,  7.63s/it]\r16it [02:02,  7.59s/it]\r17it [02:10,  7.64s/it]\r18it [02:17,  7.62s/it]\r19it [02:25,  7.59s/it]\r20it [02:33,  7.65s/it]\r21it [02:40,  7.66s/it]\r21it [02:40,  7.66s/it]\n"
     ]
    },
    {
     "name": "stdout",
     "output_type": "stream",
     "text": [
      "Epoch 10 train loss: 0.01418304443359375\n",
      "[Checkpoint] Saved under <PATH>/recipe_classifier/checkpoints/2025_01_09/dataset_20dec_small/grid_search/lr_9e-06_wd_0/epoch_10.pt\n",
      "\n",
      "[Train - End / Test - Start Epoch 11] GPU Memory: Allocated=2.06GB, Reserved=3.35GB\n"
     ]
    },
    {
     "name": "stderr",
     "output_type": "stream",
     "text": [
      "\r  0%|          | 0/2.875 [00:00<?, ?it/s]\r 35%|███▍      | 1/2.875 [00:07<00:13,  7.41s/it]\r 70%|██████▉   | 2/2.875 [00:15<00:06,  7.55s/it]\r104%|██████████| 3/2.875 [00:22<00:00,  7.46s/it]\r4it [00:30,  7.52s/it]                           \r5it [00:37,  7.58s/it]\r5it [00:37,  7.54s/it]\n"
     ]
    },
    {
     "name": "stdout",
     "output_type": "stream",
     "text": [
      "Cumulative Accuracy for CP: 78.18%\n",
      "Cumulative Accuracy for chopping-board: 74.55%\n",
      "Cumulative Accuracy for finalstep: 43.64%\n",
      "Cumulative Accuracy for glass-bowl-large: 100.00%\n",
      "Cumulative Accuracy for glass-bowl-medium: 90.91%\n",
      "Cumulative Accuracy for glass-bowl-small: 83.64%\n",
      "Cumulative Accuracy for grill-plate: 27.27%\n",
      "Cumulative Accuracy for group_step: 49.09%\n",
      "Cumulative Accuracy for medium: 83.64%\n",
      "Cumulative Accuracy for oven-dish: 100.00%\n",
      "Cumulative Accuracy for oven-tray: 100.00%\n",
      "Cumulative Accuracy for pan: 94.55%\n",
      "Cumulative Accuracy for pot-one-handle: 83.64%\n",
      "Cumulative Accuracy for pot-two-handles-medium: 38.18%\n",
      "Cumulative Accuracy for pot-two-handles-shallow: 41.82%\n",
      "Cumulative Accuracy for pot-two-handles-small: 60.00%\n",
      "Cumulative Accuracy for saucepan: 100.00%\n",
      "\n",
      "Mean Top 3 Accuracy: 91.76%\n",
      "Mean Top 1 Accuracy: 70.59%\n",
      "Macro-averaged Accuracy: 73.48%\n",
      "Epoch 10 test loss: 20.375\n",
      "\n",
      "[Test - End Epoch 11] GPU Memory: Allocated=2.06GB, Reserved=3.35GB\n",
      "\n",
      "Epoch 12/120\n",
      "[Train - Start Epoch 12] GPU Memory: Allocated=2.06GB, Reserved=3.35GB\n"
     ]
    },
    {
     "name": "stderr",
     "output_type": "stream",
     "text": [
      "\r  0%|          | 0/11.65625 [00:00<?, ?it/s]\r  9%|▊         | 1/11.65625 [00:07<01:23,  7.83s/it]\r 17%|█▋        | 2/11.65625 [00:15<01:14,  7.71s/it]\r 26%|██▌       | 3/11.65625 [00:22<01:05,  7.62s/it]\r 34%|███▍      | 4/11.65625 [00:30<00:58,  7.64s/it]\r 43%|████▎     | 5/11.65625 [00:38<00:50,  7.66s/it]\r 51%|█████▏    | 6/11.65625 [00:45<00:43,  7.65s/it]\r 60%|██████    | 7/11.65625 [00:53<00:35,  7.66s/it]\r 69%|██████▊   | 8/11.65625 [01:01<00:28,  7.67s/it]\r 77%|███████▋  | 9/11.65625 [01:08<00:20,  7.65s/it]\r 86%|████████▌ | 10/11.65625 [01:16<00:12,  7.58s/it]\r 94%|█████████▍| 11/11.65625 [01:23<00:04,  7.57s/it]/databricks/python/lib/python3.11/site-packages/tqdm/std.py:524: TqdmWarning: clamping frac to range [0, 1]\n",
      "  full_bar = Bar(frac,\n",
      "\r103%|██████████| 12/11.65625 [01:31<-1:59:58,  7.63s/it]\r13it [01:39,  7.67s/it]                                 \r14it [01:47,  7.67s/it]\r15it [01:54,  7.67s/it]\r16it [02:02,  7.67s/it]\r17it [02:09,  7.59s/it]\r18it [02:17,  7.59s/it]\r19it [02:25,  7.59s/it]\r20it [02:32,  7.53s/it]\r21it [02:40,  7.57s/it]\r21it [02:40,  7.62s/it]\n"
     ]
    },
    {
     "name": "stdout",
     "output_type": "stream",
     "text": [
      "Epoch 11 train loss: 0.00616455078125\n",
      "[Train - End / Test - Start Epoch 12] GPU Memory: Allocated=2.30GB, Reserved=3.35GB\n"
     ]
    },
    {
     "name": "stderr",
     "output_type": "stream",
     "text": [
      "\r  0%|          | 0/2.875 [00:00<?, ?it/s]\r 35%|███▍      | 1/2.875 [00:07<00:14,  7.65s/it]\r 70%|██████▉   | 2/2.875 [00:15<00:06,  7.65s/it]\r104%|██████████| 3/2.875 [00:22<00:00,  7.65s/it]\r4it [00:30,  7.64s/it]                           \r5it [00:38,  7.66s/it]\r5it [00:38,  7.66s/it]\n"
     ]
    },
    {
     "name": "stdout",
     "output_type": "stream",
     "text": [
      "Cumulative Accuracy for CP: 76.67%\n",
      "Cumulative Accuracy for chopping-board: 76.67%\n",
      "Cumulative Accuracy for finalstep: 43.33%\n",
      "Cumulative Accuracy for glass-bowl-large: 100.00%\n",
      "Cumulative Accuracy for glass-bowl-medium: 91.67%\n",
      "Cumulative Accuracy for glass-bowl-small: 81.67%\n",
      "Cumulative Accuracy for grill-plate: 25.00%\n",
      "Cumulative Accuracy for group_step: 46.67%\n",
      "Cumulative Accuracy for medium: 83.33%\n",
      "Cumulative Accuracy for oven-dish: 100.00%\n",
      "Cumulative Accuracy for oven-tray: 100.00%\n",
      "Cumulative Accuracy for pan: 95.00%\n",
      "Cumulative Accuracy for pot-one-handle: 83.33%\n",
      "Cumulative Accuracy for pot-two-handles-medium: 35.00%\n",
      "Cumulative Accuracy for pot-two-handles-shallow: 41.67%\n",
      "Cumulative Accuracy for pot-two-handles-small: 60.00%\n",
      "Cumulative Accuracy for saucepan: 100.00%\n",
      "\n",
      "Mean Top 3 Accuracy: 89.41%\n",
      "Mean Top 1 Accuracy: 67.06%\n",
      "Macro-averaged Accuracy: 72.94%\n",
      "Epoch 11 test loss: 22.140625\n",
      "\n",
      "[Test - End Epoch 12] GPU Memory: Allocated=2.30GB, Reserved=3.35GB\n",
      "\n",
      "Epoch 13/120\n",
      "[Train - Start Epoch 13] GPU Memory: Allocated=2.30GB, Reserved=3.35GB\n"
     ]
    },
    {
     "name": "stderr",
     "output_type": "stream",
     "text": [
      "\r  0%|          | 0/11.65625 [00:00<?, ?it/s]\r  9%|▊         | 1/11.65625 [00:07<01:23,  7.83s/it]\r 17%|█▋        | 2/11.65625 [00:15<01:14,  7.72s/it]\r 26%|██▌       | 3/11.65625 [00:23<01:07,  7.75s/it]\r 34%|███▍      | 4/11.65625 [00:31<00:59,  7.76s/it]\r 43%|████▎     | 5/11.65625 [00:38<00:51,  7.67s/it]\r 51%|█████▏    | 6/11.65625 [00:46<00:43,  7.63s/it]\r 60%|██████    | 7/11.65625 [00:53<00:35,  7.64s/it]\r 69%|██████▊   | 8/11.65625 [01:01<00:27,  7.66s/it]\r 77%|███████▋  | 9/11.65625 [01:09<00:20,  7.67s/it]\r 86%|████████▌ | 10/11.65625 [01:16<00:12,  7.68s/it]\r 94%|█████████▍| 11/11.65625 [01:24<00:05,  7.69s/it]/databricks/python/lib/python3.11/site-packages/tqdm/std.py:524: TqdmWarning: clamping frac to range [0, 1]\n",
      "  full_bar = Bar(frac,\n",
      "\r103%|██████████| 12/11.65625 [01:32<-1:59:58,  7.68s/it]\r13it [01:39,  7.61s/it]                                 \r14it [01:47,  7.57s/it]\r15it [01:54,  7.58s/it]\r16it [02:02,  7.61s/it]\r17it [02:10,  7.63s/it]\r18it [02:17,  7.64s/it]\r19it [02:25,  7.65s/it]\r20it [02:33,  7.66s/it]\r21it [02:40,  7.69s/it]\r21it [02:40,  7.66s/it]\n"
     ]
    },
    {
     "name": "stdout",
     "output_type": "stream",
     "text": [
      "Epoch 12 train loss: 0.00016391277313232422\n",
      "[Train - End / Test - Start Epoch 13] GPU Memory: Allocated=2.30GB, Reserved=3.35GB\n"
     ]
    },
    {
     "name": "stderr",
     "output_type": "stream",
     "text": [
      "\r  0%|          | 0/2.875 [00:00<?, ?it/s]\r 35%|███▍      | 1/2.875 [00:07<00:14,  7.55s/it]\r 70%|██████▉   | 2/2.875 [00:15<00:06,  7.59s/it]\r104%|██████████| 3/2.875 [00:22<00:00,  7.50s/it]\r4it [00:30,  7.59s/it]                           \r5it [00:37,  7.54s/it]\r5it [00:37,  7.55s/it]\n"
     ]
    },
    {
     "name": "stdout",
     "output_type": "stream",
     "text": [
      "Cumulative Accuracy for CP: 78.46%\n",
      "Cumulative Accuracy for chopping-board: 73.85%\n",
      "Cumulative Accuracy for finalstep: 43.08%\n",
      "Cumulative Accuracy for glass-bowl-large: 100.00%\n",
      "Cumulative Accuracy for glass-bowl-medium: 92.31%\n",
      "Cumulative Accuracy for glass-bowl-small: 83.08%\n",
      "Cumulative Accuracy for grill-plate: 23.08%\n",
      "Cumulative Accuracy for group_step: 44.62%\n",
      "Cumulative Accuracy for medium: 84.62%\n",
      "Cumulative Accuracy for oven-dish: 100.00%\n",
      "Cumulative Accuracy for oven-tray: 100.00%\n",
      "Cumulative Accuracy for pan: 95.38%\n",
      "Cumulative Accuracy for pot-one-handle: 83.08%\n",
      "Cumulative Accuracy for pot-two-handles-medium: 32.31%\n",
      "Cumulative Accuracy for pot-two-handles-shallow: 41.54%\n",
      "Cumulative Accuracy for pot-two-handles-small: 60.00%\n",
      "Cumulative Accuracy for saucepan: 100.00%\n",
      "\n",
      "Mean Top 3 Accuracy: 88.24%\n",
      "Mean Top 1 Accuracy: 69.41%\n",
      "Macro-averaged Accuracy: 72.67%\n",
      "Epoch 12 test loss: 21.796875\n",
      "\n",
      "[Test - End Epoch 13] GPU Memory: Allocated=2.30GB, Reserved=3.35GB\n",
      "\n",
      "Epoch 14/120\n",
      "[Train - Start Epoch 14] GPU Memory: Allocated=2.30GB, Reserved=3.35GB\n"
     ]
    },
    {
     "name": "stderr",
     "output_type": "stream",
     "text": [
      "\r  0%|          | 0/11.65625 [00:00<?, ?it/s]\r  9%|▊         | 1/11.65625 [00:07<01:21,  7.66s/it]\r 17%|█▋        | 2/11.65625 [00:15<01:13,  7.63s/it]\r 26%|██▌       | 3/11.65625 [00:22<01:05,  7.62s/it]\r 34%|███▍      | 4/11.65625 [00:30<00:58,  7.66s/it]\r 43%|████▎     | 5/11.65625 [00:38<00:50,  7.59s/it]\r 51%|█████▏    | 6/11.65625 [00:45<00:43,  7.63s/it]\r 60%|██████    | 7/11.65625 [00:53<00:35,  7.70s/it]\r 69%|██████▊   | 8/11.65625 [01:01<00:28,  7.77s/it]\r 77%|███████▋  | 9/11.65625 [01:09<00:20,  7.74s/it]\r 86%|████████▌ | 10/11.65625 [01:16<00:12,  7.72s/it]\r 94%|█████████▍| 11/11.65625 [01:24<00:05,  7.75s/it]/databricks/python/lib/python3.11/site-packages/tqdm/std.py:524: TqdmWarning: clamping frac to range [0, 1]\n",
      "  full_bar = Bar(frac,\n",
      "\r103%|██████████| 12/11.65625 [01:32<-1:59:58,  7.70s/it]\r13it [01:40,  7.72s/it]                                 \r14it [01:47,  7.71s/it]\r15it [01:55,  7.71s/it]\r16it [02:03,  7.71s/it]\r17it [02:10,  7.72s/it]\r18it [02:18,  7.72s/it]\r19it [02:26,  7.73s/it]\r20it [02:34,  7.71s/it]\r21it [02:41,  7.71s/it]\r21it [02:41,  7.70s/it]\n"
     ]
    },
    {
     "name": "stdout",
     "output_type": "stream",
     "text": [
      "Epoch 13 train loss: 0.00010061264038085938\n",
      "[Train - End / Test - Start Epoch 14] GPU Memory: Allocated=2.29GB, Reserved=3.35GB\n"
     ]
    },
    {
     "name": "stderr",
     "output_type": "stream",
     "text": [
      "\r  0%|          | 0/2.875 [00:00<?, ?it/s]\r 35%|███▍      | 1/2.875 [00:07<00:14,  7.49s/it]\r 70%|██████▉   | 2/2.875 [00:14<00:06,  7.47s/it]\r104%|██████████| 3/2.875 [00:22<00:00,  7.60s/it]\r4it [00:30,  7.58s/it]                           \r5it [00:37,  7.57s/it]\r5it [00:37,  7.56s/it]\n"
     ]
    },
    {
     "name": "stdout",
     "output_type": "stream",
     "text": [
      "Cumulative Accuracy for CP: 78.57%\n",
      "Cumulative Accuracy for chopping-board: 75.71%\n",
      "Cumulative Accuracy for finalstep: 41.43%\n",
      "Cumulative Accuracy for glass-bowl-large: 100.00%\n",
      "Cumulative Accuracy for glass-bowl-medium: 92.86%\n",
      "Cumulative Accuracy for glass-bowl-small: 82.86%\n",
      "Cumulative Accuracy for grill-plate: 21.43%\n",
      "Cumulative Accuracy for group_step: 45.71%\n",
      "Cumulative Accuracy for medium: 81.43%\n",
      "Cumulative Accuracy for oven-dish: 100.00%\n",
      "Cumulative Accuracy for oven-tray: 100.00%\n",
      "Cumulative Accuracy for pan: 95.71%\n",
      "Cumulative Accuracy for pot-one-handle: 82.86%\n",
      "Cumulative Accuracy for pot-two-handles-medium: 30.00%\n",
      "Cumulative Accuracy for pot-two-handles-shallow: 42.86%\n",
      "Cumulative Accuracy for pot-two-handles-small: 61.43%\n",
      "Cumulative Accuracy for saucepan: 100.00%\n",
      "\n",
      "Mean Top 3 Accuracy: 91.76%\n",
      "Mean Top 1 Accuracy: 70.59%\n",
      "Macro-averaged Accuracy: 72.52%\n",
      "Epoch 13 test loss: 21.828125\n",
      "\n",
      "[Test - End Epoch 14] GPU Memory: Allocated=2.29GB, Reserved=3.35GB\n",
      "\n",
      "Epoch 15/120\n",
      "[Train - Start Epoch 15] GPU Memory: Allocated=2.29GB, Reserved=3.35GB\n"
     ]
    },
    {
     "name": "stderr",
     "output_type": "stream",
     "text": [
      "\r  0%|          | 0/11.65625 [00:00<?, ?it/s]\r  9%|▊         | 1/11.65625 [00:07<01:22,  7.70s/it]\r 17%|█▋        | 2/11.65625 [00:15<01:14,  7.69s/it]\r 26%|██▌       | 3/11.65625 [00:22<01:05,  7.61s/it]\r 34%|███▍      | 4/11.65625 [00:30<00:58,  7.61s/it]\r 43%|████▎     | 5/11.65625 [00:38<00:50,  7.62s/it]\r 51%|█████▏    | 6/11.65625 [00:45<00:43,  7.62s/it]\r 60%|██████    | 7/11.65625 [00:53<00:35,  7.63s/it]\r 69%|██████▊   | 8/11.65625 [01:01<00:27,  7.65s/it]\r 77%|███████▋  | 9/11.65625 [01:08<00:20,  7.63s/it]\r 86%|████████▌ | 10/11.65625 [01:16<00:12,  7.67s/it]\r 94%|█████████▍| 11/11.65625 [01:24<00:05,  7.67s/it]/databricks/python/lib/python3.11/site-packages/tqdm/std.py:524: TqdmWarning: clamping frac to range [0, 1]\n",
      "  full_bar = Bar(frac,\n",
      "\r103%|██████████| 12/11.65625 [01:31<-1:59:58,  7.66s/it]\r13it [01:39,  7.69s/it]                                 \r14it [01:47,  7.69s/it]\r15it [01:54,  7.66s/it]\r16it [02:02,  7.71s/it]\r17it [02:10,  7.68s/it]\r18it [02:17,  7.66s/it]\r19it [02:25,  7.63s/it]\r20it [02:33,  7.65s/it]\r21it [02:40,  7.65s/it]\r21it [02:40,  7.66s/it]\n"
     ]
    },
    {
     "name": "stdout",
     "output_type": "stream",
     "text": [
      "Epoch 14 train loss: 3.159046173095703e-06\n",
      "[Train - End / Test - Start Epoch 15] GPU Memory: Allocated=2.30GB, Reserved=3.35GB\n"
     ]
    },
    {
     "name": "stderr",
     "output_type": "stream",
     "text": [
      "\r  0%|          | 0/2.875 [00:00<?, ?it/s]\r 35%|███▍      | 1/2.875 [00:07<00:14,  7.58s/it]\r 70%|██████▉   | 2/2.875 [00:15<00:06,  7.60s/it]\r104%|██████████| 3/2.875 [00:22<00:00,  7.54s/it]\r4it [00:30,  7.49s/it]                           \r5it [00:37,  7.50s/it]\r5it [00:37,  7.52s/it]\n"
     ]
    },
    {
     "name": "stdout",
     "output_type": "stream",
     "text": [
      "Cumulative Accuracy for CP: 78.67%\n",
      "Cumulative Accuracy for chopping-board: 77.33%\n",
      "Cumulative Accuracy for finalstep: 41.33%\n",
      "Cumulative Accuracy for glass-bowl-large: 100.00%\n",
      "Cumulative Accuracy for glass-bowl-medium: 93.33%\n",
      "Cumulative Accuracy for glass-bowl-small: 82.67%\n",
      "Cumulative Accuracy for grill-plate: 20.00%\n",
      "Cumulative Accuracy for group_step: 45.33%\n",
      "Cumulative Accuracy for medium: 81.33%\n",
      "Cumulative Accuracy for oven-dish: 100.00%\n",
      "Cumulative Accuracy for oven-tray: 100.00%\n",
      "Cumulative Accuracy for pan: 96.00%\n",
      "Cumulative Accuracy for pot-one-handle: 82.67%\n",
      "Cumulative Accuracy for pot-two-handles-medium: 29.33%\n",
      "Cumulative Accuracy for pot-two-handles-shallow: 44.00%\n",
      "Cumulative Accuracy for pot-two-handles-small: 62.67%\n",
      "Cumulative Accuracy for saucepan: 100.00%\n",
      "\n",
      "Mean Top 3 Accuracy: 90.59%\n",
      "Mean Top 1 Accuracy: 74.12%\n",
      "Macro-averaged Accuracy: 72.63%\n",
      "Epoch 14 test loss: 20.015625\n",
      "\n",
      "[Test - End Epoch 15] GPU Memory: Allocated=2.30GB, Reserved=3.35GB\n",
      "\n",
      "Epoch 16/120\n",
      "[Train - Start Epoch 16] GPU Memory: Allocated=2.30GB, Reserved=3.35GB\n"
     ]
    },
    {
     "name": "stderr",
     "output_type": "stream",
     "text": [
      "\r  0%|          | 0/11.65625 [00:00<?, ?it/s]\r  9%|▊         | 1/11.65625 [00:07<01:21,  7.62s/it]\r 17%|█▋        | 2/11.65625 [00:15<01:13,  7.59s/it]\r 26%|██▌       | 3/11.65625 [00:22<01:05,  7.60s/it]\r 34%|███▍      | 4/11.65625 [00:30<00:58,  7.62s/it]\r 43%|████▎     | 5/11.65625 [00:37<00:50,  7.58s/it]\r 51%|█████▏    | 6/11.65625 [00:45<00:42,  7.56s/it]\r 60%|██████    | 7/11.65625 [00:53<00:35,  7.57s/it]\r 69%|██████▊   | 8/11.65625 [01:00<00:27,  7.62s/it]\r 77%|███████▋  | 9/11.65625 [01:08<00:20,  7.55s/it]\r 86%|████████▌ | 10/11.65625 [01:15<00:12,  7.56s/it]\r 94%|█████████▍| 11/11.65625 [01:23<00:04,  7.57s/it]/databricks/python/lib/python3.11/site-packages/tqdm/std.py:524: TqdmWarning: clamping frac to range [0, 1]\n",
      "  full_bar = Bar(frac,\n",
      "\r103%|██████████| 12/11.65625 [01:30<-1:59:58,  7.55s/it]\r13it [01:38,  7.60s/it]                                 \r14it [01:46,  7.65s/it]\r15it [01:54,  7.66s/it]\r16it [02:01,  7.65s/it]\r17it [02:09,  7.62s/it]\r18it [02:16,  7.58s/it]\r19it [02:24,  7.56s/it]\r20it [02:31,  7.58s/it]\r21it [02:39,  7.58s/it]\r21it [02:39,  7.59s/it]\n"
     ]
    },
    {
     "name": "stdout",
     "output_type": "stream",
     "text": [
      "Epoch 15 train loss: 5.9604644775390625e-06\n",
      "[Train - End / Test - Start Epoch 16] GPU Memory: Allocated=2.30GB, Reserved=3.35GB\n"
     ]
    },
    {
     "name": "stderr",
     "output_type": "stream",
     "text": [
      "\r  0%|          | 0/2.875 [00:00<?, ?it/s]\r 35%|███▍      | 1/2.875 [00:07<00:14,  7.64s/it]\r 70%|██████▉   | 2/2.875 [00:15<00:06,  7.63s/it]\r104%|██████████| 3/2.875 [00:22<00:00,  7.54s/it]\r4it [00:30,  7.53s/it]                           \r5it [00:37,  7.51s/it]\r5it [00:37,  7.54s/it]\n"
     ]
    },
    {
     "name": "stdout",
     "output_type": "stream",
     "text": [
      "Cumulative Accuracy for CP: 78.75%\n",
      "Cumulative Accuracy for chopping-board: 77.50%\n",
      "Cumulative Accuracy for finalstep: 40.00%\n",
      "Cumulative Accuracy for glass-bowl-large: 100.00%\n",
      "Cumulative Accuracy for glass-bowl-medium: 93.75%\n",
      "Cumulative Accuracy for glass-bowl-small: 83.75%\n",
      "Cumulative Accuracy for grill-plate: 18.75%\n",
      "Cumulative Accuracy for group_step: 43.75%\n",
      "Cumulative Accuracy for medium: 81.25%\n",
      "Cumulative Accuracy for oven-dish: 100.00%\n",
      "Cumulative Accuracy for oven-tray: 100.00%\n",
      "Cumulative Accuracy for pan: 96.25%\n",
      "Cumulative Accuracy for pot-one-handle: 82.50%\n",
      "Cumulative Accuracy for pot-two-handles-medium: 28.75%\n",
      "Cumulative Accuracy for pot-two-handles-shallow: 45.00%\n",
      "Cumulative Accuracy for pot-two-handles-small: 62.50%\n",
      "Cumulative Accuracy for saucepan: 100.00%\n",
      "\n",
      "Mean Top 3 Accuracy: 94.12%\n",
      "Mean Top 1 Accuracy: 70.59%\n",
      "Macro-averaged Accuracy: 72.50%\n",
      "Epoch 15 test loss: 19.875\n",
      "\n",
      "[Test - End Epoch 16] GPU Memory: Allocated=2.30GB, Reserved=3.35GB\n",
      "\n",
      "Epoch 17/120\n",
      "[Train - Start Epoch 17] GPU Memory: Allocated=2.30GB, Reserved=3.35GB\n"
     ]
    },
    {
     "name": "stderr",
     "output_type": "stream",
     "text": [
      "\r  0%|          | 0/11.65625 [00:00<?, ?it/s]\r  9%|▊         | 1/11.65625 [00:07<01:21,  7.64s/it]\r 17%|█▋        | 2/11.65625 [00:15<01:14,  7.71s/it]\r 26%|██▌       | 3/11.65625 [00:22<01:06,  7.65s/it]\r 34%|███▍      | 4/11.65625 [00:30<00:58,  7.66s/it]\r 43%|████▎     | 5/11.65625 [00:38<00:50,  7.65s/it]\r 51%|█████▏    | 6/11.65625 [00:45<00:43,  7.67s/it]\r 60%|██████    | 7/11.65625 [00:53<00:35,  7.64s/it]\r 69%|██████▊   | 8/11.65625 [01:01<00:27,  7.65s/it]\r 77%|███████▋  | 9/11.65625 [01:08<00:20,  7.67s/it]\r 86%|████████▌ | 10/11.65625 [01:16<00:12,  7.66s/it]\r 94%|█████████▍| 11/11.65625 [01:24<00:05,  7.69s/it]/databricks/python/lib/python3.11/site-packages/tqdm/std.py:524: TqdmWarning: clamping frac to range [0, 1]\n",
      "  full_bar = Bar(frac,\n",
      "\r103%|██████████| 12/11.65625 [01:31<-1:59:58,  7.66s/it]\r13it [01:39,  7.64s/it]                                 \r14it [01:47,  7.67s/it]\r15it [01:54,  7.66s/it]\r16it [02:02,  7.65s/it]\r17it [02:10,  7.65s/it]\r18it [02:17,  7.66s/it]\r19it [02:25,  7.69s/it]\r20it [02:33,  7.69s/it]\r21it [02:40,  7.65s/it]\r21it [02:40,  7.66s/it]\n"
     ]
    },
    {
     "name": "stdout",
     "output_type": "stream",
     "text": [
      "Epoch 16 train loss: 3.4570693969726562e-06\n",
      "[Train - End / Test - Start Epoch 17] GPU Memory: Allocated=2.30GB, Reserved=3.35GB\n"
     ]
    },
    {
     "name": "stderr",
     "output_type": "stream",
     "text": [
      "\r  0%|          | 0/2.875 [00:00<?, ?it/s]\r 35%|███▍      | 1/2.875 [00:07<00:14,  7.59s/it]\r 70%|██████▉   | 2/2.875 [00:15<00:06,  7.62s/it]\r104%|██████████| 3/2.875 [00:22<00:00,  7.58s/it]\r4it [00:30,  7.56s/it]                           \r5it [00:37,  7.59s/it]\r5it [00:37,  7.58s/it]\n"
     ]
    },
    {
     "name": "stdout",
     "output_type": "stream",
     "text": [
      "Cumulative Accuracy for CP: 80.00%\n",
      "Cumulative Accuracy for chopping-board: 78.82%\n",
      "Cumulative Accuracy for finalstep: 40.00%\n",
      "Cumulative Accuracy for glass-bowl-large: 100.00%\n",
      "Cumulative Accuracy for glass-bowl-medium: 94.12%\n",
      "Cumulative Accuracy for glass-bowl-small: 82.35%\n",
      "Cumulative Accuracy for grill-plate: 17.65%\n",
      "Cumulative Accuracy for group_step: 45.88%\n",
      "Cumulative Accuracy for medium: 81.18%\n",
      "Cumulative Accuracy for oven-dish: 100.00%\n",
      "Cumulative Accuracy for oven-tray: 100.00%\n",
      "Cumulative Accuracy for pan: 96.47%\n",
      "Cumulative Accuracy for pot-one-handle: 82.35%\n",
      "Cumulative Accuracy for pot-two-handles-medium: 28.24%\n",
      "Cumulative Accuracy for pot-two-handles-shallow: 45.88%\n",
      "Cumulative Accuracy for pot-two-handles-small: 62.35%\n",
      "Cumulative Accuracy for saucepan: 100.00%\n",
      "\n",
      "Mean Top 3 Accuracy: 94.12%\n",
      "Mean Top 1 Accuracy: 75.29%\n",
      "Macro-averaged Accuracy: 72.66%\n",
      "Epoch 16 test loss: 21.03125\n",
      "\n",
      "[Test - End Epoch 17] GPU Memory: Allocated=2.30GB, Reserved=3.35GB\n",
      "\n",
      "Epoch 18/120\n",
      "[Train - Start Epoch 18] GPU Memory: Allocated=2.30GB, Reserved=3.35GB\n"
     ]
    },
    {
     "name": "stderr",
     "output_type": "stream",
     "text": [
      "\r  0%|          | 0/11.65625 [00:00<?, ?it/s]\r  9%|▊         | 1/11.65625 [00:07<01:22,  7.75s/it]\r 17%|█▋        | 2/11.65625 [00:15<01:15,  7.79s/it]\r 26%|██▌       | 3/11.65625 [00:23<01:07,  7.81s/it]\r 34%|███▍      | 4/11.65625 [00:31<00:59,  7.83s/it]\r 43%|████▎     | 5/11.65625 [00:38<00:51,  7.73s/it]\r 51%|█████▏    | 6/11.65625 [00:46<00:43,  7.69s/it]\r 60%|██████    | 7/11.65625 [00:54<00:35,  7.73s/it]\r 69%|██████▊   | 8/11.65625 [01:02<00:28,  7.79s/it]\r 77%|███████▋  | 9/11.65625 [01:09<00:20,  7.78s/it]\r 86%|████████▌ | 10/11.65625 [01:17<00:12,  7.77s/it]\r 94%|█████████▍| 11/11.65625 [01:25<00:05,  7.83s/it]/databricks/python/lib/python3.11/site-packages/tqdm/std.py:524: TqdmWarning: clamping frac to range [0, 1]\n",
      "  full_bar = Bar(frac,\n",
      "\r103%|██████████| 12/11.65625 [01:33<-1:59:58,  7.85s/it]\r13it [01:41,  7.81s/it]                                 \r14it [01:49,  7.80s/it]\r15it [01:56,  7.73s/it]\r16it [02:04,  7.72s/it]\r17it [02:12,  7.74s/it]\r18it [02:19,  7.71s/it]\r19it [02:27,  7.70s/it]\r20it [02:35,  7.71s/it]\r21it [02:42,  7.67s/it]\r21it [02:42,  7.75s/it]\n"
     ]
    },
    {
     "name": "stdout",
     "output_type": "stream",
     "text": [
      "Epoch 17 train loss: 3.2782554626464844e-06\n",
      "[Train - End / Test - Start Epoch 18] GPU Memory: Allocated=2.30GB, Reserved=3.35GB\n"
     ]
    },
    {
     "name": "stderr",
     "output_type": "stream",
     "text": [
      "\r  0%|          | 0/2.875 [00:00<?, ?it/s]\r 35%|███▍      | 1/2.875 [00:07<00:14,  7.64s/it]\r 70%|██████▉   | 2/2.875 [00:15<00:06,  7.66s/it]\r104%|██████████| 3/2.875 [00:22<00:00,  7.53s/it]\r4it [00:30,  7.56s/it]                           \r5it [00:37,  7.56s/it]\r5it [00:37,  7.57s/it]\n"
     ]
    },
    {
     "name": "stdout",
     "output_type": "stream",
     "text": [
      "Cumulative Accuracy for CP: 80.00%\n",
      "Cumulative Accuracy for chopping-board: 78.89%\n",
      "Cumulative Accuracy for finalstep: 40.00%\n",
      "Cumulative Accuracy for glass-bowl-large: 100.00%\n",
      "Cumulative Accuracy for glass-bowl-medium: 94.44%\n",
      "Cumulative Accuracy for glass-bowl-small: 83.33%\n",
      "Cumulative Accuracy for grill-plate: 16.67%\n",
      "Cumulative Accuracy for group_step: 45.56%\n",
      "Cumulative Accuracy for medium: 81.11%\n",
      "Cumulative Accuracy for oven-dish: 100.00%\n",
      "Cumulative Accuracy for oven-tray: 100.00%\n",
      "Cumulative Accuracy for pan: 96.67%\n",
      "Cumulative Accuracy for pot-one-handle: 82.22%\n",
      "Cumulative Accuracy for pot-two-handles-medium: 27.78%\n",
      "Cumulative Accuracy for pot-two-handles-shallow: 46.67%\n",
      "Cumulative Accuracy for pot-two-handles-small: 62.22%\n",
      "Cumulative Accuracy for saucepan: 100.00%\n",
      "\n",
      "Mean Top 3 Accuracy: 94.12%\n",
      "Mean Top 1 Accuracy: 72.94%\n",
      "Macro-averaged Accuracy: 72.68%\n",
      "Epoch 17 test loss: 19.828125\n",
      "\n",
      "[Test - End Epoch 18] GPU Memory: Allocated=2.30GB, Reserved=3.35GB\n",
      "\n",
      "Epoch 19/120\n",
      "[Train - Start Epoch 19] GPU Memory: Allocated=2.30GB, Reserved=3.35GB\n"
     ]
    },
    {
     "name": "stderr",
     "output_type": "stream",
     "text": [
      "\r  0%|          | 0/11.65625 [00:00<?, ?it/s]\r  9%|▊         | 1/11.65625 [00:07<01:22,  7.78s/it]\r 17%|█▋        | 2/11.65625 [00:15<01:13,  7.62s/it]\r 26%|██▌       | 3/11.65625 [00:22<01:05,  7.60s/it]\r 34%|███▍      | 4/11.65625 [00:30<00:58,  7.59s/it]\r 43%|████▎     | 5/11.65625 [00:38<00:50,  7.64s/it]\r 51%|█████▏    | 6/11.65625 [00:45<00:43,  7.65s/it]\r 60%|██████    | 7/11.65625 [00:53<00:35,  7.64s/it]\r 69%|██████▊   | 8/11.65625 [01:01<00:27,  7.64s/it]\r 77%|███████▋  | 9/11.65625 [01:08<00:20,  7.65s/it]\r 86%|████████▌ | 10/11.65625 [01:16<00:12,  7.65s/it]\r 94%|█████████▍| 11/11.65625 [01:23<00:04,  7.60s/it]/databricks/python/lib/python3.11/site-packages/tqdm/std.py:524: TqdmWarning: clamping frac to range [0, 1]\n",
      "  full_bar = Bar(frac,\n",
      "\r103%|██████████| 12/11.65625 [01:31<-1:59:58,  7.59s/it]\r13it [01:39,  7.59s/it]                                 \r14it [01:46,  7.63s/it]\r15it [01:54,  7.64s/it]\r16it [02:02,  7.62s/it]\r17it [02:09,  7.61s/it]\r18it [02:17,  7.61s/it]\r19it [02:24,  7.66s/it]\r20it [02:32,  7.63s/it]\r21it [02:40,  7.64s/it]\r21it [02:40,  7.63s/it]\n"
     ]
    },
    {
     "name": "stdout",
     "output_type": "stream",
     "text": [
      "Epoch 18 train loss: 5.662441253662109e-06\n",
      "[Train - End / Test - Start Epoch 19] GPU Memory: Allocated=2.30GB, Reserved=3.35GB\n"
     ]
    },
    {
     "name": "stderr",
     "output_type": "stream",
     "text": [
      "\r  0%|          | 0/2.875 [00:00<?, ?it/s]\r 35%|███▍      | 1/2.875 [00:07<00:14,  7.59s/it]\r 70%|██████▉   | 2/2.875 [00:14<00:06,  7.47s/it]\r104%|██████████| 3/2.875 [00:22<00:00,  7.45s/it]\r4it [00:29,  7.46s/it]                           \r5it [00:37,  7.48s/it]\r5it [00:37,  7.48s/it]\n"
     ]
    },
    {
     "name": "stdout",
     "output_type": "stream",
     "text": [
      "Cumulative Accuracy for CP: 81.05%\n",
      "Cumulative Accuracy for chopping-board: 80.00%\n",
      "Cumulative Accuracy for finalstep: 40.00%\n",
      "Cumulative Accuracy for glass-bowl-large: 100.00%\n",
      "Cumulative Accuracy for glass-bowl-medium: 94.74%\n",
      "Cumulative Accuracy for glass-bowl-small: 83.16%\n",
      "Cumulative Accuracy for grill-plate: 15.79%\n",
      "Cumulative Accuracy for group_step: 44.21%\n",
      "Cumulative Accuracy for medium: 81.05%\n",
      "Cumulative Accuracy for oven-dish: 100.00%\n",
      "Cumulative Accuracy for oven-tray: 100.00%\n",
      "Cumulative Accuracy for pan: 96.84%\n",
      "Cumulative Accuracy for pot-one-handle: 82.11%\n",
      "Cumulative Accuracy for pot-two-handles-medium: 26.32%\n",
      "Cumulative Accuracy for pot-two-handles-shallow: 46.32%\n",
      "Cumulative Accuracy for pot-two-handles-small: 62.11%\n",
      "Cumulative Accuracy for saucepan: 100.00%\n",
      "\n",
      "Mean Top 3 Accuracy: 91.76%\n",
      "Mean Top 1 Accuracy: 70.59%\n",
      "Macro-averaged Accuracy: 72.57%\n",
      "Epoch 18 test loss: 20.78125\n",
      "\n",
      "[Test - End Epoch 19] GPU Memory: Allocated=2.30GB, Reserved=3.35GB\n",
      "\n",
      "Epoch 20/120\n",
      "[Train - Start Epoch 20] GPU Memory: Allocated=2.30GB, Reserved=3.35GB\n"
     ]
    },
    {
     "name": "stderr",
     "output_type": "stream",
     "text": [
      "\r  0%|          | 0/11.65625 [00:00<?, ?it/s]\r  9%|▊         | 1/11.65625 [00:07<01:21,  7.65s/it]\r 17%|█▋        | 2/11.65625 [00:15<01:14,  7.67s/it]\r 26%|██▌       | 3/11.65625 [00:22<01:05,  7.61s/it]\r 34%|███▍      | 4/11.65625 [00:30<00:58,  7.62s/it]\r 43%|████▎     | 5/11.65625 [00:38<00:50,  7.62s/it]\r 51%|█████▏    | 6/11.65625 [00:45<00:43,  7.63s/it]\r 60%|██████    | 7/11.65625 [00:53<00:35,  7.62s/it]\r 69%|██████▊   | 8/11.65625 [01:00<00:27,  7.59s/it]\r 77%|███████▋  | 9/11.65625 [01:08<00:20,  7.59s/it]\r 86%|████████▌ | 10/11.65625 [01:16<00:12,  7.60s/it]\r 94%|█████████▍| 11/11.65625 [01:23<00:04,  7.60s/it]/databricks/python/lib/python3.11/site-packages/tqdm/std.py:524: TqdmWarning: clamping frac to range [0, 1]\n",
      "  full_bar = Bar(frac,\n",
      "\r103%|██████████| 12/11.65625 [01:31<-1:59:58,  7.58s/it]\r13it [01:38,  7.59s/it]                                 \r14it [01:46,  7.58s/it]\r15it [01:54,  7.60s/it]\r16it [02:01,  7.60s/it]\r17it [02:09,  7.64s/it]\r18it [02:16,  7.62s/it]\r19it [02:24,  7.55s/it]\r20it [02:31,  7.55s/it]\r21it [02:39,  7.58s/it]\r21it [02:39,  7.60s/it]\n"
     ]
    },
    {
     "name": "stdout",
     "output_type": "stream",
     "text": [
      "Epoch 19 train loss: 4.458427429199219e-05\n",
      "[Train - End / Test - Start Epoch 20] GPU Memory: Allocated=2.30GB, Reserved=3.35GB\n"
     ]
    },
    {
     "name": "stderr",
     "output_type": "stream",
     "text": [
      "\r  0%|          | 0/2.875 [00:00<?, ?it/s]\r 35%|███▍      | 1/2.875 [00:07<00:14,  7.60s/it]\r 70%|██████▉   | 2/2.875 [00:15<00:06,  7.54s/it]\r104%|██████████| 3/2.875 [00:22<00:00,  7.53s/it]\r4it [00:30,  7.52s/it]                           \r5it [00:37,  7.51s/it]\r5it [00:37,  7.53s/it]\n"
     ]
    },
    {
     "name": "stdout",
     "output_type": "stream",
     "text": [
      "Cumulative Accuracy for CP: 81.00%\n",
      "Cumulative Accuracy for chopping-board: 79.00%\n",
      "Cumulative Accuracy for finalstep: 40.00%\n",
      "Cumulative Accuracy for glass-bowl-large: 100.00%\n",
      "Cumulative Accuracy for glass-bowl-medium: 95.00%\n",
      "Cumulative Accuracy for glass-bowl-small: 83.00%\n",
      "Cumulative Accuracy for grill-plate: 15.00%\n",
      "Cumulative Accuracy for group_step: 45.00%\n",
      "Cumulative Accuracy for medium: 81.00%\n",
      "Cumulative Accuracy for oven-dish: 100.00%\n",
      "Cumulative Accuracy for oven-tray: 100.00%\n",
      "Cumulative Accuracy for pan: 97.00%\n",
      "Cumulative Accuracy for pot-one-handle: 82.00%\n",
      "Cumulative Accuracy for pot-two-handles-medium: 25.00%\n",
      "Cumulative Accuracy for pot-two-handles-shallow: 48.00%\n",
      "Cumulative Accuracy for pot-two-handles-small: 62.00%\n",
      "Cumulative Accuracy for saucepan: 100.00%\n",
      "\n",
      "Mean Top 3 Accuracy: 95.29%\n",
      "Mean Top 1 Accuracy: 71.76%\n",
      "Macro-averaged Accuracy: 72.53%\n",
      "Epoch 19 test loss: 22.203125\n",
      "\n",
      "[Test - End Epoch 20] GPU Memory: Allocated=2.30GB, Reserved=3.35GB\n",
      "\n",
      "Epoch 21/120\n",
      "[Train - Start Epoch 21] GPU Memory: Allocated=2.30GB, Reserved=3.35GB\n"
     ]
    },
    {
     "name": "stderr",
     "output_type": "stream",
     "text": [
      "\r  0%|          | 0/11.65625 [00:00<?, ?it/s]\r  9%|▊         | 1/11.65625 [00:07<01:21,  7.69s/it]\r 17%|█▋        | 2/11.65625 [00:15<01:14,  7.74s/it]\r 26%|██▌       | 3/11.65625 [00:23<01:07,  7.76s/it]\r 34%|███▍      | 4/11.65625 [00:30<00:59,  7.75s/it]\r 43%|████▎     | 5/11.65625 [00:38<00:51,  7.69s/it]\r 51%|█████▏    | 6/11.65625 [00:46<00:43,  7.72s/it]\r 60%|██████    | 7/11.65625 [00:54<00:36,  7.75s/it]\r 69%|██████▊   | 8/11.65625 [01:01<00:28,  7.72s/it]\r 77%|███████▋  | 9/11.65625 [01:09<00:20,  7.75s/it]\r 86%|████████▌ | 10/11.65625 [01:17<00:12,  7.78s/it]\r 94%|█████████▍| 11/11.65625 [01:25<00:05,  7.73s/it]/databricks/python/lib/python3.11/site-packages/tqdm/std.py:524: TqdmWarning: clamping frac to range [0, 1]\n",
      "  full_bar = Bar(frac,\n",
      "\r103%|██████████| 12/11.65625 [01:32<-1:59:58,  7.75s/it]\r13it [01:40,  7.74s/it]                                 \r14it [01:48,  7.74s/it]\r15it [01:56,  7.71s/it]\r16it [02:03,  7.71s/it]\r17it [02:11,  7.75s/it]\r18it [02:19,  7.79s/it]\r19it [02:27,  7.74s/it]\r20it [02:34,  7.70s/it]\r21it [02:42,  7.75s/it]\r21it [02:42,  7.74s/it]\n"
     ]
    },
    {
     "name": "stdout",
     "output_type": "stream",
     "text": [
      "Epoch 20 train loss: 9.882450103759766e-05\n",
      "[Checkpoint] Saved under <PATH>/recipe_classifier/checkpoints/2025_01_09/dataset_20dec_small/grid_search/lr_9e-06_wd_0/epoch_20.pt\n",
      "\n",
      "[Train - End / Test - Start Epoch 21] GPU Memory: Allocated=2.06GB, Reserved=3.35GB\n"
     ]
    },
    {
     "name": "stderr",
     "output_type": "stream",
     "text": [
      "\r  0%|          | 0/2.875 [00:00<?, ?it/s]\r 35%|███▍      | 1/2.875 [00:07<00:13,  7.41s/it]\r 70%|██████▉   | 2/2.875 [00:14<00:06,  7.50s/it]\r104%|██████████| 3/2.875 [00:22<00:00,  7.51s/it]\r4it [00:30,  7.53s/it]                           \r5it [00:37,  7.51s/it]\r5it [00:37,  7.51s/it]\n"
     ]
    },
    {
     "name": "stdout",
     "output_type": "stream",
     "text": [
      "Cumulative Accuracy for CP: 80.95%\n",
      "Cumulative Accuracy for chopping-board: 80.00%\n",
      "Cumulative Accuracy for finalstep: 40.00%\n",
      "Cumulative Accuracy for glass-bowl-large: 100.00%\n",
      "Cumulative Accuracy for glass-bowl-medium: 95.24%\n",
      "Cumulative Accuracy for glass-bowl-small: 83.81%\n",
      "Cumulative Accuracy for grill-plate: 14.29%\n",
      "Cumulative Accuracy for group_step: 44.76%\n",
      "Cumulative Accuracy for medium: 80.95%\n",
      "Cumulative Accuracy for oven-dish: 100.00%\n",
      "Cumulative Accuracy for oven-tray: 100.00%\n",
      "Cumulative Accuracy for pan: 97.14%\n",
      "Cumulative Accuracy for pot-one-handle: 81.90%\n",
      "Cumulative Accuracy for pot-two-handles-medium: 23.81%\n",
      "Cumulative Accuracy for pot-two-handles-shallow: 47.62%\n",
      "Cumulative Accuracy for pot-two-handles-small: 62.86%\n",
      "Cumulative Accuracy for saucepan: 100.00%\n",
      "\n",
      "Mean Top 3 Accuracy: 94.12%\n",
      "Mean Top 1 Accuracy: 72.94%\n",
      "Macro-averaged Accuracy: 72.55%\n",
      "Epoch 20 test loss: 22.09375\n",
      "\n",
      "[Test - End Epoch 21] GPU Memory: Allocated=2.06GB, Reserved=3.35GB\n",
      "\n",
      "Epoch 22/120\n",
      "[Train - Start Epoch 22] GPU Memory: Allocated=2.06GB, Reserved=3.35GB\n"
     ]
    },
    {
     "name": "stderr",
     "output_type": "stream",
     "text": [
      "\r  0%|          | 0/11.65625 [00:00<?, ?it/s]\r  9%|▊         | 1/11.65625 [00:07<01:21,  7.69s/it]\r 17%|█▋        | 2/11.65625 [00:15<01:14,  7.74s/it]\r 26%|██▌       | 3/11.65625 [00:23<01:06,  7.72s/it]\r 34%|███▍      | 4/11.65625 [00:30<00:58,  7.64s/it]\r 43%|████▎     | 5/11.65625 [00:38<00:51,  7.67s/it]\r 51%|█████▏    | 6/11.65625 [00:45<00:43,  7.61s/it]\r 60%|██████    | 7/11.65625 [00:53<00:35,  7.65s/it]\r 69%|██████▊   | 8/11.65625 [01:01<00:28,  7.66s/it]\r 77%|███████▋  | 9/11.65625 [01:08<00:20,  7.67s/it]\r 86%|████████▌ | 10/11.65625 [01:16<00:12,  7.72s/it]\r 94%|█████████▍| 11/11.65625 [01:24<00:05,  7.69s/it]/databricks/python/lib/python3.11/site-packages/tqdm/std.py:524: TqdmWarning: clamping frac to range [0, 1]\n",
      "  full_bar = Bar(frac,\n",
      "\r103%|██████████| 12/11.65625 [01:32<-1:59:58,  7.67s/it]\r13it [01:39,  7.70s/it]                                 \r14it [01:47,  7.69s/it]\r15it [01:55,  7.68s/it]\r16it [02:02,  7.66s/it]\r17it [02:10,  7.67s/it]\r18it [02:18,  7.70s/it]\r19it [02:25,  7.72s/it]\r20it [02:33,  7.70s/it]\r21it [02:41,  7.68s/it]\r21it [02:41,  7.68s/it]\n"
     ]
    },
    {
     "name": "stdout",
     "output_type": "stream",
     "text": [
      "Epoch 21 train loss: 4.392862319946289e-05\n",
      "[Train - End / Test - Start Epoch 22] GPU Memory: Allocated=2.30GB, Reserved=3.35GB\n"
     ]
    },
    {
     "name": "stderr",
     "output_type": "stream",
     "text": [
      "\r  0%|          | 0/2.875 [00:00<?, ?it/s]\r 35%|███▍      | 1/2.875 [00:07<00:14,  7.59s/it]\r 70%|██████▉   | 2/2.875 [00:14<00:06,  7.47s/it]\r104%|██████████| 3/2.875 [00:22<00:00,  7.53s/it]\r4it [00:30,  7.52s/it]                           \r5it [00:37,  7.54s/it]\r5it [00:37,  7.53s/it]\n"
     ]
    },
    {
     "name": "stdout",
     "output_type": "stream",
     "text": [
      "Cumulative Accuracy for CP: 81.82%\n",
      "Cumulative Accuracy for chopping-board: 80.00%\n",
      "Cumulative Accuracy for finalstep: 40.00%\n",
      "Cumulative Accuracy for glass-bowl-large: 100.00%\n",
      "Cumulative Accuracy for glass-bowl-medium: 95.45%\n",
      "Cumulative Accuracy for glass-bowl-small: 83.64%\n",
      "Cumulative Accuracy for grill-plate: 13.64%\n",
      "Cumulative Accuracy for group_step: 44.55%\n",
      "Cumulative Accuracy for medium: 80.91%\n",
      "Cumulative Accuracy for oven-dish: 100.00%\n",
      "Cumulative Accuracy for oven-tray: 100.00%\n",
      "Cumulative Accuracy for pan: 97.27%\n",
      "Cumulative Accuracy for pot-one-handle: 81.82%\n",
      "Cumulative Accuracy for pot-two-handles-medium: 22.73%\n",
      "Cumulative Accuracy for pot-two-handles-shallow: 47.27%\n",
      "Cumulative Accuracy for pot-two-handles-small: 62.73%\n",
      "Cumulative Accuracy for saucepan: 100.00%\n",
      "\n",
      "Mean Top 3 Accuracy: 91.76%\n",
      "Mean Top 1 Accuracy: 70.59%\n",
      "Macro-averaged Accuracy: 72.46%\n",
      "Epoch 21 test loss: 23.28125\n",
      "\n",
      "[Test - End Epoch 22] GPU Memory: Allocated=2.30GB, Reserved=3.35GB\n",
      "\n",
      "Epoch 23/120\n",
      "[Train - Start Epoch 23] GPU Memory: Allocated=2.30GB, Reserved=3.35GB\n"
     ]
    },
    {
     "name": "stderr",
     "output_type": "stream",
     "text": [
      "\r  0%|          | 0/11.65625 [00:00<?, ?it/s]\r  9%|▊         | 1/11.65625 [00:07<01:20,  7.60s/it]\r 17%|█▋        | 2/11.65625 [00:15<01:13,  7.65s/it]\r 26%|██▌       | 3/11.65625 [00:22<01:05,  7.59s/it]\r 34%|███▍      | 4/11.65625 [00:30<00:57,  7.57s/it]\r 43%|████▎     | 5/11.65625 [00:37<00:50,  7.60s/it]\r 51%|█████▏    | 6/11.65625 [00:45<00:42,  7.60s/it]\r 60%|██████    | 7/11.65625 [00:53<00:35,  7.64s/it]\r 69%|██████▊   | 8/11.65625 [01:00<00:27,  7.64s/it]\r 77%|███████▋  | 9/11.65625 [01:08<00:20,  7.59s/it]\r 86%|████████▌ | 10/11.65625 [01:16<00:12,  7.64s/it]\r 94%|█████████▍| 11/11.65625 [01:23<00:05,  7.69s/it]/databricks/python/lib/python3.11/site-packages/tqdm/std.py:524: TqdmWarning: clamping frac to range [0, 1]\n",
      "  full_bar = Bar(frac,\n",
      "\r103%|██████████| 12/11.65625 [01:31<-1:59:58,  7.64s/it]\r13it [01:39,  7.63s/it]                                 \r14it [01:46,  7.63s/it]\r15it [01:54,  7.65s/it]\r16it [02:01,  7.59s/it]\r17it [02:09,  7.66s/it]\r18it [02:17,  7.69s/it]\r19it [02:25,  7.66s/it]\r20it [02:32,  7.66s/it]\r21it [02:40,  7.69s/it]\r21it [02:40,  7.64s/it]\n"
     ]
    },
    {
     "name": "stdout",
     "output_type": "stream",
     "text": [
      "Epoch 22 train loss: 7.271766662597656e-06\n",
      "[Train - End / Test - Start Epoch 23] GPU Memory: Allocated=2.30GB, Reserved=3.35GB\n"
     ]
    },
    {
     "name": "stderr",
     "output_type": "stream",
     "text": [
      "\r  0%|          | 0/2.875 [00:00<?, ?it/s]\r 35%|███▍      | 1/2.875 [00:07<00:13,  7.42s/it]\r 70%|██████▉   | 2/2.875 [00:14<00:06,  7.48s/it]\r104%|██████████| 3/2.875 [00:22<00:00,  7.51s/it]\r4it [00:30,  7.53s/it]                           \r5it [00:37,  7.51s/it]\r5it [00:37,  7.50s/it]\n"
     ]
    },
    {
     "name": "stdout",
     "output_type": "stream",
     "text": [
      "Cumulative Accuracy for CP: 81.74%\n",
      "Cumulative Accuracy for chopping-board: 80.87%\n",
      "Cumulative Accuracy for finalstep: 40.87%\n",
      "Cumulative Accuracy for glass-bowl-large: 100.00%\n",
      "Cumulative Accuracy for glass-bowl-medium: 95.65%\n",
      "Cumulative Accuracy for glass-bowl-small: 84.35%\n",
      "Cumulative Accuracy for grill-plate: 13.04%\n",
      "Cumulative Accuracy for group_step: 46.09%\n",
      "Cumulative Accuracy for medium: 80.87%\n",
      "Cumulative Accuracy for oven-dish: 100.00%\n",
      "Cumulative Accuracy for oven-tray: 100.00%\n",
      "Cumulative Accuracy for pan: 97.39%\n",
      "Cumulative Accuracy for pot-one-handle: 81.74%\n",
      "Cumulative Accuracy for pot-two-handles-medium: 21.74%\n",
      "Cumulative Accuracy for pot-two-handles-shallow: 48.70%\n",
      "Cumulative Accuracy for pot-two-handles-small: 63.48%\n",
      "Cumulative Accuracy for saucepan: 100.00%\n",
      "\n",
      "Mean Top 3 Accuracy: 96.47%\n",
      "Mean Top 1 Accuracy: 78.82%\n",
      "Macro-averaged Accuracy: 72.74%\n",
      "Epoch 22 test loss: 22.046875\n",
      "\n",
      "[Test - End Epoch 23] GPU Memory: Allocated=2.30GB, Reserved=3.35GB\n",
      "\n",
      "Epoch 24/120\n",
      "[Train - Start Epoch 24] GPU Memory: Allocated=2.30GB, Reserved=3.35GB\n"
     ]
    },
    {
     "name": "stderr",
     "output_type": "stream",
     "text": [
      "\r  0%|          | 0/11.65625 [00:00<?, ?it/s]\r  9%|▊         | 1/11.65625 [00:07<01:22,  7.70s/it]\r 17%|█▋        | 2/11.65625 [00:15<01:14,  7.70s/it]\r 26%|██▌       | 3/11.65625 [00:23<01:07,  7.74s/it]\r 34%|███▍      | 4/11.65625 [00:30<00:59,  7.73s/it]\r 43%|████▎     | 5/11.65625 [00:38<00:51,  7.67s/it]\r 51%|█████▏    | 6/11.65625 [00:46<00:43,  7.69s/it]\r 60%|██████    | 7/11.65625 [00:53<00:35,  7.72s/it]\r 69%|██████▊   | 8/11.65625 [01:01<00:28,  7.74s/it]\r 77%|███████▋  | 9/11.65625 [01:09<00:20,  7.68s/it]\r 86%|████████▌ | 10/11.65625 [01:17<00:12,  7.70s/it]\r 94%|█████████▍| 11/11.65625 [01:24<00:05,  7.67s/it]/databricks/python/lib/python3.11/site-packages/tqdm/std.py:524: TqdmWarning: clamping frac to range [0, 1]\n",
      "  full_bar = Bar(frac,\n",
      "\r103%|██████████| 12/11.65625 [01:32<-1:59:58,  7.63s/it]\r13it [01:39,  7.65s/it]                                 \r14it [01:47,  7.66s/it]\r15it [01:55,  7.69s/it]\r16it [02:03,  7.71s/it]\r17it [02:10,  7.70s/it]\r18it [02:18,  7.73s/it]\r19it [02:26,  7.69s/it]\r20it [02:33,  7.64s/it]\r21it [02:41,  7.66s/it]\r21it [02:41,  7.69s/it]\n"
     ]
    },
    {
     "name": "stdout",
     "output_type": "stream",
     "text": [
      "Epoch 23 train loss: 6.139278411865234e-06\n",
      "[Train - End / Test - Start Epoch 24] GPU Memory: Allocated=2.30GB, Reserved=3.35GB\n"
     ]
    },
    {
     "name": "stderr",
     "output_type": "stream",
     "text": [
      "\r  0%|          | 0/2.875 [00:00<?, ?it/s]\r 35%|███▍      | 1/2.875 [00:07<00:14,  7.52s/it]\r 70%|██████▉   | 2/2.875 [00:15<00:06,  7.55s/it]\r104%|██████████| 3/2.875 [00:22<00:00,  7.53s/it]\r4it [00:30,  7.57s/it]                           \r5it [00:37,  7.54s/it]\r5it [00:37,  7.54s/it]\n"
     ]
    },
    {
     "name": "stdout",
     "output_type": "stream",
     "text": [
      "Cumulative Accuracy for CP: 81.67%\n",
      "Cumulative Accuracy for chopping-board: 80.83%\n",
      "Cumulative Accuracy for finalstep: 40.83%\n",
      "Cumulative Accuracy for glass-bowl-large: 100.00%\n",
      "Cumulative Accuracy for glass-bowl-medium: 95.83%\n",
      "Cumulative Accuracy for glass-bowl-small: 84.17%\n",
      "Cumulative Accuracy for grill-plate: 12.50%\n",
      "Cumulative Accuracy for group_step: 46.67%\n",
      "Cumulative Accuracy for medium: 80.83%\n",
      "Cumulative Accuracy for oven-dish: 100.00%\n",
      "Cumulative Accuracy for oven-tray: 100.00%\n",
      "Cumulative Accuracy for pan: 97.50%\n",
      "Cumulative Accuracy for pot-one-handle: 81.67%\n",
      "Cumulative Accuracy for pot-two-handles-medium: 20.83%\n",
      "Cumulative Accuracy for pot-two-handles-shallow: 47.50%\n",
      "Cumulative Accuracy for pot-two-handles-small: 63.33%\n",
      "Cumulative Accuracy for saucepan: 100.00%\n",
      "\n",
      "Mean Top 3 Accuracy: 92.94%\n",
      "Mean Top 1 Accuracy: 69.41%\n",
      "Macro-averaged Accuracy: 72.60%\n",
      "Epoch 23 test loss: 22.390625\n",
      "\n",
      "[Test - End Epoch 24] GPU Memory: Allocated=2.30GB, Reserved=3.35GB\n",
      "\n",
      "Epoch 25/120\n",
      "[Train - Start Epoch 25] GPU Memory: Allocated=2.30GB, Reserved=3.35GB\n"
     ]
    },
    {
     "name": "stderr",
     "output_type": "stream",
     "text": [
      "\r  0%|          | 0/11.65625 [00:00<?, ?it/s]\r  9%|▊         | 1/11.65625 [00:07<01:20,  7.58s/it]\r 17%|█▋        | 2/11.65625 [00:15<01:13,  7.58s/it]\r 26%|██▌       | 3/11.65625 [00:22<01:06,  7.65s/it]\r 34%|███▍      | 4/11.65625 [00:30<00:58,  7.64s/it]\r 43%|████▎     | 5/11.65625 [00:38<00:50,  7.65s/it]\r 51%|█████▏    | 6/11.65625 [00:45<00:43,  7.64s/it]\r 60%|██████    | 7/11.65625 [00:53<00:35,  7.61s/it]\r 69%|██████▊   | 8/11.65625 [01:01<00:27,  7.66s/it]\r 77%|███████▋  | 9/11.65625 [01:08<00:20,  7.65s/it]\r 86%|████████▌ | 10/11.65625 [01:16<00:12,  7.62s/it]\r 94%|█████████▍| 11/11.65625 [01:23<00:05,  7.63s/it]/databricks/python/lib/python3.11/site-packages/tqdm/std.py:524: TqdmWarning: clamping frac to range [0, 1]\n",
      "  full_bar = Bar(frac,\n",
      "\r103%|██████████| 12/11.65625 [01:31<-1:59:58,  7.68s/it]\r13it [01:39,  7.66s/it]                                 \r14it [01:46,  7.65s/it]\r15it [01:54,  7.64s/it]\r16it [02:02,  7.63s/it]\r17it [02:09,  7.64s/it]\r18it [02:17,  7.67s/it]\r19it [02:25,  7.65s/it]\r20it [02:32,  7.62s/it]\r21it [02:40,  7.63s/it]\r21it [02:40,  7.64s/it]\n"
     ]
    },
    {
     "name": "stdout",
     "output_type": "stream",
     "text": [
      "Epoch 24 train loss: 5.543231964111328e-06\n",
      "[Train - End / Test - Start Epoch 25] GPU Memory: Allocated=2.31GB, Reserved=3.35GB\n"
     ]
    },
    {
     "name": "stderr",
     "output_type": "stream",
     "text": [
      "\r  0%|          | 0/2.875 [00:00<?, ?it/s]\r 35%|███▍      | 1/2.875 [00:07<00:14,  7.51s/it]\r 70%|██████▉   | 2/2.875 [00:15<00:06,  7.56s/it]\r104%|██████████| 3/2.875 [00:22<00:00,  7.49s/it]\r4it [00:30,  7.58s/it]                           \r5it [00:37,  7.58s/it]\r5it [00:37,  7.56s/it]\n"
     ]
    },
    {
     "name": "stdout",
     "output_type": "stream",
     "text": [
      "Cumulative Accuracy for CP: 81.60%\n",
      "Cumulative Accuracy for chopping-board: 81.60%\n",
      "Cumulative Accuracy for finalstep: 40.80%\n",
      "Cumulative Accuracy for glass-bowl-large: 100.00%\n",
      "Cumulative Accuracy for glass-bowl-medium: 96.00%\n",
      "Cumulative Accuracy for glass-bowl-small: 84.00%\n",
      "Cumulative Accuracy for grill-plate: 12.00%\n",
      "Cumulative Accuracy for group_step: 46.40%\n",
      "Cumulative Accuracy for medium: 80.80%\n",
      "Cumulative Accuracy for oven-dish: 100.00%\n",
      "Cumulative Accuracy for oven-tray: 100.00%\n",
      "Cumulative Accuracy for pan: 97.60%\n",
      "Cumulative Accuracy for pot-one-handle: 81.60%\n",
      "Cumulative Accuracy for pot-two-handles-medium: 20.00%\n",
      "Cumulative Accuracy for pot-two-handles-shallow: 48.00%\n",
      "Cumulative Accuracy for pot-two-handles-small: 64.00%\n",
      "Cumulative Accuracy for saucepan: 100.00%\n",
      "\n",
      "Mean Top 3 Accuracy: 91.76%\n",
      "Mean Top 1 Accuracy: 72.94%\n",
      "Macro-averaged Accuracy: 72.61%\n",
      "Epoch 24 test loss: 24.9375\n",
      "\n",
      "[Test - End Epoch 25] GPU Memory: Allocated=2.31GB, Reserved=3.35GB\n",
      "\n",
      "Epoch 26/120\n",
      "[Train - Start Epoch 26] GPU Memory: Allocated=2.31GB, Reserved=3.35GB\n"
     ]
    },
    {
     "name": "stderr",
     "output_type": "stream",
     "text": [
      "\r  0%|          | 0/11.65625 [00:00<?, ?it/s]\r  9%|▊         | 1/11.65625 [00:07<01:22,  7.76s/it]\r 17%|█▋        | 2/11.65625 [00:15<01:14,  7.70s/it]\r 26%|██▌       | 3/11.65625 [00:23<01:06,  7.70s/it]\r 34%|███▍      | 4/11.65625 [00:30<00:58,  7.63s/it]\r 43%|████▎     | 5/11.65625 [00:38<00:50,  7.61s/it]\r 51%|█████▏    | 6/11.65625 [00:45<00:43,  7.65s/it]\r 60%|██████    | 7/11.65625 [00:53<00:35,  7.61s/it]\r 69%|██████▊   | 8/11.65625 [01:01<00:27,  7.60s/it]\r 77%|███████▋  | 9/11.65625 [01:08<00:20,  7.60s/it]\r 86%|████████▌ | 10/11.65625 [01:16<00:12,  7.64s/it]\r 94%|█████████▍| 11/11.65625 [01:23<00:04,  7.62s/it]/databricks/python/lib/python3.11/site-packages/tqdm/std.py:524: TqdmWarning: clamping frac to range [0, 1]\n",
      "  full_bar = Bar(frac,\n",
      "\r103%|██████████| 12/11.65625 [01:31<-1:59:58,  7.65s/it]\r13it [01:39,  7.65s/it]                                 \r14it [01:47,  7.66s/it]\r15it [01:54,  7.66s/it]\r16it [02:02,  7.65s/it]\r17it [02:09,  7.66s/it]\r18it [02:17,  7.69s/it]\r19it [02:25,  7.66s/it]\r20it [02:33,  7.71s/it]\r21it [02:40,  7.70s/it]\r21it [02:40,  7.66s/it]\n"
     ]
    },
    {
     "name": "stdout",
     "output_type": "stream",
     "text": [
      "Epoch 25 train loss: 3.7550926208496094e-06\n",
      "[Train - End / Test - Start Epoch 26] GPU Memory: Allocated=2.30GB, Reserved=3.35GB\n"
     ]
    },
    {
     "name": "stderr",
     "output_type": "stream",
     "text": [
      "\r  0%|          | 0/2.875 [00:00<?, ?it/s]\r 35%|███▍      | 1/2.875 [00:07<00:14,  7.63s/it]\r 70%|██████▉   | 2/2.875 [00:15<00:06,  7.59s/it]\r104%|██████████| 3/2.875 [00:22<00:00,  7.55s/it]\r4it [00:30,  7.55s/it]                           \r5it [00:37,  7.51s/it]\r5it [00:37,  7.54s/it]\n"
     ]
    },
    {
     "name": "stdout",
     "output_type": "stream",
     "text": [
      "Cumulative Accuracy for CP: 81.54%\n",
      "Cumulative Accuracy for chopping-board: 81.54%\n",
      "Cumulative Accuracy for finalstep: 41.54%\n",
      "Cumulative Accuracy for glass-bowl-large: 100.00%\n",
      "Cumulative Accuracy for glass-bowl-medium: 96.15%\n",
      "Cumulative Accuracy for glass-bowl-small: 83.85%\n",
      "Cumulative Accuracy for grill-plate: 11.54%\n",
      "Cumulative Accuracy for group_step: 46.92%\n",
      "Cumulative Accuracy for medium: 80.77%\n",
      "Cumulative Accuracy for oven-dish: 100.00%\n",
      "Cumulative Accuracy for oven-tray: 100.00%\n",
      "Cumulative Accuracy for pan: 97.69%\n",
      "Cumulative Accuracy for pot-one-handle: 81.54%\n",
      "Cumulative Accuracy for pot-two-handles-medium: 19.23%\n",
      "Cumulative Accuracy for pot-two-handles-shallow: 47.69%\n",
      "Cumulative Accuracy for pot-two-handles-small: 63.08%\n",
      "Cumulative Accuracy for saucepan: 100.00%\n",
      "\n",
      "Mean Top 3 Accuracy: 92.94%\n",
      "Mean Top 1 Accuracy: 70.59%\n",
      "Macro-averaged Accuracy: 72.53%\n",
      "Epoch 25 test loss: 21.875\n",
      "\n",
      "[Test - End Epoch 26] GPU Memory: Allocated=2.30GB, Reserved=3.35GB\n",
      "\n",
      "Epoch 27/120\n",
      "[Train - Start Epoch 27] GPU Memory: Allocated=2.30GB, Reserved=3.35GB\n"
     ]
    },
    {
     "name": "stderr",
     "output_type": "stream",
     "text": [
      "\r  0%|          | 0/11.65625 [00:00<?, ?it/s]\r  9%|▊         | 1/11.65625 [00:07<01:22,  7.74s/it]\r 17%|█▋        | 2/11.65625 [00:15<01:14,  7.76s/it]\r 26%|██▌       | 3/11.65625 [00:23<01:06,  7.73s/it]\r 34%|███▍      | 4/11.65625 [00:30<00:58,  7.67s/it]\r 43%|████▎     | 5/11.65625 [00:38<00:50,  7.65s/it]\r 51%|█████▏    | 6/11.65625 [00:46<00:43,  7.66s/it]\r 60%|██████    | 7/11.65625 [00:53<00:35,  7.65s/it]\r 69%|██████▊   | 8/11.65625 [01:01<00:28,  7.71s/it]\r 77%|███████▋  | 9/11.65625 [01:09<00:20,  7.70s/it]\r 86%|████████▌ | 10/11.65625 [01:16<00:12,  7.67s/it]\r 94%|█████████▍| 11/11.65625 [01:24<00:05,  7.70s/it]/databricks/python/lib/python3.11/site-packages/tqdm/std.py:524: TqdmWarning: clamping frac to range [0, 1]\n",
      "  full_bar = Bar(frac,\n",
      "\r103%|██████████| 12/11.65625 [01:32<-1:59:58,  7.69s/it]\r13it [01:39,  7.69s/it]                                 \r14it [01:47,  7.66s/it]\r15it [01:55,  7.66s/it]\r16it [02:02,  7.65s/it]\r17it [02:10,  7.65s/it]\r18it [02:18,  7.62s/it]\r19it [02:25,  7.65s/it]\r20it [02:33,  7.64s/it]\r21it [02:40,  7.63s/it]\r21it [02:40,  7.67s/it]\n"
     ]
    },
    {
     "name": "stdout",
     "output_type": "stream",
     "text": [
      "Epoch 26 train loss: 4.112720489501953e-06\n",
      "[Train - End / Test - Start Epoch 27] GPU Memory: Allocated=2.30GB, Reserved=3.35GB\n"
     ]
    },
    {
     "name": "stderr",
     "output_type": "stream",
     "text": [
      "\r  0%|          | 0/2.875 [00:00<?, ?it/s]\r 35%|███▍      | 1/2.875 [00:07<00:14,  7.55s/it]\r 70%|██████▉   | 2/2.875 [00:15<00:06,  7.57s/it]\r104%|██████████| 3/2.875 [00:22<00:00,  7.55s/it]\r4it [00:30,  7.55s/it]                           \r5it [00:37,  7.51s/it]\r5it [00:37,  7.53s/it]\n"
     ]
    },
    {
     "name": "stdout",
     "output_type": "stream",
     "text": [
      "Cumulative Accuracy for CP: 82.22%\n",
      "Cumulative Accuracy for chopping-board: 81.48%\n",
      "Cumulative Accuracy for finalstep: 42.22%\n",
      "Cumulative Accuracy for glass-bowl-large: 100.00%\n",
      "Cumulative Accuracy for glass-bowl-medium: 96.30%\n",
      "Cumulative Accuracy for glass-bowl-small: 83.70%\n",
      "Cumulative Accuracy for grill-plate: 11.11%\n",
      "Cumulative Accuracy for group_step: 47.41%\n",
      "Cumulative Accuracy for medium: 80.74%\n",
      "Cumulative Accuracy for oven-dish: 100.00%\n",
      "Cumulative Accuracy for oven-tray: 100.00%\n",
      "Cumulative Accuracy for pan: 97.78%\n",
      "Cumulative Accuracy for pot-one-handle: 81.48%\n",
      "Cumulative Accuracy for pot-two-handles-medium: 18.52%\n",
      "Cumulative Accuracy for pot-two-handles-shallow: 48.15%\n",
      "Cumulative Accuracy for pot-two-handles-small: 63.70%\n",
      "Cumulative Accuracy for saucepan: 100.00%\n",
      "\n",
      "Mean Top 3 Accuracy: 96.47%\n",
      "Mean Top 1 Accuracy: 75.29%\n",
      "Macro-averaged Accuracy: 72.64%\n",
      "Epoch 26 test loss: 23.765625\n",
      "\n",
      "[Test - End Epoch 27] GPU Memory: Allocated=2.30GB, Reserved=3.35GB\n",
      "\n",
      "Epoch 28/120\n",
      "[Train - Start Epoch 28] GPU Memory: Allocated=2.30GB, Reserved=3.35GB\n"
     ]
    },
    {
     "name": "stderr",
     "output_type": "stream",
     "text": [
      "\r  0%|          | 0/11.65625 [00:00<?, ?it/s]\r  9%|▊         | 1/11.65625 [00:07<01:21,  7.62s/it]\r 17%|█▋        | 2/11.65625 [00:15<01:13,  7.63s/it]\r 26%|██▌       | 3/11.65625 [00:22<01:05,  7.59s/it]\r 34%|███▍      | 4/11.65625 [00:30<00:57,  7.57s/it]\r 43%|████▎     | 5/11.65625 [00:38<00:50,  7.60s/it]\r 51%|█████▏    | 6/11.65625 [00:45<00:43,  7.64s/it]\r 60%|██████    | 7/11.65625 [00:53<00:35,  7.65s/it]\r 69%|██████▊   | 8/11.65625 [01:00<00:27,  7.63s/it]\r 77%|███████▋  | 9/11.65625 [01:08<00:20,  7.62s/it]\r 86%|████████▌ | 10/11.65625 [01:16<00:12,  7.61s/it]\r 94%|█████████▍| 11/11.65625 [01:23<00:04,  7.60s/it]/databricks/python/lib/python3.11/site-packages/tqdm/std.py:524: TqdmWarning: clamping frac to range [0, 1]\n",
      "  full_bar = Bar(frac,\n",
      "\r103%|██████████| 12/11.65625 [01:31<-1:59:58,  7.62s/it]\r13it [01:39,  7.66s/it]                                 \r14it [01:46,  7.64s/it]\r15it [01:54,  7.66s/it]\r16it [02:01,  7.59s/it]\r17it [02:09,  7.63s/it]\r18it [02:17,  7.61s/it]\r19it [02:25,  7.69s/it]\r20it [02:32,  7.64s/it]\r21it [02:40,  7.64s/it]\r21it [02:40,  7.63s/it]\n"
     ]
    },
    {
     "name": "stdout",
     "output_type": "stream",
     "text": [
      "Epoch 27 train loss: 4.947185516357422e-06\n",
      "[Train - End / Test - Start Epoch 28] GPU Memory: Allocated=2.30GB, Reserved=3.35GB\n"
     ]
    },
    {
     "name": "stderr",
     "output_type": "stream",
     "text": [
      "\r  0%|          | 0/2.875 [00:00<?, ?it/s]\r 35%|███▍      | 1/2.875 [00:07<00:13,  7.47s/it]\r 70%|██████▉   | 2/2.875 [00:14<00:06,  7.44s/it]\r104%|██████████| 3/2.875 [00:22<00:00,  7.48s/it]\r4it [00:29,  7.44s/it]                           \r5it [00:37,  7.47s/it]\r5it [00:37,  7.47s/it]\n"
     ]
    },
    {
     "name": "stdout",
     "output_type": "stream",
     "text": [
      "Cumulative Accuracy for CP: 82.14%\n",
      "Cumulative Accuracy for chopping-board: 81.43%\n",
      "Cumulative Accuracy for finalstep: 41.43%\n",
      "Cumulative Accuracy for glass-bowl-large: 100.00%\n",
      "Cumulative Accuracy for glass-bowl-medium: 96.43%\n",
      "Cumulative Accuracy for glass-bowl-small: 84.29%\n",
      "Cumulative Accuracy for grill-plate: 10.71%\n",
      "Cumulative Accuracy for group_step: 47.86%\n",
      "Cumulative Accuracy for medium: 80.71%\n",
      "Cumulative Accuracy for oven-dish: 100.00%\n",
      "Cumulative Accuracy for oven-tray: 100.00%\n",
      "Cumulative Accuracy for pan: 97.86%\n",
      "Cumulative Accuracy for pot-one-handle: 81.43%\n",
      "Cumulative Accuracy for pot-two-handles-medium: 17.86%\n",
      "Cumulative Accuracy for pot-two-handles-shallow: 47.86%\n",
      "Cumulative Accuracy for pot-two-handles-small: 63.57%\n",
      "Cumulative Accuracy for saucepan: 100.00%\n",
      "\n",
      "Mean Top 3 Accuracy: 91.76%\n",
      "Mean Top 1 Accuracy: 70.59%\n",
      "Macro-averaged Accuracy: 72.56%\n",
      "Epoch 27 test loss: 24.84375\n",
      "\n",
      "[Test - End Epoch 28] GPU Memory: Allocated=2.30GB, Reserved=3.35GB\n",
      "\n",
      "Epoch 29/120\n",
      "[Train - Start Epoch 29] GPU Memory: Allocated=2.30GB, Reserved=3.35GB\n"
     ]
    },
    {
     "name": "stderr",
     "output_type": "stream",
     "text": [
      "\r  0%|          | 0/11.65625 [00:00<?, ?it/s]\r  9%|▊         | 1/11.65625 [00:07<01:22,  7.72s/it]\r 17%|█▋        | 2/11.65625 [00:15<01:13,  7.65s/it]\r 26%|██▌       | 3/11.65625 [00:22<01:06,  7.63s/it]\r 34%|███▍      | 4/11.65625 [00:30<00:58,  7.66s/it]\r 43%|████▎     | 5/11.65625 [00:38<00:50,  7.64s/it]\r 51%|█████▏    | 6/11.65625 [00:45<00:43,  7.68s/it]\r 60%|██████    | 7/11.65625 [00:53<00:35,  7.62s/it]\r 69%|██████▊   | 8/11.65625 [01:01<00:27,  7.64s/it]\r 77%|███████▋  | 9/11.65625 [01:08<00:20,  7.62s/it]\r 86%|████████▌ | 10/11.65625 [01:16<00:12,  7.72s/it]\r 94%|█████████▍| 11/11.65625 [01:24<00:05,  7.74s/it]/databricks/python/lib/python3.11/site-packages/tqdm/std.py:524: TqdmWarning: clamping frac to range [0, 1]\n",
      "  full_bar = Bar(frac,\n",
      "\r103%|██████████| 12/11.65625 [01:32<-1:59:58,  7.71s/it]\r13it [01:39,  7.72s/it]                                 \r14it [01:47,  7.65s/it]\r15it [01:54,  7.63s/it]\r16it [02:02,  7.58s/it]\r17it [02:10,  7.60s/it]\r18it [02:17,  7.62s/it]\r19it [02:25,  7.66s/it]\r20it [02:33,  7.65s/it]\r21it [02:40,  7.67s/it]\r21it [02:40,  7.66s/it]\n"
     ]
    },
    {
     "name": "stdout",
     "output_type": "stream",
     "text": [
      "Epoch 28 train loss: 3.814697265625e-06\n",
      "[Train - End / Test - Start Epoch 29] GPU Memory: Allocated=2.30GB, Reserved=3.35GB\n"
     ]
    },
    {
     "name": "stderr",
     "output_type": "stream",
     "text": [
      "\r  0%|          | 0/2.875 [00:00<?, ?it/s]\r 35%|███▍      | 1/2.875 [00:07<00:14,  7.67s/it]\r 70%|██████▉   | 2/2.875 [00:15<00:06,  7.53s/it]\r104%|██████████| 3/2.875 [00:22<00:00,  7.59s/it]\r4it [00:30,  7.56s/it]                           \r5it [00:37,  7.57s/it]\r5it [00:37,  7.57s/it]\n"
     ]
    },
    {
     "name": "stdout",
     "output_type": "stream",
     "text": [
      "Cumulative Accuracy for CP: 82.07%\n",
      "Cumulative Accuracy for chopping-board: 82.07%\n",
      "Cumulative Accuracy for finalstep: 42.07%\n",
      "Cumulative Accuracy for glass-bowl-large: 100.00%\n",
      "Cumulative Accuracy for glass-bowl-medium: 96.55%\n",
      "Cumulative Accuracy for glass-bowl-small: 84.14%\n",
      "Cumulative Accuracy for grill-plate: 10.34%\n",
      "Cumulative Accuracy for group_step: 48.28%\n",
      "Cumulative Accuracy for medium: 80.69%\n",
      "Cumulative Accuracy for oven-dish: 100.00%\n",
      "Cumulative Accuracy for oven-tray: 100.00%\n",
      "Cumulative Accuracy for pan: 97.93%\n",
      "Cumulative Accuracy for pot-one-handle: 81.38%\n",
      "Cumulative Accuracy for pot-two-handles-medium: 17.24%\n",
      "Cumulative Accuracy for pot-two-handles-shallow: 48.28%\n",
      "Cumulative Accuracy for pot-two-handles-small: 64.14%\n",
      "Cumulative Accuracy for saucepan: 100.00%\n",
      "\n",
      "Mean Top 3 Accuracy: 95.29%\n",
      "Mean Top 1 Accuracy: 75.29%\n",
      "Macro-averaged Accuracy: 72.66%\n",
      "Epoch 28 test loss: 22.125\n",
      "\n",
      "[Test - End Epoch 29] GPU Memory: Allocated=2.30GB, Reserved=3.35GB\n",
      "\n",
      "Epoch 30/120\n",
      "[Train - Start Epoch 30] GPU Memory: Allocated=2.30GB, Reserved=3.35GB\n"
     ]
    },
    {
     "name": "stderr",
     "output_type": "stream",
     "text": [
      "\r  0%|          | 0/11.65625 [00:00<?, ?it/s]\r  9%|▊         | 1/11.65625 [00:07<01:22,  7.70s/it]\r 17%|█▋        | 2/11.65625 [00:15<01:14,  7.71s/it]\r 26%|██▌       | 3/11.65625 [00:22<01:05,  7.62s/it]\r 34%|███▍      | 4/11.65625 [00:30<00:58,  7.70s/it]\r 43%|████▎     | 5/11.65625 [00:38<00:51,  7.66s/it]\r 51%|█████▏    | 6/11.65625 [00:45<00:43,  7.64s/it]\r 60%|██████    | 7/11.65625 [00:53<00:35,  7.65s/it]\r 69%|██████▊   | 8/11.65625 [01:01<00:27,  7.63s/it]\r 77%|███████▋  | 9/11.65625 [01:08<00:20,  7.67s/it]\r 86%|████████▌ | 10/11.65625 [01:16<00:12,  7.66s/it]\r 94%|█████████▍| 11/11.65625 [01:24<00:05,  7.66s/it]/databricks/python/lib/python3.11/site-packages/tqdm/std.py:524: TqdmWarning: clamping frac to range [0, 1]\n",
      "  full_bar = Bar(frac,\n",
      "\r103%|██████████| 12/11.65625 [01:32<-1:59:58,  7.69s/it]\r13it [01:39,  7.69s/it]                                 \r14it [01:47,  7.65s/it]\r15it [01:54,  7.64s/it]\r16it [02:02,  7.67s/it]\r17it [02:10,  7.74s/it]\r18it [02:18,  7.68s/it]\r19it [02:25,  7.67s/it]\r20it [02:33,  7.69s/it]\r21it [02:41,  7.72s/it]\r21it [02:41,  7.68s/it]\n"
     ]
    },
    {
     "name": "stdout",
     "output_type": "stream",
     "text": [
      "Epoch 29 train loss: 2.7418136596679688e-06\n",
      "[Train - End / Test - Start Epoch 30] GPU Memory: Allocated=2.30GB, Reserved=3.35GB\n"
     ]
    },
    {
     "name": "stderr",
     "output_type": "stream",
     "text": [
      "\r  0%|          | 0/2.875 [00:00<?, ?it/s]\r 35%|███▍      | 1/2.875 [00:07<00:13,  7.45s/it]\r 70%|██████▉   | 2/2.875 [00:15<00:06,  7.54s/it]\r104%|██████████| 3/2.875 [00:22<00:00,  7.50s/it]\r4it [00:30,  7.54s/it]                           \r5it [00:37,  7.59s/it]\r5it [00:37,  7.56s/it]\n"
     ]
    },
    {
     "name": "stdout",
     "output_type": "stream",
     "text": [
      "Cumulative Accuracy for CP: 82.00%\n",
      "Cumulative Accuracy for chopping-board: 82.00%\n",
      "Cumulative Accuracy for finalstep: 42.67%\n",
      "Cumulative Accuracy for glass-bowl-large: 100.00%\n",
      "Cumulative Accuracy for glass-bowl-medium: 96.67%\n",
      "Cumulative Accuracy for glass-bowl-small: 84.00%\n",
      "Cumulative Accuracy for grill-plate: 10.00%\n",
      "Cumulative Accuracy for group_step: 48.00%\n",
      "Cumulative Accuracy for medium: 80.67%\n",
      "Cumulative Accuracy for oven-dish: 100.00%\n",
      "Cumulative Accuracy for oven-tray: 100.00%\n",
      "Cumulative Accuracy for pan: 98.00%\n",
      "Cumulative Accuracy for pot-one-handle: 81.33%\n",
      "Cumulative Accuracy for pot-two-handles-medium: 16.67%\n",
      "Cumulative Accuracy for pot-two-handles-shallow: 48.00%\n",
      "Cumulative Accuracy for pot-two-handles-small: 64.00%\n",
      "Cumulative Accuracy for saucepan: 100.00%\n",
      "\n",
      "Mean Top 3 Accuracy: 95.29%\n",
      "Mean Top 1 Accuracy: 70.59%\n",
      "Macro-averaged Accuracy: 72.59%\n",
      "Epoch 29 test loss: 23.5625\n",
      "\n",
      "[Test - End Epoch 30] GPU Memory: Allocated=2.30GB, Reserved=3.35GB\n",
      "\n",
      "Epoch 31/120\n",
      "[Train - Start Epoch 31] GPU Memory: Allocated=2.30GB, Reserved=3.35GB\n"
     ]
    },
    {
     "name": "stderr",
     "output_type": "stream",
     "text": [
      "\r  0%|          | 0/11.65625 [00:00<?, ?it/s]\r  9%|▊         | 1/11.65625 [00:07<01:21,  7.65s/it]\r 17%|█▋        | 2/11.65625 [00:15<01:13,  7.57s/it]\r 26%|██▌       | 3/11.65625 [00:22<01:05,  7.61s/it]\r 34%|███▍      | 4/11.65625 [00:30<00:58,  7.59s/it]\r 43%|████▎     | 5/11.65625 [00:38<00:50,  7.64s/it]\r 51%|█████▏    | 6/11.65625 [00:45<00:43,  7.64s/it]\r 60%|██████    | 7/11.65625 [00:53<00:35,  7.60s/it]\r 69%|██████▊   | 8/11.65625 [01:00<00:27,  7.58s/it]\r 77%|███████▋  | 9/11.65625 [01:08<00:20,  7.61s/it]\r 86%|████████▌ | 10/11.65625 [01:16<00:12,  7.65s/it]\r 94%|█████████▍| 11/11.65625 [01:23<00:05,  7.64s/it]/databricks/python/lib/python3.11/site-packages/tqdm/std.py:524: TqdmWarning: clamping frac to range [0, 1]\n",
      "  full_bar = Bar(frac,\n",
      "\r103%|██████████| 12/11.65625 [01:31<-1:59:58,  7.63s/it]\r13it [01:39,  7.65s/it]                                 \r14it [01:46,  7.68s/it]\r15it [01:54,  7.65s/it]\r16it [02:02,  7.64s/it]\r17it [02:09,  7.64s/it]\r18it [02:17,  7.62s/it]\r19it [02:25,  7.64s/it]\r20it [02:32,  7.64s/it]\r21it [02:40,  7.68s/it]\r21it [02:40,  7.64s/it]\n"
     ]
    },
    {
     "name": "stdout",
     "output_type": "stream",
     "text": [
      "Epoch 30 train loss: 3.159046173095703e-06\n",
      "[Checkpoint] Saved under <PATH>/recipe_classifier/checkpoints/2025_01_09/dataset_20dec_small/grid_search/lr_9e-06_wd_0/epoch_30.pt\n",
      "\n",
      "[Train - End / Test - Start Epoch 31] GPU Memory: Allocated=2.06GB, Reserved=3.35GB\n"
     ]
    },
    {
     "name": "stderr",
     "output_type": "stream",
     "text": [
      "\r  0%|          | 0/2.875 [00:00<?, ?it/s]\r 35%|███▍      | 1/2.875 [00:07<00:14,  7.64s/it]\r 70%|██████▉   | 2/2.875 [00:15<00:06,  7.54s/it]\r104%|██████████| 3/2.875 [00:22<00:00,  7.48s/it]\r4it [00:30,  7.56s/it]                           \r5it [00:37,  7.53s/it]\r5it [00:37,  7.54s/it]\n"
     ]
    },
    {
     "name": "stdout",
     "output_type": "stream",
     "text": [
      "Cumulative Accuracy for CP: 81.94%\n",
      "Cumulative Accuracy for chopping-board: 81.94%\n",
      "Cumulative Accuracy for finalstep: 43.23%\n",
      "Cumulative Accuracy for glass-bowl-large: 100.00%\n",
      "Cumulative Accuracy for glass-bowl-medium: 96.77%\n",
      "Cumulative Accuracy for glass-bowl-small: 84.52%\n",
      "Cumulative Accuracy for grill-plate: 9.68%\n",
      "Cumulative Accuracy for group_step: 48.39%\n",
      "Cumulative Accuracy for medium: 80.65%\n",
      "Cumulative Accuracy for oven-dish: 100.00%\n",
      "Cumulative Accuracy for oven-tray: 100.00%\n",
      "Cumulative Accuracy for pan: 98.06%\n",
      "Cumulative Accuracy for pot-one-handle: 81.29%\n",
      "Cumulative Accuracy for pot-two-handles-medium: 16.13%\n",
      "Cumulative Accuracy for pot-two-handles-shallow: 49.03%\n",
      "Cumulative Accuracy for pot-two-handles-small: 63.87%\n",
      "Cumulative Accuracy for saucepan: 100.00%\n",
      "\n",
      "Mean Top 3 Accuracy: 92.94%\n",
      "Mean Top 1 Accuracy: 75.29%\n",
      "Macro-averaged Accuracy: 72.68%\n",
      "Epoch 30 test loss: 22.90625\n",
      "\n",
      "[Test - End Epoch 31] GPU Memory: Allocated=2.06GB, Reserved=3.35GB\n",
      "\n",
      "Epoch 32/120\n",
      "[Train - Start Epoch 32] GPU Memory: Allocated=2.06GB, Reserved=3.35GB\n"
     ]
    },
    {
     "name": "stderr",
     "output_type": "stream",
     "text": [
      "\r  0%|          | 0/11.65625 [00:00<?, ?it/s]\r  9%|▊         | 1/11.65625 [00:07<01:24,  7.91s/it]\r 17%|█▋        | 2/11.65625 [00:15<01:16,  7.88s/it]\r 26%|██▌       | 3/11.65625 [00:23<01:07,  7.79s/it]\r 34%|███▍      | 4/11.65625 [00:31<00:59,  7.73s/it]\r 43%|████▎     | 5/11.65625 [00:38<00:51,  7.66s/it]\r 51%|█████▏    | 6/11.65625 [00:46<00:43,  7.66s/it]\r 60%|██████    | 7/11.65625 [00:54<00:35,  7.70s/it]\r 69%|██████▊   | 8/11.65625 [01:01<00:27,  7.63s/it]\r 77%|███████▋  | 9/11.65625 [01:09<00:20,  7.62s/it]\r 86%|████████▌ | 10/11.65625 [01:17<00:12,  7.74s/it]\r 94%|█████████▍| 11/11.65625 [01:24<00:05,  7.70s/it]/databricks/python/lib/python3.11/site-packages/tqdm/std.py:524: TqdmWarning: clamping frac to range [0, 1]\n",
      "  full_bar = Bar(frac,\n",
      "\r103%|██████████| 12/11.65625 [01:32<-1:59:58,  7.69s/it]\r13it [01:40,  7.67s/it]                                 \r14it [01:47,  7.66s/it]\r15it [01:55,  7.69s/it]\r16it [02:03,  7.72s/it]\r17it [02:10,  7.72s/it]\r18it [02:18,  7.73s/it]\r19it [02:26,  7.68s/it]\r20it [02:33,  7.61s/it]\r21it [02:41,  7.60s/it]\r21it [02:41,  7.68s/it]\n"
     ]
    },
    {
     "name": "stdout",
     "output_type": "stream",
     "text": [
      "Epoch 31 train loss: 2.5033950805664062e-06\n",
      "[Train - End / Test - Start Epoch 32] GPU Memory: Allocated=2.30GB, Reserved=3.35GB\n"
     ]
    },
    {
     "name": "stderr",
     "output_type": "stream",
     "text": [
      "\r  0%|          | 0/2.875 [00:00<?, ?it/s]\r 35%|███▍      | 1/2.875 [00:07<00:14,  7.49s/it]\r 70%|██████▉   | 2/2.875 [00:15<00:06,  7.74s/it]/databricks/python/lib/python3.11/site-packages/tqdm/std.py:524: TqdmWarning: clamping frac to range [0, 1]\n",
      "  full_bar = Bar(frac,\n",
      "\r104%|██████████| 3/2.875 [00:22<00:00,  7.61s/it]\r4it [00:30,  7.55s/it]                           \r5it [00:37,  7.55s/it]\r5it [00:37,  7.57s/it]\n"
     ]
    },
    {
     "name": "stdout",
     "output_type": "stream",
     "text": [
      "Cumulative Accuracy for CP: 82.50%\n",
      "Cumulative Accuracy for chopping-board: 82.50%\n",
      "Cumulative Accuracy for finalstep: 43.12%\n",
      "Cumulative Accuracy for glass-bowl-large: 100.00%\n",
      "Cumulative Accuracy for glass-bowl-medium: 96.88%\n",
      "Cumulative Accuracy for glass-bowl-small: 84.38%\n",
      "Cumulative Accuracy for grill-plate: 9.38%\n",
      "Cumulative Accuracy for group_step: 48.75%\n",
      "Cumulative Accuracy for medium: 80.62%\n",
      "Cumulative Accuracy for oven-dish: 100.00%\n",
      "Cumulative Accuracy for oven-tray: 100.00%\n",
      "Cumulative Accuracy for pan: 98.12%\n",
      "Cumulative Accuracy for pot-one-handle: 81.25%\n",
      "Cumulative Accuracy for pot-two-handles-medium: 15.62%\n",
      "Cumulative Accuracy for pot-two-handles-shallow: 48.12%\n",
      "Cumulative Accuracy for pot-two-handles-small: 63.75%\n",
      "Cumulative Accuracy for saucepan: 100.00%\n",
      "\n",
      "Mean Top 3 Accuracy: 95.29%\n",
      "Mean Top 1 Accuracy: 71.76%\n",
      "Macro-averaged Accuracy: 72.65%\n",
      "Epoch 31 test loss: 22.25\n",
      "\n",
      "[Test - End Epoch 32] GPU Memory: Allocated=2.30GB, Reserved=3.35GB\n",
      "\n",
      "Epoch 33/120\n",
      "[Train - Start Epoch 33] GPU Memory: Allocated=2.30GB, Reserved=3.35GB\n"
     ]
    },
    {
     "name": "stderr",
     "output_type": "stream",
     "text": [
      "\r  0%|          | 0/11.65625 [00:00<?, ?it/s]\r  9%|▊         | 1/11.65625 [00:07<01:21,  7.67s/it]\r 17%|█▋        | 2/11.65625 [00:15<01:13,  7.66s/it]\r 26%|██▌       | 3/11.65625 [00:22<01:06,  7.66s/it]\r 34%|███▍      | 4/11.65625 [00:30<00:58,  7.61s/it]\r 43%|████▎     | 5/11.65625 [00:38<00:50,  7.61s/it]\r 51%|█████▏    | 6/11.65625 [00:45<00:42,  7.60s/it]\r 60%|██████    | 7/11.65625 [00:53<00:35,  7.59s/it]\r 69%|██████▊   | 8/11.65625 [01:00<00:27,  7.62s/it]\r 77%|███████▋  | 9/11.65625 [01:08<00:20,  7.63s/it]\r 86%|████████▌ | 10/11.65625 [01:15<00:12,  7.56s/it]\r 94%|█████████▍| 11/11.65625 [01:23<00:04,  7.59s/it]/databricks/python/lib/python3.11/site-packages/tqdm/std.py:524: TqdmWarning: clamping frac to range [0, 1]\n",
      "  full_bar = Bar(frac,\n",
      "\r103%|██████████| 12/11.65625 [01:31<-1:59:58,  7.64s/it]\r13it [01:39,  7.63s/it]                                 \r14it [01:46,  7.65s/it]\r15it [01:54,  7.70s/it]\r16it [02:02,  7.68s/it]\r17it [02:09,  7.71s/it]\r18it [02:17,  7.69s/it]\r19it [02:25,  7.69s/it]\r20it [02:32,  7.69s/it]\r21it [02:40,  7.62s/it]\r21it [02:40,  7.64s/it]\n"
     ]
    },
    {
     "name": "stdout",
     "output_type": "stream",
     "text": [
      "Epoch 32 train loss: 3.3974647521972656e-06\n",
      "[Train - End / Test - Start Epoch 33] GPU Memory: Allocated=2.30GB, Reserved=3.35GB\n"
     ]
    },
    {
     "name": "stderr",
     "output_type": "stream",
     "text": [
      "\r  0%|          | 0/2.875 [00:00<?, ?it/s]\r 35%|███▍      | 1/2.875 [00:07<00:14,  7.70s/it]\r 70%|██████▉   | 2/2.875 [00:15<00:06,  7.70s/it]\r104%|██████████| 3/2.875 [00:22<00:00,  7.60s/it]\r4it [00:30,  7.55s/it]                           \r5it [00:37,  7.57s/it]\r5it [00:37,  7.59s/it]\n"
     ]
    },
    {
     "name": "stdout",
     "output_type": "stream",
     "text": [
      "Cumulative Accuracy for CP: 82.42%\n",
      "Cumulative Accuracy for chopping-board: 83.03%\n",
      "Cumulative Accuracy for finalstep: 43.64%\n",
      "Cumulative Accuracy for glass-bowl-large: 100.00%\n",
      "Cumulative Accuracy for glass-bowl-medium: 96.97%\n",
      "Cumulative Accuracy for glass-bowl-small: 84.24%\n",
      "Cumulative Accuracy for grill-plate: 9.09%\n",
      "Cumulative Accuracy for group_step: 49.09%\n",
      "Cumulative Accuracy for medium: 80.61%\n",
      "Cumulative Accuracy for oven-dish: 100.00%\n",
      "Cumulative Accuracy for oven-tray: 100.00%\n",
      "Cumulative Accuracy for pan: 98.18%\n",
      "Cumulative Accuracy for pot-one-handle: 81.21%\n",
      "Cumulative Accuracy for pot-two-handles-medium: 15.15%\n",
      "Cumulative Accuracy for pot-two-handles-shallow: 47.88%\n",
      "Cumulative Accuracy for pot-two-handles-small: 64.85%\n",
      "Cumulative Accuracy for saucepan: 100.00%\n",
      "\n",
      "Mean Top 3 Accuracy: 94.12%\n",
      "Mean Top 1 Accuracy: 75.29%\n",
      "Macro-averaged Accuracy: 72.73%\n",
      "Epoch 32 test loss: 20.078125\n",
      "\n",
      "[Test - End Epoch 33] GPU Memory: Allocated=2.30GB, Reserved=3.35GB\n",
      "\n",
      "Epoch 34/120\n",
      "[Train - Start Epoch 34] GPU Memory: Allocated=2.30GB, Reserved=3.35GB\n"
     ]
    },
    {
     "name": "stderr",
     "output_type": "stream",
     "text": [
      "\r  0%|          | 0/11.65625 [00:00<?, ?it/s]\r  9%|▊         | 1/11.65625 [00:07<01:22,  7.77s/it]\r 17%|█▋        | 2/11.65625 [00:15<01:15,  7.81s/it]\r 26%|██▌       | 3/11.65625 [00:23<01:06,  7.70s/it]\r 34%|███▍      | 4/11.65625 [00:30<00:58,  7.67s/it]\r 43%|████▎     | 5/11.65625 [00:38<00:50,  7.65s/it]\r 51%|█████▏    | 6/11.65625 [00:46<00:43,  7.68s/it]\r 60%|██████    | 7/11.65625 [00:53<00:35,  7.69s/it]\r 69%|██████▊   | 8/11.65625 [01:01<00:28,  7.74s/it]\r 77%|███████▋  | 9/11.65625 [01:09<00:20,  7.69s/it]\r 86%|████████▌ | 10/11.65625 [01:16<00:12,  7.69s/it]\r 94%|█████████▍| 11/11.65625 [01:24<00:05,  7.64s/it]/databricks/python/lib/python3.11/site-packages/tqdm/std.py:524: TqdmWarning: clamping frac to range [0, 1]\n",
      "  full_bar = Bar(frac,\n",
      "\r103%|██████████| 12/11.65625 [01:32<-1:59:58,  7.68s/it]\r13it [01:39,  7.67s/it]                                 \r14it [01:47,  7.63s/it]\r15it [01:55,  7.64s/it]\r16it [02:02,  7.63s/it]\r17it [02:10,  7.63s/it]\r18it [02:18,  7.63s/it]\r19it [02:25,  7.67s/it]\r20it [02:33,  7.71s/it]\r21it [02:41,  7.71s/it]\r21it [02:41,  7.68s/it]\n"
     ]
    },
    {
     "name": "stdout",
     "output_type": "stream",
     "text": [
      "Epoch 33 train loss: 5.9604644775390625e-06\n",
      "[Train - End / Test - Start Epoch 34] GPU Memory: Allocated=2.30GB, Reserved=3.35GB\n"
     ]
    },
    {
     "name": "stderr",
     "output_type": "stream",
     "text": [
      "\r  0%|          | 0/2.875 [00:00<?, ?it/s]\r 35%|███▍      | 1/2.875 [00:07<00:13,  7.42s/it]\r 70%|██████▉   | 2/2.875 [00:14<00:06,  7.51s/it]\r104%|██████████| 3/2.875 [00:22<00:00,  7.53s/it]\r4it [00:30,  7.59s/it]                           \r5it [00:37,  7.53s/it]\r5it [00:37,  7.53s/it]\n"
     ]
    },
    {
     "name": "stdout",
     "output_type": "stream",
     "text": [
      "Cumulative Accuracy for CP: 82.35%\n",
      "Cumulative Accuracy for chopping-board: 82.94%\n",
      "Cumulative Accuracy for finalstep: 43.53%\n",
      "Cumulative Accuracy for glass-bowl-large: 100.00%\n",
      "Cumulative Accuracy for glass-bowl-medium: 97.06%\n",
      "Cumulative Accuracy for glass-bowl-small: 84.71%\n",
      "Cumulative Accuracy for grill-plate: 8.82%\n",
      "Cumulative Accuracy for group_step: 49.41%\n",
      "Cumulative Accuracy for medium: 80.59%\n",
      "Cumulative Accuracy for oven-dish: 100.00%\n",
      "Cumulative Accuracy for oven-tray: 100.00%\n",
      "Cumulative Accuracy for pan: 98.24%\n",
      "Cumulative Accuracy for pot-one-handle: 81.18%\n",
      "Cumulative Accuracy for pot-two-handles-medium: 14.71%\n",
      "Cumulative Accuracy for pot-two-handles-shallow: 48.24%\n",
      "Cumulative Accuracy for pot-two-handles-small: 64.71%\n",
      "Cumulative Accuracy for saucepan: 100.00%\n",
      "\n",
      "Mean Top 3 Accuracy: 91.76%\n",
      "Mean Top 1 Accuracy: 72.94%\n",
      "Macro-averaged Accuracy: 72.73%\n",
      "Epoch 33 test loss: 22.765625\n",
      "\n",
      "[Test - End Epoch 34] GPU Memory: Allocated=2.30GB, Reserved=3.35GB\n",
      "\n",
      "Epoch 35/120\n",
      "[Train - Start Epoch 35] GPU Memory: Allocated=2.30GB, Reserved=3.35GB\n"
     ]
    },
    {
     "name": "stderr",
     "output_type": "stream",
     "text": [
      "\r  0%|          | 0/11.65625 [00:00<?, ?it/s]\r  9%|▊         | 1/11.65625 [00:07<01:21,  7.69s/it]\r 17%|█▋        | 2/11.65625 [00:15<01:13,  7.62s/it]\r 26%|██▌       | 3/11.65625 [00:22<01:05,  7.59s/it]\r 34%|███▍      | 4/11.65625 [00:30<00:58,  7.59s/it]\r 43%|████▎     | 5/11.65625 [00:38<00:50,  7.63s/it]\r 51%|█████▏    | 6/11.65625 [00:45<00:43,  7.68s/it]\r 60%|██████    | 7/11.65625 [00:54<00:36,  7.85s/it]\r 69%|██████▊   | 8/11.65625 [01:01<00:28,  7.76s/it]\r 77%|███████▋  | 9/11.65625 [01:09<00:20,  7.78s/it]\r 86%|████████▌ | 10/11.65625 [01:17<00:12,  7.81s/it]\r 94%|█████████▍| 11/11.65625 [01:24<00:05,  7.75s/it]/databricks/python/lib/python3.11/site-packages/tqdm/std.py:524: TqdmWarning: clamping frac to range [0, 1]\n",
      "  full_bar = Bar(frac,\n",
      "\r103%|██████████| 12/11.65625 [01:32<-1:59:58,  7.71s/it]\r13it [01:40,  7.70s/it]                                 \r14it [01:47,  7.69s/it]\r15it [01:55,  7.70s/it]\r16it [02:03,  7.73s/it]\r17it [02:11,  7.68s/it]\r18it [02:18,  7.66s/it]\r19it [02:26,  7.69s/it]\r20it [02:34,  7.71s/it]\r21it [02:41,  7.72s/it]\r21it [02:41,  7.71s/it]\n"
     ]
    },
    {
     "name": "stdout",
     "output_type": "stream",
     "text": [
      "Epoch 34 train loss: 2.8014183044433594e-06\n",
      "[Train - End / Test - Start Epoch 35] GPU Memory: Allocated=2.30GB, Reserved=3.35GB\n"
     ]
    },
    {
     "name": "stderr",
     "output_type": "stream",
     "text": [
      "\r  0%|          | 0/2.875 [00:00<?, ?it/s]\r 35%|███▍      | 1/2.875 [00:07<00:14,  7.47s/it]\r 70%|██████▉   | 2/2.875 [00:15<00:06,  7.57s/it]\r104%|██████████| 3/2.875 [00:22<00:00,  7.53s/it]\r4it [00:30,  7.51s/it]                           \r5it [00:37,  7.50s/it]\r5it [00:37,  7.51s/it]\n"
     ]
    },
    {
     "name": "stdout",
     "output_type": "stream",
     "text": [
      "Cumulative Accuracy for CP: 82.86%\n",
      "Cumulative Accuracy for chopping-board: 82.86%\n",
      "Cumulative Accuracy for finalstep: 43.43%\n",
      "Cumulative Accuracy for glass-bowl-large: 100.00%\n",
      "Cumulative Accuracy for glass-bowl-medium: 97.14%\n",
      "Cumulative Accuracy for glass-bowl-small: 84.57%\n",
      "Cumulative Accuracy for grill-plate: 8.57%\n",
      "Cumulative Accuracy for group_step: 49.71%\n",
      "Cumulative Accuracy for medium: 80.57%\n",
      "Cumulative Accuracy for oven-dish: 100.00%\n",
      "Cumulative Accuracy for oven-tray: 100.00%\n",
      "Cumulative Accuracy for pan: 98.29%\n",
      "Cumulative Accuracy for pot-one-handle: 81.14%\n",
      "Cumulative Accuracy for pot-two-handles-medium: 14.29%\n",
      "Cumulative Accuracy for pot-two-handles-shallow: 48.00%\n",
      "Cumulative Accuracy for pot-two-handles-small: 64.57%\n",
      "Cumulative Accuracy for saucepan: 100.00%\n",
      "\n",
      "Mean Top 3 Accuracy: 95.29%\n",
      "Mean Top 1 Accuracy: 71.76%\n",
      "Macro-averaged Accuracy: 72.71%\n",
      "Epoch 34 test loss: 21.71875\n",
      "\n",
      "[Test - End Epoch 35] GPU Memory: Allocated=2.30GB, Reserved=3.35GB\n",
      "\n",
      "Epoch 36/120\n",
      "[Train - Start Epoch 36] GPU Memory: Allocated=2.30GB, Reserved=3.35GB\n"
     ]
    },
    {
     "name": "stderr",
     "output_type": "stream",
     "text": [
      "\r  0%|          | 0/11.65625 [00:00<?, ?it/s]\r  9%|▊         | 1/11.65625 [00:07<01:22,  7.78s/it]\r 17%|█▋        | 2/11.65625 [00:15<01:14,  7.70s/it]\r 26%|██▌       | 3/11.65625 [00:23<01:06,  7.67s/it]\r 34%|███▍      | 4/11.65625 [00:30<00:58,  7.69s/it]\r 43%|████▎     | 5/11.65625 [00:38<00:51,  7.68s/it]\r 51%|█████▏    | 6/11.65625 [00:46<00:43,  7.69s/it]\r 60%|██████    | 7/11.65625 [00:53<00:35,  7.70s/it]\r 69%|██████▊   | 8/11.65625 [01:01<00:28,  7.66s/it]\r 77%|███████▋  | 9/11.65625 [01:09<00:20,  7.67s/it]\r 86%|████████▌ | 10/11.65625 [01:16<00:12,  7.70s/it]\r 94%|█████████▍| 11/11.65625 [01:24<00:05,  7.65s/it]/databricks/python/lib/python3.11/site-packages/tqdm/std.py:524: TqdmWarning: clamping frac to range [0, 1]\n",
      "  full_bar = Bar(frac,\n",
      "\r103%|██████████| 12/11.65625 [01:32<-1:59:58,  7.64s/it]\r13it [01:39,  7.64s/it]                                 \r14it [01:47,  7.66s/it]\r15it [01:55,  7.69s/it]\r16it [02:02,  7.72s/it]\r17it [02:10,  7.71s/it]\r18it [02:18,  7.67s/it]\r19it [02:26,  7.75s/it]\r20it [02:34,  7.78s/it]\r21it [02:41,  7.78s/it]\r21it [02:41,  7.70s/it]\n"
     ]
    },
    {
     "name": "stdout",
     "output_type": "stream",
     "text": [
      "Epoch 35 train loss: 3.874301910400391e-06\n",
      "[Train - End / Test - Start Epoch 36] GPU Memory: Allocated=2.30GB, Reserved=3.35GB\n"
     ]
    },
    {
     "name": "stderr",
     "output_type": "stream",
     "text": [
      "\r  0%|          | 0/2.875 [00:00<?, ?it/s]\r 35%|███▍      | 1/2.875 [00:07<00:14,  7.56s/it]\r 70%|██████▉   | 2/2.875 [00:15<00:06,  7.53s/it]\r104%|██████████| 3/2.875 [00:22<00:00,  7.54s/it]\r4it [00:30,  7.52s/it]                           \r5it [00:37,  7.46s/it]\r5it [00:37,  7.50s/it]\n"
     ]
    },
    {
     "name": "stdout",
     "output_type": "stream",
     "text": [
      "Cumulative Accuracy for CP: 82.78%\n",
      "Cumulative Accuracy for chopping-board: 82.78%\n",
      "Cumulative Accuracy for finalstep: 43.89%\n",
      "Cumulative Accuracy for glass-bowl-large: 100.00%\n",
      "Cumulative Accuracy for glass-bowl-medium: 97.22%\n",
      "Cumulative Accuracy for glass-bowl-small: 84.44%\n",
      "Cumulative Accuracy for grill-plate: 8.33%\n",
      "Cumulative Accuracy for group_step: 50.56%\n",
      "Cumulative Accuracy for medium: 80.56%\n",
      "Cumulative Accuracy for oven-dish: 100.00%\n",
      "Cumulative Accuracy for oven-tray: 100.00%\n",
      "Cumulative Accuracy for pan: 98.33%\n",
      "Cumulative Accuracy for pot-one-handle: 81.11%\n",
      "Cumulative Accuracy for pot-two-handles-medium: 13.89%\n",
      "Cumulative Accuracy for pot-two-handles-shallow: 48.33%\n",
      "Cumulative Accuracy for pot-two-handles-small: 64.44%\n",
      "Cumulative Accuracy for saucepan: 100.00%\n",
      "\n",
      "Mean Top 3 Accuracy: 94.12%\n",
      "Mean Top 1 Accuracy: 74.12%\n",
      "Macro-averaged Accuracy: 72.75%\n",
      "Epoch 35 test loss: 21.546875\n",
      "\n",
      "[Test - End Epoch 36] GPU Memory: Allocated=2.30GB, Reserved=3.35GB\n",
      "\n",
      "Epoch 37/120\n",
      "[Train - Start Epoch 37] GPU Memory: Allocated=2.30GB, Reserved=3.35GB\n"
     ]
    },
    {
     "name": "stderr",
     "output_type": "stream",
     "text": [
      "\r  0%|          | 0/11.65625 [00:00<?, ?it/s]\r  9%|▊         | 1/11.65625 [00:07<01:21,  7.67s/it]\r 17%|█▋        | 2/11.65625 [00:15<01:13,  7.63s/it]\r 26%|██▌       | 3/11.65625 [00:22<01:05,  7.59s/it]\r 34%|███▍      | 4/11.65625 [00:30<00:58,  7.60s/it]\r 43%|████▎     | 5/11.65625 [00:38<00:50,  7.64s/it]\r 51%|█████▏    | 6/11.65625 [00:45<00:43,  7.66s/it]\r 60%|██████    | 7/11.65625 [00:53<00:35,  7.70s/it]\r 69%|██████▊   | 8/11.65625 [01:01<00:28,  7.81s/it]\r 77%|███████▋  | 9/11.65625 [01:09<00:20,  7.75s/it]\r 86%|████████▌ | 10/11.65625 [01:16<00:12,  7.74s/it]\r 94%|█████████▍| 11/11.65625 [01:24<00:05,  7.74s/it]/databricks/python/lib/python3.11/site-packages/tqdm/std.py:524: TqdmWarning: clamping frac to range [0, 1]\n",
      "  full_bar = Bar(frac,\n",
      "\r103%|██████████| 12/11.65625 [01:32<-1:59:58,  7.72s/it]\r13it [01:39,  7.67s/it]                                 \r14it [01:47,  7.68s/it]\r15it [01:55,  7.67s/it]\r16it [02:02,  7.66s/it]\r17it [02:10,  7.71s/it]\r18it [02:18,  7.71s/it]\r19it [02:26,  7.68s/it]\r20it [02:33,  7.72s/it]\r21it [02:41,  7.68s/it]\r21it [02:41,  7.69s/it]\n"
     ]
    },
    {
     "name": "stdout",
     "output_type": "stream",
     "text": [
      "Epoch 36 train loss: 2.682209014892578e-06\n",
      "[Train - End / Test - Start Epoch 37] GPU Memory: Allocated=2.30GB, Reserved=3.35GB\n"
     ]
    },
    {
     "name": "stderr",
     "output_type": "stream",
     "text": [
      "\r  0%|          | 0/2.875 [00:00<?, ?it/s]\r 35%|███▍      | 1/2.875 [00:07<00:14,  7.53s/it]\r 70%|██████▉   | 2/2.875 [00:15<00:06,  7.58s/it]\r104%|██████████| 3/2.875 [00:22<00:00,  7.47s/it]\r4it [00:29,  7.47s/it]                           \r5it [00:37,  7.52s/it]\r5it [00:37,  7.51s/it]\n"
     ]
    },
    {
     "name": "stdout",
     "output_type": "stream",
     "text": [
      "Cumulative Accuracy for CP: 83.24%\n",
      "Cumulative Accuracy for chopping-board: 82.70%\n",
      "Cumulative Accuracy for finalstep: 43.78%\n",
      "Cumulative Accuracy for glass-bowl-large: 100.00%\n",
      "Cumulative Accuracy for glass-bowl-medium: 97.30%\n",
      "Cumulative Accuracy for glass-bowl-small: 84.86%\n",
      "Cumulative Accuracy for grill-plate: 8.11%\n",
      "Cumulative Accuracy for group_step: 49.73%\n",
      "Cumulative Accuracy for medium: 80.54%\n",
      "Cumulative Accuracy for oven-dish: 100.00%\n",
      "Cumulative Accuracy for oven-tray: 100.00%\n",
      "Cumulative Accuracy for pan: 98.38%\n",
      "Cumulative Accuracy for pot-one-handle: 81.08%\n",
      "Cumulative Accuracy for pot-two-handles-medium: 13.51%\n",
      "Cumulative Accuracy for pot-two-handles-shallow: 47.57%\n",
      "Cumulative Accuracy for pot-two-handles-small: 64.86%\n",
      "Cumulative Accuracy for saucepan: 100.00%\n",
      "\n",
      "Mean Top 3 Accuracy: 95.29%\n",
      "Mean Top 1 Accuracy: 70.59%\n",
      "Macro-averaged Accuracy: 72.69%\n",
      "Epoch 36 test loss: 22.1875\n",
      "\n",
      "[Test - End Epoch 37] GPU Memory: Allocated=2.30GB, Reserved=3.35GB\n",
      "\n",
      "Epoch 38/120\n",
      "[Train - Start Epoch 38] GPU Memory: Allocated=2.30GB, Reserved=3.35GB\n"
     ]
    },
    {
     "name": "stderr",
     "output_type": "stream",
     "text": [
      "\r  0%|          | 0/11.65625 [00:00<?, ?it/s]\r  9%|▊         | 1/11.65625 [00:07<01:21,  7.66s/it]\r 17%|█▋        | 2/11.65625 [00:15<01:13,  7.65s/it]\r 26%|██▌       | 3/11.65625 [00:23<01:07,  7.77s/it]\r 34%|███▍      | 4/11.65625 [00:31<00:59,  7.80s/it]\r 43%|████▎     | 5/11.65625 [00:38<00:51,  7.77s/it]\r 51%|█████▏    | 6/11.65625 [00:46<00:43,  7.75s/it]\r 60%|██████    | 7/11.65625 [00:53<00:35,  7.65s/it]\r 69%|██████▊   | 8/11.65625 [01:01<00:28,  7.71s/it]\r 77%|███████▋  | 9/11.65625 [01:09<00:20,  7.73s/it]\r 86%|████████▌ | 10/11.65625 [01:17<00:12,  7.77s/it]\r 94%|█████████▍| 11/11.65625 [01:24<00:05,  7.72s/it]/databricks/python/lib/python3.11/site-packages/tqdm/std.py:524: TqdmWarning: clamping frac to range [0, 1]\n",
      "  full_bar = Bar(frac,\n",
      "\r103%|██████████| 12/11.65625 [01:32<-1:59:58,  7.73s/it]\r13it [01:40,  7.77s/it]                                 \r14it [01:48,  7.77s/it]\r15it [01:56,  7.76s/it]\r16it [02:03,  7.74s/it]\r17it [02:11,  7.75s/it]\r18it [02:19,  7.74s/it]\r19it [02:26,  7.71s/it]\r20it [02:34,  7.72s/it]\r21it [02:42,  7.76s/it]\r21it [02:42,  7.74s/it]\n"
     ]
    },
    {
     "name": "stdout",
     "output_type": "stream",
     "text": [
      "Epoch 37 train loss: 3.635883331298828e-06\n",
      "[Train - End / Test - Start Epoch 38] GPU Memory: Allocated=2.30GB, Reserved=3.35GB\n"
     ]
    },
    {
     "name": "stderr",
     "output_type": "stream",
     "text": [
      "\r  0%|          | 0/2.875 [00:00<?, ?it/s]\r 35%|███▍      | 1/2.875 [00:07<00:14,  7.64s/it]\r 70%|██████▉   | 2/2.875 [00:15<00:06,  7.64s/it]\r104%|██████████| 3/2.875 [00:22<00:00,  7.58s/it]\r4it [00:30,  7.48s/it]                           \r5it [00:37,  7.50s/it]\r5it [00:37,  7.53s/it]\n"
     ]
    },
    {
     "name": "stdout",
     "output_type": "stream",
     "text": [
      "Cumulative Accuracy for CP: 83.16%\n",
      "Cumulative Accuracy for chopping-board: 83.16%\n",
      "Cumulative Accuracy for finalstep: 44.21%\n",
      "Cumulative Accuracy for glass-bowl-large: 100.00%\n",
      "Cumulative Accuracy for glass-bowl-medium: 97.37%\n",
      "Cumulative Accuracy for glass-bowl-small: 84.74%\n",
      "Cumulative Accuracy for grill-plate: 7.89%\n",
      "Cumulative Accuracy for group_step: 50.53%\n",
      "Cumulative Accuracy for medium: 80.53%\n",
      "Cumulative Accuracy for oven-dish: 100.00%\n",
      "Cumulative Accuracy for oven-tray: 100.00%\n",
      "Cumulative Accuracy for pan: 98.42%\n",
      "Cumulative Accuracy for pot-one-handle: 81.05%\n",
      "Cumulative Accuracy for pot-two-handles-medium: 13.16%\n",
      "Cumulative Accuracy for pot-two-handles-shallow: 48.42%\n",
      "Cumulative Accuracy for pot-two-handles-small: 64.21%\n",
      "Cumulative Accuracy for saucepan: 100.00%\n",
      "\n",
      "Mean Top 3 Accuracy: 92.94%\n",
      "Mean Top 1 Accuracy: 75.29%\n",
      "Macro-averaged Accuracy: 72.76%\n",
      "Epoch 37 test loss: 22.40625\n",
      "\n",
      "[Test - End Epoch 38] GPU Memory: Allocated=2.30GB, Reserved=3.35GB\n",
      "\n",
      "Epoch 39/120\n",
      "[Train - Start Epoch 39] GPU Memory: Allocated=2.30GB, Reserved=3.35GB\n"
     ]
    },
    {
     "name": "stderr",
     "output_type": "stream",
     "text": [
      "\r  0%|          | 0/11.65625 [00:00<?, ?it/s]\r  9%|▊         | 1/11.65625 [00:07<01:21,  7.64s/it]\r 17%|█▋        | 2/11.65625 [00:15<01:14,  7.71s/it]\r 26%|██▌       | 3/11.65625 [00:22<01:05,  7.62s/it]\r 34%|███▍      | 4/11.65625 [00:30<00:58,  7.67s/it]\r 43%|████▎     | 5/11.65625 [00:38<00:51,  7.69s/it]\r 51%|█████▏    | 6/11.65625 [00:45<00:43,  7.62s/it]\r 60%|██████    | 7/11.65625 [00:53<00:35,  7.64s/it]\r 69%|██████▊   | 8/11.65625 [01:01<00:28,  7.66s/it]\r 77%|███████▋  | 9/11.65625 [01:08<00:20,  7.68s/it]\r 86%|████████▌ | 10/11.65625 [01:16<00:12,  7.67s/it]\r 94%|█████████▍| 11/11.65625 [01:24<00:05,  7.66s/it]/databricks/python/lib/python3.11/site-packages/tqdm/std.py:524: TqdmWarning: clamping frac to range [0, 1]\n",
      "  full_bar = Bar(frac,\n",
      "\r103%|██████████| 12/11.65625 [01:31<-1:59:58,  7.63s/it]\r13it [01:39,  7.66s/it]                                 \r14it [01:47,  7.61s/it]\r15it [01:54,  7.62s/it]\r16it [02:02,  7.65s/it]\r17it [02:10,  7.69s/it]\r18it [02:17,  7.67s/it]\r19it [02:25,  7.72s/it]\r20it [02:33,  7.68s/it]\r21it [02:40,  7.67s/it]\r21it [02:40,  7.66s/it]\n"
     ]
    },
    {
     "name": "stdout",
     "output_type": "stream",
     "text": [
      "Epoch 38 train loss: 4.231929779052734e-06\n",
      "[Train - End / Test - Start Epoch 39] GPU Memory: Allocated=2.30GB, Reserved=3.35GB\n"
     ]
    },
    {
     "name": "stderr",
     "output_type": "stream",
     "text": [
      "\r  0%|          | 0/2.875 [00:00<?, ?it/s]\r 35%|███▍      | 1/2.875 [00:07<00:14,  7.47s/it]\r 70%|██████▉   | 2/2.875 [00:14<00:06,  7.43s/it]\r104%|██████████| 3/2.875 [00:22<00:00,  7.49s/it]\r4it [00:29,  7.47s/it]                           \r5it [00:37,  7.50s/it]\r5it [00:37,  7.48s/it]\n"
     ]
    },
    {
     "name": "stdout",
     "output_type": "stream",
     "text": [
      "Cumulative Accuracy for CP: 83.59%\n",
      "Cumulative Accuracy for chopping-board: 83.08%\n",
      "Cumulative Accuracy for finalstep: 44.10%\n",
      "Cumulative Accuracy for glass-bowl-large: 100.00%\n",
      "Cumulative Accuracy for glass-bowl-medium: 97.44%\n",
      "Cumulative Accuracy for glass-bowl-small: 84.62%\n",
      "Cumulative Accuracy for grill-plate: 7.69%\n",
      "Cumulative Accuracy for group_step: 50.26%\n",
      "Cumulative Accuracy for medium: 80.51%\n",
      "Cumulative Accuracy for oven-dish: 100.00%\n",
      "Cumulative Accuracy for oven-tray: 100.00%\n",
      "Cumulative Accuracy for pan: 98.46%\n",
      "Cumulative Accuracy for pot-one-handle: 81.03%\n",
      "Cumulative Accuracy for pot-two-handles-medium: 12.82%\n",
      "Cumulative Accuracy for pot-two-handles-shallow: 48.72%\n",
      "Cumulative Accuracy for pot-two-handles-small: 64.62%\n",
      "Cumulative Accuracy for saucepan: 100.00%\n",
      "\n",
      "Mean Top 3 Accuracy: 96.47%\n",
      "Mean Top 1 Accuracy: 72.94%\n",
      "Macro-averaged Accuracy: 72.76%\n",
      "Epoch 38 test loss: 22.28125\n",
      "\n",
      "[Test - End Epoch 39] GPU Memory: Allocated=2.30GB, Reserved=3.35GB\n",
      "\n",
      "Epoch 40/120\n",
      "[Train - Start Epoch 40] GPU Memory: Allocated=2.30GB, Reserved=3.35GB\n"
     ]
    },
    {
     "name": "stderr",
     "output_type": "stream",
     "text": [
      "\r  0%|          | 0/11.65625 [00:00<?, ?it/s]\r  9%|▊         | 1/11.65625 [00:07<01:21,  7.62s/it]\r 17%|█▋        | 2/11.65625 [00:15<01:14,  7.68s/it]\r 26%|██▌       | 3/11.65625 [00:22<01:06,  7.63s/it]\r 34%|███▍      | 4/11.65625 [00:30<00:58,  7.67s/it]\r 43%|████▎     | 5/11.65625 [00:38<00:50,  7.66s/it]\r 51%|█████▏    | 6/11.65625 [00:46<00:43,  7.71s/it]\r 60%|██████    | 7/11.65625 [00:53<00:35,  7.68s/it]\r 69%|██████▊   | 8/11.65625 [01:01<00:28,  7.69s/it]\r 77%|███████▋  | 9/11.65625 [01:09<00:20,  7.67s/it]\r 86%|████████▌ | 10/11.65625 [01:16<00:12,  7.64s/it]\r 94%|█████████▍| 11/11.65625 [01:24<00:05,  7.62s/it]/databricks/python/lib/python3.11/site-packages/tqdm/std.py:524: TqdmWarning: clamping frac to range [0, 1]\n",
      "  full_bar = Bar(frac,\n",
      "\r103%|██████████| 12/11.65625 [01:31<-1:59:58,  7.60s/it]\r13it [01:39,  7.54s/it]                                 \r14it [01:46,  7.55s/it]\r15it [01:54,  7.54s/it]\r16it [02:01,  7.56s/it]\r17it [02:09,  7.57s/it]\r18it [02:17,  7.63s/it]\r19it [02:24,  7.62s/it]\r20it [02:32,  7.60s/it]\r21it [02:40,  7.63s/it]\r21it [02:40,  7.62s/it]\n"
     ]
    },
    {
     "name": "stdout",
     "output_type": "stream",
     "text": [
      "Epoch 39 train loss: 3.4570693969726562e-06\n",
      "[Train - End / Test - Start Epoch 40] GPU Memory: Allocated=2.30GB, Reserved=3.35GB\n"
     ]
    },
    {
     "name": "stderr",
     "output_type": "stream",
     "text": [
      "\r  0%|          | 0/2.875 [00:00<?, ?it/s]\r 35%|███▍      | 1/2.875 [00:07<00:14,  7.62s/it]\r 70%|██████▉   | 2/2.875 [00:15<00:06,  7.53s/it]\r104%|██████████| 3/2.875 [00:22<00:00,  7.44s/it]\r4it [00:29,  7.45s/it]                           \r5it [00:37,  7.49s/it]\r5it [00:37,  7.49s/it]\n"
     ]
    },
    {
     "name": "stdout",
     "output_type": "stream",
     "text": [
      "Cumulative Accuracy for CP: 83.50%\n",
      "Cumulative Accuracy for chopping-board: 83.50%\n",
      "Cumulative Accuracy for finalstep: 44.50%\n",
      "Cumulative Accuracy for glass-bowl-large: 100.00%\n",
      "Cumulative Accuracy for glass-bowl-medium: 97.50%\n",
      "Cumulative Accuracy for glass-bowl-small: 84.50%\n",
      "Cumulative Accuracy for grill-plate: 7.50%\n",
      "Cumulative Accuracy for group_step: 50.50%\n",
      "Cumulative Accuracy for medium: 80.50%\n",
      "Cumulative Accuracy for oven-dish: 100.00%\n",
      "Cumulative Accuracy for oven-tray: 100.00%\n",
      "Cumulative Accuracy for pan: 98.50%\n",
      "Cumulative Accuracy for pot-one-handle: 81.00%\n",
      "Cumulative Accuracy for pot-two-handles-medium: 12.50%\n",
      "Cumulative Accuracy for pot-two-handles-shallow: 48.50%\n",
      "Cumulative Accuracy for pot-two-handles-small: 64.50%\n",
      "Cumulative Accuracy for saucepan: 100.00%\n",
      "\n",
      "Mean Top 3 Accuracy: 92.94%\n",
      "Mean Top 1 Accuracy: 72.94%\n",
      "Macro-averaged Accuracy: 72.76%\n",
      "Epoch 39 test loss: 23.0625\n",
      "\n",
      "[Test - End Epoch 40] GPU Memory: Allocated=2.30GB, Reserved=3.35GB\n",
      "\n",
      "Epoch 41/120\n",
      "[Train - Start Epoch 41] GPU Memory: Allocated=2.30GB, Reserved=3.35GB\n"
     ]
    },
    {
     "name": "stderr",
     "output_type": "stream",
     "text": [
      "\r  0%|          | 0/11.65625 [00:00<?, ?it/s]\r  9%|▊         | 1/11.65625 [00:07<01:21,  7.63s/it]\r 17%|█▋        | 2/11.65625 [00:15<01:13,  7.60s/it]\r 26%|██▌       | 3/11.65625 [00:22<01:05,  7.59s/it]\r 34%|███▍      | 4/11.65625 [00:30<00:57,  7.56s/it]\r 43%|████▎     | 5/11.65625 [00:37<00:50,  7.54s/it]\r 51%|█████▏    | 6/11.65625 [00:45<00:42,  7.58s/it]\r 60%|██████    | 7/11.65625 [00:53<00:35,  7.63s/it]\r 69%|██████▊   | 8/11.65625 [01:00<00:28,  7.68s/it]\r 77%|███████▋  | 9/11.65625 [01:08<00:20,  7.70s/it]\r 86%|████████▌ | 10/11.65625 [01:16<00:12,  7.69s/it]\r 94%|█████████▍| 11/11.65625 [01:23<00:05,  7.64s/it]/databricks/python/lib/python3.11/site-packages/tqdm/std.py:524: TqdmWarning: clamping frac to range [0, 1]\n",
      "  full_bar = Bar(frac,\n",
      "\r103%|██████████| 12/11.65625 [01:31<-1:59:58,  7.60s/it]\r13it [01:38,  7.57s/it]                                 \r14it [01:46,  7.57s/it]\r15it [01:54,  7.56s/it]\r16it [02:01,  7.55s/it]\r17it [02:09,  7.56s/it]\r18it [02:16,  7.60s/it]\r19it [02:24,  7.59s/it]\r20it [02:31,  7.54s/it]\r21it [02:39,  7.53s/it]\r21it [02:39,  7.59s/it]\n"
     ]
    },
    {
     "name": "stdout",
     "output_type": "stream",
     "text": [
      "Epoch 40 train loss: 2.205371856689453e-06\n",
      "[Checkpoint] Saved under <PATH>/recipe_classifier/checkpoints/2025_01_09/dataset_20dec_small/grid_search/lr_9e-06_wd_0/epoch_40.pt\n",
      "\n",
      "[Train - End / Test - Start Epoch 41] GPU Memory: Allocated=2.06GB, Reserved=3.35GB\n"
     ]
    },
    {
     "name": "stderr",
     "output_type": "stream",
     "text": [
      "\r  0%|          | 0/2.875 [00:00<?, ?it/s]\r 35%|███▍      | 1/2.875 [00:07<00:14,  7.71s/it]\r 70%|██████▉   | 2/2.875 [00:15<00:06,  7.58s/it]\r104%|██████████| 3/2.875 [00:22<00:00,  7.63s/it]\r4it [00:30,  7.55s/it]                           \r5it [00:37,  7.53s/it]\r5it [00:37,  7.56s/it]\n"
     ]
    },
    {
     "name": "stdout",
     "output_type": "stream",
     "text": [
      "Cumulative Accuracy for CP: 83.41%\n",
      "Cumulative Accuracy for chopping-board: 83.41%\n",
      "Cumulative Accuracy for finalstep: 44.88%\n",
      "Cumulative Accuracy for glass-bowl-large: 100.00%\n",
      "Cumulative Accuracy for glass-bowl-medium: 97.56%\n",
      "Cumulative Accuracy for glass-bowl-small: 84.88%\n",
      "Cumulative Accuracy for grill-plate: 7.32%\n",
      "Cumulative Accuracy for group_step: 50.73%\n",
      "Cumulative Accuracy for medium: 80.49%\n",
      "Cumulative Accuracy for oven-dish: 100.00%\n",
      "Cumulative Accuracy for oven-tray: 100.00%\n",
      "Cumulative Accuracy for pan: 98.54%\n",
      "Cumulative Accuracy for pot-one-handle: 80.98%\n",
      "Cumulative Accuracy for pot-two-handles-medium: 12.20%\n",
      "Cumulative Accuracy for pot-two-handles-shallow: 48.29%\n",
      "Cumulative Accuracy for pot-two-handles-small: 64.88%\n",
      "Cumulative Accuracy for saucepan: 100.00%\n",
      "\n",
      "Mean Top 3 Accuracy: 94.12%\n",
      "Mean Top 1 Accuracy: 74.12%\n",
      "Macro-averaged Accuracy: 72.80%\n",
      "Epoch 40 test loss: 23.5625\n",
      "\n",
      "[Test - End Epoch 41] GPU Memory: Allocated=2.06GB, Reserved=3.35GB\n",
      "\n",
      "Epoch 42/120\n",
      "[Train - Start Epoch 42] GPU Memory: Allocated=2.06GB, Reserved=3.35GB\n"
     ]
    },
    {
     "name": "stderr",
     "output_type": "stream",
     "text": [
      "\r  0%|          | 0/11.65625 [00:00<?, ?it/s]\r  9%|▊         | 1/11.65625 [00:07<01:22,  7.72s/it]\r 17%|█▋        | 2/11.65625 [00:15<01:14,  7.70s/it]\r 26%|██▌       | 3/11.65625 [00:23<01:06,  7.72s/it]\r 34%|███▍      | 4/11.65625 [00:30<00:58,  7.64s/it]\r 43%|████▎     | 5/11.65625 [00:38<00:50,  7.66s/it]\r 51%|█████▏    | 6/11.65625 [00:45<00:43,  7.64s/it]\r 60%|██████    | 7/11.65625 [00:53<00:35,  7.62s/it]\r 69%|██████▊   | 8/11.65625 [01:01<00:27,  7.63s/it]\r 77%|███████▋  | 9/11.65625 [01:08<00:20,  7.67s/it]\r 86%|████████▌ | 10/11.65625 [01:16<00:12,  7.65s/it]\r 94%|█████████▍| 11/11.65625 [01:24<00:05,  7.67s/it]/databricks/python/lib/python3.11/site-packages/tqdm/std.py:524: TqdmWarning: clamping frac to range [0, 1]\n",
      "  full_bar = Bar(frac,\n",
      "\r103%|██████████| 12/11.65625 [01:31<-1:59:58,  7.66s/it]\r13it [01:39,  7.66s/it]                                 \r14it [01:47,  7.63s/it]\r15it [01:54,  7.62s/it]\r16it [02:02,  7.66s/it]\r17it [02:10,  7.67s/it]\r18it [02:17,  7.69s/it]\r19it [02:25,  7.62s/it]\r20it [02:33,  7.67s/it]\r21it [02:40,  7.64s/it]\r21it [02:40,  7.65s/it]\n"
     ]
    },
    {
     "name": "stdout",
     "output_type": "stream",
     "text": [
      "Epoch 41 train loss: 2.9206275939941406e-06\n",
      "[Train - End / Test - Start Epoch 42] GPU Memory: Allocated=2.29GB, Reserved=3.35GB\n"
     ]
    },
    {
     "name": "stderr",
     "output_type": "stream",
     "text": [
      "\r  0%|          | 0/2.875 [00:00<?, ?it/s]\r 35%|███▍      | 1/2.875 [00:07<00:14,  7.64s/it]\r 70%|██████▉   | 2/2.875 [00:15<00:06,  7.50s/it]\r104%|██████████| 3/2.875 [00:22<00:00,  7.55s/it]\r4it [00:30,  7.57s/it]                           \r5it [00:37,  7.56s/it]\r5it [00:37,  7.56s/it]\n"
     ]
    },
    {
     "name": "stdout",
     "output_type": "stream",
     "text": [
      "Cumulative Accuracy for CP: 83.33%\n",
      "Cumulative Accuracy for chopping-board: 83.81%\n",
      "Cumulative Accuracy for finalstep: 44.76%\n",
      "Cumulative Accuracy for glass-bowl-large: 100.00%\n",
      "Cumulative Accuracy for glass-bowl-medium: 97.62%\n",
      "Cumulative Accuracy for glass-bowl-small: 84.76%\n",
      "Cumulative Accuracy for grill-plate: 7.14%\n",
      "Cumulative Accuracy for group_step: 50.95%\n",
      "Cumulative Accuracy for medium: 80.48%\n",
      "Cumulative Accuracy for oven-dish: 100.00%\n",
      "Cumulative Accuracy for oven-tray: 100.00%\n",
      "Cumulative Accuracy for pan: 98.57%\n",
      "Cumulative Accuracy for pot-one-handle: 80.95%\n",
      "Cumulative Accuracy for pot-two-handles-medium: 11.90%\n",
      "Cumulative Accuracy for pot-two-handles-shallow: 48.57%\n",
      "Cumulative Accuracy for pot-two-handles-small: 64.76%\n",
      "Cumulative Accuracy for saucepan: 100.00%\n",
      "\n",
      "Mean Top 3 Accuracy: 92.94%\n",
      "Mean Top 1 Accuracy: 72.94%\n",
      "Macro-averaged Accuracy: 72.80%\n",
      "Epoch 41 test loss: 23.953125\n",
      "\n",
      "[Test - End Epoch 42] GPU Memory: Allocated=2.29GB, Reserved=3.35GB\n",
      "\n",
      "Epoch 43/120\n",
      "[Train - Start Epoch 43] GPU Memory: Allocated=2.29GB, Reserved=3.35GB\n"
     ]
    },
    {
     "name": "stderr",
     "output_type": "stream",
     "text": [
      "\r  0%|          | 0/11.65625 [00:00<?, ?it/s]\r  9%|▊         | 1/11.65625 [00:07<01:22,  7.70s/it]\r 17%|█▋        | 2/11.65625 [00:15<01:12,  7.54s/it]\r 26%|██▌       | 3/11.65625 [00:22<01:05,  7.54s/it]\r 34%|███▍      | 4/11.65625 [00:30<00:58,  7.63s/it]\r 43%|████▎     | 5/11.65625 [00:38<00:50,  7.66s/it]\r 51%|█████▏    | 6/11.65625 [00:45<00:43,  7.69s/it]\r 60%|██████    | 7/11.65625 [00:53<00:35,  7.71s/it]\r 69%|██████▊   | 8/11.65625 [01:01<00:28,  7.67s/it]\r 77%|███████▋  | 9/11.65625 [01:08<00:20,  7.66s/it]\r 86%|████████▌ | 10/11.65625 [01:16<00:12,  7.63s/it]\r 94%|█████████▍| 11/11.65625 [01:23<00:04,  7.58s/it]/databricks/python/lib/python3.11/site-packages/tqdm/std.py:524: TqdmWarning: clamping frac to range [0, 1]\n",
      "  full_bar = Bar(frac,\n",
      "\r103%|██████████| 12/11.65625 [01:31<-1:59:58,  7.59s/it]\r13it [01:39,  7.60s/it]                                 \r14it [01:46,  7.60s/it]\r15it [01:54,  7.62s/it]\r16it [02:01,  7.61s/it]\r17it [02:09,  7.58s/it]\r18it [02:17,  7.57s/it]\r19it [02:24,  7.61s/it]\r20it [02:32,  7.59s/it]\r21it [02:39,  7.61s/it]\r21it [02:39,  7.62s/it]\n"
     ]
    },
    {
     "name": "stdout",
     "output_type": "stream",
     "text": [
      "Epoch 42 train loss: 3.6954879760742188e-06\n",
      "[Train - End / Test - Start Epoch 43] GPU Memory: Allocated=2.30GB, Reserved=3.35GB\n"
     ]
    },
    {
     "name": "stderr",
     "output_type": "stream",
     "text": [
      "\r  0%|          | 0/2.875 [00:00<?, ?it/s]\r 35%|███▍      | 1/2.875 [00:07<00:14,  7.56s/it]\r 70%|██████▉   | 2/2.875 [00:15<00:06,  7.58s/it]\r104%|██████████| 3/2.875 [00:22<00:00,  7.57s/it]\r4it [00:30,  7.54s/it]                           \r5it [00:37,  7.58s/it]\r5it [00:37,  7.57s/it]\n"
     ]
    },
    {
     "name": "stdout",
     "output_type": "stream",
     "text": [
      "Cumulative Accuracy for CP: 83.26%\n",
      "Cumulative Accuracy for chopping-board: 83.72%\n",
      "Cumulative Accuracy for finalstep: 45.12%\n",
      "Cumulative Accuracy for glass-bowl-large: 100.00%\n",
      "Cumulative Accuracy for glass-bowl-medium: 97.67%\n",
      "Cumulative Accuracy for glass-bowl-small: 84.65%\n",
      "Cumulative Accuracy for grill-plate: 6.98%\n",
      "Cumulative Accuracy for group_step: 51.16%\n",
      "Cumulative Accuracy for medium: 80.47%\n",
      "Cumulative Accuracy for oven-dish: 100.00%\n",
      "Cumulative Accuracy for oven-tray: 100.00%\n",
      "Cumulative Accuracy for pan: 98.60%\n",
      "Cumulative Accuracy for pot-one-handle: 80.93%\n",
      "Cumulative Accuracy for pot-two-handles-medium: 11.63%\n",
      "Cumulative Accuracy for pot-two-handles-shallow: 48.84%\n",
      "Cumulative Accuracy for pot-two-handles-small: 65.12%\n",
      "Cumulative Accuracy for saucepan: 100.00%\n",
      "\n",
      "Mean Top 3 Accuracy: 95.29%\n",
      "Mean Top 1 Accuracy: 74.12%\n",
      "Macro-averaged Accuracy: 72.83%\n",
      "Epoch 42 test loss: 21.796875\n",
      "\n",
      "[Test - End Epoch 43] GPU Memory: Allocated=2.30GB, Reserved=3.35GB\n",
      "\n",
      "Epoch 44/120\n",
      "[Train - Start Epoch 44] GPU Memory: Allocated=2.30GB, Reserved=3.35GB\n"
     ]
    },
    {
     "name": "stderr",
     "output_type": "stream",
     "text": [
      "\r  0%|          | 0/11.65625 [00:00<?, ?it/s]\r  9%|▊         | 1/11.65625 [00:07<01:22,  7.71s/it]\r 17%|█▋        | 2/11.65625 [00:15<01:13,  7.62s/it]\r 26%|██▌       | 3/11.65625 [00:22<01:05,  7.54s/it]\r 34%|███▍      | 4/11.65625 [00:30<00:58,  7.63s/it]\r 43%|████▎     | 5/11.65625 [00:38<00:50,  7.65s/it]\r 51%|█████▏    | 6/11.65625 [00:45<00:43,  7.71s/it]\r 60%|██████    | 7/11.65625 [00:53<00:35,  7.72s/it]\r 69%|██████▊   | 8/11.65625 [01:01<00:28,  7.71s/it]\r 77%|███████▋  | 9/11.65625 [01:09<00:20,  7.68s/it]\r 86%|████████▌ | 10/11.65625 [01:16<00:12,  7.68s/it]\r 94%|█████████▍| 11/11.65625 [01:24<00:05,  7.67s/it]/databricks/python/lib/python3.11/site-packages/tqdm/std.py:524: TqdmWarning: clamping frac to range [0, 1]\n",
      "  full_bar = Bar(frac,\n",
      "\r103%|██████████| 12/11.65625 [01:32<-1:59:58,  7.67s/it]\r13it [01:39,  7.71s/it]                                 \r14it [01:47,  7.74s/it]\r15it [01:55,  7.77s/it]\r16it [02:03,  7.72s/it]\r17it [02:10,  7.73s/it]\r18it [02:18,  7.69s/it]\r19it [02:26,  7.70s/it]\r20it [02:33,  7.63s/it]\r21it [02:41,  7.65s/it]\r21it [02:41,  7.68s/it]\n"
     ]
    },
    {
     "name": "stdout",
     "output_type": "stream",
     "text": [
      "Epoch 43 train loss: 3.159046173095703e-06\n",
      "[Train - End / Test - Start Epoch 44] GPU Memory: Allocated=2.31GB, Reserved=3.35GB\n"
     ]
    },
    {
     "name": "stderr",
     "output_type": "stream",
     "text": [
      "\r  0%|          | 0/2.875 [00:00<?, ?it/s]\r 35%|███▍      | 1/2.875 [00:07<00:13,  7.42s/it]\r 70%|██████▉   | 2/2.875 [00:14<00:06,  7.41s/it]\r104%|██████████| 3/2.875 [00:22<00:00,  7.41s/it]\r4it [00:29,  7.44s/it]                           \r5it [00:37,  7.42s/it]\r5it [00:37,  7.42s/it]\n"
     ]
    },
    {
     "name": "stdout",
     "output_type": "stream",
     "text": [
      "Cumulative Accuracy for CP: 83.64%\n",
      "Cumulative Accuracy for chopping-board: 83.64%\n",
      "Cumulative Accuracy for finalstep: 45.00%\n",
      "Cumulative Accuracy for glass-bowl-large: 100.00%\n",
      "Cumulative Accuracy for glass-bowl-medium: 97.73%\n",
      "Cumulative Accuracy for glass-bowl-small: 85.00%\n",
      "Cumulative Accuracy for grill-plate: 6.82%\n",
      "Cumulative Accuracy for group_step: 51.36%\n",
      "Cumulative Accuracy for medium: 80.45%\n",
      "Cumulative Accuracy for oven-dish: 100.00%\n",
      "Cumulative Accuracy for oven-tray: 100.00%\n",
      "Cumulative Accuracy for pan: 98.64%\n",
      "Cumulative Accuracy for pot-one-handle: 80.91%\n",
      "Cumulative Accuracy for pot-two-handles-medium: 11.36%\n",
      "Cumulative Accuracy for pot-two-handles-shallow: 48.64%\n",
      "Cumulative Accuracy for pot-two-handles-small: 64.55%\n",
      "Cumulative Accuracy for saucepan: 100.00%\n",
      "\n",
      "Mean Top 3 Accuracy: 92.94%\n",
      "Mean Top 1 Accuracy: 71.76%\n",
      "Macro-averaged Accuracy: 72.81%\n",
      "Epoch 43 test loss: 22.453125\n",
      "\n",
      "[Test - End Epoch 44] GPU Memory: Allocated=2.31GB, Reserved=3.35GB\n",
      "\n",
      "Epoch 45/120\n",
      "[Train - Start Epoch 45] GPU Memory: Allocated=2.31GB, Reserved=3.35GB\n"
     ]
    },
    {
     "name": "stderr",
     "output_type": "stream",
     "text": [
      "\r  0%|          | 0/11.65625 [00:00<?, ?it/s]\r  9%|▊         | 1/11.65625 [00:07<01:20,  7.59s/it]\r 17%|█▋        | 2/11.65625 [00:15<01:14,  7.71s/it]\r 26%|██▌       | 3/11.65625 [00:22<01:06,  7.66s/it]\r 34%|███▍      | 4/11.65625 [00:30<00:58,  7.61s/it]\r 43%|████▎     | 5/11.65625 [00:38<00:50,  7.59s/it]\r 51%|█████▏    | 6/11.65625 [00:45<00:43,  7.61s/it]\r 60%|██████    | 7/11.65625 [00:53<00:35,  7.61s/it]\r 69%|██████▊   | 8/11.65625 [01:01<00:27,  7.65s/it]\r 77%|███████▋  | 9/11.65625 [01:08<00:20,  7.64s/it]\r 86%|████████▌ | 10/11.65625 [01:16<00:12,  7.61s/it]\r 94%|█████████▍| 11/11.65625 [01:23<00:04,  7.62s/it]/databricks/python/lib/python3.11/site-packages/tqdm/std.py:524: TqdmWarning: clamping frac to range [0, 1]\n",
      "  full_bar = Bar(frac,\n",
      "\r103%|██████████| 12/11.65625 [01:31<-1:59:58,  7.66s/it]\r13it [01:38,  7.57s/it]                                 \r14it [01:46,  7.62s/it]\r15it [01:54,  7.63s/it]\r16it [02:01,  7.62s/it]\r17it [02:09,  7.62s/it]\r18it [02:17,  7.62s/it]\r19it [02:24,  7.59s/it]\r20it [02:32,  7.57s/it]\r21it [02:39,  7.58s/it]\r21it [02:39,  7.61s/it]\n"
     ]
    },
    {
     "name": "stdout",
     "output_type": "stream",
     "text": [
      "Epoch 44 train loss: 3.6954879760742188e-06\n",
      "[Train - End / Test - Start Epoch 45] GPU Memory: Allocated=2.30GB, Reserved=3.35GB\n"
     ]
    },
    {
     "name": "stderr",
     "output_type": "stream",
     "text": [
      "\r  0%|          | 0/2.875 [00:00<?, ?it/s]\r 35%|███▍      | 1/2.875 [00:07<00:14,  7.51s/it]\r 70%|██████▉   | 2/2.875 [00:15<00:06,  7.55s/it]\r104%|██████████| 3/2.875 [00:22<00:00,  7.56s/it]\r4it [00:30,  7.55s/it]                           \r5it [00:37,  7.56s/it]\r5it [00:37,  7.56s/it]\n"
     ]
    },
    {
     "name": "stdout",
     "output_type": "stream",
     "text": [
      "Cumulative Accuracy for CP: 83.56%\n",
      "Cumulative Accuracy for chopping-board: 84.00%\n",
      "Cumulative Accuracy for finalstep: 44.89%\n",
      "Cumulative Accuracy for glass-bowl-large: 100.00%\n",
      "Cumulative Accuracy for glass-bowl-medium: 97.78%\n",
      "Cumulative Accuracy for glass-bowl-small: 84.89%\n",
      "Cumulative Accuracy for grill-plate: 6.67%\n",
      "Cumulative Accuracy for group_step: 51.11%\n",
      "Cumulative Accuracy for medium: 80.44%\n",
      "Cumulative Accuracy for oven-dish: 100.00%\n",
      "Cumulative Accuracy for oven-tray: 100.00%\n",
      "Cumulative Accuracy for pan: 98.67%\n",
      "Cumulative Accuracy for pot-one-handle: 80.89%\n",
      "Cumulative Accuracy for pot-two-handles-medium: 11.11%\n",
      "Cumulative Accuracy for pot-two-handles-shallow: 48.89%\n",
      "Cumulative Accuracy for pot-two-handles-small: 64.89%\n",
      "Cumulative Accuracy for saucepan: 100.00%\n",
      "\n",
      "Mean Top 3 Accuracy: 92.94%\n",
      "Mean Top 1 Accuracy: 72.94%\n",
      "Macro-averaged Accuracy: 72.81%\n",
      "Epoch 44 test loss: 21.9375\n",
      "\n",
      "[Test - End Epoch 45] GPU Memory: Allocated=2.30GB, Reserved=3.35GB\n",
      "\n",
      "Epoch 46/120\n",
      "[Train - Start Epoch 46] GPU Memory: Allocated=2.30GB, Reserved=3.35GB\n"
     ]
    },
    {
     "name": "stderr",
     "output_type": "stream",
     "text": [
      "\r  0%|          | 0/11.65625 [00:00<?, ?it/s]\r  9%|▊         | 1/11.65625 [00:07<01:21,  7.60s/it]\r 17%|█▋        | 2/11.65625 [00:15<01:13,  7.65s/it]\r 26%|██▌       | 3/11.65625 [00:23<01:06,  7.68s/it]\r 34%|███▍      | 4/11.65625 [00:30<00:58,  7.60s/it]\r 43%|████▎     | 5/11.65625 [00:38<00:50,  7.61s/it]\r 51%|█████▏    | 6/11.65625 [00:45<00:43,  7.61s/it]\r 60%|██████    | 7/11.65625 [00:53<00:35,  7.62s/it]\r 69%|██████▊   | 8/11.65625 [01:01<00:27,  7.63s/it]\r 77%|███████▋  | 9/11.65625 [01:08<00:20,  7.66s/it]\r 86%|████████▌ | 10/11.65625 [01:16<00:12,  7.61s/it]\r 94%|█████████▍| 11/11.65625 [01:23<00:05,  7.64s/it]/databricks/python/lib/python3.11/site-packages/tqdm/std.py:524: TqdmWarning: clamping frac to range [0, 1]\n",
      "  full_bar = Bar(frac,\n",
      "\r103%|██████████| 12/11.65625 [01:31<-1:59:58,  7.66s/it]\r13it [01:39,  7.64s/it]                                 \r14it [01:46,  7.64s/it]\r15it [01:54,  7.63s/it]\r16it [02:02,  7.64s/it]\r17it [02:09,  7.64s/it]\r18it [02:17,  7.59s/it]\r19it [02:24,  7.58s/it]\r20it [02:32,  7.65s/it]\r21it [02:40,  7.63s/it]\r21it [02:40,  7.63s/it]\n"
     ]
    },
    {
     "name": "stdout",
     "output_type": "stream",
     "text": [
      "Epoch 45 train loss: 3.2186508178710938e-06\n",
      "[Train - End / Test - Start Epoch 46] GPU Memory: Allocated=2.29GB, Reserved=3.35GB\n"
     ]
    },
    {
     "name": "stderr",
     "output_type": "stream",
     "text": [
      "\r  0%|          | 0/2.875 [00:00<?, ?it/s]\r 35%|███▍      | 1/2.875 [00:07<00:14,  7.51s/it]\r 70%|██████▉   | 2/2.875 [00:15<00:06,  7.60s/it]\r104%|██████████| 3/2.875 [00:22<00:00,  7.58s/it]\r4it [00:30,  7.54s/it]                           \r5it [00:37,  7.53s/it]\r5it [00:37,  7.54s/it]\n"
     ]
    },
    {
     "name": "stdout",
     "output_type": "stream",
     "text": [
      "Cumulative Accuracy for CP: 83.48%\n",
      "Cumulative Accuracy for chopping-board: 83.91%\n",
      "Cumulative Accuracy for finalstep: 45.22%\n",
      "Cumulative Accuracy for glass-bowl-large: 100.00%\n",
      "Cumulative Accuracy for glass-bowl-medium: 97.83%\n",
      "Cumulative Accuracy for glass-bowl-small: 84.78%\n",
      "Cumulative Accuracy for grill-plate: 6.52%\n",
      "Cumulative Accuracy for group_step: 51.74%\n",
      "Cumulative Accuracy for medium: 80.43%\n",
      "Cumulative Accuracy for oven-dish: 100.00%\n",
      "Cumulative Accuracy for oven-tray: 100.00%\n",
      "Cumulative Accuracy for pan: 98.70%\n",
      "Cumulative Accuracy for pot-one-handle: 80.87%\n",
      "Cumulative Accuracy for pot-two-handles-medium: 10.87%\n",
      "Cumulative Accuracy for pot-two-handles-shallow: 48.70%\n",
      "Cumulative Accuracy for pot-two-handles-small: 64.78%\n",
      "Cumulative Accuracy for saucepan: 100.00%\n",
      "\n",
      "Mean Top 3 Accuracy: 94.12%\n",
      "Mean Top 1 Accuracy: 72.94%\n",
      "Macro-averaged Accuracy: 72.81%\n",
      "Epoch 45 test loss: 22.59375\n",
      "\n",
      "[Test - End Epoch 46] GPU Memory: Allocated=2.29GB, Reserved=3.35GB\n",
      "\n",
      "Epoch 47/120\n",
      "[Train - Start Epoch 47] GPU Memory: Allocated=2.29GB, Reserved=3.35GB\n"
     ]
    },
    {
     "name": "stderr",
     "output_type": "stream",
     "text": [
      "\r  0%|          | 0/11.65625 [00:00<?, ?it/s]\r  9%|▊         | 1/11.65625 [00:07<01:22,  7.70s/it]\r 17%|█▋        | 2/11.65625 [00:15<01:14,  7.66s/it]\r 26%|██▌       | 3/11.65625 [00:22<01:06,  7.65s/it]\r 34%|███▍      | 4/11.65625 [00:30<00:58,  7.63s/it]\r 43%|████▎     | 5/11.65625 [00:38<00:50,  7.61s/it]\r 51%|█████▏    | 6/11.65625 [00:45<00:42,  7.60s/it]\r 60%|██████    | 7/11.65625 [00:53<00:35,  7.64s/it]\r 69%|██████▊   | 8/11.65625 [01:01<00:28,  7.67s/it]\r 77%|███████▋  | 9/11.65625 [01:08<00:20,  7.69s/it]\r 86%|████████▌ | 10/11.65625 [01:16<00:12,  7.68s/it]\r 94%|█████████▍| 11/11.65625 [01:24<00:05,  7.65s/it]/databricks/python/lib/python3.11/site-packages/tqdm/std.py:524: TqdmWarning: clamping frac to range [0, 1]\n",
      "  full_bar = Bar(frac,\n",
      "\r103%|██████████| 12/11.65625 [01:31<-1:59:58,  7.65s/it]\r13it [01:39,  7.64s/it]                                 \r14it [01:46,  7.61s/it]\r15it [01:54,  7.64s/it]\r16it [02:02,  7.57s/it]\r17it [02:09,  7.59s/it]\r18it [02:17,  7.63s/it]\r19it [02:24,  7.61s/it]\r20it [02:32,  7.66s/it]\r21it [02:40,  7.64s/it]\r21it [02:40,  7.64s/it]\n"
     ]
    },
    {
     "name": "stdout",
     "output_type": "stream",
     "text": [
      "Epoch 46 train loss: 3.2186508178710938e-06\n",
      "[Train - End / Test - Start Epoch 47] GPU Memory: Allocated=2.30GB, Reserved=3.35GB\n"
     ]
    },
    {
     "name": "stderr",
     "output_type": "stream",
     "text": [
      "\r  0%|          | 0/2.875 [00:00<?, ?it/s]\r 35%|███▍      | 1/2.875 [00:07<00:13,  7.46s/it]\r 70%|██████▉   | 2/2.875 [00:15<00:06,  7.58s/it]\r104%|██████████| 3/2.875 [00:22<00:00,  7.59s/it]\r4it [00:30,  7.53s/it]                           \r5it [00:37,  7.49s/it]\r5it [00:37,  7.52s/it]\n"
     ]
    },
    {
     "name": "stdout",
     "output_type": "stream",
     "text": [
      "Cumulative Accuracy for CP: 83.83%\n",
      "Cumulative Accuracy for chopping-board: 84.26%\n",
      "Cumulative Accuracy for finalstep: 45.53%\n",
      "Cumulative Accuracy for glass-bowl-large: 100.00%\n",
      "Cumulative Accuracy for glass-bowl-medium: 97.87%\n",
      "Cumulative Accuracy for glass-bowl-small: 84.68%\n",
      "Cumulative Accuracy for grill-plate: 6.38%\n",
      "Cumulative Accuracy for group_step: 51.49%\n",
      "Cumulative Accuracy for medium: 80.43%\n",
      "Cumulative Accuracy for oven-dish: 100.00%\n",
      "Cumulative Accuracy for oven-tray: 100.00%\n",
      "Cumulative Accuracy for pan: 98.72%\n",
      "Cumulative Accuracy for pot-one-handle: 80.85%\n",
      "Cumulative Accuracy for pot-two-handles-medium: 10.64%\n",
      "Cumulative Accuracy for pot-two-handles-shallow: 48.51%\n",
      "Cumulative Accuracy for pot-two-handles-small: 65.11%\n",
      "Cumulative Accuracy for saucepan: 100.00%\n",
      "\n",
      "Mean Top 3 Accuracy: 97.65%\n",
      "Mean Top 1 Accuracy: 74.12%\n",
      "Macro-averaged Accuracy: 72.84%\n",
      "Epoch 46 test loss: 20.734375\n",
      "\n",
      "[Test - End Epoch 47] GPU Memory: Allocated=2.30GB, Reserved=3.35GB\n",
      "\n",
      "Epoch 48/120\n",
      "[Train - Start Epoch 48] GPU Memory: Allocated=2.30GB, Reserved=3.35GB\n"
     ]
    },
    {
     "name": "stderr",
     "output_type": "stream",
     "text": [
      "\r  0%|          | 0/11.65625 [00:00<?, ?it/s]\r  9%|▊         | 1/11.65625 [00:07<01:22,  7.74s/it]\r 17%|█▋        | 2/11.65625 [00:15<01:14,  7.72s/it]\r 26%|██▌       | 3/11.65625 [00:23<01:06,  7.72s/it]\r 34%|███▍      | 4/11.65625 [00:30<00:59,  7.72s/it]\r 43%|████▎     | 5/11.65625 [00:38<00:51,  7.67s/it]\r 51%|█████▏    | 6/11.65625 [00:46<00:43,  7.66s/it]\r 60%|██████    | 7/11.65625 [00:53<00:35,  7.68s/it]\r 69%|██████▊   | 8/11.65625 [01:01<00:28,  7.66s/it]\r 77%|███████▋  | 9/11.65625 [01:09<00:20,  7.64s/it]\r 86%|████████▌ | 10/11.65625 [01:16<00:12,  7.61s/it]\r 94%|█████████▍| 11/11.65625 [01:24<00:04,  7.60s/it]/databricks/python/lib/python3.11/site-packages/tqdm/std.py:524: TqdmWarning: clamping frac to range [0, 1]\n",
      "  full_bar = Bar(frac,\n",
      "\r103%|██████████| 12/11.65625 [01:31<-1:59:58,  7.59s/it]\r13it [01:39,  7.63s/it]                                 \r14it [01:47,  7.65s/it]\r15it [01:54,  7.63s/it]\r16it [02:02,  7.65s/it]\r17it [02:09,  7.61s/it]\r18it [02:17,  7.60s/it]\r19it [02:25,  7.58s/it]\r20it [02:32,  7.57s/it]\r21it [02:40,  7.58s/it]\r21it [02:40,  7.63s/it]\n"
     ]
    },
    {
     "name": "stdout",
     "output_type": "stream",
     "text": [
      "Epoch 47 train loss: 2.205371856689453e-06\n",
      "[Train - End / Test - Start Epoch 48] GPU Memory: Allocated=2.30GB, Reserved=3.35GB\n"
     ]
    },
    {
     "name": "stderr",
     "output_type": "stream",
     "text": [
      "\r  0%|          | 0/2.875 [00:00<?, ?it/s]\r 35%|███▍      | 1/2.875 [00:07<00:13,  7.32s/it]\r 70%|██████▉   | 2/2.875 [00:15<00:06,  7.64s/it]/databricks/python/lib/python3.11/site-packages/tqdm/std.py:524: TqdmWarning: clamping frac to range [0, 1]\n",
      "  full_bar = Bar(frac,\n",
      "\r104%|██████████| 3/2.875 [00:22<00:00,  7.51s/it]\r4it [00:30,  7.51s/it]                           \r5it [00:37,  7.53s/it]\r5it [00:37,  7.53s/it]\n"
     ]
    },
    {
     "name": "stdout",
     "output_type": "stream",
     "text": [
      "Cumulative Accuracy for CP: 83.33%\n",
      "Cumulative Accuracy for chopping-board: 84.17%\n",
      "Cumulative Accuracy for finalstep: 45.42%\n",
      "Cumulative Accuracy for glass-bowl-large: 100.00%\n",
      "Cumulative Accuracy for glass-bowl-medium: 97.92%\n",
      "Cumulative Accuracy for glass-bowl-small: 85.00%\n",
      "Cumulative Accuracy for grill-plate: 6.25%\n",
      "Cumulative Accuracy for group_step: 52.08%\n",
      "Cumulative Accuracy for medium: 80.42%\n",
      "Cumulative Accuracy for oven-dish: 100.00%\n",
      "Cumulative Accuracy for oven-tray: 100.00%\n",
      "Cumulative Accuracy for pan: 98.75%\n",
      "Cumulative Accuracy for pot-one-handle: 80.83%\n",
      "Cumulative Accuracy for pot-two-handles-medium: 10.42%\n",
      "Cumulative Accuracy for pot-two-handles-shallow: 48.75%\n",
      "Cumulative Accuracy for pot-two-handles-small: 65.00%\n",
      "Cumulative Accuracy for saucepan: 100.00%\n",
      "\n",
      "Mean Top 3 Accuracy: 91.76%\n",
      "Mean Top 1 Accuracy: 72.94%\n",
      "Macro-averaged Accuracy: 72.84%\n",
      "Epoch 47 test loss: 23.296875\n",
      "\n",
      "[Test - End Epoch 48] GPU Memory: Allocated=2.30GB, Reserved=3.35GB\n",
      "\n",
      "Epoch 49/120\n",
      "[Train - Start Epoch 49] GPU Memory: Allocated=2.30GB, Reserved=3.35GB\n"
     ]
    },
    {
     "name": "stderr",
     "output_type": "stream",
     "text": [
      "\r  0%|          | 0/11.65625 [00:00<?, ?it/s]\r  9%|▊         | 1/11.65625 [00:07<01:20,  7.57s/it]\r 17%|█▋        | 2/11.65625 [00:15<01:13,  7.58s/it]\r 26%|██▌       | 3/11.65625 [00:22<01:05,  7.52s/it]\r 34%|███▍      | 4/11.65625 [00:30<00:57,  7.57s/it]\r 43%|████▎     | 5/11.65625 [00:38<00:50,  7.64s/it]\r 51%|█████▏    | 6/11.65625 [00:45<00:42,  7.56s/it]\r 60%|██████    | 7/11.65625 [00:53<00:35,  7.57s/it]\r 69%|██████▊   | 8/11.65625 [01:00<00:27,  7.62s/it]\r 77%|███████▋  | 9/11.65625 [01:08<00:20,  7.60s/it]\r 86%|████████▌ | 10/11.65625 [01:15<00:12,  7.59s/it]\r 94%|█████████▍| 11/11.65625 [01:23<00:05,  7.64s/it]/databricks/python/lib/python3.11/site-packages/tqdm/std.py:524: TqdmWarning: clamping frac to range [0, 1]\n",
      "  full_bar = Bar(frac,\n",
      "\r103%|██████████| 12/11.65625 [01:31<-1:59:58,  7.64s/it]\r13it [01:38,  7.54s/it]                                 \r14it [01:46,  7.59s/it]\r15it [01:54,  7.65s/it]\r16it [02:01,  7.63s/it]\r17it [02:09,  7.61s/it]\r18it [02:16,  7.62s/it]\r19it [02:24,  7.58s/it]\r20it [02:31,  7.59s/it]\r21it [02:39,  7.61s/it]\r21it [02:39,  7.60s/it]\n"
     ]
    },
    {
     "name": "stdout",
     "output_type": "stream",
     "text": [
      "Epoch 48 train loss: 1.9669532775878906e-06\n",
      "[Train - End / Test - Start Epoch 49] GPU Memory: Allocated=2.30GB, Reserved=3.35GB\n"
     ]
    },
    {
     "name": "stderr",
     "output_type": "stream",
     "text": [
      "\r  0%|          | 0/2.875 [00:00<?, ?it/s]\r 35%|███▍      | 1/2.875 [00:07<00:13,  7.44s/it]\r 70%|██████▉   | 2/2.875 [00:14<00:06,  7.47s/it]\r104%|██████████| 3/2.875 [00:22<00:00,  7.47s/it]\r4it [00:30,  7.54s/it]                           \r5it [00:37,  7.49s/it]\r5it [00:37,  7.49s/it]\n"
     ]
    },
    {
     "name": "stdout",
     "output_type": "stream",
     "text": [
      "Cumulative Accuracy for CP: 83.67%\n",
      "Cumulative Accuracy for chopping-board: 84.08%\n",
      "Cumulative Accuracy for finalstep: 45.31%\n",
      "Cumulative Accuracy for glass-bowl-large: 100.00%\n",
      "Cumulative Accuracy for glass-bowl-medium: 97.96%\n",
      "Cumulative Accuracy for glass-bowl-small: 84.90%\n",
      "Cumulative Accuracy for grill-plate: 6.12%\n",
      "Cumulative Accuracy for group_step: 51.84%\n",
      "Cumulative Accuracy for medium: 80.41%\n",
      "Cumulative Accuracy for oven-dish: 100.00%\n",
      "Cumulative Accuracy for oven-tray: 100.00%\n",
      "Cumulative Accuracy for pan: 98.78%\n",
      "Cumulative Accuracy for pot-one-handle: 80.82%\n",
      "Cumulative Accuracy for pot-two-handles-medium: 10.20%\n",
      "Cumulative Accuracy for pot-two-handles-shallow: 48.57%\n",
      "Cumulative Accuracy for pot-two-handles-small: 64.90%\n",
      "Cumulative Accuracy for saucepan: 100.00%\n",
      "\n",
      "Mean Top 3 Accuracy: 92.94%\n",
      "Mean Top 1 Accuracy: 70.59%\n",
      "Macro-averaged Accuracy: 72.80%\n",
      "Epoch 48 test loss: 21.828125\n",
      "\n",
      "[Test - End Epoch 49] GPU Memory: Allocated=2.30GB, Reserved=3.35GB\n",
      "Early stopping triggered after 49 epochs.\n"
     ]
    },
    {
     "name": "stderr",
     "output_type": "stream",
     "text": [
      "2025/01/16 09:21:20 INFO mlflow.tracking._tracking_service.client: 🏃 View run welcoming-donkey-668 at: company.cloud.databricks.com/ml/experiments/4179419294254064/runs/7c50a51d5a7b408ab7df60e1a1d5e170.\n",
      "2025/01/16 09:21:20 INFO mlflow.tracking._tracking_service.client: 🧪 View experiment at: company.cloud.databricks.com/ml/experiments/4179419294254064.\n",
      "2025/01/16 09:21:20 INFO mlflow.tracking._tracking_service.client: 🏃 View run lr_9e-06_wd_0 at: company.cloud.databricks.com/ml/experiments/4179419294254064/runs/0233292ae68b4111810fa64a48993ca9.\n",
      "2025/01/16 09:21:20 INFO mlflow.tracking._tracking_service.client: 🧪 View experiment at: company.cloud.databricks.com/ml/experiments/4179419294254064.\n"
     ]
    },
    {
     "name": "stdout",
     "output_type": "stream",
     "text": [
      "Run failed with lr=9e-06, wd=0: 'EarlyStopping' object has no attribute 'best_epoch'\n"
     ]
    }
   ],
   "source": [
    "grid_search = GridSearchTrainer()\n",
    "best_params = grid_search.run_grid_search()"
   ]
  },
  {
   "cell_type": "markdown",
   "metadata": {
    "application/vnd.databricks.v1+cell": {
     "cellMetadata": {},
     "inputWidgets": {},
     "nuid": "ab1e23fa-3ff4-4206-a479-a2ee6ad0c900",
     "showTitle": false,
     "tableResultSettingsMap": {},
     "title": ""
    }
   },
   "source": [
    "### Model Saving Utils\n",
    "Utilities for saving complete CLIP models with architecture and creating lightweight checkpoints for deployment.\n",
    "\n",
    "##### Complete Model Saving\n",
    "\n",
    "Saves the full model architecture, weights, and preprocessing pipeline.\n",
    "\n",
    "- When loading the complete model:\n",
    "\n",
    "```python\n",
    "# Load everything at once\n",
    "checkpoint = torch.load('complete_model.pth')\n",
    "model = checkpoint['model']\n",
    "preprocess = checkpoint['preprocess']\n",
    "model.eval()\n",
    "```\n",
    "\n",
    "##### Lightweight Model Saving\n",
    "\n",
    "Saves only essential model weights (model state dictionary) for lightweight deployments. Excludes the optimizer state dictionary (only useful for training) to minize file size.\n",
    "\n",
    "- When loading the model state dictionary:\n",
    "\n",
    "```python\n",
    "# Initialize model architecture first\n",
    "device = \"cuda:0\" if torch.cuda.is_available() else \"cpu\"\n",
    "model, preprocess = clip.load(\"ViT-B/32\", device=device, jit=False)\n",
    "if device == \"cpu\":\n",
    "    model.float()\n",
    "else:\n",
    "    clip.model.convert_weights(model)\n",
    "\n",
    "# Load state dict\n",
    "checkpoint = torch.load('best_model.pth')\n",
    "model.load_state_dict(checkpoint['model_state_dict'])\n",
    "model.eval()\n",
    "```\n",
    "\n"
   ]
  },
  {
   "cell_type": "code",
   "execution_count": 0,
   "metadata": {
    "application/vnd.databricks.v1+cell": {
     "cellMetadata": {},
     "inputWidgets": {},
     "nuid": "795da61d-c35d-4261-8be3-17fc93a0c24d",
     "showTitle": false,
     "tableResultSettingsMap": {},
     "title": ""
    }
   },
   "outputs": [],
   "source": [
    "# Complete Model Saving\n",
    "\n",
    "# Save complete model with architecture\n",
    "device = \"cuda:0\" if torch.cuda.is_available() else \"cpu\"\n",
    "\n",
    "# Load model\n",
    "model, preprocess = clip.load(\"ViT-B/32\", device=device, jit=False)\n",
    "if device == \"cpu\":\n",
    "    model.float()\n",
    "else:\n",
    "    clip.model.convert_weights(model)\n",
    "\n",
    "# Load the fine-tuned weights\n",
    "root_dir: str = \"<PATH>\"\n",
    "CHECKPOINT_SAVE_PATH = f\"{root_dir}recipe_classifier/checkpoints/2025_01_09/dataset_20dec_small/grid_search/lr_1e-05_wd_0/\"\n",
    "checkpoint_path = f\"{CHECKPOINT_SAVE_PATH}best_model.pth\"\n",
    "checkpoint = torch.load(checkpoint_path, map_location=device, weights_only=False)\n",
    "model.load_state_dict(checkpoint[\"model_state_dict\"])\n",
    "\n",
    "# Save complete model\n",
    "torch.save({\n",
    "    \"model\": model,\n",
    "    \"preprocess\": preprocess\n",
    "}, f\"{CHECKPOINT_SAVE_PATH}complete_best_model.pt\")"
   ]
  },
  {
   "cell_type": "code",
   "execution_count": 0,
   "metadata": {
    "application/vnd.databricks.v1+cell": {
     "cellMetadata": {
      "byteLimit": 2048000,
      "rowLimit": 10000
     },
     "inputWidgets": {},
     "nuid": "02a2b7bb-9530-49b0-a4e4-9a979633df18",
     "showTitle": false,
     "tableResultSettingsMap": {},
     "title": ""
    }
   },
   "outputs": [],
   "source": [
    "# Lightweight Model Saving\n",
    "\n",
    "# Convert complete model (including model_state_dict and optimizer_state_dict) to only include model_state_dict\n",
    "\n",
    "root_dir: str = \"<PATH>\"\n",
    "CHECKPOINT_SAVE_PATH = f\"{root_dir}recipe_classifier/checkpoints/2025_01_18/dataset_20dec/b32/\"\n",
    "checkpoint_path = f\"{CHECKPOINT_SAVE_PATH}best_model.pth\"\n",
    "\n",
    "checkpoint = torch.load(checkpoint_path)\n",
    "print(f\"Checkpoint keys:\\n\", checkpoint.keys())\n",
    "\n",
    "lightweight_checkpoint = {\n",
    "    \"epoch\": checkpoint[\"epoch\"],\n",
    "    \"model_state_dict\": checkpoint[\"model_state_dict\"],\n",
    "    \"metric\": checkpoint[\"metric\"],\n",
    "}\n",
    "\n",
    "torch.save(lightweight_checkpoint, f\"{CHECKPOINT_SAVE_PATH}lightweight_best_model.pt\")"
   ]
  },
  {
   "cell_type": "markdown",
   "metadata": {
    "application/vnd.databricks.v1+cell": {
     "cellMetadata": {},
     "inputWidgets": {},
     "nuid": "af6798c9-085f-4226-b4c1-d3919ff618b4",
     "showTitle": false,
     "tableResultSettingsMap": {},
     "title": ""
    }
   },
   "source": [
    "### Inference\n",
    "\n",
    "Run inference with a fine-tuned CLIP model."
   ]
  },
  {
   "cell_type": "code",
   "execution_count": 0,
   "metadata": {
    "application/vnd.databricks.v1+cell": {
     "cellMetadata": {
      "byteLimit": 2048000,
      "rowLimit": 10000
     },
     "inputWidgets": {},
     "nuid": "974ef03e-501a-4c3c-914e-444a70c0b635",
     "showTitle": false,
     "tableResultSettingsMap": {},
     "title": ""
    }
   },
   "outputs": [],
   "source": [
    "# ----------\n",
    "# Inference\n",
    "# ----------\n",
    "\n",
    "# 1. Model Setup\n",
    "#   - Set available device\n",
    "#   - Load base CLIP architecture\n",
    "#   - Load fine-tuned weights from checkpoint\n",
    "#   - Set model to evaluation mode\n",
    "\n",
    "device = \"cuda:0\" if torch.cuda.is_available() else \"cpu\"\n",
    "\n",
    "# Load model\n",
    "model, preprocess = clip.load(\"ViT-B/32\", device=device, jit=False)\n",
    "\n",
    "# Load the fine-tuned weights\n",
    "CHECKPOINT_SAVE_PATH = f\"{root_dir}recipe_classifier/checkpoints/2024_12_02/dataset_sample/\"\n",
    "checkpoint_path = f\"{CHECKPOINT_SAVE_PATH}best_model.pth\"\n",
    "checkpoint = torch.load(checkpoint_path, map_location=device, weights_only=False)\n",
    "model.load_state_dict(checkpoint[\"model_state_dict\"])\n",
    "model.eval()\n",
    "\n",
    "# 2. Image Processing\n",
    "#   - Load target image\n",
    "#   - Apply CLIP preprocessing transform\n",
    "#   - Add batch dimension and move to device\n",
    "\n",
    "# Load image\n",
    "image_path = f\"{root_dir}recipe_classifier/dataset/tests/test_group.jpg\"\n",
    "image = Image.open(image_path)\n",
    "\n",
    "# Preprocess image\n",
    "image = preprocess(image).unsqueeze(0).to(device)\n",
    "\n",
    "# 3. Text Prompt Generation\n",
    "#   - Define a list pof possible class keywords\n",
    "#   - Convert keywords to CLIP-style prompts (\"A photo of a {keyword}\")\n",
    "#   - Tokenize prompts for model input and move to device\n",
    "\n",
    "# Generate text prompt\n",
    "keywords = [\"pan\",\n",
    "    \"oven-dish\",\n",
    "    \"grill-plate\",\n",
    "    \"oven-tray\",\n",
    "    \"chopping-board\",\n",
    "    \"medium\", # chopping-board + medium\n",
    "    \"CP\", # chopping-board + CP\n",
    "    \"grill-tray\",\n",
    "    \"pot-two-handles-medium\",\n",
    "    \"pot-two-handles-small\",\n",
    "    \"pot-two-handles-shallow\",\n",
    "    \"pot-one-handle\",\n",
    "    #\"sauce-pan\",\n",
    "    \"saucepan\",\n",
    "    \"glass-bowl-large\",\n",
    "    \"glass-bowl-medium\",\n",
    "    \"glass-bowl-small\",\n",
    "    \"finalstep\",\n",
    "    \"group_step\",\n",
    "]\n",
    "text_prompts = [f\"A photo of a {keyword}\" for keyword in keywords]\n",
    "tokenized_text = clip.tokenize(text_prompts).to(device)\n",
    "\n",
    "# 4. Feature Extraction\n",
    "#   - Extract image features from preprocessed image\n",
    "#   - Extract text features from tokenized prompts\n",
    "#   - Normalizes both feature sets for comparison\n",
    "\n",
    "# Generate features\n",
    "with torch.no_grad():\n",
    "    image_features = model.encode_image(image)\n",
    "    image_features /= image_features.norm(dim=-1, keepdim=True) # Normalize features\n",
    "    \n",
    "    text_features = model.encode_text(tokenized_text)\n",
    "    text_features /= text_features.norm(dim=-1, keepdim=True) # Normalize features\n",
    "\n",
    "# 5. Prediction\n",
    "#   - Compute cosine similarity between image and text features\n",
    "#   - Apply softmax to get probability distribution\n",
    "#   - Get top prediction and probability\n",
    "#   - Map prediction index back to keyword\n",
    "\n",
    "# Compute cosine similarity\n",
    "similarity = (100.0 * image_features @ text_features.T).softmax(dim=-1)\n",
    "\n",
    "# Get predicted keyword\n",
    "predicted_prob, predicted_keyword_idx = similarity.topk(1, dim=-1)\n",
    "\n",
    "# Print prediction\n",
    "predicted_keyword = keywords[predicted_keyword_idx.item()]\n",
    "print(f\"Predicted keyword: {predicted_keyword} with probability {predicted_prob.item() * 100:.2f}%\")"
   ]
  },
  {
   "cell_type": "markdown",
   "metadata": {
    "application/vnd.databricks.v1+cell": {
     "cellMetadata": {},
     "inputWidgets": {},
     "nuid": "9b72e4ec-7a4b-421d-93af-68354072dd25",
     "showTitle": false,
     "tableResultSettingsMap": {},
     "title": ""
    }
   },
   "source": [
    "### MLflow Utils\n",
    "\n",
    "Utilities to perform operations in MLflow experiments and runs."
   ]
  },
  {
   "cell_type": "code",
   "execution_count": 0,
   "metadata": {
    "application/vnd.databricks.v1+cell": {
     "cellMetadata": {
      "byteLimit": 2048000,
      "rowLimit": 10000
     },
     "inputWidgets": {},
     "nuid": "54bbc15f-ac4a-41e8-bbed-4eb75e8e3bf0",
     "showTitle": false,
     "tableResultSettingsMap": {},
     "title": ""
    }
   },
   "outputs": [
    {
     "name": "stdout",
     "output_type": "stream",
     "text": [
      "No active runs found.\n"
     ]
    }
   ],
   "source": [
    "def print_active_runs():\n",
    "    \"\"\"Lists all currently active MLflow runs across experiments.\"\"\"\n",
    "    try:\n",
    "        active_runs = mlflow.search_runs(filter_string=\"attributes.status = 'RUNNING'\")\n",
    "        \n",
    "        if len(active_runs) == 0:\n",
    "            print(\"No active runs found.\")\n",
    "            return\n",
    "        \n",
    "        print(f\"\\nFound {len(active_runs)} active run(s):\")\n",
    "        print(\"-\" * 80)\n",
    "        \n",
    "        for idx, run in active_runs.iterrows():\n",
    "            experiment = mlflow.get_experiment(run.experiment_id)\n",
    "            experiment_name = experiment.name if experiment else \"Unknown\"\n",
    "            print(f\"Run {idx + 1}:\")\n",
    "            print(f\"Experiment Name: {experiment_name}\")\n",
    "            print(f\"Run ID: {run.run_id}\")\n",
    "            print(\"-\" * 80)\n",
    "            \n",
    "    except Exception as e:\n",
    "        print(f\"Error fetching active runs: {e}\")\n",
    "\n",
    "print_active_runs()"
   ]
  },
  {
   "cell_type": "code",
   "execution_count": 0,
   "metadata": {
    "application/vnd.databricks.v1+cell": {
     "cellMetadata": {
      "byteLimit": 2048000,
      "rowLimit": 10000
     },
     "inputWidgets": {},
     "nuid": "de00215e-3e12-4772-8ed5-3a13d00b28e3",
     "showTitle": false,
     "tableResultSettingsMap": {},
     "title": ""
    }
   },
   "outputs": [
    {
     "name": "stdout",
     "output_type": "stream",
     "text": [
      "No active runs to end.\n"
     ]
    }
   ],
   "source": [
    "import mlflow\n",
    "from mlflow.tracking import MlflowClient\n",
    "\n",
    "def end_active_runs():\n",
    "    \"\"\"Finds and terminates all active MLflow runs.\"\"\"\n",
    "    try:\n",
    "        client = MlflowClient()\n",
    "\n",
    "        # Search for active runs\n",
    "        active_runs = mlflow.search_runs(filter_string=\"attributes.status = 'RUNNING'\")\n",
    "        \n",
    "        if len(active_runs) == 0:\n",
    "            print(\"No active runs to end.\")\n",
    "            return\n",
    "        \n",
    "        print(f\"\\nFound {len(active_runs)} active run(s):\")\n",
    "        print(\"-\" * 80)\n",
    "        \n",
    "        # Iterate through each active run and end it\n",
    "        for idx, run in active_runs.iterrows():\n",
    "            experiment = mlflow.get_experiment(run.experiment_id)\n",
    "            experiment_name = experiment.name if experiment else \"Unknown\"\n",
    "            print(f\"Ending Run {idx + 1}:\")\n",
    "            print(f\"Experiment Name: {experiment_name}\")\n",
    "            print(f\"Run ID: {run.run_id}\")\n",
    "            \n",
    "            # End the run using the client\n",
    "            client.set_terminated(run_id=run.run_id, status=\"FINISHED\")\n",
    "            print(\"Run ended successfully.\")\n",
    "            print(\"-\" * 80)\n",
    "    \n",
    "    except Exception as e:\n",
    "        print(f\"Error ending active runs: {e}\")\n",
    "\n",
    "end_active_runs()"
   ]
  }
 ],
 "metadata": {
  "application/vnd.databricks.v1+notebook": {
   "computePreferences": null,
   "dashboards": [],
   "environmentMetadata": {
    "base_environment": "",
    "client": "1"
   },
   "language": "python",
   "notebookMetadata": {
    "pythonIndentUnit": 4
   },
   "notebookName": "RecipeClassifier Zero-Shot PoC v7 (GridSearch) [Clone - with val-test sets]",
   "widgets": {}
  },
  "language_info": {
   "name": "python"
  }
 },
 "nbformat": 4,
 "nbformat_minor": 0
}
